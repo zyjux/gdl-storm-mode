{
 "cells": [
  {
   "cell_type": "markdown",
   "id": "d43c4074-9d40-4773-bb9e-5b82768901bb",
   "metadata": {
    "tags": []
   },
   "source": [
    "## Imports"
   ]
  },
  {
   "cell_type": "code",
   "execution_count": 1,
   "id": "0742df0e-83c8-48e9-aaf5-39566a8df26d",
   "metadata": {},
   "outputs": [
    {
     "name": "stderr",
     "output_type": "stream",
     "text": [
      "2023-01-01 13:55:58.641134: I tensorflow/core/util/util.cc:169] oneDNN custom operations are on. You may see slightly different numerical results due to floating-point round-off errors from different computation orders. To turn them off, set the environment variable `TF_ENABLE_ONEDNN_OPTS=0`.\n"
     ]
    }
   ],
   "source": [
    "import tensorflow as tf\n",
    "from glob import glob\n",
    "from os.path import join\n",
    "from tensorflow.keras import layers, models\n",
    "import xarray as xr\n",
    "import pandas as pd\n",
    "from keras import backend as K\n",
    "import numpy as np\n",
    "import matplotlib.pyplot as plt\n",
    "import scipy.ndimage as nd\n",
    "import imports.GDL_layers as GDL_layers\n",
    "from imports.GDL_model import gdl_model\n",
    "from imports.GDL_model import CNN_model\n",
    "\n",
    "from sklearn.model_selection import GroupShuffleSplit\n",
    "from sklearn.preprocessing import StandardScaler"
   ]
  },
  {
   "cell_type": "markdown",
   "id": "13598ba8-c4a2-42c4-b264-ed58f86b7aa0",
   "metadata": {
    "tags": []
   },
   "source": [
    "## Load data"
   ]
  },
  {
   "cell_type": "code",
   "execution_count": 2,
   "id": "2e523f49-4ff4-46dc-a9e0-ee47457b82a2",
   "metadata": {},
   "outputs": [],
   "source": [
    "# Load data\n",
    "train_ds = xr.open_dataset(\"/glade/scratch/lverhoef/gdl_toy_ds/semifixed_train_data.nc\")\n",
    "validation_ds = xr.open_dataset(\"/glade/scratch/lverhoef/gdl_toy_ds/semifixed_validation_data.nc\")\n",
    "test_ds = xr.open_dataset(\"/glade/scratch/lverhoef/gdl_toy_ds/semifixed_test_data.nc\")"
   ]
  },
  {
   "cell_type": "code",
   "execution_count": 3,
   "id": "f7aa95f4-fe6f-4b24-8f84-8a6526177514",
   "metadata": {},
   "outputs": [],
   "source": [
    "input_train = train_ds['ellipse'].expand_dims(dim='channel', axis=-1)\n",
    "input_train['p'] = np.arange(input_train['p'].shape[0])\n",
    "output_train = train_ds[['maj_len', 'min_len']].to_array().transpose()\n",
    "output_train['p'] = np.arange(output_train['p'].shape[0])\n",
    "input_val = validation_ds['ellipse'].expand_dims(dim='channel', axis=-1)\n",
    "input_val['p'] = np.arange(input_val['p'].shape[0])\n",
    "output_val = validation_ds[['maj_len', 'min_len']].to_array().transpose()\n",
    "output_val['p'] = np.arange(output_val['p'].shape[0])\n",
    "input_test = test_ds['ellipse'].expand_dims(dim='channel', axis=-1)\n",
    "input_test['p'] = np.arange(input_test['p'].shape[0])\n",
    "output_test = test_ds[['maj_len', 'min_len']].to_array().transpose()\n",
    "output_test['p'] = np.arange(output_test['p'].shape[0])"
   ]
  },
  {
   "cell_type": "code",
   "execution_count": 4,
   "id": "dd58124f-95c2-4d01-b11a-a20cf5ac3083",
   "metadata": {},
   "outputs": [],
   "source": [
    "# Normalize the output data\n",
    "output_scale_stats = pd.DataFrame(index=range(output_train.shape[-1]), columns=[\"mean\", \"sd\"])\n",
    "output_scale_stats.loc[:, \"mean\"] = output_train.mean(dim=\"p\")\n",
    "output_scale_stats.loc[:, \"sd\"] = output_train.std(dim=\"p\")\n",
    "output_train_norm = xr.DataArray(coords=output_train.coords, dims=output_train.dims)\n",
    "output_val_norm = xr.DataArray(coords=output_val.coords, dims=output_val.dims)\n",
    "output_test_norm = xr.DataArray(coords=output_test.coords, dims=output_test.dims)\n",
    "for i in range(output_train.shape[-1]):\n",
    "    output_train_norm[:, i] = (output_train[:, i] - output_scale_stats.loc[i, \"mean\"]) / output_scale_stats.loc[i, \"sd\"]\n",
    "    output_val_norm[:, i] = (output_val[:, i] - output_scale_stats.loc[i, \"mean\"]) / output_scale_stats.loc[i, \"sd\"]\n",
    "    output_test_norm[:, i] = (output_test[:, i] - output_scale_stats.loc[i, \"mean\"]) / output_scale_stats.loc[i, \"sd\"]"
   ]
  },
  {
   "cell_type": "code",
   "execution_count": 5,
   "id": "3a8a0ac3-9312-4979-a240-71e49bb8d9c5",
   "metadata": {},
   "outputs": [],
   "source": [
    "def aug_da(da, concat_dim='p', rot=True):\n",
    "    length = da[concat_dim].shape[0]\n",
    "    aug_da = xr.concat([da]*4, dim=concat_dim)\n",
    "    if rot:\n",
    "        for k in range(4):\n",
    "            aug_da.values[k*length:(k+1)*length] = np.rot90(aug_da.values[k*length:(k+1)*length], axes=(1, 2), k=k)\n",
    "    aug_da[concat_dim] = np.arange(aug_da[concat_dim].shape[0])\n",
    "    return aug_da"
   ]
  },
  {
   "cell_type": "code",
   "execution_count": 6,
   "id": "7b6b4147-c89c-4987-8193-4cf9ca972aa1",
   "metadata": {},
   "outputs": [],
   "source": [
    "aug_input_train = aug_da(input_train)\n",
    "aug_output_train_norm = aug_da(output_train_norm, rot=False)"
   ]
  },
  {
   "cell_type": "markdown",
   "id": "c5354bbd-333d-49b6-a61d-53dc199ea1d0",
   "metadata": {
    "jp-MarkdownHeadingCollapsed": true,
    "tags": []
   },
   "source": [
    "## Train Models"
   ]
  },
  {
   "cell_type": "code",
   "execution_count": 7,
   "id": "b39239ee-ba4a-4fc9-8aa7-209ccf8fb51e",
   "metadata": {},
   "outputs": [],
   "source": [
    "model_params = {\n",
    "    'filters': [32, 32, 64, 64, 128],\n",
    "    'kernel_sizes': [3, 3, 3, 3, 3],\n",
    "    'conv_2d_activation': 'relu',\n",
    "    'pool_sizes': [2, 2, 2, 2, 1],\n",
    "    'dense_activation': 'relu',\n",
    "    'optimizer': 'nadam',\n",
    "    'metrics': [],\n",
    "    'verbose': 1,\n",
    "}"
   ]
  },
  {
   "cell_type": "code",
   "execution_count": 8,
   "id": "20af1106-35a3-4487-8eca-2c092ab35c96",
   "metadata": {},
   "outputs": [],
   "source": [
    "cnn_model = CNN_model(**model_params)\n",
    "aug_cnn_model = CNN_model(**model_params)\n",
    "ricnn_model = gdl_model(rot_inv=5, **model_params)"
   ]
  },
  {
   "cell_type": "code",
   "execution_count": 9,
   "id": "2409530c-9516-4e40-b618-ddaea0aa105f",
   "metadata": {
    "collapsed": true,
    "jupyter": {
     "outputs_hidden": true
    },
    "tags": []
   },
   "outputs": [
    {
     "name": "stderr",
     "output_type": "stream",
     "text": [
      "2022-12-22 11:38:06.975788: I tensorflow/core/platform/cpu_feature_guard.cc:193] This TensorFlow binary is optimized with oneAPI Deep Neural Network Library (oneDNN) to use the following CPU instructions in performance-critical operations:  AVX2 AVX512F FMA\n",
      "To enable them in other operations, rebuild TensorFlow with the appropriate compiler flags.\n",
      "2022-12-22 11:38:07.623117: I tensorflow/core/common_runtime/gpu/gpu_device.cc:1532] Created device /job:localhost/replica:0/task:0/device:GPU:0 with 30987 MB memory:  -> device: 0, name: Tesla V100-SXM2-32GB, pci bus id: 0000:89:00.0, compute capability: 7.0\n"
     ]
    },
    {
     "name": "stdout",
     "output_type": "stream",
     "text": [
      "WARNING:tensorflow:Keras is training/fitting/evaluating on array-like data. Keras may not be optimized for this format, so if your input data format is supported by TensorFlow I/O (https://github.com/tensorflow/io) we recommend using that to load a Dataset instead.\n",
      "Epoch 1/10\n"
     ]
    },
    {
     "name": "stderr",
     "output_type": "stream",
     "text": [
      "2022-12-22 11:38:09.470448: I tensorflow/stream_executor/cuda/cuda_dnn.cc:384] Loaded cuDNN version 8100\n"
     ]
    },
    {
     "name": "stdout",
     "output_type": "stream",
     "text": [
      "313/313 [==============================] - ETA: 0s - loss: 0.6889WARNING:tensorflow:Keras is training/fitting/evaluating on array-like data. Keras may not be optimized for this format, so if your input data format is supported by TensorFlow I/O (https://github.com/tensorflow/io) we recommend using that to load a Dataset instead.\n",
      "313/313 [==============================] - 7s 14ms/step - loss: 0.6889 - val_loss: 0.3032\n",
      "Epoch 2/10\n",
      "313/313 [==============================] - 4s 14ms/step - loss: 0.3043 - val_loss: 0.1693\n",
      "Epoch 3/10\n",
      "313/313 [==============================] - 4s 13ms/step - loss: 0.1276 - val_loss: 0.0501\n",
      "Epoch 4/10\n",
      "313/313 [==============================] - 4s 13ms/step - loss: 0.0597 - val_loss: 0.1185\n",
      "Epoch 5/10\n",
      "313/313 [==============================] - 4s 13ms/step - loss: 0.0442 - val_loss: 0.0423\n",
      "Epoch 6/10\n",
      "313/313 [==============================] - 4s 13ms/step - loss: 0.0341 - val_loss: 0.0170\n",
      "Epoch 7/10\n",
      "313/313 [==============================] - 4s 13ms/step - loss: 0.0296 - val_loss: 0.0143\n",
      "Epoch 8/10\n",
      "313/313 [==============================] - 5s 15ms/step - loss: 0.0253 - val_loss: 0.0150\n",
      "Epoch 9/10\n",
      "313/313 [==============================] - 4s 13ms/step - loss: 0.0224 - val_loss: 0.0133\n",
      "Epoch 10/10\n",
      "313/313 [==============================] - 4s 13ms/step - loss: 0.0205 - val_loss: 0.0158\n",
      "WARNING:tensorflow:Keras is training/fitting/evaluating on array-like data. Keras may not be optimized for this format, so if your input data format is supported by TensorFlow I/O (https://github.com/tensorflow/io) we recommend using that to load a Dataset instead.\n",
      "Epoch 1/10\n",
      "1250/1250 [==============================] - ETA: 0s - loss: 0.2963WARNING:tensorflow:Keras is training/fitting/evaluating on array-like data. Keras may not be optimized for this format, so if your input data format is supported by TensorFlow I/O (https://github.com/tensorflow/io) we recommend using that to load a Dataset instead.\n",
      "1250/1250 [==============================] - 17s 13ms/step - loss: 0.2963 - val_loss: 0.0428\n",
      "Epoch 2/10\n",
      "1250/1250 [==============================] - 16s 13ms/step - loss: 0.0419 - val_loss: 0.0339\n",
      "Epoch 3/10\n",
      "1250/1250 [==============================] - 16s 13ms/step - loss: 0.0251 - val_loss: 0.0156\n",
      "Epoch 4/10\n",
      "1250/1250 [==============================] - 17s 13ms/step - loss: 0.0180 - val_loss: 0.0162\n",
      "Epoch 5/10\n",
      "1250/1250 [==============================] - 16s 13ms/step - loss: 0.0145 - val_loss: 0.0126\n",
      "Epoch 6/10\n",
      "1250/1250 [==============================] - 16s 13ms/step - loss: 0.0118 - val_loss: 0.0096\n",
      "Epoch 7/10\n",
      "1250/1250 [==============================] - 16s 13ms/step - loss: 0.0099 - val_loss: 0.0118\n",
      "Epoch 8/10\n",
      "1250/1250 [==============================] - 17s 13ms/step - loss: 0.0089 - val_loss: 0.0069\n",
      "Epoch 9/10\n",
      "1250/1250 [==============================] - 16s 13ms/step - loss: 0.0078 - val_loss: 0.0068\n",
      "Epoch 10/10\n",
      "1250/1250 [==============================] - 16s 13ms/step - loss: 0.0071 - val_loss: 0.0059\n",
      "WARNING:tensorflow:Keras is training/fitting/evaluating on array-like data. Keras may not be optimized for this format, so if your input data format is supported by TensorFlow I/O (https://github.com/tensorflow/io) we recommend using that to load a Dataset instead.\n",
      "Epoch 1/10\n",
      "312/313 [============================>.] - ETA: 0s - loss: 0.5239WARNING:tensorflow:Keras is training/fitting/evaluating on array-like data. Keras may not be optimized for this format, so if your input data format is supported by TensorFlow I/O (https://github.com/tensorflow/io) we recommend using that to load a Dataset instead.\n",
      "313/313 [==============================] - 24s 61ms/step - loss: 0.5233 - val_loss: 0.1480\n",
      "Epoch 2/10\n",
      "313/313 [==============================] - 18s 58ms/step - loss: 0.0969 - val_loss: 0.0602\n",
      "Epoch 3/10\n",
      "313/313 [==============================] - 18s 58ms/step - loss: 0.0492 - val_loss: 0.0299\n",
      "Epoch 4/10\n",
      "313/313 [==============================] - 18s 58ms/step - loss: 0.0333 - val_loss: 0.0283\n",
      "Epoch 5/10\n",
      "313/313 [==============================] - 18s 59ms/step - loss: 0.0220 - val_loss: 0.0148\n",
      "Epoch 6/10\n",
      "313/313 [==============================] - 18s 58ms/step - loss: 0.0180 - val_loss: 0.0204\n",
      "Epoch 7/10\n",
      "313/313 [==============================] - 18s 58ms/step - loss: 0.0144 - val_loss: 0.0142\n",
      "Epoch 8/10\n",
      "313/313 [==============================] - 19s 60ms/step - loss: 0.0123 - val_loss: 0.0086\n",
      "Epoch 9/10\n",
      "313/313 [==============================] - 18s 58ms/step - loss: 0.0119 - val_loss: 0.0094\n",
      "Epoch 10/10\n",
      "313/313 [==============================] - 18s 58ms/step - loss: 0.0115 - val_loss: 0.0085\n"
     ]
    },
    {
     "data": {
      "text/plain": [
       "{'loss': [0.5232529640197754,\n",
       "  0.09692907333374023,\n",
       "  0.04923607409000397,\n",
       "  0.033330101519823074,\n",
       "  0.021965250372886658,\n",
       "  0.017985036596655846,\n",
       "  0.014375430531799793,\n",
       "  0.012312631122767925,\n",
       "  0.011933651752769947,\n",
       "  0.011503309942781925],\n",
       " 'val_loss': [0.1479538530111313,\n",
       "  0.060200076550245285,\n",
       "  0.029907818883657455,\n",
       "  0.028290923684835434,\n",
       "  0.014761658385396004,\n",
       "  0.020398998633027077,\n",
       "  0.014162625186145306,\n",
       "  0.008592268452048302,\n",
       "  0.00942892488092184,\n",
       "  0.008462905883789062]}"
      ]
     },
     "execution_count": 9,
     "metadata": {},
     "output_type": "execute_result"
    }
   ],
   "source": [
    "cnn_model.fit(input_train, output_train_norm, xv=input_val, yv=output_val_norm)\n",
    "aug_cnn_model.fit(aug_input_train, aug_output_train_norm, xv=input_val, yv=output_val_norm)\n",
    "ricnn_model.fit(input_train, output_train_norm, xv=input_val, yv=output_val_norm)"
   ]
  },
  {
   "cell_type": "code",
   "execution_count": 16,
   "id": "0a4b240c-f644-4222-bcc2-ae2026235c87",
   "metadata": {
    "collapsed": true,
    "jupyter": {
     "outputs_hidden": true
    },
    "tags": []
   },
   "outputs": [
    {
     "name": "stderr",
     "output_type": "stream",
     "text": [
      "WARNING:absl:Found untraced functions such as _jit_compiled_convolution_op, _jit_compiled_convolution_op, _jit_compiled_convolution_op, _jit_compiled_convolution_op, _jit_compiled_convolution_op while saving (showing 5 of 5). These functions will not be directly callable after loading.\n"
     ]
    },
    {
     "name": "stdout",
     "output_type": "stream",
     "text": [
      "INFO:tensorflow:Assets written to: saved_models/strict_vs_approx_inv/cnn_model/assets\n"
     ]
    },
    {
     "name": "stderr",
     "output_type": "stream",
     "text": [
      "INFO:tensorflow:Assets written to: saved_models/strict_vs_approx_inv/cnn_model/assets\n",
      "WARNING:absl:Found untraced functions such as _jit_compiled_convolution_op, _jit_compiled_convolution_op, _jit_compiled_convolution_op, _jit_compiled_convolution_op, _jit_compiled_convolution_op while saving (showing 5 of 5). These functions will not be directly callable after loading.\n"
     ]
    },
    {
     "name": "stdout",
     "output_type": "stream",
     "text": [
      "INFO:tensorflow:Assets written to: saved_models/strict_vs_approx_inv/aug_cnn_model/assets\n"
     ]
    },
    {
     "name": "stderr",
     "output_type": "stream",
     "text": [
      "INFO:tensorflow:Assets written to: saved_models/strict_vs_approx_inv/aug_cnn_model/assets\n"
     ]
    },
    {
     "name": "stdout",
     "output_type": "stream",
     "text": [
      "INFO:tensorflow:Assets written to: saved_models/strict_vs_approx_inv/ricnn_model/assets\n"
     ]
    },
    {
     "name": "stderr",
     "output_type": "stream",
     "text": [
      "INFO:tensorflow:Assets written to: saved_models/strict_vs_approx_inv/ricnn_model/assets\n"
     ]
    }
   ],
   "source": [
    "cnn_model.model.save(\"saved_models/strict_vs_approx_inv/cnn_model\")\n",
    "aug_cnn_model.model.save(\"saved_models/strict_vs_approx_inv/aug_cnn_model\")\n",
    "ricnn_model.model.save(\"saved_models/strict_vs_approx_inv/ricnn_model\")"
   ]
  },
  {
   "cell_type": "markdown",
   "id": "97cd4dc0-c2d4-4f47-9c92-9cd310762066",
   "metadata": {},
   "source": [
    "## Test Rotational Invariance"
   ]
  },
  {
   "cell_type": "code",
   "execution_count": 7,
   "id": "128576ae-0419-41d7-8944-1e503b32c0d4",
   "metadata": {},
   "outputs": [
    {
     "name": "stderr",
     "output_type": "stream",
     "text": [
      "2023-01-01 13:56:29.633816: E tensorflow/stream_executor/cuda/cuda_driver.cc:271] failed call to cuInit: CUDA_ERROR_NO_DEVICE: no CUDA-capable device is detected\n",
      "2023-01-01 13:56:29.633869: I tensorflow/stream_executor/cuda/cuda_diagnostics.cc:156] kernel driver does not appear to be running on this host (crhtc62): /proc/driver/nvidia/version does not exist\n",
      "2023-01-01 13:56:29.636798: I tensorflow/core/platform/cpu_feature_guard.cc:193] This TensorFlow binary is optimized with oneAPI Deep Neural Network Library (oneDNN) to use the following CPU instructions in performance-critical operations:  AVX2 AVX512F AVX512_VNNI FMA\n",
      "To enable them in other operations, rebuild TensorFlow with the appropriate compiler flags.\n"
     ]
    }
   ],
   "source": [
    "cnn_model = tf.keras.models.load_model(\"saved_models/strict_vs_approx_inv/cnn_model\")\n",
    "aug_cnn_model = tf.keras.models.load_model(\"saved_models/strict_vs_approx_inv/aug_cnn_model\")\n",
    "ricnn_model = tf.keras.models.load_model(\"saved_models/strict_vs_approx_inv/ricnn_model\")"
   ]
  },
  {
   "cell_type": "code",
   "execution_count": 8,
   "id": "e81bbe3f-3a82-4bda-8014-8ecd0804754a",
   "metadata": {},
   "outputs": [],
   "source": [
    "def un_norm(x, scale_stats):\n",
    "    new_x = np.empty(x.shape)\n",
    "    for i in range(new_x.shape[-1]):\n",
    "        new_x[:, i] = (x[:, i] * scale_stats.loc[i, \"sd\"]) + scale_stats.loc[i, \"mean\"]\n",
    "    return new_x"
   ]
  },
  {
   "cell_type": "code",
   "execution_count": 9,
   "id": "2442c714-9652-4450-94d7-767b28f9c2a7",
   "metadata": {},
   "outputs": [],
   "source": [
    "rng = np.random.default_rng()\n",
    "x = np.arange(0, 128)\n",
    "y = np.arange(0, 128)[:, None]"
   ]
  },
  {
   "cell_type": "code",
   "execution_count": 10,
   "id": "7c6088e1-d44f-4fc8-a0da-c0d1640f0899",
   "metadata": {},
   "outputs": [],
   "source": [
    "maj_len = 25 # rng.uniform(10.0, 40.0)\n",
    "min_len = 10 # rng.uniform(1.0, maj_len/1.5)\n",
    "rot_ang = np.pi/6 # rng.uniform(0, np.pi)\n",
    "dist = 30\n",
    "pos_angs = np.linspace(0, 2*np.pi, 365, endpoint=False)\n",
    "ellipses_raw = []\n",
    "for pos_ang in pos_angs:\n",
    "    (x0, y0) = (63 + dist*np.cos(-pos_ang), 63 + dist*np.sin(-pos_ang)) # rng.uniform(20.0, 108, 2)\n",
    "    ang = -rot_ang - pos_ang\n",
    "    ellipse = (\n",
    "        (((x - x0)*np.cos(ang) + (y - y0)*np.sin(ang)) / (maj_len/2))**2\n",
    "        + (((x - x0)*np.sin(ang) - (y - y0)*np.cos(ang)) / (min_len/2))**2\n",
    "        <= 1\n",
    "    )\n",
    "    ellipse = xr.DataArray(\n",
    "        np.exp(-0.1*nd.distance_transform_edt(1 - ellipse)),\n",
    "        dims=(\"x\", \"y\"),\n",
    "        coords={\"x\": x, \"y\": x}\n",
    "    )\n",
    "    ellipses_raw.append(ellipse.expand_dims(\"channel\", axis=-1))\n",
    "ellipses = xr.concat(ellipses_raw, dim=\"p\")"
   ]
  },
  {
   "cell_type": "code",
   "execution_count": 22,
   "id": "fc301981-eeae-4373-8ee5-87ea5e5691cd",
   "metadata": {},
   "outputs": [
    {
     "data": {
      "text/plain": [
       "<matplotlib.image.AxesImage at 0x2ab1e7972920>"
      ]
     },
     "execution_count": 22,
     "metadata": {},
     "output_type": "execute_result"
    },
    {
     "data": {
      "image/png": "[encoded data removed]",
      "text/plain": [
       "<Figure size 432x288 with 1 Axes>"
      ]
     },
     "metadata": {
      "needs_background": "light"
     },
     "output_type": "display_data"
    }
   ],
   "source": [
    "plt.imshow(ellipses[0, :, :, 0])"
   ]
  },
  {
   "cell_type": "code",
   "execution_count": 23,
   "id": "4ba5f533-bbf4-4248-bac0-4c4b471ea4d0",
   "metadata": {},
   "outputs": [
    {
     "data": {
      "text/plain": [
       "<matplotlib.image.AxesImage at 0x2ab2526a2b90>"
      ]
     },
     "execution_count": 23,
     "metadata": {},
     "output_type": "execute_result"
    },
    {
     "data": {
      "image/png": "[encoded data removed]",
      "text/plain": [
       "<Figure size 432x288 with 1 Axes>"
      ]
     },
     "metadata": {
      "needs_background": "light"
     },
     "output_type": "display_data"
    }
   ],
   "source": [
    "plt.imshow(ellipses[90, :, :, 0])"
   ]
  },
  {
   "cell_type": "code",
   "execution_count": 7,
   "id": "ef1ae044-ddd5-4d1a-a3ea-f380b9e9de2d",
   "metadata": {},
   "outputs": [
    {
     "name": "stdout",
     "output_type": "stream",
     "text": [
      "WARNING:tensorflow:Keras is training/fitting/evaluating on array-like data. Keras may not be optimized for this format, so if your input data format is supported by TensorFlow I/O (https://github.com/tensorflow/io) we recommend using that to load a Dataset instead.\n",
      "12/12 [==============================] - 1s 42ms/step\n",
      "WARNING:tensorflow:Keras is training/fitting/evaluating on array-like data. Keras may not be optimized for this format, so if your input data format is supported by TensorFlow I/O (https://github.com/tensorflow/io) we recommend using that to load a Dataset instead.\n",
      "12/12 [==============================] - 1s 40ms/step\n",
      "WARNING:tensorflow:Keras is training/fitting/evaluating on array-like data. Keras may not be optimized for this format, so if your input data format is supported by TensorFlow I/O (https://github.com/tensorflow/io) we recommend using that to load a Dataset instead.\n",
      "12/12 [==============================] - 6s 495ms/step\n"
     ]
    }
   ],
   "source": [
    "cnn_preds = cnn_model.predict(ellipses)\n",
    "aug_cnn_preds = aug_cnn_model.predict(ellipses)\n",
    "ricnn_preds = ricnn_model.predict(ellipses)"
   ]
  },
  {
   "cell_type": "code",
   "execution_count": 8,
   "id": "633e7714-1b6f-456c-9e07-e8363523b851",
   "metadata": {},
   "outputs": [
    {
     "name": "stdout",
     "output_type": "stream",
     "text": [
      "0.23513499\n",
      "0.0037851485\n",
      "0.0049686306\n"
     ]
    }
   ],
   "source": [
    "print(cnn_preds[:, 0].var())\n",
    "print(aug_cnn_preds[:, 0].var())\n",
    "print(ricnn_preds[:, 0].var())"
   ]
  },
  {
   "cell_type": "code",
   "execution_count": 9,
   "id": "5b6bdcd2-6109-407a-84c7-5957cf98fe2f",
   "metadata": {},
   "outputs": [
    {
     "name": "stdout",
     "output_type": "stream",
     "text": [
      "0.2414021\n",
      "0.0023072225\n",
      "0.002283389\n"
     ]
    }
   ],
   "source": [
    "print(cnn_preds[:, 1].var())\n",
    "print(aug_cnn_preds[:, 1].var())\n",
    "print(ricnn_preds[:, 1].var())"
   ]
  },
  {
   "cell_type": "code",
   "execution_count": 10,
   "id": "9cc28b70-644e-4740-817c-0c55b67aa668",
   "metadata": {},
   "outputs": [],
   "source": [
    "maj_len = 25 # rng.uniform(10.0, 40.0)\n",
    "min_len = 10 # rng.uniform(1.0, maj_len/1.5)\n",
    "rot_angs = np.linspace(0, 2*np.pi, 365, endpoint=False)\n",
    "dist = 30\n",
    "pos_ang = 0 \n",
    "ellipses_raw = []\n",
    "for rot_ang in rot_angs:\n",
    "    (x0, y0) = (63 + dist*np.cos(-pos_ang), 63 + dist*np.sin(-pos_ang)) # rng.uniform(20.0, 108, 2)\n",
    "    ang = -rot_ang - pos_ang\n",
    "    ellipse = (\n",
    "        (((x - x0)*np.cos(ang) + (y - y0)*np.sin(ang)) / (maj_len/2))**2\n",
    "        + (((x - x0)*np.sin(ang) - (y - y0)*np.cos(ang)) / (min_len/2))**2\n",
    "        <= 1\n",
    "    )\n",
    "    ellipse = xr.DataArray(\n",
    "        np.exp(-0.1*nd.distance_transform_edt(1 - ellipse)),\n",
    "        dims=(\"x\", \"y\"),\n",
    "        coords={\"x\": x, \"y\": x}\n",
    "    )\n",
    "    ellipses_raw.append(ellipse.expand_dims(\"channel\", axis=-1))\n",
    "ellipses = xr.concat(ellipses_raw, dim=\"p\")"
   ]
  },
  {
   "cell_type": "code",
   "execution_count": 18,
   "id": "2d6eec44-8f03-47d6-b25f-18413ec9047c",
   "metadata": {},
   "outputs": [
    {
     "data": {
      "text/plain": [
       "<matplotlib.image.AxesImage at 0x2ab1ff694d90>"
      ]
     },
     "execution_count": 18,
     "metadata": {},
     "output_type": "execute_result"
    },
    {
     "data": {
      "image/png": "[encoded data removed]",
      "text/plain": [
       "<Figure size 432x288 with 1 Axes>"
      ]
     },
     "metadata": {
      "needs_background": "light"
     },
     "output_type": "display_data"
    }
   ],
   "source": [
    "plt.imshow(ellipses[120, :, :, 0])"
   ]
  },
  {
   "cell_type": "code",
   "execution_count": 20,
   "id": "80d2729e-f57a-4701-9c49-efc766c89dfc",
   "metadata": {},
   "outputs": [
    {
     "data": {
      "text/plain": [
       "<matplotlib.image.AxesImage at 0x2ab2525dca00>"
      ]
     },
     "execution_count": 20,
     "metadata": {},
     "output_type": "execute_result"
    },
    {
     "data": {
      "image/png": "[encoded data removed]",
      "text/plain": [
       "<Figure size 432x288 with 1 Axes>"
      ]
     },
     "metadata": {
      "needs_background": "light"
     },
     "output_type": "display_data"
    }
   ],
   "source": [
    "plt.imshow(ellipses[30, :, :, 0])"
   ]
  },
  {
   "cell_type": "code",
   "execution_count": 13,
   "id": "6799fcbc-9adf-4705-a408-9ba783496792",
   "metadata": {},
   "outputs": [
    {
     "name": "stdout",
     "output_type": "stream",
     "text": [
      "WARNING:tensorflow:Keras is training/fitting/evaluating on array-like data. Keras may not be optimized for this format, so if your input data format is supported by TensorFlow I/O (https://github.com/tensorflow/io) we recommend using that to load a Dataset instead.\n",
      "12/12 [==============================] - 0s 40ms/step\n",
      "WARNING:tensorflow:Keras is training/fitting/evaluating on array-like data. Keras may not be optimized for this format, so if your input data format is supported by TensorFlow I/O (https://github.com/tensorflow/io) we recommend using that to load a Dataset instead.\n",
      "12/12 [==============================] - 0s 39ms/step\n",
      "WARNING:tensorflow:Keras is training/fitting/evaluating on array-like data. Keras may not be optimized for this format, so if your input data format is supported by TensorFlow I/O (https://github.com/tensorflow/io) we recommend using that to load a Dataset instead.\n",
      "12/12 [==============================] - 6s 468ms/step\n"
     ]
    }
   ],
   "source": [
    "cnn_preds = cnn_model.predict(ellipses)\n",
    "aug_cnn_preds = aug_cnn_model.predict(ellipses)\n",
    "ricnn_preds = ricnn_model.predict(ellipses)"
   ]
  },
  {
   "cell_type": "code",
   "execution_count": 15,
   "id": "ca98c359-021a-4b20-8c55-705e3d301ba4",
   "metadata": {},
   "outputs": [
    {
     "name": "stdout",
     "output_type": "stream",
     "text": [
      "0.20886432\n",
      "0.0027709869\n",
      "0.00407316\n"
     ]
    }
   ],
   "source": [
    "print(cnn_preds[:, 0].var())\n",
    "print(aug_cnn_preds[:, 0].var())\n",
    "print(ricnn_preds[:, 0].var())"
   ]
  },
  {
   "cell_type": "code",
   "execution_count": 14,
   "id": "0b588f42-c395-4469-993e-c18a07a2a824",
   "metadata": {},
   "outputs": [
    {
     "name": "stdout",
     "output_type": "stream",
     "text": [
      "0.31524417\n",
      "0.0027688157\n",
      "0.002166086\n"
     ]
    }
   ],
   "source": [
    "print(cnn_preds[:, 1].var())\n",
    "print(aug_cnn_preds[:, 1].var())\n",
    "print(ricnn_preds[:, 1].var())"
   ]
  },
  {
   "cell_type": "code",
   "execution_count": 11,
   "id": "b1bcf13c-8b35-4e38-af40-71a8b7f3d82d",
   "metadata": {},
   "outputs": [],
   "source": [
    "base_image = ellipses[0:1].values"
   ]
  },
  {
   "cell_type": "code",
   "execution_count": 12,
   "id": "2bf251ce-3763-46ba-88d7-77f429fd3777",
   "metadata": {},
   "outputs": [],
   "source": [
    "rot_image = np.rot90(base_image, axes=(1, 2), k=1)"
   ]
  },
  {
   "cell_type": "code",
   "execution_count": 13,
   "id": "57f6622a-4b4a-41d6-8517-5ac2c169b6d2",
   "metadata": {},
   "outputs": [
    {
     "name": "stdout",
     "output_type": "stream",
     "text": [
      "1/1 [==============================] - 0s 199ms/step\n",
      "[[24.57552719 10.42027283]]\n",
      "1/1 [==============================] - 0s 17ms/step\n",
      "[[25.44377518 10.00481415]]\n",
      "1/1 [==============================] - 0s 247ms/step\n",
      "[[23.98227692  9.85518742]]\n",
      "1/1 [==============================] - 0s 28ms/step\n",
      "[[23.98227692  9.85518742]]\n"
     ]
    }
   ],
   "source": [
    "print(un_norm(aug_cnn_model.predict(base_image), output_scale_stats))\n",
    "print(un_norm(aug_cnn_model.predict(rot_image), output_scale_stats))\n",
    "print(un_norm(ricnn_model.predict(base_image), output_scale_stats))\n",
    "print(un_norm(ricnn_model.predict(rot_image), output_scale_stats))"
   ]
  },
  {
   "cell_type": "code",
   "execution_count": 15,
   "id": "f9b5267f-fa15-46fa-929b-065d7b397bed",
   "metadata": {},
   "outputs": [
    {
     "name": "stdout",
     "output_type": "stream",
     "text": [
      "1/1 [==============================] - 0s 27ms/step\n"
     ]
    },
    {
     "data": {
      "text/plain": [
       "array([[-0.06312828,  0.29384595]], dtype=float32)"
      ]
     },
     "execution_count": 15,
     "metadata": {},
     "output_type": "execute_result"
    }
   ],
   "source": [
    "aug_cnn_model.predict(base_image)"
   ]
  },
  {
   "cell_type": "code",
   "execution_count": null,
   "id": "9cd42279-16ea-435f-9d50-26b4645fc220",
   "metadata": {},
   "outputs": [],
   "source": []
  }
 ],
 "metadata": {
  "kernelspec": {
   "display_name": "Python [conda env:.conda-storm-mode]",
   "language": "python",
   "name": "conda-env-.conda-storm-mode-py"
  },
  "language_info": {
   "codemirror_mode": {
    "name": "ipython",
    "version": 3
   },
   "file_extension": ".py",
   "mimetype": "text/x-python",
   "name": "python",
   "nbconvert_exporter": "python",
   "pygments_lexer": "ipython3",
   "version": "3.10.4"
  }
 },
 "nbformat": 4,
 "nbformat_minor": 5
}
