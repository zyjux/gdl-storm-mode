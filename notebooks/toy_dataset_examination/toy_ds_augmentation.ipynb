{
 "cells": [
  {
   "cell_type": "code",
   "execution_count": 1,
   "id": "db804398-de62-47f8-a25f-94b30aa74f5c",
   "metadata": {},
   "outputs": [
    {
     "name": "stderr",
     "output_type": "stream",
     "text": [
      "2022-08-29 10:31:09.848085: I tensorflow/core/util/util.cc:169] oneDNN custom operations are on. You may see slightly different numerical results due to floating-point round-off errors from different computation orders. To turn them off, set the environment variable `TF_ENABLE_ONEDNN_OPTS=0`.\n"
     ]
    }
   ],
   "source": [
    "import tensorflow as tf\n",
    "from tensorflow.keras import layers, models\n",
    "import xarray as xr\n",
    "import numpy as np\n",
    "import pandas as pd\n",
    "import matplotlib.pyplot as plt\n",
    "import sys\n",
    "import os\n",
    "sys.path.append(os.path.abspath(\"/glade/u/home/lverhoef/gdl-storm-mode/notebooks\"))\n",
    "from imports.GDL_layers import *"
   ]
  },
  {
   "cell_type": "code",
   "execution_count": 2,
   "id": "205f17d2-7aa6-4fb1-b86d-7cfcbc896034",
   "metadata": {},
   "outputs": [],
   "source": [
    "# Load data\n",
    "train_ds = xr.open_dataset(\"/glade/scratch/lverhoef/gdl_toy_ds/semifixed_train_data.nc\")\n",
    "validation_ds = xr.open_dataset(\"/glade/scratch/lverhoef/gdl_toy_ds/semifixed_validation_data.nc\")\n",
    "test_ds = xr.open_dataset(\"/glade/scratch/lverhoef/gdl_toy_ds/semifixed_test_data.nc\")"
   ]
  },
  {
   "cell_type": "code",
   "execution_count": 3,
   "id": "605b0b66-1f7f-454f-9e15-cd987baaf98c",
   "metadata": {},
   "outputs": [],
   "source": [
    "X_train = train_ds['ellipse'].expand_dims(dim='channel', axis=-1)\n",
    "X_train['p'] = np.arange(X_train['p'].shape[0])\n",
    "Y_train = train_ds[['maj_len', 'min_len']].to_array().transpose()\n",
    "Y_train['p'] = np.arange(Y_train['p'].shape[0])\n",
    "X_val = validation_ds['ellipse'].expand_dims(dim='channel', axis=-1)\n",
    "X_val['p'] = np.arange(X_val['p'].shape[0])\n",
    "Y_val = validation_ds[['maj_len', 'min_len']].to_array().transpose()\n",
    "Y_val['p'] = np.arange(Y_val['p'].shape[0])\n",
    "X_test = test_ds['ellipse'].expand_dims(dim='channel', axis=-1)\n",
    "X_test['p'] = np.arange(X_test['p'].shape[0])\n",
    "Y_test = test_ds[['maj_len', 'min_len']].to_array().transpose()\n",
    "Y_test['p'] = np.arange(Y_test['p'].shape[0])"
   ]
  },
  {
   "cell_type": "code",
   "execution_count": 4,
   "id": "876a1f34-73c1-4592-8834-80cd0c83d4a1",
   "metadata": {},
   "outputs": [
    {
     "data": {
      "text/plain": [
       "(10000,)"
      ]
     },
     "execution_count": 4,
     "metadata": {},
     "output_type": "execute_result"
    }
   ],
   "source": [
    "X_train['p'].shape"
   ]
  },
  {
   "cell_type": "code",
   "execution_count": 4,
   "id": "902f3ad9-e11d-4fbe-b133-0b77324a8756",
   "metadata": {},
   "outputs": [],
   "source": [
    "def aug_da(da, concat_dim='p', rot=True):\n",
    "    length = da[concat_dim].shape[0]\n",
    "    aug_da = xr.concat([da]*4, dim=concat_dim)\n",
    "    if rot:\n",
    "        for k in range(4):\n",
    "            aug_da.values[k*length:(k+1)*length] = np.rot90(aug_da.values[k*length:(k+1)*length], axes=(1, 2), k=k)\n",
    "    aug_da[concat_dim] = np.arange(aug_da[concat_dim].shape[0])\n",
    "    return aug_da"
   ]
  },
  {
   "cell_type": "code",
   "execution_count": 5,
   "id": "4e855ca8-178e-4917-a89a-b35f40c59eb5",
   "metadata": {},
   "outputs": [],
   "source": [
    "aug_X_train = aug_da(X_train)\n",
    "aug_Y_train = aug_da(Y_train, rot=False)"
   ]
  },
  {
   "cell_type": "code",
   "execution_count": 6,
   "id": "7e14f4da-7fc6-47c5-a236-9a92e25c9571",
   "metadata": {},
   "outputs": [],
   "source": [
    "# Normalize the output data\n",
    "Y_scale_stats = pd.DataFrame(index=range(Y_train.shape[-1]), columns=[\"mean\", \"sd\"])\n",
    "Y_scale_stats.loc[:, \"mean\"] = Y_train.mean(dim=\"p\")\n",
    "Y_scale_stats.loc[:, \"sd\"] = Y_train.std(dim=\"p\")\n",
    "Y_train_norm = xr.DataArray(coords=Y_train.coords, dims=Y_train.dims)\n",
    "aug_Y_train_norm = xr.DataArray(coords=aug_Y_train.coords, dims=aug_Y_train.dims)\n",
    "Y_val_norm = xr.DataArray(coords=Y_val.coords, dims=Y_val.dims)\n",
    "Y_test_norm = xr.DataArray(coords=Y_test.coords, dims=Y_test.dims)\n",
    "for i in range(Y_train.shape[-1]):\n",
    "    Y_train_norm[:, i] = (Y_train[:, i] - Y_scale_stats.loc[i, \"mean\"]) / Y_scale_stats.loc[i, \"sd\"]\n",
    "    aug_Y_train_norm[:, i] = (aug_Y_train[:, i] - Y_scale_stats.loc[i, \"mean\"]) / Y_scale_stats.loc[i, \"sd\"]\n",
    "    Y_val_norm[:, i] = (Y_val[:, i] - Y_scale_stats.loc[i, \"mean\"]) / Y_scale_stats.loc[i, \"sd\"]\n",
    "    Y_test_norm[:, i] = (Y_test[:, i] - Y_scale_stats.loc[i, \"mean\"]) / Y_scale_stats.loc[i, \"sd\"]"
   ]
  },
  {
   "cell_type": "code",
   "execution_count": 8,
   "id": "f9768433-51ab-42c9-8ff6-401690cb0c7b",
   "metadata": {},
   "outputs": [
    {
     "name": "stderr",
     "output_type": "stream",
     "text": [
      "2022-08-28 14:05:28.382418: I tensorflow/core/platform/cpu_feature_guard.cc:193] This TensorFlow binary is optimized with oneAPI Deep Neural Network Library (oneDNN) to use the following CPU instructions in performance-critical operations:  AVX2 AVX512F AVX512_VNNI FMA\n",
      "To enable them in other operations, rebuild TensorFlow with the appropriate compiler flags.\n",
      "2022-08-28 14:05:31.334843: I tensorflow/core/common_runtime/gpu/gpu_device.cc:1532] Created device /job:localhost/replica:0/task:0/device:GPU:0 with 30987 MB memory:  -> device: 0, name: Tesla V100-SXM2-32GB, pci bus id: 0000:1b:00.0, compute capability: 7.0\n"
     ]
    }
   ],
   "source": [
    "ricnn_model = models.Sequential()\n",
    "ricnn_model.add(RotEquivConv2D(32, (3, 3), rot_axis=False, input_shape=(128, 128, 1)))\n",
    "ricnn_model.add(RotEquivPool2D((2, 2)))\n",
    "ricnn_model.add(RotEquivConv2D(32, (3, 3)))\n",
    "ricnn_model.add(RotEquivPool2D((2, 2)))\n",
    "ricnn_model.add(RotEquivConv2D(64, (3, 3)))\n",
    "ricnn_model.add(RotEquivPool2D((2, 2)))\n",
    "ricnn_model.add(RotEquivConv2D(64, (3, 3)))\n",
    "ricnn_model.add(RotEquivPool2D((2, 2)))\n",
    "ricnn_model.add(RotEquivConv2D(128, (3, 3)))\n",
    "ricnn_model.add(layers.MaxPool3D((1, 1, 4)))\n",
    "# ricnn_model.add(RotInvPool())\n",
    "ricnn_model.add(layers.Flatten())\n",
    "ricnn_model.add(layers.Dense(32))\n",
    "ricnn_model.add(layers.Dense(2))"
   ]
  },
  {
   "cell_type": "code",
   "execution_count": 9,
   "id": "7c2d9783-b18d-444e-8811-2d33830b837c",
   "metadata": {},
   "outputs": [],
   "source": [
    "ricnn_model.compile(\n",
    "    optimizer='adam',\n",
    "    loss='mse',\n",
    ")"
   ]
  },
  {
   "cell_type": "code",
   "execution_count": 10,
   "id": "21f6eec7-4fea-4c4a-8504-632fe734f073",
   "metadata": {
    "tags": []
   },
   "outputs": [
    {
     "name": "stdout",
     "output_type": "stream",
     "text": [
      "Model: \"sequential\"\n",
      "_________________________________________________________________\n",
      " Layer (type)                Output Shape              Param #   \n",
      "=================================================================\n",
      " rot_equiv_conv2d (RotEquivC  (None, 126, 126, 4, 32)  320       \n",
      " onv2D)                                                          \n",
      "                                                                 \n",
      " rot_equiv_pool2d (RotEquivP  (None, 63, 63, 4, 32)    0         \n",
      " ool2D)                                                          \n",
      "                                                                 \n",
      " rot_equiv_conv2d_1 (RotEqui  (None, 61, 61, 4, 32)    9248      \n",
      " vConv2D)                                                        \n",
      "                                                                 \n",
      " rot_equiv_pool2d_1 (RotEqui  (None, 30, 30, 4, 32)    0         \n",
      " vPool2D)                                                        \n",
      "                                                                 \n",
      " rot_equiv_conv2d_2 (RotEqui  (None, 28, 28, 4, 64)    18496     \n",
      " vConv2D)                                                        \n",
      "                                                                 \n",
      " rot_equiv_pool2d_2 (RotEqui  (None, 14, 14, 4, 64)    0         \n",
      " vPool2D)                                                        \n",
      "                                                                 \n",
      " rot_equiv_conv2d_3 (RotEqui  (None, 12, 12, 4, 64)    36928     \n",
      " vConv2D)                                                        \n",
      "                                                                 \n",
      " rot_equiv_pool2d_3 (RotEqui  (None, 6, 6, 4, 64)      0         \n",
      " vPool2D)                                                        \n",
      "                                                                 \n",
      " rot_equiv_conv2d_4 (RotEqui  (None, 4, 4, 4, 128)     73856     \n",
      " vConv2D)                                                        \n",
      "                                                                 \n",
      " max_pooling3d (MaxPooling3D  (None, 4, 4, 1, 128)     0         \n",
      " )                                                               \n",
      "                                                                 \n",
      " flatten (Flatten)           (None, 2048)              0         \n",
      "                                                                 \n",
      " dense (Dense)               (None, 32)                65568     \n",
      "                                                                 \n",
      " dense_1 (Dense)             (None, 2)                 66        \n",
      "                                                                 \n",
      "=================================================================\n",
      "Total params: 204,482\n",
      "Trainable params: 204,482\n",
      "Non-trainable params: 0\n",
      "_________________________________________________________________\n"
     ]
    }
   ],
   "source": [
    "ricnn_model.summary()"
   ]
  },
  {
   "cell_type": "code",
   "execution_count": 11,
   "id": "f5ee1d58-39f3-49e4-a1f0-2819cf7587ab",
   "metadata": {},
   "outputs": [
    {
     "name": "stdout",
     "output_type": "stream",
     "text": [
      "WARNING:tensorflow:Keras is training/fitting/evaluating on array-like data. Keras may not be optimized for this format, so if your input data format is supported by TensorFlow I/O (https://github.com/tensorflow/io) we recommend using that to load a Dataset instead.\n",
      "Epoch 1/10\n"
     ]
    },
    {
     "name": "stderr",
     "output_type": "stream",
     "text": [
      "2022-08-28 14:05:40.325359: I tensorflow/stream_executor/cuda/cuda_dnn.cc:384] Loaded cuDNN version 8100\n"
     ]
    },
    {
     "name": "stdout",
     "output_type": "stream",
     "text": [
      "313/313 [==============================] - ETA: 0s - loss: 0.3707WARNING:tensorflow:Keras is training/fitting/evaluating on array-like data. Keras may not be optimized for this format, so if your input data format is supported by TensorFlow I/O (https://github.com/tensorflow/io) we recommend using that to load a Dataset instead.\n",
      "313/313 [==============================] - 36s 63ms/step - loss: 0.3707 - val_loss: 0.1554\n",
      "Epoch 2/10\n",
      "313/313 [==============================] - 18s 58ms/step - loss: 0.0764 - val_loss: 0.0363\n",
      "Epoch 3/10\n",
      "313/313 [==============================] - 18s 58ms/step - loss: 0.0244 - val_loss: 0.0214\n",
      "Epoch 4/10\n",
      "313/313 [==============================] - 18s 58ms/step - loss: 0.0191 - val_loss: 0.0122\n",
      "Epoch 5/10\n",
      "313/313 [==============================] - 18s 59ms/step - loss: 0.0146 - val_loss: 0.0137\n",
      "Epoch 6/10\n",
      "313/313 [==============================] - 18s 58ms/step - loss: 0.0140 - val_loss: 0.0084\n",
      "Epoch 7/10\n",
      "313/313 [==============================] - 18s 58ms/step - loss: 0.0135 - val_loss: 0.0171\n",
      "Epoch 8/10\n",
      "313/313 [==============================] - 18s 57ms/step - loss: 0.0129 - val_loss: 0.0071\n",
      "Epoch 9/10\n",
      "313/313 [==============================] - 18s 58ms/step - loss: 0.0115 - val_loss: 0.0080\n",
      "Epoch 10/10\n",
      "313/313 [==============================] - 18s 58ms/step - loss: 0.0111 - val_loss: 0.0110\n"
     ]
    }
   ],
   "source": [
    "ricnn_history = ricnn_model.fit(\n",
    "    x=X_train, y=Y_train_norm,\n",
    "    epochs=10, validation_data=(X_val, Y_val_norm),\n",
    "    shuffle=True\n",
    ")"
   ]
  },
  {
   "cell_type": "code",
   "execution_count": 9,
   "id": "f9a01fd0-765f-4b36-a5f3-184f169468e1",
   "metadata": {},
   "outputs": [
    {
     "data": {
      "text/html": [
       "<div><svg style=\"position: absolute; width: 0; height: 0; overflow: hidden\">\n",
       "<defs>\n",
       "<symbol id=\"icon-database\" viewBox=\"0 0 32 32\">\n",
       "<path d=\"M16 0c-8.837 0-16 2.239-16 5v4c0 2.761 7.163 5 16 5s16-2.239 16-5v-4c0-2.761-7.163-5-16-5z\"></path>\n",
       "<path d=\"M16 17c-8.837 0-16-2.239-16-5v6c0 2.761 7.163 5 16 5s16-2.239 16-5v-6c0 2.761-7.163 5-16 5z\"></path>\n",
       "<path d=\"M16 26c-8.837 0-16-2.239-16-5v6c0 2.761 7.163 5 16 5s16-2.239 16-5v-6c0 2.761-7.163 5-16 5z\"></path>\n",
       "</symbol>\n",
       "<symbol id=\"icon-file-text2\" viewBox=\"0 0 32 32\">\n",
       "<path d=\"M28.681 7.159c-0.694-0.947-1.662-2.053-2.724-3.116s-2.169-2.030-3.116-2.724c-1.612-1.182-2.393-1.319-2.841-1.319h-15.5c-1.378 0-2.5 1.121-2.5 2.5v27c0 1.378 1.122 2.5 2.5 2.5h23c1.378 0 2.5-1.122 2.5-2.5v-19.5c0-0.448-0.137-1.23-1.319-2.841zM24.543 5.457c0.959 0.959 1.712 1.825 2.268 2.543h-4.811v-4.811c0.718 0.556 1.584 1.309 2.543 2.268zM28 29.5c0 0.271-0.229 0.5-0.5 0.5h-23c-0.271 0-0.5-0.229-0.5-0.5v-27c0-0.271 0.229-0.5 0.5-0.5 0 0 15.499-0 15.5 0v7c0 0.552 0.448 1 1 1h7v19.5z\"></path>\n",
       "<path d=\"M23 26h-14c-0.552 0-1-0.448-1-1s0.448-1 1-1h14c0.552 0 1 0.448 1 1s-0.448 1-1 1z\"></path>\n",
       "<path d=\"M23 22h-14c-0.552 0-1-0.448-1-1s0.448-1 1-1h14c0.552 0 1 0.448 1 1s-0.448 1-1 1z\"></path>\n",
       "<path d=\"M23 18h-14c-0.552 0-1-0.448-1-1s0.448-1 1-1h14c0.552 0 1 0.448 1 1s-0.448 1-1 1z\"></path>\n",
       "</symbol>\n",
       "</defs>\n",
       "</svg>\n",
       "<style>/* CSS stylesheet for displaying xarray objects in jupyterlab.\n",
       " *\n",
       " */\n",
       "\n",
       ":root {\n",
       "  --xr-font-color0: var(--jp-content-font-color0, rgba(0, 0, 0, 1));\n",
       "  --xr-font-color2: var(--jp-content-font-color2, rgba(0, 0, 0, 0.54));\n",
       "  --xr-font-color3: var(--jp-content-font-color3, rgba(0, 0, 0, 0.38));\n",
       "  --xr-border-color: var(--jp-border-color2, #e0e0e0);\n",
       "  --xr-disabled-color: var(--jp-layout-color3, #bdbdbd);\n",
       "  --xr-background-color: var(--jp-layout-color0, white);\n",
       "  --xr-background-color-row-even: var(--jp-layout-color1, white);\n",
       "  --xr-background-color-row-odd: var(--jp-layout-color2, #eeeeee);\n",
       "}\n",
       "\n",
       "html[theme=dark],\n",
       "body.vscode-dark {\n",
       "  --xr-font-color0: rgba(255, 255, 255, 1);\n",
       "  --xr-font-color2: rgba(255, 255, 255, 0.54);\n",
       "  --xr-font-color3: rgba(255, 255, 255, 0.38);\n",
       "  --xr-border-color: #1F1F1F;\n",
       "  --xr-disabled-color: #515151;\n",
       "  --xr-background-color: #111111;\n",
       "  --xr-background-color-row-even: #111111;\n",
       "  --xr-background-color-row-odd: #313131;\n",
       "}\n",
       "\n",
       ".xr-wrap {\n",
       "  display: block;\n",
       "  min-width: 300px;\n",
       "  max-width: 700px;\n",
       "}\n",
       "\n",
       ".xr-text-repr-fallback {\n",
       "  /* fallback to plain text repr when CSS is not injected (untrusted notebook) */\n",
       "  display: none;\n",
       "}\n",
       "\n",
       ".xr-header {\n",
       "  padding-top: 6px;\n",
       "  padding-bottom: 6px;\n",
       "  margin-bottom: 4px;\n",
       "  border-bottom: solid 1px var(--xr-border-color);\n",
       "}\n",
       "\n",
       ".xr-header > div,\n",
       ".xr-header > ul {\n",
       "  display: inline;\n",
       "  margin-top: 0;\n",
       "  margin-bottom: 0;\n",
       "}\n",
       "\n",
       ".xr-obj-type,\n",
       ".xr-array-name {\n",
       "  margin-left: 2px;\n",
       "  margin-right: 10px;\n",
       "}\n",
       "\n",
       ".xr-obj-type {\n",
       "  color: var(--xr-font-color2);\n",
       "}\n",
       "\n",
       ".xr-sections {\n",
       "  padding-left: 0 !important;\n",
       "  display: grid;\n",
       "  grid-template-columns: 150px auto auto 1fr 20px 20px;\n",
       "}\n",
       "\n",
       ".xr-section-item {\n",
       "  display: contents;\n",
       "}\n",
       "\n",
       ".xr-section-item input {\n",
       "  display: none;\n",
       "}\n",
       "\n",
       ".xr-section-item input + label {\n",
       "  color: var(--xr-disabled-color);\n",
       "}\n",
       "\n",
       ".xr-section-item input:enabled + label {\n",
       "  cursor: pointer;\n",
       "  color: var(--xr-font-color2);\n",
       "}\n",
       "\n",
       ".xr-section-item input:enabled + label:hover {\n",
       "  color: var(--xr-font-color0);\n",
       "}\n",
       "\n",
       ".xr-section-summary {\n",
       "  grid-column: 1;\n",
       "  color: var(--xr-font-color2);\n",
       "  font-weight: 500;\n",
       "}\n",
       "\n",
       ".xr-section-summary > span {\n",
       "  display: inline-block;\n",
       "  padding-left: 0.5em;\n",
       "}\n",
       "\n",
       ".xr-section-summary-in:disabled + label {\n",
       "  color: var(--xr-font-color2);\n",
       "}\n",
       "\n",
       ".xr-section-summary-in + label:before {\n",
       "  display: inline-block;\n",
       "  content: '►';\n",
       "  font-size: 11px;\n",
       "  width: 15px;\n",
       "  text-align: center;\n",
       "}\n",
       "\n",
       ".xr-section-summary-in:disabled + label:before {\n",
       "  color: var(--xr-disabled-color);\n",
       "}\n",
       "\n",
       ".xr-section-summary-in:checked + label:before {\n",
       "  content: '▼';\n",
       "}\n",
       "\n",
       ".xr-section-summary-in:checked + label > span {\n",
       "  display: none;\n",
       "}\n",
       "\n",
       ".xr-section-summary,\n",
       ".xr-section-inline-details {\n",
       "  padding-top: 4px;\n",
       "  padding-bottom: 4px;\n",
       "}\n",
       "\n",
       ".xr-section-inline-details {\n",
       "  grid-column: 2 / -1;\n",
       "}\n",
       "\n",
       ".xr-section-details {\n",
       "  display: none;\n",
       "  grid-column: 1 / -1;\n",
       "  margin-bottom: 5px;\n",
       "}\n",
       "\n",
       ".xr-section-summary-in:checked ~ .xr-section-details {\n",
       "  display: contents;\n",
       "}\n",
       "\n",
       ".xr-array-wrap {\n",
       "  grid-column: 1 / -1;\n",
       "  display: grid;\n",
       "  grid-template-columns: 20px auto;\n",
       "}\n",
       "\n",
       ".xr-array-wrap > label {\n",
       "  grid-column: 1;\n",
       "  vertical-align: top;\n",
       "}\n",
       "\n",
       ".xr-preview {\n",
       "  color: var(--xr-font-color3);\n",
       "}\n",
       "\n",
       ".xr-array-preview,\n",
       ".xr-array-data {\n",
       "  padding: 0 5px !important;\n",
       "  grid-column: 2;\n",
       "}\n",
       "\n",
       ".xr-array-data,\n",
       ".xr-array-in:checked ~ .xr-array-preview {\n",
       "  display: none;\n",
       "}\n",
       "\n",
       ".xr-array-in:checked ~ .xr-array-data,\n",
       ".xr-array-preview {\n",
       "  display: inline-block;\n",
       "}\n",
       "\n",
       ".xr-dim-list {\n",
       "  display: inline-block !important;\n",
       "  list-style: none;\n",
       "  padding: 0 !important;\n",
       "  margin: 0;\n",
       "}\n",
       "\n",
       ".xr-dim-list li {\n",
       "  display: inline-block;\n",
       "  padding: 0;\n",
       "  margin: 0;\n",
       "}\n",
       "\n",
       ".xr-dim-list:before {\n",
       "  content: '(';\n",
       "}\n",
       "\n",
       ".xr-dim-list:after {\n",
       "  content: ')';\n",
       "}\n",
       "\n",
       ".xr-dim-list li:not(:last-child):after {\n",
       "  content: ',';\n",
       "  padding-right: 5px;\n",
       "}\n",
       "\n",
       ".xr-has-index {\n",
       "  font-weight: bold;\n",
       "}\n",
       "\n",
       ".xr-var-list,\n",
       ".xr-var-item {\n",
       "  display: contents;\n",
       "}\n",
       "\n",
       ".xr-var-item > div,\n",
       ".xr-var-item label,\n",
       ".xr-var-item > .xr-var-name span {\n",
       "  background-color: var(--xr-background-color-row-even);\n",
       "  margin-bottom: 0;\n",
       "}\n",
       "\n",
       ".xr-var-item > .xr-var-name:hover span {\n",
       "  padding-right: 5px;\n",
       "}\n",
       "\n",
       ".xr-var-list > li:nth-child(odd) > div,\n",
       ".xr-var-list > li:nth-child(odd) > label,\n",
       ".xr-var-list > li:nth-child(odd) > .xr-var-name span {\n",
       "  background-color: var(--xr-background-color-row-odd);\n",
       "}\n",
       "\n",
       ".xr-var-name {\n",
       "  grid-column: 1;\n",
       "}\n",
       "\n",
       ".xr-var-dims {\n",
       "  grid-column: 2;\n",
       "}\n",
       "\n",
       ".xr-var-dtype {\n",
       "  grid-column: 3;\n",
       "  text-align: right;\n",
       "  color: var(--xr-font-color2);\n",
       "}\n",
       "\n",
       ".xr-var-preview {\n",
       "  grid-column: 4;\n",
       "}\n",
       "\n",
       ".xr-var-name,\n",
       ".xr-var-dims,\n",
       ".xr-var-dtype,\n",
       ".xr-preview,\n",
       ".xr-attrs dt {\n",
       "  white-space: nowrap;\n",
       "  overflow: hidden;\n",
       "  text-overflow: ellipsis;\n",
       "  padding-right: 10px;\n",
       "}\n",
       "\n",
       ".xr-var-name:hover,\n",
       ".xr-var-dims:hover,\n",
       ".xr-var-dtype:hover,\n",
       ".xr-attrs dt:hover {\n",
       "  overflow: visible;\n",
       "  width: auto;\n",
       "  z-index: 1;\n",
       "}\n",
       "\n",
       ".xr-var-attrs,\n",
       ".xr-var-data {\n",
       "  display: none;\n",
       "  background-color: var(--xr-background-color) !important;\n",
       "  padding-bottom: 5px !important;\n",
       "}\n",
       "\n",
       ".xr-var-attrs-in:checked ~ .xr-var-attrs,\n",
       ".xr-var-data-in:checked ~ .xr-var-data {\n",
       "  display: block;\n",
       "}\n",
       "\n",
       ".xr-var-data > table {\n",
       "  float: right;\n",
       "}\n",
       "\n",
       ".xr-var-name span,\n",
       ".xr-var-data,\n",
       ".xr-attrs {\n",
       "  padding-left: 25px !important;\n",
       "}\n",
       "\n",
       ".xr-attrs,\n",
       ".xr-var-attrs,\n",
       ".xr-var-data {\n",
       "  grid-column: 1 / -1;\n",
       "}\n",
       "\n",
       "dl.xr-attrs {\n",
       "  padding: 0;\n",
       "  margin: 0;\n",
       "  display: grid;\n",
       "  grid-template-columns: 125px auto;\n",
       "}\n",
       "\n",
       ".xr-attrs dt,\n",
       ".xr-attrs dd {\n",
       "  padding: 0;\n",
       "  margin: 0;\n",
       "  float: left;\n",
       "  padding-right: 10px;\n",
       "  width: auto;\n",
       "}\n",
       "\n",
       ".xr-attrs dt {\n",
       "  font-weight: normal;\n",
       "  grid-column: 1;\n",
       "}\n",
       "\n",
       ".xr-attrs dt:hover span {\n",
       "  display: inline-block;\n",
       "  background: var(--xr-background-color);\n",
       "  padding-right: 10px;\n",
       "}\n",
       "\n",
       ".xr-attrs dd {\n",
       "  grid-column: 2;\n",
       "  white-space: pre-wrap;\n",
       "  word-break: break-all;\n",
       "}\n",
       "\n",
       ".xr-icon-database,\n",
       ".xr-icon-file-text2 {\n",
       "  display: inline-block;\n",
       "  vertical-align: middle;\n",
       "  width: 1em;\n",
       "  height: 1.5em !important;\n",
       "  stroke-width: 0;\n",
       "  stroke: currentColor;\n",
       "  fill: currentColor;\n",
       "}\n",
       "</style><pre class='xr-text-repr-fallback'>&lt;xarray.Dataset&gt;\n",
       "Dimensions:  (p: 10)\n",
       "Dimensions without coordinates: p\n",
       "Data variables:\n",
       "    maj_len  (p) float64 26.64 12.29 21.85 22.32 25.26 ... 21.0 36.23 38.3 28.21\n",
       "    min_len  (p) float64 17.37 7.178 14.07 1.839 ... 12.29 16.74 17.86 8.65</pre><div class='xr-wrap' hidden><div class='xr-header'><div class='xr-obj-type'>xarray.Dataset</div></div><ul class='xr-sections'><li class='xr-section-item'><input id='section-9663fda9-c3fb-4e83-ace5-2e55db72f442' class='xr-section-summary-in' type='checkbox' disabled ><label for='section-9663fda9-c3fb-4e83-ace5-2e55db72f442' class='xr-section-summary'  title='Expand/collapse section'>Dimensions:</label><div class='xr-section-inline-details'><ul class='xr-dim-list'><li><span>p</span>: 10</li></ul></div><div class='xr-section-details'></div></li><li class='xr-section-item'><input id='section-aeb36f3e-87cc-4e6a-8ff2-070788971591' class='xr-section-summary-in' type='checkbox' disabled ><label for='section-aeb36f3e-87cc-4e6a-8ff2-070788971591' class='xr-section-summary'  title='Expand/collapse section'>Coordinates: <span>(0)</span></label><div class='xr-section-inline-details'></div><div class='xr-section-details'><ul class='xr-var-list'></ul></div></li><li class='xr-section-item'><input id='section-1b8ddf57-9889-4a0b-9460-83c10fba03b3' class='xr-section-summary-in' type='checkbox'  checked><label for='section-1b8ddf57-9889-4a0b-9460-83c10fba03b3' class='xr-section-summary' >Data variables: <span>(2)</span></label><div class='xr-section-inline-details'></div><div class='xr-section-details'><ul class='xr-var-list'><li class='xr-var-item'><div class='xr-var-name'><span>maj_len</span></div><div class='xr-var-dims'>(p)</div><div class='xr-var-dtype'>float64</div><div class='xr-var-preview xr-preview'>26.64 12.29 21.85 ... 38.3 28.21</div><input id='attrs-68d24daa-ae3b-4d9b-b302-13b74fff1fd0' class='xr-var-attrs-in' type='checkbox' disabled><label for='attrs-68d24daa-ae3b-4d9b-b302-13b74fff1fd0' title='Show/Hide attributes'><svg class='icon xr-icon-file-text2'><use xlink:href='#icon-file-text2'></use></svg></label><input id='data-7dae5d8c-044a-4aa3-a9af-30123337ac7b' class='xr-var-data-in' type='checkbox'><label for='data-7dae5d8c-044a-4aa3-a9af-30123337ac7b' title='Show/Hide data repr'><svg class='icon xr-icon-database'><use xlink:href='#icon-database'></use></svg></label><div class='xr-var-attrs'><dl class='xr-attrs'></dl></div><div class='xr-var-data'><pre>array([26.64032 , 12.293743, 21.847769, 22.322042, 25.264457, 38.231766,\n",
       "       20.998368, 36.234494, 38.298486, 28.208468])</pre></div></li><li class='xr-var-item'><div class='xr-var-name'><span>min_len</span></div><div class='xr-var-dims'>(p)</div><div class='xr-var-dtype'>float64</div><div class='xr-var-preview xr-preview'>17.37 7.178 14.07 ... 17.86 8.65</div><input id='attrs-d76045a1-a7ed-4502-bfd8-2fa77fa400b8' class='xr-var-attrs-in' type='checkbox' disabled><label for='attrs-d76045a1-a7ed-4502-bfd8-2fa77fa400b8' title='Show/Hide attributes'><svg class='icon xr-icon-file-text2'><use xlink:href='#icon-file-text2'></use></svg></label><input id='data-e799e925-4c8b-4afe-8b6a-dd4775560b98' class='xr-var-data-in' type='checkbox'><label for='data-e799e925-4c8b-4afe-8b6a-dd4775560b98' title='Show/Hide data repr'><svg class='icon xr-icon-database'><use xlink:href='#icon-database'></use></svg></label><div class='xr-var-attrs'><dl class='xr-attrs'></dl></div><div class='xr-var-data'><pre>array([17.371862,  7.178189, 14.072686,  1.839061,  7.375885, 19.458681,\n",
       "       12.292212, 16.744453, 17.856648,  8.649805])</pre></div></li></ul></div></li><li class='xr-section-item'><input id='section-7fda3290-7368-4901-94eb-a00c47fed22e' class='xr-section-summary-in' type='checkbox' disabled ><label for='section-7fda3290-7368-4901-94eb-a00c47fed22e' class='xr-section-summary'  title='Expand/collapse section'>Attributes: <span>(0)</span></label><div class='xr-section-inline-details'></div><div class='xr-section-details'><dl class='xr-attrs'></dl></div></li></ul></div></div>"
      ],
      "text/plain": [
       "<xarray.Dataset>\n",
       "Dimensions:  (p: 10)\n",
       "Dimensions without coordinates: p\n",
       "Data variables:\n",
       "    maj_len  (p) float64 26.64 12.29 21.85 22.32 25.26 ... 21.0 36.23 38.3 28.21\n",
       "    min_len  (p) float64 17.37 7.178 14.07 1.839 ... 12.29 16.74 17.86 8.65"
      ]
     },
     "execution_count": 9,
     "metadata": {},
     "output_type": "execute_result"
    },
    {
     "data": {
      "image/png": "[encoded data removed]",
      "text/plain": [
       "<Figure size 432x288 with 2 Axes>"
      ]
     },
     "metadata": {
      "needs_background": "light"
     },
     "output_type": "display_data"
    }
   ],
   "source": [
    "validation_ds['ellipse'][0, :, :].plot()\n",
    "validation_ds[['maj_len', 'min_len']].sel(p=slice(0, 10))"
   ]
  },
  {
   "cell_type": "code",
   "execution_count": 27,
   "id": "bb7feba5-b1ae-4a58-9e2d-2a5ebaf43249",
   "metadata": {},
   "outputs": [
    {
     "data": {
      "image/png": "[encoded data removed]",
      "text/plain": [
       "<Figure size 720x720 with 1 Axes>"
      ]
     },
     "metadata": {},
     "output_type": "display_data"
    }
   ],
   "source": [
    "F, ax = plt.subplots(1, 1, figsize=(10, 10))\n",
    "ax.imshow(validation_ds['ellipse'][0, :, :], cmap='viridis')\n",
    "ax.set_xticks([])\n",
    "ax.set_yticks([])\n",
    "F.set_facecolor('white')"
   ]
  },
  {
   "cell_type": "code",
   "execution_count": 12,
   "id": "3b68bbe6-d94e-4301-b469-0c6ff2d6571f",
   "metadata": {},
   "outputs": [],
   "source": [
    "cnn_model = models.Sequential()\n",
    "cnn_model.add(layers.Conv2D(32, (3, 3), activation='relu', input_shape=(128, 128, 1)))\n",
    "cnn_model.add(layers.MaxPooling2D((2, 2)))\n",
    "cnn_model.add(layers.Conv2D(32, (3, 3), activation='relu'))\n",
    "cnn_model.add(layers.MaxPooling2D((2, 2)))\n",
    "cnn_model.add(layers.Conv2D(64, (3, 3), activation='relu'))\n",
    "cnn_model.add(layers.MaxPooling2D((2, 2)))\n",
    "cnn_model.add(layers.Conv2D(64, (3, 3), activation='relu'))\n",
    "cnn_model.add(layers.MaxPooling2D((2, 2)))\n",
    "cnn_model.add(layers.Conv2D(128, (3, 3), activation='relu'))\n",
    "cnn_model.add(layers.Flatten())\n",
    "cnn_model.add(layers.Dense(32, activation='relu'))\n",
    "cnn_model.add(layers.Dense(2))"
   ]
  },
  {
   "cell_type": "code",
   "execution_count": 13,
   "id": "7c77f241-d82e-4ff0-ba89-9282b415ab46",
   "metadata": {},
   "outputs": [],
   "source": [
    "cnn_model.compile(\n",
    "    optimizer='adam',\n",
    "    loss='mse',\n",
    ")"
   ]
  },
  {
   "cell_type": "code",
   "execution_count": 14,
   "id": "7d1f70ed-4910-4a06-8148-9e4ffa23cbbd",
   "metadata": {},
   "outputs": [
    {
     "name": "stdout",
     "output_type": "stream",
     "text": [
      "Model: \"sequential_1\"\n",
      "_________________________________________________________________\n",
      " Layer (type)                Output Shape              Param #   \n",
      "=================================================================\n",
      " conv2d (Conv2D)             (None, 126, 126, 32)      320       \n",
      "                                                                 \n",
      " max_pooling2d_4 (MaxPooling  (None, 63, 63, 32)       0         \n",
      " 2D)                                                             \n",
      "                                                                 \n",
      " conv2d_1 (Conv2D)           (None, 61, 61, 32)        9248      \n",
      "                                                                 \n",
      " max_pooling2d_5 (MaxPooling  (None, 30, 30, 32)       0         \n",
      " 2D)                                                             \n",
      "                                                                 \n",
      " conv2d_2 (Conv2D)           (None, 28, 28, 64)        18496     \n",
      "                                                                 \n",
      " max_pooling2d_6 (MaxPooling  (None, 14, 14, 64)       0         \n",
      " 2D)                                                             \n",
      "                                                                 \n",
      " conv2d_3 (Conv2D)           (None, 12, 12, 64)        36928     \n",
      "                                                                 \n",
      " max_pooling2d_7 (MaxPooling  (None, 6, 6, 64)         0         \n",
      " 2D)                                                             \n",
      "                                                                 \n",
      " conv2d_4 (Conv2D)           (None, 4, 4, 128)         73856     \n",
      "                                                                 \n",
      " flatten_1 (Flatten)         (None, 2048)              0         \n",
      "                                                                 \n",
      " dense_2 (Dense)             (None, 32)                65568     \n",
      "                                                                 \n",
      " dense_3 (Dense)             (None, 2)                 66        \n",
      "                                                                 \n",
      "=================================================================\n",
      "Total params: 204,482\n",
      "Trainable params: 204,482\n",
      "Non-trainable params: 0\n",
      "_________________________________________________________________\n"
     ]
    }
   ],
   "source": [
    "cnn_model.summary()"
   ]
  },
  {
   "cell_type": "code",
   "execution_count": 15,
   "id": "cbb937e1-e256-4c86-8ecb-fac852642873",
   "metadata": {},
   "outputs": [
    {
     "name": "stdout",
     "output_type": "stream",
     "text": [
      "WARNING:tensorflow:Keras is training/fitting/evaluating on array-like data. Keras may not be optimized for this format, so if your input data format is supported by TensorFlow I/O (https://github.com/tensorflow/io) we recommend using that to load a Dataset instead.\n",
      "Epoch 1/10\n",
      "313/313 [==============================] - ETA: 0s - loss: 0.4588WARNING:tensorflow:Keras is training/fitting/evaluating on array-like data. Keras may not be optimized for this format, so if your input data format is supported by TensorFlow I/O (https://github.com/tensorflow/io) we recommend using that to load a Dataset instead.\n",
      "313/313 [==============================] - 5s 14ms/step - loss: 0.4588 - val_loss: 0.2543\n",
      "Epoch 2/10\n",
      "313/313 [==============================] - 5s 16ms/step - loss: 0.1838 - val_loss: 0.0806\n",
      "Epoch 3/10\n",
      "313/313 [==============================] - 5s 17ms/step - loss: 0.0691 - val_loss: 0.0591\n",
      "Epoch 4/10\n",
      "313/313 [==============================] - 4s 14ms/step - loss: 0.0401 - val_loss: 0.0288\n",
      "Epoch 5/10\n",
      "313/313 [==============================] - 4s 13ms/step - loss: 0.0306 - val_loss: 0.0300\n",
      "Epoch 6/10\n",
      "313/313 [==============================] - 4s 14ms/step - loss: 0.0236 - val_loss: 0.0172\n",
      "Epoch 7/10\n",
      "313/313 [==============================] - 4s 13ms/step - loss: 0.0187 - val_loss: 0.0152\n",
      "Epoch 8/10\n",
      "313/313 [==============================] - 4s 13ms/step - loss: 0.0175 - val_loss: 0.0141\n",
      "Epoch 9/10\n",
      "313/313 [==============================] - 4s 13ms/step - loss: 0.0164 - val_loss: 0.0143\n",
      "Epoch 10/10\n",
      "313/313 [==============================] - 4s 14ms/step - loss: 0.0162 - val_loss: 0.0196\n"
     ]
    }
   ],
   "source": [
    "cnn_history = cnn_model.fit(\n",
    "    x=X_train, y=Y_train_norm,\n",
    "    epochs=10, validation_data=(X_val, Y_val_norm),\n",
    "    shuffle=True\n",
    ")"
   ]
  },
  {
   "cell_type": "code",
   "execution_count": 16,
   "id": "f8ba4fc7-8dd6-4e91-9a30-9b2b0f536e24",
   "metadata": {},
   "outputs": [],
   "source": [
    "aug_cnn_model = models.Sequential()\n",
    "aug_cnn_model.add(layers.Conv2D(32, (3, 3), activation='relu', input_shape=(128, 128, 1)))\n",
    "aug_cnn_model.add(layers.MaxPooling2D((2, 2)))\n",
    "aug_cnn_model.add(layers.Conv2D(32, (3, 3), activation='relu'))\n",
    "aug_cnn_model.add(layers.MaxPooling2D((2, 2)))\n",
    "aug_cnn_model.add(layers.Conv2D(64, (3, 3), activation='relu'))\n",
    "aug_cnn_model.add(layers.MaxPooling2D((2, 2)))\n",
    "aug_cnn_model.add(layers.Conv2D(64, (3, 3), activation='relu'))\n",
    "aug_cnn_model.add(layers.MaxPooling2D((2, 2)))\n",
    "aug_cnn_model.add(layers.Conv2D(128, (3, 3), activation='relu'))\n",
    "aug_cnn_model.add(layers.Flatten())\n",
    "aug_cnn_model.add(layers.Dense(32, activation='relu'))\n",
    "aug_cnn_model.add(layers.Dense(2))"
   ]
  },
  {
   "cell_type": "code",
   "execution_count": 17,
   "id": "605dabbc-7c23-4423-95ad-d72a64a5e159",
   "metadata": {},
   "outputs": [],
   "source": [
    "aug_cnn_model.compile(\n",
    "    optimizer='adam',\n",
    "    loss='mse',\n",
    ")"
   ]
  },
  {
   "cell_type": "code",
   "execution_count": 18,
   "id": "90a2e401-f92d-46c2-b795-6fc015391bf2",
   "metadata": {},
   "outputs": [
    {
     "name": "stdout",
     "output_type": "stream",
     "text": [
      "Model: \"sequential_2\"\n",
      "_________________________________________________________________\n",
      " Layer (type)                Output Shape              Param #   \n",
      "=================================================================\n",
      " conv2d_5 (Conv2D)           (None, 126, 126, 32)      320       \n",
      "                                                                 \n",
      " max_pooling2d_8 (MaxPooling  (None, 63, 63, 32)       0         \n",
      " 2D)                                                             \n",
      "                                                                 \n",
      " conv2d_6 (Conv2D)           (None, 61, 61, 32)        9248      \n",
      "                                                                 \n",
      " max_pooling2d_9 (MaxPooling  (None, 30, 30, 32)       0         \n",
      " 2D)                                                             \n",
      "                                                                 \n",
      " conv2d_7 (Conv2D)           (None, 28, 28, 64)        18496     \n",
      "                                                                 \n",
      " max_pooling2d_10 (MaxPoolin  (None, 14, 14, 64)       0         \n",
      " g2D)                                                            \n",
      "                                                                 \n",
      " conv2d_8 (Conv2D)           (None, 12, 12, 64)        36928     \n",
      "                                                                 \n",
      " max_pooling2d_11 (MaxPoolin  (None, 6, 6, 64)         0         \n",
      " g2D)                                                            \n",
      "                                                                 \n",
      " conv2d_9 (Conv2D)           (None, 4, 4, 128)         73856     \n",
      "                                                                 \n",
      " flatten_2 (Flatten)         (None, 2048)              0         \n",
      "                                                                 \n",
      " dense_4 (Dense)             (None, 32)                65568     \n",
      "                                                                 \n",
      " dense_5 (Dense)             (None, 2)                 66        \n",
      "                                                                 \n",
      "=================================================================\n",
      "Total params: 204,482\n",
      "Trainable params: 204,482\n",
      "Non-trainable params: 0\n",
      "_________________________________________________________________\n"
     ]
    }
   ],
   "source": [
    "aug_cnn_model.summary()"
   ]
  },
  {
   "cell_type": "code",
   "execution_count": 19,
   "id": "c6f64b0a-e3a3-4d55-9580-d1088f85897c",
   "metadata": {},
   "outputs": [
    {
     "name": "stdout",
     "output_type": "stream",
     "text": [
      "WARNING:tensorflow:Keras is training/fitting/evaluating on array-like data. Keras may not be optimized for this format, so if your input data format is supported by TensorFlow I/O (https://github.com/tensorflow/io) we recommend using that to load a Dataset instead.\n",
      "Epoch 1/10\n",
      "1247/1250 [============================>.] - ETA: 0s - loss: 0.2393WARNING:tensorflow:Keras is training/fitting/evaluating on array-like data. Keras may not be optimized for this format, so if your input data format is supported by TensorFlow I/O (https://github.com/tensorflow/io) we recommend using that to load a Dataset instead.\n",
      "1250/1250 [==============================] - 16s 12ms/step - loss: 0.2388 - val_loss: 0.0344\n",
      "Epoch 2/10\n",
      "1250/1250 [==============================] - 16s 13ms/step - loss: 0.0268 - val_loss: 0.0117\n",
      "Epoch 3/10\n",
      "1250/1250 [==============================] - 15s 12ms/step - loss: 0.0182 - val_loss: 0.0128\n",
      "Epoch 4/10\n",
      "1250/1250 [==============================] - 15s 12ms/step - loss: 0.0144 - val_loss: 0.0094\n",
      "Epoch 5/10\n",
      "1250/1250 [==============================] - 15s 12ms/step - loss: 0.0127 - val_loss: 0.0112\n",
      "Epoch 6/10\n",
      "1250/1250 [==============================] - 16s 13ms/step - loss: 0.0109 - val_loss: 0.0078\n",
      "Epoch 7/10\n",
      "1250/1250 [==============================] - 16s 13ms/step - loss: 0.0102 - val_loss: 0.0071\n",
      "Epoch 8/10\n",
      "1250/1250 [==============================] - 15s 12ms/step - loss: 0.0090 - val_loss: 0.0088\n",
      "Epoch 9/10\n",
      "1250/1250 [==============================] - 16s 12ms/step - loss: 0.0084 - val_loss: 0.0099\n",
      "Epoch 10/10\n",
      "1250/1250 [==============================] - 16s 12ms/step - loss: 0.0082 - val_loss: 0.0071\n"
     ]
    }
   ],
   "source": [
    "aug_cnn_history = aug_cnn_model.fit(\n",
    "    x=aug_X_train, y=aug_Y_train_norm,\n",
    "    epochs=10, validation_data=(X_val, Y_val_norm),\n",
    "    shuffle=True\n",
    ")"
   ]
  },
  {
   "cell_type": "code",
   "execution_count": 29,
   "id": "1f6dab1c-7b71-4ad4-909a-a688dfefafa0",
   "metadata": {},
   "outputs": [
    {
     "data": {
      "text/plain": [
       "Text(0, 0.5, 'MSE')"
      ]
     },
     "execution_count": 29,
     "metadata": {},
     "output_type": "execute_result"
    },
    {
     "data": {
      "image/png": "[encoded data removed]",
      "text/plain": [
       "<Figure size 720x504 with 1 Axes>"
      ]
     },
     "metadata": {},
     "output_type": "display_data"
    }
   ],
   "source": [
    "F, ax = plt.subplots(1, 1, figsize=(10, 7))\n",
    "ax = plt.gca()\n",
    "a = ax.plot(cnn_history.history['loss'], label='CNN train', color='orange')\n",
    "b = ax.plot(cnn_history.history['val_loss'], label='CNN val', color='orange', linestyle='dashed')\n",
    "c = ax.plot(ricnn_history.history['loss'], label='RICNN train', color='blue')\n",
    "d = ax.plot(ricnn_history.history['val_loss'], label='RICNN val', color='blue', linestyle='dashed')\n",
    "e = ax.plot(aug_cnn_history.history['loss'], label='Aug CNN train', color='red')\n",
    "f = ax.plot(aug_cnn_history.history['val_loss'], label='Aug CNN val', color='red', linestyle='dashed')\n",
    "ax.legend()\n",
    "F.set_facecolor('white')\n",
    "ax.set_title(\"Synthetic Dataset Training History\")\n",
    "ax.set_ylim(bottom=0, top=0.10)\n",
    "ax.set_xlabel('Epoch')\n",
    "ax.set_ylabel('MSE')"
   ]
  },
  {
   "cell_type": "code",
   "execution_count": 62,
   "id": "f74cce1f-ed67-4fec-b28a-e06fd0f1a9c7",
   "metadata": {},
   "outputs": [
    {
     "name": "stdout",
     "output_type": "stream",
     "text": [
      "INFO:tensorflow:Assets written to: saved_models/toy_ds_aug/ricnn_model/assets\n"
     ]
    },
    {
     "name": "stderr",
     "output_type": "stream",
     "text": [
      "WARNING:absl:Found untraced functions such as _jit_compiled_convolution_op, _jit_compiled_convolution_op, _jit_compiled_convolution_op, _jit_compiled_convolution_op, _jit_compiled_convolution_op while saving (showing 5 of 5). These functions will not be directly callable after loading.\n"
     ]
    },
    {
     "name": "stdout",
     "output_type": "stream",
     "text": [
      "INFO:tensorflow:Assets written to: saved_models/toy_ds_aug/cnn_model/assets\n"
     ]
    },
    {
     "name": "stderr",
     "output_type": "stream",
     "text": [
      "INFO:tensorflow:Assets written to: saved_models/toy_ds_aug/cnn_model/assets\n",
      "WARNING:absl:Found untraced functions such as _jit_compiled_convolution_op, _jit_compiled_convolution_op, _jit_compiled_convolution_op, _jit_compiled_convolution_op, _jit_compiled_convolution_op while saving (showing 5 of 5). These functions will not be directly callable after loading.\n"
     ]
    },
    {
     "name": "stdout",
     "output_type": "stream",
     "text": [
      "INFO:tensorflow:Assets written to: saved_models/toy_ds_aug/aug_cnn_model/assets\n"
     ]
    },
    {
     "name": "stderr",
     "output_type": "stream",
     "text": [
      "INFO:tensorflow:Assets written to: saved_models/toy_ds_aug/aug_cnn_model/assets\n"
     ]
    }
   ],
   "source": [
    "ricnn_model.save(\"saved_models/toy_ds_aug/ricnn_model\")\n",
    "cnn_model.save(\"saved_models/toy_ds_aug/cnn_model\")\n",
    "aug_cnn_model.save(\"saved_models/toy_ds_aug/aug_cnn_model\")"
   ]
  },
  {
   "cell_type": "code",
   "execution_count": 10,
   "id": "f0158f9a-ebec-4229-b028-85659d0c1ea2",
   "metadata": {},
   "outputs": [],
   "source": [
    "ricnn_model = tf.keras.models.load_model(\"saved_models/toy_ds_aug/ricnn_model\")\n",
    "cnn_model = tf.keras.models.load_model(\"saved_models/toy_ds_aug/cnn_model\")\n",
    "aug_cnn_model = tf.keras.models.load_model(\"saved_models/toy_ds_aug/aug_cnn_model\")"
   ]
  },
  {
   "cell_type": "code",
   "execution_count": 30,
   "id": "a8130c60-f174-4b38-9a67-517b32625d80",
   "metadata": {},
   "outputs": [
    {
     "name": "stdout",
     "output_type": "stream",
     "text": [
      "WARNING:tensorflow:Keras is training/fitting/evaluating on array-like data. Keras may not be optimized for this format, so if your input data format is supported by TensorFlow I/O (https://github.com/tensorflow/io) we recommend using that to load a Dataset instead.\n",
      "32/32 [==============================] - 1s 22ms/step - loss: 0.0110\n",
      "WARNING:tensorflow:Keras is training/fitting/evaluating on array-like data. Keras may not be optimized for this format, so if your input data format is supported by TensorFlow I/O (https://github.com/tensorflow/io) we recommend using that to load a Dataset instead.\n",
      "32/32 [==============================] - 1s 22ms/step - loss: 0.0141\n"
     ]
    },
    {
     "data": {
      "text/plain": [
       "0.014057747088372707"
      ]
     },
     "execution_count": 30,
     "metadata": {},
     "output_type": "execute_result"
    }
   ],
   "source": [
    "ricnn_model.evaluate(X_val, Y_val_norm)\n",
    "ricnn_model.evaluate(X_test, Y_test_norm)"
   ]
  },
  {
   "cell_type": "code",
   "execution_count": 31,
   "id": "cdecba36-b3fc-4872-9fc0-a67e4ff0a2f4",
   "metadata": {
    "tags": []
   },
   "outputs": [
    {
     "name": "stdout",
     "output_type": "stream",
     "text": [
      "WARNING:tensorflow:Keras is training/fitting/evaluating on array-like data. Keras may not be optimized for this format, so if your input data format is supported by TensorFlow I/O (https://github.com/tensorflow/io) we recommend using that to load a Dataset instead.\n",
      "32/32 [==============================] - 0s 8ms/step - loss: 0.0196\n",
      "WARNING:tensorflow:Keras is training/fitting/evaluating on array-like data. Keras may not be optimized for this format, so if your input data format is supported by TensorFlow I/O (https://github.com/tensorflow/io) we recommend using that to load a Dataset instead.\n",
      "32/32 [==============================] - 0s 7ms/step - loss: 0.7100\n"
     ]
    },
    {
     "data": {
      "text/plain": [
       "0.709987998008728"
      ]
     },
     "execution_count": 31,
     "metadata": {},
     "output_type": "execute_result"
    }
   ],
   "source": [
    "cnn_model.evaluate(X_val, Y_val_norm)\n",
    "cnn_model.evaluate(X_test, Y_test_norm)"
   ]
  },
  {
   "cell_type": "code",
   "execution_count": 32,
   "id": "22e05c41-d12a-4845-ab4f-8dd13dd2ad41",
   "metadata": {
    "tags": []
   },
   "outputs": [
    {
     "name": "stdout",
     "output_type": "stream",
     "text": [
      "WARNING:tensorflow:Keras is training/fitting/evaluating on array-like data. Keras may not be optimized for this format, so if your input data format is supported by TensorFlow I/O (https://github.com/tensorflow/io) we recommend using that to load a Dataset instead.\n",
      "32/32 [==============================] - 0s 8ms/step - loss: 0.0071\n",
      "WARNING:tensorflow:Keras is training/fitting/evaluating on array-like data. Keras may not be optimized for this format, so if your input data format is supported by TensorFlow I/O (https://github.com/tensorflow/io) we recommend using that to load a Dataset instead.\n",
      "32/32 [==============================] - 0s 8ms/step - loss: 0.0075\n"
     ]
    },
    {
     "data": {
      "text/plain": [
       "0.007536854594945908"
      ]
     },
     "execution_count": 32,
     "metadata": {},
     "output_type": "execute_result"
    }
   ],
   "source": [
    "aug_cnn_model.evaluate(X_val, Y_val_norm)\n",
    "aug_cnn_model.evaluate(X_test, Y_test_norm)"
   ]
  },
  {
   "cell_type": "code",
   "execution_count": 7,
   "id": "c6c6ded7-d574-46f7-bd9f-73404d84e8e3",
   "metadata": {},
   "outputs": [
    {
     "data": {
      "text/html": [
       "<div><svg style=\"position: absolute; width: 0; height: 0; overflow: hidden\">\n",
       "<defs>\n",
       "<symbol id=\"icon-database\" viewBox=\"0 0 32 32\">\n",
       "<path d=\"M16 0c-8.837 0-16 2.239-16 5v4c0 2.761 7.163 5 16 5s16-2.239 16-5v-4c0-2.761-7.163-5-16-5z\"></path>\n",
       "<path d=\"M16 17c-8.837 0-16-2.239-16-5v6c0 2.761 7.163 5 16 5s16-2.239 16-5v-6c0 2.761-7.163 5-16 5z\"></path>\n",
       "<path d=\"M16 26c-8.837 0-16-2.239-16-5v6c0 2.761 7.163 5 16 5s16-2.239 16-5v-6c0 2.761-7.163 5-16 5z\"></path>\n",
       "</symbol>\n",
       "<symbol id=\"icon-file-text2\" viewBox=\"0 0 32 32\">\n",
       "<path d=\"M28.681 7.159c-0.694-0.947-1.662-2.053-2.724-3.116s-2.169-2.030-3.116-2.724c-1.612-1.182-2.393-1.319-2.841-1.319h-15.5c-1.378 0-2.5 1.121-2.5 2.5v27c0 1.378 1.122 2.5 2.5 2.5h23c1.378 0 2.5-1.122 2.5-2.5v-19.5c0-0.448-0.137-1.23-1.319-2.841zM24.543 5.457c0.959 0.959 1.712 1.825 2.268 2.543h-4.811v-4.811c0.718 0.556 1.584 1.309 2.543 2.268zM28 29.5c0 0.271-0.229 0.5-0.5 0.5h-23c-0.271 0-0.5-0.229-0.5-0.5v-27c0-0.271 0.229-0.5 0.5-0.5 0 0 15.499-0 15.5 0v7c0 0.552 0.448 1 1 1h7v19.5z\"></path>\n",
       "<path d=\"M23 26h-14c-0.552 0-1-0.448-1-1s0.448-1 1-1h14c0.552 0 1 0.448 1 1s-0.448 1-1 1z\"></path>\n",
       "<path d=\"M23 22h-14c-0.552 0-1-0.448-1-1s0.448-1 1-1h14c0.552 0 1 0.448 1 1s-0.448 1-1 1z\"></path>\n",
       "<path d=\"M23 18h-14c-0.552 0-1-0.448-1-1s0.448-1 1-1h14c0.552 0 1 0.448 1 1s-0.448 1-1 1z\"></path>\n",
       "</symbol>\n",
       "</defs>\n",
       "</svg>\n",
       "<style>/* CSS stylesheet for displaying xarray objects in jupyterlab.\n",
       " *\n",
       " */\n",
       "\n",
       ":root {\n",
       "  --xr-font-color0: var(--jp-content-font-color0, rgba(0, 0, 0, 1));\n",
       "  --xr-font-color2: var(--jp-content-font-color2, rgba(0, 0, 0, 0.54));\n",
       "  --xr-font-color3: var(--jp-content-font-color3, rgba(0, 0, 0, 0.38));\n",
       "  --xr-border-color: var(--jp-border-color2, #e0e0e0);\n",
       "  --xr-disabled-color: var(--jp-layout-color3, #bdbdbd);\n",
       "  --xr-background-color: var(--jp-layout-color0, white);\n",
       "  --xr-background-color-row-even: var(--jp-layout-color1, white);\n",
       "  --xr-background-color-row-odd: var(--jp-layout-color2, #eeeeee);\n",
       "}\n",
       "\n",
       "html[theme=dark],\n",
       "body.vscode-dark {\n",
       "  --xr-font-color0: rgba(255, 255, 255, 1);\n",
       "  --xr-font-color2: rgba(255, 255, 255, 0.54);\n",
       "  --xr-font-color3: rgba(255, 255, 255, 0.38);\n",
       "  --xr-border-color: #1F1F1F;\n",
       "  --xr-disabled-color: #515151;\n",
       "  --xr-background-color: #111111;\n",
       "  --xr-background-color-row-even: #111111;\n",
       "  --xr-background-color-row-odd: #313131;\n",
       "}\n",
       "\n",
       ".xr-wrap {\n",
       "  display: block;\n",
       "  min-width: 300px;\n",
       "  max-width: 700px;\n",
       "}\n",
       "\n",
       ".xr-text-repr-fallback {\n",
       "  /* fallback to plain text repr when CSS is not injected (untrusted notebook) */\n",
       "  display: none;\n",
       "}\n",
       "\n",
       ".xr-header {\n",
       "  padding-top: 6px;\n",
       "  padding-bottom: 6px;\n",
       "  margin-bottom: 4px;\n",
       "  border-bottom: solid 1px var(--xr-border-color);\n",
       "}\n",
       "\n",
       ".xr-header > div,\n",
       ".xr-header > ul {\n",
       "  display: inline;\n",
       "  margin-top: 0;\n",
       "  margin-bottom: 0;\n",
       "}\n",
       "\n",
       ".xr-obj-type,\n",
       ".xr-array-name {\n",
       "  margin-left: 2px;\n",
       "  margin-right: 10px;\n",
       "}\n",
       "\n",
       ".xr-obj-type {\n",
       "  color: var(--xr-font-color2);\n",
       "}\n",
       "\n",
       ".xr-sections {\n",
       "  padding-left: 0 !important;\n",
       "  display: grid;\n",
       "  grid-template-columns: 150px auto auto 1fr 20px 20px;\n",
       "}\n",
       "\n",
       ".xr-section-item {\n",
       "  display: contents;\n",
       "}\n",
       "\n",
       ".xr-section-item input {\n",
       "  display: none;\n",
       "}\n",
       "\n",
       ".xr-section-item input + label {\n",
       "  color: var(--xr-disabled-color);\n",
       "}\n",
       "\n",
       ".xr-section-item input:enabled + label {\n",
       "  cursor: pointer;\n",
       "  color: var(--xr-font-color2);\n",
       "}\n",
       "\n",
       ".xr-section-item input:enabled + label:hover {\n",
       "  color: var(--xr-font-color0);\n",
       "}\n",
       "\n",
       ".xr-section-summary {\n",
       "  grid-column: 1;\n",
       "  color: var(--xr-font-color2);\n",
       "  font-weight: 500;\n",
       "}\n",
       "\n",
       ".xr-section-summary > span {\n",
       "  display: inline-block;\n",
       "  padding-left: 0.5em;\n",
       "}\n",
       "\n",
       ".xr-section-summary-in:disabled + label {\n",
       "  color: var(--xr-font-color2);\n",
       "}\n",
       "\n",
       ".xr-section-summary-in + label:before {\n",
       "  display: inline-block;\n",
       "  content: '►';\n",
       "  font-size: 11px;\n",
       "  width: 15px;\n",
       "  text-align: center;\n",
       "}\n",
       "\n",
       ".xr-section-summary-in:disabled + label:before {\n",
       "  color: var(--xr-disabled-color);\n",
       "}\n",
       "\n",
       ".xr-section-summary-in:checked + label:before {\n",
       "  content: '▼';\n",
       "}\n",
       "\n",
       ".xr-section-summary-in:checked + label > span {\n",
       "  display: none;\n",
       "}\n",
       "\n",
       ".xr-section-summary,\n",
       ".xr-section-inline-details {\n",
       "  padding-top: 4px;\n",
       "  padding-bottom: 4px;\n",
       "}\n",
       "\n",
       ".xr-section-inline-details {\n",
       "  grid-column: 2 / -1;\n",
       "}\n",
       "\n",
       ".xr-section-details {\n",
       "  display: none;\n",
       "  grid-column: 1 / -1;\n",
       "  margin-bottom: 5px;\n",
       "}\n",
       "\n",
       ".xr-section-summary-in:checked ~ .xr-section-details {\n",
       "  display: contents;\n",
       "}\n",
       "\n",
       ".xr-array-wrap {\n",
       "  grid-column: 1 / -1;\n",
       "  display: grid;\n",
       "  grid-template-columns: 20px auto;\n",
       "}\n",
       "\n",
       ".xr-array-wrap > label {\n",
       "  grid-column: 1;\n",
       "  vertical-align: top;\n",
       "}\n",
       "\n",
       ".xr-preview {\n",
       "  color: var(--xr-font-color3);\n",
       "}\n",
       "\n",
       ".xr-array-preview,\n",
       ".xr-array-data {\n",
       "  padding: 0 5px !important;\n",
       "  grid-column: 2;\n",
       "}\n",
       "\n",
       ".xr-array-data,\n",
       ".xr-array-in:checked ~ .xr-array-preview {\n",
       "  display: none;\n",
       "}\n",
       "\n",
       ".xr-array-in:checked ~ .xr-array-data,\n",
       ".xr-array-preview {\n",
       "  display: inline-block;\n",
       "}\n",
       "\n",
       ".xr-dim-list {\n",
       "  display: inline-block !important;\n",
       "  list-style: none;\n",
       "  padding: 0 !important;\n",
       "  margin: 0;\n",
       "}\n",
       "\n",
       ".xr-dim-list li {\n",
       "  display: inline-block;\n",
       "  padding: 0;\n",
       "  margin: 0;\n",
       "}\n",
       "\n",
       ".xr-dim-list:before {\n",
       "  content: '(';\n",
       "}\n",
       "\n",
       ".xr-dim-list:after {\n",
       "  content: ')';\n",
       "}\n",
       "\n",
       ".xr-dim-list li:not(:last-child):after {\n",
       "  content: ',';\n",
       "  padding-right: 5px;\n",
       "}\n",
       "\n",
       ".xr-has-index {\n",
       "  font-weight: bold;\n",
       "}\n",
       "\n",
       ".xr-var-list,\n",
       ".xr-var-item {\n",
       "  display: contents;\n",
       "}\n",
       "\n",
       ".xr-var-item > div,\n",
       ".xr-var-item label,\n",
       ".xr-var-item > .xr-var-name span {\n",
       "  background-color: var(--xr-background-color-row-even);\n",
       "  margin-bottom: 0;\n",
       "}\n",
       "\n",
       ".xr-var-item > .xr-var-name:hover span {\n",
       "  padding-right: 5px;\n",
       "}\n",
       "\n",
       ".xr-var-list > li:nth-child(odd) > div,\n",
       ".xr-var-list > li:nth-child(odd) > label,\n",
       ".xr-var-list > li:nth-child(odd) > .xr-var-name span {\n",
       "  background-color: var(--xr-background-color-row-odd);\n",
       "}\n",
       "\n",
       ".xr-var-name {\n",
       "  grid-column: 1;\n",
       "}\n",
       "\n",
       ".xr-var-dims {\n",
       "  grid-column: 2;\n",
       "}\n",
       "\n",
       ".xr-var-dtype {\n",
       "  grid-column: 3;\n",
       "  text-align: right;\n",
       "  color: var(--xr-font-color2);\n",
       "}\n",
       "\n",
       ".xr-var-preview {\n",
       "  grid-column: 4;\n",
       "}\n",
       "\n",
       ".xr-var-name,\n",
       ".xr-var-dims,\n",
       ".xr-var-dtype,\n",
       ".xr-preview,\n",
       ".xr-attrs dt {\n",
       "  white-space: nowrap;\n",
       "  overflow: hidden;\n",
       "  text-overflow: ellipsis;\n",
       "  padding-right: 10px;\n",
       "}\n",
       "\n",
       ".xr-var-name:hover,\n",
       ".xr-var-dims:hover,\n",
       ".xr-var-dtype:hover,\n",
       ".xr-attrs dt:hover {\n",
       "  overflow: visible;\n",
       "  width: auto;\n",
       "  z-index: 1;\n",
       "}\n",
       "\n",
       ".xr-var-attrs,\n",
       ".xr-var-data {\n",
       "  display: none;\n",
       "  background-color: var(--xr-background-color) !important;\n",
       "  padding-bottom: 5px !important;\n",
       "}\n",
       "\n",
       ".xr-var-attrs-in:checked ~ .xr-var-attrs,\n",
       ".xr-var-data-in:checked ~ .xr-var-data {\n",
       "  display: block;\n",
       "}\n",
       "\n",
       ".xr-var-data > table {\n",
       "  float: right;\n",
       "}\n",
       "\n",
       ".xr-var-name span,\n",
       ".xr-var-data,\n",
       ".xr-attrs {\n",
       "  padding-left: 25px !important;\n",
       "}\n",
       "\n",
       ".xr-attrs,\n",
       ".xr-var-attrs,\n",
       ".xr-var-data {\n",
       "  grid-column: 1 / -1;\n",
       "}\n",
       "\n",
       "dl.xr-attrs {\n",
       "  padding: 0;\n",
       "  margin: 0;\n",
       "  display: grid;\n",
       "  grid-template-columns: 125px auto;\n",
       "}\n",
       "\n",
       ".xr-attrs dt,\n",
       ".xr-attrs dd {\n",
       "  padding: 0;\n",
       "  margin: 0;\n",
       "  float: left;\n",
       "  padding-right: 10px;\n",
       "  width: auto;\n",
       "}\n",
       "\n",
       ".xr-attrs dt {\n",
       "  font-weight: normal;\n",
       "  grid-column: 1;\n",
       "}\n",
       "\n",
       ".xr-attrs dt:hover span {\n",
       "  display: inline-block;\n",
       "  background: var(--xr-background-color);\n",
       "  padding-right: 10px;\n",
       "}\n",
       "\n",
       ".xr-attrs dd {\n",
       "  grid-column: 2;\n",
       "  white-space: pre-wrap;\n",
       "  word-break: break-all;\n",
       "}\n",
       "\n",
       ".xr-icon-database,\n",
       ".xr-icon-file-text2 {\n",
       "  display: inline-block;\n",
       "  vertical-align: middle;\n",
       "  width: 1em;\n",
       "  height: 1.5em !important;\n",
       "  stroke-width: 0;\n",
       "  stroke: currentColor;\n",
       "  fill: currentColor;\n",
       "}\n",
       "</style><pre class='xr-text-repr-fallback'>&lt;xarray.DataArray (p: 1, variable: 2)&gt;\n",
       "array([[-0.85937059, -0.07984741]])\n",
       "Coordinates:\n",
       "  * variable  (variable) &lt;U7 &#x27;maj_len&#x27; &#x27;min_len&#x27;\n",
       "  * p         (p) int64 0</pre><div class='xr-wrap' hidden><div class='xr-header'><div class='xr-obj-type'>xarray.DataArray</div><div class='xr-array-name'></div><ul class='xr-dim-list'><li><span class='xr-has-index'>p</span>: 1</li><li><span class='xr-has-index'>variable</span>: 2</li></ul></div><ul class='xr-sections'><li class='xr-section-item'><div class='xr-array-wrap'><input id='section-a0364aae-be4b-42c1-8203-6b2db1893057' class='xr-array-in' type='checkbox' checked><label for='section-a0364aae-be4b-42c1-8203-6b2db1893057' title='Show/hide data repr'><svg class='icon xr-icon-database'><use xlink:href='#icon-database'></use></svg></label><div class='xr-array-preview xr-preview'><span>-0.8594 -0.07985</span></div><div class='xr-array-data'><pre>array([[-0.85937059, -0.07984741]])</pre></div></div></li><li class='xr-section-item'><input id='section-cedada29-c5dc-40c4-8deb-bca339bb6706' class='xr-section-summary-in' type='checkbox'  checked><label for='section-cedada29-c5dc-40c4-8deb-bca339bb6706' class='xr-section-summary' >Coordinates: <span>(2)</span></label><div class='xr-section-inline-details'></div><div class='xr-section-details'><ul class='xr-var-list'><li class='xr-var-item'><div class='xr-var-name'><span class='xr-has-index'>variable</span></div><div class='xr-var-dims'>(variable)</div><div class='xr-var-dtype'>&lt;U7</div><div class='xr-var-preview xr-preview'>&#x27;maj_len&#x27; &#x27;min_len&#x27;</div><input id='attrs-bfea7310-7159-40ed-bda4-caf8a6b848f7' class='xr-var-attrs-in' type='checkbox' disabled><label for='attrs-bfea7310-7159-40ed-bda4-caf8a6b848f7' title='Show/Hide attributes'><svg class='icon xr-icon-file-text2'><use xlink:href='#icon-file-text2'></use></svg></label><input id='data-b87c45ee-6314-459c-a487-efbe5d267741' class='xr-var-data-in' type='checkbox'><label for='data-b87c45ee-6314-459c-a487-efbe5d267741' title='Show/Hide data repr'><svg class='icon xr-icon-database'><use xlink:href='#icon-database'></use></svg></label><div class='xr-var-attrs'><dl class='xr-attrs'></dl></div><div class='xr-var-data'><pre>array([&#x27;maj_len&#x27;, &#x27;min_len&#x27;], dtype=&#x27;&lt;U7&#x27;)</pre></div></li><li class='xr-var-item'><div class='xr-var-name'><span class='xr-has-index'>p</span></div><div class='xr-var-dims'>(p)</div><div class='xr-var-dtype'>int64</div><div class='xr-var-preview xr-preview'>0</div><input id='attrs-338a19c3-938f-42d4-b5b4-0249d12c113e' class='xr-var-attrs-in' type='checkbox' disabled><label for='attrs-338a19c3-938f-42d4-b5b4-0249d12c113e' title='Show/Hide attributes'><svg class='icon xr-icon-file-text2'><use xlink:href='#icon-file-text2'></use></svg></label><input id='data-ed79610c-b7ba-4ed6-ae3f-f58cb4afc0af' class='xr-var-data-in' type='checkbox'><label for='data-ed79610c-b7ba-4ed6-ae3f-f58cb4afc0af' title='Show/Hide data repr'><svg class='icon xr-icon-database'><use xlink:href='#icon-database'></use></svg></label><div class='xr-var-attrs'><dl class='xr-attrs'></dl></div><div class='xr-var-data'><pre>array([0])</pre></div></li></ul></div></li><li class='xr-section-item'><input id='section-ded8dd21-a8a5-48f9-8bcb-a86038e74a64' class='xr-section-summary-in' type='checkbox' disabled ><label for='section-ded8dd21-a8a5-48f9-8bcb-a86038e74a64' class='xr-section-summary'  title='Expand/collapse section'>Attributes: <span>(0)</span></label><div class='xr-section-inline-details'></div><div class='xr-section-details'><dl class='xr-attrs'></dl></div></li></ul></div></div>"
      ],
      "text/plain": [
       "<xarray.DataArray (p: 1, variable: 2)>\n",
       "array([[-0.85937059, -0.07984741]])\n",
       "Coordinates:\n",
       "  * variable  (variable) <U7 'maj_len' 'min_len'\n",
       "  * p         (p) int64 0"
      ]
     },
     "execution_count": 7,
     "metadata": {},
     "output_type": "execute_result"
    }
   ],
   "source": [
    "Y_test_norm[0:1]"
   ]
  },
  {
   "cell_type": "code",
   "execution_count": 8,
   "id": "f87add01-2f8c-4840-ae46-a67f034cc9b6",
   "metadata": {},
   "outputs": [],
   "source": [
    "aug_X_test = aug_da(X_test)"
   ]
  },
  {
   "cell_type": "code",
   "execution_count": 69,
   "id": "7f2fc6c0-f87f-4750-aa3f-815e43d07dd2",
   "metadata": {},
   "outputs": [
    {
     "data": {
      "text/plain": [
       "<tf.Tensor: shape=(1, 2), dtype=float32, numpy=array([[-0.9147026 , -0.05177283]], dtype=float32)>"
      ]
     },
     "execution_count": 69,
     "metadata": {},
     "output_type": "execute_result"
    }
   ],
   "source": [
    "aug_cnn_model(aug_X_test[0:1].values)"
   ]
  },
  {
   "cell_type": "code",
   "execution_count": 71,
   "id": "c79b6339-e41b-44ad-acb0-8805d4271686",
   "metadata": {},
   "outputs": [
    {
     "data": {
      "text/plain": [
       "<tf.Tensor: shape=(1, 2), dtype=float32, numpy=array([[-0.8761267 , -0.15146962]], dtype=float32)>"
      ]
     },
     "execution_count": 71,
     "metadata": {},
     "output_type": "execute_result"
    }
   ],
   "source": [
    "aug_cnn_model(aug_X_test[1000:1001].values)"
   ]
  },
  {
   "cell_type": "code",
   "execution_count": 74,
   "id": "90b7fb2e-40fc-4baa-82df-be8ec7407314",
   "metadata": {},
   "outputs": [
    {
     "data": {
      "text/plain": [
       "<tf.Tensor: shape=(1, 2), dtype=float32, numpy=array([[-0.88812345, -0.03368896]], dtype=float32)>"
      ]
     },
     "execution_count": 74,
     "metadata": {},
     "output_type": "execute_result"
    }
   ],
   "source": [
    "ricnn_model(aug_X_test[0:1].values)"
   ]
  },
  {
   "cell_type": "code",
   "execution_count": 75,
   "id": "0cc97470-c3c2-478d-bb16-61e8cf45f711",
   "metadata": {},
   "outputs": [
    {
     "data": {
      "text/plain": [
       "<tf.Tensor: shape=(1, 2), dtype=float32, numpy=array([[-0.88812333, -0.03368849]], dtype=float32)>"
      ]
     },
     "execution_count": 75,
     "metadata": {},
     "output_type": "execute_result"
    }
   ],
   "source": [
    "ricnn_model(aug_X_test[1000:1001].values)"
   ]
  },
  {
   "cell_type": "code",
   "execution_count": 9,
   "id": "79598636-cb26-4412-bcb2-e438d2e8972d",
   "metadata": {},
   "outputs": [
    {
     "data": {
      "image/png": "[encoded data removed]",
      "text/plain": [
       "<Figure size 720x720 with 1 Axes>"
      ]
     },
     "metadata": {},
     "output_type": "display_data"
    }
   ],
   "source": [
    "F, ax = plt.subplots(1, 1, figsize=(10, 10))\n",
    "ax.imshow(aug_X_test[0, :, :, 0], cmap='viridis')\n",
    "ax.set_xticks([])\n",
    "ax.set_yticks([])\n",
    "F.set_facecolor('white')"
   ]
  },
  {
   "cell_type": "code",
   "execution_count": 10,
   "id": "8cdb0f93-cab8-47dc-a382-0bac3b89e43e",
   "metadata": {},
   "outputs": [
    {
     "data": {
      "image/png": "[encoded data removed]",
      "text/plain": [
       "<Figure size 720x720 with 1 Axes>"
      ]
     },
     "metadata": {},
     "output_type": "display_data"
    }
   ],
   "source": [
    "F, ax = plt.subplots(1, 1, figsize=(10, 10))\n",
    "ax.imshow(aug_X_test[1000, :, :, 0], cmap='viridis')\n",
    "ax.set_xticks([])\n",
    "ax.set_yticks([])\n",
    "F.set_facecolor('white')"
   ]
  },
  {
   "cell_type": "code",
   "execution_count": null,
   "id": "0ac13e37-5730-4297-b442-e37d1ae55ee7",
   "metadata": {},
   "outputs": [],
   "source": []
  }
 ],
 "metadata": {
  "kernelspec": {
   "display_name": "Python [conda env:.conda-shap-env]",
   "language": "python",
   "name": "conda-env-.conda-shap-env-py"
  },
  "language_info": {
   "codemirror_mode": {
    "name": "ipython",
    "version": 3
   },
   "file_extension": ".py",
   "mimetype": "text/x-python",
   "name": "python",
   "nbconvert_exporter": "python",
   "pygments_lexer": "ipython3",
   "version": "3.10.4"
  }
 },
 "nbformat": 4,
 "nbformat_minor": 5
}
