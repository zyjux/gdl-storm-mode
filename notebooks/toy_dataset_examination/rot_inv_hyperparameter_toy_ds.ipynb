{
 "cells": [
  {
   "cell_type": "markdown",
   "id": "d43c4074-9d40-4773-bb9e-5b82768901bb",
   "metadata": {
    "tags": []
   },
   "source": [
    "## Imports"
   ]
  },
  {
   "cell_type": "code",
   "execution_count": 1,
   "id": "0742df0e-83c8-48e9-aaf5-39566a8df26d",
   "metadata": {},
   "outputs": [
    {
     "name": "stderr",
     "output_type": "stream",
     "text": [
      "2022-12-20 10:29:35.419154: I tensorflow/core/util/util.cc:169] oneDNN custom operations are on. You may see slightly different numerical results due to floating-point round-off errors from different computation orders. To turn them off, set the environment variable `TF_ENABLE_ONEDNN_OPTS=0`.\n"
     ]
    }
   ],
   "source": [
    "import tensorflow as tf\n",
    "from glob import glob\n",
    "from os.path import join\n",
    "from tensorflow.keras import layers, models\n",
    "import xarray as xr\n",
    "import pandas as pd\n",
    "from keras import backend as K\n",
    "import numpy as np\n",
    "import matplotlib.pyplot as plt\n",
    "import imports.GDL_layers as GDL_layers\n",
    "\n",
    "from time import time\n",
    "\n",
    "from sklearn.model_selection import GroupShuffleSplit\n",
    "from sklearn.preprocessing import StandardScaler"
   ]
  },
  {
   "cell_type": "markdown",
   "id": "13598ba8-c4a2-42c4-b264-ed58f86b7aa0",
   "metadata": {
    "tags": []
   },
   "source": [
    "## Load data"
   ]
  },
  {
   "cell_type": "code",
   "execution_count": 2,
   "id": "2e523f49-4ff4-46dc-a9e0-ee47457b82a2",
   "metadata": {},
   "outputs": [],
   "source": [
    "# Load data\n",
    "train_ds = xr.open_dataset(\"/glade/scratch/lverhoef/gdl_toy_ds/semifixed_train_data.nc\")\n",
    "validation_ds = xr.open_dataset(\"/glade/scratch/lverhoef/gdl_toy_ds/semifixed_validation_data.nc\")\n",
    "test_ds = xr.open_dataset(\"/glade/scratch/lverhoef/gdl_toy_ds/semifixed_test_data.nc\")"
   ]
  },
  {
   "cell_type": "code",
   "execution_count": 3,
   "id": "f7aa95f4-fe6f-4b24-8f84-8a6526177514",
   "metadata": {},
   "outputs": [],
   "source": [
    "input_train = train_ds['ellipse'].expand_dims(dim='channel', axis=-1)\n",
    "input_train['p'] = np.arange(input_train['p'].shape[0])\n",
    "output_train = train_ds[['maj_len', 'min_len']].to_array().transpose()\n",
    "output_train['p'] = np.arange(output_train['p'].shape[0])\n",
    "input_val = validation_ds['ellipse'].expand_dims(dim='channel', axis=-1)\n",
    "input_val['p'] = np.arange(input_val['p'].shape[0])\n",
    "output_val = validation_ds[['maj_len', 'min_len']].to_array().transpose()\n",
    "output_val['p'] = np.arange(output_val['p'].shape[0])\n",
    "input_test = test_ds['ellipse'].expand_dims(dim='channel', axis=-1)\n",
    "input_test['p'] = np.arange(input_test['p'].shape[0])\n",
    "output_test = test_ds[['maj_len', 'min_len']].to_array().transpose()\n",
    "output_test['p'] = np.arange(output_test['p'].shape[0])"
   ]
  },
  {
   "cell_type": "code",
   "execution_count": 4,
   "id": "dd58124f-95c2-4d01-b11a-a20cf5ac3083",
   "metadata": {},
   "outputs": [],
   "source": [
    "# Normalize the output data\n",
    "output_scale_stats = pd.DataFrame(index=range(output_train.shape[-1]), columns=[\"mean\", \"sd\"])\n",
    "output_scale_stats.loc[:, \"mean\"] = output_train.mean(dim=\"p\")\n",
    "output_scale_stats.loc[:, \"sd\"] = output_train.std(dim=\"p\")\n",
    "output_train_norm = xr.DataArray(coords=output_train.coords, dims=output_train.dims)\n",
    "output_val_norm = xr.DataArray(coords=output_val.coords, dims=output_val.dims)\n",
    "output_test_norm = xr.DataArray(coords=output_test.coords, dims=output_test.dims)\n",
    "for i in range(output_train.shape[-1]):\n",
    "    output_train_norm[:, i] = (output_train[:, i] - output_scale_stats.loc[i, \"mean\"]) / output_scale_stats.loc[i, \"sd\"]\n",
    "    output_val_norm[:, i] = (output_val[:, i] - output_scale_stats.loc[i, \"mean\"]) / output_scale_stats.loc[i, \"sd\"]\n",
    "    output_test_norm[:, i] = (output_test[:, i] - output_scale_stats.loc[i, \"mean\"]) / output_scale_stats.loc[i, \"sd\"]"
   ]
  },
  {
   "cell_type": "markdown",
   "id": "c5354bbd-333d-49b6-a61d-53dc199ea1d0",
   "metadata": {
    "tags": []
   },
   "source": [
    "## Train Models"
   ]
  },
  {
   "cell_type": "code",
   "execution_count": 5,
   "id": "3e11ef0a-3959-462a-a57f-d4870573d446",
   "metadata": {},
   "outputs": [
    {
     "name": "stderr",
     "output_type": "stream",
     "text": [
      "2022-12-20 10:30:00.034024: I tensorflow/core/platform/cpu_feature_guard.cc:193] This TensorFlow binary is optimized with oneAPI Deep Neural Network Library (oneDNN) to use the following CPU instructions in performance-critical operations:  AVX2 AVX512F AVX512_VNNI FMA\n",
      "To enable them in other operations, rebuild TensorFlow with the appropriate compiler flags.\n",
      "2022-12-20 10:30:00.930545: I tensorflow/core/common_runtime/gpu/gpu_device.cc:1532] Created device /job:localhost/replica:0/task:0/device:GPU:0 with 30988 MB memory:  -> device: 0, name: Tesla V100-SXM2-32GB, pci bus id: 0000:62:00.0, compute capability: 7.0\n"
     ]
    }
   ],
   "source": [
    "ricnn_models = [models.Sequential() for i in range(6)]\n",
    "filters = [32, 64, 64, 128]\n",
    "for inv_layer in range(6):\n",
    "    ricnn_models[inv_layer].add(GDL_layers.RotEquivConv2D(filters[0], (3, 3), rot_axis=False, input_shape=(128, 128, 1)))\n",
    "    ricnn_models[inv_layer].add(GDL_layers.RotEquivPool2D((2, 2)))\n",
    "    if inv_layer == 0:\n",
    "        ricnn_models[inv_layer].add(GDL_layers.RotInvPool())\n",
    "    for layer, filts in enumerate(filters):\n",
    "        if layer < inv_layer:\n",
    "            ricnn_models[inv_layer].add(GDL_layers.RotEquivConv2D(filters[layer], (3, 3)))\n",
    "            ricnn_models[inv_layer].add(GDL_layers.RotEquivPool2D((2, 2)))\n",
    "            if layer + 1 == inv_layer:\n",
    "                ricnn_models[inv_layer].add(GDL_layers.RotInvPool())\n",
    "        else:\n",
    "            ricnn_models[inv_layer].add(layers.Conv2D(filters[layer], (3, 3), activation='relu'))\n",
    "            ricnn_models[inv_layer].add(layers.MaxPooling2D((2, 2)))\n",
    "    ricnn_models[inv_layer].add(layers.Flatten())\n",
    "    ricnn_models[inv_layer].add(layers.Dense(32, activation='relu'))\n",
    "    ricnn_models[inv_layer].add(layers.Dense(2))\n",
    "    ricnn_models[inv_layer].compile(\n",
    "        optimizer='nadam',\n",
    "        loss='mse'\n",
    "    )"
   ]
  },
  {
   "cell_type": "code",
   "execution_count": 6,
   "id": "9f0082d7-bb9a-434c-a9d5-fce4ec479b8b",
   "metadata": {},
   "outputs": [
    {
     "name": "stdout",
     "output_type": "stream",
     "text": [
      "Model: \"sequential\"\n",
      "_________________________________________________________________\n",
      " Layer (type)                Output Shape              Param #   \n",
      "=================================================================\n",
      " rot_equiv_conv2d (RotEquivC  (None, 126, 126, 4, 32)  320       \n",
      " onv2D)                                                          \n",
      "                                                                 \n",
      " rot_equiv_pool2d (RotEquivP  (None, 63, 63, 4, 32)    0         \n",
      " ool2D)                                                          \n",
      "                                                                 \n",
      " rot_inv_pool (RotInvPool)   (None, 63, 63, 32)        0         \n",
      "                                                                 \n",
      " conv2d (Conv2D)             (None, 61, 61, 32)        9248      \n",
      "                                                                 \n",
      " max_pooling2d_1 (MaxPooling  (None, 30, 30, 32)       0         \n",
      " 2D)                                                             \n",
      "                                                                 \n",
      " conv2d_1 (Conv2D)           (None, 28, 28, 64)        18496     \n",
      "                                                                 \n",
      " max_pooling2d_2 (MaxPooling  (None, 14, 14, 64)       0         \n",
      " 2D)                                                             \n",
      "                                                                 \n",
      " conv2d_2 (Conv2D)           (None, 12, 12, 64)        36928     \n",
      "                                                                 \n",
      " max_pooling2d_3 (MaxPooling  (None, 6, 6, 64)         0         \n",
      " 2D)                                                             \n",
      "                                                                 \n",
      " conv2d_3 (Conv2D)           (None, 4, 4, 128)         73856     \n",
      "                                                                 \n",
      " max_pooling2d_4 (MaxPooling  (None, 2, 2, 128)        0         \n",
      " 2D)                                                             \n",
      "                                                                 \n",
      " flatten (Flatten)           (None, 512)               0         \n",
      "                                                                 \n",
      " dense (Dense)               (None, 32)                16416     \n",
      "                                                                 \n",
      " dense_1 (Dense)             (None, 2)                 66        \n",
      "                                                                 \n",
      "=================================================================\n",
      "Total params: 155,330\n",
      "Trainable params: 155,330\n",
      "Non-trainable params: 0\n",
      "_________________________________________________________________\n",
      "WARNING:tensorflow:Keras is training/fitting/evaluating on array-like data. Keras may not be optimized for this format, so if your input data format is supported by TensorFlow I/O (https://github.com/tensorflow/io) we recommend using that to load a Dataset instead.\n",
      "Epoch 1/10\n"
     ]
    },
    {
     "name": "stderr",
     "output_type": "stream",
     "text": [
      "2022-12-20 10:30:05.424904: I tensorflow/stream_executor/cuda/cuda_dnn.cc:384] Loaded cuDNN version 8100\n"
     ]
    },
    {
     "name": "stdout",
     "output_type": "stream",
     "text": [
      "313/313 [==============================] - ETA: 0s - loss: 0.5929WARNING:tensorflow:Keras is training/fitting/evaluating on array-like data. Keras may not be optimized for this format, so if your input data format is supported by TensorFlow I/O (https://github.com/tensorflow/io) we recommend using that to load a Dataset instead.\n",
      "313/313 [==============================] - 19s 44ms/step - loss: 0.5929 - val_loss: 0.3451\n",
      "Epoch 2/10\n",
      "313/313 [==============================] - 13s 43ms/step - loss: 0.2225 - val_loss: 0.3684\n",
      "Epoch 3/10\n",
      "313/313 [==============================] - 13s 42ms/step - loss: 0.0986 - val_loss: 0.1569\n",
      "Epoch 4/10\n",
      "313/313 [==============================] - 13s 42ms/step - loss: 0.0688 - val_loss: 0.0764\n",
      "Epoch 5/10\n",
      "313/313 [==============================] - 13s 43ms/step - loss: 0.0562 - val_loss: 0.0662\n",
      "Epoch 6/10\n",
      "313/313 [==============================] - 13s 43ms/step - loss: 0.0467 - val_loss: 0.0975\n",
      "Epoch 7/10\n",
      "313/313 [==============================] - 14s 43ms/step - loss: 0.0400 - val_loss: 0.1076\n",
      "Epoch 8/10\n",
      "313/313 [==============================] - 13s 43ms/step - loss: 0.0350 - val_loss: 0.0449\n",
      "Epoch 9/10\n",
      "313/313 [==============================] - 13s 43ms/step - loss: 0.0330 - val_loss: 0.0394\n",
      "Epoch 10/10\n",
      "313/313 [==============================] - 14s 44ms/step - loss: 0.0297 - val_loss: 0.0414\n",
      "Time elapsed: 139.951\n",
      "WARNING:tensorflow:Keras is training/fitting/evaluating on array-like data. Keras may not be optimized for this format, so if your input data format is supported by TensorFlow I/O (https://github.com/tensorflow/io) we recommend using that to load a Dataset instead.\n",
      "32/32 [==============================] - 1s 19ms/step - loss: 0.0395\n"
     ]
    },
    {
     "name": "stderr",
     "output_type": "stream",
     "text": [
      "WARNING:absl:Found untraced functions such as _jit_compiled_convolution_op, _jit_compiled_convolution_op, _jit_compiled_convolution_op, _jit_compiled_convolution_op while saving (showing 4 of 4). These functions will not be directly callable after loading.\n"
     ]
    },
    {
     "name": "stdout",
     "output_type": "stream",
     "text": [
      "INFO:tensorflow:Assets written to: saved_models/rot_inv_hyper/inv_layer_0/assets\n"
     ]
    },
    {
     "name": "stderr",
     "output_type": "stream",
     "text": [
      "INFO:tensorflow:Assets written to: saved_models/rot_inv_hyper/inv_layer_0/assets\n"
     ]
    },
    {
     "name": "stdout",
     "output_type": "stream",
     "text": [
      "Model: \"sequential_1\"\n",
      "_________________________________________________________________\n",
      " Layer (type)                Output Shape              Param #   \n",
      "=================================================================\n",
      " rot_equiv_conv2d_1 (RotEqui  (None, 126, 126, 4, 32)  320       \n",
      " vConv2D)                                                        \n",
      "                                                                 \n",
      " rot_equiv_pool2d_1 (RotEqui  (None, 63, 63, 4, 32)    0         \n",
      " vPool2D)                                                        \n",
      "                                                                 \n",
      " rot_equiv_conv2d_2 (RotEqui  (None, 61, 61, 4, 32)    9248      \n",
      " vConv2D)                                                        \n",
      "                                                                 \n",
      " rot_equiv_pool2d_2 (RotEqui  (None, 30, 30, 4, 32)    0         \n",
      " vPool2D)                                                        \n",
      "                                                                 \n",
      " rot_inv_pool_1 (RotInvPool)  (None, 30, 30, 32)       0         \n",
      "                                                                 \n",
      " conv2d_4 (Conv2D)           (None, 28, 28, 64)        18496     \n",
      "                                                                 \n",
      " max_pooling2d_7 (MaxPooling  (None, 14, 14, 64)       0         \n",
      " 2D)                                                             \n",
      "                                                                 \n",
      " conv2d_5 (Conv2D)           (None, 12, 12, 64)        36928     \n",
      "                                                                 \n",
      " max_pooling2d_8 (MaxPooling  (None, 6, 6, 64)         0         \n",
      " 2D)                                                             \n",
      "                                                                 \n",
      " conv2d_6 (Conv2D)           (None, 4, 4, 128)         73856     \n",
      "                                                                 \n",
      " max_pooling2d_9 (MaxPooling  (None, 2, 2, 128)        0         \n",
      " 2D)                                                             \n",
      "                                                                 \n",
      " flatten_1 (Flatten)         (None, 512)               0         \n",
      "                                                                 \n",
      " dense_2 (Dense)             (None, 32)                16416     \n",
      "                                                                 \n",
      " dense_3 (Dense)             (None, 2)                 66        \n",
      "                                                                 \n",
      "=================================================================\n",
      "Total params: 155,330\n",
      "Trainable params: 155,330\n",
      "Non-trainable params: 0\n",
      "_________________________________________________________________\n",
      "WARNING:tensorflow:Keras is training/fitting/evaluating on array-like data. Keras may not be optimized for this format, so if your input data format is supported by TensorFlow I/O (https://github.com/tensorflow/io) we recommend using that to load a Dataset instead.\n"
     ]
    },
    {
     "name": "stderr",
     "output_type": "stream",
     "text": [
      "WARNING:tensorflow:Keras is training/fitting/evaluating on array-like data. Keras may not be optimized for this format, so if your input data format is supported by TensorFlow I/O (https://github.com/tensorflow/io) we recommend using that to load a Dataset instead.\n"
     ]
    },
    {
     "name": "stdout",
     "output_type": "stream",
     "text": [
      "Epoch 1/10\n",
      "313/313 [==============================] - ETA: 0s - loss: 0.5310WARNING:tensorflow:Keras is training/fitting/evaluating on array-like data. Keras may not be optimized for this format, so if your input data format is supported by TensorFlow I/O (https://github.com/tensorflow/io) we recommend using that to load a Dataset instead.\n"
     ]
    },
    {
     "name": "stderr",
     "output_type": "stream",
     "text": [
      "WARNING:tensorflow:Keras is training/fitting/evaluating on array-like data. Keras may not be optimized for this format, so if your input data format is supported by TensorFlow I/O (https://github.com/tensorflow/io) we recommend using that to load a Dataset instead.\n"
     ]
    },
    {
     "name": "stdout",
     "output_type": "stream",
     "text": [
      "313/313 [==============================] - 19s 54ms/step - loss: 0.5310 - val_loss: 0.2359\n",
      "Epoch 2/10\n",
      "313/313 [==============================] - 17s 53ms/step - loss: 0.1484 - val_loss: 0.0917\n",
      "Epoch 3/10\n",
      "313/313 [==============================] - 17s 53ms/step - loss: 0.0804 - val_loss: 0.0787\n",
      "Epoch 4/10\n",
      "313/313 [==============================] - 17s 54ms/step - loss: 0.0564 - val_loss: 0.0648\n",
      "Epoch 5/10\n",
      "313/313 [==============================] - 17s 53ms/step - loss: 0.0429 - val_loss: 0.0587\n",
      "Epoch 6/10\n",
      "313/313 [==============================] - 17s 53ms/step - loss: 0.0345 - val_loss: 0.0605\n",
      "Epoch 7/10\n",
      "313/313 [==============================] - 17s 53ms/step - loss: 0.0301 - val_loss: 0.0430\n",
      "Epoch 8/10\n",
      "313/313 [==============================] - 17s 53ms/step - loss: 0.0255 - val_loss: 0.1199\n",
      "Epoch 9/10\n",
      "313/313 [==============================] - 17s 53ms/step - loss: 0.0236 - val_loss: 0.0354\n",
      "Epoch 10/10\n",
      "313/313 [==============================] - 17s 53ms/step - loss: 0.0214 - val_loss: 0.0337\n",
      "Time elapsed: 169.274\n",
      "WARNING:tensorflow:Keras is training/fitting/evaluating on array-like data. Keras may not be optimized for this format, so if your input data format is supported by TensorFlow I/O (https://github.com/tensorflow/io) we recommend using that to load a Dataset instead.\n"
     ]
    },
    {
     "name": "stderr",
     "output_type": "stream",
     "text": [
      "WARNING:tensorflow:Keras is training/fitting/evaluating on array-like data. Keras may not be optimized for this format, so if your input data format is supported by TensorFlow I/O (https://github.com/tensorflow/io) we recommend using that to load a Dataset instead.\n"
     ]
    },
    {
     "name": "stdout",
     "output_type": "stream",
     "text": [
      "32/32 [==============================] - 1s 20ms/step - loss: 0.0350\n"
     ]
    },
    {
     "name": "stderr",
     "output_type": "stream",
     "text": [
      "WARNING:absl:Found untraced functions such as _jit_compiled_convolution_op, _jit_compiled_convolution_op, _jit_compiled_convolution_op while saving (showing 3 of 3). These functions will not be directly callable after loading.\n"
     ]
    },
    {
     "name": "stdout",
     "output_type": "stream",
     "text": [
      "INFO:tensorflow:Assets written to: saved_models/rot_inv_hyper/inv_layer_1/assets\n"
     ]
    },
    {
     "name": "stderr",
     "output_type": "stream",
     "text": [
      "INFO:tensorflow:Assets written to: saved_models/rot_inv_hyper/inv_layer_1/assets\n"
     ]
    },
    {
     "name": "stdout",
     "output_type": "stream",
     "text": [
      "Model: \"sequential_2\"\n",
      "_________________________________________________________________\n",
      " Layer (type)                Output Shape              Param #   \n",
      "=================================================================\n",
      " rot_equiv_conv2d_3 (RotEqui  (None, 126, 126, 4, 32)  320       \n",
      " vConv2D)                                                        \n",
      "                                                                 \n",
      " rot_equiv_pool2d_3 (RotEqui  (None, 63, 63, 4, 32)    0         \n",
      " vPool2D)                                                        \n",
      "                                                                 \n",
      " rot_equiv_conv2d_4 (RotEqui  (None, 61, 61, 4, 32)    9248      \n",
      " vConv2D)                                                        \n",
      "                                                                 \n",
      " rot_equiv_pool2d_4 (RotEqui  (None, 30, 30, 4, 32)    0         \n",
      " vPool2D)                                                        \n",
      "                                                                 \n",
      " rot_equiv_conv2d_5 (RotEqui  (None, 28, 28, 4, 64)    18496     \n",
      " vConv2D)                                                        \n",
      "                                                                 \n",
      " rot_equiv_pool2d_5 (RotEqui  (None, 14, 14, 4, 64)    0         \n",
      " vPool2D)                                                        \n",
      "                                                                 \n",
      " rot_inv_pool_2 (RotInvPool)  (None, 14, 14, 64)       0         \n",
      "                                                                 \n",
      " conv2d_7 (Conv2D)           (None, 12, 12, 64)        36928     \n",
      "                                                                 \n",
      " max_pooling2d_13 (MaxPoolin  (None, 6, 6, 64)         0         \n",
      " g2D)                                                            \n",
      "                                                                 \n",
      " conv2d_8 (Conv2D)           (None, 4, 4, 128)         73856     \n",
      "                                                                 \n",
      " max_pooling2d_14 (MaxPoolin  (None, 2, 2, 128)        0         \n",
      " g2D)                                                            \n",
      "                                                                 \n",
      " flatten_2 (Flatten)         (None, 512)               0         \n",
      "                                                                 \n",
      " dense_4 (Dense)             (None, 32)                16416     \n",
      "                                                                 \n",
      " dense_5 (Dense)             (None, 2)                 66        \n",
      "                                                                 \n",
      "=================================================================\n",
      "Total params: 155,330\n",
      "Trainable params: 155,330\n",
      "Non-trainable params: 0\n",
      "_________________________________________________________________\n",
      "WARNING:tensorflow:Keras is training/fitting/evaluating on array-like data. Keras may not be optimized for this format, so if your input data format is supported by TensorFlow I/O (https://github.com/tensorflow/io) we recommend using that to load a Dataset instead.\n"
     ]
    },
    {
     "name": "stderr",
     "output_type": "stream",
     "text": [
      "WARNING:tensorflow:Keras is training/fitting/evaluating on array-like data. Keras may not be optimized for this format, so if your input data format is supported by TensorFlow I/O (https://github.com/tensorflow/io) we recommend using that to load a Dataset instead.\n"
     ]
    },
    {
     "name": "stdout",
     "output_type": "stream",
     "text": [
      "Epoch 1/10\n",
      "312/313 [============================>.] - ETA: 0s - loss: 0.5304WARNING:tensorflow:Keras is training/fitting/evaluating on array-like data. Keras may not be optimized for this format, so if your input data format is supported by TensorFlow I/O (https://github.com/tensorflow/io) we recommend using that to load a Dataset instead.\n"
     ]
    },
    {
     "name": "stderr",
     "output_type": "stream",
     "text": [
      "WARNING:tensorflow:Keras is training/fitting/evaluating on array-like data. Keras may not be optimized for this format, so if your input data format is supported by TensorFlow I/O (https://github.com/tensorflow/io) we recommend using that to load a Dataset instead.\n"
     ]
    },
    {
     "name": "stdout",
     "output_type": "stream",
     "text": [
      "313/313 [==============================] - 22s 60ms/step - loss: 0.5300 - val_loss: 0.3908\n",
      "Epoch 2/10\n",
      "313/313 [==============================] - 18s 58ms/step - loss: 0.1429 - val_loss: 0.0694\n",
      "Epoch 3/10\n",
      "313/313 [==============================] - 18s 58ms/step - loss: 0.0678 - val_loss: 0.0581\n",
      "Epoch 4/10\n",
      "313/313 [==============================] - 18s 58ms/step - loss: 0.0471 - val_loss: 0.1547\n",
      "Epoch 5/10\n",
      "313/313 [==============================] - 18s 58ms/step - loss: 0.0338 - val_loss: 0.0824\n",
      "Epoch 6/10\n",
      "313/313 [==============================] - 18s 58ms/step - loss: 0.0266 - val_loss: 0.0425\n",
      "Epoch 7/10\n",
      "313/313 [==============================] - 18s 58ms/step - loss: 0.0208 - val_loss: 0.0197\n",
      "Epoch 8/10\n",
      "313/313 [==============================] - 18s 58ms/step - loss: 0.0200 - val_loss: 0.0658\n",
      "Epoch 9/10\n",
      "313/313 [==============================] - 18s 58ms/step - loss: 0.0161 - val_loss: 0.0228\n",
      "Epoch 10/10\n",
      "313/313 [==============================] - 18s 58ms/step - loss: 0.0159 - val_loss: 0.0181\n",
      "Time elapsed: 184.561\n",
      "WARNING:tensorflow:Keras is training/fitting/evaluating on array-like data. Keras may not be optimized for this format, so if your input data format is supported by TensorFlow I/O (https://github.com/tensorflow/io) we recommend using that to load a Dataset instead.\n"
     ]
    },
    {
     "name": "stderr",
     "output_type": "stream",
     "text": [
      "WARNING:tensorflow:Keras is training/fitting/evaluating on array-like data. Keras may not be optimized for this format, so if your input data format is supported by TensorFlow I/O (https://github.com/tensorflow/io) we recommend using that to load a Dataset instead.\n"
     ]
    },
    {
     "name": "stdout",
     "output_type": "stream",
     "text": [
      "32/32 [==============================] - 1s 21ms/step - loss: 0.0232\n"
     ]
    },
    {
     "name": "stderr",
     "output_type": "stream",
     "text": [
      "WARNING:absl:Found untraced functions such as _jit_compiled_convolution_op, _jit_compiled_convolution_op while saving (showing 2 of 2). These functions will not be directly callable after loading.\n"
     ]
    },
    {
     "name": "stdout",
     "output_type": "stream",
     "text": [
      "INFO:tensorflow:Assets written to: saved_models/rot_inv_hyper/inv_layer_2/assets\n"
     ]
    },
    {
     "name": "stderr",
     "output_type": "stream",
     "text": [
      "INFO:tensorflow:Assets written to: saved_models/rot_inv_hyper/inv_layer_2/assets\n"
     ]
    },
    {
     "name": "stdout",
     "output_type": "stream",
     "text": [
      "Model: \"sequential_3\"\n",
      "_________________________________________________________________\n",
      " Layer (type)                Output Shape              Param #   \n",
      "=================================================================\n",
      " rot_equiv_conv2d_6 (RotEqui  (None, 126, 126, 4, 32)  320       \n",
      " vConv2D)                                                        \n",
      "                                                                 \n",
      " rot_equiv_pool2d_6 (RotEqui  (None, 63, 63, 4, 32)    0         \n",
      " vPool2D)                                                        \n",
      "                                                                 \n",
      " rot_equiv_conv2d_7 (RotEqui  (None, 61, 61, 4, 32)    9248      \n",
      " vConv2D)                                                        \n",
      "                                                                 \n",
      " rot_equiv_pool2d_7 (RotEqui  (None, 30, 30, 4, 32)    0         \n",
      " vPool2D)                                                        \n",
      "                                                                 \n",
      " rot_equiv_conv2d_8 (RotEqui  (None, 28, 28, 4, 64)    18496     \n",
      " vConv2D)                                                        \n",
      "                                                                 \n",
      " rot_equiv_pool2d_8 (RotEqui  (None, 14, 14, 4, 64)    0         \n",
      " vPool2D)                                                        \n",
      "                                                                 \n",
      " rot_equiv_conv2d_9 (RotEqui  (None, 12, 12, 4, 64)    36928     \n",
      " vConv2D)                                                        \n",
      "                                                                 \n",
      " rot_equiv_pool2d_9 (RotEqui  (None, 6, 6, 4, 64)      0         \n",
      " vPool2D)                                                        \n",
      "                                                                 \n",
      " rot_inv_pool_3 (RotInvPool)  (None, 6, 6, 64)         0         \n",
      "                                                                 \n",
      " conv2d_9 (Conv2D)           (None, 4, 4, 128)         73856     \n",
      "                                                                 \n",
      " max_pooling2d_19 (MaxPoolin  (None, 2, 2, 128)        0         \n",
      " g2D)                                                            \n",
      "                                                                 \n",
      " flatten_3 (Flatten)         (None, 512)               0         \n",
      "                                                                 \n",
      " dense_6 (Dense)             (None, 32)                16416     \n",
      "                                                                 \n",
      " dense_7 (Dense)             (None, 2)                 66        \n",
      "                                                                 \n",
      "=================================================================\n",
      "Total params: 155,330\n",
      "Trainable params: 155,330\n",
      "Non-trainable params: 0\n",
      "_________________________________________________________________\n",
      "WARNING:tensorflow:Keras is training/fitting/evaluating on array-like data. Keras may not be optimized for this format, so if your input data format is supported by TensorFlow I/O (https://github.com/tensorflow/io) we recommend using that to load a Dataset instead.\n"
     ]
    },
    {
     "name": "stderr",
     "output_type": "stream",
     "text": [
      "WARNING:tensorflow:Keras is training/fitting/evaluating on array-like data. Keras may not be optimized for this format, so if your input data format is supported by TensorFlow I/O (https://github.com/tensorflow/io) we recommend using that to load a Dataset instead.\n"
     ]
    },
    {
     "name": "stdout",
     "output_type": "stream",
     "text": [
      "Epoch 1/10\n",
      "312/313 [============================>.] - ETA: 0s - loss: 0.5006WARNING:tensorflow:Keras is training/fitting/evaluating on array-like data. Keras may not be optimized for this format, so if your input data format is supported by TensorFlow I/O (https://github.com/tensorflow/io) we recommend using that to load a Dataset instead.\n"
     ]
    },
    {
     "name": "stderr",
     "output_type": "stream",
     "text": [
      "WARNING:tensorflow:Keras is training/fitting/evaluating on array-like data. Keras may not be optimized for this format, so if your input data format is supported by TensorFlow I/O (https://github.com/tensorflow/io) we recommend using that to load a Dataset instead.\n"
     ]
    },
    {
     "name": "stdout",
     "output_type": "stream",
     "text": [
      "313/313 [==============================] - 23s 61ms/step - loss: 0.5002 - val_loss: 0.3304\n",
      "Epoch 2/10\n",
      "313/313 [==============================] - 19s 60ms/step - loss: 0.0973 - val_loss: 0.0370\n",
      "Epoch 3/10\n",
      "313/313 [==============================] - 19s 60ms/step - loss: 0.0410 - val_loss: 0.0474\n",
      "Epoch 4/10\n",
      "313/313 [==============================] - 19s 60ms/step - loss: 0.0266 - val_loss: 0.0122\n",
      "Epoch 5/10\n",
      "313/313 [==============================] - 19s 60ms/step - loss: 0.0222 - val_loss: 0.0188\n",
      "Epoch 6/10\n",
      "313/313 [==============================] - 19s 60ms/step - loss: 0.0170 - val_loss: 0.0109\n",
      "Epoch 7/10\n",
      "313/313 [==============================] - 19s 59ms/step - loss: 0.0150 - val_loss: 0.0089\n",
      "Epoch 8/10\n",
      "313/313 [==============================] - 19s 60ms/step - loss: 0.0130 - val_loss: 0.0144\n",
      "Epoch 9/10\n",
      "313/313 [==============================] - 19s 59ms/step - loss: 0.0116 - val_loss: 0.0092\n",
      "Epoch 10/10\n",
      "313/313 [==============================] - 19s 60ms/step - loss: 0.0120 - val_loss: 0.0167\n",
      "Time elapsed: 191.114\n",
      "WARNING:tensorflow:Keras is training/fitting/evaluating on array-like data. Keras may not be optimized for this format, so if your input data format is supported by TensorFlow I/O (https://github.com/tensorflow/io) we recommend using that to load a Dataset instead.\n"
     ]
    },
    {
     "name": "stderr",
     "output_type": "stream",
     "text": [
      "WARNING:tensorflow:Keras is training/fitting/evaluating on array-like data. Keras may not be optimized for this format, so if your input data format is supported by TensorFlow I/O (https://github.com/tensorflow/io) we recommend using that to load a Dataset instead.\n"
     ]
    },
    {
     "name": "stdout",
     "output_type": "stream",
     "text": [
      "32/32 [==============================] - 1s 23ms/step - loss: 0.0197\n"
     ]
    },
    {
     "name": "stderr",
     "output_type": "stream",
     "text": [
      "WARNING:absl:Found untraced functions such as _jit_compiled_convolution_op while saving (showing 1 of 1). These functions will not be directly callable after loading.\n"
     ]
    },
    {
     "name": "stdout",
     "output_type": "stream",
     "text": [
      "INFO:tensorflow:Assets written to: saved_models/rot_inv_hyper/inv_layer_3/assets\n"
     ]
    },
    {
     "name": "stderr",
     "output_type": "stream",
     "text": [
      "INFO:tensorflow:Assets written to: saved_models/rot_inv_hyper/inv_layer_3/assets\n"
     ]
    },
    {
     "name": "stdout",
     "output_type": "stream",
     "text": [
      "Model: \"sequential_4\"\n",
      "_________________________________________________________________\n",
      " Layer (type)                Output Shape              Param #   \n",
      "=================================================================\n",
      " rot_equiv_conv2d_10 (RotEqu  (None, 126, 126, 4, 32)  320       \n",
      " ivConv2D)                                                       \n",
      "                                                                 \n",
      " rot_equiv_pool2d_10 (RotEqu  (None, 63, 63, 4, 32)    0         \n",
      " ivPool2D)                                                       \n",
      "                                                                 \n",
      " rot_equiv_conv2d_11 (RotEqu  (None, 61, 61, 4, 32)    9248      \n",
      " ivConv2D)                                                       \n",
      "                                                                 \n",
      " rot_equiv_pool2d_11 (RotEqu  (None, 30, 30, 4, 32)    0         \n",
      " ivPool2D)                                                       \n",
      "                                                                 \n",
      " rot_equiv_conv2d_12 (RotEqu  (None, 28, 28, 4, 64)    18496     \n",
      " ivConv2D)                                                       \n",
      "                                                                 \n",
      " rot_equiv_pool2d_12 (RotEqu  (None, 14, 14, 4, 64)    0         \n",
      " ivPool2D)                                                       \n",
      "                                                                 \n",
      " rot_equiv_conv2d_13 (RotEqu  (None, 12, 12, 4, 64)    36928     \n",
      " ivConv2D)                                                       \n",
      "                                                                 \n",
      " rot_equiv_pool2d_13 (RotEqu  (None, 6, 6, 4, 64)      0         \n",
      " ivPool2D)                                                       \n",
      "                                                                 \n",
      " rot_equiv_conv2d_14 (RotEqu  (None, 4, 4, 4, 128)     73856     \n",
      " ivConv2D)                                                       \n",
      "                                                                 \n",
      " rot_equiv_pool2d_14 (RotEqu  (None, 2, 2, 4, 128)     0         \n",
      " ivPool2D)                                                       \n",
      "                                                                 \n",
      " rot_inv_pool_4 (RotInvPool)  (None, 2, 2, 128)        0         \n",
      "                                                                 \n",
      " flatten_4 (Flatten)         (None, 512)               0         \n",
      "                                                                 \n",
      " dense_8 (Dense)             (None, 32)                16416     \n",
      "                                                                 \n",
      " dense_9 (Dense)             (None, 2)                 66        \n",
      "                                                                 \n",
      "=================================================================\n",
      "Total params: 155,330\n",
      "Trainable params: 155,330\n",
      "Non-trainable params: 0\n",
      "_________________________________________________________________\n",
      "WARNING:tensorflow:Keras is training/fitting/evaluating on array-like data. Keras may not be optimized for this format, so if your input data format is supported by TensorFlow I/O (https://github.com/tensorflow/io) we recommend using that to load a Dataset instead.\n"
     ]
    },
    {
     "name": "stderr",
     "output_type": "stream",
     "text": [
      "WARNING:tensorflow:Keras is training/fitting/evaluating on array-like data. Keras may not be optimized for this format, so if your input data format is supported by TensorFlow I/O (https://github.com/tensorflow/io) we recommend using that to load a Dataset instead.\n"
     ]
    },
    {
     "name": "stdout",
     "output_type": "stream",
     "text": [
      "Epoch 1/10\n",
      "312/313 [============================>.] - ETA: 0s - loss: 0.4795WARNING:tensorflow:Keras is training/fitting/evaluating on array-like data. Keras may not be optimized for this format, so if your input data format is supported by TensorFlow I/O (https://github.com/tensorflow/io) we recommend using that to load a Dataset instead.\n"
     ]
    },
    {
     "name": "stderr",
     "output_type": "stream",
     "text": [
      "WARNING:tensorflow:Keras is training/fitting/evaluating on array-like data. Keras may not be optimized for this format, so if your input data format is supported by TensorFlow I/O (https://github.com/tensorflow/io) we recommend using that to load a Dataset instead.\n"
     ]
    },
    {
     "name": "stdout",
     "output_type": "stream",
     "text": [
      "313/313 [==============================] - 24s 62ms/step - loss: 0.4788 - val_loss: 0.0833\n",
      "Epoch 2/10\n",
      "313/313 [==============================] - 19s 60ms/step - loss: 0.0787 - val_loss: 0.0207\n",
      "Epoch 3/10\n",
      "313/313 [==============================] - 19s 60ms/step - loss: 0.0373 - val_loss: 0.0184\n",
      "Epoch 4/10\n",
      "313/313 [==============================] - 19s 60ms/step - loss: 0.0249 - val_loss: 0.0098\n",
      "Epoch 5/10\n",
      "313/313 [==============================] - 19s 60ms/step - loss: 0.0185 - val_loss: 0.0289\n",
      "Epoch 6/10\n",
      "313/313 [==============================] - 19s 61ms/step - loss: 0.0160 - val_loss: 0.0160\n",
      "Epoch 7/10\n",
      "313/313 [==============================] - 19s 60ms/step - loss: 0.0137 - val_loss: 0.0172\n",
      "Epoch 8/10\n",
      "313/313 [==============================] - 19s 60ms/step - loss: 0.0121 - val_loss: 0.0116\n",
      "Epoch 9/10\n",
      "313/313 [==============================] - 19s 60ms/step - loss: 0.0108 - val_loss: 0.0224\n",
      "Epoch 10/10\n",
      "313/313 [==============================] - 19s 60ms/step - loss: 0.0102 - val_loss: 0.0060\n",
      "Time elapsed: 193.601\n",
      "WARNING:tensorflow:Keras is training/fitting/evaluating on array-like data. Keras may not be optimized for this format, so if your input data format is supported by TensorFlow I/O (https://github.com/tensorflow/io) we recommend using that to load a Dataset instead.\n"
     ]
    },
    {
     "name": "stderr",
     "output_type": "stream",
     "text": [
      "WARNING:tensorflow:Keras is training/fitting/evaluating on array-like data. Keras may not be optimized for this format, so if your input data format is supported by TensorFlow I/O (https://github.com/tensorflow/io) we recommend using that to load a Dataset instead.\n"
     ]
    },
    {
     "name": "stdout",
     "output_type": "stream",
     "text": [
      "32/32 [==============================] - 1s 23ms/step - loss: 0.0068\n",
      "INFO:tensorflow:Assets written to: saved_models/rot_inv_hyper/inv_layer_4/assets\n"
     ]
    },
    {
     "name": "stderr",
     "output_type": "stream",
     "text": [
      "INFO:tensorflow:Assets written to: saved_models/rot_inv_hyper/inv_layer_4/assets\n"
     ]
    },
    {
     "name": "stdout",
     "output_type": "stream",
     "text": [
      "Model: \"sequential_5\"\n",
      "_________________________________________________________________\n",
      " Layer (type)                Output Shape              Param #   \n",
      "=================================================================\n",
      " rot_equiv_conv2d_15 (RotEqu  (None, 126, 126, 4, 32)  320       \n",
      " ivConv2D)                                                       \n",
      "                                                                 \n",
      " rot_equiv_pool2d_15 (RotEqu  (None, 63, 63, 4, 32)    0         \n",
      " ivPool2D)                                                       \n",
      "                                                                 \n",
      " rot_equiv_conv2d_16 (RotEqu  (None, 61, 61, 4, 32)    9248      \n",
      " ivConv2D)                                                       \n",
      "                                                                 \n",
      " rot_equiv_pool2d_16 (RotEqu  (None, 30, 30, 4, 32)    0         \n",
      " ivPool2D)                                                       \n",
      "                                                                 \n",
      " rot_equiv_conv2d_17 (RotEqu  (None, 28, 28, 4, 64)    18496     \n",
      " ivConv2D)                                                       \n",
      "                                                                 \n",
      " rot_equiv_pool2d_17 (RotEqu  (None, 14, 14, 4, 64)    0         \n",
      " ivPool2D)                                                       \n",
      "                                                                 \n",
      " rot_equiv_conv2d_18 (RotEqu  (None, 12, 12, 4, 64)    36928     \n",
      " ivConv2D)                                                       \n",
      "                                                                 \n",
      " rot_equiv_pool2d_18 (RotEqu  (None, 6, 6, 4, 64)      0         \n",
      " ivPool2D)                                                       \n",
      "                                                                 \n",
      " rot_equiv_conv2d_19 (RotEqu  (None, 4, 4, 4, 128)     73856     \n",
      " ivConv2D)                                                       \n",
      "                                                                 \n",
      " rot_equiv_pool2d_19 (RotEqu  (None, 2, 2, 4, 128)     0         \n",
      " ivPool2D)                                                       \n",
      "                                                                 \n",
      " flatten_5 (Flatten)         (None, 2048)              0         \n",
      "                                                                 \n",
      " dense_10 (Dense)            (None, 32)                65568     \n",
      "                                                                 \n",
      " dense_11 (Dense)            (None, 2)                 66        \n",
      "                                                                 \n",
      "=================================================================\n",
      "Total params: 204,482\n",
      "Trainable params: 204,482\n",
      "Non-trainable params: 0\n",
      "_________________________________________________________________\n",
      "WARNING:tensorflow:Keras is training/fitting/evaluating on array-like data. Keras may not be optimized for this format, so if your input data format is supported by TensorFlow I/O (https://github.com/tensorflow/io) we recommend using that to load a Dataset instead.\n"
     ]
    },
    {
     "name": "stderr",
     "output_type": "stream",
     "text": [
      "WARNING:tensorflow:Keras is training/fitting/evaluating on array-like data. Keras may not be optimized for this format, so if your input data format is supported by TensorFlow I/O (https://github.com/tensorflow/io) we recommend using that to load a Dataset instead.\n"
     ]
    },
    {
     "name": "stdout",
     "output_type": "stream",
     "text": [
      "Epoch 1/10\n",
      "312/313 [============================>.] - ETA: 0s - loss: 0.5229WARNING:tensorflow:Keras is training/fitting/evaluating on array-like data. Keras may not be optimized for this format, so if your input data format is supported by TensorFlow I/O (https://github.com/tensorflow/io) we recommend using that to load a Dataset instead.\n"
     ]
    },
    {
     "name": "stderr",
     "output_type": "stream",
     "text": [
      "WARNING:tensorflow:Keras is training/fitting/evaluating on array-like data. Keras may not be optimized for this format, so if your input data format is supported by TensorFlow I/O (https://github.com/tensorflow/io) we recommend using that to load a Dataset instead.\n"
     ]
    },
    {
     "name": "stdout",
     "output_type": "stream",
     "text": [
      "313/313 [==============================] - 24s 63ms/step - loss: 0.5223 - val_loss: 0.2442\n",
      "Epoch 2/10\n",
      "313/313 [==============================] - 19s 62ms/step - loss: 0.0829 - val_loss: 0.0551\n",
      "Epoch 3/10\n",
      "313/313 [==============================] - 19s 61ms/step - loss: 0.0433 - val_loss: 0.0732\n",
      "Epoch 4/10\n",
      "313/313 [==============================] - 19s 61ms/step - loss: 0.0275 - val_loss: 0.0276\n",
      "Epoch 5/10\n",
      "313/313 [==============================] - 19s 61ms/step - loss: 0.0221 - val_loss: 0.0178\n",
      "Epoch 6/10\n",
      "313/313 [==============================] - 19s 61ms/step - loss: 0.0165 - val_loss: 0.0102\n",
      "Epoch 7/10\n",
      "313/313 [==============================] - 19s 61ms/step - loss: 0.0141 - val_loss: 0.0809\n",
      "Epoch 8/10\n",
      "313/313 [==============================] - 19s 61ms/step - loss: 0.0156 - val_loss: 0.0101\n",
      "Epoch 9/10\n",
      "313/313 [==============================] - 19s 62ms/step - loss: 0.0114 - val_loss: 0.0074\n",
      "Epoch 10/10\n",
      "313/313 [==============================] - 19s 61ms/step - loss: 0.0116 - val_loss: 0.0071\n",
      "Time elapsed: 196.323\n",
      "WARNING:tensorflow:Keras is training/fitting/evaluating on array-like data. Keras may not be optimized for this format, so if your input data format is supported by TensorFlow I/O (https://github.com/tensorflow/io) we recommend using that to load a Dataset instead.\n"
     ]
    },
    {
     "name": "stderr",
     "output_type": "stream",
     "text": [
      "WARNING:tensorflow:Keras is training/fitting/evaluating on array-like data. Keras may not be optimized for this format, so if your input data format is supported by TensorFlow I/O (https://github.com/tensorflow/io) we recommend using that to load a Dataset instead.\n"
     ]
    },
    {
     "name": "stdout",
     "output_type": "stream",
     "text": [
      "32/32 [==============================] - 1s 23ms/step - loss: 1.2780\n",
      "INFO:tensorflow:Assets written to: saved_models/rot_inv_hyper/inv_layer_5/assets\n"
     ]
    },
    {
     "name": "stderr",
     "output_type": "stream",
     "text": [
      "INFO:tensorflow:Assets written to: saved_models/rot_inv_hyper/inv_layer_5/assets\n"
     ]
    }
   ],
   "source": [
    "ricnn_history = []\n",
    "ricnn_test = []\n",
    "time_history = []\n",
    "for inv_layer, model in enumerate(ricnn_models):\n",
    "    model.summary()\n",
    "    start = time()\n",
    "    ricnn_history.append(model.fit(x=input_train, y=output_train_norm, epochs=10, validation_data=(input_val, output_val_norm)))\n",
    "    time_history.append(time() - start)\n",
    "    print(f'Time elapsed: {time_history[-1]:.3f}')\n",
    "    ricnn_test.append(model.evaluate(x=input_test, y=output_test_norm))\n",
    "    model.save(f\"saved_models/rot_inv_hyper/inv_layer_{inv_layer}\")\n",
    "    K.clear_session()"
   ]
  },
  {
   "cell_type": "code",
   "execution_count": 7,
   "id": "a6387474-5f98-40b1-8f95-58afbcd1aab3",
   "metadata": {},
   "outputs": [
    {
     "name": "stdout",
     "output_type": "stream",
     "text": [
      "[0.039537616074085236, 0.03501706197857857, 0.023247024044394493, 0.019677700474858284, 0.006801065988838673, 1.2780100107192993]\n",
      "[139.951336145401, 169.2742154598236, 184.56054663658142, 191.11355328559875, 193.60147333145142, 196.3232388496399]\n"
     ]
    }
   ],
   "source": [
    "print(ricnn_test)\n",
    "print(time_history)"
   ]
  },
  {
   "cell_type": "code",
   "execution_count": 8,
   "id": "75533ae6-39b2-46ab-8cf1-ec28c49b4005",
   "metadata": {},
   "outputs": [
    {
     "data": {
      "text/plain": [
       "(0.0, 0.6222683008760214)"
      ]
     },
     "execution_count": 8,
     "metadata": {},
     "output_type": "execute_result"
    },
    {
     "data": {
      "image/png": "[encoded data removed]",
      "text/plain": [
       "<Figure size 1080x720 with 1 Axes>"
      ]
     },
     "metadata": {
      "needs_background": "light"
     },
     "output_type": "display_data"
    }
   ],
   "source": [
    "F, ax = plt.subplots(1, 1, figsize=(15, 10))\n",
    "colors = ['orange', 'red', 'blue', 'green', 'gold', 'purple']\n",
    "for i in range(6):\n",
    "    ax.plot(ricnn_history[i].history['loss'], color=colors[i], label = f'Layer {i} inv train')\n",
    "    ax.plot(ricnn_history[i].history['val_loss'], color=colors[i], label = f'Layer {i} inv val', linestyle='dashed')\n",
    "plt.legend()\n",
    "ax.set_title(\"History\")\n",
    "ax.set_ylim(bottom=0)"
   ]
  },
  {
   "cell_type": "code",
   "execution_count": null,
   "id": "0ec36e69-7d2d-48e3-bd57-e51f57017eb1",
   "metadata": {},
   "outputs": [],
   "source": []
  }
 ],
 "metadata": {
  "kernelspec": {
   "display_name": "Python [conda env:.conda-storm-mode]",
   "language": "python",
   "name": "conda-env-.conda-storm-mode-py"
  },
  "language_info": {
   "codemirror_mode": {
    "name": "ipython",
    "version": 3
   },
   "file_extension": ".py",
   "mimetype": "text/x-python",
   "name": "python",
   "nbconvert_exporter": "python",
   "pygments_lexer": "ipython3",
   "version": "3.10.4"
  }
 },
 "nbformat": 4,
 "nbformat_minor": 5
}
