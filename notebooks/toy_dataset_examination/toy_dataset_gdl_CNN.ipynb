{
 "cells": [
  {
   "cell_type": "code",
   "execution_count": 1,
   "id": "db804398-de62-47f8-a25f-94b30aa74f5c",
   "metadata": {},
   "outputs": [],
   "source": [
    "import tensorflow as tf\n",
    "from tensorflow.keras import layers, models\n",
    "import tensorflow.experimental.numpy as tfnp\n",
    "import xarray as xr\n",
    "import numpy as np\n",
    "import matplotlib.pyplot as plt"
   ]
  },
  {
   "cell_type": "code",
   "execution_count": 2,
   "id": "205f17d2-7aa6-4fb1-b86d-7cfcbc896034",
   "metadata": {},
   "outputs": [],
   "source": [
    "# Load data\n",
    "train_ds = xr.open_dataset(\"/glade/scratch/lverhoef/gdl_toy_ds/train_data.nc\")\n",
    "validation_ds = xr.open_dataset(\"/glade/scratch/lverhoef/gdl_toy_ds/validation_data.nc\")"
   ]
  },
  {
   "cell_type": "code",
   "execution_count": 3,
   "id": "a4b818d6-0b7f-421b-950b-32fda046dffe",
   "metadata": {},
   "outputs": [
    {
     "name": "stderr",
     "output_type": "stream",
     "text": [
      "2022-06-10 12:38:15.350640: I tensorflow/core/platform/cpu_feature_guard.cc:193] This TensorFlow binary is optimized with oneAPI Deep Neural Network Library (oneDNN) to use the following CPU instructions in performance-critical operations:  AVX2 AVX512F FMA\n",
      "To enable them in other operations, rebuild TensorFlow with the appropriate compiler flags.\n",
      "2022-06-10 12:38:16.044618: I tensorflow/core/common_runtime/gpu/gpu_device.cc:1532] Created device /job:localhost/replica:0/task:0/device:GPU:0 with 30987 MB memory:  -> device: 0, name: Tesla V100-SXM2-32GB, pci bus id: 0000:3d:00.0, compute capability: 7.0\n"
     ]
    }
   ],
   "source": [
    "X_train = tf.expand_dims(tf.convert_to_tensor(train_ds['ellipse']), axis=-1)\n",
    "Y_train = tf.convert_to_tensor(train_ds[['maj_len', 'min_len']].to_array().transpose())"
   ]
  },
  {
   "cell_type": "code",
   "execution_count": 4,
   "id": "610356f8-9120-4e5d-93fa-fbf140377184",
   "metadata": {},
   "outputs": [],
   "source": [
    "X_val = tf.expand_dims(tf.convert_to_tensor(validation_ds['ellipse']), axis=-1)\n",
    "Y_val = tf.convert_to_tensor(validation_ds[['maj_len', 'min_len']].to_array().transpose())"
   ]
  },
  {
   "cell_type": "code",
   "execution_count": 5,
   "id": "29230aa5-2c3b-4f3e-96bb-a73948a33df7",
   "metadata": {},
   "outputs": [],
   "source": [
    "# Layer that implements 4 discrete rotational equivariance\n",
    "# Note that this uses group convolution on Z^2 x C_4, where rotation is about the center of the domain.\n",
    "class RotEquivConv2D(tf.keras.layers.Layer):\n",
    "    def __init__(\n",
    "            self,\n",
    "            out_features,\n",
    "            filt_shape, \n",
    "            rot_axis=True,\n",
    "            activation=tf.nn.relu,\n",
    "            use_bias=True,\n",
    "            kernel_initializer=tf.keras.initializers.glorot_uniform,\n",
    "            bias_initializer=tf.keras.initializers.zeros,\n",
    "            **kwargs):\n",
    "        super().__init__(**kwargs)\n",
    "        self.out_features = out_features\n",
    "        self.filt_shape = filt_shape\n",
    "        self.rot_axis = rot_axis\n",
    "        self.activation = activation\n",
    "        self.use_bias = use_bias\n",
    "        self.kernel_initializer = kernel_initializer()\n",
    "        if use_bias:\n",
    "            self.bias_initializer = bias_initializer()\n",
    "\n",
    "    def build(self, input_shape):  # Create the layer when it is first called\n",
    "        self.in_features = input_shape[-1]\n",
    "        self.filt_shape = tf.concat([\n",
    "            self.filt_shape,  # Spatial dimensions\n",
    "            [self.in_features, self.out_features]\n",
    "        ], axis=0)\n",
    "        self.filt_base = tf.Variable(\n",
    "            self.kernel_initializer(self.filt_shape),  # Random initialization of filters\n",
    "            name='kernel'\n",
    "        )\n",
    "        if self.use_bias:\n",
    "            self.bias = tf.Variable(self.bias_initializer((self.out_features,)), name='bias')\n",
    "\n",
    "    def call(self, inputs):  # Does the actual computation for each rotation\n",
    "        if self.rot_axis:  # If we're already in Z^2 x C_4, convolve along each rotational layer\n",
    "            outputs = self.activation(tf.stack([\n",
    "                    tf.nn.convolution(\n",
    "                        tfnp.take(inputs, i, axis=-2),\n",
    "                        self.filt_base)\n",
    "                    for i in range(inputs.shape[-2])],\n",
    "                axis=-2\n",
    "            ))\n",
    "        else:  # If we're not yet in the group domain, move to it.\n",
    "            outputs = self.activation(tf.stack([\n",
    "                tf.nn.convolution(inputs, self.filt_base),\n",
    "                tfnp.rot90(tf.nn.convolution(inputs, tfnp.rot90(self.filt_base, k=1)), k=4-1, axes=(1, 2)),\n",
    "                tfnp.rot90(tf.nn.convolution(inputs, tfnp.rot90(self.filt_base, k=2)), k=4-2, axes=(1, 2)),\n",
    "                tfnp.rot90(tf.nn.convolution(inputs, tfnp.rot90(self.filt_base, k=3)), k=4-3, axes=(1, 2)),\n",
    "            ], axis=-2))\n",
    "        if self.use_bias:\n",
    "            outputs = tf.nn.bias_add(outputs, self.bias)\n",
    "        return outputs"
   ]
  },
  {
   "cell_type": "code",
   "execution_count": 6,
   "id": "d86246b3-d1e4-4e15-9860-6e340e01ee39",
   "metadata": {},
   "outputs": [],
   "source": [
    "# 2D pooling layer that pools within each rotational dimension\n",
    "class RotEquivPool2D(tf.keras.layers.Layer):\n",
    "    def __init__(self, pool_size, pool_method=tf.keras.layers.MaxPool2D, **kwargs):\n",
    "        super().__init__(**kwargs)\n",
    "        self.pool_size = pool_size\n",
    "        self.pool_method = pool_method\n",
    "        self.pool = self.pool_method(pool_size=self.pool_size)\n",
    "\n",
    "    def call(self, inputs):\n",
    "        return tf.stack(\n",
    "            [self.pool(tfnp.take(inputs, k, axis=-2)) for k in range(inputs.shape[-2])],\n",
    "            axis=-2\n",
    "        )"
   ]
  },
  {
   "cell_type": "code",
   "execution_count": 7,
   "id": "dba5fd46-6168-4e23-a251-d560f96d814c",
   "metadata": {},
   "outputs": [],
   "source": [
    "# Rotational invariant pooling that pools across the rotational dimensions\n",
    "class RotInvPool(tf.keras.layers.Layer):\n",
    "    def __init__(self, pool_method='max', **kwargs):\n",
    "        valid_methods = {'max', 'mean'}\n",
    "        if pool_method not in valid_methods:\n",
    "            raise ValueError(f'pool_method must be one of {valid_methods}')\n",
    "\n",
    "        super().__init__(**kwargs)\n",
    "        if pool_method == \"max\":\n",
    "            self.pool_method = tf.math.reduce_max\n",
    "        else:\n",
    "            self.pool_method = tf.math.reduce_mean\n",
    "\n",
    "    def call(self, inputs):\n",
    "        return self.pool_method(inputs, axis=-2)"
   ]
  },
  {
   "cell_type": "code",
   "execution_count": 8,
   "id": "f9768433-51ab-42c9-8ff6-401690cb0c7b",
   "metadata": {},
   "outputs": [],
   "source": [
    "model = models.Sequential()\n",
    "model.add(RotEquivConv2D(32, (3, 3), rot_axis=False, input_shape=(128, 128, 1)))\n",
    "model.add(RotEquivPool2D((2, 2)))\n",
    "model.add(RotEquivConv2D(32, (3, 3)))\n",
    "model.add(RotEquivPool2D((2, 2)))\n",
    "model.add(RotEquivConv2D(64, (3, 3)))\n",
    "model.add(RotEquivPool2D((2, 2)))\n",
    "model.add(RotEquivConv2D(64, (3, 3)))\n",
    "model.add(RotEquivPool2D((2, 2)))\n",
    "model.add(RotEquivConv2D(128, (3, 3)))\n",
    "model.add(RotInvPool())\n",
    "model.add(layers.Flatten())\n",
    "model.add(layers.Dense(32))\n",
    "model.add(layers.Dense(2))"
   ]
  },
  {
   "cell_type": "code",
   "execution_count": 9,
   "id": "7c2d9783-b18d-444e-8811-2d33830b837c",
   "metadata": {},
   "outputs": [],
   "source": [
    "model.compile(\n",
    "    optimizer='adam',\n",
    "    loss='mse',\n",
    "    metrics=['mse']\n",
    ")"
   ]
  },
  {
   "cell_type": "code",
   "execution_count": 10,
   "id": "21f6eec7-4fea-4c4a-8504-632fe734f073",
   "metadata": {
    "tags": []
   },
   "outputs": [
    {
     "name": "stdout",
     "output_type": "stream",
     "text": [
      "Model: \"sequential\"\n",
      "_________________________________________________________________\n",
      " Layer (type)                Output Shape              Param #   \n",
      "=================================================================\n",
      " rot_equiv_conv2d (RotEquivC  (None, 126, 126, 4, 32)  320       \n",
      " onv2D)                                                          \n",
      "                                                                 \n",
      " rot_equiv_pool2d (RotEquivP  (None, 63, 63, 4, 32)    0         \n",
      " ool2D)                                                          \n",
      "                                                                 \n",
      " rot_equiv_conv2d_1 (RotEqui  (None, 61, 61, 4, 32)    9248      \n",
      " vConv2D)                                                        \n",
      "                                                                 \n",
      " rot_equiv_pool2d_1 (RotEqui  (None, 30, 30, 4, 32)    0         \n",
      " vPool2D)                                                        \n",
      "                                                                 \n",
      " rot_equiv_conv2d_2 (RotEqui  (None, 28, 28, 4, 64)    18496     \n",
      " vConv2D)                                                        \n",
      "                                                                 \n",
      " rot_equiv_pool2d_2 (RotEqui  (None, 14, 14, 4, 64)    0         \n",
      " vPool2D)                                                        \n",
      "                                                                 \n",
      " rot_equiv_conv2d_3 (RotEqui  (None, 12, 12, 4, 64)    36928     \n",
      " vConv2D)                                                        \n",
      "                                                                 \n",
      " rot_equiv_pool2d_3 (RotEqui  (None, 6, 6, 4, 64)      0         \n",
      " vPool2D)                                                        \n",
      "                                                                 \n",
      " rot_equiv_conv2d_4 (RotEqui  (None, 4, 4, 4, 128)     73856     \n",
      " vConv2D)                                                        \n",
      "                                                                 \n",
      " rot_inv_pool (RotInvPool)   (None, 4, 4, 128)         0         \n",
      "                                                                 \n",
      " flatten (Flatten)           (None, 2048)              0         \n",
      "                                                                 \n",
      " dense (Dense)               (None, 32)                65568     \n",
      "                                                                 \n",
      " dense_1 (Dense)             (None, 2)                 66        \n",
      "                                                                 \n",
      "=================================================================\n",
      "Total params: 204,482\n",
      "Trainable params: 204,482\n",
      "Non-trainable params: 0\n",
      "_________________________________________________________________\n"
     ]
    }
   ],
   "source": [
    "model.summary()"
   ]
  },
  {
   "cell_type": "code",
   "execution_count": 10,
   "id": "f5ee1d58-39f3-49e4-a1f0-2819cf7587ab",
   "metadata": {},
   "outputs": [
    {
     "name": "stdout",
     "output_type": "stream",
     "text": [
      "Epoch 1/10\n"
     ]
    },
    {
     "name": "stderr",
     "output_type": "stream",
     "text": [
      "2022-06-10 12:38:32.312791: I tensorflow/stream_executor/cuda/cuda_dnn.cc:384] Loaded cuDNN version 8100\n"
     ]
    },
    {
     "name": "stdout",
     "output_type": "stream",
     "text": [
      "313/313 [==============================] - 25s 59ms/step - loss: 30.0089 - mse: 30.0089 - val_loss: 16.7070 - val_mse: 16.7070\n",
      "Epoch 2/10\n",
      "313/313 [==============================] - 18s 56ms/step - loss: 12.5399 - mse: 12.5399 - val_loss: 4.4045 - val_mse: 4.4045\n",
      "Epoch 3/10\n",
      "313/313 [==============================] - 18s 56ms/step - loss: 4.1865 - mse: 4.1865 - val_loss: 2.7007 - val_mse: 2.7007\n",
      "Epoch 4/10\n",
      "313/313 [==============================] - 18s 57ms/step - loss: 2.2068 - mse: 2.2068 - val_loss: 2.5274 - val_mse: 2.5274\n",
      "Epoch 5/10\n",
      "313/313 [==============================] - 18s 56ms/step - loss: 1.4104 - mse: 1.4104 - val_loss: 1.0690 - val_mse: 1.0690\n",
      "Epoch 6/10\n",
      "313/313 [==============================] - 18s 56ms/step - loss: 1.1334 - mse: 1.1334 - val_loss: 1.4207 - val_mse: 1.4207\n",
      "Epoch 7/10\n",
      "313/313 [==============================] - 18s 56ms/step - loss: 1.0928 - mse: 1.0928 - val_loss: 1.2794 - val_mse: 1.2794\n",
      "Epoch 8/10\n",
      "313/313 [==============================] - 18s 57ms/step - loss: 1.0132 - mse: 1.0132 - val_loss: 0.6663 - val_mse: 0.6663\n",
      "Epoch 9/10\n",
      "313/313 [==============================] - 18s 56ms/step - loss: 0.9273 - mse: 0.9273 - val_loss: 0.7882 - val_mse: 0.7882\n",
      "Epoch 10/10\n",
      "313/313 [==============================] - 18s 56ms/step - loss: 0.9615 - mse: 0.9615 - val_loss: 2.0638 - val_mse: 2.0638\n"
     ]
    }
   ],
   "source": [
    "history = model.fit(\n",
    "    x=X_train, y=Y_train,\n",
    "    epochs=10, validation_data=(X_val, Y_val),\n",
    "    shuffle=True\n",
    ")"
   ]
  },
  {
   "cell_type": "code",
   "execution_count": 13,
   "id": "f9a01fd0-765f-4b36-a5f3-184f169468e1",
   "metadata": {},
   "outputs": [
    {
     "data": {
      "text/html": [
       "<div><svg style=\"position: absolute; width: 0; height: 0; overflow: hidden\">\n",
       "<defs>\n",
       "<symbol id=\"icon-database\" viewBox=\"0 0 32 32\">\n",
       "<path d=\"M16 0c-8.837 0-16 2.239-16 5v4c0 2.761 7.163 5 16 5s16-2.239 16-5v-4c0-2.761-7.163-5-16-5z\"></path>\n",
       "<path d=\"M16 17c-8.837 0-16-2.239-16-5v6c0 2.761 7.163 5 16 5s16-2.239 16-5v-6c0 2.761-7.163 5-16 5z\"></path>\n",
       "<path d=\"M16 26c-8.837 0-16-2.239-16-5v6c0 2.761 7.163 5 16 5s16-2.239 16-5v-6c0 2.761-7.163 5-16 5z\"></path>\n",
       "</symbol>\n",
       "<symbol id=\"icon-file-text2\" viewBox=\"0 0 32 32\">\n",
       "<path d=\"M28.681 7.159c-0.694-0.947-1.662-2.053-2.724-3.116s-2.169-2.030-3.116-2.724c-1.612-1.182-2.393-1.319-2.841-1.319h-15.5c-1.378 0-2.5 1.121-2.5 2.5v27c0 1.378 1.122 2.5 2.5 2.5h23c1.378 0 2.5-1.122 2.5-2.5v-19.5c0-0.448-0.137-1.23-1.319-2.841zM24.543 5.457c0.959 0.959 1.712 1.825 2.268 2.543h-4.811v-4.811c0.718 0.556 1.584 1.309 2.543 2.268zM28 29.5c0 0.271-0.229 0.5-0.5 0.5h-23c-0.271 0-0.5-0.229-0.5-0.5v-27c0-0.271 0.229-0.5 0.5-0.5 0 0 15.499-0 15.5 0v7c0 0.552 0.448 1 1 1h7v19.5z\"></path>\n",
       "<path d=\"M23 26h-14c-0.552 0-1-0.448-1-1s0.448-1 1-1h14c0.552 0 1 0.448 1 1s-0.448 1-1 1z\"></path>\n",
       "<path d=\"M23 22h-14c-0.552 0-1-0.448-1-1s0.448-1 1-1h14c0.552 0 1 0.448 1 1s-0.448 1-1 1z\"></path>\n",
       "<path d=\"M23 18h-14c-0.552 0-1-0.448-1-1s0.448-1 1-1h14c0.552 0 1 0.448 1 1s-0.448 1-1 1z\"></path>\n",
       "</symbol>\n",
       "</defs>\n",
       "</svg>\n",
       "<style>/* CSS stylesheet for displaying xarray objects in jupyterlab.\n",
       " *\n",
       " */\n",
       "\n",
       ":root {\n",
       "  --xr-font-color0: var(--jp-content-font-color0, rgba(0, 0, 0, 1));\n",
       "  --xr-font-color2: var(--jp-content-font-color2, rgba(0, 0, 0, 0.54));\n",
       "  --xr-font-color3: var(--jp-content-font-color3, rgba(0, 0, 0, 0.38));\n",
       "  --xr-border-color: var(--jp-border-color2, #e0e0e0);\n",
       "  --xr-disabled-color: var(--jp-layout-color3, #bdbdbd);\n",
       "  --xr-background-color: var(--jp-layout-color0, white);\n",
       "  --xr-background-color-row-even: var(--jp-layout-color1, white);\n",
       "  --xr-background-color-row-odd: var(--jp-layout-color2, #eeeeee);\n",
       "}\n",
       "\n",
       "html[theme=dark],\n",
       "body.vscode-dark {\n",
       "  --xr-font-color0: rgba(255, 255, 255, 1);\n",
       "  --xr-font-color2: rgba(255, 255, 255, 0.54);\n",
       "  --xr-font-color3: rgba(255, 255, 255, 0.38);\n",
       "  --xr-border-color: #1F1F1F;\n",
       "  --xr-disabled-color: #515151;\n",
       "  --xr-background-color: #111111;\n",
       "  --xr-background-color-row-even: #111111;\n",
       "  --xr-background-color-row-odd: #313131;\n",
       "}\n",
       "\n",
       ".xr-wrap {\n",
       "  display: block;\n",
       "  min-width: 300px;\n",
       "  max-width: 700px;\n",
       "}\n",
       "\n",
       ".xr-text-repr-fallback {\n",
       "  /* fallback to plain text repr when CSS is not injected (untrusted notebook) */\n",
       "  display: none;\n",
       "}\n",
       "\n",
       ".xr-header {\n",
       "  padding-top: 6px;\n",
       "  padding-bottom: 6px;\n",
       "  margin-bottom: 4px;\n",
       "  border-bottom: solid 1px var(--xr-border-color);\n",
       "}\n",
       "\n",
       ".xr-header > div,\n",
       ".xr-header > ul {\n",
       "  display: inline;\n",
       "  margin-top: 0;\n",
       "  margin-bottom: 0;\n",
       "}\n",
       "\n",
       ".xr-obj-type,\n",
       ".xr-array-name {\n",
       "  margin-left: 2px;\n",
       "  margin-right: 10px;\n",
       "}\n",
       "\n",
       ".xr-obj-type {\n",
       "  color: var(--xr-font-color2);\n",
       "}\n",
       "\n",
       ".xr-sections {\n",
       "  padding-left: 0 !important;\n",
       "  display: grid;\n",
       "  grid-template-columns: 150px auto auto 1fr 20px 20px;\n",
       "}\n",
       "\n",
       ".xr-section-item {\n",
       "  display: contents;\n",
       "}\n",
       "\n",
       ".xr-section-item input {\n",
       "  display: none;\n",
       "}\n",
       "\n",
       ".xr-section-item input + label {\n",
       "  color: var(--xr-disabled-color);\n",
       "}\n",
       "\n",
       ".xr-section-item input:enabled + label {\n",
       "  cursor: pointer;\n",
       "  color: var(--xr-font-color2);\n",
       "}\n",
       "\n",
       ".xr-section-item input:enabled + label:hover {\n",
       "  color: var(--xr-font-color0);\n",
       "}\n",
       "\n",
       ".xr-section-summary {\n",
       "  grid-column: 1;\n",
       "  color: var(--xr-font-color2);\n",
       "  font-weight: 500;\n",
       "}\n",
       "\n",
       ".xr-section-summary > span {\n",
       "  display: inline-block;\n",
       "  padding-left: 0.5em;\n",
       "}\n",
       "\n",
       ".xr-section-summary-in:disabled + label {\n",
       "  color: var(--xr-font-color2);\n",
       "}\n",
       "\n",
       ".xr-section-summary-in + label:before {\n",
       "  display: inline-block;\n",
       "  content: '►';\n",
       "  font-size: 11px;\n",
       "  width: 15px;\n",
       "  text-align: center;\n",
       "}\n",
       "\n",
       ".xr-section-summary-in:disabled + label:before {\n",
       "  color: var(--xr-disabled-color);\n",
       "}\n",
       "\n",
       ".xr-section-summary-in:checked + label:before {\n",
       "  content: '▼';\n",
       "}\n",
       "\n",
       ".xr-section-summary-in:checked + label > span {\n",
       "  display: none;\n",
       "}\n",
       "\n",
       ".xr-section-summary,\n",
       ".xr-section-inline-details {\n",
       "  padding-top: 4px;\n",
       "  padding-bottom: 4px;\n",
       "}\n",
       "\n",
       ".xr-section-inline-details {\n",
       "  grid-column: 2 / -1;\n",
       "}\n",
       "\n",
       ".xr-section-details {\n",
       "  display: none;\n",
       "  grid-column: 1 / -1;\n",
       "  margin-bottom: 5px;\n",
       "}\n",
       "\n",
       ".xr-section-summary-in:checked ~ .xr-section-details {\n",
       "  display: contents;\n",
       "}\n",
       "\n",
       ".xr-array-wrap {\n",
       "  grid-column: 1 / -1;\n",
       "  display: grid;\n",
       "  grid-template-columns: 20px auto;\n",
       "}\n",
       "\n",
       ".xr-array-wrap > label {\n",
       "  grid-column: 1;\n",
       "  vertical-align: top;\n",
       "}\n",
       "\n",
       ".xr-preview {\n",
       "  color: var(--xr-font-color3);\n",
       "}\n",
       "\n",
       ".xr-array-preview,\n",
       ".xr-array-data {\n",
       "  padding: 0 5px !important;\n",
       "  grid-column: 2;\n",
       "}\n",
       "\n",
       ".xr-array-data,\n",
       ".xr-array-in:checked ~ .xr-array-preview {\n",
       "  display: none;\n",
       "}\n",
       "\n",
       ".xr-array-in:checked ~ .xr-array-data,\n",
       ".xr-array-preview {\n",
       "  display: inline-block;\n",
       "}\n",
       "\n",
       ".xr-dim-list {\n",
       "  display: inline-block !important;\n",
       "  list-style: none;\n",
       "  padding: 0 !important;\n",
       "  margin: 0;\n",
       "}\n",
       "\n",
       ".xr-dim-list li {\n",
       "  display: inline-block;\n",
       "  padding: 0;\n",
       "  margin: 0;\n",
       "}\n",
       "\n",
       ".xr-dim-list:before {\n",
       "  content: '(';\n",
       "}\n",
       "\n",
       ".xr-dim-list:after {\n",
       "  content: ')';\n",
       "}\n",
       "\n",
       ".xr-dim-list li:not(:last-child):after {\n",
       "  content: ',';\n",
       "  padding-right: 5px;\n",
       "}\n",
       "\n",
       ".xr-has-index {\n",
       "  font-weight: bold;\n",
       "}\n",
       "\n",
       ".xr-var-list,\n",
       ".xr-var-item {\n",
       "  display: contents;\n",
       "}\n",
       "\n",
       ".xr-var-item > div,\n",
       ".xr-var-item label,\n",
       ".xr-var-item > .xr-var-name span {\n",
       "  background-color: var(--xr-background-color-row-even);\n",
       "  margin-bottom: 0;\n",
       "}\n",
       "\n",
       ".xr-var-item > .xr-var-name:hover span {\n",
       "  padding-right: 5px;\n",
       "}\n",
       "\n",
       ".xr-var-list > li:nth-child(odd) > div,\n",
       ".xr-var-list > li:nth-child(odd) > label,\n",
       ".xr-var-list > li:nth-child(odd) > .xr-var-name span {\n",
       "  background-color: var(--xr-background-color-row-odd);\n",
       "}\n",
       "\n",
       ".xr-var-name {\n",
       "  grid-column: 1;\n",
       "}\n",
       "\n",
       ".xr-var-dims {\n",
       "  grid-column: 2;\n",
       "}\n",
       "\n",
       ".xr-var-dtype {\n",
       "  grid-column: 3;\n",
       "  text-align: right;\n",
       "  color: var(--xr-font-color2);\n",
       "}\n",
       "\n",
       ".xr-var-preview {\n",
       "  grid-column: 4;\n",
       "}\n",
       "\n",
       ".xr-var-name,\n",
       ".xr-var-dims,\n",
       ".xr-var-dtype,\n",
       ".xr-preview,\n",
       ".xr-attrs dt {\n",
       "  white-space: nowrap;\n",
       "  overflow: hidden;\n",
       "  text-overflow: ellipsis;\n",
       "  padding-right: 10px;\n",
       "}\n",
       "\n",
       ".xr-var-name:hover,\n",
       ".xr-var-dims:hover,\n",
       ".xr-var-dtype:hover,\n",
       ".xr-attrs dt:hover {\n",
       "  overflow: visible;\n",
       "  width: auto;\n",
       "  z-index: 1;\n",
       "}\n",
       "\n",
       ".xr-var-attrs,\n",
       ".xr-var-data {\n",
       "  display: none;\n",
       "  background-color: var(--xr-background-color) !important;\n",
       "  padding-bottom: 5px !important;\n",
       "}\n",
       "\n",
       ".xr-var-attrs-in:checked ~ .xr-var-attrs,\n",
       ".xr-var-data-in:checked ~ .xr-var-data {\n",
       "  display: block;\n",
       "}\n",
       "\n",
       ".xr-var-data > table {\n",
       "  float: right;\n",
       "}\n",
       "\n",
       ".xr-var-name span,\n",
       ".xr-var-data,\n",
       ".xr-attrs {\n",
       "  padding-left: 25px !important;\n",
       "}\n",
       "\n",
       ".xr-attrs,\n",
       ".xr-var-attrs,\n",
       ".xr-var-data {\n",
       "  grid-column: 1 / -1;\n",
       "}\n",
       "\n",
       "dl.xr-attrs {\n",
       "  padding: 0;\n",
       "  margin: 0;\n",
       "  display: grid;\n",
       "  grid-template-columns: 125px auto;\n",
       "}\n",
       "\n",
       ".xr-attrs dt,\n",
       ".xr-attrs dd {\n",
       "  padding: 0;\n",
       "  margin: 0;\n",
       "  float: left;\n",
       "  padding-right: 10px;\n",
       "  width: auto;\n",
       "}\n",
       "\n",
       ".xr-attrs dt {\n",
       "  font-weight: normal;\n",
       "  grid-column: 1;\n",
       "}\n",
       "\n",
       ".xr-attrs dt:hover span {\n",
       "  display: inline-block;\n",
       "  background: var(--xr-background-color);\n",
       "  padding-right: 10px;\n",
       "}\n",
       "\n",
       ".xr-attrs dd {\n",
       "  grid-column: 2;\n",
       "  white-space: pre-wrap;\n",
       "  word-break: break-all;\n",
       "}\n",
       "\n",
       ".xr-icon-database,\n",
       ".xr-icon-file-text2 {\n",
       "  display: inline-block;\n",
       "  vertical-align: middle;\n",
       "  width: 1em;\n",
       "  height: 1.5em !important;\n",
       "  stroke-width: 0;\n",
       "  stroke: currentColor;\n",
       "  fill: currentColor;\n",
       "}\n",
       "</style><pre class='xr-text-repr-fallback'>&lt;xarray.Dataset&gt;\n",
       "Dimensions:  (p: 10)\n",
       "Dimensions without coordinates: p\n",
       "Data variables:\n",
       "    maj_len  (p) float64 30.39 36.95 36.56 28.29 ... 10.05 27.22 24.56 38.51\n",
       "    min_len  (p) float64 16.28 15.71 8.096 14.15 ... 4.689 2.764 6.251 1.165</pre><div class='xr-wrap' hidden><div class='xr-header'><div class='xr-obj-type'>xarray.Dataset</div></div><ul class='xr-sections'><li class='xr-section-item'><input id='section-c8e21d25-6b38-4d82-80ce-c330816cb37e' class='xr-section-summary-in' type='checkbox' disabled ><label for='section-c8e21d25-6b38-4d82-80ce-c330816cb37e' class='xr-section-summary'  title='Expand/collapse section'>Dimensions:</label><div class='xr-section-inline-details'><ul class='xr-dim-list'><li><span>p</span>: 10</li></ul></div><div class='xr-section-details'></div></li><li class='xr-section-item'><input id='section-95dd5fdb-0c8c-4e6e-b45e-64c941adef33' class='xr-section-summary-in' type='checkbox' disabled ><label for='section-95dd5fdb-0c8c-4e6e-b45e-64c941adef33' class='xr-section-summary'  title='Expand/collapse section'>Coordinates: <span>(0)</span></label><div class='xr-section-inline-details'></div><div class='xr-section-details'><ul class='xr-var-list'></ul></div></li><li class='xr-section-item'><input id='section-29f68121-3570-454e-a002-dc021f62ad8a' class='xr-section-summary-in' type='checkbox'  checked><label for='section-29f68121-3570-454e-a002-dc021f62ad8a' class='xr-section-summary' >Data variables: <span>(2)</span></label><div class='xr-section-inline-details'></div><div class='xr-section-details'><ul class='xr-var-list'><li class='xr-var-item'><div class='xr-var-name'><span>maj_len</span></div><div class='xr-var-dims'>(p)</div><div class='xr-var-dtype'>float64</div><div class='xr-var-preview xr-preview'>30.39 36.95 36.56 ... 24.56 38.51</div><input id='attrs-4a54971d-5910-4d59-8732-8d0545d5b905' class='xr-var-attrs-in' type='checkbox' disabled><label for='attrs-4a54971d-5910-4d59-8732-8d0545d5b905' title='Show/Hide attributes'><svg class='icon xr-icon-file-text2'><use xlink:href='#icon-file-text2'></use></svg></label><input id='data-0ba6208c-f09a-4bdb-be8e-19f3c729dc8e' class='xr-var-data-in' type='checkbox'><label for='data-0ba6208c-f09a-4bdb-be8e-19f3c729dc8e' title='Show/Hide data repr'><svg class='icon xr-icon-database'><use xlink:href='#icon-database'></use></svg></label><div class='xr-var-attrs'><dl class='xr-attrs'></dl></div><div class='xr-var-data'><pre>array([30.386762, 36.952167, 36.559292, 28.289884, 25.441514, 25.829146,\n",
       "       10.04704 , 27.21738 , 24.555835, 38.513237])</pre></div></li><li class='xr-var-item'><div class='xr-var-name'><span>min_len</span></div><div class='xr-var-dims'>(p)</div><div class='xr-var-dtype'>float64</div><div class='xr-var-preview xr-preview'>16.28 15.71 8.096 ... 6.251 1.165</div><input id='attrs-91e7b0d4-d9d1-448f-9d90-7dd534b36b44' class='xr-var-attrs-in' type='checkbox' disabled><label for='attrs-91e7b0d4-d9d1-448f-9d90-7dd534b36b44' title='Show/Hide attributes'><svg class='icon xr-icon-file-text2'><use xlink:href='#icon-file-text2'></use></svg></label><input id='data-0f816cff-a364-4f8f-97a3-a21a44a239c5' class='xr-var-data-in' type='checkbox'><label for='data-0f816cff-a364-4f8f-97a3-a21a44a239c5' title='Show/Hide data repr'><svg class='icon xr-icon-database'><use xlink:href='#icon-database'></use></svg></label><div class='xr-var-attrs'><dl class='xr-attrs'></dl></div><div class='xr-var-data'><pre>array([16.280271, 15.712145,  8.09607 , 14.154916,  4.628308,  8.524309,\n",
       "        4.688837,  2.763818,  6.250533,  1.165289])</pre></div></li></ul></div></li><li class='xr-section-item'><input id='section-1ed7290b-cb1f-45c6-b186-db33e23bb1bd' class='xr-section-summary-in' type='checkbox' disabled ><label for='section-1ed7290b-cb1f-45c6-b186-db33e23bb1bd' class='xr-section-summary'  title='Expand/collapse section'>Attributes: <span>(0)</span></label><div class='xr-section-inline-details'></div><div class='xr-section-details'><dl class='xr-attrs'></dl></div></li></ul></div></div>"
      ],
      "text/plain": [
       "<xarray.Dataset>\n",
       "Dimensions:  (p: 10)\n",
       "Dimensions without coordinates: p\n",
       "Data variables:\n",
       "    maj_len  (p) float64 30.39 36.95 36.56 28.29 ... 10.05 27.22 24.56 38.51\n",
       "    min_len  (p) float64 16.28 15.71 8.096 14.15 ... 4.689 2.764 6.251 1.165"
      ]
     },
     "execution_count": 13,
     "metadata": {},
     "output_type": "execute_result"
    },
    {
     "data": {
      "image/png": "[encoded data removed]",
      "text/plain": [
       "<Figure size 432x288 with 2 Axes>"
      ]
     },
     "metadata": {
      "needs_background": "light"
     },
     "output_type": "display_data"
    }
   ],
   "source": [
    "validation_ds['ellipse'][1, :, :].plot()\n",
    "validation_ds[['maj_len', 'min_len']].sel(p=slice(0, 10))"
   ]
  },
  {
   "cell_type": "code",
   "execution_count": 14,
   "id": "f1066d90-644f-4b15-b3ce-e6d55ea7e7d6",
   "metadata": {},
   "outputs": [
    {
     "name": "stdout",
     "output_type": "stream",
     "text": [
      "1/1 [==============================] - 1s 556ms/step\n"
     ]
    },
    {
     "data": {
      "text/plain": [
       "array([[30.364735 , 16.196074 ],\n",
       "       [36.039642 , 16.669176 ],\n",
       "       [36.90883  ,  8.4563265],\n",
       "       [27.59444  , 14.655761 ],\n",
       "       [25.434114 ,  5.621972 ],\n",
       "       [26.13206  ,  8.352343 ],\n",
       "       [10.52188  ,  4.4188952],\n",
       "       [26.868107 ,  3.0810454],\n",
       "       [23.920158 ,  6.7062826],\n",
       "       [36.01392  ,  1.2608857]], dtype=float32)"
      ]
     },
     "execution_count": 14,
     "metadata": {},
     "output_type": "execute_result"
    }
   ],
   "source": [
    "model.predict(X_val[0:10, :, :, :])"
   ]
  },
  {
   "cell_type": "code",
   "execution_count": 11,
   "id": "3b68bbe6-d94e-4301-b469-0c6ff2d6571f",
   "metadata": {},
   "outputs": [],
   "source": [
    "CNN_model = models.Sequential()\n",
    "CNN_model.add(layers.Conv2D(32, (3, 3), activation='relu', input_shape=(128, 128, 1)))\n",
    "CNN_model.add(layers.MaxPooling2D((2, 2)))\n",
    "CNN_model.add(layers.Conv2D(32, (3, 3), activation='relu'))\n",
    "CNN_model.add(layers.MaxPooling2D((2, 2)))\n",
    "CNN_model.add(layers.Conv2D(64, (3, 3), activation='relu'))\n",
    "CNN_model.add(layers.MaxPooling2D((2, 2)))\n",
    "CNN_model.add(layers.Conv2D(64, (3, 3), activation='relu'))\n",
    "CNN_model.add(layers.MaxPooling2D((2, 2)))\n",
    "CNN_model.add(layers.Conv2D(128, (3, 3), activation='relu'))\n",
    "CNN_model.add(layers.Flatten())\n",
    "CNN_model.add(layers.Dense(32, activation='relu'))\n",
    "CNN_model.add(layers.Dense(2))"
   ]
  },
  {
   "cell_type": "code",
   "execution_count": 12,
   "id": "7c77f241-d82e-4ff0-ba89-9282b415ab46",
   "metadata": {},
   "outputs": [],
   "source": [
    "CNN_model.compile(\n",
    "    optimizer='adam',\n",
    "    loss='mse',\n",
    "    metrics=['mse']\n",
    ")"
   ]
  },
  {
   "cell_type": "code",
   "execution_count": 13,
   "id": "cbb937e1-e256-4c86-8ecb-fac852642873",
   "metadata": {},
   "outputs": [
    {
     "name": "stdout",
     "output_type": "stream",
     "text": [
      "Epoch 1/10\n",
      "313/313 [==============================] - 4s 11ms/step - loss: 40.1368 - mse: 40.1368 - val_loss: 20.7311 - val_mse: 20.7311\n",
      "Epoch 2/10\n",
      "313/313 [==============================] - 3s 10ms/step - loss: 15.6836 - mse: 15.6836 - val_loss: 11.9389 - val_mse: 11.9389\n",
      "Epoch 3/10\n",
      "313/313 [==============================] - 3s 10ms/step - loss: 9.9732 - mse: 9.9732 - val_loss: 6.2533 - val_mse: 6.2533\n",
      "Epoch 4/10\n",
      "313/313 [==============================] - 4s 12ms/step - loss: 6.4853 - mse: 6.4853 - val_loss: 4.0679 - val_mse: 4.0679\n",
      "Epoch 5/10\n",
      "313/313 [==============================] - 3s 10ms/step - loss: 4.6055 - mse: 4.6055 - val_loss: 3.2739 - val_mse: 3.2739\n",
      "Epoch 6/10\n",
      "313/313 [==============================] - 3s 10ms/step - loss: 3.6927 - mse: 3.6927 - val_loss: 3.9771 - val_mse: 3.9771\n",
      "Epoch 7/10\n",
      "313/313 [==============================] - 3s 10ms/step - loss: 3.2555 - mse: 3.2555 - val_loss: 3.0651 - val_mse: 3.0651\n",
      "Epoch 8/10\n",
      "313/313 [==============================] - 3s 10ms/step - loss: 2.3898 - mse: 2.3898 - val_loss: 2.1914 - val_mse: 2.1914\n",
      "Epoch 9/10\n",
      "313/313 [==============================] - 3s 10ms/step - loss: 1.5278 - mse: 1.5278 - val_loss: 1.2753 - val_mse: 1.2753\n",
      "Epoch 10/10\n",
      "313/313 [==============================] - 3s 10ms/step - loss: 1.1676 - mse: 1.1676 - val_loss: 1.1740 - val_mse: 1.1740\n"
     ]
    }
   ],
   "source": [
    "CNN_history = CNN_model.fit(\n",
    "    x=X_train, y=Y_train,\n",
    "    epochs=10, validation_data=(X_val, Y_val),\n",
    "    shuffle=True\n",
    ")"
   ]
  },
  {
   "cell_type": "code",
   "execution_count": 15,
   "id": "1f6dab1c-7b71-4ad4-909a-a688dfefafa0",
   "metadata": {},
   "outputs": [
    {
     "data": {
      "text/plain": [
       "<matplotlib.legend.Legend at 0x2ab7a6cbbe80>"
      ]
     },
     "execution_count": 15,
     "metadata": {},
     "output_type": "execute_result"
    },
    {
     "data": {
      "image/png": "[encoded data removed]",
      "text/plain": [
       "<Figure size 432x288 with 1 Axes>"
      ]
     },
     "metadata": {
      "needs_background": "light"
     },
     "output_type": "display_data"
    }
   ],
   "source": [
    "a = plt.plot(history.history['val_mse'], label='GDL')\n",
    "b = plt.plot(CNN_history.history['val_mse'], label='CNN')\n",
    "plt.legend()"
   ]
  },
  {
   "cell_type": "code",
   "execution_count": 16,
   "id": "8ea4cfc3-1167-43fe-af29-e553ecd385f1",
   "metadata": {},
   "outputs": [],
   "source": [
    "test_ds = xr.open_dataset(\"/glade/scratch/lverhoef/gdl_toy_ds/test_data.nc\")\n",
    "X_test = tf.expand_dims(tf.convert_to_tensor(test_ds[\"ellipse\"]), axis=-1)\n",
    "Y_test = tf.convert_to_tensor(test_ds[['maj_len', 'min_len']].to_array().transpose())"
   ]
  },
  {
   "cell_type": "code",
   "execution_count": 17,
   "id": "a8130c60-f174-4b38-9a67-517b32625d80",
   "metadata": {},
   "outputs": [
    {
     "name": "stdout",
     "output_type": "stream",
     "text": [
      "32/32 [==============================] - 1s 20ms/step - loss: 2.0638 - mse: 2.0638\n",
      "32/32 [==============================] - 1s 20ms/step - loss: 2.0816 - mse: 2.0816\n"
     ]
    },
    {
     "data": {
      "text/plain": [
       "[2.0815536975860596, 2.0815536975860596]"
      ]
     },
     "execution_count": 17,
     "metadata": {},
     "output_type": "execute_result"
    }
   ],
   "source": [
    "model.evaluate(X_val, Y_val)\n",
    "model.evaluate(X_test, Y_test)"
   ]
  },
  {
   "cell_type": "code",
   "execution_count": 18,
   "id": "cdecba36-b3fc-4872-9fc0-a67e4ff0a2f4",
   "metadata": {},
   "outputs": [
    {
     "name": "stdout",
     "output_type": "stream",
     "text": [
      "32/32 [==============================] - 0s 6ms/step - loss: 1.1740 - mse: 1.1740\n",
      "32/32 [==============================] - 0s 6ms/step - loss: 37.9145 - mse: 37.9145\n"
     ]
    },
    {
     "data": {
      "text/plain": [
       "[37.91446304321289, 37.91446304321289]"
      ]
     },
     "execution_count": 18,
     "metadata": {},
     "output_type": "execute_result"
    }
   ],
   "source": [
    "CNN_model.evaluate(X_val, Y_val)\n",
    "CNN_model.evaluate(X_test, Y_test)"
   ]
  },
  {
   "cell_type": "code",
   "execution_count": null,
   "id": "3c25f132-2435-4599-9070-82f231763209",
   "metadata": {},
   "outputs": [],
   "source": []
  }
 ],
 "metadata": {
  "kernelspec": {
   "display_name": "Python [conda env:.conda-storm-mode]",
   "language": "python",
   "name": "conda-env-.conda-storm-mode-py"
  },
  "language_info": {
   "codemirror_mode": {
    "name": "ipython",
    "version": 3
   },
   "file_extension": ".py",
   "mimetype": "text/x-python",
   "name": "python",
   "nbconvert_exporter": "python",
   "pygments_lexer": "ipython3",
   "version": "3.10.4"
  }
 },
 "nbformat": 4,
 "nbformat_minor": 5
}
