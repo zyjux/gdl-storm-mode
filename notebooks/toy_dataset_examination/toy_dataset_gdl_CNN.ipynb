{
 "cells": [
  {
   "cell_type": "code",
   "execution_count": 1,
   "id": "db804398-de62-47f8-a25f-94b30aa74f5c",
   "metadata": {},
   "outputs": [
    {
     "name": "stderr",
     "output_type": "stream",
     "text": [
      "2022-06-16 14:52:15.253618: I tensorflow/core/util/util.cc:169] oneDNN custom operations are on. You may see slightly different numerical results due to floating-point round-off errors from different computation orders. To turn them off, set the environment variable `TF_ENABLE_ONEDNN_OPTS=0`.\n"
     ]
    }
   ],
   "source": [
    "import tensorflow as tf\n",
    "from tensorflow.keras import layers, models\n",
    "import xarray as xr\n",
    "import matplotlib.pyplot as plt\n",
    "import sys\n",
    "import os\n",
    "sys.path.append(os.path.abspath(\"/glade/u/home/lverhoef/gdl-storm-mode/notebooks\"))\n",
    "from imports.GDL_layers import *"
   ]
  },
  {
   "cell_type": "code",
   "execution_count": 2,
   "id": "205f17d2-7aa6-4fb1-b86d-7cfcbc896034",
   "metadata": {},
   "outputs": [],
   "source": [
    "# Load data\n",
    "train_ds = xr.open_dataset(\"/glade/scratch/lverhoef/gdl_toy_ds/semifixed_train_data.nc\")\n",
    "validation_ds = xr.open_dataset(\"/glade/scratch/lverhoef/gdl_toy_ds/semifixed_validation_data.nc\")"
   ]
  },
  {
   "cell_type": "code",
   "execution_count": 3,
   "id": "a4b818d6-0b7f-421b-950b-32fda046dffe",
   "metadata": {},
   "outputs": [
    {
     "name": "stderr",
     "output_type": "stream",
     "text": [
      "2022-06-16 14:52:17.850922: I tensorflow/core/platform/cpu_feature_guard.cc:193] This TensorFlow binary is optimized with oneAPI Deep Neural Network Library (oneDNN) to use the following CPU instructions in performance-critical operations:  AVX2 AVX512F AVX512_VNNI FMA\n",
      "To enable them in other operations, rebuild TensorFlow with the appropriate compiler flags.\n",
      "2022-06-16 14:52:18.400097: I tensorflow/core/common_runtime/gpu/gpu_device.cc:1532] Created device /job:localhost/replica:0/task:0/device:GPU:0 with 30988 MB memory:  -> device: 0, name: Tesla V100-SXM2-32GB, pci bus id: 0000:62:00.0, compute capability: 7.0\n"
     ]
    }
   ],
   "source": [
    "X_train = tf.expand_dims(tf.convert_to_tensor(train_ds['ellipse']), axis=-1)\n",
    "Y_train = tf.convert_to_tensor(train_ds[['maj_len', 'min_len']].to_array().transpose())"
   ]
  },
  {
   "cell_type": "code",
   "execution_count": 4,
   "id": "610356f8-9120-4e5d-93fa-fbf140377184",
   "metadata": {},
   "outputs": [],
   "source": [
    "X_val = tf.expand_dims(tf.convert_to_tensor(validation_ds['ellipse']), axis=-1)\n",
    "Y_val = tf.convert_to_tensor(validation_ds[['maj_len', 'min_len']].to_array().transpose())"
   ]
  },
  {
   "cell_type": "code",
   "execution_count": 5,
   "id": "f9768433-51ab-42c9-8ff6-401690cb0c7b",
   "metadata": {},
   "outputs": [],
   "source": [
    "model = models.Sequential()\n",
    "model.add(RotEquivConv2D(32, (3, 3), rot_axis=False, input_shape=(128, 128, 1)))\n",
    "model.add(RotEquivPool2D((2, 2)))\n",
    "model.add(RotEquivConv2D(32, (3, 3)))\n",
    "model.add(RotEquivPool2D((2, 2)))\n",
    "model.add(RotEquivConv2D(64, (3, 3)))\n",
    "model.add(RotEquivPool2D((2, 2)))\n",
    "model.add(RotEquivConv2D(64, (3, 3)))\n",
    "model.add(RotEquivPool2D((2, 2)))\n",
    "model.add(RotEquivConv2D(128, (3, 3)))\n",
    "model.add(RotInvPool())\n",
    "model.add(layers.Flatten())\n",
    "model.add(layers.Dense(32))\n",
    "model.add(layers.Dense(2))"
   ]
  },
  {
   "cell_type": "code",
   "execution_count": 6,
   "id": "7c2d9783-b18d-444e-8811-2d33830b837c",
   "metadata": {},
   "outputs": [],
   "source": [
    "model.compile(\n",
    "    optimizer='adam',\n",
    "    loss='mse',\n",
    ")"
   ]
  },
  {
   "cell_type": "code",
   "execution_count": 7,
   "id": "21f6eec7-4fea-4c4a-8504-632fe734f073",
   "metadata": {
    "tags": []
   },
   "outputs": [
    {
     "name": "stdout",
     "output_type": "stream",
     "text": [
      "Model: \"sequential\"\n",
      "_________________________________________________________________\n",
      " Layer (type)                Output Shape              Param #   \n",
      "=================================================================\n",
      " rot_equiv_conv2d (RotEquivC  (None, 126, 126, 4, 32)  320       \n",
      " onv2D)                                                          \n",
      "                                                                 \n",
      " rot_equiv_pool2d (RotEquivP  (None, 63, 63, 4, 32)    0         \n",
      " ool2D)                                                          \n",
      "                                                                 \n",
      " rot_equiv_conv2d_1 (RotEqui  (None, 61, 61, 4, 32)    9248      \n",
      " vConv2D)                                                        \n",
      "                                                                 \n",
      " rot_equiv_pool2d_1 (RotEqui  (None, 30, 30, 4, 32)    0         \n",
      " vPool2D)                                                        \n",
      "                                                                 \n",
      " rot_equiv_conv2d_2 (RotEqui  (None, 28, 28, 4, 64)    18496     \n",
      " vConv2D)                                                        \n",
      "                                                                 \n",
      " rot_equiv_pool2d_2 (RotEqui  (None, 14, 14, 4, 64)    0         \n",
      " vPool2D)                                                        \n",
      "                                                                 \n",
      " rot_equiv_conv2d_3 (RotEqui  (None, 12, 12, 4, 64)    36928     \n",
      " vConv2D)                                                        \n",
      "                                                                 \n",
      " rot_equiv_pool2d_3 (RotEqui  (None, 6, 6, 4, 64)      0         \n",
      " vPool2D)                                                        \n",
      "                                                                 \n",
      " rot_equiv_conv2d_4 (RotEqui  (None, 4, 4, 4, 128)     73856     \n",
      " vConv2D)                                                        \n",
      "                                                                 \n",
      " rot_inv_pool (RotInvPool)   (None, 4, 4, 128)         0         \n",
      "                                                                 \n",
      " flatten (Flatten)           (None, 2048)              0         \n",
      "                                                                 \n",
      " dense (Dense)               (None, 32)                65568     \n",
      "                                                                 \n",
      " dense_1 (Dense)             (None, 2)                 66        \n",
      "                                                                 \n",
      "=================================================================\n",
      "Total params: 204,482\n",
      "Trainable params: 204,482\n",
      "Non-trainable params: 0\n",
      "_________________________________________________________________\n"
     ]
    }
   ],
   "source": [
    "model.summary()"
   ]
  },
  {
   "cell_type": "code",
   "execution_count": 8,
   "id": "f5ee1d58-39f3-49e4-a1f0-2819cf7587ab",
   "metadata": {},
   "outputs": [
    {
     "name": "stdout",
     "output_type": "stream",
     "text": [
      "Epoch 1/10\n"
     ]
    },
    {
     "name": "stderr",
     "output_type": "stream",
     "text": [
      "2022-06-16 14:52:32.514223: I tensorflow/stream_executor/cuda/cuda_dnn.cc:384] Loaded cuDNN version 8100\n"
     ]
    },
    {
     "name": "stdout",
     "output_type": "stream",
     "text": [
      "313/313 [==============================] - 22s 53ms/step - loss: 27.9866 - val_loss: 14.8873\n",
      "Epoch 2/10\n",
      "313/313 [==============================] - 16s 51ms/step - loss: 10.0269 - val_loss: 3.3440\n",
      "Epoch 3/10\n",
      "313/313 [==============================] - 16s 52ms/step - loss: 3.0463 - val_loss: 1.8315\n",
      "Epoch 4/10\n",
      "313/313 [==============================] - 16s 51ms/step - loss: 2.1477 - val_loss: 1.2071\n",
      "Epoch 5/10\n",
      "313/313 [==============================] - 16s 51ms/step - loss: 1.2940 - val_loss: 1.1261\n",
      "Epoch 6/10\n",
      "313/313 [==============================] - 16s 51ms/step - loss: 1.1593 - val_loss: 0.8081\n",
      "Epoch 7/10\n",
      "313/313 [==============================] - 16s 51ms/step - loss: 0.9271 - val_loss: 0.8543\n",
      "Epoch 8/10\n",
      "313/313 [==============================] - 16s 51ms/step - loss: 0.7637 - val_loss: 0.8383\n",
      "Epoch 9/10\n",
      "313/313 [==============================] - 16s 51ms/step - loss: 0.7831 - val_loss: 0.5114\n",
      "Epoch 10/10\n",
      "313/313 [==============================] - 16s 51ms/step - loss: 0.6848 - val_loss: 0.5975\n"
     ]
    }
   ],
   "source": [
    "history = model.fit(\n",
    "    x=X_train, y=Y_train,\n",
    "    epochs=10, validation_data=(X_val, Y_val),\n",
    "    shuffle=True\n",
    ")"
   ]
  },
  {
   "cell_type": "code",
   "execution_count": 15,
   "id": "f9a01fd0-765f-4b36-a5f3-184f169468e1",
   "metadata": {},
   "outputs": [
    {
     "data": {
      "text/html": [
       "<div><svg style=\"position: absolute; width: 0; height: 0; overflow: hidden\">\n",
       "<defs>\n",
       "<symbol id=\"icon-database\" viewBox=\"0 0 32 32\">\n",
       "<path d=\"M16 0c-8.837 0-16 2.239-16 5v4c0 2.761 7.163 5 16 5s16-2.239 16-5v-4c0-2.761-7.163-5-16-5z\"></path>\n",
       "<path d=\"M16 17c-8.837 0-16-2.239-16-5v6c0 2.761 7.163 5 16 5s16-2.239 16-5v-6c0 2.761-7.163 5-16 5z\"></path>\n",
       "<path d=\"M16 26c-8.837 0-16-2.239-16-5v6c0 2.761 7.163 5 16 5s16-2.239 16-5v-6c0 2.761-7.163 5-16 5z\"></path>\n",
       "</symbol>\n",
       "<symbol id=\"icon-file-text2\" viewBox=\"0 0 32 32\">\n",
       "<path d=\"M28.681 7.159c-0.694-0.947-1.662-2.053-2.724-3.116s-2.169-2.030-3.116-2.724c-1.612-1.182-2.393-1.319-2.841-1.319h-15.5c-1.378 0-2.5 1.121-2.5 2.5v27c0 1.378 1.122 2.5 2.5 2.5h23c1.378 0 2.5-1.122 2.5-2.5v-19.5c0-0.448-0.137-1.23-1.319-2.841zM24.543 5.457c0.959 0.959 1.712 1.825 2.268 2.543h-4.811v-4.811c0.718 0.556 1.584 1.309 2.543 2.268zM28 29.5c0 0.271-0.229 0.5-0.5 0.5h-23c-0.271 0-0.5-0.229-0.5-0.5v-27c0-0.271 0.229-0.5 0.5-0.5 0 0 15.499-0 15.5 0v7c0 0.552 0.448 1 1 1h7v19.5z\"></path>\n",
       "<path d=\"M23 26h-14c-0.552 0-1-0.448-1-1s0.448-1 1-1h14c0.552 0 1 0.448 1 1s-0.448 1-1 1z\"></path>\n",
       "<path d=\"M23 22h-14c-0.552 0-1-0.448-1-1s0.448-1 1-1h14c0.552 0 1 0.448 1 1s-0.448 1-1 1z\"></path>\n",
       "<path d=\"M23 18h-14c-0.552 0-1-0.448-1-1s0.448-1 1-1h14c0.552 0 1 0.448 1 1s-0.448 1-1 1z\"></path>\n",
       "</symbol>\n",
       "</defs>\n",
       "</svg>\n",
       "<style>/* CSS stylesheet for displaying xarray objects in jupyterlab.\n",
       " *\n",
       " */\n",
       "\n",
       ":root {\n",
       "  --xr-font-color0: var(--jp-content-font-color0, rgba(0, 0, 0, 1));\n",
       "  --xr-font-color2: var(--jp-content-font-color2, rgba(0, 0, 0, 0.54));\n",
       "  --xr-font-color3: var(--jp-content-font-color3, rgba(0, 0, 0, 0.38));\n",
       "  --xr-border-color: var(--jp-border-color2, #e0e0e0);\n",
       "  --xr-disabled-color: var(--jp-layout-color3, #bdbdbd);\n",
       "  --xr-background-color: var(--jp-layout-color0, white);\n",
       "  --xr-background-color-row-even: var(--jp-layout-color1, white);\n",
       "  --xr-background-color-row-odd: var(--jp-layout-color2, #eeeeee);\n",
       "}\n",
       "\n",
       "html[theme=dark],\n",
       "body.vscode-dark {\n",
       "  --xr-font-color0: rgba(255, 255, 255, 1);\n",
       "  --xr-font-color2: rgba(255, 255, 255, 0.54);\n",
       "  --xr-font-color3: rgba(255, 255, 255, 0.38);\n",
       "  --xr-border-color: #1F1F1F;\n",
       "  --xr-disabled-color: #515151;\n",
       "  --xr-background-color: #111111;\n",
       "  --xr-background-color-row-even: #111111;\n",
       "  --xr-background-color-row-odd: #313131;\n",
       "}\n",
       "\n",
       ".xr-wrap {\n",
       "  display: block;\n",
       "  min-width: 300px;\n",
       "  max-width: 700px;\n",
       "}\n",
       "\n",
       ".xr-text-repr-fallback {\n",
       "  /* fallback to plain text repr when CSS is not injected (untrusted notebook) */\n",
       "  display: none;\n",
       "}\n",
       "\n",
       ".xr-header {\n",
       "  padding-top: 6px;\n",
       "  padding-bottom: 6px;\n",
       "  margin-bottom: 4px;\n",
       "  border-bottom: solid 1px var(--xr-border-color);\n",
       "}\n",
       "\n",
       ".xr-header > div,\n",
       ".xr-header > ul {\n",
       "  display: inline;\n",
       "  margin-top: 0;\n",
       "  margin-bottom: 0;\n",
       "}\n",
       "\n",
       ".xr-obj-type,\n",
       ".xr-array-name {\n",
       "  margin-left: 2px;\n",
       "  margin-right: 10px;\n",
       "}\n",
       "\n",
       ".xr-obj-type {\n",
       "  color: var(--xr-font-color2);\n",
       "}\n",
       "\n",
       ".xr-sections {\n",
       "  padding-left: 0 !important;\n",
       "  display: grid;\n",
       "  grid-template-columns: 150px auto auto 1fr 20px 20px;\n",
       "}\n",
       "\n",
       ".xr-section-item {\n",
       "  display: contents;\n",
       "}\n",
       "\n",
       ".xr-section-item input {\n",
       "  display: none;\n",
       "}\n",
       "\n",
       ".xr-section-item input + label {\n",
       "  color: var(--xr-disabled-color);\n",
       "}\n",
       "\n",
       ".xr-section-item input:enabled + label {\n",
       "  cursor: pointer;\n",
       "  color: var(--xr-font-color2);\n",
       "}\n",
       "\n",
       ".xr-section-item input:enabled + label:hover {\n",
       "  color: var(--xr-font-color0);\n",
       "}\n",
       "\n",
       ".xr-section-summary {\n",
       "  grid-column: 1;\n",
       "  color: var(--xr-font-color2);\n",
       "  font-weight: 500;\n",
       "}\n",
       "\n",
       ".xr-section-summary > span {\n",
       "  display: inline-block;\n",
       "  padding-left: 0.5em;\n",
       "}\n",
       "\n",
       ".xr-section-summary-in:disabled + label {\n",
       "  color: var(--xr-font-color2);\n",
       "}\n",
       "\n",
       ".xr-section-summary-in + label:before {\n",
       "  display: inline-block;\n",
       "  content: '►';\n",
       "  font-size: 11px;\n",
       "  width: 15px;\n",
       "  text-align: center;\n",
       "}\n",
       "\n",
       ".xr-section-summary-in:disabled + label:before {\n",
       "  color: var(--xr-disabled-color);\n",
       "}\n",
       "\n",
       ".xr-section-summary-in:checked + label:before {\n",
       "  content: '▼';\n",
       "}\n",
       "\n",
       ".xr-section-summary-in:checked + label > span {\n",
       "  display: none;\n",
       "}\n",
       "\n",
       ".xr-section-summary,\n",
       ".xr-section-inline-details {\n",
       "  padding-top: 4px;\n",
       "  padding-bottom: 4px;\n",
       "}\n",
       "\n",
       ".xr-section-inline-details {\n",
       "  grid-column: 2 / -1;\n",
       "}\n",
       "\n",
       ".xr-section-details {\n",
       "  display: none;\n",
       "  grid-column: 1 / -1;\n",
       "  margin-bottom: 5px;\n",
       "}\n",
       "\n",
       ".xr-section-summary-in:checked ~ .xr-section-details {\n",
       "  display: contents;\n",
       "}\n",
       "\n",
       ".xr-array-wrap {\n",
       "  grid-column: 1 / -1;\n",
       "  display: grid;\n",
       "  grid-template-columns: 20px auto;\n",
       "}\n",
       "\n",
       ".xr-array-wrap > label {\n",
       "  grid-column: 1;\n",
       "  vertical-align: top;\n",
       "}\n",
       "\n",
       ".xr-preview {\n",
       "  color: var(--xr-font-color3);\n",
       "}\n",
       "\n",
       ".xr-array-preview,\n",
       ".xr-array-data {\n",
       "  padding: 0 5px !important;\n",
       "  grid-column: 2;\n",
       "}\n",
       "\n",
       ".xr-array-data,\n",
       ".xr-array-in:checked ~ .xr-array-preview {\n",
       "  display: none;\n",
       "}\n",
       "\n",
       ".xr-array-in:checked ~ .xr-array-data,\n",
       ".xr-array-preview {\n",
       "  display: inline-block;\n",
       "}\n",
       "\n",
       ".xr-dim-list {\n",
       "  display: inline-block !important;\n",
       "  list-style: none;\n",
       "  padding: 0 !important;\n",
       "  margin: 0;\n",
       "}\n",
       "\n",
       ".xr-dim-list li {\n",
       "  display: inline-block;\n",
       "  padding: 0;\n",
       "  margin: 0;\n",
       "}\n",
       "\n",
       ".xr-dim-list:before {\n",
       "  content: '(';\n",
       "}\n",
       "\n",
       ".xr-dim-list:after {\n",
       "  content: ')';\n",
       "}\n",
       "\n",
       ".xr-dim-list li:not(:last-child):after {\n",
       "  content: ',';\n",
       "  padding-right: 5px;\n",
       "}\n",
       "\n",
       ".xr-has-index {\n",
       "  font-weight: bold;\n",
       "}\n",
       "\n",
       ".xr-var-list,\n",
       ".xr-var-item {\n",
       "  display: contents;\n",
       "}\n",
       "\n",
       ".xr-var-item > div,\n",
       ".xr-var-item label,\n",
       ".xr-var-item > .xr-var-name span {\n",
       "  background-color: var(--xr-background-color-row-even);\n",
       "  margin-bottom: 0;\n",
       "}\n",
       "\n",
       ".xr-var-item > .xr-var-name:hover span {\n",
       "  padding-right: 5px;\n",
       "}\n",
       "\n",
       ".xr-var-list > li:nth-child(odd) > div,\n",
       ".xr-var-list > li:nth-child(odd) > label,\n",
       ".xr-var-list > li:nth-child(odd) > .xr-var-name span {\n",
       "  background-color: var(--xr-background-color-row-odd);\n",
       "}\n",
       "\n",
       ".xr-var-name {\n",
       "  grid-column: 1;\n",
       "}\n",
       "\n",
       ".xr-var-dims {\n",
       "  grid-column: 2;\n",
       "}\n",
       "\n",
       ".xr-var-dtype {\n",
       "  grid-column: 3;\n",
       "  text-align: right;\n",
       "  color: var(--xr-font-color2);\n",
       "}\n",
       "\n",
       ".xr-var-preview {\n",
       "  grid-column: 4;\n",
       "}\n",
       "\n",
       ".xr-var-name,\n",
       ".xr-var-dims,\n",
       ".xr-var-dtype,\n",
       ".xr-preview,\n",
       ".xr-attrs dt {\n",
       "  white-space: nowrap;\n",
       "  overflow: hidden;\n",
       "  text-overflow: ellipsis;\n",
       "  padding-right: 10px;\n",
       "}\n",
       "\n",
       ".xr-var-name:hover,\n",
       ".xr-var-dims:hover,\n",
       ".xr-var-dtype:hover,\n",
       ".xr-attrs dt:hover {\n",
       "  overflow: visible;\n",
       "  width: auto;\n",
       "  z-index: 1;\n",
       "}\n",
       "\n",
       ".xr-var-attrs,\n",
       ".xr-var-data {\n",
       "  display: none;\n",
       "  background-color: var(--xr-background-color) !important;\n",
       "  padding-bottom: 5px !important;\n",
       "}\n",
       "\n",
       ".xr-var-attrs-in:checked ~ .xr-var-attrs,\n",
       ".xr-var-data-in:checked ~ .xr-var-data {\n",
       "  display: block;\n",
       "}\n",
       "\n",
       ".xr-var-data > table {\n",
       "  float: right;\n",
       "}\n",
       "\n",
       ".xr-var-name span,\n",
       ".xr-var-data,\n",
       ".xr-attrs {\n",
       "  padding-left: 25px !important;\n",
       "}\n",
       "\n",
       ".xr-attrs,\n",
       ".xr-var-attrs,\n",
       ".xr-var-data {\n",
       "  grid-column: 1 / -1;\n",
       "}\n",
       "\n",
       "dl.xr-attrs {\n",
       "  padding: 0;\n",
       "  margin: 0;\n",
       "  display: grid;\n",
       "  grid-template-columns: 125px auto;\n",
       "}\n",
       "\n",
       ".xr-attrs dt,\n",
       ".xr-attrs dd {\n",
       "  padding: 0;\n",
       "  margin: 0;\n",
       "  float: left;\n",
       "  padding-right: 10px;\n",
       "  width: auto;\n",
       "}\n",
       "\n",
       ".xr-attrs dt {\n",
       "  font-weight: normal;\n",
       "  grid-column: 1;\n",
       "}\n",
       "\n",
       ".xr-attrs dt:hover span {\n",
       "  display: inline-block;\n",
       "  background: var(--xr-background-color);\n",
       "  padding-right: 10px;\n",
       "}\n",
       "\n",
       ".xr-attrs dd {\n",
       "  grid-column: 2;\n",
       "  white-space: pre-wrap;\n",
       "  word-break: break-all;\n",
       "}\n",
       "\n",
       ".xr-icon-database,\n",
       ".xr-icon-file-text2 {\n",
       "  display: inline-block;\n",
       "  vertical-align: middle;\n",
       "  width: 1em;\n",
       "  height: 1.5em !important;\n",
       "  stroke-width: 0;\n",
       "  stroke: currentColor;\n",
       "  fill: currentColor;\n",
       "}\n",
       "</style><pre class='xr-text-repr-fallback'>&lt;xarray.Dataset&gt;\n",
       "Dimensions:  (p: 10)\n",
       "Dimensions without coordinates: p\n",
       "Data variables:\n",
       "    maj_len  (p) float64 26.64 12.29 21.85 22.32 25.26 ... 21.0 36.23 38.3 28.21\n",
       "    min_len  (p) float64 17.37 7.178 14.07 1.839 ... 12.29 16.74 17.86 8.65</pre><div class='xr-wrap' hidden><div class='xr-header'><div class='xr-obj-type'>xarray.Dataset</div></div><ul class='xr-sections'><li class='xr-section-item'><input id='section-fb25fac3-595b-4e94-9ac2-ae5689d32020' class='xr-section-summary-in' type='checkbox' disabled ><label for='section-fb25fac3-595b-4e94-9ac2-ae5689d32020' class='xr-section-summary'  title='Expand/collapse section'>Dimensions:</label><div class='xr-section-inline-details'><ul class='xr-dim-list'><li><span>p</span>: 10</li></ul></div><div class='xr-section-details'></div></li><li class='xr-section-item'><input id='section-74371bcc-0632-4a4a-afa4-02f134908669' class='xr-section-summary-in' type='checkbox' disabled ><label for='section-74371bcc-0632-4a4a-afa4-02f134908669' class='xr-section-summary'  title='Expand/collapse section'>Coordinates: <span>(0)</span></label><div class='xr-section-inline-details'></div><div class='xr-section-details'><ul class='xr-var-list'></ul></div></li><li class='xr-section-item'><input id='section-41b21e2b-fa8e-473c-8d2f-3c718bd459ca' class='xr-section-summary-in' type='checkbox'  checked><label for='section-41b21e2b-fa8e-473c-8d2f-3c718bd459ca' class='xr-section-summary' >Data variables: <span>(2)</span></label><div class='xr-section-inline-details'></div><div class='xr-section-details'><ul class='xr-var-list'><li class='xr-var-item'><div class='xr-var-name'><span>maj_len</span></div><div class='xr-var-dims'>(p)</div><div class='xr-var-dtype'>float64</div><div class='xr-var-preview xr-preview'>26.64 12.29 21.85 ... 38.3 28.21</div><input id='attrs-9c126877-c0a0-4940-a1be-344814c003dc' class='xr-var-attrs-in' type='checkbox' disabled><label for='attrs-9c126877-c0a0-4940-a1be-344814c003dc' title='Show/Hide attributes'><svg class='icon xr-icon-file-text2'><use xlink:href='#icon-file-text2'></use></svg></label><input id='data-6c038200-8368-4420-b9a8-6d34a553f508' class='xr-var-data-in' type='checkbox'><label for='data-6c038200-8368-4420-b9a8-6d34a553f508' title='Show/Hide data repr'><svg class='icon xr-icon-database'><use xlink:href='#icon-database'></use></svg></label><div class='xr-var-attrs'><dl class='xr-attrs'></dl></div><div class='xr-var-data'><pre>array([26.64032 , 12.293743, 21.847769, 22.322042, 25.264457, 38.231766,\n",
       "       20.998368, 36.234494, 38.298486, 28.208468])</pre></div></li><li class='xr-var-item'><div class='xr-var-name'><span>min_len</span></div><div class='xr-var-dims'>(p)</div><div class='xr-var-dtype'>float64</div><div class='xr-var-preview xr-preview'>17.37 7.178 14.07 ... 17.86 8.65</div><input id='attrs-c07ee427-a574-4749-b73c-cc2f93c44f23' class='xr-var-attrs-in' type='checkbox' disabled><label for='attrs-c07ee427-a574-4749-b73c-cc2f93c44f23' title='Show/Hide attributes'><svg class='icon xr-icon-file-text2'><use xlink:href='#icon-file-text2'></use></svg></label><input id='data-b7400568-4208-47f5-902f-0b0fd58f1df0' class='xr-var-data-in' type='checkbox'><label for='data-b7400568-4208-47f5-902f-0b0fd58f1df0' title='Show/Hide data repr'><svg class='icon xr-icon-database'><use xlink:href='#icon-database'></use></svg></label><div class='xr-var-attrs'><dl class='xr-attrs'></dl></div><div class='xr-var-data'><pre>array([17.371862,  7.178189, 14.072686,  1.839061,  7.375885, 19.458681,\n",
       "       12.292212, 16.744453, 17.856648,  8.649805])</pre></div></li></ul></div></li><li class='xr-section-item'><input id='section-07290d9e-80d5-4360-b72b-e459f74956a3' class='xr-section-summary-in' type='checkbox' disabled ><label for='section-07290d9e-80d5-4360-b72b-e459f74956a3' class='xr-section-summary'  title='Expand/collapse section'>Attributes: <span>(0)</span></label><div class='xr-section-inline-details'></div><div class='xr-section-details'><dl class='xr-attrs'></dl></div></li></ul></div></div>"
      ],
      "text/plain": [
       "<xarray.Dataset>\n",
       "Dimensions:  (p: 10)\n",
       "Dimensions without coordinates: p\n",
       "Data variables:\n",
       "    maj_len  (p) float64 26.64 12.29 21.85 22.32 25.26 ... 21.0 36.23 38.3 28.21\n",
       "    min_len  (p) float64 17.37 7.178 14.07 1.839 ... 12.29 16.74 17.86 8.65"
      ]
     },
     "execution_count": 15,
     "metadata": {},
     "output_type": "execute_result"
    },
    {
     "data": {
      "image/png": "[encoded data removed]",
      "text/plain": [
       "<Figure size 432x288 with 2 Axes>"
      ]
     },
     "metadata": {
      "needs_background": "light"
     },
     "output_type": "display_data"
    }
   ],
   "source": [
    "validation_ds['ellipse'][0, :, :].plot()\n",
    "validation_ds[['maj_len', 'min_len']].sel(p=slice(0, 10))"
   ]
  },
  {
   "cell_type": "code",
   "execution_count": 16,
   "id": "f1066d90-644f-4b15-b3ce-e6d55ea7e7d6",
   "metadata": {},
   "outputs": [
    {
     "name": "stdout",
     "output_type": "stream",
     "text": [
      "1/1 [==============================] - 1s 501ms/step\n"
     ]
    },
    {
     "data": {
      "text/plain": [
       "array([[27.036198, 16.49149 ],\n",
       "       [12.397746,  6.763775],\n",
       "       [21.312408, 13.181325],\n",
       "       [22.534462,  1.75183 ],\n",
       "       [25.239275,  6.963908],\n",
       "       [37.2989  , 19.496313],\n",
       "       [20.897923, 11.505179],\n",
       "       [36.327023, 16.287352],\n",
       "       [37.467438, 17.377872],\n",
       "       [28.947668,  8.199195]], dtype=float32)"
      ]
     },
     "execution_count": 16,
     "metadata": {},
     "output_type": "execute_result"
    }
   ],
   "source": [
    "model.predict(X_val[0:10, :, :, :])"
   ]
  },
  {
   "cell_type": "code",
   "execution_count": 17,
   "id": "3b68bbe6-d94e-4301-b469-0c6ff2d6571f",
   "metadata": {},
   "outputs": [],
   "source": [
    "CNN_model = models.Sequential()\n",
    "CNN_model.add(layers.Conv2D(32, (3, 3), activation='relu', input_shape=(128, 128, 1)))\n",
    "CNN_model.add(layers.MaxPooling2D((2, 2)))\n",
    "CNN_model.add(layers.Conv2D(32, (3, 3), activation='relu'))\n",
    "CNN_model.add(layers.MaxPooling2D((2, 2)))\n",
    "CNN_model.add(layers.Conv2D(64, (3, 3), activation='relu'))\n",
    "CNN_model.add(layers.MaxPooling2D((2, 2)))\n",
    "CNN_model.add(layers.Conv2D(64, (3, 3), activation='relu'))\n",
    "CNN_model.add(layers.MaxPooling2D((2, 2)))\n",
    "CNN_model.add(layers.Conv2D(128, (3, 3), activation='relu'))\n",
    "CNN_model.add(layers.Flatten())\n",
    "CNN_model.add(layers.Dense(32, activation='relu'))\n",
    "CNN_model.add(layers.Dense(2))"
   ]
  },
  {
   "cell_type": "code",
   "execution_count": 18,
   "id": "7c77f241-d82e-4ff0-ba89-9282b415ab46",
   "metadata": {},
   "outputs": [],
   "source": [
    "CNN_model.compile(\n",
    "    optimizer='adam',\n",
    "    loss='mse',\n",
    ")"
   ]
  },
  {
   "cell_type": "code",
   "execution_count": 19,
   "id": "cbb937e1-e256-4c86-8ecb-fac852642873",
   "metadata": {},
   "outputs": [
    {
     "name": "stdout",
     "output_type": "stream",
     "text": [
      "Epoch 1/10\n",
      "313/313 [==============================] - 3s 9ms/step - loss: 36.0634 - val_loss: 19.9361\n",
      "Epoch 2/10\n",
      "313/313 [==============================] - 3s 9ms/step - loss: 14.1005 - val_loss: 11.0086\n",
      "Epoch 3/10\n",
      "313/313 [==============================] - 3s 9ms/step - loss: 7.8713 - val_loss: 9.2190\n",
      "Epoch 4/10\n",
      "313/313 [==============================] - 3s 9ms/step - loss: 4.8151 - val_loss: 4.1609\n",
      "Epoch 5/10\n",
      "313/313 [==============================] - 3s 9ms/step - loss: 3.5595 - val_loss: 13.0186\n",
      "Epoch 6/10\n",
      "313/313 [==============================] - 3s 9ms/step - loss: 3.3854 - val_loss: 2.6079\n",
      "Epoch 7/10\n",
      "313/313 [==============================] - 3s 9ms/step - loss: 3.0854 - val_loss: 2.9758\n",
      "Epoch 8/10\n",
      "313/313 [==============================] - 3s 9ms/step - loss: 2.2974 - val_loss: 2.2806\n",
      "Epoch 9/10\n",
      "313/313 [==============================] - 3s 9ms/step - loss: 1.7329 - val_loss: 2.0926\n",
      "Epoch 10/10\n",
      "313/313 [==============================] - 3s 9ms/step - loss: 1.7276 - val_loss: 1.3526\n"
     ]
    }
   ],
   "source": [
    "CNN_history = CNN_model.fit(\n",
    "    x=X_train, y=Y_train,\n",
    "    epochs=10, validation_data=(X_val, Y_val),\n",
    "    shuffle=True\n",
    ")"
   ]
  },
  {
   "cell_type": "code",
   "execution_count": 21,
   "id": "1f6dab1c-7b71-4ad4-909a-a688dfefafa0",
   "metadata": {},
   "outputs": [
    {
     "data": {
      "text/plain": [
       "<matplotlib.legend.Legend at 0x2ba46c8228f0>"
      ]
     },
     "execution_count": 21,
     "metadata": {},
     "output_type": "execute_result"
    },
    {
     "data": {
      "image/png": "[encoded data removed]",
      "text/plain": [
       "<Figure size 432x288 with 1 Axes>"
      ]
     },
     "metadata": {
      "needs_background": "light"
     },
     "output_type": "display_data"
    }
   ],
   "source": [
    "a = plt.plot(history.history['val_loss'], label='GDL')\n",
    "b = plt.plot(CNN_history.history['val_loss'], label='CNN')\n",
    "plt.legend()"
   ]
  },
  {
   "cell_type": "code",
   "execution_count": 22,
   "id": "8ea4cfc3-1167-43fe-af29-e553ecd385f1",
   "metadata": {},
   "outputs": [],
   "source": [
    "test_ds = xr.open_dataset(\"/glade/scratch/lverhoef/gdl_toy_ds/semifixed_test_data.nc\")\n",
    "X_test = tf.expand_dims(tf.convert_to_tensor(test_ds[\"ellipse\"]), axis=-1)\n",
    "Y_test = tf.convert_to_tensor(test_ds[['maj_len', 'min_len']].to_array().transpose())"
   ]
  },
  {
   "cell_type": "code",
   "execution_count": 23,
   "id": "a8130c60-f174-4b38-9a67-517b32625d80",
   "metadata": {},
   "outputs": [
    {
     "name": "stdout",
     "output_type": "stream",
     "text": [
      "32/32 [==============================] - 1s 18ms/step - loss: 0.5347 - mse: 0.5347\n",
      "32/32 [==============================] - 1s 19ms/step - loss: 0.7658 - mse: 0.7658\n"
     ]
    },
    {
     "data": {
      "text/plain": [
       "[0.7658436894416809, 0.7658436894416809]"
      ]
     },
     "execution_count": 23,
     "metadata": {},
     "output_type": "execute_result"
    }
   ],
   "source": [
    "model.evaluate(X_val, Y_val)\n",
    "model.evaluate(X_test, Y_test)"
   ]
  },
  {
   "cell_type": "code",
   "execution_count": 24,
   "id": "cdecba36-b3fc-4872-9fc0-a67e4ff0a2f4",
   "metadata": {},
   "outputs": [
    {
     "name": "stdout",
     "output_type": "stream",
     "text": [
      "32/32 [==============================] - 0s 4ms/step - loss: 1.3526\n",
      "32/32 [==============================] - 0s 6ms/step - loss: 38.1399\n"
     ]
    },
    {
     "data": {
      "text/plain": [
       "38.139923095703125"
      ]
     },
     "execution_count": 24,
     "metadata": {},
     "output_type": "execute_result"
    }
   ],
   "source": [
    "CNN_model.evaluate(X_val, Y_val)\n",
    "CNN_model.evaluate(X_test, Y_test)"
   ]
  },
  {
   "cell_type": "code",
   "execution_count": 30,
   "id": "3c25f132-2435-4599-9070-82f231763209",
   "metadata": {},
   "outputs": [
    {
     "data": {
      "text/plain": [
       "(array([10., 10., 13., 13., 12.,  8.,  9.,  4.,  6., 11.]),\n",
       " array([-0.13932943, -0.1111842 , -0.08303896, -0.05489373, -0.0267485 ,\n",
       "         0.00139674,  0.02954197,  0.05768721,  0.08583244,  0.11397768,\n",
       "         0.14212291], dtype=float32),\n",
       " <BarContainer object of 10 artists>)"
      ]
     },
     "execution_count": 30,
     "metadata": {},
     "output_type": "execute_result"
    },
    {
     "data": {
      "image/png": "[encoded data removed]",
      "text/plain": [
       "<Figure size 432x288 with 1 Axes>"
      ]
     },
     "metadata": {
      "needs_background": "light"
     },
     "output_type": "display_data"
    }
   ],
   "source": [
    "plt.hist(model.get_weights()[0][1].ravel())"
   ]
  },
  {
   "cell_type": "code",
   "execution_count": null,
   "id": "699c2a64-c4f4-4431-84b2-49c63f5c52bb",
   "metadata": {},
   "outputs": [],
   "source": []
  }
 ],
 "metadata": {
  "kernelspec": {
   "display_name": "Python [conda env:.conda-storm-mode]",
   "language": "python",
   "name": "conda-env-.conda-storm-mode-py"
  },
  "language_info": {
   "codemirror_mode": {
    "name": "ipython",
    "version": 3
   },
   "file_extension": ".py",
   "mimetype": "text/x-python",
   "name": "python",
   "nbconvert_exporter": "python",
   "pygments_lexer": "ipython3",
   "version": "3.10.4"
  }
 },
 "nbformat": 4,
 "nbformat_minor": 5
}
