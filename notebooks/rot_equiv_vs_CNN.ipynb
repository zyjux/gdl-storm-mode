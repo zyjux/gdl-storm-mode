{
 "cells": [
  {
   "cell_type": "code",
   "execution_count": 30,
   "id": "0742df0e-83c8-48e9-aaf5-39566a8df26d",
   "metadata": {},
   "outputs": [],
   "source": [
    "from glob import glob\n",
    "from os.path import join\n",
    "import tensorflow as tf\n",
    "from tensorflow.keras import layers, models\n",
    "import xarray as xr\n",
    "import pandas as pd\n",
    "import numpy as np\n",
    "import matplotlib.pyplot as plt\n",
    "import imports.GDL_layers as GDL_layers"
   ]
  },
  {
   "cell_type": "code",
   "execution_count": 2,
   "id": "7afe3aee-14b2-40f7-9158-efd870d91ad2",
   "metadata": {},
   "outputs": [],
   "source": [
    "# Find a list of all the datafiles\n",
    "patch_path = \"/glade/scratch/lverhoef/WRF_all/track_data_hrrr_3km_nc_refl/\"\n",
    "patch_files = sorted(glob(join(patch_path, \"*.nc\")))\n",
    "patch_ds = xr.open_dataset(patch_files[0])\n",
    "csv_path = \"/glade/scratch/lverhoef/WRF_all/track_data_hrrr_3km_csv_refl/\"\n",
    "csv_files = sorted(glob(join(csv_path, \"track_step_*.csv\")))\n",
    "meta_ds = pd.read_csv(csv_files[0])"
   ]
  },
  {
   "cell_type": "code",
   "execution_count": 3,
   "id": "92f91904-785f-4e1e-8d82-ba1c2d54a973",
   "metadata": {},
   "outputs": [
    {
     "data": {
      "text/html": [
       "<div><svg style=\"position: absolute; width: 0; height: 0; overflow: hidden\">\n",
       "<defs>\n",
       "<symbol id=\"icon-database\" viewBox=\"0 0 32 32\">\n",
       "<path d=\"M16 0c-8.837 0-16 2.239-16 5v4c0 2.761 7.163 5 16 5s16-2.239 16-5v-4c0-2.761-7.163-5-16-5z\"></path>\n",
       "<path d=\"M16 17c-8.837 0-16-2.239-16-5v6c0 2.761 7.163 5 16 5s16-2.239 16-5v-6c0 2.761-7.163 5-16 5z\"></path>\n",
       "<path d=\"M16 26c-8.837 0-16-2.239-16-5v6c0 2.761 7.163 5 16 5s16-2.239 16-5v-6c0 2.761-7.163 5-16 5z\"></path>\n",
       "</symbol>\n",
       "<symbol id=\"icon-file-text2\" viewBox=\"0 0 32 32\">\n",
       "<path d=\"M28.681 7.159c-0.694-0.947-1.662-2.053-2.724-3.116s-2.169-2.030-3.116-2.724c-1.612-1.182-2.393-1.319-2.841-1.319h-15.5c-1.378 0-2.5 1.121-2.5 2.5v27c0 1.378 1.122 2.5 2.5 2.5h23c1.378 0 2.5-1.122 2.5-2.5v-19.5c0-0.448-0.137-1.23-1.319-2.841zM24.543 5.457c0.959 0.959 1.712 1.825 2.268 2.543h-4.811v-4.811c0.718 0.556 1.584 1.309 2.543 2.268zM28 29.5c0 0.271-0.229 0.5-0.5 0.5h-23c-0.271 0-0.5-0.229-0.5-0.5v-27c0-0.271 0.229-0.5 0.5-0.5 0 0 15.499-0 15.5 0v7c0 0.552 0.448 1 1 1h7v19.5z\"></path>\n",
       "<path d=\"M23 26h-14c-0.552 0-1-0.448-1-1s0.448-1 1-1h14c0.552 0 1 0.448 1 1s-0.448 1-1 1z\"></path>\n",
       "<path d=\"M23 22h-14c-0.552 0-1-0.448-1-1s0.448-1 1-1h14c0.552 0 1 0.448 1 1s-0.448 1-1 1z\"></path>\n",
       "<path d=\"M23 18h-14c-0.552 0-1-0.448-1-1s0.448-1 1-1h14c0.552 0 1 0.448 1 1s-0.448 1-1 1z\"></path>\n",
       "</symbol>\n",
       "</defs>\n",
       "</svg>\n",
       "<style>/* CSS stylesheet for displaying xarray objects in jupyterlab.\n",
       " *\n",
       " */\n",
       "\n",
       ":root {\n",
       "  --xr-font-color0: var(--jp-content-font-color0, rgba(0, 0, 0, 1));\n",
       "  --xr-font-color2: var(--jp-content-font-color2, rgba(0, 0, 0, 0.54));\n",
       "  --xr-font-color3: var(--jp-content-font-color3, rgba(0, 0, 0, 0.38));\n",
       "  --xr-border-color: var(--jp-border-color2, #e0e0e0);\n",
       "  --xr-disabled-color: var(--jp-layout-color3, #bdbdbd);\n",
       "  --xr-background-color: var(--jp-layout-color0, white);\n",
       "  --xr-background-color-row-even: var(--jp-layout-color1, white);\n",
       "  --xr-background-color-row-odd: var(--jp-layout-color2, #eeeeee);\n",
       "}\n",
       "\n",
       "html[theme=dark],\n",
       "body.vscode-dark {\n",
       "  --xr-font-color0: rgba(255, 255, 255, 1);\n",
       "  --xr-font-color2: rgba(255, 255, 255, 0.54);\n",
       "  --xr-font-color3: rgba(255, 255, 255, 0.38);\n",
       "  --xr-border-color: #1F1F1F;\n",
       "  --xr-disabled-color: #515151;\n",
       "  --xr-background-color: #111111;\n",
       "  --xr-background-color-row-even: #111111;\n",
       "  --xr-background-color-row-odd: #313131;\n",
       "}\n",
       "\n",
       ".xr-wrap {\n",
       "  display: block;\n",
       "  min-width: 300px;\n",
       "  max-width: 700px;\n",
       "}\n",
       "\n",
       ".xr-text-repr-fallback {\n",
       "  /* fallback to plain text repr when CSS is not injected (untrusted notebook) */\n",
       "  display: none;\n",
       "}\n",
       "\n",
       ".xr-header {\n",
       "  padding-top: 6px;\n",
       "  padding-bottom: 6px;\n",
       "  margin-bottom: 4px;\n",
       "  border-bottom: solid 1px var(--xr-border-color);\n",
       "}\n",
       "\n",
       ".xr-header > div,\n",
       ".xr-header > ul {\n",
       "  display: inline;\n",
       "  margin-top: 0;\n",
       "  margin-bottom: 0;\n",
       "}\n",
       "\n",
       ".xr-obj-type,\n",
       ".xr-array-name {\n",
       "  margin-left: 2px;\n",
       "  margin-right: 10px;\n",
       "}\n",
       "\n",
       ".xr-obj-type {\n",
       "  color: var(--xr-font-color2);\n",
       "}\n",
       "\n",
       ".xr-sections {\n",
       "  padding-left: 0 !important;\n",
       "  display: grid;\n",
       "  grid-template-columns: 150px auto auto 1fr 20px 20px;\n",
       "}\n",
       "\n",
       ".xr-section-item {\n",
       "  display: contents;\n",
       "}\n",
       "\n",
       ".xr-section-item input {\n",
       "  display: none;\n",
       "}\n",
       "\n",
       ".xr-section-item input + label {\n",
       "  color: var(--xr-disabled-color);\n",
       "}\n",
       "\n",
       ".xr-section-item input:enabled + label {\n",
       "  cursor: pointer;\n",
       "  color: var(--xr-font-color2);\n",
       "}\n",
       "\n",
       ".xr-section-item input:enabled + label:hover {\n",
       "  color: var(--xr-font-color0);\n",
       "}\n",
       "\n",
       ".xr-section-summary {\n",
       "  grid-column: 1;\n",
       "  color: var(--xr-font-color2);\n",
       "  font-weight: 500;\n",
       "}\n",
       "\n",
       ".xr-section-summary > span {\n",
       "  display: inline-block;\n",
       "  padding-left: 0.5em;\n",
       "}\n",
       "\n",
       ".xr-section-summary-in:disabled + label {\n",
       "  color: var(--xr-font-color2);\n",
       "}\n",
       "\n",
       ".xr-section-summary-in + label:before {\n",
       "  display: inline-block;\n",
       "  content: '►';\n",
       "  font-size: 11px;\n",
       "  width: 15px;\n",
       "  text-align: center;\n",
       "}\n",
       "\n",
       ".xr-section-summary-in:disabled + label:before {\n",
       "  color: var(--xr-disabled-color);\n",
       "}\n",
       "\n",
       ".xr-section-summary-in:checked + label:before {\n",
       "  content: '▼';\n",
       "}\n",
       "\n",
       ".xr-section-summary-in:checked + label > span {\n",
       "  display: none;\n",
       "}\n",
       "\n",
       ".xr-section-summary,\n",
       ".xr-section-inline-details {\n",
       "  padding-top: 4px;\n",
       "  padding-bottom: 4px;\n",
       "}\n",
       "\n",
       ".xr-section-inline-details {\n",
       "  grid-column: 2 / -1;\n",
       "}\n",
       "\n",
       ".xr-section-details {\n",
       "  display: none;\n",
       "  grid-column: 1 / -1;\n",
       "  margin-bottom: 5px;\n",
       "}\n",
       "\n",
       ".xr-section-summary-in:checked ~ .xr-section-details {\n",
       "  display: contents;\n",
       "}\n",
       "\n",
       ".xr-array-wrap {\n",
       "  grid-column: 1 / -1;\n",
       "  display: grid;\n",
       "  grid-template-columns: 20px auto;\n",
       "}\n",
       "\n",
       ".xr-array-wrap > label {\n",
       "  grid-column: 1;\n",
       "  vertical-align: top;\n",
       "}\n",
       "\n",
       ".xr-preview {\n",
       "  color: var(--xr-font-color3);\n",
       "}\n",
       "\n",
       ".xr-array-preview,\n",
       ".xr-array-data {\n",
       "  padding: 0 5px !important;\n",
       "  grid-column: 2;\n",
       "}\n",
       "\n",
       ".xr-array-data,\n",
       ".xr-array-in:checked ~ .xr-array-preview {\n",
       "  display: none;\n",
       "}\n",
       "\n",
       ".xr-array-in:checked ~ .xr-array-data,\n",
       ".xr-array-preview {\n",
       "  display: inline-block;\n",
       "}\n",
       "\n",
       ".xr-dim-list {\n",
       "  display: inline-block !important;\n",
       "  list-style: none;\n",
       "  padding: 0 !important;\n",
       "  margin: 0;\n",
       "}\n",
       "\n",
       ".xr-dim-list li {\n",
       "  display: inline-block;\n",
       "  padding: 0;\n",
       "  margin: 0;\n",
       "}\n",
       "\n",
       ".xr-dim-list:before {\n",
       "  content: '(';\n",
       "}\n",
       "\n",
       ".xr-dim-list:after {\n",
       "  content: ')';\n",
       "}\n",
       "\n",
       ".xr-dim-list li:not(:last-child):after {\n",
       "  content: ',';\n",
       "  padding-right: 5px;\n",
       "}\n",
       "\n",
       ".xr-has-index {\n",
       "  font-weight: bold;\n",
       "}\n",
       "\n",
       ".xr-var-list,\n",
       ".xr-var-item {\n",
       "  display: contents;\n",
       "}\n",
       "\n",
       ".xr-var-item > div,\n",
       ".xr-var-item label,\n",
       ".xr-var-item > .xr-var-name span {\n",
       "  background-color: var(--xr-background-color-row-even);\n",
       "  margin-bottom: 0;\n",
       "}\n",
       "\n",
       ".xr-var-item > .xr-var-name:hover span {\n",
       "  padding-right: 5px;\n",
       "}\n",
       "\n",
       ".xr-var-list > li:nth-child(odd) > div,\n",
       ".xr-var-list > li:nth-child(odd) > label,\n",
       ".xr-var-list > li:nth-child(odd) > .xr-var-name span {\n",
       "  background-color: var(--xr-background-color-row-odd);\n",
       "}\n",
       "\n",
       ".xr-var-name {\n",
       "  grid-column: 1;\n",
       "}\n",
       "\n",
       ".xr-var-dims {\n",
       "  grid-column: 2;\n",
       "}\n",
       "\n",
       ".xr-var-dtype {\n",
       "  grid-column: 3;\n",
       "  text-align: right;\n",
       "  color: var(--xr-font-color2);\n",
       "}\n",
       "\n",
       ".xr-var-preview {\n",
       "  grid-column: 4;\n",
       "}\n",
       "\n",
       ".xr-var-name,\n",
       ".xr-var-dims,\n",
       ".xr-var-dtype,\n",
       ".xr-preview,\n",
       ".xr-attrs dt {\n",
       "  white-space: nowrap;\n",
       "  overflow: hidden;\n",
       "  text-overflow: ellipsis;\n",
       "  padding-right: 10px;\n",
       "}\n",
       "\n",
       ".xr-var-name:hover,\n",
       ".xr-var-dims:hover,\n",
       ".xr-var-dtype:hover,\n",
       ".xr-attrs dt:hover {\n",
       "  overflow: visible;\n",
       "  width: auto;\n",
       "  z-index: 1;\n",
       "}\n",
       "\n",
       ".xr-var-attrs,\n",
       ".xr-var-data {\n",
       "  display: none;\n",
       "  background-color: var(--xr-background-color) !important;\n",
       "  padding-bottom: 5px !important;\n",
       "}\n",
       "\n",
       ".xr-var-attrs-in:checked ~ .xr-var-attrs,\n",
       ".xr-var-data-in:checked ~ .xr-var-data {\n",
       "  display: block;\n",
       "}\n",
       "\n",
       ".xr-var-data > table {\n",
       "  float: right;\n",
       "}\n",
       "\n",
       ".xr-var-name span,\n",
       ".xr-var-data,\n",
       ".xr-attrs {\n",
       "  padding-left: 25px !important;\n",
       "}\n",
       "\n",
       ".xr-attrs,\n",
       ".xr-var-attrs,\n",
       ".xr-var-data {\n",
       "  grid-column: 1 / -1;\n",
       "}\n",
       "\n",
       "dl.xr-attrs {\n",
       "  padding: 0;\n",
       "  margin: 0;\n",
       "  display: grid;\n",
       "  grid-template-columns: 125px auto;\n",
       "}\n",
       "\n",
       ".xr-attrs dt,\n",
       ".xr-attrs dd {\n",
       "  padding: 0;\n",
       "  margin: 0;\n",
       "  float: left;\n",
       "  padding-right: 10px;\n",
       "  width: auto;\n",
       "}\n",
       "\n",
       ".xr-attrs dt {\n",
       "  font-weight: normal;\n",
       "  grid-column: 1;\n",
       "}\n",
       "\n",
       ".xr-attrs dt:hover span {\n",
       "  display: inline-block;\n",
       "  background: var(--xr-background-color);\n",
       "  padding-right: 10px;\n",
       "}\n",
       "\n",
       ".xr-attrs dd {\n",
       "  grid-column: 2;\n",
       "  white-space: pre-wrap;\n",
       "  word-break: break-all;\n",
       "}\n",
       "\n",
       ".xr-icon-database,\n",
       ".xr-icon-file-text2 {\n",
       "  display: inline-block;\n",
       "  vertical-align: middle;\n",
       "  width: 1em;\n",
       "  height: 1.5em !important;\n",
       "  stroke-width: 0;\n",
       "  stroke: currentColor;\n",
       "  fill: currentColor;\n",
       "}\n",
       "</style><pre class='xr-text-repr-fallback'>&lt;xarray.Dataset&gt;\n",
       "Dimensions:           (p: 370, row: 144, col: 144)\n",
       "Coordinates:\n",
       "  * p                 (p) int32 0 1 2 3 4 5 6 7 ... 363 364 365 366 367 368 369\n",
       "  * row               (row) int32 0 1 2 3 4 5 6 ... 137 138 139 140 141 142 143\n",
       "  * col               (col) int32 0 1 2 3 4 5 6 ... 137 138 139 140 141 142 143\n",
       "Data variables: (12/26)\n",
       "    lon               (p, row, col) float32 ...\n",
       "    lat               (p, row, col) float32 ...\n",
       "    i                 (p, row, col) int32 ...\n",
       "    j                 (p, row, col) int32 ...\n",
       "    x                 (p, row, col) float32 ...\n",
       "    y                 (p, row, col) float32 ...\n",
       "    ...                ...\n",
       "    MLCAPE_prev       (p, row, col) float32 ...\n",
       "    USHR6_prev        (p, row, col) float32 ...\n",
       "    VSHR6_prev        (p, row, col) float32 ...\n",
       "    SBLCL_prev        (p, row, col) float32 ...\n",
       "    U_BUNK_prev       (p, row, col) float32 ...\n",
       "    V_BUNK_prev       (p, row, col) float32 ...\n",
       "Attributes: (12/36)\n",
       "    Conventions:             CF-1.6\n",
       "    title:                   NCARSTORM Storm Patches for run 20101024-0000 me...\n",
       "    object_variable:         REFL_COM\n",
       "    start_hour:              12\n",
       "    end_hour:                35\n",
       "    HRRR_alt_end_hour:       46\n",
       "    ...                      ...\n",
       "    single_step:             True\n",
       "    label_type:              gamma\n",
       "    model_map_file:          /glade/work/cbecker/hagelslag/mapfiles/ncar_stor...\n",
       "    mask_file:               None\n",
       "    run_date_format:         %Y%m%d-%H%M\n",
       "    json:                    False</pre><div class='xr-wrap' hidden><div class='xr-header'><div class='xr-obj-type'>xarray.Dataset</div></div><ul class='xr-sections'><li class='xr-section-item'><input id='section-425e6c90-f218-4426-8fc3-d8fcd720cf23' class='xr-section-summary-in' type='checkbox' disabled ><label for='section-425e6c90-f218-4426-8fc3-d8fcd720cf23' class='xr-section-summary'  title='Expand/collapse section'>Dimensions:</label><div class='xr-section-inline-details'><ul class='xr-dim-list'><li><span class='xr-has-index'>p</span>: 370</li><li><span class='xr-has-index'>row</span>: 144</li><li><span class='xr-has-index'>col</span>: 144</li></ul></div><div class='xr-section-details'></div></li><li class='xr-section-item'><input id='section-0e50f0b1-3326-4576-80d3-83d0cc0f65ad' class='xr-section-summary-in' type='checkbox'  checked><label for='section-0e50f0b1-3326-4576-80d3-83d0cc0f65ad' class='xr-section-summary' >Coordinates: <span>(3)</span></label><div class='xr-section-inline-details'></div><div class='xr-section-details'><ul class='xr-var-list'><li class='xr-var-item'><div class='xr-var-name'><span class='xr-has-index'>p</span></div><div class='xr-var-dims'>(p)</div><div class='xr-var-dtype'>int32</div><div class='xr-var-preview xr-preview'>0 1 2 3 4 5 ... 365 366 367 368 369</div><input id='attrs-1a861a4d-a104-4625-8bfc-a61e4b9ab48a' class='xr-var-attrs-in' type='checkbox' disabled><label for='attrs-1a861a4d-a104-4625-8bfc-a61e4b9ab48a' title='Show/Hide attributes'><svg class='icon xr-icon-file-text2'><use xlink:href='#icon-file-text2'></use></svg></label><input id='data-50c7cf6d-ce9d-47da-b8df-ed90721a9d7d' class='xr-var-data-in' type='checkbox'><label for='data-50c7cf6d-ce9d-47da-b8df-ed90721a9d7d' title='Show/Hide data repr'><svg class='icon xr-icon-database'><use xlink:href='#icon-database'></use></svg></label><div class='xr-var-attrs'><dl class='xr-attrs'></dl></div><div class='xr-var-data'><pre>array([  0,   1,   2, ..., 367, 368, 369], dtype=int32)</pre></div></li><li class='xr-var-item'><div class='xr-var-name'><span class='xr-has-index'>row</span></div><div class='xr-var-dims'>(row)</div><div class='xr-var-dtype'>int32</div><div class='xr-var-preview xr-preview'>0 1 2 3 4 5 ... 139 140 141 142 143</div><input id='attrs-7fcc853b-bcde-4840-90ed-3eca48b2bdf9' class='xr-var-attrs-in' type='checkbox' disabled><label for='attrs-7fcc853b-bcde-4840-90ed-3eca48b2bdf9' title='Show/Hide attributes'><svg class='icon xr-icon-file-text2'><use xlink:href='#icon-file-text2'></use></svg></label><input id='data-8c52e2be-c494-4abc-9d68-a4d1e3ea0196' class='xr-var-data-in' type='checkbox'><label for='data-8c52e2be-c494-4abc-9d68-a4d1e3ea0196' title='Show/Hide data repr'><svg class='icon xr-icon-database'><use xlink:href='#icon-database'></use></svg></label><div class='xr-var-attrs'><dl class='xr-attrs'></dl></div><div class='xr-var-data'><pre>array([  0,   1,   2,   3,   4,   5,   6,   7,   8,   9,  10,  11,  12,  13,\n",
       "        14,  15,  16,  17,  18,  19,  20,  21,  22,  23,  24,  25,  26,  27,\n",
       "        28,  29,  30,  31,  32,  33,  34,  35,  36,  37,  38,  39,  40,  41,\n",
       "        42,  43,  44,  45,  46,  47,  48,  49,  50,  51,  52,  53,  54,  55,\n",
       "        56,  57,  58,  59,  60,  61,  62,  63,  64,  65,  66,  67,  68,  69,\n",
       "        70,  71,  72,  73,  74,  75,  76,  77,  78,  79,  80,  81,  82,  83,\n",
       "        84,  85,  86,  87,  88,  89,  90,  91,  92,  93,  94,  95,  96,  97,\n",
       "        98,  99, 100, 101, 102, 103, 104, 105, 106, 107, 108, 109, 110, 111,\n",
       "       112, 113, 114, 115, 116, 117, 118, 119, 120, 121, 122, 123, 124, 125,\n",
       "       126, 127, 128, 129, 130, 131, 132, 133, 134, 135, 136, 137, 138, 139,\n",
       "       140, 141, 142, 143], dtype=int32)</pre></div></li><li class='xr-var-item'><div class='xr-var-name'><span class='xr-has-index'>col</span></div><div class='xr-var-dims'>(col)</div><div class='xr-var-dtype'>int32</div><div class='xr-var-preview xr-preview'>0 1 2 3 4 5 ... 139 140 141 142 143</div><input id='attrs-d7b0e5da-3cb5-478c-9392-79a0167169a3' class='xr-var-attrs-in' type='checkbox' disabled><label for='attrs-d7b0e5da-3cb5-478c-9392-79a0167169a3' title='Show/Hide attributes'><svg class='icon xr-icon-file-text2'><use xlink:href='#icon-file-text2'></use></svg></label><input id='data-73cb529c-6770-4c63-9df5-d4dd60fada8c' class='xr-var-data-in' type='checkbox'><label for='data-73cb529c-6770-4c63-9df5-d4dd60fada8c' title='Show/Hide data repr'><svg class='icon xr-icon-database'><use xlink:href='#icon-database'></use></svg></label><div class='xr-var-attrs'><dl class='xr-attrs'></dl></div><div class='xr-var-data'><pre>array([  0,   1,   2,   3,   4,   5,   6,   7,   8,   9,  10,  11,  12,  13,\n",
       "        14,  15,  16,  17,  18,  19,  20,  21,  22,  23,  24,  25,  26,  27,\n",
       "        28,  29,  30,  31,  32,  33,  34,  35,  36,  37,  38,  39,  40,  41,\n",
       "        42,  43,  44,  45,  46,  47,  48,  49,  50,  51,  52,  53,  54,  55,\n",
       "        56,  57,  58,  59,  60,  61,  62,  63,  64,  65,  66,  67,  68,  69,\n",
       "        70,  71,  72,  73,  74,  75,  76,  77,  78,  79,  80,  81,  82,  83,\n",
       "        84,  85,  86,  87,  88,  89,  90,  91,  92,  93,  94,  95,  96,  97,\n",
       "        98,  99, 100, 101, 102, 103, 104, 105, 106, 107, 108, 109, 110, 111,\n",
       "       112, 113, 114, 115, 116, 117, 118, 119, 120, 121, 122, 123, 124, 125,\n",
       "       126, 127, 128, 129, 130, 131, 132, 133, 134, 135, 136, 137, 138, 139,\n",
       "       140, 141, 142, 143], dtype=int32)</pre></div></li></ul></div></li><li class='xr-section-item'><input id='section-396cadf1-94a0-4d68-93d7-eb07dc546e02' class='xr-section-summary-in' type='checkbox'  ><label for='section-396cadf1-94a0-4d68-93d7-eb07dc546e02' class='xr-section-summary' >Data variables: <span>(26)</span></label><div class='xr-section-inline-details'></div><div class='xr-section-details'><ul class='xr-var-list'><li class='xr-var-item'><div class='xr-var-name'><span>lon</span></div><div class='xr-var-dims'>(p, row, col)</div><div class='xr-var-dtype'>float32</div><div class='xr-var-preview xr-preview'>...</div><input id='attrs-403be841-e2b2-44f6-91ae-fd1b4c8bfc52' class='xr-var-attrs-in' type='checkbox' ><label for='attrs-403be841-e2b2-44f6-91ae-fd1b4c8bfc52' title='Show/Hide attributes'><svg class='icon xr-icon-file-text2'><use xlink:href='#icon-file-text2'></use></svg></label><input id='data-e530815f-74f0-4aeb-bbf9-40b0208b521d' class='xr-var-data-in' type='checkbox'><label for='data-e530815f-74f0-4aeb-bbf9-40b0208b521d' title='Show/Hide data repr'><svg class='icon xr-icon-database'><use xlink:href='#icon-database'></use></svg></label><div class='xr-var-attrs'><dl class='xr-attrs'><dt><span>long_name :</span></dt><dd>lon</dd><dt><span>units :</span></dt><dd>degrees_east</dd></dl></div><div class='xr-var-data'><pre>[7672320 values with dtype=float32]</pre></div></li><li class='xr-var-item'><div class='xr-var-name'><span>lat</span></div><div class='xr-var-dims'>(p, row, col)</div><div class='xr-var-dtype'>float32</div><div class='xr-var-preview xr-preview'>...</div><input id='attrs-6cb9850b-51b4-4157-9050-52fcc7fa1ed7' class='xr-var-attrs-in' type='checkbox' ><label for='attrs-6cb9850b-51b4-4157-9050-52fcc7fa1ed7' title='Show/Hide attributes'><svg class='icon xr-icon-file-text2'><use xlink:href='#icon-file-text2'></use></svg></label><input id='data-e4e6b7c6-a8ce-4448-be53-16faf42f5c67' class='xr-var-data-in' type='checkbox'><label for='data-e4e6b7c6-a8ce-4448-be53-16faf42f5c67' title='Show/Hide data repr'><svg class='icon xr-icon-database'><use xlink:href='#icon-database'></use></svg></label><div class='xr-var-attrs'><dl class='xr-attrs'><dt><span>long_name :</span></dt><dd>lat</dd><dt><span>units :</span></dt><dd>degrees_north</dd></dl></div><div class='xr-var-data'><pre>[7672320 values with dtype=float32]</pre></div></li><li class='xr-var-item'><div class='xr-var-name'><span>i</span></div><div class='xr-var-dims'>(p, row, col)</div><div class='xr-var-dtype'>int32</div><div class='xr-var-preview xr-preview'>...</div><input id='attrs-6ae2c1fd-99ef-4c57-8dcf-d83aab021fea' class='xr-var-attrs-in' type='checkbox' ><label for='attrs-6ae2c1fd-99ef-4c57-8dcf-d83aab021fea' title='Show/Hide attributes'><svg class='icon xr-icon-file-text2'><use xlink:href='#icon-file-text2'></use></svg></label><input id='data-a96ab738-703b-4c96-97e4-0c80e12c0c16' class='xr-var-data-in' type='checkbox'><label for='data-a96ab738-703b-4c96-97e4-0c80e12c0c16' title='Show/Hide data repr'><svg class='icon xr-icon-database'><use xlink:href='#icon-database'></use></svg></label><div class='xr-var-attrs'><dl class='xr-attrs'><dt><span>long_name :</span></dt><dd>i</dd><dt><span>units :</span></dt><dd></dd></dl></div><div class='xr-var-data'><pre>[7672320 values with dtype=int32]</pre></div></li><li class='xr-var-item'><div class='xr-var-name'><span>j</span></div><div class='xr-var-dims'>(p, row, col)</div><div class='xr-var-dtype'>int32</div><div class='xr-var-preview xr-preview'>...</div><input id='attrs-f1c1aa09-8b8f-4b46-bf0f-101ace38ef39' class='xr-var-attrs-in' type='checkbox' ><label for='attrs-f1c1aa09-8b8f-4b46-bf0f-101ace38ef39' title='Show/Hide attributes'><svg class='icon xr-icon-file-text2'><use xlink:href='#icon-file-text2'></use></svg></label><input id='data-5aaeee7a-b144-46ca-a3ee-dbbacbfa8cb3' class='xr-var-data-in' type='checkbox'><label for='data-5aaeee7a-b144-46ca-a3ee-dbbacbfa8cb3' title='Show/Hide data repr'><svg class='icon xr-icon-database'><use xlink:href='#icon-database'></use></svg></label><div class='xr-var-attrs'><dl class='xr-attrs'><dt><span>long_name :</span></dt><dd>j</dd><dt><span>units :</span></dt><dd></dd></dl></div><div class='xr-var-data'><pre>[7672320 values with dtype=int32]</pre></div></li><li class='xr-var-item'><div class='xr-var-name'><span>x</span></div><div class='xr-var-dims'>(p, row, col)</div><div class='xr-var-dtype'>float32</div><div class='xr-var-preview xr-preview'>...</div><input id='attrs-6191dcc5-3a4c-4a33-bac2-71c98d44e0db' class='xr-var-attrs-in' type='checkbox' ><label for='attrs-6191dcc5-3a4c-4a33-bac2-71c98d44e0db' title='Show/Hide attributes'><svg class='icon xr-icon-file-text2'><use xlink:href='#icon-file-text2'></use></svg></label><input id='data-39baa32a-ecad-4cfa-82c0-ea609c33105b' class='xr-var-data-in' type='checkbox'><label for='data-39baa32a-ecad-4cfa-82c0-ea609c33105b' title='Show/Hide data repr'><svg class='icon xr-icon-database'><use xlink:href='#icon-database'></use></svg></label><div class='xr-var-attrs'><dl class='xr-attrs'><dt><span>long_name :</span></dt><dd>x</dd><dt><span>units :</span></dt><dd>m</dd></dl></div><div class='xr-var-data'><pre>[7672320 values with dtype=float32]</pre></div></li><li class='xr-var-item'><div class='xr-var-name'><span>y</span></div><div class='xr-var-dims'>(p, row, col)</div><div class='xr-var-dtype'>float32</div><div class='xr-var-preview xr-preview'>...</div><input id='attrs-4b90cd48-2956-4346-8270-5fbb0bac28e3' class='xr-var-attrs-in' type='checkbox' ><label for='attrs-4b90cd48-2956-4346-8270-5fbb0bac28e3' title='Show/Hide attributes'><svg class='icon xr-icon-file-text2'><use xlink:href='#icon-file-text2'></use></svg></label><input id='data-294f6e1e-bcc9-4f09-9526-cf334b507276' class='xr-var-data-in' type='checkbox'><label for='data-294f6e1e-bcc9-4f09-9526-cf334b507276' title='Show/Hide data repr'><svg class='icon xr-icon-database'><use xlink:href='#icon-database'></use></svg></label><div class='xr-var-attrs'><dl class='xr-attrs'><dt><span>long_name :</span></dt><dd>y</dd><dt><span>units :</span></dt><dd>m</dd></dl></div><div class='xr-var-data'><pre>[7672320 values with dtype=float32]</pre></div></li><li class='xr-var-item'><div class='xr-var-name'><span>masks</span></div><div class='xr-var-dims'>(p, row, col)</div><div class='xr-var-dtype'>int32</div><div class='xr-var-preview xr-preview'>...</div><input id='attrs-25010ad3-940d-46c6-ba00-935929c55b9c' class='xr-var-attrs-in' type='checkbox' ><label for='attrs-25010ad3-940d-46c6-ba00-935929c55b9c' title='Show/Hide attributes'><svg class='icon xr-icon-file-text2'><use xlink:href='#icon-file-text2'></use></svg></label><input id='data-e953f2e9-9deb-479c-ba7b-1594385d022e' class='xr-var-data-in' type='checkbox'><label for='data-e953f2e9-9deb-479c-ba7b-1594385d022e' title='Show/Hide data repr'><svg class='icon xr-icon-database'><use xlink:href='#icon-database'></use></svg></label><div class='xr-var-attrs'><dl class='xr-attrs'><dt><span>long_name :</span></dt><dd>masks</dd><dt><span>units :</span></dt><dd></dd></dl></div><div class='xr-var-data'><pre>[7672320 values with dtype=int32]</pre></div></li><li class='xr-var-item'><div class='xr-var-name'><span>time</span></div><div class='xr-var-dims'>(p)</div><div class='xr-var-dtype'>datetime64[ns]</div><div class='xr-var-preview xr-preview'>...</div><input id='attrs-cf41bdb9-eb44-4cd1-9134-ebc48bfbff15' class='xr-var-attrs-in' type='checkbox' ><label for='attrs-cf41bdb9-eb44-4cd1-9134-ebc48bfbff15' title='Show/Hide attributes'><svg class='icon xr-icon-file-text2'><use xlink:href='#icon-file-text2'></use></svg></label><input id='data-ddfde88d-c2a0-456a-83b4-ea3c886c78a8' class='xr-var-data-in' type='checkbox'><label for='data-ddfde88d-c2a0-456a-83b4-ea3c886c78a8' title='Show/Hide data repr'><svg class='icon xr-icon-database'><use xlink:href='#icon-database'></use></svg></label><div class='xr-var-attrs'><dl class='xr-attrs'><dt><span>long_name :</span></dt><dd>time</dd></dl></div><div class='xr-var-data'><pre>array([&#x27;2010-10-24T12:00:00.000000000&#x27;, &#x27;2010-10-24T13:00:00.000000000&#x27;,\n",
       "       &#x27;2010-10-24T12:00:00.000000000&#x27;, ..., &#x27;2010-10-25T11:00:00.000000000&#x27;,\n",
       "       &#x27;2010-10-25T11:00:00.000000000&#x27;, &#x27;2010-10-25T11:00:00.000000000&#x27;],\n",
       "      dtype=&#x27;datetime64[ns]&#x27;)</pre></div></li><li class='xr-var-item'><div class='xr-var-name'><span>centroid_lon</span></div><div class='xr-var-dims'>(p)</div><div class='xr-var-dtype'>float32</div><div class='xr-var-preview xr-preview'>...</div><input id='attrs-c3866ee3-b1fe-4621-a3f3-3c859621814f' class='xr-var-attrs-in' type='checkbox' ><label for='attrs-c3866ee3-b1fe-4621-a3f3-3c859621814f' title='Show/Hide attributes'><svg class='icon xr-icon-file-text2'><use xlink:href='#icon-file-text2'></use></svg></label><input id='data-f39ef322-9f05-426a-b9e8-216cddab5bdf' class='xr-var-data-in' type='checkbox'><label for='data-f39ef322-9f05-426a-b9e8-216cddab5bdf' title='Show/Hide data repr'><svg class='icon xr-icon-database'><use xlink:href='#icon-database'></use></svg></label><div class='xr-var-attrs'><dl class='xr-attrs'><dt><span>long_name :</span></dt><dd>centroid_lon</dd><dt><span>units :</span></dt><dd>degrees_east</dd></dl></div><div class='xr-var-data'><pre>array([-98.410194, -97.69198 , -95.15486 , ..., -88.18374 , -82.50549 ,\n",
       "       -81.38741 ], dtype=float32)</pre></div></li><li class='xr-var-item'><div class='xr-var-name'><span>centroid_lat</span></div><div class='xr-var-dims'>(p)</div><div class='xr-var-dtype'>float32</div><div class='xr-var-preview xr-preview'>...</div><input id='attrs-9a8d633b-7fe9-4336-b9a8-2c804ca22e9f' class='xr-var-attrs-in' type='checkbox' ><label for='attrs-9a8d633b-7fe9-4336-b9a8-2c804ca22e9f' title='Show/Hide attributes'><svg class='icon xr-icon-file-text2'><use xlink:href='#icon-file-text2'></use></svg></label><input id='data-6fa4f6dc-0b25-42e2-ac0e-4eeaa058696b' class='xr-var-data-in' type='checkbox'><label for='data-6fa4f6dc-0b25-42e2-ac0e-4eeaa058696b' title='Show/Hide data repr'><svg class='icon xr-icon-database'><use xlink:href='#icon-database'></use></svg></label><div class='xr-var-attrs'><dl class='xr-attrs'><dt><span>long_name :</span></dt><dd>centroid_lat</dd><dt><span>units :</span></dt><dd>degrees_north</dd></dl></div><div class='xr-var-data'><pre>array([42.940327, 43.090134, 44.222034, ..., 39.369667, 38.614746, 46.239307],\n",
       "      dtype=float32)</pre></div></li><li class='xr-var-item'><div class='xr-var-name'><span>centroid_i</span></div><div class='xr-var-dims'>(p)</div><div class='xr-var-dtype'>float32</div><div class='xr-var-preview xr-preview'>...</div><input id='attrs-07fcccd5-1587-4b6c-8c8a-3e023848880d' class='xr-var-attrs-in' type='checkbox' ><label for='attrs-07fcccd5-1587-4b6c-8c8a-3e023848880d' title='Show/Hide attributes'><svg class='icon xr-icon-file-text2'><use xlink:href='#icon-file-text2'></use></svg></label><input id='data-ebcafc03-78f9-428c-a2e2-e1182439014b' class='xr-var-data-in' type='checkbox'><label for='data-ebcafc03-78f9-428c-a2e2-e1182439014b' title='Show/Hide data repr'><svg class='icon xr-icon-database'><use xlink:href='#icon-database'></use></svg></label><div class='xr-var-attrs'><dl class='xr-attrs'><dt><span>long_name :</span></dt><dd>centroid_i</dd><dt><span>units :</span></dt><dd></dd></dl></div><div class='xr-var-data'><pre>array([661., 667., 712., ..., 554., 554., 836.], dtype=float32)</pre></div></li><li class='xr-var-item'><div class='xr-var-name'><span>centroid_j</span></div><div class='xr-var-dims'>(p)</div><div class='xr-var-dtype'>float32</div><div class='xr-var-preview xr-preview'>...</div><input id='attrs-5d7706a2-1059-4fc1-9d03-3e2a1a3af509' class='xr-var-attrs-in' type='checkbox' ><label for='attrs-5d7706a2-1059-4fc1-9d03-3e2a1a3af509' title='Show/Hide attributes'><svg class='icon xr-icon-file-text2'><use xlink:href='#icon-file-text2'></use></svg></label><input id='data-c7710ec4-afab-42d1-9051-efd1e3249c77' class='xr-var-data-in' type='checkbox'><label for='data-c7710ec4-afab-42d1-9051-efd1e3249c77' title='Show/Hide data repr'><svg class='icon xr-icon-database'><use xlink:href='#icon-database'></use></svg></label><div class='xr-var-attrs'><dl class='xr-attrs'><dt><span>long_name :</span></dt><dd>centroid_j</dd><dt><span>units :</span></dt><dd></dd></dl></div><div class='xr-var-data'><pre>array([ 759.,  779.,  844., ..., 1053., 1217., 1189.], dtype=float32)</pre></div></li><li class='xr-var-item'><div class='xr-var-name'><span>track_id</span></div><div class='xr-var-dims'>(p)</div><div class='xr-var-dtype'>int32</div><div class='xr-var-preview xr-preview'>...</div><input id='attrs-0193a886-4bc0-464d-aee0-e9830bcbc259' class='xr-var-attrs-in' type='checkbox' ><label for='attrs-0193a886-4bc0-464d-aee0-e9830bcbc259' title='Show/Hide attributes'><svg class='icon xr-icon-file-text2'><use xlink:href='#icon-file-text2'></use></svg></label><input id='data-08cdf4e3-1343-4df1-9361-4dbf118308b6' class='xr-var-data-in' type='checkbox'><label for='data-08cdf4e3-1343-4df1-9361-4dbf118308b6' title='Show/Hide data repr'><svg class='icon xr-icon-database'><use xlink:href='#icon-database'></use></svg></label><div class='xr-var-attrs'><dl class='xr-attrs'><dt><span>long_name :</span></dt><dd>track_id</dd><dt><span>units :</span></dt><dd></dd></dl></div><div class='xr-var-data'><pre>array([  0,   0,   1, ..., 240, 241, 242], dtype=int32)</pre></div></li><li class='xr-var-item'><div class='xr-var-name'><span>track_step</span></div><div class='xr-var-dims'>(p)</div><div class='xr-var-dtype'>int32</div><div class='xr-var-preview xr-preview'>...</div><input id='attrs-2cde165c-7f92-4fd8-8a3d-55afb8ada734' class='xr-var-attrs-in' type='checkbox' ><label for='attrs-2cde165c-7f92-4fd8-8a3d-55afb8ada734' title='Show/Hide attributes'><svg class='icon xr-icon-file-text2'><use xlink:href='#icon-file-text2'></use></svg></label><input id='data-fe2185d9-7a07-4530-920b-0a69b197860d' class='xr-var-data-in' type='checkbox'><label for='data-fe2185d9-7a07-4530-920b-0a69b197860d' title='Show/Hide data repr'><svg class='icon xr-icon-database'><use xlink:href='#icon-database'></use></svg></label><div class='xr-var-attrs'><dl class='xr-attrs'><dt><span>long_name :</span></dt><dd>track_step</dd><dt><span>units :</span></dt><dd></dd></dl></div><div class='xr-var-data'><pre>array([1, 2, 1, ..., 1, 1, 1], dtype=int32)</pre></div></li><li class='xr-var-item'><div class='xr-var-name'><span>REFL_COM_curr</span></div><div class='xr-var-dims'>(p, row, col)</div><div class='xr-var-dtype'>float32</div><div class='xr-var-preview xr-preview'>...</div><input id='attrs-23a2a457-219d-459d-bb63-b9a6bce5e757' class='xr-var-attrs-in' type='checkbox' ><label for='attrs-23a2a457-219d-459d-bb63-b9a6bce5e757' title='Show/Hide attributes'><svg class='icon xr-icon-file-text2'><use xlink:href='#icon-file-text2'></use></svg></label><input id='data-d100595f-cc7d-4506-a555-74e124258bf7' class='xr-var-data-in' type='checkbox'><label for='data-d100595f-cc7d-4506-a555-74e124258bf7' title='Show/Hide data repr'><svg class='icon xr-icon-database'><use xlink:href='#icon-database'></use></svg></label><div class='xr-var-attrs'><dl class='xr-attrs'><dt><span>long_name :</span></dt><dd>REFL_COM</dd><dt><span>units :</span></dt><dd></dd></dl></div><div class='xr-var-data'><pre>[7672320 values with dtype=float32]</pre></div></li><li class='xr-var-item'><div class='xr-var-name'><span>UP_HELI_MAX_curr</span></div><div class='xr-var-dims'>(p, row, col)</div><div class='xr-var-dtype'>float32</div><div class='xr-var-preview xr-preview'>...</div><input id='attrs-d7fbf3b4-57bc-4b2c-9949-d60a5f48d5dc' class='xr-var-attrs-in' type='checkbox' ><label for='attrs-d7fbf3b4-57bc-4b2c-9949-d60a5f48d5dc' title='Show/Hide attributes'><svg class='icon xr-icon-file-text2'><use xlink:href='#icon-file-text2'></use></svg></label><input id='data-70666ade-d608-48f9-9833-c395653ab8bc' class='xr-var-data-in' type='checkbox'><label for='data-70666ade-d608-48f9-9833-c395653ab8bc' title='Show/Hide data repr'><svg class='icon xr-icon-database'><use xlink:href='#icon-database'></use></svg></label><div class='xr-var-attrs'><dl class='xr-attrs'><dt><span>long_name :</span></dt><dd>UP_HELI_MAX</dd><dt><span>units :</span></dt><dd></dd></dl></div><div class='xr-var-data'><pre>[7672320 values with dtype=float32]</pre></div></li><li class='xr-var-item'><div class='xr-var-name'><span>U10_curr</span></div><div class='xr-var-dims'>(p, row, col)</div><div class='xr-var-dtype'>float32</div><div class='xr-var-preview xr-preview'>...</div><input id='attrs-ffa032cd-4e62-4353-a944-610491c1c746' class='xr-var-attrs-in' type='checkbox' ><label for='attrs-ffa032cd-4e62-4353-a944-610491c1c746' title='Show/Hide attributes'><svg class='icon xr-icon-file-text2'><use xlink:href='#icon-file-text2'></use></svg></label><input id='data-9f74205a-e285-4806-8950-c7628d035956' class='xr-var-data-in' type='checkbox'><label for='data-9f74205a-e285-4806-8950-c7628d035956' title='Show/Hide data repr'><svg class='icon xr-icon-database'><use xlink:href='#icon-database'></use></svg></label><div class='xr-var-attrs'><dl class='xr-attrs'><dt><span>long_name :</span></dt><dd>U10</dd><dt><span>units :</span></dt><dd></dd></dl></div><div class='xr-var-data'><pre>[7672320 values with dtype=float32]</pre></div></li><li class='xr-var-item'><div class='xr-var-name'><span>V10_curr</span></div><div class='xr-var-dims'>(p, row, col)</div><div class='xr-var-dtype'>float32</div><div class='xr-var-preview xr-preview'>...</div><input id='attrs-122d8e74-5e69-41d0-93c0-a377bcb271ef' class='xr-var-attrs-in' type='checkbox' ><label for='attrs-122d8e74-5e69-41d0-93c0-a377bcb271ef' title='Show/Hide attributes'><svg class='icon xr-icon-file-text2'><use xlink:href='#icon-file-text2'></use></svg></label><input id='data-67afeff3-8b9c-4991-8773-608b0195adb8' class='xr-var-data-in' type='checkbox'><label for='data-67afeff3-8b9c-4991-8773-608b0195adb8' title='Show/Hide data repr'><svg class='icon xr-icon-database'><use xlink:href='#icon-database'></use></svg></label><div class='xr-var-attrs'><dl class='xr-attrs'><dt><span>long_name :</span></dt><dd>V10</dd><dt><span>units :</span></dt><dd></dd></dl></div><div class='xr-var-data'><pre>[7672320 values with dtype=float32]</pre></div></li><li class='xr-var-item'><div class='xr-var-name'><span>GRPL_MAX_curr</span></div><div class='xr-var-dims'>(p, row, col)</div><div class='xr-var-dtype'>float32</div><div class='xr-var-preview xr-preview'>...</div><input id='attrs-010f7a02-c02f-41d5-9f73-8e9107c6e1f1' class='xr-var-attrs-in' type='checkbox' ><label for='attrs-010f7a02-c02f-41d5-9f73-8e9107c6e1f1' title='Show/Hide attributes'><svg class='icon xr-icon-file-text2'><use xlink:href='#icon-file-text2'></use></svg></label><input id='data-6550bf1b-6b8b-45c4-a38b-558d9a2494ce' class='xr-var-data-in' type='checkbox'><label for='data-6550bf1b-6b8b-45c4-a38b-558d9a2494ce' title='Show/Hide data repr'><svg class='icon xr-icon-database'><use xlink:href='#icon-database'></use></svg></label><div class='xr-var-attrs'><dl class='xr-attrs'><dt><span>long_name :</span></dt><dd>GRPL_MAX</dd><dt><span>units :</span></dt><dd></dd></dl></div><div class='xr-var-data'><pre>[7672320 values with dtype=float32]</pre></div></li><li class='xr-var-item'><div class='xr-var-name'><span>W_UP_MAX_curr</span></div><div class='xr-var-dims'>(p, row, col)</div><div class='xr-var-dtype'>float32</div><div class='xr-var-preview xr-preview'>...</div><input id='attrs-70274961-3e4c-4121-9d92-2cdd2d572705' class='xr-var-attrs-in' type='checkbox' ><label for='attrs-70274961-3e4c-4121-9d92-2cdd2d572705' title='Show/Hide attributes'><svg class='icon xr-icon-file-text2'><use xlink:href='#icon-file-text2'></use></svg></label><input id='data-5b9d89b6-44a0-4670-b14d-f0712477c04c' class='xr-var-data-in' type='checkbox'><label for='data-5b9d89b6-44a0-4670-b14d-f0712477c04c' title='Show/Hide data repr'><svg class='icon xr-icon-database'><use xlink:href='#icon-database'></use></svg></label><div class='xr-var-attrs'><dl class='xr-attrs'><dt><span>long_name :</span></dt><dd>W_UP_MAX</dd><dt><span>units :</span></dt><dd></dd></dl></div><div class='xr-var-data'><pre>[7672320 values with dtype=float32]</pre></div></li><li class='xr-var-item'><div class='xr-var-name'><span>MLCAPE_prev</span></div><div class='xr-var-dims'>(p, row, col)</div><div class='xr-var-dtype'>float32</div><div class='xr-var-preview xr-preview'>...</div><input id='attrs-aae11a74-7c63-4fa6-92bb-34db812398ec' class='xr-var-attrs-in' type='checkbox' ><label for='attrs-aae11a74-7c63-4fa6-92bb-34db812398ec' title='Show/Hide attributes'><svg class='icon xr-icon-file-text2'><use xlink:href='#icon-file-text2'></use></svg></label><input id='data-89f2fe96-0c07-4c37-a5fb-e0adb27c6dd3' class='xr-var-data-in' type='checkbox'><label for='data-89f2fe96-0c07-4c37-a5fb-e0adb27c6dd3' title='Show/Hide data repr'><svg class='icon xr-icon-database'><use xlink:href='#icon-database'></use></svg></label><div class='xr-var-attrs'><dl class='xr-attrs'><dt><span>long_name :</span></dt><dd>MLCAPE</dd><dt><span>units :</span></dt><dd></dd></dl></div><div class='xr-var-data'><pre>[7672320 values with dtype=float32]</pre></div></li><li class='xr-var-item'><div class='xr-var-name'><span>USHR6_prev</span></div><div class='xr-var-dims'>(p, row, col)</div><div class='xr-var-dtype'>float32</div><div class='xr-var-preview xr-preview'>...</div><input id='attrs-21b4e1ac-df88-48e4-b1c5-8a2c18d2ac38' class='xr-var-attrs-in' type='checkbox' ><label for='attrs-21b4e1ac-df88-48e4-b1c5-8a2c18d2ac38' title='Show/Hide attributes'><svg class='icon xr-icon-file-text2'><use xlink:href='#icon-file-text2'></use></svg></label><input id='data-d5d6a73c-1bd6-427a-911e-7f7952910b03' class='xr-var-data-in' type='checkbox'><label for='data-d5d6a73c-1bd6-427a-911e-7f7952910b03' title='Show/Hide data repr'><svg class='icon xr-icon-database'><use xlink:href='#icon-database'></use></svg></label><div class='xr-var-attrs'><dl class='xr-attrs'><dt><span>long_name :</span></dt><dd>USHR6</dd><dt><span>units :</span></dt><dd></dd></dl></div><div class='xr-var-data'><pre>[7672320 values with dtype=float32]</pre></div></li><li class='xr-var-item'><div class='xr-var-name'><span>VSHR6_prev</span></div><div class='xr-var-dims'>(p, row, col)</div><div class='xr-var-dtype'>float32</div><div class='xr-var-preview xr-preview'>...</div><input id='attrs-e7655467-dd10-41d1-8261-7c2070540f5a' class='xr-var-attrs-in' type='checkbox' ><label for='attrs-e7655467-dd10-41d1-8261-7c2070540f5a' title='Show/Hide attributes'><svg class='icon xr-icon-file-text2'><use xlink:href='#icon-file-text2'></use></svg></label><input id='data-535078e9-7e92-47c6-84e1-c5c4eb980f1d' class='xr-var-data-in' type='checkbox'><label for='data-535078e9-7e92-47c6-84e1-c5c4eb980f1d' title='Show/Hide data repr'><svg class='icon xr-icon-database'><use xlink:href='#icon-database'></use></svg></label><div class='xr-var-attrs'><dl class='xr-attrs'><dt><span>long_name :</span></dt><dd>VSHR6</dd><dt><span>units :</span></dt><dd></dd></dl></div><div class='xr-var-data'><pre>[7672320 values with dtype=float32]</pre></div></li><li class='xr-var-item'><div class='xr-var-name'><span>SBLCL_prev</span></div><div class='xr-var-dims'>(p, row, col)</div><div class='xr-var-dtype'>float32</div><div class='xr-var-preview xr-preview'>...</div><input id='attrs-7c4ae848-b081-4cae-80c7-f85fb0d42f64' class='xr-var-attrs-in' type='checkbox' ><label for='attrs-7c4ae848-b081-4cae-80c7-f85fb0d42f64' title='Show/Hide attributes'><svg class='icon xr-icon-file-text2'><use xlink:href='#icon-file-text2'></use></svg></label><input id='data-fd019113-3808-43b7-aa08-11ca46c92b08' class='xr-var-data-in' type='checkbox'><label for='data-fd019113-3808-43b7-aa08-11ca46c92b08' title='Show/Hide data repr'><svg class='icon xr-icon-database'><use xlink:href='#icon-database'></use></svg></label><div class='xr-var-attrs'><dl class='xr-attrs'><dt><span>long_name :</span></dt><dd>SBLCL</dd><dt><span>units :</span></dt><dd></dd></dl></div><div class='xr-var-data'><pre>[7672320 values with dtype=float32]</pre></div></li><li class='xr-var-item'><div class='xr-var-name'><span>U_BUNK_prev</span></div><div class='xr-var-dims'>(p, row, col)</div><div class='xr-var-dtype'>float32</div><div class='xr-var-preview xr-preview'>...</div><input id='attrs-27af3e40-9571-4473-8881-6c51ff27495f' class='xr-var-attrs-in' type='checkbox' ><label for='attrs-27af3e40-9571-4473-8881-6c51ff27495f' title='Show/Hide attributes'><svg class='icon xr-icon-file-text2'><use xlink:href='#icon-file-text2'></use></svg></label><input id='data-bb2cd548-8e67-4d12-b049-c0890467d690' class='xr-var-data-in' type='checkbox'><label for='data-bb2cd548-8e67-4d12-b049-c0890467d690' title='Show/Hide data repr'><svg class='icon xr-icon-database'><use xlink:href='#icon-database'></use></svg></label><div class='xr-var-attrs'><dl class='xr-attrs'><dt><span>long_name :</span></dt><dd>U_BUNK</dd><dt><span>units :</span></dt><dd></dd></dl></div><div class='xr-var-data'><pre>[7672320 values with dtype=float32]</pre></div></li><li class='xr-var-item'><div class='xr-var-name'><span>V_BUNK_prev</span></div><div class='xr-var-dims'>(p, row, col)</div><div class='xr-var-dtype'>float32</div><div class='xr-var-preview xr-preview'>...</div><input id='attrs-5eb81a0f-a0dc-497e-92cc-53ecdf302350' class='xr-var-attrs-in' type='checkbox' ><label for='attrs-5eb81a0f-a0dc-497e-92cc-53ecdf302350' title='Show/Hide attributes'><svg class='icon xr-icon-file-text2'><use xlink:href='#icon-file-text2'></use></svg></label><input id='data-2efbf831-eb25-4162-a585-1adf50619f0e' class='xr-var-data-in' type='checkbox'><label for='data-2efbf831-eb25-4162-a585-1adf50619f0e' title='Show/Hide data repr'><svg class='icon xr-icon-database'><use xlink:href='#icon-database'></use></svg></label><div class='xr-var-attrs'><dl class='xr-attrs'><dt><span>long_name :</span></dt><dd>V_BUNK</dd><dt><span>units :</span></dt><dd></dd></dl></div><div class='xr-var-data'><pre>[7672320 values with dtype=float32]</pre></div></li></ul></div></li><li class='xr-section-item'><input id='section-3d94864b-c84d-4068-965e-3fbc9d519dd9' class='xr-section-summary-in' type='checkbox'  ><label for='section-3d94864b-c84d-4068-965e-3fbc9d519dd9' class='xr-section-summary' >Attributes: <span>(36)</span></label><div class='xr-section-inline-details'></div><div class='xr-section-details'><dl class='xr-attrs'><dt><span>Conventions :</span></dt><dd>CF-1.6</dd><dt><span>title :</span></dt><dd>NCARSTORM Storm Patches for run 20101024-0000 member d01</dd><dt><span>object_variable :</span></dt><dd>REFL_COM</dd><dt><span>start_hour :</span></dt><dd>12</dd><dt><span>end_hour :</span></dt><dd>35</dd><dt><span>HRRR_alt_end_hour :</span></dt><dd>46</dd><dt><span>HRRR_alt_run_hours :</span></dt><dd>[0, 6, 12, 18]</dd><dt><span>watershed_variable :</span></dt><dd>REFL_COM</dd><dt><span>ensemble_name :</span></dt><dd>NCARSTORM</dd><dt><span>ensemble_members :</span></dt><dd>[&#x27;d01&#x27;]</dd><dt><span>model_path :</span></dt><dd>/glade/p/mmm/parc/sobash/NSC/3KM_WRF_POST_12sec_ts/</dd><dt><span>segmentation_approach :</span></dt><dd>hyst</dd><dt><span>model_watershed_params :</span></dt><dd>(35, 50)</dd><dt><span>size_filter :</span></dt><dd>12</dd><dt><span>gaussian_window :</span></dt><dd>1</dd><dt><span>mrms_path :</span></dt><dd>None</dd><dt><span>mrms_variable :</span></dt><dd>MESH_Max_60min_00.50</dd><dt><span>mrms_watershed_params :</span></dt><dd>(13, 1, 125, 100, 100)</dd><dt><span>object_matcher_params :</span></dt><dd>([&lt;function shifted_centroid_distance at 0x2af790d8d790&gt;], array([1.]), array([24000]))</dd><dt><span>track_matcher_params :</span></dt><dd>([&lt;function centroid_distance at 0x2af790d820d0&gt;, &lt;function time_distance at 0x2af790d8d700&gt;], array([80000,     2]))</dd><dt><span>shape_variables :</span></dt><dd>[&#x27;area&#x27;, &#x27;eccentricity&#x27;, &#x27;major_axis_length&#x27;, &#x27;minor_axis_length&#x27;, &#x27;orientation&#x27;]</dd><dt><span>variable_statistics :</span></dt><dd>[&#x27;mean&#x27;, &#x27;max&#x27;, &#x27;min&#x27;]</dd><dt><span>csv_path :</span></dt><dd>/glade/work/cbecker/WRF_all/track_data_hrrr_3km_csv_refl/</dd><dt><span>geojson_path :</span></dt><dd>/glade/work/cbecker/WRF_all/track_data_hrrr_3km_json_refl/</dd><dt><span>nc_path :</span></dt><dd>/glade/work/cbecker/WRF_all/track_data_hrrr_3km_nc_refl/</dd><dt><span>patch_radius :</span></dt><dd>72</dd><dt><span>unique_matches :</span></dt><dd>True</dd><dt><span>closest_matches :</span></dt><dd>True</dd><dt><span>match_steps :</span></dt><dd>True</dd><dt><span>train :</span></dt><dd>False</dd><dt><span>single_step :</span></dt><dd>True</dd><dt><span>label_type :</span></dt><dd>gamma</dd><dt><span>model_map_file :</span></dt><dd>/glade/work/cbecker/hagelslag/mapfiles/ncar_storm_map_3km.txt</dd><dt><span>mask_file :</span></dt><dd>None</dd><dt><span>run_date_format :</span></dt><dd>%Y%m%d-%H%M</dd><dt><span>json :</span></dt><dd>False</dd></dl></div></li></ul></div></div>"
      ],
      "text/plain": [
       "<xarray.Dataset>\n",
       "Dimensions:           (p: 370, row: 144, col: 144)\n",
       "Coordinates:\n",
       "  * p                 (p) int32 0 1 2 3 4 5 6 7 ... 363 364 365 366 367 368 369\n",
       "  * row               (row) int32 0 1 2 3 4 5 6 ... 137 138 139 140 141 142 143\n",
       "  * col               (col) int32 0 1 2 3 4 5 6 ... 137 138 139 140 141 142 143\n",
       "Data variables: (12/26)\n",
       "    lon               (p, row, col) float32 ...\n",
       "    lat               (p, row, col) float32 ...\n",
       "    i                 (p, row, col) int32 ...\n",
       "    j                 (p, row, col) int32 ...\n",
       "    x                 (p, row, col) float32 ...\n",
       "    y                 (p, row, col) float32 ...\n",
       "    ...                ...\n",
       "    MLCAPE_prev       (p, row, col) float32 ...\n",
       "    USHR6_prev        (p, row, col) float32 ...\n",
       "    VSHR6_prev        (p, row, col) float32 ...\n",
       "    SBLCL_prev        (p, row, col) float32 ...\n",
       "    U_BUNK_prev       (p, row, col) float32 ...\n",
       "    V_BUNK_prev       (p, row, col) float32 ...\n",
       "Attributes: (12/36)\n",
       "    Conventions:             CF-1.6\n",
       "    title:                   NCARSTORM Storm Patches for run 20101024-0000 me...\n",
       "    object_variable:         REFL_COM\n",
       "    start_hour:              12\n",
       "    end_hour:                35\n",
       "    HRRR_alt_end_hour:       46\n",
       "    ...                      ...\n",
       "    single_step:             True\n",
       "    label_type:              gamma\n",
       "    model_map_file:          /glade/work/cbecker/hagelslag/mapfiles/ncar_stor...\n",
       "    mask_file:               None\n",
       "    run_date_format:         %Y%m%d-%H%M\n",
       "    json:                    False"
      ]
     },
     "execution_count": 3,
     "metadata": {},
     "output_type": "execute_result"
    }
   ],
   "source": [
    "patch_ds"
   ]
  },
  {
   "cell_type": "code",
   "execution_count": 4,
   "id": "6d0f35ca-a2d6-4879-a4e9-f586b085c8a8",
   "metadata": {},
   "outputs": [
    {
     "data": {
      "text/html": [
       "<div>\n",
       "<style scoped>\n",
       "    .dataframe tbody tr th:only-of-type {\n",
       "        vertical-align: middle;\n",
       "    }\n",
       "\n",
       "    .dataframe tbody tr th {\n",
       "        vertical-align: top;\n",
       "    }\n",
       "\n",
       "    .dataframe thead th {\n",
       "        text-align: right;\n",
       "    }\n",
       "</style>\n",
       "<table border=\"1\" class=\"dataframe\">\n",
       "  <thead>\n",
       "    <tr style=\"text-align: right;\">\n",
       "      <th></th>\n",
       "      <th>Step_ID</th>\n",
       "      <th>Track_ID</th>\n",
       "      <th>Ensemble_Name</th>\n",
       "      <th>Ensemble_Member</th>\n",
       "      <th>Run_Date</th>\n",
       "      <th>Valid_Date</th>\n",
       "      <th>Forecast_Hour</th>\n",
       "      <th>Valid_Hour_UTC</th>\n",
       "      <th>Duration</th>\n",
       "      <th>Centroid_Lon</th>\n",
       "      <th>...</th>\n",
       "      <th>eccentricity</th>\n",
       "      <th>major_axis_length</th>\n",
       "      <th>minor_axis_length</th>\n",
       "      <th>orientation</th>\n",
       "      <th>Matched</th>\n",
       "      <th>Max_Hail_Size</th>\n",
       "      <th>Num_Matches</th>\n",
       "      <th>Shape</th>\n",
       "      <th>Location</th>\n",
       "      <th>Scale</th>\n",
       "    </tr>\n",
       "  </thead>\n",
       "  <tbody>\n",
       "    <tr>\n",
       "      <th>0</th>\n",
       "      <td>d01_REFL_COM_20101024-0000_12_13_000_00</td>\n",
       "      <td>d01_REFL_COM_20101024-0000_12_13_000</td>\n",
       "      <td>NCARSTORM</td>\n",
       "      <td>d01</td>\n",
       "      <td>2010-10-24 00:00:00+00:00</td>\n",
       "      <td>2010-10-24 12:00:00+00:00</td>\n",
       "      <td>12</td>\n",
       "      <td>12</td>\n",
       "      <td>1</td>\n",
       "      <td>-98.41019</td>\n",
       "      <td>...</td>\n",
       "      <td>0.90735</td>\n",
       "      <td>51.23550</td>\n",
       "      <td>21.53869</td>\n",
       "      <td>1.41172</td>\n",
       "      <td>0</td>\n",
       "      <td>0</td>\n",
       "      <td>0</td>\n",
       "      <td>0</td>\n",
       "      <td>0</td>\n",
       "      <td>0</td>\n",
       "    </tr>\n",
       "    <tr>\n",
       "      <th>1</th>\n",
       "      <td>d01_REFL_COM_20101024-0000_12_13_000_01</td>\n",
       "      <td>d01_REFL_COM_20101024-0000_12_13_000</td>\n",
       "      <td>NCARSTORM</td>\n",
       "      <td>d01</td>\n",
       "      <td>2010-10-24 00:00:00+00:00</td>\n",
       "      <td>2010-10-24 13:00:00+00:00</td>\n",
       "      <td>13</td>\n",
       "      <td>13</td>\n",
       "      <td>2</td>\n",
       "      <td>-97.69198</td>\n",
       "      <td>...</td>\n",
       "      <td>0.85356</td>\n",
       "      <td>26.92719</td>\n",
       "      <td>14.02906</td>\n",
       "      <td>1.13923</td>\n",
       "      <td>0</td>\n",
       "      <td>0</td>\n",
       "      <td>0</td>\n",
       "      <td>0</td>\n",
       "      <td>0</td>\n",
       "      <td>0</td>\n",
       "    </tr>\n",
       "    <tr>\n",
       "      <th>2</th>\n",
       "      <td>d01_REFL_COM_20101024-0000_12_12_001_00</td>\n",
       "      <td>d01_REFL_COM_20101024-0000_12_12_001</td>\n",
       "      <td>NCARSTORM</td>\n",
       "      <td>d01</td>\n",
       "      <td>2010-10-24 00:00:00+00:00</td>\n",
       "      <td>2010-10-24 12:00:00+00:00</td>\n",
       "      <td>12</td>\n",
       "      <td>12</td>\n",
       "      <td>1</td>\n",
       "      <td>-95.15486</td>\n",
       "      <td>...</td>\n",
       "      <td>0.71815</td>\n",
       "      <td>8.65894</td>\n",
       "      <td>6.02569</td>\n",
       "      <td>0.74301</td>\n",
       "      <td>0</td>\n",
       "      <td>0</td>\n",
       "      <td>0</td>\n",
       "      <td>0</td>\n",
       "      <td>0</td>\n",
       "      <td>0</td>\n",
       "    </tr>\n",
       "    <tr>\n",
       "      <th>3</th>\n",
       "      <td>d01_REFL_COM_20101024-0000_12_13_002_00</td>\n",
       "      <td>d01_REFL_COM_20101024-0000_12_13_002</td>\n",
       "      <td>NCARSTORM</td>\n",
       "      <td>d01</td>\n",
       "      <td>2010-10-24 00:00:00+00:00</td>\n",
       "      <td>2010-10-24 12:00:00+00:00</td>\n",
       "      <td>12</td>\n",
       "      <td>12</td>\n",
       "      <td>1</td>\n",
       "      <td>-94.39792</td>\n",
       "      <td>...</td>\n",
       "      <td>0.58687</td>\n",
       "      <td>7.89825</td>\n",
       "      <td>6.39509</td>\n",
       "      <td>-1.28875</td>\n",
       "      <td>0</td>\n",
       "      <td>0</td>\n",
       "      <td>0</td>\n",
       "      <td>0</td>\n",
       "      <td>0</td>\n",
       "      <td>0</td>\n",
       "    </tr>\n",
       "    <tr>\n",
       "      <th>4</th>\n",
       "      <td>d01_REFL_COM_20101024-0000_12_13_002_01</td>\n",
       "      <td>d01_REFL_COM_20101024-0000_12_13_002</td>\n",
       "      <td>NCARSTORM</td>\n",
       "      <td>d01</td>\n",
       "      <td>2010-10-24 00:00:00+00:00</td>\n",
       "      <td>2010-10-24 13:00:00+00:00</td>\n",
       "      <td>13</td>\n",
       "      <td>13</td>\n",
       "      <td>2</td>\n",
       "      <td>-94.21008</td>\n",
       "      <td>...</td>\n",
       "      <td>0.91899</td>\n",
       "      <td>27.65443</td>\n",
       "      <td>10.90375</td>\n",
       "      <td>0.32912</td>\n",
       "      <td>0</td>\n",
       "      <td>0</td>\n",
       "      <td>0</td>\n",
       "      <td>0</td>\n",
       "      <td>0</td>\n",
       "      <td>0</td>\n",
       "    </tr>\n",
       "    <tr>\n",
       "      <th>...</th>\n",
       "      <td>...</td>\n",
       "      <td>...</td>\n",
       "      <td>...</td>\n",
       "      <td>...</td>\n",
       "      <td>...</td>\n",
       "      <td>...</td>\n",
       "      <td>...</td>\n",
       "      <td>...</td>\n",
       "      <td>...</td>\n",
       "      <td>...</td>\n",
       "      <td>...</td>\n",
       "      <td>...</td>\n",
       "      <td>...</td>\n",
       "      <td>...</td>\n",
       "      <td>...</td>\n",
       "      <td>...</td>\n",
       "      <td>...</td>\n",
       "      <td>...</td>\n",
       "      <td>...</td>\n",
       "      <td>...</td>\n",
       "      <td>...</td>\n",
       "    </tr>\n",
       "    <tr>\n",
       "      <th>365</th>\n",
       "      <td>d01_REFL_COM_20101024-0000_35_35_238_00</td>\n",
       "      <td>d01_REFL_COM_20101024-0000_35_35_238</td>\n",
       "      <td>NCARSTORM</td>\n",
       "      <td>d01</td>\n",
       "      <td>2010-10-24 00:00:00+00:00</td>\n",
       "      <td>2010-10-25 11:00:00+00:00</td>\n",
       "      <td>35</td>\n",
       "      <td>11</td>\n",
       "      <td>1</td>\n",
       "      <td>-85.94177</td>\n",
       "      <td>...</td>\n",
       "      <td>0.44428</td>\n",
       "      <td>6.31100</td>\n",
       "      <td>5.65396</td>\n",
       "      <td>1.29480</td>\n",
       "      <td>0</td>\n",
       "      <td>0</td>\n",
       "      <td>0</td>\n",
       "      <td>0</td>\n",
       "      <td>0</td>\n",
       "      <td>0</td>\n",
       "    </tr>\n",
       "    <tr>\n",
       "      <th>366</th>\n",
       "      <td>d01_REFL_COM_20101024-0000_35_35_239_00</td>\n",
       "      <td>d01_REFL_COM_20101024-0000_35_35_239</td>\n",
       "      <td>NCARSTORM</td>\n",
       "      <td>d01</td>\n",
       "      <td>2010-10-24 00:00:00+00:00</td>\n",
       "      <td>2010-10-25 11:00:00+00:00</td>\n",
       "      <td>35</td>\n",
       "      <td>11</td>\n",
       "      <td>1</td>\n",
       "      <td>-85.16997</td>\n",
       "      <td>...</td>\n",
       "      <td>0.85947</td>\n",
       "      <td>79.05277</td>\n",
       "      <td>40.41106</td>\n",
       "      <td>0.12811</td>\n",
       "      <td>0</td>\n",
       "      <td>0</td>\n",
       "      <td>0</td>\n",
       "      <td>0</td>\n",
       "      <td>0</td>\n",
       "      <td>0</td>\n",
       "    </tr>\n",
       "    <tr>\n",
       "      <th>367</th>\n",
       "      <td>d01_REFL_COM_20101024-0000_35_35_240_00</td>\n",
       "      <td>d01_REFL_COM_20101024-0000_35_35_240</td>\n",
       "      <td>NCARSTORM</td>\n",
       "      <td>d01</td>\n",
       "      <td>2010-10-24 00:00:00+00:00</td>\n",
       "      <td>2010-10-25 11:00:00+00:00</td>\n",
       "      <td>35</td>\n",
       "      <td>11</td>\n",
       "      <td>1</td>\n",
       "      <td>-88.18374</td>\n",
       "      <td>...</td>\n",
       "      <td>0.92145</td>\n",
       "      <td>18.05184</td>\n",
       "      <td>7.01316</td>\n",
       "      <td>0.99009</td>\n",
       "      <td>0</td>\n",
       "      <td>0</td>\n",
       "      <td>0</td>\n",
       "      <td>0</td>\n",
       "      <td>0</td>\n",
       "      <td>0</td>\n",
       "    </tr>\n",
       "    <tr>\n",
       "      <th>368</th>\n",
       "      <td>d01_REFL_COM_20101024-0000_35_35_241_00</td>\n",
       "      <td>d01_REFL_COM_20101024-0000_35_35_241</td>\n",
       "      <td>NCARSTORM</td>\n",
       "      <td>d01</td>\n",
       "      <td>2010-10-24 00:00:00+00:00</td>\n",
       "      <td>2010-10-25 11:00:00+00:00</td>\n",
       "      <td>35</td>\n",
       "      <td>11</td>\n",
       "      <td>1</td>\n",
       "      <td>-82.50549</td>\n",
       "      <td>...</td>\n",
       "      <td>0.93744</td>\n",
       "      <td>14.44305</td>\n",
       "      <td>5.02817</td>\n",
       "      <td>-0.19595</td>\n",
       "      <td>0</td>\n",
       "      <td>0</td>\n",
       "      <td>0</td>\n",
       "      <td>0</td>\n",
       "      <td>0</td>\n",
       "      <td>0</td>\n",
       "    </tr>\n",
       "    <tr>\n",
       "      <th>369</th>\n",
       "      <td>d01_REFL_COM_20101024-0000_35_35_242_00</td>\n",
       "      <td>d01_REFL_COM_20101024-0000_35_35_242</td>\n",
       "      <td>NCARSTORM</td>\n",
       "      <td>d01</td>\n",
       "      <td>2010-10-24 00:00:00+00:00</td>\n",
       "      <td>2010-10-25 11:00:00+00:00</td>\n",
       "      <td>35</td>\n",
       "      <td>11</td>\n",
       "      <td>1</td>\n",
       "      <td>-81.38741</td>\n",
       "      <td>...</td>\n",
       "      <td>0.97875</td>\n",
       "      <td>56.91919</td>\n",
       "      <td>11.67269</td>\n",
       "      <td>1.49626</td>\n",
       "      <td>0</td>\n",
       "      <td>0</td>\n",
       "      <td>0</td>\n",
       "      <td>0</td>\n",
       "      <td>0</td>\n",
       "      <td>0</td>\n",
       "    </tr>\n",
       "  </tbody>\n",
       "</table>\n",
       "<p>370 rows × 62 columns</p>\n",
       "</div>"
      ],
      "text/plain": [
       "                                     Step_ID  \\\n",
       "0    d01_REFL_COM_20101024-0000_12_13_000_00   \n",
       "1    d01_REFL_COM_20101024-0000_12_13_000_01   \n",
       "2    d01_REFL_COM_20101024-0000_12_12_001_00   \n",
       "3    d01_REFL_COM_20101024-0000_12_13_002_00   \n",
       "4    d01_REFL_COM_20101024-0000_12_13_002_01   \n",
       "..                                       ...   \n",
       "365  d01_REFL_COM_20101024-0000_35_35_238_00   \n",
       "366  d01_REFL_COM_20101024-0000_35_35_239_00   \n",
       "367  d01_REFL_COM_20101024-0000_35_35_240_00   \n",
       "368  d01_REFL_COM_20101024-0000_35_35_241_00   \n",
       "369  d01_REFL_COM_20101024-0000_35_35_242_00   \n",
       "\n",
       "                                 Track_ID Ensemble_Name Ensemble_Member  \\\n",
       "0    d01_REFL_COM_20101024-0000_12_13_000     NCARSTORM             d01   \n",
       "1    d01_REFL_COM_20101024-0000_12_13_000     NCARSTORM             d01   \n",
       "2    d01_REFL_COM_20101024-0000_12_12_001     NCARSTORM             d01   \n",
       "3    d01_REFL_COM_20101024-0000_12_13_002     NCARSTORM             d01   \n",
       "4    d01_REFL_COM_20101024-0000_12_13_002     NCARSTORM             d01   \n",
       "..                                    ...           ...             ...   \n",
       "365  d01_REFL_COM_20101024-0000_35_35_238     NCARSTORM             d01   \n",
       "366  d01_REFL_COM_20101024-0000_35_35_239     NCARSTORM             d01   \n",
       "367  d01_REFL_COM_20101024-0000_35_35_240     NCARSTORM             d01   \n",
       "368  d01_REFL_COM_20101024-0000_35_35_241     NCARSTORM             d01   \n",
       "369  d01_REFL_COM_20101024-0000_35_35_242     NCARSTORM             d01   \n",
       "\n",
       "                      Run_Date                 Valid_Date  Forecast_Hour  \\\n",
       "0    2010-10-24 00:00:00+00:00  2010-10-24 12:00:00+00:00             12   \n",
       "1    2010-10-24 00:00:00+00:00  2010-10-24 13:00:00+00:00             13   \n",
       "2    2010-10-24 00:00:00+00:00  2010-10-24 12:00:00+00:00             12   \n",
       "3    2010-10-24 00:00:00+00:00  2010-10-24 12:00:00+00:00             12   \n",
       "4    2010-10-24 00:00:00+00:00  2010-10-24 13:00:00+00:00             13   \n",
       "..                         ...                        ...            ...   \n",
       "365  2010-10-24 00:00:00+00:00  2010-10-25 11:00:00+00:00             35   \n",
       "366  2010-10-24 00:00:00+00:00  2010-10-25 11:00:00+00:00             35   \n",
       "367  2010-10-24 00:00:00+00:00  2010-10-25 11:00:00+00:00             35   \n",
       "368  2010-10-24 00:00:00+00:00  2010-10-25 11:00:00+00:00             35   \n",
       "369  2010-10-24 00:00:00+00:00  2010-10-25 11:00:00+00:00             35   \n",
       "\n",
       "     Valid_Hour_UTC  Duration  Centroid_Lon  ...  eccentricity  \\\n",
       "0                12         1     -98.41019  ...       0.90735   \n",
       "1                13         2     -97.69198  ...       0.85356   \n",
       "2                12         1     -95.15486  ...       0.71815   \n",
       "3                12         1     -94.39792  ...       0.58687   \n",
       "4                13         2     -94.21008  ...       0.91899   \n",
       "..              ...       ...           ...  ...           ...   \n",
       "365              11         1     -85.94177  ...       0.44428   \n",
       "366              11         1     -85.16997  ...       0.85947   \n",
       "367              11         1     -88.18374  ...       0.92145   \n",
       "368              11         1     -82.50549  ...       0.93744   \n",
       "369              11         1     -81.38741  ...       0.97875   \n",
       "\n",
       "     major_axis_length  minor_axis_length  orientation  Matched  \\\n",
       "0             51.23550           21.53869      1.41172        0   \n",
       "1             26.92719           14.02906      1.13923        0   \n",
       "2              8.65894            6.02569      0.74301        0   \n",
       "3              7.89825            6.39509     -1.28875        0   \n",
       "4             27.65443           10.90375      0.32912        0   \n",
       "..                 ...                ...          ...      ...   \n",
       "365            6.31100            5.65396      1.29480        0   \n",
       "366           79.05277           40.41106      0.12811        0   \n",
       "367           18.05184            7.01316      0.99009        0   \n",
       "368           14.44305            5.02817     -0.19595        0   \n",
       "369           56.91919           11.67269      1.49626        0   \n",
       "\n",
       "     Max_Hail_Size  Num_Matches  Shape  Location  Scale  \n",
       "0                0            0      0         0      0  \n",
       "1                0            0      0         0      0  \n",
       "2                0            0      0         0      0  \n",
       "3                0            0      0         0      0  \n",
       "4                0            0      0         0      0  \n",
       "..             ...          ...    ...       ...    ...  \n",
       "365              0            0      0         0      0  \n",
       "366              0            0      0         0      0  \n",
       "367              0            0      0         0      0  \n",
       "368              0            0      0         0      0  \n",
       "369              0            0      0         0      0  \n",
       "\n",
       "[370 rows x 62 columns]"
      ]
     },
     "execution_count": 4,
     "metadata": {},
     "output_type": "execute_result"
    }
   ],
   "source": [
    "meta_ds"
   ]
  },
  {
   "cell_type": "code",
   "execution_count": 5,
   "id": "c79d60b9-85d9-478d-b771-53205df404ef",
   "metadata": {},
   "outputs": [
    {
     "name": "stdout",
     "output_type": "stream",
     "text": [
      "Train 0, /glade/scratch/lverhoef/WRF_all/track_data_hrrr_3km_nc_refl/NCARSTORM_20101024-0000_d01_model_patches.nc\n",
      "Train 10, /glade/scratch/lverhoef/WRF_all/track_data_hrrr_3km_nc_refl/NCARSTORM_20110201-0000_d01_model_patches.nc\n",
      "Train 20, /glade/scratch/lverhoef/WRF_all/track_data_hrrr_3km_nc_refl/NCARSTORM_20110326-0000_d01_model_patches.nc\n",
      "Train 30, /glade/scratch/lverhoef/WRF_all/track_data_hrrr_3km_nc_refl/NCARSTORM_20110414-0000_d01_model_patches.nc\n",
      "Train 40, /glade/scratch/lverhoef/WRF_all/track_data_hrrr_3km_nc_refl/NCARSTORM_20110425-0000_d01_model_patches.nc\n",
      "Train 50, /glade/scratch/lverhoef/WRF_all/track_data_hrrr_3km_nc_refl/NCARSTORM_20110522-0000_d01_model_patches.nc\n",
      "Train 60, /glade/scratch/lverhoef/WRF_all/track_data_hrrr_3km_nc_refl/NCARSTORM_20110605-0000_d01_model_patches.nc\n",
      "Train 70, /glade/scratch/lverhoef/WRF_all/track_data_hrrr_3km_nc_refl/NCARSTORM_20110615-0000_d01_model_patches.nc\n",
      "Train 80, /glade/scratch/lverhoef/WRF_all/track_data_hrrr_3km_nc_refl/NCARSTORM_20110625-0000_d01_model_patches.nc\n",
      "Train 90, /glade/scratch/lverhoef/WRF_all/track_data_hrrr_3km_nc_refl/NCARSTORM_20110712-0000_d01_model_patches.nc\n",
      "Train 100, /glade/scratch/lverhoef/WRF_all/track_data_hrrr_3km_nc_refl/NCARSTORM_20120218-0000_d01_model_patches.nc\n",
      "Validation 105, /glade/scratch/lverhoef/WRF_all/track_data_hrrr_3km_nc_refl/NCARSTORM_20120315-0000_d01_model_patches.nc\n",
      "Validation 115, /glade/scratch/lverhoef/WRF_all/track_data_hrrr_3km_nc_refl/NCARSTORM_20120401-0000_d01_model_patches.nc\n",
      "Test 120, /glade/scratch/lverhoef/WRF_all/track_data_hrrr_3km_nc_refl/NCARSTORM_20120409-0000_d01_model_patches.nc\n",
      "Test 130, /glade/scratch/lverhoef/WRF_all/track_data_hrrr_3km_nc_refl/NCARSTORM_20120503-0000_d01_model_patches.nc\n",
      "Test 140, /glade/scratch/lverhoef/WRF_all/track_data_hrrr_3km_nc_refl/NCARSTORM_20120529-0000_d01_model_patches.nc\n"
     ]
    }
   ],
   "source": [
    "# Pull selected variables from patch files and join into a single DataSet\n",
    "num_files = 150\n",
    "train_split = int(num_files*0.7)\n",
    "val_split = int(num_files*0.8)\n",
    "variables = [\"REFL_COM_curr\"]\n",
    "data_list = []\n",
    "for p, patch_file in enumerate(patch_files[0:train_split]):\n",
    "    if p % 10 == 0:\n",
    "        print(f'Train {p}, {patch_file}')\n",
    "    ds = xr.open_dataset(patch_file)\n",
    "    data_list.append(ds[variables].compute())\n",
    "    ds.close()\n",
    "input_train = xr.concat(data_list, dim=\"p\")[\"REFL_COM_curr\"].expand_dims(\"channel\", axis = -1)\n",
    "data_list = []\n",
    "for p, patch_file in enumerate(patch_files[train_split:val_split]):\n",
    "    if p % 10 == 0:\n",
    "        print(f'Validation {train_split + p}, {patch_file}')\n",
    "    ds = xr.open_dataset(patch_file)\n",
    "    data_list.append(ds[variables].compute())\n",
    "    ds.close()\n",
    "input_val = xr.concat(data_list, dim=\"p\")[\"REFL_COM_curr\"].expand_dims(\"channel\", axis = -1)\n",
    "data_list = []\n",
    "for p, patch_file in enumerate(patch_files[val_split:num_files]):\n",
    "    if p % 10 == 0:\n",
    "        print(f'Test {val_split + p}, {patch_file}')\n",
    "    ds = xr.open_dataset(patch_file)\n",
    "    data_list.append(ds[variables].compute())\n",
    "    ds.close()\n",
    "input_test = xr.concat(data_list, dim=\"p\")[\"REFL_COM_curr\"].expand_dims(\"channel\", axis = -1)"
   ]
  },
  {
   "cell_type": "code",
   "execution_count": 6,
   "id": "aa2782d0-68d0-4968-a440-af88466dbf99",
   "metadata": {},
   "outputs": [
    {
     "name": "stdout",
     "output_type": "stream",
     "text": [
      "Train 0, /glade/scratch/lverhoef/WRF_all/track_data_hrrr_3km_csv_refl/track_step_NCARSTORM_d01_20101024-0000.csv\n",
      "Train 10, /glade/scratch/lverhoef/WRF_all/track_data_hrrr_3km_csv_refl/track_step_NCARSTORM_d01_20110201-0000.csv\n",
      "Train 20, /glade/scratch/lverhoef/WRF_all/track_data_hrrr_3km_csv_refl/track_step_NCARSTORM_d01_20110326-0000.csv\n",
      "Train 30, /glade/scratch/lverhoef/WRF_all/track_data_hrrr_3km_csv_refl/track_step_NCARSTORM_d01_20110414-0000.csv\n",
      "Train 40, /glade/scratch/lverhoef/WRF_all/track_data_hrrr_3km_csv_refl/track_step_NCARSTORM_d01_20110425-0000.csv\n",
      "Train 50, /glade/scratch/lverhoef/WRF_all/track_data_hrrr_3km_csv_refl/track_step_NCARSTORM_d01_20110522-0000.csv\n",
      "Train 60, /glade/scratch/lverhoef/WRF_all/track_data_hrrr_3km_csv_refl/track_step_NCARSTORM_d01_20110605-0000.csv\n",
      "Train 70, /glade/scratch/lverhoef/WRF_all/track_data_hrrr_3km_csv_refl/track_step_NCARSTORM_d01_20110615-0000.csv\n",
      "Train 80, /glade/scratch/lverhoef/WRF_all/track_data_hrrr_3km_csv_refl/track_step_NCARSTORM_d01_20110625-0000.csv\n",
      "Train 90, /glade/scratch/lverhoef/WRF_all/track_data_hrrr_3km_csv_refl/track_step_NCARSTORM_d01_20110712-0000.csv\n",
      "Train 100, /glade/scratch/lverhoef/WRF_all/track_data_hrrr_3km_csv_refl/track_step_NCARSTORM_d01_20120218-0000.csv\n",
      "Validation 105, /glade/scratch/lverhoef/WRF_all/track_data_hrrr_3km_csv_refl/track_step_NCARSTORM_d01_20120315-0000.csv\n",
      "Validation 115, /glade/scratch/lverhoef/WRF_all/track_data_hrrr_3km_csv_refl/track_step_NCARSTORM_d01_20120401-0000.csv\n",
      "Test 120, /glade/scratch/lverhoef/WRF_all/track_data_hrrr_3km_csv_refl/track_step_NCARSTORM_d01_20120409-0000.csv\n",
      "Test 130, /glade/scratch/lverhoef/WRF_all/track_data_hrrr_3km_csv_refl/track_step_NCARSTORM_d01_20120503-0000.csv\n",
      "Test 140, /glade/scratch/lverhoef/WRF_all/track_data_hrrr_3km_csv_refl/track_step_NCARSTORM_d01_20120529-0000.csv\n"
     ]
    }
   ],
   "source": [
    "# Pull variables from csv files and join into an array\n",
    "csv_variables = [\"major_axis_length\", \"minor_axis_length\"]\n",
    "csv_data_list = []\n",
    "for p, csv_file in enumerate(csv_files[0:train_split]):\n",
    "    if p % 10 == 0:\n",
    "        print(f'Train {p}, {csv_file}')\n",
    "    csv_ds = pd.read_csv(csv_file)\n",
    "    csv_data_list.append(csv_ds[csv_variables].to_xarray().rename({'index': 'p'}))\n",
    "output_train = xr.concat(csv_data_list, dim=\"p\").to_array().transpose()\n",
    "csv_data_list = []\n",
    "for p, csv_file in enumerate(csv_files[train_split:val_split]):\n",
    "    if p % 10 == 0:\n",
    "        print(f'Validation {train_split + p}, {csv_file}')\n",
    "    csv_ds = pd.read_csv(csv_file)\n",
    "    csv_data_list.append(csv_ds[csv_variables].to_xarray().rename({'index': 'p'}))\n",
    "output_val = xr.concat(csv_data_list, dim=\"p\").to_array().transpose()\n",
    "csv_data_list = []\n",
    "for p, csv_file in enumerate(csv_files[val_split:num_files]):\n",
    "    if p % 10 == 0:\n",
    "        print(f'Test {val_split + p}, {csv_file}')\n",
    "    csv_ds = pd.read_csv(csv_file)\n",
    "    csv_data_list.append(csv_ds[csv_variables].to_xarray().rename({'index': 'p'}))\n",
    "output_test = xr.concat(csv_data_list, dim=\"p\").to_array().transpose()"
   ]
  },
  {
   "cell_type": "code",
   "execution_count": 7,
   "id": "1b96dfb4-05f7-4112-86d6-4bc4f1a8de87",
   "metadata": {},
   "outputs": [],
   "source": [
    "# Normalize the training data\n",
    "scale_stats = pd.DataFrame(index=[0], columns=[\"mean\", \"sd\"])\n",
    "scale_stats.loc[0, \"mean\"] = input_train.mean()\n",
    "scale_stats.loc[0, \"sd\"] = input_train.std()\n",
    "input_train_norm = (input_train - scale_stats.loc[0, \"mean\"]) / scale_stats.loc[0, \"sd\"]\n",
    "input_val_norm = (input_val - scale_stats.loc[0, \"mean\"]) / scale_stats.loc[0, \"sd\"]\n",
    "input_test_norm = (input_test - scale_stats.loc[0, \"mean\"]) / scale_stats.loc[0, \"sd\"]"
   ]
  },
  {
   "cell_type": "code",
   "execution_count": 8,
   "id": "013b187d-7033-4f21-bd07-4279d449a57a",
   "metadata": {},
   "outputs": [],
   "source": [
    "# Normalize output data\n",
    "output_scale_stats = pd.DataFrame(index=[0], columns=[\"mean\", \"sd\"])\n",
    "output_scale_stats.loc[0, \"mean\"] = output_train.mean()\n",
    "output_scale_stats.loc[0, \"sd\"] = output_train.std()\n",
    "output_train_norm = (output_train - output_scale_stats.loc[0, \"mean\"]) / output_scale_stats.loc[0, \"sd\"]\n",
    "output_val_norm = (output_val - output_scale_stats.loc[0, \"mean\"]) / output_scale_stats.loc[0, \"sd\"]\n",
    "output_test_norm = (output_test - output_scale_stats.loc[0, \"mean\"]) / output_scale_stats.loc[0, \"sd\"]"
   ]
  },
  {
   "cell_type": "code",
   "execution_count": 9,
   "id": "030d5d7a-e0ca-44ba-aad7-a3f778016d3f",
   "metadata": {},
   "outputs": [
    {
     "name": "stderr",
     "output_type": "stream",
     "text": [
      "2022-07-14 12:12:59.746603: I tensorflow/core/platform/cpu_feature_guard.cc:193] This TensorFlow binary is optimized with oneAPI Deep Neural Network Library (oneDNN) to use the following CPU instructions in performance-critical operations:  AVX2 AVX512F FMA\n",
      "To enable them in other operations, rebuild TensorFlow with the appropriate compiler flags.\n",
      "2022-07-14 12:13:00.309525: I tensorflow/core/common_runtime/gpu/gpu_device.cc:1532] Created device /job:localhost/replica:0/task:0/device:GPU:0 with 30987 MB memory:  -> device: 0, name: Tesla V100-SXM2-32GB, pci bus id: 0000:88:00.0, compute capability: 7.0\n"
     ]
    }
   ],
   "source": [
    "inv_model = models.Sequential()\n",
    "inv_model.add(GDL_layers.RotEquivConv2D(32, (3, 3), rot_axis=False, input_shape=(144, 144, 1)))\n",
    "inv_model.add(GDL_layers.RotEquivPool2D((2, 2)))\n",
    "inv_model.add(GDL_layers.RotEquivConv2D(32, (3, 3)))\n",
    "inv_model.add(GDL_layers.RotEquivPool2D((2, 2)))\n",
    "inv_model.add(GDL_layers.RotEquivConv2D(64, (3, 3)))\n",
    "inv_model.add(GDL_layers.RotEquivPool2D((2, 2)))\n",
    "inv_model.add(GDL_layers.RotEquivConv2D(64, (3, 3)))\n",
    "inv_model.add(GDL_layers.RotEquivPool2D((2, 2)))\n",
    "inv_model.add(GDL_layers.RotEquivConv2D(128, (3, 3)))\n",
    "inv_model.add(GDL_layers.RotInvPool())\n",
    "inv_model.add(layers.Flatten())\n",
    "inv_model.add(layers.Dense(32, activation='relu'))\n",
    "inv_model.add(layers.Dense(2))"
   ]
  },
  {
   "cell_type": "code",
   "execution_count": 10,
   "id": "cd1c9f33-1e73-4549-af85-ed5d8378b810",
   "metadata": {},
   "outputs": [
    {
     "name": "stdout",
     "output_type": "stream",
     "text": [
      "Model: \"sequential\"\n",
      "_________________________________________________________________\n",
      " Layer (type)                Output Shape              Param #   \n",
      "=================================================================\n",
      " rot_equiv_conv2d (RotEquivC  (None, 142, 142, 4, 32)  320       \n",
      " onv2D)                                                          \n",
      "                                                                 \n",
      " rot_equiv_pool2d (RotEquivP  (None, 71, 71, 4, 32)    0         \n",
      " ool2D)                                                          \n",
      "                                                                 \n",
      " rot_equiv_conv2d_1 (RotEqui  (None, 69, 69, 4, 32)    9248      \n",
      " vConv2D)                                                        \n",
      "                                                                 \n",
      " rot_equiv_pool2d_1 (RotEqui  (None, 34, 34, 4, 32)    0         \n",
      " vPool2D)                                                        \n",
      "                                                                 \n",
      " rot_equiv_conv2d_2 (RotEqui  (None, 32, 32, 4, 64)    18496     \n",
      " vConv2D)                                                        \n",
      "                                                                 \n",
      " rot_equiv_pool2d_2 (RotEqui  (None, 16, 16, 4, 64)    0         \n",
      " vPool2D)                                                        \n",
      "                                                                 \n",
      " rot_equiv_conv2d_3 (RotEqui  (None, 14, 14, 4, 64)    36928     \n",
      " vConv2D)                                                        \n",
      "                                                                 \n",
      " rot_equiv_pool2d_3 (RotEqui  (None, 7, 7, 4, 64)      0         \n",
      " vPool2D)                                                        \n",
      "                                                                 \n",
      " rot_equiv_conv2d_4 (RotEqui  (None, 5, 5, 4, 128)     73856     \n",
      " vConv2D)                                                        \n",
      "                                                                 \n",
      " rot_inv_pool (RotInvPool)   (None, 5, 5, 128)         0         \n",
      "                                                                 \n",
      " flatten (Flatten)           (None, 3200)              0         \n",
      "                                                                 \n",
      " dense (Dense)               (None, 32)                102432    \n",
      "                                                                 \n",
      " dense_1 (Dense)             (None, 2)                 66        \n",
      "                                                                 \n",
      "=================================================================\n",
      "Total params: 241,346\n",
      "Trainable params: 241,346\n",
      "Non-trainable params: 0\n",
      "_________________________________________________________________\n"
     ]
    }
   ],
   "source": [
    "inv_model.summary()"
   ]
  },
  {
   "cell_type": "code",
   "execution_count": 11,
   "id": "c3501077-3694-4e54-bd75-05d058329b3b",
   "metadata": {},
   "outputs": [],
   "source": [
    "inv_model.compile(\n",
    "    optimizer='nadam',\n",
    "    loss='mse',\n",
    "    metrics=['mse']\n",
    ")"
   ]
  },
  {
   "cell_type": "code",
   "execution_count": 12,
   "id": "9f0082d7-bb9a-434c-a9d5-fce4ec479b8b",
   "metadata": {},
   "outputs": [
    {
     "name": "stdout",
     "output_type": "stream",
     "text": [
      "WARNING:tensorflow:Keras is training/fitting/evaluating on array-like data. Keras may not be optimized for this format, so if your input data format is supported by TensorFlow I/O (https://github.com/tensorflow/io) we recommend using that to load a Dataset instead.\n",
      "Epoch 1/20\n"
     ]
    },
    {
     "name": "stderr",
     "output_type": "stream",
     "text": [
      "2022-07-14 12:13:05.756190: I tensorflow/stream_executor/cuda/cuda_dnn.cc:384] Loaded cuDNN version 8100\n"
     ]
    },
    {
     "name": "stdout",
     "output_type": "stream",
     "text": [
      "1065/1065 [==============================] - ETA: 0s - loss: 0.2643 - mse: 0.2643WARNING:tensorflow:Keras is training/fitting/evaluating on array-like data. Keras may not be optimized for this format, so if your input data format is supported by TensorFlow I/O (https://github.com/tensorflow/io) we recommend using that to load a Dataset instead.\n",
      "1065/1065 [==============================] - 76s 66ms/step - loss: 0.2643 - mse: 0.2643 - val_loss: 0.1327 - val_mse: 0.1327\n",
      "Epoch 2/20\n",
      "1065/1065 [==============================] - 69s 65ms/step - loss: 0.2928 - mse: 0.2928 - val_loss: 0.2081 - val_mse: 0.2081\n",
      "Epoch 3/20\n",
      "1065/1065 [==============================] - 69s 65ms/step - loss: 0.1947 - mse: 0.1947 - val_loss: 0.1307 - val_mse: 0.1307\n",
      "Epoch 4/20\n",
      "1065/1065 [==============================] - 69s 65ms/step - loss: 0.1392 - mse: 0.1392 - val_loss: 0.0805 - val_mse: 0.0805\n",
      "Epoch 5/20\n",
      "1065/1065 [==============================] - 69s 65ms/step - loss: 0.1040 - mse: 0.1040 - val_loss: 0.0727 - val_mse: 0.0727\n",
      "Epoch 6/20\n",
      "1065/1065 [==============================] - 69s 65ms/step - loss: 0.0724 - mse: 0.0724 - val_loss: 0.0744 - val_mse: 0.0744\n",
      "Epoch 7/20\n",
      "1065/1065 [==============================] - 69s 65ms/step - loss: 0.0558 - mse: 0.0558 - val_loss: 0.0493 - val_mse: 0.0493\n",
      "Epoch 8/20\n",
      "1065/1065 [==============================] - 69s 65ms/step - loss: 0.0461 - mse: 0.0461 - val_loss: 0.0440 - val_mse: 0.0440\n",
      "Epoch 9/20\n",
      "1065/1065 [==============================] - 69s 65ms/step - loss: 0.0383 - mse: 0.0383 - val_loss: 0.0428 - val_mse: 0.0428\n",
      "Epoch 10/20\n",
      "1065/1065 [==============================] - 69s 65ms/step - loss: 0.0350 - mse: 0.0350 - val_loss: 0.0508 - val_mse: 0.0508\n",
      "Epoch 11/20\n",
      "1065/1065 [==============================] - 69s 65ms/step - loss: 0.0314 - mse: 0.0314 - val_loss: 0.0459 - val_mse: 0.0459\n",
      "Epoch 12/20\n",
      "1065/1065 [==============================] - 69s 65ms/step - loss: 0.0276 - mse: 0.0276 - val_loss: 0.0536 - val_mse: 0.0536\n",
      "Epoch 13/20\n",
      "1065/1065 [==============================] - 69s 65ms/step - loss: 0.0279 - mse: 0.0279 - val_loss: 0.0373 - val_mse: 0.0373\n",
      "Epoch 14/20\n",
      "1065/1065 [==============================] - 69s 65ms/step - loss: 0.0245 - mse: 0.0245 - val_loss: 0.0378 - val_mse: 0.0378\n",
      "Epoch 15/20\n",
      "1065/1065 [==============================] - 69s 65ms/step - loss: 0.0224 - mse: 0.0224 - val_loss: 0.0418 - val_mse: 0.0418\n",
      "Epoch 16/20\n",
      "1065/1065 [==============================] - 69s 65ms/step - loss: 0.0223 - mse: 0.0223 - val_loss: 0.0416 - val_mse: 0.0416\n",
      "Epoch 17/20\n",
      "1065/1065 [==============================] - 69s 65ms/step - loss: 0.0206 - mse: 0.0206 - val_loss: 0.0355 - val_mse: 0.0355\n",
      "Epoch 18/20\n",
      "1065/1065 [==============================] - 69s 65ms/step - loss: 0.0205 - mse: 0.0205 - val_loss: 0.0347 - val_mse: 0.0347\n",
      "Epoch 19/20\n",
      "1065/1065 [==============================] - 69s 65ms/step - loss: 0.0183 - mse: 0.0183 - val_loss: 0.0350 - val_mse: 0.0350\n",
      "Epoch 20/20\n",
      "1065/1065 [==============================] - 69s 65ms/step - loss: 0.0175 - mse: 0.0175 - val_loss: 0.0335 - val_mse: 0.0335\n"
     ]
    }
   ],
   "source": [
    "inv_history = inv_model.fit(x=input_train_norm, y=output_train_norm, epochs=20, validation_data=(input_val_norm, output_val_norm))"
   ]
  },
  {
   "cell_type": "code",
   "execution_count": 13,
   "id": "93182f81-5227-49d0-be88-2d5a024fcc20",
   "metadata": {},
   "outputs": [],
   "source": [
    "equiv_model = models.Sequential()\n",
    "equiv_model.add(GDL_layers.RotEquivConv2D(32, (3, 3), rot_axis=False, input_shape=(144, 144, 1)))\n",
    "equiv_model.add(GDL_layers.RotEquivPool2D((2, 2)))\n",
    "equiv_model.add(GDL_layers.RotEquivConv2D(32, (3, 3)))\n",
    "equiv_model.add(GDL_layers.RotEquivPool2D((2, 2)))\n",
    "equiv_model.add(GDL_layers.RotEquivConv2D(64, (3, 3)))\n",
    "equiv_model.add(GDL_layers.RotEquivPool2D((2, 2)))\n",
    "equiv_model.add(GDL_layers.RotEquivConv2D(64, (3, 3)))\n",
    "equiv_model.add(GDL_layers.RotEquivPool2D((2, 2)))\n",
    "equiv_model.add(GDL_layers.RotEquivConv2D(100, (3, 3)))\n",
    "equiv_model.add(layers.Flatten())\n",
    "equiv_model.add(layers.Dense(32, activation='relu'))\n",
    "equiv_model.add(layers.Dense(2))"
   ]
  },
  {
   "cell_type": "code",
   "execution_count": 14,
   "id": "51e058c8-a4cf-4731-a5f3-f65ef65ea326",
   "metadata": {},
   "outputs": [
    {
     "name": "stdout",
     "output_type": "stream",
     "text": [
      "Model: \"sequential_1\"\n",
      "_________________________________________________________________\n",
      " Layer (type)                Output Shape              Param #   \n",
      "=================================================================\n",
      " rot_equiv_conv2d_5 (RotEqui  (None, 142, 142, 4, 32)  320       \n",
      " vConv2D)                                                        \n",
      "                                                                 \n",
      " rot_equiv_pool2d_4 (RotEqui  (None, 71, 71, 4, 32)    0         \n",
      " vPool2D)                                                        \n",
      "                                                                 \n",
      " rot_equiv_conv2d_6 (RotEqui  (None, 69, 69, 4, 32)    9248      \n",
      " vConv2D)                                                        \n",
      "                                                                 \n",
      " rot_equiv_pool2d_5 (RotEqui  (None, 34, 34, 4, 32)    0         \n",
      " vPool2D)                                                        \n",
      "                                                                 \n",
      " rot_equiv_conv2d_7 (RotEqui  (None, 32, 32, 4, 64)    18496     \n",
      " vConv2D)                                                        \n",
      "                                                                 \n",
      " rot_equiv_pool2d_6 (RotEqui  (None, 16, 16, 4, 64)    0         \n",
      " vPool2D)                                                        \n",
      "                                                                 \n",
      " rot_equiv_conv2d_8 (RotEqui  (None, 14, 14, 4, 64)    36928     \n",
      " vConv2D)                                                        \n",
      "                                                                 \n",
      " rot_equiv_pool2d_7 (RotEqui  (None, 7, 7, 4, 64)      0         \n",
      " vPool2D)                                                        \n",
      "                                                                 \n",
      " rot_equiv_conv2d_9 (RotEqui  (None, 5, 5, 4, 100)     57700     \n",
      " vConv2D)                                                        \n",
      "                                                                 \n",
      " flatten_1 (Flatten)         (None, 10000)             0         \n",
      "                                                                 \n",
      " dense_2 (Dense)             (None, 32)                320032    \n",
      "                                                                 \n",
      " dense_3 (Dense)             (None, 2)                 66        \n",
      "                                                                 \n",
      "=================================================================\n",
      "Total params: 442,790\n",
      "Trainable params: 442,790\n",
      "Non-trainable params: 0\n",
      "_________________________________________________________________\n"
     ]
    }
   ],
   "source": [
    "equiv_model.summary()"
   ]
  },
  {
   "cell_type": "code",
   "execution_count": 15,
   "id": "5e110f51-9645-4b9e-8d53-0e3e77e6e7a4",
   "metadata": {},
   "outputs": [],
   "source": [
    "equiv_model.compile(\n",
    "    optimizer='nadam',\n",
    "    loss='mse',\n",
    "    metrics=['mse']\n",
    ")"
   ]
  },
  {
   "cell_type": "code",
   "execution_count": 16,
   "id": "749f7862-b8c0-43a7-a1e3-6d33a7b6adb0",
   "metadata": {},
   "outputs": [
    {
     "name": "stdout",
     "output_type": "stream",
     "text": [
      "WARNING:tensorflow:Keras is training/fitting/evaluating on array-like data. Keras may not be optimized for this format, so if your input data format is supported by TensorFlow I/O (https://github.com/tensorflow/io) we recommend using that to load a Dataset instead.\n",
      "Epoch 1/20\n",
      "1065/1065 [==============================] - ETA: 0s - loss: 0.2478 - mse: 0.2478WARNING:tensorflow:Keras is training/fitting/evaluating on array-like data. Keras may not be optimized for this format, so if your input data format is supported by TensorFlow I/O (https://github.com/tensorflow/io) we recommend using that to load a Dataset instead.\n",
      "1065/1065 [==============================] - 74s 65ms/step - loss: 0.2478 - mse: 0.2478 - val_loss: 0.0956 - val_mse: 0.0956\n",
      "Epoch 2/20\n",
      "1065/1065 [==============================] - 69s 65ms/step - loss: 0.0941 - mse: 0.0941 - val_loss: 0.0611 - val_mse: 0.0611\n",
      "Epoch 3/20\n",
      "1065/1065 [==============================] - 69s 65ms/step - loss: 0.0618 - mse: 0.0618 - val_loss: 0.0505 - val_mse: 0.0505\n",
      "Epoch 4/20\n",
      "1065/1065 [==============================] - 69s 65ms/step - loss: 0.0426 - mse: 0.0426 - val_loss: 0.0502 - val_mse: 0.0502\n",
      "Epoch 5/20\n",
      "1065/1065 [==============================] - 69s 65ms/step - loss: 0.0414 - mse: 0.0414 - val_loss: 0.0489 - val_mse: 0.0489\n",
      "Epoch 6/20\n",
      "1065/1065 [==============================] - 69s 65ms/step - loss: 0.0355 - mse: 0.0355 - val_loss: 0.0447 - val_mse: 0.0447\n",
      "Epoch 7/20\n",
      "1065/1065 [==============================] - 69s 65ms/step - loss: 0.0315 - mse: 0.0315 - val_loss: 0.0340 - val_mse: 0.0340\n",
      "Epoch 8/20\n",
      "1065/1065 [==============================] - 69s 65ms/step - loss: 0.0271 - mse: 0.0271 - val_loss: 0.0569 - val_mse: 0.0569\n",
      "Epoch 9/20\n",
      "1065/1065 [==============================] - 69s 65ms/step - loss: 0.0252 - mse: 0.0252 - val_loss: 0.0370 - val_mse: 0.0370\n",
      "Epoch 10/20\n",
      "1065/1065 [==============================] - 69s 65ms/step - loss: 0.0236 - mse: 0.0236 - val_loss: 0.0312 - val_mse: 0.0312\n",
      "Epoch 11/20\n",
      "1065/1065 [==============================] - 69s 65ms/step - loss: 0.0212 - mse: 0.0212 - val_loss: 0.0293 - val_mse: 0.0293\n",
      "Epoch 12/20\n",
      "1065/1065 [==============================] - 68s 64ms/step - loss: 0.0213 - mse: 0.0213 - val_loss: 0.0289 - val_mse: 0.0289\n",
      "Epoch 13/20\n",
      "1065/1065 [==============================] - 68s 64ms/step - loss: 0.0187 - mse: 0.0187 - val_loss: 0.0271 - val_mse: 0.0271\n",
      "Epoch 14/20\n",
      "1065/1065 [==============================] - 68s 64ms/step - loss: 0.0191 - mse: 0.0191 - val_loss: 0.0370 - val_mse: 0.0370\n",
      "Epoch 15/20\n",
      "1065/1065 [==============================] - 68s 64ms/step - loss: 0.0158 - mse: 0.0158 - val_loss: 0.0533 - val_mse: 0.0533\n",
      "Epoch 16/20\n",
      "1065/1065 [==============================] - 68s 64ms/step - loss: 0.0158 - mse: 0.0158 - val_loss: 0.0338 - val_mse: 0.0338\n",
      "Epoch 17/20\n",
      "1065/1065 [==============================] - 68s 64ms/step - loss: 0.0138 - mse: 0.0138 - val_loss: 0.0284 - val_mse: 0.0284\n",
      "Epoch 18/20\n",
      "1065/1065 [==============================] - 69s 64ms/step - loss: 0.0149 - mse: 0.0149 - val_loss: 0.0309 - val_mse: 0.0309\n",
      "Epoch 19/20\n",
      "1065/1065 [==============================] - 68s 64ms/step - loss: 0.0134 - mse: 0.0134 - val_loss: 0.0357 - val_mse: 0.0357\n",
      "Epoch 20/20\n",
      "1065/1065 [==============================] - 68s 64ms/step - loss: 0.0118 - mse: 0.0118 - val_loss: 0.0319 - val_mse: 0.0319\n"
     ]
    }
   ],
   "source": [
    "equiv_history = equiv_model.fit(x=input_train_norm, y=output_train_norm, epochs=20, validation_data=(input_val_norm, output_val_norm))"
   ]
  },
  {
   "cell_type": "code",
   "execution_count": 17,
   "id": "c23214ad-a70a-4609-93ab-de5484f01243",
   "metadata": {},
   "outputs": [],
   "source": [
    "cnn_model = models.Sequential()\n",
    "cnn_model.add(layers.Conv2D(32, (3, 3), activation='relu', input_shape=(144, 144, 1)))\n",
    "cnn_model.add(layers.MaxPooling2D((2, 2)))\n",
    "cnn_model.add(layers.Conv2D(32, (3, 3), activation='relu'))\n",
    "cnn_model.add(layers.MaxPooling2D((2, 2)))\n",
    "cnn_model.add(layers.Conv2D(64, (3, 3), activation='relu'))\n",
    "cnn_model.add(layers.MaxPooling2D((2, 2)))\n",
    "cnn_model.add(layers.Conv2D(64, (3, 3), activation='relu'))\n",
    "cnn_model.add(layers.MaxPooling2D((2, 2)))\n",
    "cnn_model.add(layers.Conv2D(128, (3, 3), activation='relu'))\n",
    "cnn_model.add(layers.Flatten())\n",
    "cnn_model.add(layers.Dense(32, activation='relu'))\n",
    "cnn_model.add(layers.Dense(2))"
   ]
  },
  {
   "cell_type": "code",
   "execution_count": 18,
   "id": "65c2d141-3e14-4725-ab5d-2a1ca7dd17b9",
   "metadata": {},
   "outputs": [
    {
     "name": "stdout",
     "output_type": "stream",
     "text": [
      "Model: \"sequential_2\"\n",
      "_________________________________________________________________\n",
      " Layer (type)                Output Shape              Param #   \n",
      "=================================================================\n",
      " conv2d (Conv2D)             (None, 142, 142, 32)      320       \n",
      "                                                                 \n",
      " max_pooling2d_8 (MaxPooling  (None, 71, 71, 32)       0         \n",
      " 2D)                                                             \n",
      "                                                                 \n",
      " conv2d_1 (Conv2D)           (None, 69, 69, 32)        9248      \n",
      "                                                                 \n",
      " max_pooling2d_9 (MaxPooling  (None, 34, 34, 32)       0         \n",
      " 2D)                                                             \n",
      "                                                                 \n",
      " conv2d_2 (Conv2D)           (None, 32, 32, 64)        18496     \n",
      "                                                                 \n",
      " max_pooling2d_10 (MaxPoolin  (None, 16, 16, 64)       0         \n",
      " g2D)                                                            \n",
      "                                                                 \n",
      " conv2d_3 (Conv2D)           (None, 14, 14, 64)        36928     \n",
      "                                                                 \n",
      " max_pooling2d_11 (MaxPoolin  (None, 7, 7, 64)         0         \n",
      " g2D)                                                            \n",
      "                                                                 \n",
      " conv2d_4 (Conv2D)           (None, 5, 5, 128)         73856     \n",
      "                                                                 \n",
      " flatten_2 (Flatten)         (None, 3200)              0         \n",
      "                                                                 \n",
      " dense_4 (Dense)             (None, 32)                102432    \n",
      "                                                                 \n",
      " dense_5 (Dense)             (None, 2)                 66        \n",
      "                                                                 \n",
      "=================================================================\n",
      "Total params: 241,346\n",
      "Trainable params: 241,346\n",
      "Non-trainable params: 0\n",
      "_________________________________________________________________\n"
     ]
    }
   ],
   "source": [
    "cnn_model.summary()"
   ]
  },
  {
   "cell_type": "code",
   "execution_count": 19,
   "id": "858bd2cd-4066-455c-a7dd-7464a3735fe0",
   "metadata": {},
   "outputs": [],
   "source": [
    "cnn_model.compile(\n",
    "    optimizer='nadam',\n",
    "    loss='mse',\n",
    "    metrics=['mse']\n",
    ")"
   ]
  },
  {
   "cell_type": "code",
   "execution_count": 20,
   "id": "390f7113-42ec-4bfc-b024-80738a84ecfb",
   "metadata": {},
   "outputs": [
    {
     "name": "stdout",
     "output_type": "stream",
     "text": [
      "WARNING:tensorflow:Keras is training/fitting/evaluating on array-like data. Keras may not be optimized for this format, so if your input data format is supported by TensorFlow I/O (https://github.com/tensorflow/io) we recommend using that to load a Dataset instead.\n",
      "Epoch 1/20\n",
      "1065/1065 [==============================] - ETA: 0s - loss: 0.2865 - mse: 0.2865WARNING:tensorflow:Keras is training/fitting/evaluating on array-like data. Keras may not be optimized for this format, so if your input data format is supported by TensorFlow I/O (https://github.com/tensorflow/io) we recommend using that to load a Dataset instead.\n",
      "1065/1065 [==============================] - 13s 12ms/step - loss: 0.2865 - mse: 0.2865 - val_loss: 0.1171 - val_mse: 0.1171\n",
      "Epoch 2/20\n",
      "1065/1065 [==============================] - 12s 12ms/step - loss: 0.1430 - mse: 0.1430 - val_loss: 0.1895 - val_mse: 0.1895\n",
      "Epoch 3/20\n",
      "1065/1065 [==============================] - 12s 12ms/step - loss: 0.1048 - mse: 0.1048 - val_loss: 0.0906 - val_mse: 0.0906\n",
      "Epoch 4/20\n",
      "1065/1065 [==============================] - 12s 12ms/step - loss: 0.0738 - mse: 0.0738 - val_loss: 0.0751 - val_mse: 0.0751\n",
      "Epoch 5/20\n",
      "1065/1065 [==============================] - 12s 12ms/step - loss: 0.0538 - mse: 0.0538 - val_loss: 0.0912 - val_mse: 0.0912\n",
      "Epoch 6/20\n",
      "1065/1065 [==============================] - 12s 12ms/step - loss: 0.0425 - mse: 0.0425 - val_loss: 0.0498 - val_mse: 0.0498\n",
      "Epoch 7/20\n",
      "1065/1065 [==============================] - 12s 12ms/step - loss: 0.0379 - mse: 0.0379 - val_loss: 0.0447 - val_mse: 0.0447\n",
      "Epoch 8/20\n",
      "1065/1065 [==============================] - 12s 12ms/step - loss: 0.0329 - mse: 0.0329 - val_loss: 0.0479 - val_mse: 0.0479\n",
      "Epoch 9/20\n",
      "1065/1065 [==============================] - 12s 12ms/step - loss: 0.0297 - mse: 0.0297 - val_loss: 0.0480 - val_mse: 0.0480\n",
      "Epoch 10/20\n",
      "1065/1065 [==============================] - 12s 12ms/step - loss: 0.0281 - mse: 0.0281 - val_loss: 0.0757 - val_mse: 0.0757\n",
      "Epoch 11/20\n",
      "1065/1065 [==============================] - 12s 12ms/step - loss: 0.0244 - mse: 0.0244 - val_loss: 0.0453 - val_mse: 0.0453\n",
      "Epoch 12/20\n",
      "1065/1065 [==============================] - 12s 12ms/step - loss: 0.0221 - mse: 0.0221 - val_loss: 0.0553 - val_mse: 0.0553\n",
      "Epoch 13/20\n",
      "1065/1065 [==============================] - 12s 12ms/step - loss: 0.0237 - mse: 0.0237 - val_loss: 0.0561 - val_mse: 0.0561\n",
      "Epoch 14/20\n",
      "1065/1065 [==============================] - 13s 12ms/step - loss: 0.0203 - mse: 0.0203 - val_loss: 0.0536 - val_mse: 0.0536\n",
      "Epoch 15/20\n",
      "1065/1065 [==============================] - 12s 12ms/step - loss: 0.0170 - mse: 0.0170 - val_loss: 0.0384 - val_mse: 0.0384\n",
      "Epoch 16/20\n",
      "1065/1065 [==============================] - 12s 12ms/step - loss: 0.0176 - mse: 0.0176 - val_loss: 0.0357 - val_mse: 0.0357\n",
      "Epoch 17/20\n",
      "1065/1065 [==============================] - 12s 12ms/step - loss: 0.0157 - mse: 0.0157 - val_loss: 0.0437 - val_mse: 0.0437\n",
      "Epoch 18/20\n",
      "1065/1065 [==============================] - 12s 12ms/step - loss: 0.0150 - mse: 0.0150 - val_loss: 0.0388 - val_mse: 0.0388\n",
      "Epoch 19/20\n",
      "1065/1065 [==============================] - 12s 12ms/step - loss: 0.0166 - mse: 0.0166 - val_loss: 0.0401 - val_mse: 0.0401\n",
      "Epoch 20/20\n",
      "1065/1065 [==============================] - 12s 12ms/step - loss: 0.0139 - mse: 0.0139 - val_loss: 0.0358 - val_mse: 0.0358\n"
     ]
    }
   ],
   "source": [
    "cnn_history = cnn_model.fit(x=input_train_norm, y=output_train_norm, epochs=20, validation_data=(input_val_norm, output_val_norm))"
   ]
  },
  {
   "cell_type": "code",
   "execution_count": 26,
   "id": "beecd093-f2fd-443f-9437-bb6252bec26c",
   "metadata": {},
   "outputs": [
    {
     "data": {
      "text/plain": [
       "(0.0, 0.30690135299228133)"
      ]
     },
     "execution_count": 26,
     "metadata": {},
     "output_type": "execute_result"
    },
    {
     "data": {
      "image/png": "[encoded data removed]",
      "text/plain": [
       "<Figure size 432x288 with 1 Axes>"
      ]
     },
     "metadata": {
      "needs_background": "light"
     },
     "output_type": "display_data"
    }
   ],
   "source": [
    "F = plt.Figure(figsize=(6, 4))\n",
    "plt.plot(cnn_history.history['mse'], label='CNN training', color='orange')\n",
    "plt.plot(cnn_history.history['val_mse'], label='CNN validation', color='orange', linestyle='dashed')\n",
    "plt.plot(inv_history.history['mse'], label='Inv training', color='blue')\n",
    "plt.plot(inv_history.history['val_mse'], label='Inv validation', color='blue', linestyle='dashed')\n",
    "plt.plot(equiv_history.history['mse'], label='Equiv training', color='green')\n",
    "plt.plot(equiv_history.history['val_mse'], label='Equiv validation', color='green', linestyle='dashed')\n",
    "plt.legend()\n",
    "plt.title(\"MSE History\")\n",
    "ax = plt.gca()\n",
    "ax.set_ylim(bottom=0)"
   ]
  },
  {
   "cell_type": "code",
   "execution_count": 22,
   "id": "21d2a1d5-1494-4dc9-a749-ad21c9282d0f",
   "metadata": {},
   "outputs": [
    {
     "name": "stdout",
     "output_type": "stream",
     "text": [
      "INFO:tensorflow:Assets written to: saved_models/rot_equiv_vs_CNN/inv_model/assets\n",
      "INFO:tensorflow:Assets written to: saved_models/rot_equiv_vs_CNN/equiv_model/assets\n"
     ]
    },
    {
     "name": "stderr",
     "output_type": "stream",
     "text": [
      "WARNING:absl:Found untraced functions such as _jit_compiled_convolution_op, _jit_compiled_convolution_op, _jit_compiled_convolution_op, _jit_compiled_convolution_op, _jit_compiled_convolution_op while saving (showing 5 of 5). These functions will not be directly callable after loading.\n"
     ]
    },
    {
     "name": "stdout",
     "output_type": "stream",
     "text": [
      "INFO:tensorflow:Assets written to: saved_models/rot_equiv_vs_CNN/cnn_model/assets\n"
     ]
    },
    {
     "name": "stderr",
     "output_type": "stream",
     "text": [
      "INFO:tensorflow:Assets written to: saved_models/rot_equiv_vs_CNN/cnn_model/assets\n"
     ]
    }
   ],
   "source": [
    "inv_model.save(\"saved_models/rot_equiv_vs_CNN/inv_model\")\n",
    "equiv_model.save(\"saved_models/rot_equiv_vs_CNN/equiv_model\")\n",
    "cnn_model.save(\"saved_models/rot_equiv_vs_CNN/cnn_model\")"
   ]
  },
  {
   "cell_type": "code",
   "execution_count": 27,
   "id": "65863f20-60d5-474e-96df-7c29eb2d38b8",
   "metadata": {},
   "outputs": [
    {
     "name": "stdout",
     "output_type": "stream",
     "text": [
      "WARNING:tensorflow:Keras is training/fitting/evaluating on array-like data. Keras may not be optimized for this format, so if your input data format is supported by TensorFlow I/O (https://github.com/tensorflow/io) we recommend using that to load a Dataset instead.\n"
     ]
    },
    {
     "name": "stderr",
     "output_type": "stream",
     "text": [
      "WARNING:tensorflow:Keras is training/fitting/evaluating on array-like data. Keras may not be optimized for this format, so if your input data format is supported by TensorFlow I/O (https://github.com/tensorflow/io) we recommend using that to load a Dataset instead.\n"
     ]
    },
    {
     "name": "stdout",
     "output_type": "stream",
     "text": [
      "406/406 [==============================] - 9s 22ms/step - loss: 0.0448 - mse: 0.0448\n"
     ]
    },
    {
     "data": {
      "text/plain": [
       "[0.04483060538768768, 0.04483060538768768]"
      ]
     },
     "execution_count": 27,
     "metadata": {},
     "output_type": "execute_result"
    }
   ],
   "source": [
    "inv_model.evaluate(input_test_norm, output_test_norm)"
   ]
  },
  {
   "cell_type": "code",
   "execution_count": 28,
   "id": "d3f7957c-f558-405a-99a4-49f75a089507",
   "metadata": {},
   "outputs": [
    {
     "name": "stdout",
     "output_type": "stream",
     "text": [
      "WARNING:tensorflow:Keras is training/fitting/evaluating on array-like data. Keras may not be optimized for this format, so if your input data format is supported by TensorFlow I/O (https://github.com/tensorflow/io) we recommend using that to load a Dataset instead.\n"
     ]
    },
    {
     "name": "stderr",
     "output_type": "stream",
     "text": [
      "WARNING:tensorflow:Keras is training/fitting/evaluating on array-like data. Keras may not be optimized for this format, so if your input data format is supported by TensorFlow I/O (https://github.com/tensorflow/io) we recommend using that to load a Dataset instead.\n"
     ]
    },
    {
     "name": "stdout",
     "output_type": "stream",
     "text": [
      "406/406 [==============================] - 9s 22ms/step - loss: 0.0425 - mse: 0.0425\n"
     ]
    },
    {
     "data": {
      "text/plain": [
       "[0.04250704497098923, 0.04250704497098923]"
      ]
     },
     "execution_count": 28,
     "metadata": {},
     "output_type": "execute_result"
    }
   ],
   "source": [
    "equiv_model.evaluate(input_test_norm, output_test_norm)"
   ]
  },
  {
   "cell_type": "code",
   "execution_count": 29,
   "id": "274b503a-a3c0-47df-a8b0-fa01d35a44d9",
   "metadata": {},
   "outputs": [
    {
     "name": "stdout",
     "output_type": "stream",
     "text": [
      "WARNING:tensorflow:Keras is training/fitting/evaluating on array-like data. Keras may not be optimized for this format, so if your input data format is supported by TensorFlow I/O (https://github.com/tensorflow/io) we recommend using that to load a Dataset instead.\n"
     ]
    },
    {
     "name": "stderr",
     "output_type": "stream",
     "text": [
      "WARNING:tensorflow:Keras is training/fitting/evaluating on array-like data. Keras may not be optimized for this format, so if your input data format is supported by TensorFlow I/O (https://github.com/tensorflow/io) we recommend using that to load a Dataset instead.\n"
     ]
    },
    {
     "name": "stdout",
     "output_type": "stream",
     "text": [
      "406/406 [==============================] - 3s 7ms/step - loss: 0.0480 - mse: 0.0480\n"
     ]
    },
    {
     "data": {
      "text/plain": [
       "[0.04802647978067398, 0.04802647978067398]"
      ]
     },
     "execution_count": 29,
     "metadata": {},
     "output_type": "execute_result"
    }
   ],
   "source": [
    "cnn_model.evaluate(input_test_norm, output_test_norm)"
   ]
  },
  {
   "cell_type": "code",
   "execution_count": 31,
   "id": "4643bdae-483c-45e4-bf49-765c37992ab0",
   "metadata": {},
   "outputs": [],
   "source": [
    "inv_latent = tf.keras.Model(inv_model.inputs, inv_model.layers[-2].output)\n",
    "equiv_latent = tf.keras.Model(equiv_model.inputs, equiv_model.layers[-2].output)\n",
    "cnn_latent = tf.keras.Model(cnn_model.inputs, cnn_model.layers[-2].output)"
   ]
  },
  {
   "cell_type": "code",
   "execution_count": 32,
   "id": "7cae06e5-eff4-46fb-bd8f-48c10a8ebd52",
   "metadata": {},
   "outputs": [
    {
     "name": "stdout",
     "output_type": "stream",
     "text": [
      "WARNING:tensorflow:Keras is training/fitting/evaluating on array-like data. Keras may not be optimized for this format, so if your input data format is supported by TensorFlow I/O (https://github.com/tensorflow/io) we recommend using that to load a Dataset instead.\n"
     ]
    },
    {
     "name": "stderr",
     "output_type": "stream",
     "text": [
      "WARNING:tensorflow:Keras is training/fitting/evaluating on array-like data. Keras may not be optimized for this format, so if your input data format is supported by TensorFlow I/O (https://github.com/tensorflow/io) we recommend using that to load a Dataset instead.\n"
     ]
    },
    {
     "name": "stdout",
     "output_type": "stream",
     "text": [
      "406/406 [==============================] - 9s 22ms/step\n",
      "WARNING:tensorflow:Keras is training/fitting/evaluating on array-like data. Keras may not be optimized for this format, so if your input data format is supported by TensorFlow I/O (https://github.com/tensorflow/io) we recommend using that to load a Dataset instead.\n"
     ]
    },
    {
     "name": "stderr",
     "output_type": "stream",
     "text": [
      "WARNING:tensorflow:Keras is training/fitting/evaluating on array-like data. Keras may not be optimized for this format, so if your input data format is supported by TensorFlow I/O (https://github.com/tensorflow/io) we recommend using that to load a Dataset instead.\n"
     ]
    },
    {
     "name": "stdout",
     "output_type": "stream",
     "text": [
      "406/406 [==============================] - 9s 22ms/step\n",
      "WARNING:tensorflow:Keras is training/fitting/evaluating on array-like data. Keras may not be optimized for this format, so if your input data format is supported by TensorFlow I/O (https://github.com/tensorflow/io) we recommend using that to load a Dataset instead.\n"
     ]
    },
    {
     "name": "stderr",
     "output_type": "stream",
     "text": [
      "WARNING:tensorflow:Keras is training/fitting/evaluating on array-like data. Keras may not be optimized for this format, so if your input data format is supported by TensorFlow I/O (https://github.com/tensorflow/io) we recommend using that to load a Dataset instead.\n"
     ]
    },
    {
     "name": "stdout",
     "output_type": "stream",
     "text": [
      "406/406 [==============================] - 3s 6ms/step\n"
     ]
    }
   ],
   "source": [
    "inv_latent_preds = inv_latent.predict(input_test_norm)\n",
    "equiv_latent_preds = equiv_latent.predict(input_test_norm)\n",
    "cnn_latent_preds = cnn_latent.predict(input_test_norm)"
   ]
  },
  {
   "cell_type": "code",
   "execution_count": 35,
   "id": "3d53abb5-016d-4fe9-9699-ba0f5c6393b0",
   "metadata": {},
   "outputs": [
    {
     "data": {
      "text/plain": [
       "array([ 0.       ,  0.       ,  0.       ,  0.       ,  0.       ,\n",
       "        7.1643343,  0.       ,  0.       ,  0.       ,  0.       ,\n",
       "        0.       ,  0.       ,  0.       ,  0.       ,  0.       ,\n",
       "        0.       , 12.191364 ,  0.       ,  0.       ,  0.       ,\n",
       "        0.       ,  0.       ,  0.       ,  0.       ,  0.       ,\n",
       "        8.420709 ,  0.       ,  0.       ,  0.       ,  0.       ,\n",
       "        0.       ,  0.       ], dtype=float32)"
      ]
     },
     "execution_count": 35,
     "metadata": {},
     "output_type": "execute_result"
    }
   ],
   "source": [
    "equiv_latent_preds[0]"
   ]
  },
  {
   "cell_type": "code",
   "execution_count": 42,
   "id": "1cce0c8b-9280-4183-b17b-8aaccefb9633",
   "metadata": {},
   "outputs": [
    {
     "name": "stdout",
     "output_type": "stream",
     "text": [
      "1/1 [==============================] - 0s 18ms/step\n"
     ]
    },
    {
     "data": {
      "text/plain": [
       "array([[ 0.       ,  0.       ,  0.       ,  0.       ,  0.       ,\n",
       "         7.1643353,  0.       ,  0.       ,  0.       ,  0.       ,\n",
       "         0.       ,  0.       ,  0.       ,  0.       ,  0.       ,\n",
       "         0.       , 12.191363 ,  0.       ,  0.       ,  0.       ,\n",
       "         0.       ,  0.       ,  0.       ,  0.       ,  0.       ,\n",
       "         8.420711 ,  0.       ,  0.       ,  0.       ,  0.       ,\n",
       "         0.       ,  0.       ]], dtype=float32)"
      ]
     },
     "execution_count": 42,
     "metadata": {},
     "output_type": "execute_result"
    }
   ],
   "source": [
    "equiv_latent.predict(np.rot90(input_test_norm[0:1, :, :, :], k=4, axes=(1,2)))"
   ]
  },
  {
   "cell_type": "code",
   "execution_count": 44,
   "id": "94668e79-1ec2-4577-8c55-1a04bc25021d",
   "metadata": {},
   "outputs": [
    {
     "data": {
      "text/plain": [
       "array([ 1,  5,  6, 11, 21, 22, 25])"
      ]
     },
     "execution_count": 44,
     "metadata": {},
     "output_type": "execute_result"
    }
   ],
   "source": [
    "np.unique(inv_latent_preds.nonzero()[1])"
   ]
  },
  {
   "cell_type": "code",
   "execution_count": 47,
   "id": "db843be3-54cf-4a53-8e6f-1618b5cd5cf8",
   "metadata": {},
   "outputs": [
    {
     "data": {
      "text/plain": [
       "array([ 0,  5,  6,  8,  9, 11, 12, 13, 14, 15, 16, 17, 18, 19, 20, 21, 22,\n",
       "       23, 25, 26, 27, 28, 30])"
      ]
     },
     "execution_count": 47,
     "metadata": {},
     "output_type": "execute_result"
    }
   ],
   "source": [
    "np.unique(equiv_latent_preds.nonzero()[1])"
   ]
  },
  {
   "cell_type": "code",
   "execution_count": 50,
   "id": "4a9d8817-7663-43a1-a006-56088dbf0764",
   "metadata": {},
   "outputs": [
    {
     "data": {
      "text/plain": [
       "array([ 0,  1,  2,  5,  6, 12, 13, 14, 15, 16, 18, 21, 22, 23, 25, 26, 28,\n",
       "       29, 30])"
      ]
     },
     "execution_count": 50,
     "metadata": {},
     "output_type": "execute_result"
    }
   ],
   "source": [
    "np.unique(cnn_latent_preds.nonzero()[1])"
   ]
  },
  {
   "cell_type": "code",
   "execution_count": 55,
   "id": "d22a1f2c-880b-482a-831f-131b8842982d",
   "metadata": {},
   "outputs": [],
   "source": [
    "inv_un, inv_count = np.unique(inv_latent_preds.nonzero()[0], return_counts=True)\n",
    "equiv_un, equiv_count = np.unique(equiv_latent_preds.nonzero()[0], return_counts=True)\n",
    "cnn_un, cnn_count = np.unique(cnn_latent_preds.nonzero()[0], return_counts=True)"
   ]
  },
  {
   "cell_type": "code",
   "execution_count": 57,
   "id": "822ac3f2-5d0e-42e9-a92f-c85772dbb315",
   "metadata": {},
   "outputs": [
    {
     "name": "stdout",
     "output_type": "stream",
     "text": [
      "2.195610319599538\n",
      "3.3746919285274184\n",
      "4.929072006160955\n"
     ]
    }
   ],
   "source": [
    "print(inv_count.mean())\n",
    "print(equiv_count.mean())\n",
    "print(cnn_count.mean())"
   ]
  },
  {
   "cell_type": "code",
   "execution_count": null,
   "id": "e8691ceb-1ea0-471e-9307-69747576a759",
   "metadata": {},
   "outputs": [],
   "source": []
  }
 ],
 "metadata": {
  "kernelspec": {
   "display_name": "Python [conda env:.conda-storm-mode]",
   "language": "python",
   "name": "conda-env-.conda-storm-mode-py"
  },
  "language_info": {
   "codemirror_mode": {
    "name": "ipython",
    "version": 3
   },
   "file_extension": ".py",
   "mimetype": "text/x-python",
   "name": "python",
   "nbconvert_exporter": "python",
   "pygments_lexer": "ipython3",
   "version": "3.10.4"
  }
 },
 "nbformat": 4,
 "nbformat_minor": 5
}
