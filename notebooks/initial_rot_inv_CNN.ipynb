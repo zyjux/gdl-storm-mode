{
 "cells": [
  {
   "cell_type": "code",
   "execution_count": 1,
   "id": "0742df0e-83c8-48e9-aaf5-39566a8df26d",
   "metadata": {},
   "outputs": [],
   "source": [
    "import tensorflow as tf\n",
    "from glob import glob\n",
    "from os.path import join\n",
    "from tensorflow.keras import layers, models\n",
    "import xarray as xr\n",
    "import pandas as pd\n",
    "import numpy as np\n",
    "import matplotlib.pyplot as plt\n",
    "import imports.GDL_layers as GDL_layers"
   ]
  },
  {
   "cell_type": "code",
   "execution_count": 2,
   "id": "7afe3aee-14b2-40f7-9158-efd870d91ad2",
   "metadata": {},
   "outputs": [],
   "source": [
    "# Find a list of all the datafiles\n",
    "patch_path = \"/glade/scratch/lverhoef/WRF_all/track_data_hrrr_3km_nc_refl/\"\n",
    "patch_files = sorted(glob(join(patch_path, \"*.nc\")))\n",
    "patch_ds = xr.open_dataset(patch_files[0])\n",
    "csv_path = \"/glade/scratch/lverhoef/WRF_all/track_data_hrrr_3km_csv_refl/\"\n",
    "csv_files = sorted(glob(join(csv_path, \"track_step_*.csv\")))\n",
    "meta_ds = pd.read_csv(csv_files[0])"
   ]
  },
  {
   "cell_type": "code",
   "execution_count": 3,
   "id": "92f91904-785f-4e1e-8d82-ba1c2d54a973",
   "metadata": {},
   "outputs": [
    {
     "data": {
      "text/html": [
       "<div><svg style=\"position: absolute; width: 0; height: 0; overflow: hidden\">\n",
       "<defs>\n",
       "<symbol id=\"icon-database\" viewBox=\"0 0 32 32\">\n",
       "<path d=\"M16 0c-8.837 0-16 2.239-16 5v4c0 2.761 7.163 5 16 5s16-2.239 16-5v-4c0-2.761-7.163-5-16-5z\"></path>\n",
       "<path d=\"M16 17c-8.837 0-16-2.239-16-5v6c0 2.761 7.163 5 16 5s16-2.239 16-5v-6c0 2.761-7.163 5-16 5z\"></path>\n",
       "<path d=\"M16 26c-8.837 0-16-2.239-16-5v6c0 2.761 7.163 5 16 5s16-2.239 16-5v-6c0 2.761-7.163 5-16 5z\"></path>\n",
       "</symbol>\n",
       "<symbol id=\"icon-file-text2\" viewBox=\"0 0 32 32\">\n",
       "<path d=\"M28.681 7.159c-0.694-0.947-1.662-2.053-2.724-3.116s-2.169-2.030-3.116-2.724c-1.612-1.182-2.393-1.319-2.841-1.319h-15.5c-1.378 0-2.5 1.121-2.5 2.5v27c0 1.378 1.122 2.5 2.5 2.5h23c1.378 0 2.5-1.122 2.5-2.5v-19.5c0-0.448-0.137-1.23-1.319-2.841zM24.543 5.457c0.959 0.959 1.712 1.825 2.268 2.543h-4.811v-4.811c0.718 0.556 1.584 1.309 2.543 2.268zM28 29.5c0 0.271-0.229 0.5-0.5 0.5h-23c-0.271 0-0.5-0.229-0.5-0.5v-27c0-0.271 0.229-0.5 0.5-0.5 0 0 15.499-0 15.5 0v7c0 0.552 0.448 1 1 1h7v19.5z\"></path>\n",
       "<path d=\"M23 26h-14c-0.552 0-1-0.448-1-1s0.448-1 1-1h14c0.552 0 1 0.448 1 1s-0.448 1-1 1z\"></path>\n",
       "<path d=\"M23 22h-14c-0.552 0-1-0.448-1-1s0.448-1 1-1h14c0.552 0 1 0.448 1 1s-0.448 1-1 1z\"></path>\n",
       "<path d=\"M23 18h-14c-0.552 0-1-0.448-1-1s0.448-1 1-1h14c0.552 0 1 0.448 1 1s-0.448 1-1 1z\"></path>\n",
       "</symbol>\n",
       "</defs>\n",
       "</svg>\n",
       "<style>/* CSS stylesheet for displaying xarray objects in jupyterlab.\n",
       " *\n",
       " */\n",
       "\n",
       ":root {\n",
       "  --xr-font-color0: var(--jp-content-font-color0, rgba(0, 0, 0, 1));\n",
       "  --xr-font-color2: var(--jp-content-font-color2, rgba(0, 0, 0, 0.54));\n",
       "  --xr-font-color3: var(--jp-content-font-color3, rgba(0, 0, 0, 0.38));\n",
       "  --xr-border-color: var(--jp-border-color2, #e0e0e0);\n",
       "  --xr-disabled-color: var(--jp-layout-color3, #bdbdbd);\n",
       "  --xr-background-color: var(--jp-layout-color0, white);\n",
       "  --xr-background-color-row-even: var(--jp-layout-color1, white);\n",
       "  --xr-background-color-row-odd: var(--jp-layout-color2, #eeeeee);\n",
       "}\n",
       "\n",
       "html[theme=dark],\n",
       "body.vscode-dark {\n",
       "  --xr-font-color0: rgba(255, 255, 255, 1);\n",
       "  --xr-font-color2: rgba(255, 255, 255, 0.54);\n",
       "  --xr-font-color3: rgba(255, 255, 255, 0.38);\n",
       "  --xr-border-color: #1F1F1F;\n",
       "  --xr-disabled-color: #515151;\n",
       "  --xr-background-color: #111111;\n",
       "  --xr-background-color-row-even: #111111;\n",
       "  --xr-background-color-row-odd: #313131;\n",
       "}\n",
       "\n",
       ".xr-wrap {\n",
       "  display: block;\n",
       "  min-width: 300px;\n",
       "  max-width: 700px;\n",
       "}\n",
       "\n",
       ".xr-text-repr-fallback {\n",
       "  /* fallback to plain text repr when CSS is not injected (untrusted notebook) */\n",
       "  display: none;\n",
       "}\n",
       "\n",
       ".xr-header {\n",
       "  padding-top: 6px;\n",
       "  padding-bottom: 6px;\n",
       "  margin-bottom: 4px;\n",
       "  border-bottom: solid 1px var(--xr-border-color);\n",
       "}\n",
       "\n",
       ".xr-header > div,\n",
       ".xr-header > ul {\n",
       "  display: inline;\n",
       "  margin-top: 0;\n",
       "  margin-bottom: 0;\n",
       "}\n",
       "\n",
       ".xr-obj-type,\n",
       ".xr-array-name {\n",
       "  margin-left: 2px;\n",
       "  margin-right: 10px;\n",
       "}\n",
       "\n",
       ".xr-obj-type {\n",
       "  color: var(--xr-font-color2);\n",
       "}\n",
       "\n",
       ".xr-sections {\n",
       "  padding-left: 0 !important;\n",
       "  display: grid;\n",
       "  grid-template-columns: 150px auto auto 1fr 20px 20px;\n",
       "}\n",
       "\n",
       ".xr-section-item {\n",
       "  display: contents;\n",
       "}\n",
       "\n",
       ".xr-section-item input {\n",
       "  display: none;\n",
       "}\n",
       "\n",
       ".xr-section-item input + label {\n",
       "  color: var(--xr-disabled-color);\n",
       "}\n",
       "\n",
       ".xr-section-item input:enabled + label {\n",
       "  cursor: pointer;\n",
       "  color: var(--xr-font-color2);\n",
       "}\n",
       "\n",
       ".xr-section-item input:enabled + label:hover {\n",
       "  color: var(--xr-font-color0);\n",
       "}\n",
       "\n",
       ".xr-section-summary {\n",
       "  grid-column: 1;\n",
       "  color: var(--xr-font-color2);\n",
       "  font-weight: 500;\n",
       "}\n",
       "\n",
       ".xr-section-summary > span {\n",
       "  display: inline-block;\n",
       "  padding-left: 0.5em;\n",
       "}\n",
       "\n",
       ".xr-section-summary-in:disabled + label {\n",
       "  color: var(--xr-font-color2);\n",
       "}\n",
       "\n",
       ".xr-section-summary-in + label:before {\n",
       "  display: inline-block;\n",
       "  content: '►';\n",
       "  font-size: 11px;\n",
       "  width: 15px;\n",
       "  text-align: center;\n",
       "}\n",
       "\n",
       ".xr-section-summary-in:disabled + label:before {\n",
       "  color: var(--xr-disabled-color);\n",
       "}\n",
       "\n",
       ".xr-section-summary-in:checked + label:before {\n",
       "  content: '▼';\n",
       "}\n",
       "\n",
       ".xr-section-summary-in:checked + label > span {\n",
       "  display: none;\n",
       "}\n",
       "\n",
       ".xr-section-summary,\n",
       ".xr-section-inline-details {\n",
       "  padding-top: 4px;\n",
       "  padding-bottom: 4px;\n",
       "}\n",
       "\n",
       ".xr-section-inline-details {\n",
       "  grid-column: 2 / -1;\n",
       "}\n",
       "\n",
       ".xr-section-details {\n",
       "  display: none;\n",
       "  grid-column: 1 / -1;\n",
       "  margin-bottom: 5px;\n",
       "}\n",
       "\n",
       ".xr-section-summary-in:checked ~ .xr-section-details {\n",
       "  display: contents;\n",
       "}\n",
       "\n",
       ".xr-array-wrap {\n",
       "  grid-column: 1 / -1;\n",
       "  display: grid;\n",
       "  grid-template-columns: 20px auto;\n",
       "}\n",
       "\n",
       ".xr-array-wrap > label {\n",
       "  grid-column: 1;\n",
       "  vertical-align: top;\n",
       "}\n",
       "\n",
       ".xr-preview {\n",
       "  color: var(--xr-font-color3);\n",
       "}\n",
       "\n",
       ".xr-array-preview,\n",
       ".xr-array-data {\n",
       "  padding: 0 5px !important;\n",
       "  grid-column: 2;\n",
       "}\n",
       "\n",
       ".xr-array-data,\n",
       ".xr-array-in:checked ~ .xr-array-preview {\n",
       "  display: none;\n",
       "}\n",
       "\n",
       ".xr-array-in:checked ~ .xr-array-data,\n",
       ".xr-array-preview {\n",
       "  display: inline-block;\n",
       "}\n",
       "\n",
       ".xr-dim-list {\n",
       "  display: inline-block !important;\n",
       "  list-style: none;\n",
       "  padding: 0 !important;\n",
       "  margin: 0;\n",
       "}\n",
       "\n",
       ".xr-dim-list li {\n",
       "  display: inline-block;\n",
       "  padding: 0;\n",
       "  margin: 0;\n",
       "}\n",
       "\n",
       ".xr-dim-list:before {\n",
       "  content: '(';\n",
       "}\n",
       "\n",
       ".xr-dim-list:after {\n",
       "  content: ')';\n",
       "}\n",
       "\n",
       ".xr-dim-list li:not(:last-child):after {\n",
       "  content: ',';\n",
       "  padding-right: 5px;\n",
       "}\n",
       "\n",
       ".xr-has-index {\n",
       "  font-weight: bold;\n",
       "}\n",
       "\n",
       ".xr-var-list,\n",
       ".xr-var-item {\n",
       "  display: contents;\n",
       "}\n",
       "\n",
       ".xr-var-item > div,\n",
       ".xr-var-item label,\n",
       ".xr-var-item > .xr-var-name span {\n",
       "  background-color: var(--xr-background-color-row-even);\n",
       "  margin-bottom: 0;\n",
       "}\n",
       "\n",
       ".xr-var-item > .xr-var-name:hover span {\n",
       "  padding-right: 5px;\n",
       "}\n",
       "\n",
       ".xr-var-list > li:nth-child(odd) > div,\n",
       ".xr-var-list > li:nth-child(odd) > label,\n",
       ".xr-var-list > li:nth-child(odd) > .xr-var-name span {\n",
       "  background-color: var(--xr-background-color-row-odd);\n",
       "}\n",
       "\n",
       ".xr-var-name {\n",
       "  grid-column: 1;\n",
       "}\n",
       "\n",
       ".xr-var-dims {\n",
       "  grid-column: 2;\n",
       "}\n",
       "\n",
       ".xr-var-dtype {\n",
       "  grid-column: 3;\n",
       "  text-align: right;\n",
       "  color: var(--xr-font-color2);\n",
       "}\n",
       "\n",
       ".xr-var-preview {\n",
       "  grid-column: 4;\n",
       "}\n",
       "\n",
       ".xr-var-name,\n",
       ".xr-var-dims,\n",
       ".xr-var-dtype,\n",
       ".xr-preview,\n",
       ".xr-attrs dt {\n",
       "  white-space: nowrap;\n",
       "  overflow: hidden;\n",
       "  text-overflow: ellipsis;\n",
       "  padding-right: 10px;\n",
       "}\n",
       "\n",
       ".xr-var-name:hover,\n",
       ".xr-var-dims:hover,\n",
       ".xr-var-dtype:hover,\n",
       ".xr-attrs dt:hover {\n",
       "  overflow: visible;\n",
       "  width: auto;\n",
       "  z-index: 1;\n",
       "}\n",
       "\n",
       ".xr-var-attrs,\n",
       ".xr-var-data {\n",
       "  display: none;\n",
       "  background-color: var(--xr-background-color) !important;\n",
       "  padding-bottom: 5px !important;\n",
       "}\n",
       "\n",
       ".xr-var-attrs-in:checked ~ .xr-var-attrs,\n",
       ".xr-var-data-in:checked ~ .xr-var-data {\n",
       "  display: block;\n",
       "}\n",
       "\n",
       ".xr-var-data > table {\n",
       "  float: right;\n",
       "}\n",
       "\n",
       ".xr-var-name span,\n",
       ".xr-var-data,\n",
       ".xr-attrs {\n",
       "  padding-left: 25px !important;\n",
       "}\n",
       "\n",
       ".xr-attrs,\n",
       ".xr-var-attrs,\n",
       ".xr-var-data {\n",
       "  grid-column: 1 / -1;\n",
       "}\n",
       "\n",
       "dl.xr-attrs {\n",
       "  padding: 0;\n",
       "  margin: 0;\n",
       "  display: grid;\n",
       "  grid-template-columns: 125px auto;\n",
       "}\n",
       "\n",
       ".xr-attrs dt,\n",
       ".xr-attrs dd {\n",
       "  padding: 0;\n",
       "  margin: 0;\n",
       "  float: left;\n",
       "  padding-right: 10px;\n",
       "  width: auto;\n",
       "}\n",
       "\n",
       ".xr-attrs dt {\n",
       "  font-weight: normal;\n",
       "  grid-column: 1;\n",
       "}\n",
       "\n",
       ".xr-attrs dt:hover span {\n",
       "  display: inline-block;\n",
       "  background: var(--xr-background-color);\n",
       "  padding-right: 10px;\n",
       "}\n",
       "\n",
       ".xr-attrs dd {\n",
       "  grid-column: 2;\n",
       "  white-space: pre-wrap;\n",
       "  word-break: break-all;\n",
       "}\n",
       "\n",
       ".xr-icon-database,\n",
       ".xr-icon-file-text2 {\n",
       "  display: inline-block;\n",
       "  vertical-align: middle;\n",
       "  width: 1em;\n",
       "  height: 1.5em !important;\n",
       "  stroke-width: 0;\n",
       "  stroke: currentColor;\n",
       "  fill: currentColor;\n",
       "}\n",
       "</style><pre class='xr-text-repr-fallback'>&lt;xarray.Dataset&gt;\n",
       "Dimensions:           (p: 370, row: 144, col: 144)\n",
       "Coordinates:\n",
       "  * p                 (p) int32 0 1 2 3 4 5 6 7 ... 363 364 365 366 367 368 369\n",
       "  * row               (row) int32 0 1 2 3 4 5 6 ... 137 138 139 140 141 142 143\n",
       "  * col               (col) int32 0 1 2 3 4 5 6 ... 137 138 139 140 141 142 143\n",
       "Data variables: (12/26)\n",
       "    lon               (p, row, col) float32 ...\n",
       "    lat               (p, row, col) float32 ...\n",
       "    i                 (p, row, col) int32 ...\n",
       "    j                 (p, row, col) int32 ...\n",
       "    x                 (p, row, col) float32 ...\n",
       "    y                 (p, row, col) float32 ...\n",
       "    ...                ...\n",
       "    MLCAPE_prev       (p, row, col) float32 ...\n",
       "    USHR6_prev        (p, row, col) float32 ...\n",
       "    VSHR6_prev        (p, row, col) float32 ...\n",
       "    SBLCL_prev        (p, row, col) float32 ...\n",
       "    U_BUNK_prev       (p, row, col) float32 ...\n",
       "    V_BUNK_prev       (p, row, col) float32 ...\n",
       "Attributes: (12/36)\n",
       "    Conventions:             CF-1.6\n",
       "    title:                   NCARSTORM Storm Patches for run 20101024-0000 me...\n",
       "    object_variable:         REFL_COM\n",
       "    start_hour:              12\n",
       "    end_hour:                35\n",
       "    HRRR_alt_end_hour:       46\n",
       "    ...                      ...\n",
       "    single_step:             True\n",
       "    label_type:              gamma\n",
       "    model_map_file:          /glade/work/cbecker/hagelslag/mapfiles/ncar_stor...\n",
       "    mask_file:               None\n",
       "    run_date_format:         %Y%m%d-%H%M\n",
       "    json:                    False</pre><div class='xr-wrap' hidden><div class='xr-header'><div class='xr-obj-type'>xarray.Dataset</div></div><ul class='xr-sections'><li class='xr-section-item'><input id='section-609102ce-af9e-4e00-86ce-99749034cb04' class='xr-section-summary-in' type='checkbox' disabled ><label for='section-609102ce-af9e-4e00-86ce-99749034cb04' class='xr-section-summary'  title='Expand/collapse section'>Dimensions:</label><div class='xr-section-inline-details'><ul class='xr-dim-list'><li><span class='xr-has-index'>p</span>: 370</li><li><span class='xr-has-index'>row</span>: 144</li><li><span class='xr-has-index'>col</span>: 144</li></ul></div><div class='xr-section-details'></div></li><li class='xr-section-item'><input id='section-0f27e6a9-bf72-4eac-96df-21ae2679bf87' class='xr-section-summary-in' type='checkbox'  checked><label for='section-0f27e6a9-bf72-4eac-96df-21ae2679bf87' class='xr-section-summary' >Coordinates: <span>(3)</span></label><div class='xr-section-inline-details'></div><div class='xr-section-details'><ul class='xr-var-list'><li class='xr-var-item'><div class='xr-var-name'><span class='xr-has-index'>p</span></div><div class='xr-var-dims'>(p)</div><div class='xr-var-dtype'>int32</div><div class='xr-var-preview xr-preview'>0 1 2 3 4 5 ... 365 366 367 368 369</div><input id='attrs-c59ec1ad-5ea5-48fe-a0d4-5b287fe3acc4' class='xr-var-attrs-in' type='checkbox' disabled><label for='attrs-c59ec1ad-5ea5-48fe-a0d4-5b287fe3acc4' title='Show/Hide attributes'><svg class='icon xr-icon-file-text2'><use xlink:href='#icon-file-text2'></use></svg></label><input id='data-8cb523f1-c2ac-443b-8d9a-b6a818b3164c' class='xr-var-data-in' type='checkbox'><label for='data-8cb523f1-c2ac-443b-8d9a-b6a818b3164c' title='Show/Hide data repr'><svg class='icon xr-icon-database'><use xlink:href='#icon-database'></use></svg></label><div class='xr-var-attrs'><dl class='xr-attrs'></dl></div><div class='xr-var-data'><pre>array([  0,   1,   2, ..., 367, 368, 369], dtype=int32)</pre></div></li><li class='xr-var-item'><div class='xr-var-name'><span class='xr-has-index'>row</span></div><div class='xr-var-dims'>(row)</div><div class='xr-var-dtype'>int32</div><div class='xr-var-preview xr-preview'>0 1 2 3 4 5 ... 139 140 141 142 143</div><input id='attrs-59f5f616-1d87-4269-846e-b7250d3a85f6' class='xr-var-attrs-in' type='checkbox' disabled><label for='attrs-59f5f616-1d87-4269-846e-b7250d3a85f6' title='Show/Hide attributes'><svg class='icon xr-icon-file-text2'><use xlink:href='#icon-file-text2'></use></svg></label><input id='data-1f76a8c7-f84a-452b-a9a2-2b370ef0de1a' class='xr-var-data-in' type='checkbox'><label for='data-1f76a8c7-f84a-452b-a9a2-2b370ef0de1a' title='Show/Hide data repr'><svg class='icon xr-icon-database'><use xlink:href='#icon-database'></use></svg></label><div class='xr-var-attrs'><dl class='xr-attrs'></dl></div><div class='xr-var-data'><pre>array([  0,   1,   2,   3,   4,   5,   6,   7,   8,   9,  10,  11,  12,  13,\n",
       "        14,  15,  16,  17,  18,  19,  20,  21,  22,  23,  24,  25,  26,  27,\n",
       "        28,  29,  30,  31,  32,  33,  34,  35,  36,  37,  38,  39,  40,  41,\n",
       "        42,  43,  44,  45,  46,  47,  48,  49,  50,  51,  52,  53,  54,  55,\n",
       "        56,  57,  58,  59,  60,  61,  62,  63,  64,  65,  66,  67,  68,  69,\n",
       "        70,  71,  72,  73,  74,  75,  76,  77,  78,  79,  80,  81,  82,  83,\n",
       "        84,  85,  86,  87,  88,  89,  90,  91,  92,  93,  94,  95,  96,  97,\n",
       "        98,  99, 100, 101, 102, 103, 104, 105, 106, 107, 108, 109, 110, 111,\n",
       "       112, 113, 114, 115, 116, 117, 118, 119, 120, 121, 122, 123, 124, 125,\n",
       "       126, 127, 128, 129, 130, 131, 132, 133, 134, 135, 136, 137, 138, 139,\n",
       "       140, 141, 142, 143], dtype=int32)</pre></div></li><li class='xr-var-item'><div class='xr-var-name'><span class='xr-has-index'>col</span></div><div class='xr-var-dims'>(col)</div><div class='xr-var-dtype'>int32</div><div class='xr-var-preview xr-preview'>0 1 2 3 4 5 ... 139 140 141 142 143</div><input id='attrs-e2e61393-998e-4e83-913d-52e0706b6202' class='xr-var-attrs-in' type='checkbox' disabled><label for='attrs-e2e61393-998e-4e83-913d-52e0706b6202' title='Show/Hide attributes'><svg class='icon xr-icon-file-text2'><use xlink:href='#icon-file-text2'></use></svg></label><input id='data-9263055f-75b0-41c5-b291-59e081689503' class='xr-var-data-in' type='checkbox'><label for='data-9263055f-75b0-41c5-b291-59e081689503' title='Show/Hide data repr'><svg class='icon xr-icon-database'><use xlink:href='#icon-database'></use></svg></label><div class='xr-var-attrs'><dl class='xr-attrs'></dl></div><div class='xr-var-data'><pre>array([  0,   1,   2,   3,   4,   5,   6,   7,   8,   9,  10,  11,  12,  13,\n",
       "        14,  15,  16,  17,  18,  19,  20,  21,  22,  23,  24,  25,  26,  27,\n",
       "        28,  29,  30,  31,  32,  33,  34,  35,  36,  37,  38,  39,  40,  41,\n",
       "        42,  43,  44,  45,  46,  47,  48,  49,  50,  51,  52,  53,  54,  55,\n",
       "        56,  57,  58,  59,  60,  61,  62,  63,  64,  65,  66,  67,  68,  69,\n",
       "        70,  71,  72,  73,  74,  75,  76,  77,  78,  79,  80,  81,  82,  83,\n",
       "        84,  85,  86,  87,  88,  89,  90,  91,  92,  93,  94,  95,  96,  97,\n",
       "        98,  99, 100, 101, 102, 103, 104, 105, 106, 107, 108, 109, 110, 111,\n",
       "       112, 113, 114, 115, 116, 117, 118, 119, 120, 121, 122, 123, 124, 125,\n",
       "       126, 127, 128, 129, 130, 131, 132, 133, 134, 135, 136, 137, 138, 139,\n",
       "       140, 141, 142, 143], dtype=int32)</pre></div></li></ul></div></li><li class='xr-section-item'><input id='section-f678658e-fafb-4ace-af87-e1625a46fd27' class='xr-section-summary-in' type='checkbox'  ><label for='section-f678658e-fafb-4ace-af87-e1625a46fd27' class='xr-section-summary' >Data variables: <span>(26)</span></label><div class='xr-section-inline-details'></div><div class='xr-section-details'><ul class='xr-var-list'><li class='xr-var-item'><div class='xr-var-name'><span>lon</span></div><div class='xr-var-dims'>(p, row, col)</div><div class='xr-var-dtype'>float32</div><div class='xr-var-preview xr-preview'>...</div><input id='attrs-588aeb62-a216-4665-aa1f-6ea83d956292' class='xr-var-attrs-in' type='checkbox' ><label for='attrs-588aeb62-a216-4665-aa1f-6ea83d956292' title='Show/Hide attributes'><svg class='icon xr-icon-file-text2'><use xlink:href='#icon-file-text2'></use></svg></label><input id='data-c421683e-2e44-45ab-aa5b-0714b5245bc0' class='xr-var-data-in' type='checkbox'><label for='data-c421683e-2e44-45ab-aa5b-0714b5245bc0' title='Show/Hide data repr'><svg class='icon xr-icon-database'><use xlink:href='#icon-database'></use></svg></label><div class='xr-var-attrs'><dl class='xr-attrs'><dt><span>long_name :</span></dt><dd>lon</dd><dt><span>units :</span></dt><dd>degrees_east</dd></dl></div><div class='xr-var-data'><pre>[7672320 values with dtype=float32]</pre></div></li><li class='xr-var-item'><div class='xr-var-name'><span>lat</span></div><div class='xr-var-dims'>(p, row, col)</div><div class='xr-var-dtype'>float32</div><div class='xr-var-preview xr-preview'>...</div><input id='attrs-64aab568-ef7e-4eb0-9b5f-73b4f2661ea2' class='xr-var-attrs-in' type='checkbox' ><label for='attrs-64aab568-ef7e-4eb0-9b5f-73b4f2661ea2' title='Show/Hide attributes'><svg class='icon xr-icon-file-text2'><use xlink:href='#icon-file-text2'></use></svg></label><input id='data-c5564201-aa3b-4416-a3a7-3c83bba3eaf8' class='xr-var-data-in' type='checkbox'><label for='data-c5564201-aa3b-4416-a3a7-3c83bba3eaf8' title='Show/Hide data repr'><svg class='icon xr-icon-database'><use xlink:href='#icon-database'></use></svg></label><div class='xr-var-attrs'><dl class='xr-attrs'><dt><span>long_name :</span></dt><dd>lat</dd><dt><span>units :</span></dt><dd>degrees_north</dd></dl></div><div class='xr-var-data'><pre>[7672320 values with dtype=float32]</pre></div></li><li class='xr-var-item'><div class='xr-var-name'><span>i</span></div><div class='xr-var-dims'>(p, row, col)</div><div class='xr-var-dtype'>int32</div><div class='xr-var-preview xr-preview'>...</div><input id='attrs-3d10a6c4-67d6-43cb-86bd-b0ef3f2e92e3' class='xr-var-attrs-in' type='checkbox' ><label for='attrs-3d10a6c4-67d6-43cb-86bd-b0ef3f2e92e3' title='Show/Hide attributes'><svg class='icon xr-icon-file-text2'><use xlink:href='#icon-file-text2'></use></svg></label><input id='data-7889c97c-182e-419e-8ed6-8479bf2a65e8' class='xr-var-data-in' type='checkbox'><label for='data-7889c97c-182e-419e-8ed6-8479bf2a65e8' title='Show/Hide data repr'><svg class='icon xr-icon-database'><use xlink:href='#icon-database'></use></svg></label><div class='xr-var-attrs'><dl class='xr-attrs'><dt><span>long_name :</span></dt><dd>i</dd><dt><span>units :</span></dt><dd></dd></dl></div><div class='xr-var-data'><pre>[7672320 values with dtype=int32]</pre></div></li><li class='xr-var-item'><div class='xr-var-name'><span>j</span></div><div class='xr-var-dims'>(p, row, col)</div><div class='xr-var-dtype'>int32</div><div class='xr-var-preview xr-preview'>...</div><input id='attrs-159bd236-2063-4557-b63d-7bf3bf64501b' class='xr-var-attrs-in' type='checkbox' ><label for='attrs-159bd236-2063-4557-b63d-7bf3bf64501b' title='Show/Hide attributes'><svg class='icon xr-icon-file-text2'><use xlink:href='#icon-file-text2'></use></svg></label><input id='data-5526babd-4931-4f46-9674-14be5b0ae371' class='xr-var-data-in' type='checkbox'><label for='data-5526babd-4931-4f46-9674-14be5b0ae371' title='Show/Hide data repr'><svg class='icon xr-icon-database'><use xlink:href='#icon-database'></use></svg></label><div class='xr-var-attrs'><dl class='xr-attrs'><dt><span>long_name :</span></dt><dd>j</dd><dt><span>units :</span></dt><dd></dd></dl></div><div class='xr-var-data'><pre>[7672320 values with dtype=int32]</pre></div></li><li class='xr-var-item'><div class='xr-var-name'><span>x</span></div><div class='xr-var-dims'>(p, row, col)</div><div class='xr-var-dtype'>float32</div><div class='xr-var-preview xr-preview'>...</div><input id='attrs-2e8ada59-24f7-48a1-b248-9f7a49394b1b' class='xr-var-attrs-in' type='checkbox' ><label for='attrs-2e8ada59-24f7-48a1-b248-9f7a49394b1b' title='Show/Hide attributes'><svg class='icon xr-icon-file-text2'><use xlink:href='#icon-file-text2'></use></svg></label><input id='data-c911306c-f0b8-4785-aff9-bfb55aade34d' class='xr-var-data-in' type='checkbox'><label for='data-c911306c-f0b8-4785-aff9-bfb55aade34d' title='Show/Hide data repr'><svg class='icon xr-icon-database'><use xlink:href='#icon-database'></use></svg></label><div class='xr-var-attrs'><dl class='xr-attrs'><dt><span>long_name :</span></dt><dd>x</dd><dt><span>units :</span></dt><dd>m</dd></dl></div><div class='xr-var-data'><pre>[7672320 values with dtype=float32]</pre></div></li><li class='xr-var-item'><div class='xr-var-name'><span>y</span></div><div class='xr-var-dims'>(p, row, col)</div><div class='xr-var-dtype'>float32</div><div class='xr-var-preview xr-preview'>...</div><input id='attrs-47c46ece-d16c-42f4-ab78-6b97df1eda47' class='xr-var-attrs-in' type='checkbox' ><label for='attrs-47c46ece-d16c-42f4-ab78-6b97df1eda47' title='Show/Hide attributes'><svg class='icon xr-icon-file-text2'><use xlink:href='#icon-file-text2'></use></svg></label><input id='data-5d3994eb-1a2b-43e2-9a98-0744f5e05e6e' class='xr-var-data-in' type='checkbox'><label for='data-5d3994eb-1a2b-43e2-9a98-0744f5e05e6e' title='Show/Hide data repr'><svg class='icon xr-icon-database'><use xlink:href='#icon-database'></use></svg></label><div class='xr-var-attrs'><dl class='xr-attrs'><dt><span>long_name :</span></dt><dd>y</dd><dt><span>units :</span></dt><dd>m</dd></dl></div><div class='xr-var-data'><pre>[7672320 values with dtype=float32]</pre></div></li><li class='xr-var-item'><div class='xr-var-name'><span>masks</span></div><div class='xr-var-dims'>(p, row, col)</div><div class='xr-var-dtype'>int32</div><div class='xr-var-preview xr-preview'>...</div><input id='attrs-4be76e23-8d53-41ed-8a59-365bbaae91a8' class='xr-var-attrs-in' type='checkbox' ><label for='attrs-4be76e23-8d53-41ed-8a59-365bbaae91a8' title='Show/Hide attributes'><svg class='icon xr-icon-file-text2'><use xlink:href='#icon-file-text2'></use></svg></label><input id='data-44ba82d2-b7d9-4642-a497-ef84e2134a56' class='xr-var-data-in' type='checkbox'><label for='data-44ba82d2-b7d9-4642-a497-ef84e2134a56' title='Show/Hide data repr'><svg class='icon xr-icon-database'><use xlink:href='#icon-database'></use></svg></label><div class='xr-var-attrs'><dl class='xr-attrs'><dt><span>long_name :</span></dt><dd>masks</dd><dt><span>units :</span></dt><dd></dd></dl></div><div class='xr-var-data'><pre>[7672320 values with dtype=int32]</pre></div></li><li class='xr-var-item'><div class='xr-var-name'><span>time</span></div><div class='xr-var-dims'>(p)</div><div class='xr-var-dtype'>datetime64[ns]</div><div class='xr-var-preview xr-preview'>...</div><input id='attrs-0a1ce536-64df-4051-acd7-ae7bca2c7765' class='xr-var-attrs-in' type='checkbox' ><label for='attrs-0a1ce536-64df-4051-acd7-ae7bca2c7765' title='Show/Hide attributes'><svg class='icon xr-icon-file-text2'><use xlink:href='#icon-file-text2'></use></svg></label><input id='data-f299450b-c536-446b-8c33-2f2a8cff4fcb' class='xr-var-data-in' type='checkbox'><label for='data-f299450b-c536-446b-8c33-2f2a8cff4fcb' title='Show/Hide data repr'><svg class='icon xr-icon-database'><use xlink:href='#icon-database'></use></svg></label><div class='xr-var-attrs'><dl class='xr-attrs'><dt><span>long_name :</span></dt><dd>time</dd></dl></div><div class='xr-var-data'><pre>array([&#x27;2010-10-24T12:00:00.000000000&#x27;, &#x27;2010-10-24T13:00:00.000000000&#x27;,\n",
       "       &#x27;2010-10-24T12:00:00.000000000&#x27;, ..., &#x27;2010-10-25T11:00:00.000000000&#x27;,\n",
       "       &#x27;2010-10-25T11:00:00.000000000&#x27;, &#x27;2010-10-25T11:00:00.000000000&#x27;],\n",
       "      dtype=&#x27;datetime64[ns]&#x27;)</pre></div></li><li class='xr-var-item'><div class='xr-var-name'><span>centroid_lon</span></div><div class='xr-var-dims'>(p)</div><div class='xr-var-dtype'>float32</div><div class='xr-var-preview xr-preview'>...</div><input id='attrs-4bb7e67c-8b51-4fba-abda-e737b6a3a2f4' class='xr-var-attrs-in' type='checkbox' ><label for='attrs-4bb7e67c-8b51-4fba-abda-e737b6a3a2f4' title='Show/Hide attributes'><svg class='icon xr-icon-file-text2'><use xlink:href='#icon-file-text2'></use></svg></label><input id='data-0a129172-b93c-4cd7-909c-4321a36c029f' class='xr-var-data-in' type='checkbox'><label for='data-0a129172-b93c-4cd7-909c-4321a36c029f' title='Show/Hide data repr'><svg class='icon xr-icon-database'><use xlink:href='#icon-database'></use></svg></label><div class='xr-var-attrs'><dl class='xr-attrs'><dt><span>long_name :</span></dt><dd>centroid_lon</dd><dt><span>units :</span></dt><dd>degrees_east</dd></dl></div><div class='xr-var-data'><pre>array([-98.410194, -97.69198 , -95.15486 , ..., -88.18374 , -82.50549 ,\n",
       "       -81.38741 ], dtype=float32)</pre></div></li><li class='xr-var-item'><div class='xr-var-name'><span>centroid_lat</span></div><div class='xr-var-dims'>(p)</div><div class='xr-var-dtype'>float32</div><div class='xr-var-preview xr-preview'>...</div><input id='attrs-fc27aa9a-44e6-4bba-b6e8-4de985217cbd' class='xr-var-attrs-in' type='checkbox' ><label for='attrs-fc27aa9a-44e6-4bba-b6e8-4de985217cbd' title='Show/Hide attributes'><svg class='icon xr-icon-file-text2'><use xlink:href='#icon-file-text2'></use></svg></label><input id='data-2d323d9d-91b3-475b-8a32-678bb4442b00' class='xr-var-data-in' type='checkbox'><label for='data-2d323d9d-91b3-475b-8a32-678bb4442b00' title='Show/Hide data repr'><svg class='icon xr-icon-database'><use xlink:href='#icon-database'></use></svg></label><div class='xr-var-attrs'><dl class='xr-attrs'><dt><span>long_name :</span></dt><dd>centroid_lat</dd><dt><span>units :</span></dt><dd>degrees_north</dd></dl></div><div class='xr-var-data'><pre>array([42.940327, 43.090134, 44.222034, ..., 39.369667, 38.614746, 46.239307],\n",
       "      dtype=float32)</pre></div></li><li class='xr-var-item'><div class='xr-var-name'><span>centroid_i</span></div><div class='xr-var-dims'>(p)</div><div class='xr-var-dtype'>float32</div><div class='xr-var-preview xr-preview'>...</div><input id='attrs-2ff2a295-5d37-4093-9caa-fbab8eeff4bd' class='xr-var-attrs-in' type='checkbox' ><label for='attrs-2ff2a295-5d37-4093-9caa-fbab8eeff4bd' title='Show/Hide attributes'><svg class='icon xr-icon-file-text2'><use xlink:href='#icon-file-text2'></use></svg></label><input id='data-df4a9ba5-ac56-4b05-89dd-42d9f535a29d' class='xr-var-data-in' type='checkbox'><label for='data-df4a9ba5-ac56-4b05-89dd-42d9f535a29d' title='Show/Hide data repr'><svg class='icon xr-icon-database'><use xlink:href='#icon-database'></use></svg></label><div class='xr-var-attrs'><dl class='xr-attrs'><dt><span>long_name :</span></dt><dd>centroid_i</dd><dt><span>units :</span></dt><dd></dd></dl></div><div class='xr-var-data'><pre>array([661., 667., 712., ..., 554., 554., 836.], dtype=float32)</pre></div></li><li class='xr-var-item'><div class='xr-var-name'><span>centroid_j</span></div><div class='xr-var-dims'>(p)</div><div class='xr-var-dtype'>float32</div><div class='xr-var-preview xr-preview'>...</div><input id='attrs-78b3b527-7240-4514-86b6-c5c2b00d60ce' class='xr-var-attrs-in' type='checkbox' ><label for='attrs-78b3b527-7240-4514-86b6-c5c2b00d60ce' title='Show/Hide attributes'><svg class='icon xr-icon-file-text2'><use xlink:href='#icon-file-text2'></use></svg></label><input id='data-7f289d40-7167-48c4-bb83-b389963434ba' class='xr-var-data-in' type='checkbox'><label for='data-7f289d40-7167-48c4-bb83-b389963434ba' title='Show/Hide data repr'><svg class='icon xr-icon-database'><use xlink:href='#icon-database'></use></svg></label><div class='xr-var-attrs'><dl class='xr-attrs'><dt><span>long_name :</span></dt><dd>centroid_j</dd><dt><span>units :</span></dt><dd></dd></dl></div><div class='xr-var-data'><pre>array([ 759.,  779.,  844., ..., 1053., 1217., 1189.], dtype=float32)</pre></div></li><li class='xr-var-item'><div class='xr-var-name'><span>track_id</span></div><div class='xr-var-dims'>(p)</div><div class='xr-var-dtype'>int32</div><div class='xr-var-preview xr-preview'>...</div><input id='attrs-27220261-2cb5-4728-ac9f-5a43fe565865' class='xr-var-attrs-in' type='checkbox' ><label for='attrs-27220261-2cb5-4728-ac9f-5a43fe565865' title='Show/Hide attributes'><svg class='icon xr-icon-file-text2'><use xlink:href='#icon-file-text2'></use></svg></label><input id='data-d013420f-70a0-4baa-b658-c1c39865a49b' class='xr-var-data-in' type='checkbox'><label for='data-d013420f-70a0-4baa-b658-c1c39865a49b' title='Show/Hide data repr'><svg class='icon xr-icon-database'><use xlink:href='#icon-database'></use></svg></label><div class='xr-var-attrs'><dl class='xr-attrs'><dt><span>long_name :</span></dt><dd>track_id</dd><dt><span>units :</span></dt><dd></dd></dl></div><div class='xr-var-data'><pre>array([  0,   0,   1, ..., 240, 241, 242], dtype=int32)</pre></div></li><li class='xr-var-item'><div class='xr-var-name'><span>track_step</span></div><div class='xr-var-dims'>(p)</div><div class='xr-var-dtype'>int32</div><div class='xr-var-preview xr-preview'>...</div><input id='attrs-d914477f-adb2-4e92-9731-12bc146cd2fb' class='xr-var-attrs-in' type='checkbox' ><label for='attrs-d914477f-adb2-4e92-9731-12bc146cd2fb' title='Show/Hide attributes'><svg class='icon xr-icon-file-text2'><use xlink:href='#icon-file-text2'></use></svg></label><input id='data-9d8894b5-91ac-4655-b896-a93e4577f386' class='xr-var-data-in' type='checkbox'><label for='data-9d8894b5-91ac-4655-b896-a93e4577f386' title='Show/Hide data repr'><svg class='icon xr-icon-database'><use xlink:href='#icon-database'></use></svg></label><div class='xr-var-attrs'><dl class='xr-attrs'><dt><span>long_name :</span></dt><dd>track_step</dd><dt><span>units :</span></dt><dd></dd></dl></div><div class='xr-var-data'><pre>array([1, 2, 1, ..., 1, 1, 1], dtype=int32)</pre></div></li><li class='xr-var-item'><div class='xr-var-name'><span>REFL_COM_curr</span></div><div class='xr-var-dims'>(p, row, col)</div><div class='xr-var-dtype'>float32</div><div class='xr-var-preview xr-preview'>...</div><input id='attrs-e0e3b375-6824-47b6-ab3d-87eba3953528' class='xr-var-attrs-in' type='checkbox' ><label for='attrs-e0e3b375-6824-47b6-ab3d-87eba3953528' title='Show/Hide attributes'><svg class='icon xr-icon-file-text2'><use xlink:href='#icon-file-text2'></use></svg></label><input id='data-c0c56e6d-e23a-447d-9013-3c908822f2a0' class='xr-var-data-in' type='checkbox'><label for='data-c0c56e6d-e23a-447d-9013-3c908822f2a0' title='Show/Hide data repr'><svg class='icon xr-icon-database'><use xlink:href='#icon-database'></use></svg></label><div class='xr-var-attrs'><dl class='xr-attrs'><dt><span>long_name :</span></dt><dd>REFL_COM</dd><dt><span>units :</span></dt><dd></dd></dl></div><div class='xr-var-data'><pre>[7672320 values with dtype=float32]</pre></div></li><li class='xr-var-item'><div class='xr-var-name'><span>UP_HELI_MAX_curr</span></div><div class='xr-var-dims'>(p, row, col)</div><div class='xr-var-dtype'>float32</div><div class='xr-var-preview xr-preview'>...</div><input id='attrs-0aa64c85-ebdb-434a-83b4-7366328f8f0b' class='xr-var-attrs-in' type='checkbox' ><label for='attrs-0aa64c85-ebdb-434a-83b4-7366328f8f0b' title='Show/Hide attributes'><svg class='icon xr-icon-file-text2'><use xlink:href='#icon-file-text2'></use></svg></label><input id='data-fe842eb2-6c66-4672-81f8-00062d6a3977' class='xr-var-data-in' type='checkbox'><label for='data-fe842eb2-6c66-4672-81f8-00062d6a3977' title='Show/Hide data repr'><svg class='icon xr-icon-database'><use xlink:href='#icon-database'></use></svg></label><div class='xr-var-attrs'><dl class='xr-attrs'><dt><span>long_name :</span></dt><dd>UP_HELI_MAX</dd><dt><span>units :</span></dt><dd></dd></dl></div><div class='xr-var-data'><pre>[7672320 values with dtype=float32]</pre></div></li><li class='xr-var-item'><div class='xr-var-name'><span>U10_curr</span></div><div class='xr-var-dims'>(p, row, col)</div><div class='xr-var-dtype'>float32</div><div class='xr-var-preview xr-preview'>...</div><input id='attrs-a0869720-31e7-439d-b89a-d8f0eb5d72be' class='xr-var-attrs-in' type='checkbox' ><label for='attrs-a0869720-31e7-439d-b89a-d8f0eb5d72be' title='Show/Hide attributes'><svg class='icon xr-icon-file-text2'><use xlink:href='#icon-file-text2'></use></svg></label><input id='data-2d687f5c-3194-4880-ba08-c9bdab091240' class='xr-var-data-in' type='checkbox'><label for='data-2d687f5c-3194-4880-ba08-c9bdab091240' title='Show/Hide data repr'><svg class='icon xr-icon-database'><use xlink:href='#icon-database'></use></svg></label><div class='xr-var-attrs'><dl class='xr-attrs'><dt><span>long_name :</span></dt><dd>U10</dd><dt><span>units :</span></dt><dd></dd></dl></div><div class='xr-var-data'><pre>[7672320 values with dtype=float32]</pre></div></li><li class='xr-var-item'><div class='xr-var-name'><span>V10_curr</span></div><div class='xr-var-dims'>(p, row, col)</div><div class='xr-var-dtype'>float32</div><div class='xr-var-preview xr-preview'>...</div><input id='attrs-c09f94a1-70c0-4cd8-b9de-7e4940245f5d' class='xr-var-attrs-in' type='checkbox' ><label for='attrs-c09f94a1-70c0-4cd8-b9de-7e4940245f5d' title='Show/Hide attributes'><svg class='icon xr-icon-file-text2'><use xlink:href='#icon-file-text2'></use></svg></label><input id='data-0f254b9d-fdfd-4e0d-9d4f-d9891d2389e4' class='xr-var-data-in' type='checkbox'><label for='data-0f254b9d-fdfd-4e0d-9d4f-d9891d2389e4' title='Show/Hide data repr'><svg class='icon xr-icon-database'><use xlink:href='#icon-database'></use></svg></label><div class='xr-var-attrs'><dl class='xr-attrs'><dt><span>long_name :</span></dt><dd>V10</dd><dt><span>units :</span></dt><dd></dd></dl></div><div class='xr-var-data'><pre>[7672320 values with dtype=float32]</pre></div></li><li class='xr-var-item'><div class='xr-var-name'><span>GRPL_MAX_curr</span></div><div class='xr-var-dims'>(p, row, col)</div><div class='xr-var-dtype'>float32</div><div class='xr-var-preview xr-preview'>...</div><input id='attrs-0d47301f-2c63-43df-a74e-c399a19f2f2a' class='xr-var-attrs-in' type='checkbox' ><label for='attrs-0d47301f-2c63-43df-a74e-c399a19f2f2a' title='Show/Hide attributes'><svg class='icon xr-icon-file-text2'><use xlink:href='#icon-file-text2'></use></svg></label><input id='data-64e2a219-7a03-4ca6-8a7f-f73c127d3d6d' class='xr-var-data-in' type='checkbox'><label for='data-64e2a219-7a03-4ca6-8a7f-f73c127d3d6d' title='Show/Hide data repr'><svg class='icon xr-icon-database'><use xlink:href='#icon-database'></use></svg></label><div class='xr-var-attrs'><dl class='xr-attrs'><dt><span>long_name :</span></dt><dd>GRPL_MAX</dd><dt><span>units :</span></dt><dd></dd></dl></div><div class='xr-var-data'><pre>[7672320 values with dtype=float32]</pre></div></li><li class='xr-var-item'><div class='xr-var-name'><span>W_UP_MAX_curr</span></div><div class='xr-var-dims'>(p, row, col)</div><div class='xr-var-dtype'>float32</div><div class='xr-var-preview xr-preview'>...</div><input id='attrs-e2613d83-d86f-4a35-aaf0-86570b322355' class='xr-var-attrs-in' type='checkbox' ><label for='attrs-e2613d83-d86f-4a35-aaf0-86570b322355' title='Show/Hide attributes'><svg class='icon xr-icon-file-text2'><use xlink:href='#icon-file-text2'></use></svg></label><input id='data-0b5fa0a1-9f23-456b-a0d0-90f7175c2098' class='xr-var-data-in' type='checkbox'><label for='data-0b5fa0a1-9f23-456b-a0d0-90f7175c2098' title='Show/Hide data repr'><svg class='icon xr-icon-database'><use xlink:href='#icon-database'></use></svg></label><div class='xr-var-attrs'><dl class='xr-attrs'><dt><span>long_name :</span></dt><dd>W_UP_MAX</dd><dt><span>units :</span></dt><dd></dd></dl></div><div class='xr-var-data'><pre>[7672320 values with dtype=float32]</pre></div></li><li class='xr-var-item'><div class='xr-var-name'><span>MLCAPE_prev</span></div><div class='xr-var-dims'>(p, row, col)</div><div class='xr-var-dtype'>float32</div><div class='xr-var-preview xr-preview'>...</div><input id='attrs-5dc9a53c-e73c-4093-90f8-c9e4f6628596' class='xr-var-attrs-in' type='checkbox' ><label for='attrs-5dc9a53c-e73c-4093-90f8-c9e4f6628596' title='Show/Hide attributes'><svg class='icon xr-icon-file-text2'><use xlink:href='#icon-file-text2'></use></svg></label><input id='data-253b8c75-e4f3-4c79-be79-1a5338e6b12b' class='xr-var-data-in' type='checkbox'><label for='data-253b8c75-e4f3-4c79-be79-1a5338e6b12b' title='Show/Hide data repr'><svg class='icon xr-icon-database'><use xlink:href='#icon-database'></use></svg></label><div class='xr-var-attrs'><dl class='xr-attrs'><dt><span>long_name :</span></dt><dd>MLCAPE</dd><dt><span>units :</span></dt><dd></dd></dl></div><div class='xr-var-data'><pre>[7672320 values with dtype=float32]</pre></div></li><li class='xr-var-item'><div class='xr-var-name'><span>USHR6_prev</span></div><div class='xr-var-dims'>(p, row, col)</div><div class='xr-var-dtype'>float32</div><div class='xr-var-preview xr-preview'>...</div><input id='attrs-779c978a-242c-4fe5-a218-9165072d6392' class='xr-var-attrs-in' type='checkbox' ><label for='attrs-779c978a-242c-4fe5-a218-9165072d6392' title='Show/Hide attributes'><svg class='icon xr-icon-file-text2'><use xlink:href='#icon-file-text2'></use></svg></label><input id='data-8f9015d9-062c-4bc3-bb94-6459f03f2b24' class='xr-var-data-in' type='checkbox'><label for='data-8f9015d9-062c-4bc3-bb94-6459f03f2b24' title='Show/Hide data repr'><svg class='icon xr-icon-database'><use xlink:href='#icon-database'></use></svg></label><div class='xr-var-attrs'><dl class='xr-attrs'><dt><span>long_name :</span></dt><dd>USHR6</dd><dt><span>units :</span></dt><dd></dd></dl></div><div class='xr-var-data'><pre>[7672320 values with dtype=float32]</pre></div></li><li class='xr-var-item'><div class='xr-var-name'><span>VSHR6_prev</span></div><div class='xr-var-dims'>(p, row, col)</div><div class='xr-var-dtype'>float32</div><div class='xr-var-preview xr-preview'>...</div><input id='attrs-1ee71817-e3e5-427b-9c1a-16184b7d5104' class='xr-var-attrs-in' type='checkbox' ><label for='attrs-1ee71817-e3e5-427b-9c1a-16184b7d5104' title='Show/Hide attributes'><svg class='icon xr-icon-file-text2'><use xlink:href='#icon-file-text2'></use></svg></label><input id='data-6f00c4a7-89e9-4f1d-8030-401021cd0c8a' class='xr-var-data-in' type='checkbox'><label for='data-6f00c4a7-89e9-4f1d-8030-401021cd0c8a' title='Show/Hide data repr'><svg class='icon xr-icon-database'><use xlink:href='#icon-database'></use></svg></label><div class='xr-var-attrs'><dl class='xr-attrs'><dt><span>long_name :</span></dt><dd>VSHR6</dd><dt><span>units :</span></dt><dd></dd></dl></div><div class='xr-var-data'><pre>[7672320 values with dtype=float32]</pre></div></li><li class='xr-var-item'><div class='xr-var-name'><span>SBLCL_prev</span></div><div class='xr-var-dims'>(p, row, col)</div><div class='xr-var-dtype'>float32</div><div class='xr-var-preview xr-preview'>...</div><input id='attrs-51a23a2f-27ba-4cbe-b320-845f18024aa8' class='xr-var-attrs-in' type='checkbox' ><label for='attrs-51a23a2f-27ba-4cbe-b320-845f18024aa8' title='Show/Hide attributes'><svg class='icon xr-icon-file-text2'><use xlink:href='#icon-file-text2'></use></svg></label><input id='data-2ccb1506-f249-45c6-99d9-de2a5fb3736e' class='xr-var-data-in' type='checkbox'><label for='data-2ccb1506-f249-45c6-99d9-de2a5fb3736e' title='Show/Hide data repr'><svg class='icon xr-icon-database'><use xlink:href='#icon-database'></use></svg></label><div class='xr-var-attrs'><dl class='xr-attrs'><dt><span>long_name :</span></dt><dd>SBLCL</dd><dt><span>units :</span></dt><dd></dd></dl></div><div class='xr-var-data'><pre>[7672320 values with dtype=float32]</pre></div></li><li class='xr-var-item'><div class='xr-var-name'><span>U_BUNK_prev</span></div><div class='xr-var-dims'>(p, row, col)</div><div class='xr-var-dtype'>float32</div><div class='xr-var-preview xr-preview'>...</div><input id='attrs-bc08771f-df8e-4dc8-ba30-9f843176baee' class='xr-var-attrs-in' type='checkbox' ><label for='attrs-bc08771f-df8e-4dc8-ba30-9f843176baee' title='Show/Hide attributes'><svg class='icon xr-icon-file-text2'><use xlink:href='#icon-file-text2'></use></svg></label><input id='data-32851e9f-8da8-4b69-b9ae-f5204ea5c19b' class='xr-var-data-in' type='checkbox'><label for='data-32851e9f-8da8-4b69-b9ae-f5204ea5c19b' title='Show/Hide data repr'><svg class='icon xr-icon-database'><use xlink:href='#icon-database'></use></svg></label><div class='xr-var-attrs'><dl class='xr-attrs'><dt><span>long_name :</span></dt><dd>U_BUNK</dd><dt><span>units :</span></dt><dd></dd></dl></div><div class='xr-var-data'><pre>[7672320 values with dtype=float32]</pre></div></li><li class='xr-var-item'><div class='xr-var-name'><span>V_BUNK_prev</span></div><div class='xr-var-dims'>(p, row, col)</div><div class='xr-var-dtype'>float32</div><div class='xr-var-preview xr-preview'>...</div><input id='attrs-6b59a562-c965-4754-b26f-08c769ef2f7c' class='xr-var-attrs-in' type='checkbox' ><label for='attrs-6b59a562-c965-4754-b26f-08c769ef2f7c' title='Show/Hide attributes'><svg class='icon xr-icon-file-text2'><use xlink:href='#icon-file-text2'></use></svg></label><input id='data-b1c7afdf-55c0-4273-bd25-746a905344a5' class='xr-var-data-in' type='checkbox'><label for='data-b1c7afdf-55c0-4273-bd25-746a905344a5' title='Show/Hide data repr'><svg class='icon xr-icon-database'><use xlink:href='#icon-database'></use></svg></label><div class='xr-var-attrs'><dl class='xr-attrs'><dt><span>long_name :</span></dt><dd>V_BUNK</dd><dt><span>units :</span></dt><dd></dd></dl></div><div class='xr-var-data'><pre>[7672320 values with dtype=float32]</pre></div></li></ul></div></li><li class='xr-section-item'><input id='section-3b4e492d-19b6-4abf-a168-078c03cfa7a9' class='xr-section-summary-in' type='checkbox'  ><label for='section-3b4e492d-19b6-4abf-a168-078c03cfa7a9' class='xr-section-summary' >Attributes: <span>(36)</span></label><div class='xr-section-inline-details'></div><div class='xr-section-details'><dl class='xr-attrs'><dt><span>Conventions :</span></dt><dd>CF-1.6</dd><dt><span>title :</span></dt><dd>NCARSTORM Storm Patches for run 20101024-0000 member d01</dd><dt><span>object_variable :</span></dt><dd>REFL_COM</dd><dt><span>start_hour :</span></dt><dd>12</dd><dt><span>end_hour :</span></dt><dd>35</dd><dt><span>HRRR_alt_end_hour :</span></dt><dd>46</dd><dt><span>HRRR_alt_run_hours :</span></dt><dd>[0, 6, 12, 18]</dd><dt><span>watershed_variable :</span></dt><dd>REFL_COM</dd><dt><span>ensemble_name :</span></dt><dd>NCARSTORM</dd><dt><span>ensemble_members :</span></dt><dd>[&#x27;d01&#x27;]</dd><dt><span>model_path :</span></dt><dd>/glade/p/mmm/parc/sobash/NSC/3KM_WRF_POST_12sec_ts/</dd><dt><span>segmentation_approach :</span></dt><dd>hyst</dd><dt><span>model_watershed_params :</span></dt><dd>(35, 50)</dd><dt><span>size_filter :</span></dt><dd>12</dd><dt><span>gaussian_window :</span></dt><dd>1</dd><dt><span>mrms_path :</span></dt><dd>None</dd><dt><span>mrms_variable :</span></dt><dd>MESH_Max_60min_00.50</dd><dt><span>mrms_watershed_params :</span></dt><dd>(13, 1, 125, 100, 100)</dd><dt><span>object_matcher_params :</span></dt><dd>([&lt;function shifted_centroid_distance at 0x2af790d8d790&gt;], array([1.]), array([24000]))</dd><dt><span>track_matcher_params :</span></dt><dd>([&lt;function centroid_distance at 0x2af790d820d0&gt;, &lt;function time_distance at 0x2af790d8d700&gt;], array([80000,     2]))</dd><dt><span>shape_variables :</span></dt><dd>[&#x27;area&#x27;, &#x27;eccentricity&#x27;, &#x27;major_axis_length&#x27;, &#x27;minor_axis_length&#x27;, &#x27;orientation&#x27;]</dd><dt><span>variable_statistics :</span></dt><dd>[&#x27;mean&#x27;, &#x27;max&#x27;, &#x27;min&#x27;]</dd><dt><span>csv_path :</span></dt><dd>/glade/work/cbecker/WRF_all/track_data_hrrr_3km_csv_refl/</dd><dt><span>geojson_path :</span></dt><dd>/glade/work/cbecker/WRF_all/track_data_hrrr_3km_json_refl/</dd><dt><span>nc_path :</span></dt><dd>/glade/work/cbecker/WRF_all/track_data_hrrr_3km_nc_refl/</dd><dt><span>patch_radius :</span></dt><dd>72</dd><dt><span>unique_matches :</span></dt><dd>True</dd><dt><span>closest_matches :</span></dt><dd>True</dd><dt><span>match_steps :</span></dt><dd>True</dd><dt><span>train :</span></dt><dd>False</dd><dt><span>single_step :</span></dt><dd>True</dd><dt><span>label_type :</span></dt><dd>gamma</dd><dt><span>model_map_file :</span></dt><dd>/glade/work/cbecker/hagelslag/mapfiles/ncar_storm_map_3km.txt</dd><dt><span>mask_file :</span></dt><dd>None</dd><dt><span>run_date_format :</span></dt><dd>%Y%m%d-%H%M</dd><dt><span>json :</span></dt><dd>False</dd></dl></div></li></ul></div></div>"
      ],
      "text/plain": [
       "<xarray.Dataset>\n",
       "Dimensions:           (p: 370, row: 144, col: 144)\n",
       "Coordinates:\n",
       "  * p                 (p) int32 0 1 2 3 4 5 6 7 ... 363 364 365 366 367 368 369\n",
       "  * row               (row) int32 0 1 2 3 4 5 6 ... 137 138 139 140 141 142 143\n",
       "  * col               (col) int32 0 1 2 3 4 5 6 ... 137 138 139 140 141 142 143\n",
       "Data variables: (12/26)\n",
       "    lon               (p, row, col) float32 ...\n",
       "    lat               (p, row, col) float32 ...\n",
       "    i                 (p, row, col) int32 ...\n",
       "    j                 (p, row, col) int32 ...\n",
       "    x                 (p, row, col) float32 ...\n",
       "    y                 (p, row, col) float32 ...\n",
       "    ...                ...\n",
       "    MLCAPE_prev       (p, row, col) float32 ...\n",
       "    USHR6_prev        (p, row, col) float32 ...\n",
       "    VSHR6_prev        (p, row, col) float32 ...\n",
       "    SBLCL_prev        (p, row, col) float32 ...\n",
       "    U_BUNK_prev       (p, row, col) float32 ...\n",
       "    V_BUNK_prev       (p, row, col) float32 ...\n",
       "Attributes: (12/36)\n",
       "    Conventions:             CF-1.6\n",
       "    title:                   NCARSTORM Storm Patches for run 20101024-0000 me...\n",
       "    object_variable:         REFL_COM\n",
       "    start_hour:              12\n",
       "    end_hour:                35\n",
       "    HRRR_alt_end_hour:       46\n",
       "    ...                      ...\n",
       "    single_step:             True\n",
       "    label_type:              gamma\n",
       "    model_map_file:          /glade/work/cbecker/hagelslag/mapfiles/ncar_stor...\n",
       "    mask_file:               None\n",
       "    run_date_format:         %Y%m%d-%H%M\n",
       "    json:                    False"
      ]
     },
     "execution_count": 3,
     "metadata": {},
     "output_type": "execute_result"
    }
   ],
   "source": [
    "patch_ds"
   ]
  },
  {
   "cell_type": "code",
   "execution_count": 4,
   "id": "6d0f35ca-a2d6-4879-a4e9-f586b085c8a8",
   "metadata": {},
   "outputs": [
    {
     "data": {
      "text/html": [
       "<div>\n",
       "<style scoped>\n",
       "    .dataframe tbody tr th:only-of-type {\n",
       "        vertical-align: middle;\n",
       "    }\n",
       "\n",
       "    .dataframe tbody tr th {\n",
       "        vertical-align: top;\n",
       "    }\n",
       "\n",
       "    .dataframe thead th {\n",
       "        text-align: right;\n",
       "    }\n",
       "</style>\n",
       "<table border=\"1\" class=\"dataframe\">\n",
       "  <thead>\n",
       "    <tr style=\"text-align: right;\">\n",
       "      <th></th>\n",
       "      <th>Step_ID</th>\n",
       "      <th>Track_ID</th>\n",
       "      <th>Ensemble_Name</th>\n",
       "      <th>Ensemble_Member</th>\n",
       "      <th>Run_Date</th>\n",
       "      <th>Valid_Date</th>\n",
       "      <th>Forecast_Hour</th>\n",
       "      <th>Valid_Hour_UTC</th>\n",
       "      <th>Duration</th>\n",
       "      <th>Centroid_Lon</th>\n",
       "      <th>...</th>\n",
       "      <th>eccentricity</th>\n",
       "      <th>major_axis_length</th>\n",
       "      <th>minor_axis_length</th>\n",
       "      <th>orientation</th>\n",
       "      <th>Matched</th>\n",
       "      <th>Max_Hail_Size</th>\n",
       "      <th>Num_Matches</th>\n",
       "      <th>Shape</th>\n",
       "      <th>Location</th>\n",
       "      <th>Scale</th>\n",
       "    </tr>\n",
       "  </thead>\n",
       "  <tbody>\n",
       "    <tr>\n",
       "      <th>0</th>\n",
       "      <td>d01_REFL_COM_20101024-0000_12_13_000_00</td>\n",
       "      <td>d01_REFL_COM_20101024-0000_12_13_000</td>\n",
       "      <td>NCARSTORM</td>\n",
       "      <td>d01</td>\n",
       "      <td>2010-10-24 00:00:00+00:00</td>\n",
       "      <td>2010-10-24 12:00:00+00:00</td>\n",
       "      <td>12</td>\n",
       "      <td>12</td>\n",
       "      <td>1</td>\n",
       "      <td>-98.41019</td>\n",
       "      <td>...</td>\n",
       "      <td>0.90735</td>\n",
       "      <td>51.23550</td>\n",
       "      <td>21.53869</td>\n",
       "      <td>1.41172</td>\n",
       "      <td>0</td>\n",
       "      <td>0</td>\n",
       "      <td>0</td>\n",
       "      <td>0</td>\n",
       "      <td>0</td>\n",
       "      <td>0</td>\n",
       "    </tr>\n",
       "    <tr>\n",
       "      <th>1</th>\n",
       "      <td>d01_REFL_COM_20101024-0000_12_13_000_01</td>\n",
       "      <td>d01_REFL_COM_20101024-0000_12_13_000</td>\n",
       "      <td>NCARSTORM</td>\n",
       "      <td>d01</td>\n",
       "      <td>2010-10-24 00:00:00+00:00</td>\n",
       "      <td>2010-10-24 13:00:00+00:00</td>\n",
       "      <td>13</td>\n",
       "      <td>13</td>\n",
       "      <td>2</td>\n",
       "      <td>-97.69198</td>\n",
       "      <td>...</td>\n",
       "      <td>0.85356</td>\n",
       "      <td>26.92719</td>\n",
       "      <td>14.02906</td>\n",
       "      <td>1.13923</td>\n",
       "      <td>0</td>\n",
       "      <td>0</td>\n",
       "      <td>0</td>\n",
       "      <td>0</td>\n",
       "      <td>0</td>\n",
       "      <td>0</td>\n",
       "    </tr>\n",
       "    <tr>\n",
       "      <th>2</th>\n",
       "      <td>d01_REFL_COM_20101024-0000_12_12_001_00</td>\n",
       "      <td>d01_REFL_COM_20101024-0000_12_12_001</td>\n",
       "      <td>NCARSTORM</td>\n",
       "      <td>d01</td>\n",
       "      <td>2010-10-24 00:00:00+00:00</td>\n",
       "      <td>2010-10-24 12:00:00+00:00</td>\n",
       "      <td>12</td>\n",
       "      <td>12</td>\n",
       "      <td>1</td>\n",
       "      <td>-95.15486</td>\n",
       "      <td>...</td>\n",
       "      <td>0.71815</td>\n",
       "      <td>8.65894</td>\n",
       "      <td>6.02569</td>\n",
       "      <td>0.74301</td>\n",
       "      <td>0</td>\n",
       "      <td>0</td>\n",
       "      <td>0</td>\n",
       "      <td>0</td>\n",
       "      <td>0</td>\n",
       "      <td>0</td>\n",
       "    </tr>\n",
       "    <tr>\n",
       "      <th>3</th>\n",
       "      <td>d01_REFL_COM_20101024-0000_12_13_002_00</td>\n",
       "      <td>d01_REFL_COM_20101024-0000_12_13_002</td>\n",
       "      <td>NCARSTORM</td>\n",
       "      <td>d01</td>\n",
       "      <td>2010-10-24 00:00:00+00:00</td>\n",
       "      <td>2010-10-24 12:00:00+00:00</td>\n",
       "      <td>12</td>\n",
       "      <td>12</td>\n",
       "      <td>1</td>\n",
       "      <td>-94.39792</td>\n",
       "      <td>...</td>\n",
       "      <td>0.58687</td>\n",
       "      <td>7.89825</td>\n",
       "      <td>6.39509</td>\n",
       "      <td>-1.28875</td>\n",
       "      <td>0</td>\n",
       "      <td>0</td>\n",
       "      <td>0</td>\n",
       "      <td>0</td>\n",
       "      <td>0</td>\n",
       "      <td>0</td>\n",
       "    </tr>\n",
       "    <tr>\n",
       "      <th>4</th>\n",
       "      <td>d01_REFL_COM_20101024-0000_12_13_002_01</td>\n",
       "      <td>d01_REFL_COM_20101024-0000_12_13_002</td>\n",
       "      <td>NCARSTORM</td>\n",
       "      <td>d01</td>\n",
       "      <td>2010-10-24 00:00:00+00:00</td>\n",
       "      <td>2010-10-24 13:00:00+00:00</td>\n",
       "      <td>13</td>\n",
       "      <td>13</td>\n",
       "      <td>2</td>\n",
       "      <td>-94.21008</td>\n",
       "      <td>...</td>\n",
       "      <td>0.91899</td>\n",
       "      <td>27.65443</td>\n",
       "      <td>10.90375</td>\n",
       "      <td>0.32912</td>\n",
       "      <td>0</td>\n",
       "      <td>0</td>\n",
       "      <td>0</td>\n",
       "      <td>0</td>\n",
       "      <td>0</td>\n",
       "      <td>0</td>\n",
       "    </tr>\n",
       "    <tr>\n",
       "      <th>...</th>\n",
       "      <td>...</td>\n",
       "      <td>...</td>\n",
       "      <td>...</td>\n",
       "      <td>...</td>\n",
       "      <td>...</td>\n",
       "      <td>...</td>\n",
       "      <td>...</td>\n",
       "      <td>...</td>\n",
       "      <td>...</td>\n",
       "      <td>...</td>\n",
       "      <td>...</td>\n",
       "      <td>...</td>\n",
       "      <td>...</td>\n",
       "      <td>...</td>\n",
       "      <td>...</td>\n",
       "      <td>...</td>\n",
       "      <td>...</td>\n",
       "      <td>...</td>\n",
       "      <td>...</td>\n",
       "      <td>...</td>\n",
       "      <td>...</td>\n",
       "    </tr>\n",
       "    <tr>\n",
       "      <th>365</th>\n",
       "      <td>d01_REFL_COM_20101024-0000_35_35_238_00</td>\n",
       "      <td>d01_REFL_COM_20101024-0000_35_35_238</td>\n",
       "      <td>NCARSTORM</td>\n",
       "      <td>d01</td>\n",
       "      <td>2010-10-24 00:00:00+00:00</td>\n",
       "      <td>2010-10-25 11:00:00+00:00</td>\n",
       "      <td>35</td>\n",
       "      <td>11</td>\n",
       "      <td>1</td>\n",
       "      <td>-85.94177</td>\n",
       "      <td>...</td>\n",
       "      <td>0.44428</td>\n",
       "      <td>6.31100</td>\n",
       "      <td>5.65396</td>\n",
       "      <td>1.29480</td>\n",
       "      <td>0</td>\n",
       "      <td>0</td>\n",
       "      <td>0</td>\n",
       "      <td>0</td>\n",
       "      <td>0</td>\n",
       "      <td>0</td>\n",
       "    </tr>\n",
       "    <tr>\n",
       "      <th>366</th>\n",
       "      <td>d01_REFL_COM_20101024-0000_35_35_239_00</td>\n",
       "      <td>d01_REFL_COM_20101024-0000_35_35_239</td>\n",
       "      <td>NCARSTORM</td>\n",
       "      <td>d01</td>\n",
       "      <td>2010-10-24 00:00:00+00:00</td>\n",
       "      <td>2010-10-25 11:00:00+00:00</td>\n",
       "      <td>35</td>\n",
       "      <td>11</td>\n",
       "      <td>1</td>\n",
       "      <td>-85.16997</td>\n",
       "      <td>...</td>\n",
       "      <td>0.85947</td>\n",
       "      <td>79.05277</td>\n",
       "      <td>40.41106</td>\n",
       "      <td>0.12811</td>\n",
       "      <td>0</td>\n",
       "      <td>0</td>\n",
       "      <td>0</td>\n",
       "      <td>0</td>\n",
       "      <td>0</td>\n",
       "      <td>0</td>\n",
       "    </tr>\n",
       "    <tr>\n",
       "      <th>367</th>\n",
       "      <td>d01_REFL_COM_20101024-0000_35_35_240_00</td>\n",
       "      <td>d01_REFL_COM_20101024-0000_35_35_240</td>\n",
       "      <td>NCARSTORM</td>\n",
       "      <td>d01</td>\n",
       "      <td>2010-10-24 00:00:00+00:00</td>\n",
       "      <td>2010-10-25 11:00:00+00:00</td>\n",
       "      <td>35</td>\n",
       "      <td>11</td>\n",
       "      <td>1</td>\n",
       "      <td>-88.18374</td>\n",
       "      <td>...</td>\n",
       "      <td>0.92145</td>\n",
       "      <td>18.05184</td>\n",
       "      <td>7.01316</td>\n",
       "      <td>0.99009</td>\n",
       "      <td>0</td>\n",
       "      <td>0</td>\n",
       "      <td>0</td>\n",
       "      <td>0</td>\n",
       "      <td>0</td>\n",
       "      <td>0</td>\n",
       "    </tr>\n",
       "    <tr>\n",
       "      <th>368</th>\n",
       "      <td>d01_REFL_COM_20101024-0000_35_35_241_00</td>\n",
       "      <td>d01_REFL_COM_20101024-0000_35_35_241</td>\n",
       "      <td>NCARSTORM</td>\n",
       "      <td>d01</td>\n",
       "      <td>2010-10-24 00:00:00+00:00</td>\n",
       "      <td>2010-10-25 11:00:00+00:00</td>\n",
       "      <td>35</td>\n",
       "      <td>11</td>\n",
       "      <td>1</td>\n",
       "      <td>-82.50549</td>\n",
       "      <td>...</td>\n",
       "      <td>0.93744</td>\n",
       "      <td>14.44305</td>\n",
       "      <td>5.02817</td>\n",
       "      <td>-0.19595</td>\n",
       "      <td>0</td>\n",
       "      <td>0</td>\n",
       "      <td>0</td>\n",
       "      <td>0</td>\n",
       "      <td>0</td>\n",
       "      <td>0</td>\n",
       "    </tr>\n",
       "    <tr>\n",
       "      <th>369</th>\n",
       "      <td>d01_REFL_COM_20101024-0000_35_35_242_00</td>\n",
       "      <td>d01_REFL_COM_20101024-0000_35_35_242</td>\n",
       "      <td>NCARSTORM</td>\n",
       "      <td>d01</td>\n",
       "      <td>2010-10-24 00:00:00+00:00</td>\n",
       "      <td>2010-10-25 11:00:00+00:00</td>\n",
       "      <td>35</td>\n",
       "      <td>11</td>\n",
       "      <td>1</td>\n",
       "      <td>-81.38741</td>\n",
       "      <td>...</td>\n",
       "      <td>0.97875</td>\n",
       "      <td>56.91919</td>\n",
       "      <td>11.67269</td>\n",
       "      <td>1.49626</td>\n",
       "      <td>0</td>\n",
       "      <td>0</td>\n",
       "      <td>0</td>\n",
       "      <td>0</td>\n",
       "      <td>0</td>\n",
       "      <td>0</td>\n",
       "    </tr>\n",
       "  </tbody>\n",
       "</table>\n",
       "<p>370 rows × 62 columns</p>\n",
       "</div>"
      ],
      "text/plain": [
       "                                     Step_ID  \\\n",
       "0    d01_REFL_COM_20101024-0000_12_13_000_00   \n",
       "1    d01_REFL_COM_20101024-0000_12_13_000_01   \n",
       "2    d01_REFL_COM_20101024-0000_12_12_001_00   \n",
       "3    d01_REFL_COM_20101024-0000_12_13_002_00   \n",
       "4    d01_REFL_COM_20101024-0000_12_13_002_01   \n",
       "..                                       ...   \n",
       "365  d01_REFL_COM_20101024-0000_35_35_238_00   \n",
       "366  d01_REFL_COM_20101024-0000_35_35_239_00   \n",
       "367  d01_REFL_COM_20101024-0000_35_35_240_00   \n",
       "368  d01_REFL_COM_20101024-0000_35_35_241_00   \n",
       "369  d01_REFL_COM_20101024-0000_35_35_242_00   \n",
       "\n",
       "                                 Track_ID Ensemble_Name Ensemble_Member  \\\n",
       "0    d01_REFL_COM_20101024-0000_12_13_000     NCARSTORM             d01   \n",
       "1    d01_REFL_COM_20101024-0000_12_13_000     NCARSTORM             d01   \n",
       "2    d01_REFL_COM_20101024-0000_12_12_001     NCARSTORM             d01   \n",
       "3    d01_REFL_COM_20101024-0000_12_13_002     NCARSTORM             d01   \n",
       "4    d01_REFL_COM_20101024-0000_12_13_002     NCARSTORM             d01   \n",
       "..                                    ...           ...             ...   \n",
       "365  d01_REFL_COM_20101024-0000_35_35_238     NCARSTORM             d01   \n",
       "366  d01_REFL_COM_20101024-0000_35_35_239     NCARSTORM             d01   \n",
       "367  d01_REFL_COM_20101024-0000_35_35_240     NCARSTORM             d01   \n",
       "368  d01_REFL_COM_20101024-0000_35_35_241     NCARSTORM             d01   \n",
       "369  d01_REFL_COM_20101024-0000_35_35_242     NCARSTORM             d01   \n",
       "\n",
       "                      Run_Date                 Valid_Date  Forecast_Hour  \\\n",
       "0    2010-10-24 00:00:00+00:00  2010-10-24 12:00:00+00:00             12   \n",
       "1    2010-10-24 00:00:00+00:00  2010-10-24 13:00:00+00:00             13   \n",
       "2    2010-10-24 00:00:00+00:00  2010-10-24 12:00:00+00:00             12   \n",
       "3    2010-10-24 00:00:00+00:00  2010-10-24 12:00:00+00:00             12   \n",
       "4    2010-10-24 00:00:00+00:00  2010-10-24 13:00:00+00:00             13   \n",
       "..                         ...                        ...            ...   \n",
       "365  2010-10-24 00:00:00+00:00  2010-10-25 11:00:00+00:00             35   \n",
       "366  2010-10-24 00:00:00+00:00  2010-10-25 11:00:00+00:00             35   \n",
       "367  2010-10-24 00:00:00+00:00  2010-10-25 11:00:00+00:00             35   \n",
       "368  2010-10-24 00:00:00+00:00  2010-10-25 11:00:00+00:00             35   \n",
       "369  2010-10-24 00:00:00+00:00  2010-10-25 11:00:00+00:00             35   \n",
       "\n",
       "     Valid_Hour_UTC  Duration  Centroid_Lon  ...  eccentricity  \\\n",
       "0                12         1     -98.41019  ...       0.90735   \n",
       "1                13         2     -97.69198  ...       0.85356   \n",
       "2                12         1     -95.15486  ...       0.71815   \n",
       "3                12         1     -94.39792  ...       0.58687   \n",
       "4                13         2     -94.21008  ...       0.91899   \n",
       "..              ...       ...           ...  ...           ...   \n",
       "365              11         1     -85.94177  ...       0.44428   \n",
       "366              11         1     -85.16997  ...       0.85947   \n",
       "367              11         1     -88.18374  ...       0.92145   \n",
       "368              11         1     -82.50549  ...       0.93744   \n",
       "369              11         1     -81.38741  ...       0.97875   \n",
       "\n",
       "     major_axis_length  minor_axis_length  orientation  Matched  \\\n",
       "0             51.23550           21.53869      1.41172        0   \n",
       "1             26.92719           14.02906      1.13923        0   \n",
       "2              8.65894            6.02569      0.74301        0   \n",
       "3              7.89825            6.39509     -1.28875        0   \n",
       "4             27.65443           10.90375      0.32912        0   \n",
       "..                 ...                ...          ...      ...   \n",
       "365            6.31100            5.65396      1.29480        0   \n",
       "366           79.05277           40.41106      0.12811        0   \n",
       "367           18.05184            7.01316      0.99009        0   \n",
       "368           14.44305            5.02817     -0.19595        0   \n",
       "369           56.91919           11.67269      1.49626        0   \n",
       "\n",
       "     Max_Hail_Size  Num_Matches  Shape  Location  Scale  \n",
       "0                0            0      0         0      0  \n",
       "1                0            0      0         0      0  \n",
       "2                0            0      0         0      0  \n",
       "3                0            0      0         0      0  \n",
       "4                0            0      0         0      0  \n",
       "..             ...          ...    ...       ...    ...  \n",
       "365              0            0      0         0      0  \n",
       "366              0            0      0         0      0  \n",
       "367              0            0      0         0      0  \n",
       "368              0            0      0         0      0  \n",
       "369              0            0      0         0      0  \n",
       "\n",
       "[370 rows x 62 columns]"
      ]
     },
     "execution_count": 4,
     "metadata": {},
     "output_type": "execute_result"
    }
   ],
   "source": [
    "meta_ds"
   ]
  },
  {
   "cell_type": "code",
   "execution_count": 33,
   "id": "c79d60b9-85d9-478d-b771-53205df404ef",
   "metadata": {},
   "outputs": [
    {
     "name": "stdout",
     "output_type": "stream",
     "text": [
      "Train 0, /glade/scratch/lverhoef/WRF_all/track_data_hrrr_3km_nc_refl/NCARSTORM_20101024-0000_d01_model_patches.nc\n",
      "Train 10, /glade/scratch/lverhoef/WRF_all/track_data_hrrr_3km_nc_refl/NCARSTORM_20110201-0000_d01_model_patches.nc\n",
      "Train 20, /glade/scratch/lverhoef/WRF_all/track_data_hrrr_3km_nc_refl/NCARSTORM_20110326-0000_d01_model_patches.nc\n",
      "Train 30, /glade/scratch/lverhoef/WRF_all/track_data_hrrr_3km_nc_refl/NCARSTORM_20110414-0000_d01_model_patches.nc\n",
      "Train 40, /glade/scratch/lverhoef/WRF_all/track_data_hrrr_3km_nc_refl/NCARSTORM_20110425-0000_d01_model_patches.nc\n",
      "Train 50, /glade/scratch/lverhoef/WRF_all/track_data_hrrr_3km_nc_refl/NCARSTORM_20110522-0000_d01_model_patches.nc\n",
      "Train 60, /glade/scratch/lverhoef/WRF_all/track_data_hrrr_3km_nc_refl/NCARSTORM_20110605-0000_d01_model_patches.nc\n",
      "Validation 70, /glade/scratch/lverhoef/WRF_all/track_data_hrrr_3km_nc_refl/NCARSTORM_20110615-0000_d01_model_patches.nc\n",
      "Test 80, /glade/scratch/lverhoef/WRF_all/track_data_hrrr_3km_nc_refl/NCARSTORM_20110625-0000_d01_model_patches.nc\n",
      "Test 90, /glade/scratch/lverhoef/WRF_all/track_data_hrrr_3km_nc_refl/NCARSTORM_20110712-0000_d01_model_patches.nc\n"
     ]
    }
   ],
   "source": [
    "# Pull selected variables from patch files and join into a single DataSet\n",
    "num_files = 100\n",
    "train_split = int(num_files*0.7)\n",
    "val_split = int(num_files*0.8)\n",
    "variables = [\"REFL_COM_curr\"]\n",
    "data_list = []\n",
    "for p, patch_file in enumerate(patch_files[0:train_split]):\n",
    "    if p % 10 == 0:\n",
    "        print(f'Train {p}, {patch_file}')\n",
    "    ds = xr.open_dataset(patch_file)\n",
    "    data_list.append(ds[variables].compute())\n",
    "    ds.close()\n",
    "input_train = xr.concat(data_list, dim=\"p\")[\"REFL_COM_curr\"].expand_dims(\"channel\", axis = -1)\n",
    "data_list = []\n",
    "for p, patch_file in enumerate(patch_files[train_split:val_split]):\n",
    "    if p % 10 == 0:\n",
    "        print(f'Validation {train_split + p}, {patch_file}')\n",
    "    ds = xr.open_dataset(patch_file)\n",
    "    data_list.append(ds[variables].compute())\n",
    "    ds.close()\n",
    "input_val = xr.concat(data_list, dim=\"p\")[\"REFL_COM_curr\"].expand_dims(\"channel\", axis = -1)\n",
    "data_list = []\n",
    "for p, patch_file in enumerate(patch_files[val_split:num_files]):\n",
    "    if p % 10 == 0:\n",
    "        print(f'Test {val_split + p}, {patch_file}')\n",
    "    ds = xr.open_dataset(patch_file)\n",
    "    data_list.append(ds[variables].compute())\n",
    "    ds.close()\n",
    "input_test = xr.concat(data_list, dim=\"p\")[\"REFL_COM_curr\"].expand_dims(\"channel\", axis = -1)"
   ]
  },
  {
   "cell_type": "code",
   "execution_count": 8,
   "id": "aa2782d0-68d0-4968-a440-af88466dbf99",
   "metadata": {},
   "outputs": [
    {
     "name": "stdout",
     "output_type": "stream",
     "text": [
      "Train 0, /glade/scratch/lverhoef/WRF_all/track_data_hrrr_3km_csv_refl/track_step_NCARSTORM_d01_20101024-0000.csv\n",
      "Train 10, /glade/scratch/lverhoef/WRF_all/track_data_hrrr_3km_csv_refl/track_step_NCARSTORM_d01_20110201-0000.csv\n",
      "Train 20, /glade/scratch/lverhoef/WRF_all/track_data_hrrr_3km_csv_refl/track_step_NCARSTORM_d01_20110326-0000.csv\n",
      "Train 30, /glade/scratch/lverhoef/WRF_all/track_data_hrrr_3km_csv_refl/track_step_NCARSTORM_d01_20110414-0000.csv\n",
      "Train 40, /glade/scratch/lverhoef/WRF_all/track_data_hrrr_3km_csv_refl/track_step_NCARSTORM_d01_20110425-0000.csv\n",
      "Train 50, /glade/scratch/lverhoef/WRF_all/track_data_hrrr_3km_csv_refl/track_step_NCARSTORM_d01_20110522-0000.csv\n",
      "Train 60, /glade/scratch/lverhoef/WRF_all/track_data_hrrr_3km_csv_refl/track_step_NCARSTORM_d01_20110605-0000.csv\n",
      "Validation 70, /glade/scratch/lverhoef/WRF_all/track_data_hrrr_3km_csv_refl/track_step_NCARSTORM_d01_20110615-0000.csv\n",
      "Test 80, /glade/scratch/lverhoef/WRF_all/track_data_hrrr_3km_csv_refl/track_step_NCARSTORM_d01_20110625-0000.csv\n",
      "Test 90, /glade/scratch/lverhoef/WRF_all/track_data_hrrr_3km_csv_refl/track_step_NCARSTORM_d01_20110712-0000.csv\n"
     ]
    }
   ],
   "source": [
    "# Pull variables from csv files and join into an array\n",
    "csv_variables = [\"major_axis_length\", \"minor_axis_length\"]\n",
    "csv_data_list = []\n",
    "for p, csv_file in enumerate(csv_files[0:train_split]):\n",
    "    if p % 10 == 0:\n",
    "        print(f'Train {p}, {csv_file}')\n",
    "    csv_ds = pd.read_csv(csv_file)\n",
    "    csv_data_list.append(csv_ds[csv_variables].to_xarray().rename({'index': 'p'}))\n",
    "output_train = xr.concat(csv_data_list, dim=\"p\").to_array().transpose()\n",
    "csv_data_list = []\n",
    "for p, csv_file in enumerate(csv_files[train_split:val_split]):\n",
    "    if p % 10 == 0:\n",
    "        print(f'Validation {train_split + p}, {csv_file}')\n",
    "    csv_ds = pd.read_csv(csv_file)\n",
    "    csv_data_list.append(csv_ds[csv_variables].to_xarray().rename({'index': 'p'}))\n",
    "output_val = xr.concat(csv_data_list, dim=\"p\").to_array().transpose()\n",
    "csv_data_list = []\n",
    "for p, csv_file in enumerate(csv_files[val_split:num_files]):\n",
    "    if p % 10 == 0:\n",
    "        print(f'Test {val_split + p}, {csv_file}')\n",
    "    csv_ds = pd.read_csv(csv_file)\n",
    "    csv_data_list.append(csv_ds[csv_variables].to_xarray().rename({'index': 'p'}))\n",
    "output_test = xr.concat(csv_data_list, dim=\"p\").to_array().transpose()"
   ]
  },
  {
   "cell_type": "code",
   "execution_count": 34,
   "id": "6ba59282-c914-467e-9556-f6e255de6dc5",
   "metadata": {},
   "outputs": [
    {
     "name": "stdout",
     "output_type": "stream",
     "text": [
      "(17733, 144, 144, 1)\n",
      "(5857, 144, 144, 1)\n",
      "(9813, 144, 144, 1)\n",
      "(17733, 2)\n",
      "(5857, 2)\n",
      "(9813, 2)\n"
     ]
    }
   ],
   "source": [
    "print(input_train.shape)\n",
    "print(input_val.shape)\n",
    "print(input_test.shape)\n",
    "print(output_train.shape)\n",
    "print(output_val.shape)\n",
    "print(output_test.shape)"
   ]
  },
  {
   "cell_type": "code",
   "execution_count": 40,
   "id": "4e9c6285-809f-4c27-bbc1-ce975bf8745d",
   "metadata": {},
   "outputs": [],
   "source": [
    "# Normalize the training data\n",
    "scale_stats = pd.DataFrame(index=[0], columns=[\"mean\", \"sd\"])\n",
    "scale_stats.loc[0, \"mean\"] = input_train.mean()\n",
    "scale_stats.loc[0, \"sd\"] = input_train.std()\n",
    "input_train_norm = (input_train - scale_stats.loc[0, \"mean\"]) / scale_stats.loc[0, \"sd\"]\n",
    "input_val_norm = (input_val - scale_stats.loc[0, \"mean\"]) / scale_stats.loc[0, \"sd\"]\n",
    "input_test_norm = (input_test - scale_stats.loc[0, \"mean\"]) / scale_stats.loc[0, \"sd\"]"
   ]
  },
  {
   "cell_type": "code",
   "execution_count": 41,
   "id": "2c464134-2ccf-48b8-8fc4-1a26a1b36110",
   "metadata": {},
   "outputs": [],
   "source": [
    "# Normalize output data\n",
    "output_scale_stats = pd.DataFrame(index=[0], columns=[\"mean\", \"sd\"])\n",
    "output_scale_stats.loc[0, \"mean\"] = output_train.mean()\n",
    "output_scale_stats.loc[0, \"sd\"] = output_train.std()\n",
    "output_train_norm = (output_train - output_scale_stats.loc[0, \"mean\"]) / output_scale_stats.loc[0, \"sd\"]\n",
    "output_val_norm = (output_val - output_scale_stats.loc[0, \"mean\"]) / output_scale_stats.loc[0, \"sd\"]\n",
    "output_test_norm = (output_test - output_scale_stats.loc[0, \"mean\"]) / output_scale_stats.loc[0, \"sd\"]"
   ]
  },
  {
   "cell_type": "code",
   "execution_count": 42,
   "id": "030d5d7a-e0ca-44ba-aad7-a3f778016d3f",
   "metadata": {},
   "outputs": [
    {
     "name": "stderr",
     "output_type": "stream",
     "text": [
      "2022-07-13 11:47:11.086863: I tensorflow/core/platform/cpu_feature_guard.cc:193] This TensorFlow binary is optimized with oneAPI Deep Neural Network Library (oneDNN) to use the following CPU instructions in performance-critical operations:  AVX2 AVX512F FMA\n",
      "To enable them in other operations, rebuild TensorFlow with the appropriate compiler flags.\n",
      "2022-07-13 11:47:14.106890: I tensorflow/core/common_runtime/gpu/gpu_device.cc:1532] Created device /job:localhost/replica:0/task:0/device:GPU:0 with 30988 MB memory:  -> device: 0, name: Tesla V100-SXM2-32GB, pci bus id: 0000:62:00.0, compute capability: 7.0\n"
     ]
    }
   ],
   "source": [
    "gdl_model = models.Sequential()\n",
    "gdl_model.add(GDL_layers.RotEquivConv2D(32, (3, 3), rot_axis=False, input_shape=(144, 144, 1)))\n",
    "gdl_model.add(GDL_layers.RotEquivPool2D((2, 2)))\n",
    "gdl_model.add(GDL_layers.RotEquivConv2D(32, (3, 3)))\n",
    "gdl_model.add(GDL_layers.RotEquivPool2D((2, 2)))\n",
    "gdl_model.add(GDL_layers.RotEquivConv2D(64, (3, 3)))\n",
    "gdl_model.add(GDL_layers.RotEquivPool2D((2, 2)))\n",
    "gdl_model.add(GDL_layers.RotEquivConv2D(64, (3, 3)))\n",
    "gdl_model.add(GDL_layers.RotEquivPool2D((2, 2)))\n",
    "gdl_model.add(GDL_layers.RotEquivConv2D(128, (3, 3)))\n",
    "gdl_model.add(GDL_layers.RotInvPool())\n",
    "gdl_model.add(layers.Flatten())\n",
    "gdl_model.add(layers.Dense(32, activation='relu'))\n",
    "gdl_model.add(layers.Dense(2))"
   ]
  },
  {
   "cell_type": "code",
   "execution_count": 43,
   "id": "cd1c9f33-1e73-4549-af85-ed5d8378b810",
   "metadata": {},
   "outputs": [
    {
     "name": "stdout",
     "output_type": "stream",
     "text": [
      "Model: \"sequential\"\n",
      "_________________________________________________________________\n",
      " Layer (type)                Output Shape              Param #   \n",
      "=================================================================\n",
      " rot_equiv_conv2d (RotEquivC  (None, 142, 142, 4, 32)  320       \n",
      " onv2D)                                                          \n",
      "                                                                 \n",
      " rot_equiv_pool2d (RotEquivP  (None, 71, 71, 4, 32)    0         \n",
      " ool2D)                                                          \n",
      "                                                                 \n",
      " rot_equiv_conv2d_1 (RotEqui  (None, 69, 69, 4, 32)    9248      \n",
      " vConv2D)                                                        \n",
      "                                                                 \n",
      " rot_equiv_pool2d_1 (RotEqui  (None, 34, 34, 4, 32)    0         \n",
      " vPool2D)                                                        \n",
      "                                                                 \n",
      " rot_equiv_conv2d_2 (RotEqui  (None, 32, 32, 4, 64)    18496     \n",
      " vConv2D)                                                        \n",
      "                                                                 \n",
      " rot_equiv_pool2d_2 (RotEqui  (None, 16, 16, 4, 64)    0         \n",
      " vPool2D)                                                        \n",
      "                                                                 \n",
      " rot_equiv_conv2d_3 (RotEqui  (None, 14, 14, 4, 64)    36928     \n",
      " vConv2D)                                                        \n",
      "                                                                 \n",
      " rot_equiv_pool2d_3 (RotEqui  (None, 7, 7, 4, 64)      0         \n",
      " vPool2D)                                                        \n",
      "                                                                 \n",
      " rot_equiv_conv2d_4 (RotEqui  (None, 5, 5, 4, 128)     73856     \n",
      " vConv2D)                                                        \n",
      "                                                                 \n",
      " rot_inv_pool (RotInvPool)   (None, 5, 5, 128)         0         \n",
      "                                                                 \n",
      " flatten (Flatten)           (None, 3200)              0         \n",
      "                                                                 \n",
      " dense (Dense)               (None, 32)                102432    \n",
      "                                                                 \n",
      " dense_1 (Dense)             (None, 2)                 66        \n",
      "                                                                 \n",
      "=================================================================\n",
      "Total params: 241,346\n",
      "Trainable params: 241,346\n",
      "Non-trainable params: 0\n",
      "_________________________________________________________________\n"
     ]
    }
   ],
   "source": [
    "gdl_model.summary()"
   ]
  },
  {
   "cell_type": "code",
   "execution_count": 45,
   "id": "c3501077-3694-4e54-bd75-05d058329b3b",
   "metadata": {},
   "outputs": [],
   "source": [
    "gdl_model.compile(\n",
    "    optimizer='nadam',\n",
    "    loss='mse',\n",
    "    metrics=['mse']\n",
    ")"
   ]
  },
  {
   "cell_type": "code",
   "execution_count": 46,
   "id": "9f0082d7-bb9a-434c-a9d5-fce4ec479b8b",
   "metadata": {},
   "outputs": [
    {
     "name": "stdout",
     "output_type": "stream",
     "text": [
      "WARNING:tensorflow:Keras is training/fitting/evaluating on array-like data. Keras may not be optimized for this format, so if your input data format is supported by TensorFlow I/O (https://github.com/tensorflow/io) we recommend using that to load a Dataset instead.\n",
      "Epoch 1/10\n"
     ]
    },
    {
     "name": "stderr",
     "output_type": "stream",
     "text": [
      "2022-07-13 11:47:44.744295: I tensorflow/stream_executor/cuda/cuda_dnn.cc:384] Loaded cuDNN version 8100\n"
     ]
    },
    {
     "name": "stdout",
     "output_type": "stream",
     "text": [
      "555/555 [==============================] - ETA: 0s - loss: 354.2426 - mse: 354.2426WARNING:tensorflow:Keras is training/fitting/evaluating on array-like data. Keras may not be optimized for this format, so if your input data format is supported by TensorFlow I/O (https://github.com/tensorflow/io) we recommend using that to load a Dataset instead.\n",
      "555/555 [==============================] - 62s 69ms/step - loss: 354.2426 - mse: 354.2426 - val_loss: 111.2954 - val_mse: 111.2954\n",
      "Epoch 2/10\n",
      "555/555 [==============================] - 38s 68ms/step - loss: 211.8002 - mse: 211.8002 - val_loss: 97.6750 - val_mse: 97.6750\n",
      "Epoch 3/10\n",
      "555/555 [==============================] - 38s 68ms/step - loss: 150.8294 - mse: 150.8294 - val_loss: 57.9649 - val_mse: 57.9649\n",
      "Epoch 4/10\n",
      "555/555 [==============================] - 38s 68ms/step - loss: 111.1823 - mse: 111.1823 - val_loss: 45.3365 - val_mse: 45.3365\n",
      "Epoch 5/10\n",
      "555/555 [==============================] - 38s 68ms/step - loss: 79.2446 - mse: 79.2446 - val_loss: 56.6403 - val_mse: 56.6403\n",
      "Epoch 6/10\n",
      "555/555 [==============================] - 38s 68ms/step - loss: 58.4623 - mse: 58.4623 - val_loss: 37.8060 - val_mse: 37.8060\n",
      "Epoch 7/10\n",
      "555/555 [==============================] - 38s 68ms/step - loss: 44.4098 - mse: 44.4098 - val_loss: 36.4781 - val_mse: 36.4781\n",
      "Epoch 8/10\n",
      "555/555 [==============================] - 38s 68ms/step - loss: 35.9017 - mse: 35.9017 - val_loss: 32.4170 - val_mse: 32.4170\n",
      "Epoch 9/10\n",
      "555/555 [==============================] - 38s 68ms/step - loss: 27.7185 - mse: 27.7185 - val_loss: 45.8425 - val_mse: 45.8425\n",
      "Epoch 10/10\n",
      "555/555 [==============================] - 38s 68ms/step - loss: 23.5964 - mse: 23.5964 - val_loss: 27.0812 - val_mse: 27.0812\n"
     ]
    }
   ],
   "source": [
    "gdl_history = gdl_model.fit(x=input_train_norm, y=output_train, epochs=10, validation_data=(input_val_norm, output_val))"
   ]
  },
  {
   "cell_type": "code",
   "execution_count": 47,
   "id": "c23214ad-a70a-4609-93ab-de5484f01243",
   "metadata": {},
   "outputs": [],
   "source": [
    "cnn_model = models.Sequential()\n",
    "cnn_model.add(layers.Conv2D(32, (3, 3), activation='relu', input_shape=(144, 144, 1)))\n",
    "cnn_model.add(layers.MaxPooling2D((2, 2)))\n",
    "cnn_model.add(layers.Conv2D(32, (3, 3), activation='relu'))\n",
    "cnn_model.add(layers.MaxPooling2D((2, 2)))\n",
    "cnn_model.add(layers.Conv2D(64, (3, 3), activation='relu'))\n",
    "cnn_model.add(layers.MaxPooling2D((2, 2)))\n",
    "cnn_model.add(layers.Conv2D(64, (3, 3), activation='relu'))\n",
    "cnn_model.add(layers.MaxPooling2D((2, 2)))\n",
    "cnn_model.add(layers.Conv2D(128, (3, 3), activation='relu'))\n",
    "cnn_model.add(layers.Flatten())\n",
    "cnn_model.add(layers.Dense(32, activation='relu'))\n",
    "cnn_model.add(layers.Dense(2))"
   ]
  },
  {
   "cell_type": "code",
   "execution_count": 48,
   "id": "65c2d141-3e14-4725-ab5d-2a1ca7dd17b9",
   "metadata": {},
   "outputs": [
    {
     "name": "stdout",
     "output_type": "stream",
     "text": [
      "Model: \"sequential_1\"\n",
      "_________________________________________________________________\n",
      " Layer (type)                Output Shape              Param #   \n",
      "=================================================================\n",
      " conv2d (Conv2D)             (None, 142, 142, 32)      320       \n",
      "                                                                 \n",
      " max_pooling2d_4 (MaxPooling  (None, 71, 71, 32)       0         \n",
      " 2D)                                                             \n",
      "                                                                 \n",
      " conv2d_1 (Conv2D)           (None, 69, 69, 32)        9248      \n",
      "                                                                 \n",
      " max_pooling2d_5 (MaxPooling  (None, 34, 34, 32)       0         \n",
      " 2D)                                                             \n",
      "                                                                 \n",
      " conv2d_2 (Conv2D)           (None, 32, 32, 64)        18496     \n",
      "                                                                 \n",
      " max_pooling2d_6 (MaxPooling  (None, 16, 16, 64)       0         \n",
      " 2D)                                                             \n",
      "                                                                 \n",
      " conv2d_3 (Conv2D)           (None, 14, 14, 64)        36928     \n",
      "                                                                 \n",
      " max_pooling2d_7 (MaxPooling  (None, 7, 7, 64)         0         \n",
      " 2D)                                                             \n",
      "                                                                 \n",
      " conv2d_4 (Conv2D)           (None, 5, 5, 128)         73856     \n",
      "                                                                 \n",
      " flatten_1 (Flatten)         (None, 3200)              0         \n",
      "                                                                 \n",
      " dense_2 (Dense)             (None, 32)                102432    \n",
      "                                                                 \n",
      " dense_3 (Dense)             (None, 2)                 66        \n",
      "                                                                 \n",
      "=================================================================\n",
      "Total params: 241,346\n",
      "Trainable params: 241,346\n",
      "Non-trainable params: 0\n",
      "_________________________________________________________________\n"
     ]
    }
   ],
   "source": [
    "cnn_model.summary()"
   ]
  },
  {
   "cell_type": "code",
   "execution_count": 49,
   "id": "858bd2cd-4066-455c-a7dd-7464a3735fe0",
   "metadata": {},
   "outputs": [],
   "source": [
    "cnn_model.compile(\n",
    "    optimizer='nadam',\n",
    "    loss='mse',\n",
    "    metrics=['mse']\n",
    ")"
   ]
  },
  {
   "cell_type": "code",
   "execution_count": 50,
   "id": "390f7113-42ec-4bfc-b024-80738a84ecfb",
   "metadata": {},
   "outputs": [
    {
     "name": "stdout",
     "output_type": "stream",
     "text": [
      "WARNING:tensorflow:Keras is training/fitting/evaluating on array-like data. Keras may not be optimized for this format, so if your input data format is supported by TensorFlow I/O (https://github.com/tensorflow/io) we recommend using that to load a Dataset instead.\n",
      "Epoch 1/10\n",
      "551/555 [============================>.] - ETA: 0s - loss: 349.1029 - mse: 349.1029WARNING:tensorflow:Keras is training/fitting/evaluating on array-like data. Keras may not be optimized for this format, so if your input data format is supported by TensorFlow I/O (https://github.com/tensorflow/io) we recommend using that to load a Dataset instead.\n",
      "555/555 [==============================] - 8s 13ms/step - loss: 348.6913 - mse: 348.6913 - val_loss: 154.7900 - val_mse: 154.7900\n",
      "Epoch 2/10\n",
      "555/555 [==============================] - 7s 13ms/step - loss: 233.6818 - mse: 233.6818 - val_loss: 402.6257 - val_mse: 402.6257\n",
      "Epoch 3/10\n",
      "555/555 [==============================] - 7s 13ms/step - loss: 187.8533 - mse: 187.8533 - val_loss: 137.1676 - val_mse: 137.1676\n",
      "Epoch 4/10\n",
      "555/555 [==============================] - 7s 13ms/step - loss: 151.1733 - mse: 151.1733 - val_loss: 108.0549 - val_mse: 108.0549\n",
      "Epoch 5/10\n",
      "555/555 [==============================] - 7s 13ms/step - loss: 123.5265 - mse: 123.5265 - val_loss: 70.0533 - val_mse: 70.0533\n",
      "Epoch 6/10\n",
      "555/555 [==============================] - 7s 13ms/step - loss: 100.0716 - mse: 100.0716 - val_loss: 73.6779 - val_mse: 73.6779\n",
      "Epoch 7/10\n",
      "555/555 [==============================] - 7s 13ms/step - loss: 84.5771 - mse: 84.5771 - val_loss: 57.4283 - val_mse: 57.4283\n",
      "Epoch 8/10\n",
      "555/555 [==============================] - 7s 13ms/step - loss: 70.9543 - mse: 70.9543 - val_loss: 57.9289 - val_mse: 57.9289\n",
      "Epoch 9/10\n",
      "555/555 [==============================] - 7s 13ms/step - loss: 55.7231 - mse: 55.7231 - val_loss: 61.5194 - val_mse: 61.5194\n",
      "Epoch 10/10\n",
      "555/555 [==============================] - 7s 13ms/step - loss: 48.3223 - mse: 48.3223 - val_loss: 51.3935 - val_mse: 51.3935\n"
     ]
    }
   ],
   "source": [
    "cnn_history = cnn_model.fit(x=input_train_norm, y=output_train, epochs=10, validation_data=(input_val_norm, output_val))"
   ]
  },
  {
   "cell_type": "code",
   "execution_count": 66,
   "id": "beecd093-f2fd-443f-9437-bb6252bec26c",
   "metadata": {},
   "outputs": [
    {
     "data": {
      "text/plain": [
       "(0.0, 421.57719974517823)"
      ]
     },
     "execution_count": 66,
     "metadata": {},
     "output_type": "execute_result"
    },
    {
     "data": {
      "image/png": "[encoded data removed]",
      "text/plain": [
       "<Figure size 720x576 with 1 Axes>"
      ]
     },
     "metadata": {
      "needs_background": "light"
     },
     "output_type": "display_data"
    }
   ],
   "source": [
    "F, ax = plt.subplots(figsize=(10, 8))\n",
    "ax = plt.gca()\n",
    "a = ax.plot(cnn_history.history['mse'], label='training', color='orange')\n",
    "b = ax.plot(cnn_history.history['val_mse'], label='validation', color='orange', linestyle='dashed')\n",
    "c = ax.plot(gdl_history.history['mse'], label='training', color='blue')\n",
    "d = ax.plot(gdl_history.history['val_mse'], label='validation', color='blue', linestyle='dashed')\n",
    "ax.legend()\n",
    "ax.set_title(\"MSE History\")\n",
    "ax.set_ylim(bottom=0)"
   ]
  },
  {
   "cell_type": "code",
   "execution_count": 67,
   "id": "65863f20-60d5-474e-96df-7c29eb2d38b8",
   "metadata": {},
   "outputs": [
    {
     "name": "stdout",
     "output_type": "stream",
     "text": [
      "WARNING:tensorflow:Keras is training/fitting/evaluating on array-like data. Keras may not be optimized for this format, so if your input data format is supported by TensorFlow I/O (https://github.com/tensorflow/io) we recommend using that to load a Dataset instead.\n",
      "307/307 [==============================] - 7s 22ms/step - loss: 24.0421 - mse: 24.0421\n"
     ]
    },
    {
     "data": {
      "text/plain": [
       "[24.042116165161133, 24.042116165161133]"
      ]
     },
     "execution_count": 67,
     "metadata": {},
     "output_type": "execute_result"
    }
   ],
   "source": [
    "gdl_model.evaluate(input_test_norm, output_test)"
   ]
  },
  {
   "cell_type": "code",
   "execution_count": 68,
   "id": "274b503a-a3c0-47df-a8b0-fa01d35a44d9",
   "metadata": {},
   "outputs": [
    {
     "name": "stdout",
     "output_type": "stream",
     "text": [
      "WARNING:tensorflow:Keras is training/fitting/evaluating on array-like data. Keras may not be optimized for this format, so if your input data format is supported by TensorFlow I/O (https://github.com/tensorflow/io) we recommend using that to load a Dataset instead.\n",
      "307/307 [==============================] - 2s 7ms/step - loss: 41.2398 - mse: 41.2398\n"
     ]
    },
    {
     "data": {
      "text/plain": [
       "[41.23975372314453, 41.23975372314453]"
      ]
     },
     "execution_count": 68,
     "metadata": {},
     "output_type": "execute_result"
    }
   ],
   "source": [
    "cnn_model.evaluate(input_test_norm, output_test)"
   ]
  },
  {
   "cell_type": "code",
   "execution_count": 69,
   "id": "4643bdae-483c-45e4-bf49-765c37992ab0",
   "metadata": {},
   "outputs": [],
   "source": [
    "latent_predictor = tf.keras.Model(gdl_model.inputs, gdl_model.layers[-2].output)"
   ]
  },
  {
   "cell_type": "code",
   "execution_count": 91,
   "id": "bcb2550f-a4eb-407a-bb73-cea6d0b78737",
   "metadata": {},
   "outputs": [
    {
     "name": "stdout",
     "output_type": "stream",
     "text": [
      "WARNING:tensorflow:Keras is training/fitting/evaluating on array-like data. Keras may not be optimized for this format, so if your input data format is supported by TensorFlow I/O (https://github.com/tensorflow/io) we recommend using that to load a Dataset instead.\n",
      "307/307 [==============================] - 7s 21ms/step\n"
     ]
    }
   ],
   "source": [
    "gdl_l_preds = latent_predictor.predict(input_test_norm)"
   ]
  },
  {
   "cell_type": "code",
   "execution_count": 90,
   "id": "e0588126-5dd4-4018-9aac-92e2578318d0",
   "metadata": {},
   "outputs": [
    {
     "name": "stdout",
     "output_type": "stream",
     "text": [
      "307/307 [==============================] - 6s 19ms/step\n"
     ]
    },
    {
     "data": {
      "text/plain": [
       "(9813, 32)"
      ]
     },
     "execution_count": 90,
     "metadata": {},
     "output_type": "execute_result"
    }
   ],
   "source": [
    "latent_predictor.predict(np.rot90(input_test_norm, 1, axes=(1, 2)))"
   ]
  },
  {
   "cell_type": "code",
   "execution_count": 74,
   "id": "054e821d-1bd2-47ae-a661-d894115c5817",
   "metadata": {},
   "outputs": [],
   "source": [
    "cnn_latent_predictor = tf.keras.Model(cnn_model.inputs, cnn_model.layers[-2].output)"
   ]
  },
  {
   "cell_type": "code",
   "execution_count": 92,
   "id": "5cf4bee0-e54d-4cab-9e61-18e5b9ea87bc",
   "metadata": {},
   "outputs": [
    {
     "name": "stdout",
     "output_type": "stream",
     "text": [
      "307/307 [==============================] - 1s 2ms/step\n"
     ]
    }
   ],
   "source": [
    "cnn_l_preds = cnn_latent_predictor.predict(np.rot90(input_test_norm, 0, axes=(1, 2)))"
   ]
  },
  {
   "cell_type": "code",
   "execution_count": 80,
   "id": "8209492f-b12e-4374-8c1e-6dba7d157575",
   "metadata": {},
   "outputs": [
    {
     "name": "stdout",
     "output_type": "stream",
     "text": [
      "1/1 [==============================] - 0s 14ms/step\n"
     ]
    },
    {
     "data": {
      "text/plain": [
       "array([[ 0.       ,  0.       ,  0.       , 26.145985 ,  9.125082 ,\n",
       "         0.       ,  0.       ,  0.       ,  0.       ,  0.       ,\n",
       "         0.       ,  0.       ,  0.       ,  0.       , 16.605816 ,\n",
       "         0.       ,  0.       ,  5.9073825,  0.       ,  0.       ,\n",
       "         0.       ,  0.       ,  0.       ,  0.       ,  0.       ,\n",
       "        15.164137 , 17.195192 , 10.073872 ,  0.       , 15.803284 ,\n",
       "         0.       , 10.73082  ]], dtype=float32)"
      ]
     },
     "execution_count": 80,
     "metadata": {},
     "output_type": "execute_result"
    }
   ],
   "source": [
    "cnn_latent_predictor.predict(np.rot90(input_test_norm[0:1], 3, axes=(1, 2)))"
   ]
  },
  {
   "cell_type": "code",
   "execution_count": 82,
   "id": "90c0c2c5-22ae-44a2-a14e-c9238b12695a",
   "metadata": {},
   "outputs": [
    {
     "data": {
      "text/plain": [
       "<matplotlib.image.AxesImage at 0x2af5b8596b60>"
      ]
     },
     "execution_count": 82,
     "metadata": {},
     "output_type": "execute_result"
    },
    {
     "data": {
      "image/png": "[encoded data removed]",
      "text/plain": [
       "<Figure size 432x288 with 1 Axes>"
      ]
     },
     "metadata": {
      "needs_background": "light"
     },
     "output_type": "display_data"
    }
   ],
   "source": [
    "plt.imshow(input_test_norm[0:1][0, :, :, 0])"
   ]
  },
  {
   "cell_type": "code",
   "execution_count": 103,
   "id": "b200ff46-cf1f-4b87-ad35-08f2137fe0b5",
   "metadata": {},
   "outputs": [
    {
     "data": {
      "text/plain": [
       "3.178029145011719"
      ]
     },
     "execution_count": 103,
     "metadata": {},
     "output_type": "execute_result"
    }
   ],
   "source": [
    "gdl_uniq, gdl_counts = np.unique(gdl_l_preds.nonzero()[0], return_counts=True)\n",
    "gdl_counts.mean()"
   ]
  },
  {
   "cell_type": "code",
   "execution_count": 119,
   "id": "2c3be0eb-01c9-462c-8bf3-9f21344e552c",
   "metadata": {},
   "outputs": [
    {
     "data": {
      "text/plain": [
       "array([ 1,  4,  5, 12, 14, 18, 19, 23, 24, 27, 31])"
      ]
     },
     "execution_count": 119,
     "metadata": {},
     "output_type": "execute_result"
    }
   ],
   "source": [
    "np.unique(gdl_l_preds.nonzero()[1])"
   ]
  },
  {
   "cell_type": "code",
   "execution_count": 104,
   "id": "2eeb3edd-f679-4e42-ba47-97378b122a25",
   "metadata": {},
   "outputs": [
    {
     "data": {
      "text/plain": [
       "9.598491796596353"
      ]
     },
     "execution_count": 104,
     "metadata": {},
     "output_type": "execute_result"
    }
   ],
   "source": [
    "cnn_uniq, cnn_counts = np.unique(cnn_l_preds.nonzero()[0], return_counts=True)\n",
    "cnn_counts.mean()"
   ]
  },
  {
   "cell_type": "code",
   "execution_count": 117,
   "id": "9e47fdf3-cf45-4d26-96ad-aa5e5d31615e",
   "metadata": {},
   "outputs": [
    {
     "data": {
      "text/plain": [
       "(18,)"
      ]
     },
     "execution_count": 117,
     "metadata": {},
     "output_type": "execute_result"
    }
   ],
   "source": [
    "np.unique(cnn_l_preds.nonzero()[1]).shape"
   ]
  },
  {
   "cell_type": "code",
   "execution_count": 108,
   "id": "e75185fb-3c9a-4423-8a28-f883fcc6ad18",
   "metadata": {},
   "outputs": [
    {
     "name": "stdout",
     "output_type": "stream",
     "text": [
      "WARNING:tensorflow:Keras is training/fitting/evaluating on array-like data. Keras may not be optimized for this format, so if your input data format is supported by TensorFlow I/O (https://github.com/tensorflow/io) we recommend using that to load a Dataset instead.\n",
      "555/555 [==============================] - 12s 21ms/step\n"
     ]
    }
   ],
   "source": [
    "gdl_train_pred = latent_predictor.predict(input_train_norm)"
   ]
  },
  {
   "cell_type": "code",
   "execution_count": 109,
   "id": "3ab35009-53c7-437b-a093-026e72425442",
   "metadata": {},
   "outputs": [
    {
     "name": "stdout",
     "output_type": "stream",
     "text": [
      "WARNING:tensorflow:Keras is training/fitting/evaluating on array-like data. Keras may not be optimized for this format, so if your input data format is supported by TensorFlow I/O (https://github.com/tensorflow/io) we recommend using that to load a Dataset instead.\n",
      "555/555 [==============================] - 3s 6ms/step\n"
     ]
    }
   ],
   "source": [
    "cnn_train_pred = cnn_latent_predictor.predict(input_train_norm)"
   ]
  },
  {
   "cell_type": "code",
   "execution_count": 111,
   "id": "44d7b983-c8d7-4137-91c2-3d75c1d5f80e",
   "metadata": {},
   "outputs": [
    {
     "data": {
      "text/plain": [
       "3.7495629617098065"
      ]
     },
     "execution_count": 111,
     "metadata": {},
     "output_type": "execute_result"
    }
   ],
   "source": [
    "gdl_train_uniq, gdl_train_counts = np.unique(gdl_train_pred.nonzero()[0], return_counts=True)\n",
    "gdl_train_counts.mean()"
   ]
  },
  {
   "cell_type": "code",
   "execution_count": 120,
   "id": "5586c924-f86e-4e71-bf58-2288138cef30",
   "metadata": {},
   "outputs": [
    {
     "data": {
      "text/plain": [
       "array([ 1,  4,  5, 12, 14, 18, 19, 23, 24, 27, 31])"
      ]
     },
     "execution_count": 120,
     "metadata": {},
     "output_type": "execute_result"
    }
   ],
   "source": [
    "np.unique(gdl_train_pred.nonzero()[1])"
   ]
  },
  {
   "cell_type": "code",
   "execution_count": 113,
   "id": "2020fb72-fca9-4c24-a256-9322a5941f27",
   "metadata": {},
   "outputs": [
    {
     "data": {
      "text/plain": [
       "10.053798003721875"
      ]
     },
     "execution_count": 113,
     "metadata": {},
     "output_type": "execute_result"
    }
   ],
   "source": [
    "cnn_train_uniq, cnn_train_counts = np.unique(cnn_train_pred.nonzero()[0], return_counts=True)\n",
    "cnn_train_counts.mean()"
   ]
  },
  {
   "cell_type": "code",
   "execution_count": 118,
   "id": "d7a98461-1454-4cb9-a538-ad5e8aaae29a",
   "metadata": {},
   "outputs": [
    {
     "data": {
      "text/plain": [
       "(18,)"
      ]
     },
     "execution_count": 118,
     "metadata": {},
     "output_type": "execute_result"
    }
   ],
   "source": [
    "np.unique(cnn_train_pred.nonzero()[1]).shape"
   ]
  },
  {
   "cell_type": "code",
   "execution_count": null,
   "id": "826456f8-017d-4f1f-b358-df5365f0d8ad",
   "metadata": {},
   "outputs": [],
   "source": []
  }
 ],
 "metadata": {
  "kernelspec": {
   "display_name": "Python [conda env:.conda-storm-mode]",
   "language": "python",
   "name": "conda-env-.conda-storm-mode-py"
  },
  "language_info": {
   "codemirror_mode": {
    "name": "ipython",
    "version": 3
   },
   "file_extension": ".py",
   "mimetype": "text/x-python",
   "name": "python",
   "nbconvert_exporter": "python",
   "pygments_lexer": "ipython3",
   "version": "3.10.4"
  }
 },
 "nbformat": 4,
 "nbformat_minor": 5
}
