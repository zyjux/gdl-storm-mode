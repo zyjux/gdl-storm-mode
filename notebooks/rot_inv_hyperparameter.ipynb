{
 "cells": [
  {
   "cell_type": "markdown",
   "id": "d43c4074-9d40-4773-bb9e-5b82768901bb",
   "metadata": {
    "tags": []
   },
   "source": [
    "## Imports"
   ]
  },
  {
   "cell_type": "code",
   "execution_count": 1,
   "id": "0742df0e-83c8-48e9-aaf5-39566a8df26d",
   "metadata": {},
   "outputs": [],
   "source": [
    "import tensorflow as tf\n",
    "from glob import glob\n",
    "from os.path import join\n",
    "from tensorflow.keras import layers, models\n",
    "import xarray as xr\n",
    "import pandas as pd\n",
    "from keras import backend as K\n",
    "import numpy as np\n",
    "import matplotlib.pyplot as plt\n",
    "import imports.GDL_layers as GDL_layers\n",
    "\n",
    "from time import time\n",
    "\n",
    "from sklearn.model_selection import GroupShuffleSplit\n",
    "from sklearn.preprocessing import StandardScaler"
   ]
  },
  {
   "cell_type": "markdown",
   "id": "13598ba8-c4a2-42c4-b264-ed58f86b7aa0",
   "metadata": {
    "tags": []
   },
   "source": [
    "## Load data"
   ]
  },
  {
   "cell_type": "code",
   "execution_count": 2,
   "id": "d63f27c2-f951-46ae-8ee3-f1f16a6110b2",
   "metadata": {},
   "outputs": [],
   "source": [
    "# Find a list of all the datafiles\n",
    "patch_path = \"/glade/scratch/lverhoef/WRF_all/track_data_hrrr_3km_nc_refl/\"\n",
    "patch_files = sorted(glob(join(patch_path, \"*.nc\")))\n",
    "csv_path = \"/glade/scratch/lverhoef/WRF_all/track_data_hrrr_3km_csv_refl/\"\n",
    "csv_files = sorted(glob(join(csv_path, \"track_step_*.csv\")))"
   ]
  },
  {
   "cell_type": "code",
   "execution_count": 3,
   "id": "fa837643-40ac-4a19-b299-febacfd560d7",
   "metadata": {
    "tags": []
   },
   "outputs": [],
   "source": [
    "ds = xr.open_mfdataset(patch_files, combine='nested', concat_dim='p', combine_attrs='drop_conflicts')\n",
    "ds['date'] = (('p'), [str(x).split(\"T\")[0] for x in ds['time'].values])"
   ]
  },
  {
   "cell_type": "code",
   "execution_count": 4,
   "id": "624c9988-6e6b-4715-a78b-6914092bd4fb",
   "metadata": {},
   "outputs": [],
   "source": [
    "flat_seed = 1000\n",
    "gsp = GroupShuffleSplit(n_splits=1, random_state = flat_seed, train_size=.9)\n",
    "splits = list(gsp.split(ds[\"REFL_COM_curr\"], groups = ds[\"date\"]))\n",
    "train_index, test_index = splits[0]\n",
    "input_train_full, input_test = ds.isel(p=train_index), ds.isel(p=test_index)"
   ]
  },
  {
   "cell_type": "code",
   "execution_count": 5,
   "id": "21fe9d30-a066-4487-ae1e-70c55a05f2af",
   "metadata": {},
   "outputs": [],
   "source": [
    "csv_variables = [\"major_axis_length\", \"minor_axis_length\"]\n",
    "csv_data_list = []\n",
    "for csv_file in csv_files:\n",
    "    csv_ds = pd.read_csv(csv_file)\n",
    "    csv_data_list.append(csv_ds[csv_variables].to_xarray().rename({'index': 'p'}))\n",
    "csv_ds = xr.concat(csv_data_list, dim='p').to_array().transpose()"
   ]
  },
  {
   "cell_type": "code",
   "execution_count": 6,
   "id": "0d839958-1bda-471f-9122-6fa134dc4cf3",
   "metadata": {},
   "outputs": [],
   "source": [
    "output_train_full, output_test = csv_ds.isel(p=train_index), csv_ds.isel(p=test_index)"
   ]
  },
  {
   "cell_type": "code",
   "execution_count": 7,
   "id": "f6d7891b-cd12-46ee-9088-93dc920f183f",
   "metadata": {},
   "outputs": [],
   "source": [
    "class ImageScaler(object):\n",
    "    \n",
    "    def __init__(self, with_mean=True, with_std=True, copy=True):\n",
    "        self.with_mean = with_mean\n",
    "        self.with_std = with_std\n",
    "        self.copy = copy\n",
    "        \n",
    "    def fit(self, X, y=None):\n",
    "        self.mean_ = X.mean()\n",
    "        self.std_ = X.std()\n",
    "        return None\n",
    "        \n",
    "    def transform(self, X, copy=None):\n",
    "        try:\n",
    "            self.mean_\n",
    "            self.std_\n",
    "        except NameError:\n",
    "            print('Must run .fit method first')\n",
    "        if copy is None:\n",
    "            copy = self.copy\n",
    "        if self.with_mean:\n",
    "            X -= self.mean_\n",
    "        if self.with_std:\n",
    "            X /= self.std_\n",
    "        return X\n",
    "\n",
    "    def fit_transform(self, X, y=None):\n",
    "        self.fit(X)\n",
    "        return self.transform(X)\n",
    "    \n",
    "    def inverse_transform(self, X, y=None):\n",
    "        try:\n",
    "            self.mean_\n",
    "            self.std_\n",
    "        except NameError:\n",
    "            print('Must run .fit method first')\n",
    "        if self.with_std:\n",
    "            X *= self.std_\n",
    "        if self.with_mean:\n",
    "            X += self.mean_"
   ]
  },
  {
   "cell_type": "code",
   "execution_count": 8,
   "id": "a4fd0ed0-7ac1-42f1-8375-7388ea2a86ca",
   "metadata": {},
   "outputs": [],
   "source": [
    "gsp = GroupShuffleSplit(n_splits=1, train_size=0.885)\n",
    "splits = list(gsp.split(input_train_full[\"REFL_COM_curr\"], groups=input_train_full['date']))\n",
    "train_index, val_index = splits[0]\n",
    "input_train, input_val = input_train_full.isel(p=train_index), input_train_full.isel(p=val_index)\n",
    "output_train, output_val = output_train_full.isel(p=train_index), output_train_full.isel(p=val_index)\n",
    "\n",
    "x_scaler, y_scaler = ImageScaler(), StandardScaler()\n",
    "input_train_norm = x_scaler.fit_transform(input_train[\"REFL_COM_curr\"].values)\n",
    "input_val_norm = x_scaler.transform(input_val[\"REFL_COM_curr\"].values)\n",
    "input_test_norm = x_scaler.transform(input_test[\"REFL_COM_curr\"].values)\n",
    "\n",
    "output_train_norm = y_scaler.fit_transform(output_train.values)\n",
    "output_val_norm = y_scaler.transform(output_val.values)\n",
    "output_test_norm = y_scaler.transform(output_test.values)"
   ]
  },
  {
   "cell_type": "markdown",
   "id": "c5354bbd-333d-49b6-a61d-53dc199ea1d0",
   "metadata": {
    "tags": []
   },
   "source": [
    "## Train Models"
   ]
  },
  {
   "cell_type": "code",
   "execution_count": 11,
   "id": "3e11ef0a-3959-462a-a57f-d4870573d446",
   "metadata": {},
   "outputs": [],
   "source": [
    "ricnn_models = [models.Sequential() for i in range(6)]\n",
    "filters = [32, 64, 64, 128]\n",
    "for inv_layer in range(6):\n",
    "    ricnn_models[inv_layer].add(GDL_layers.RotEquivConv2D(filters[0], (3, 3), rot_axis=False, input_shape=(144, 144, 1)))\n",
    "    ricnn_models[inv_layer].add(GDL_layers.RotEquivPool2D((2, 2)))\n",
    "    if inv_layer == 0:\n",
    "        ricnn_models[inv_layer].add(GDL_layers.RotInvPool())\n",
    "    for layer, filts in enumerate(filters):\n",
    "        if layer < inv_layer:\n",
    "            ricnn_models[inv_layer].add(GDL_layers.RotEquivConv2D(filters[layer], (3, 3)))\n",
    "            ricnn_models[inv_layer].add(GDL_layers.RotEquivPool2D((2, 2)))\n",
    "            if layer + 1 == inv_layer:\n",
    "                ricnn_models[inv_layer].add(GDL_layers.RotInvPool())\n",
    "        else:\n",
    "            ricnn_models[inv_layer].add(layers.Conv2D(filters[layer], (3, 3), activation='relu'))\n",
    "            ricnn_models[inv_layer].add(layers.MaxPooling2D((2, 2)))\n",
    "    ricnn_models[inv_layer].add(layers.Flatten())\n",
    "    ricnn_models[inv_layer].add(layers.Dense(32, activation='relu'))\n",
    "    ricnn_models[inv_layer].add(layers.Dense(2))\n",
    "    ricnn_models[inv_layer].compile(\n",
    "        optimizer='nadam',\n",
    "        loss='mse'\n",
    "    )"
   ]
  },
  {
   "cell_type": "code",
   "execution_count": null,
   "id": "9f0082d7-bb9a-434c-a9d5-fce4ec479b8b",
   "metadata": {},
   "outputs": [
    {
     "name": "stdout",
     "output_type": "stream",
     "text": [
      "Model: \"sequential_6\"\n",
      "_________________________________________________________________\n",
      " Layer (type)                Output Shape              Param #   \n",
      "=================================================================\n",
      " rot_equiv_conv2d_1 (RotEqui  (None, 142, 142, 4, 32)  320       \n",
      " vConv2D)                                                        \n",
      "                                                                 \n",
      " rot_equiv_pool2d_1 (RotEqui  (None, 71, 71, 4, 32)    0         \n",
      " vPool2D)                                                        \n",
      "                                                                 \n",
      " rot_inv_pool (RotInvPool)   (None, 71, 71, 32)        0         \n",
      "                                                                 \n",
      " conv2d_1 (Conv2D)           (None, 69, 69, 32)        9248      \n",
      "                                                                 \n",
      " max_pooling2d_3 (MaxPooling  (None, 34, 34, 32)       0         \n",
      " 2D)                                                             \n",
      "                                                                 \n",
      " conv2d_2 (Conv2D)           (None, 32, 32, 64)        18496     \n",
      "                                                                 \n",
      " max_pooling2d_4 (MaxPooling  (None, 16, 16, 64)       0         \n",
      " 2D)                                                             \n",
      "                                                                 \n",
      " conv2d_3 (Conv2D)           (None, 14, 14, 64)        36928     \n",
      "                                                                 \n",
      " max_pooling2d_5 (MaxPooling  (None, 7, 7, 64)         0         \n",
      " 2D)                                                             \n",
      "                                                                 \n",
      " conv2d_4 (Conv2D)           (None, 5, 5, 128)         73856     \n",
      "                                                                 \n",
      " max_pooling2d_6 (MaxPooling  (None, 2, 2, 128)        0         \n",
      " 2D)                                                             \n",
      "                                                                 \n",
      " flatten (Flatten)           (None, 512)               0         \n",
      "                                                                 \n",
      " dense (Dense)               (None, 32)                16416     \n",
      "                                                                 \n",
      " dense_1 (Dense)             (None, 2)                 66        \n",
      "                                                                 \n",
      "=================================================================\n",
      "Total params: 155,330\n",
      "Trainable params: 155,330\n",
      "Non-trainable params: 0\n",
      "_________________________________________________________________\n",
      "Epoch 1/10\n"
     ]
    },
    {
     "name": "stderr",
     "output_type": "stream",
     "text": [
      "2022-12-19 08:54:03.356219: I tensorflow/stream_executor/cuda/cuda_dnn.cc:384] Loaded cuDNN version 8100\n"
     ]
    },
    {
     "name": "stdout",
     "output_type": "stream",
     "text": [
      "1248/1248 [==============================] - 64s 46ms/step - loss: 0.3177 - val_loss: 0.2182\n",
      "Epoch 2/10\n",
      "1248/1248 [==============================] - 56s 45ms/step - loss: 0.1781 - val_loss: 0.1911\n",
      "Epoch 3/10\n",
      "1248/1248 [==============================] - 56s 45ms/step - loss: 0.1426 - val_loss: 0.1263\n",
      "Epoch 4/10\n",
      "1248/1248 [==============================] - 56s 45ms/step - loss: 0.1293 - val_loss: 0.1611\n",
      "Epoch 5/10\n",
      "1248/1248 [==============================] - 56s 45ms/step - loss: 0.1157 - val_loss: 0.1188\n",
      "Epoch 6/10\n",
      "1248/1248 [==============================] - 56s 45ms/step - loss: 0.0979 - val_loss: 0.1119\n",
      "Epoch 7/10\n",
      "1248/1248 [==============================] - 56s 45ms/step - loss: 0.0907 - val_loss: 0.1243\n",
      "Epoch 8/10\n",
      "1248/1248 [==============================] - 56s 45ms/step - loss: 0.0820 - val_loss: 0.1086\n",
      "Epoch 9/10\n",
      "1248/1248 [==============================] - 56s 45ms/step - loss: 0.0740 - val_loss: 0.1039\n",
      "Epoch 10/10\n",
      "1248/1248 [==============================] - 56s 45ms/step - loss: 0.0714 - val_loss: 0.1052\n",
      "Time elapsed: 571.598\n",
      "195/195 [==============================] - 4s 18ms/step - loss: 0.0897\n"
     ]
    },
    {
     "name": "stderr",
     "output_type": "stream",
     "text": [
      "WARNING:absl:Found untraced functions such as _jit_compiled_convolution_op, _jit_compiled_convolution_op, _jit_compiled_convolution_op, _jit_compiled_convolution_op while saving (showing 4 of 4). These functions will not be directly callable after loading.\n"
     ]
    },
    {
     "name": "stdout",
     "output_type": "stream",
     "text": [
      "INFO:tensorflow:Assets written to: saved_models/rot_inv_hyper/inv_layer_0/assets\n"
     ]
    },
    {
     "name": "stderr",
     "output_type": "stream",
     "text": [
      "INFO:tensorflow:Assets written to: saved_models/rot_inv_hyper/inv_layer_0/assets\n"
     ]
    },
    {
     "name": "stdout",
     "output_type": "stream",
     "text": [
      "Model: \"sequential_7\"\n",
      "_________________________________________________________________\n",
      " Layer (type)                Output Shape              Param #   \n",
      "=================================================================\n",
      " rot_equiv_conv2d_2 (RotEqui  (None, 142, 142, 4, 32)  320       \n",
      " vConv2D)                                                        \n",
      "                                                                 \n",
      " rot_equiv_pool2d_2 (RotEqui  (None, 71, 71, 4, 32)    0         \n",
      " vPool2D)                                                        \n",
      "                                                                 \n",
      " rot_equiv_conv2d_3 (RotEqui  (None, 69, 69, 4, 32)    9248      \n",
      " vConv2D)                                                        \n",
      "                                                                 \n",
      " rot_equiv_pool2d_3 (RotEqui  (None, 34, 34, 4, 32)    0         \n",
      " vPool2D)                                                        \n",
      "                                                                 \n",
      " rot_inv_pool_1 (RotInvPool)  (None, 34, 34, 32)       0         \n",
      "                                                                 \n",
      " conv2d_5 (Conv2D)           (None, 32, 32, 64)        18496     \n",
      "                                                                 \n",
      " max_pooling2d_9 (MaxPooling  (None, 16, 16, 64)       0         \n",
      " 2D)                                                             \n",
      "                                                                 \n",
      " conv2d_6 (Conv2D)           (None, 14, 14, 64)        36928     \n",
      "                                                                 \n",
      " max_pooling2d_10 (MaxPoolin  (None, 7, 7, 64)         0         \n",
      " g2D)                                                            \n",
      "                                                                 \n",
      " conv2d_7 (Conv2D)           (None, 5, 5, 128)         73856     \n",
      "                                                                 \n",
      " max_pooling2d_11 (MaxPoolin  (None, 2, 2, 128)        0         \n",
      " g2D)                                                            \n",
      "                                                                 \n",
      " flatten_1 (Flatten)         (None, 512)               0         \n",
      "                                                                 \n",
      " dense_2 (Dense)             (None, 32)                16416     \n",
      "                                                                 \n",
      " dense_3 (Dense)             (None, 2)                 66        \n",
      "                                                                 \n",
      "=================================================================\n",
      "Total params: 155,330\n",
      "Trainable params: 155,330\n",
      "Non-trainable params: 0\n",
      "_________________________________________________________________\n",
      "Epoch 1/10\n",
      "1248/1248 [==============================] - 76s 59ms/step - loss: 0.3099 - val_loss: 0.3147\n",
      "Epoch 2/10\n",
      "1248/1248 [==============================] - 70s 56ms/step - loss: 0.1773 - val_loss: 0.1316\n",
      "Epoch 3/10\n",
      "1248/1248 [==============================] - 70s 56ms/step - loss: 0.1238 - val_loss: 0.1058\n",
      "Epoch 4/10\n",
      "1248/1248 [==============================] - 70s 56ms/step - loss: 0.1031 - val_loss: 0.1500\n",
      "Epoch 5/10\n",
      "1248/1248 [==============================] - 69s 56ms/step - loss: 0.0889 - val_loss: 0.0947\n",
      "Epoch 6/10\n",
      "1248/1248 [==============================] - 72s 58ms/step - loss: 0.0781 - val_loss: 0.0901\n",
      "Epoch 7/10\n",
      "1248/1248 [==============================] - 69s 56ms/step - loss: 0.0737 - val_loss: 0.0874\n",
      "Epoch 8/10\n",
      "1248/1248 [==============================] - 70s 56ms/step - loss: 0.0633 - val_loss: 0.1004\n",
      "Epoch 9/10\n",
      "1248/1248 [==============================] - 70s 56ms/step - loss: 0.0561 - val_loss: 0.0795\n",
      "Epoch 10/10\n",
      "1248/1248 [==============================] - 70s 56ms/step - loss: 0.0548 - val_loss: 0.0885\n",
      "Time elapsed: 707.718\n",
      "195/195 [==============================] - 4s 19ms/step - loss: 0.0711\n"
     ]
    },
    {
     "name": "stderr",
     "output_type": "stream",
     "text": [
      "WARNING:absl:Found untraced functions such as _jit_compiled_convolution_op, _jit_compiled_convolution_op, _jit_compiled_convolution_op while saving (showing 3 of 3). These functions will not be directly callable after loading.\n"
     ]
    },
    {
     "name": "stdout",
     "output_type": "stream",
     "text": [
      "INFO:tensorflow:Assets written to: saved_models/rot_inv_hyper/inv_layer_1/assets\n"
     ]
    },
    {
     "name": "stderr",
     "output_type": "stream",
     "text": [
      "INFO:tensorflow:Assets written to: saved_models/rot_inv_hyper/inv_layer_1/assets\n"
     ]
    },
    {
     "name": "stdout",
     "output_type": "stream",
     "text": [
      "Model: \"sequential_8\"\n",
      "_________________________________________________________________\n",
      " Layer (type)                Output Shape              Param #   \n",
      "=================================================================\n",
      " rot_equiv_conv2d_4 (RotEqui  (None, 142, 142, 4, 32)  320       \n",
      " vConv2D)                                                        \n",
      "                                                                 \n",
      " rot_equiv_pool2d_4 (RotEqui  (None, 71, 71, 4, 32)    0         \n",
      " vPool2D)                                                        \n",
      "                                                                 \n",
      " rot_equiv_conv2d_5 (RotEqui  (None, 69, 69, 4, 32)    9248      \n",
      " vConv2D)                                                        \n",
      "                                                                 \n",
      " rot_equiv_pool2d_5 (RotEqui  (None, 34, 34, 4, 32)    0         \n",
      " vPool2D)                                                        \n",
      "                                                                 \n",
      " rot_equiv_conv2d_6 (RotEqui  (None, 32, 32, 4, 64)    18496     \n",
      " vConv2D)                                                        \n",
      "                                                                 \n",
      " rot_equiv_pool2d_6 (RotEqui  (None, 16, 16, 4, 64)    0         \n",
      " vPool2D)                                                        \n",
      "                                                                 \n",
      " rot_inv_pool_2 (RotInvPool)  (None, 16, 16, 64)       0         \n",
      "                                                                 \n",
      " conv2d_8 (Conv2D)           (None, 14, 14, 64)        36928     \n",
      "                                                                 \n",
      " max_pooling2d_15 (MaxPoolin  (None, 7, 7, 64)         0         \n",
      " g2D)                                                            \n",
      "                                                                 \n",
      " conv2d_9 (Conv2D)           (None, 5, 5, 128)         73856     \n",
      "                                                                 \n",
      " max_pooling2d_16 (MaxPoolin  (None, 2, 2, 128)        0         \n",
      " g2D)                                                            \n",
      "                                                                 \n",
      " flatten_2 (Flatten)         (None, 512)               0         \n",
      "                                                                 \n",
      " dense_4 (Dense)             (None, 32)                16416     \n",
      "                                                                 \n",
      " dense_5 (Dense)             (None, 2)                 66        \n",
      "                                                                 \n",
      "=================================================================\n",
      "Total params: 155,330\n",
      "Trainable params: 155,330\n",
      "Non-trainable params: 0\n",
      "_________________________________________________________________\n",
      "Epoch 1/10\n",
      "1248/1248 [==============================] - 80s 61ms/step - loss: 0.3137 - val_loss: 0.1657\n",
      "Epoch 2/10\n",
      "1248/1248 [==============================] - 76s 61ms/step - loss: 0.1689 - val_loss: 0.1231\n",
      "Epoch 3/10\n",
      "1248/1248 [==============================] - 76s 61ms/step - loss: 0.1156 - val_loss: 0.1106\n",
      "Epoch 4/10\n",
      "1248/1248 [==============================] - 76s 61ms/step - loss: 0.0964 - val_loss: 0.1079\n",
      "Epoch 5/10\n",
      "1248/1248 [==============================] - 76s 61ms/step - loss: 0.0755 - val_loss: 0.1072\n",
      "Epoch 6/10\n",
      "1248/1248 [==============================] - 76s 61ms/step - loss: 0.0694 - val_loss: 0.0807\n",
      "Epoch 7/10\n",
      "1248/1248 [==============================] - 76s 61ms/step - loss: 0.0591 - val_loss: 0.0799\n",
      "Epoch 8/10\n",
      "1248/1248 [==============================] - 76s 61ms/step - loss: 0.0544 - val_loss: 0.0784\n",
      "Epoch 9/10\n",
      "1248/1248 [==============================] - 76s 61ms/step - loss: 0.0489 - val_loss: 0.0886\n",
      "Epoch 10/10\n",
      "1248/1248 [==============================] - 75s 60ms/step - loss: 0.0468 - val_loss: 0.0786\n",
      "Time elapsed: 765.618\n",
      "195/195 [==============================] - 4s 20ms/step - loss: 0.0748\n"
     ]
    },
    {
     "name": "stderr",
     "output_type": "stream",
     "text": [
      "WARNING:absl:Found untraced functions such as _jit_compiled_convolution_op, _jit_compiled_convolution_op while saving (showing 2 of 2). These functions will not be directly callable after loading.\n"
     ]
    },
    {
     "name": "stdout",
     "output_type": "stream",
     "text": [
      "INFO:tensorflow:Assets written to: saved_models/rot_inv_hyper/inv_layer_2/assets\n"
     ]
    },
    {
     "name": "stderr",
     "output_type": "stream",
     "text": [
      "INFO:tensorflow:Assets written to: saved_models/rot_inv_hyper/inv_layer_2/assets\n"
     ]
    },
    {
     "name": "stdout",
     "output_type": "stream",
     "text": [
      "Model: \"sequential_9\"\n",
      "_________________________________________________________________\n",
      " Layer (type)                Output Shape              Param #   \n",
      "=================================================================\n",
      " rot_equiv_conv2d_7 (RotEqui  (None, 142, 142, 4, 32)  320       \n",
      " vConv2D)                                                        \n",
      "                                                                 \n",
      " rot_equiv_pool2d_7 (RotEqui  (None, 71, 71, 4, 32)    0         \n",
      " vPool2D)                                                        \n",
      "                                                                 \n",
      " rot_equiv_conv2d_8 (RotEqui  (None, 69, 69, 4, 32)    9248      \n",
      " vConv2D)                                                        \n",
      "                                                                 \n",
      " rot_equiv_pool2d_8 (RotEqui  (None, 34, 34, 4, 32)    0         \n",
      " vPool2D)                                                        \n",
      "                                                                 \n",
      " rot_equiv_conv2d_9 (RotEqui  (None, 32, 32, 4, 64)    18496     \n",
      " vConv2D)                                                        \n",
      "                                                                 \n",
      " rot_equiv_pool2d_9 (RotEqui  (None, 16, 16, 4, 64)    0         \n",
      " vPool2D)                                                        \n",
      "                                                                 \n",
      " rot_equiv_conv2d_10 (RotEqu  (None, 14, 14, 4, 64)    36928     \n",
      " ivConv2D)                                                       \n",
      "                                                                 \n",
      " rot_equiv_pool2d_10 (RotEqu  (None, 7, 7, 4, 64)      0         \n",
      " ivPool2D)                                                       \n",
      "                                                                 \n",
      " rot_inv_pool_3 (RotInvPool)  (None, 7, 7, 64)         0         \n",
      "                                                                 \n",
      " conv2d_10 (Conv2D)          (None, 5, 5, 128)         73856     \n",
      "                                                                 \n",
      " max_pooling2d_21 (MaxPoolin  (None, 2, 2, 128)        0         \n",
      " g2D)                                                            \n",
      "                                                                 \n",
      " flatten_3 (Flatten)         (None, 512)               0         \n",
      "                                                                 \n",
      " dense_6 (Dense)             (None, 32)                16416     \n",
      "                                                                 \n",
      " dense_7 (Dense)             (None, 2)                 66        \n",
      "                                                                 \n",
      "=================================================================\n",
      "Total params: 155,330\n",
      "Trainable params: 155,330\n",
      "Non-trainable params: 0\n",
      "_________________________________________________________________\n",
      "Epoch 1/10\n",
      "1248/1248 [==============================] - 83s 63ms/step - loss: 0.2774 - val_loss: 0.2936\n",
      "Epoch 2/10\n",
      "1248/1248 [==============================] - 78s 63ms/step - loss: 0.1258 - val_loss: 0.0989\n",
      "Epoch 3/10\n",
      "1248/1248 [==============================] - 78s 63ms/step - loss: 0.0901 - val_loss: 0.1477\n",
      "Epoch 4/10\n",
      "1248/1248 [==============================] - 78s 63ms/step - loss: 0.0689 - val_loss: 0.0942\n",
      "Epoch 5/10\n",
      "1248/1248 [==============================] - 78s 63ms/step - loss: 0.0580 - val_loss: 0.0763\n",
      "Epoch 6/10\n",
      "1248/1248 [==============================] - 78s 62ms/step - loss: 0.0550 - val_loss: 0.0992\n",
      "Epoch 7/10\n",
      "1248/1248 [==============================] - 78s 63ms/step - loss: 0.0419 - val_loss: 0.0703\n",
      "Epoch 8/10\n",
      "1248/1248 [==============================] - 79s 63ms/step - loss: 0.0360 - val_loss: 0.0700\n",
      "Epoch 9/10\n",
      "1248/1248 [==============================] - 79s 63ms/step - loss: 0.0336 - val_loss: 0.0688\n",
      "Epoch 10/10\n",
      "1248/1248 [==============================] - 79s 63ms/step - loss: 0.0334 - val_loss: 0.0684\n",
      "Time elapsed: 791.550\n",
      "195/195 [==============================] - 4s 21ms/step - loss: 0.0667\n"
     ]
    },
    {
     "name": "stderr",
     "output_type": "stream",
     "text": [
      "WARNING:absl:Found untraced functions such as _jit_compiled_convolution_op while saving (showing 1 of 1). These functions will not be directly callable after loading.\n"
     ]
    },
    {
     "name": "stdout",
     "output_type": "stream",
     "text": [
      "INFO:tensorflow:Assets written to: saved_models/rot_inv_hyper/inv_layer_3/assets\n"
     ]
    },
    {
     "name": "stderr",
     "output_type": "stream",
     "text": [
      "INFO:tensorflow:Assets written to: saved_models/rot_inv_hyper/inv_layer_3/assets\n"
     ]
    },
    {
     "name": "stdout",
     "output_type": "stream",
     "text": [
      "Model: \"sequential_10\"\n",
      "_________________________________________________________________\n",
      " Layer (type)                Output Shape              Param #   \n",
      "=================================================================\n",
      " rot_equiv_conv2d_11 (RotEqu  (None, 142, 142, 4, 32)  320       \n",
      " ivConv2D)                                                       \n",
      "                                                                 \n",
      " rot_equiv_pool2d_11 (RotEqu  (None, 71, 71, 4, 32)    0         \n",
      " ivPool2D)                                                       \n",
      "                                                                 \n",
      " rot_equiv_conv2d_12 (RotEqu  (None, 69, 69, 4, 32)    9248      \n",
      " ivConv2D)                                                       \n",
      "                                                                 \n",
      " rot_equiv_pool2d_12 (RotEqu  (None, 34, 34, 4, 32)    0         \n",
      " ivPool2D)                                                       \n",
      "                                                                 \n",
      " rot_equiv_conv2d_13 (RotEqu  (None, 32, 32, 4, 64)    18496     \n",
      " ivConv2D)                                                       \n",
      "                                                                 \n",
      " rot_equiv_pool2d_13 (RotEqu  (None, 16, 16, 4, 64)    0         \n",
      " ivPool2D)                                                       \n",
      "                                                                 \n",
      " rot_equiv_conv2d_14 (RotEqu  (None, 14, 14, 4, 64)    36928     \n",
      " ivConv2D)                                                       \n",
      "                                                                 \n",
      " rot_equiv_pool2d_14 (RotEqu  (None, 7, 7, 4, 64)      0         \n",
      " ivPool2D)                                                       \n",
      "                                                                 \n",
      " rot_equiv_conv2d_15 (RotEqu  (None, 5, 5, 4, 128)     73856     \n",
      " ivConv2D)                                                       \n",
      "                                                                 \n",
      " rot_equiv_pool2d_15 (RotEqu  (None, 2, 2, 4, 128)     0         \n",
      " ivPool2D)                                                       \n",
      "                                                                 \n",
      " rot_inv_pool_4 (RotInvPool)  (None, 2, 2, 128)        0         \n",
      "                                                                 \n",
      " flatten_4 (Flatten)         (None, 512)               0         \n",
      "                                                                 \n",
      " dense_8 (Dense)             (None, 32)                16416     \n",
      "                                                                 \n",
      " dense_9 (Dense)             (None, 2)                 66        \n",
      "                                                                 \n",
      "=================================================================\n",
      "Total params: 155,330\n",
      "Trainable params: 155,330\n",
      "Non-trainable params: 0\n",
      "_________________________________________________________________\n",
      "Epoch 1/10\n",
      "1248/1248 [==============================] - 85s 65ms/step - loss: 0.2632 - val_loss: 0.1298\n",
      "Epoch 2/10\n",
      "1248/1248 [==============================] - 80s 64ms/step - loss: 0.1179 - val_loss: 0.1034\n",
      "Epoch 3/10\n",
      "1248/1248 [==============================] - 80s 64ms/step - loss: 0.0848 - val_loss: 0.1072\n",
      "Epoch 4/10\n",
      "1248/1248 [==============================] - 80s 64ms/step - loss: 0.0630 - val_loss: 0.0932\n",
      "Epoch 5/10\n",
      "1248/1248 [==============================] - 80s 64ms/step - loss: 0.0485 - val_loss: 0.0789\n",
      "Epoch 6/10\n",
      "1248/1248 [==============================] - 80s 64ms/step - loss: 0.0459 - val_loss: 0.0896\n",
      "Epoch 7/10\n",
      "1248/1248 [==============================] - 80s 64ms/step - loss: 0.0394 - val_loss: 0.0645\n",
      "Epoch 8/10\n",
      "1248/1248 [==============================] - 80s 64ms/step - loss: 0.0369 - val_loss: 0.0665\n",
      "Epoch 9/10\n",
      "1248/1248 [==============================] - 80s 64ms/step - loss: 0.0329 - val_loss: 0.0711\n",
      "Epoch 10/10\n",
      "1248/1248 [==============================] - 80s 64ms/step - loss: 0.0293 - val_loss: 0.0665\n",
      "Time elapsed: 808.888\n",
      "195/195 [==============================] - 5s 21ms/step - loss: 0.0603\n",
      "INFO:tensorflow:Assets written to: saved_models/rot_inv_hyper/inv_layer_4/assets\n"
     ]
    },
    {
     "name": "stderr",
     "output_type": "stream",
     "text": [
      "INFO:tensorflow:Assets written to: saved_models/rot_inv_hyper/inv_layer_4/assets\n"
     ]
    },
    {
     "name": "stdout",
     "output_type": "stream",
     "text": [
      "Model: \"sequential_11\"\n",
      "_________________________________________________________________\n",
      " Layer (type)                Output Shape              Param #   \n",
      "=================================================================\n",
      " rot_equiv_conv2d_16 (RotEqu  (None, 142, 142, 4, 32)  320       \n",
      " ivConv2D)                                                       \n",
      "                                                                 \n",
      " rot_equiv_pool2d_16 (RotEqu  (None, 71, 71, 4, 32)    0         \n",
      " ivPool2D)                                                       \n",
      "                                                                 \n",
      " rot_equiv_conv2d_17 (RotEqu  (None, 69, 69, 4, 32)    9248      \n",
      " ivConv2D)                                                       \n",
      "                                                                 \n",
      " rot_equiv_pool2d_17 (RotEqu  (None, 34, 34, 4, 32)    0         \n",
      " ivPool2D)                                                       \n",
      "                                                                 \n",
      " rot_equiv_conv2d_18 (RotEqu  (None, 32, 32, 4, 64)    18496     \n",
      " ivConv2D)                                                       \n",
      "                                                                 \n",
      " rot_equiv_pool2d_18 (RotEqu  (None, 16, 16, 4, 64)    0         \n",
      " ivPool2D)                                                       \n",
      "                                                                 \n",
      " rot_equiv_conv2d_19 (RotEqu  (None, 14, 14, 4, 64)    36928     \n",
      " ivConv2D)                                                       \n",
      "                                                                 \n",
      " rot_equiv_pool2d_19 (RotEqu  (None, 7, 7, 4, 64)      0         \n",
      " ivPool2D)                                                       \n",
      "                                                                 \n",
      " rot_equiv_conv2d_20 (RotEqu  (None, 5, 5, 4, 128)     73856     \n",
      " ivConv2D)                                                       \n",
      "                                                                 \n",
      " rot_equiv_pool2d_20 (RotEqu  (None, 2, 2, 4, 128)     0         \n",
      " ivPool2D)                                                       \n",
      "                                                                 \n",
      " flatten_5 (Flatten)         (None, 2048)              0         \n",
      "                                                                 \n",
      " dense_10 (Dense)            (None, 32)                65568     \n",
      "                                                                 \n",
      " dense_11 (Dense)            (None, 2)                 66        \n",
      "                                                                 \n",
      "=================================================================\n",
      "Total params: 204,482\n",
      "Trainable params: 204,482\n",
      "Non-trainable params: 0\n",
      "_________________________________________________________________\n",
      "Epoch 1/10\n",
      "1248/1248 [==============================] - 85s 65ms/step - loss: 0.2861 - val_loss: 0.2096\n",
      "Epoch 2/10\n",
      "1248/1248 [==============================] - 80s 64ms/step - loss: 0.1343 - val_loss: 0.1267\n",
      "Epoch 3/10\n",
      "1248/1248 [==============================] - 80s 64ms/step - loss: 0.0912 - val_loss: 0.0915\n",
      "Epoch 4/10\n",
      "1248/1248 [==============================] - 80s 64ms/step - loss: 0.0699 - val_loss: 0.0833\n",
      "Epoch 5/10\n",
      "1248/1248 [==============================] - 80s 64ms/step - loss: 0.0642 - val_loss: 0.0727\n",
      "Epoch 6/10\n",
      "1248/1248 [==============================] - 80s 64ms/step - loss: 0.0444 - val_loss: 0.0785\n",
      "Epoch 7/10\n",
      "1248/1248 [==============================] - 80s 64ms/step - loss: 0.0425 - val_loss: 0.0842\n",
      "Epoch 8/10\n",
      "1248/1248 [==============================] - 80s 64ms/step - loss: 0.0418 - val_loss: 0.0765\n",
      "Epoch 9/10\n",
      "1248/1248 [==============================] - 80s 64ms/step - loss: 0.0324 - val_loss: 0.0699\n",
      "Epoch 10/10\n",
      "1248/1248 [==============================] - 80s 64ms/step - loss: 0.0309 - val_loss: 0.0684\n",
      "Time elapsed: 807.633\n",
      "195/195 [==============================] - 5s 22ms/step - loss: 0.0555\n",
      "INFO:tensorflow:Assets written to: saved_models/rot_inv_hyper/inv_layer_5/assets\n"
     ]
    },
    {
     "name": "stderr",
     "output_type": "stream",
     "text": [
      "INFO:tensorflow:Assets written to: saved_models/rot_inv_hyper/inv_layer_5/assets\n"
     ]
    }
   ],
   "source": [
    "ricnn_history = []\n",
    "ricnn_test = []\n",
    "time_history = []\n",
    "for inv_layer, model in enumerate(ricnn_models):\n",
    "    model.summary()\n",
    "    start = time()\n",
    "    ricnn_history.append(model.fit(x=input_train_norm, y=output_train_norm, epochs=10, validation_data=(input_val_norm, output_val_norm)))\n",
    "    time_history.append(time() - start)\n",
    "    print(f'Time elapsed: {time_history[-1]:.3f}')\n",
    "    ricnn_test.append(model.evaluate(x=input_test_norm, y=output_test_norm))\n",
    "    model.save(f\"saved_models/rot_inv_hyper/inv_layer_{inv_layer}\")\n",
    "    K.clear_session()"
   ]
  },
  {
   "cell_type": "code",
   "execution_count": 19,
   "id": "a6387474-5f98-40b1-8f95-58afbcd1aab3",
   "metadata": {},
   "outputs": [
    {
     "name": "stdout",
     "output_type": "stream",
     "text": [
      "[0.08970838040113449, 0.0711064487695694, 0.07478220015764236, 0.06666864454746246, 0.06033242121338844, 0.05551617220044136]\n",
      "[571.5980935096741, 707.718359708786, 765.6176037788391, 791.5497725009918, 808.8878953456879, 807.6326174736023]\n"
     ]
    }
   ],
   "source": [
    "print(ricnn_test)\n",
    "print(time_history)"
   ]
  },
  {
   "cell_type": "code",
   "execution_count": null,
   "id": "75533ae6-39b2-46ab-8cf1-ec28c49b4005",
   "metadata": {},
   "outputs": [],
   "source": [
    "F, ax = plt.subplots(1, 1, figsize=(15, 10))\n",
    "colors = ['orange', 'red', 'blue', 'green', 'gold', 'purple']\n",
    "for i in range(6):\n",
    "    ax.plot(ricnn_history[i].history['loss'], color=colors[i], label = f'Layer {i} inv train')\n",
    "    ax.plot(ricnn_history[i].history['val_loss'], color=colors[i], label = f'Layer {i} inv val', linestyle='dashed')\n",
    "plt.legend()\n",
    "ax.set_title(\"History\")\n",
    "ax.set_ylim(bottom=0)"
   ]
  },
  {
   "cell_type": "code",
   "execution_count": null,
   "id": "0ec36e69-7d2d-48e3-bd57-e51f57017eb1",
   "metadata": {},
   "outputs": [],
   "source": []
  }
 ],
 "metadata": {
  "kernelspec": {
   "display_name": "Python [conda env:.conda-storm-mode]",
   "language": "python",
   "name": "conda-env-.conda-storm-mode-py"
  },
  "language_info": {
   "codemirror_mode": {
    "name": "ipython",
    "version": 3
   },
   "file_extension": ".py",
   "mimetype": "text/x-python",
   "name": "python",
   "nbconvert_exporter": "python",
   "pygments_lexer": "ipython3",
   "version": "3.10.4"
  }
 },
 "nbformat": 4,
 "nbformat_minor": 5
}
