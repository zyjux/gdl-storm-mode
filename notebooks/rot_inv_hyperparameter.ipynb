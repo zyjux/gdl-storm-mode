{
 "cells": [
  {
   "cell_type": "markdown",
   "id": "d43c4074-9d40-4773-bb9e-5b82768901bb",
   "metadata": {
    "tags": []
   },
   "source": [
    "## Imports"
   ]
  },
  {
   "cell_type": "code",
   "execution_count": 1,
   "id": "0742df0e-83c8-48e9-aaf5-39566a8df26d",
   "metadata": {},
   "outputs": [
    {
     "name": "stderr",
     "output_type": "stream",
     "text": [
      "2022-08-22 09:24:16.600272: I tensorflow/core/util/util.cc:169] oneDNN custom operations are on. You may see slightly different numerical results due to floating-point round-off errors from different computation orders. To turn them off, set the environment variable `TF_ENABLE_ONEDNN_OPTS=0`.\n"
     ]
    }
   ],
   "source": [
    "import tensorflow as tf\n",
    "from glob import glob\n",
    "from os.path import join\n",
    "from tensorflow.keras import layers, models\n",
    "import xarray as xr\n",
    "import pandas as pd\n",
    "from keras import backend as K\n",
    "import numpy as np\n",
    "import matplotlib.pyplot as plt\n",
    "import imports.GDL_layers as GDL_layers"
   ]
  },
  {
   "cell_type": "markdown",
   "id": "13598ba8-c4a2-42c4-b264-ed58f86b7aa0",
   "metadata": {
    "tags": []
   },
   "source": [
    "## Load data"
   ]
  },
  {
   "cell_type": "code",
   "execution_count": 2,
   "id": "7afe3aee-14b2-40f7-9158-efd870d91ad2",
   "metadata": {},
   "outputs": [],
   "source": [
    "# Find a list of all the datafiles\n",
    "patch_path = \"/glade/scratch/lverhoef/WRF_all/track_data_hrrr_3km_nc_refl/\"\n",
    "patch_files = sorted(glob(join(patch_path, \"*.nc\")))\n",
    "patch_ds = xr.open_dataset(patch_files[0])\n",
    "csv_path = \"/glade/scratch/lverhoef/WRF_all/track_data_hrrr_3km_csv_refl/\"\n",
    "csv_files = sorted(glob(join(csv_path, \"track_step_*.csv\")))\n",
    "meta_ds = pd.read_csv(csv_files[0])"
   ]
  },
  {
   "cell_type": "code",
   "execution_count": 3,
   "id": "a4c15a40-c6b6-4398-b61e-9456d06bf15f",
   "metadata": {},
   "outputs": [
    {
     "data": {
      "text/plain": [
       "'/glade/scratch/lverhoef/WRF_all/track_data_hrrr_3km_nc_refl/NCARSTORM_20101024-0000_d01_model_patches.nc'"
      ]
     },
     "execution_count": 3,
     "metadata": {},
     "output_type": "execute_result"
    }
   ],
   "source": [
    "patch_files[0]"
   ]
  },
  {
   "cell_type": "code",
   "execution_count": 4,
   "id": "254f696a-fded-491d-937c-930d37e11e6a",
   "metadata": {},
   "outputs": [
    {
     "data": {
      "text/plain": [
       "120"
      ]
     },
     "execution_count": 4,
     "metadata": {},
     "output_type": "execute_result"
    }
   ],
   "source": [
    "int(150*.8)"
   ]
  },
  {
   "cell_type": "code",
   "execution_count": 5,
   "id": "6fa13fdf-8537-4dbe-b401-a1b4bc439088",
   "metadata": {},
   "outputs": [
    {
     "data": {
      "text/plain": [
       "'/glade/scratch/lverhoef/WRF_all/track_data_hrrr_3km_nc_refl/NCARSTORM_20120614-0000_d01_model_patches.nc'"
      ]
     },
     "execution_count": 5,
     "metadata": {},
     "output_type": "execute_result"
    }
   ],
   "source": [
    "patch_files[149]"
   ]
  },
  {
   "cell_type": "code",
   "execution_count": 6,
   "id": "92f91904-785f-4e1e-8d82-ba1c2d54a973",
   "metadata": {},
   "outputs": [
    {
     "data": {
      "text/html": [
       "<div><svg style=\"position: absolute; width: 0; height: 0; overflow: hidden\">\n",
       "<defs>\n",
       "<symbol id=\"icon-database\" viewBox=\"0 0 32 32\">\n",
       "<path d=\"M16 0c-8.837 0-16 2.239-16 5v4c0 2.761 7.163 5 16 5s16-2.239 16-5v-4c0-2.761-7.163-5-16-5z\"></path>\n",
       "<path d=\"M16 17c-8.837 0-16-2.239-16-5v6c0 2.761 7.163 5 16 5s16-2.239 16-5v-6c0 2.761-7.163 5-16 5z\"></path>\n",
       "<path d=\"M16 26c-8.837 0-16-2.239-16-5v6c0 2.761 7.163 5 16 5s16-2.239 16-5v-6c0 2.761-7.163 5-16 5z\"></path>\n",
       "</symbol>\n",
       "<symbol id=\"icon-file-text2\" viewBox=\"0 0 32 32\">\n",
       "<path d=\"M28.681 7.159c-0.694-0.947-1.662-2.053-2.724-3.116s-2.169-2.030-3.116-2.724c-1.612-1.182-2.393-1.319-2.841-1.319h-15.5c-1.378 0-2.5 1.121-2.5 2.5v27c0 1.378 1.122 2.5 2.5 2.5h23c1.378 0 2.5-1.122 2.5-2.5v-19.5c0-0.448-0.137-1.23-1.319-2.841zM24.543 5.457c0.959 0.959 1.712 1.825 2.268 2.543h-4.811v-4.811c0.718 0.556 1.584 1.309 2.543 2.268zM28 29.5c0 0.271-0.229 0.5-0.5 0.5h-23c-0.271 0-0.5-0.229-0.5-0.5v-27c0-0.271 0.229-0.5 0.5-0.5 0 0 15.499-0 15.5 0v7c0 0.552 0.448 1 1 1h7v19.5z\"></path>\n",
       "<path d=\"M23 26h-14c-0.552 0-1-0.448-1-1s0.448-1 1-1h14c0.552 0 1 0.448 1 1s-0.448 1-1 1z\"></path>\n",
       "<path d=\"M23 22h-14c-0.552 0-1-0.448-1-1s0.448-1 1-1h14c0.552 0 1 0.448 1 1s-0.448 1-1 1z\"></path>\n",
       "<path d=\"M23 18h-14c-0.552 0-1-0.448-1-1s0.448-1 1-1h14c0.552 0 1 0.448 1 1s-0.448 1-1 1z\"></path>\n",
       "</symbol>\n",
       "</defs>\n",
       "</svg>\n",
       "<style>/* CSS stylesheet for displaying xarray objects in jupyterlab.\n",
       " *\n",
       " */\n",
       "\n",
       ":root {\n",
       "  --xr-font-color0: var(--jp-content-font-color0, rgba(0, 0, 0, 1));\n",
       "  --xr-font-color2: var(--jp-content-font-color2, rgba(0, 0, 0, 0.54));\n",
       "  --xr-font-color3: var(--jp-content-font-color3, rgba(0, 0, 0, 0.38));\n",
       "  --xr-border-color: var(--jp-border-color2, #e0e0e0);\n",
       "  --xr-disabled-color: var(--jp-layout-color3, #bdbdbd);\n",
       "  --xr-background-color: var(--jp-layout-color0, white);\n",
       "  --xr-background-color-row-even: var(--jp-layout-color1, white);\n",
       "  --xr-background-color-row-odd: var(--jp-layout-color2, #eeeeee);\n",
       "}\n",
       "\n",
       "html[theme=dark],\n",
       "body.vscode-dark {\n",
       "  --xr-font-color0: rgba(255, 255, 255, 1);\n",
       "  --xr-font-color2: rgba(255, 255, 255, 0.54);\n",
       "  --xr-font-color3: rgba(255, 255, 255, 0.38);\n",
       "  --xr-border-color: #1F1F1F;\n",
       "  --xr-disabled-color: #515151;\n",
       "  --xr-background-color: #111111;\n",
       "  --xr-background-color-row-even: #111111;\n",
       "  --xr-background-color-row-odd: #313131;\n",
       "}\n",
       "\n",
       ".xr-wrap {\n",
       "  display: block;\n",
       "  min-width: 300px;\n",
       "  max-width: 700px;\n",
       "}\n",
       "\n",
       ".xr-text-repr-fallback {\n",
       "  /* fallback to plain text repr when CSS is not injected (untrusted notebook) */\n",
       "  display: none;\n",
       "}\n",
       "\n",
       ".xr-header {\n",
       "  padding-top: 6px;\n",
       "  padding-bottom: 6px;\n",
       "  margin-bottom: 4px;\n",
       "  border-bottom: solid 1px var(--xr-border-color);\n",
       "}\n",
       "\n",
       ".xr-header > div,\n",
       ".xr-header > ul {\n",
       "  display: inline;\n",
       "  margin-top: 0;\n",
       "  margin-bottom: 0;\n",
       "}\n",
       "\n",
       ".xr-obj-type,\n",
       ".xr-array-name {\n",
       "  margin-left: 2px;\n",
       "  margin-right: 10px;\n",
       "}\n",
       "\n",
       ".xr-obj-type {\n",
       "  color: var(--xr-font-color2);\n",
       "}\n",
       "\n",
       ".xr-sections {\n",
       "  padding-left: 0 !important;\n",
       "  display: grid;\n",
       "  grid-template-columns: 150px auto auto 1fr 20px 20px;\n",
       "}\n",
       "\n",
       ".xr-section-item {\n",
       "  display: contents;\n",
       "}\n",
       "\n",
       ".xr-section-item input {\n",
       "  display: none;\n",
       "}\n",
       "\n",
       ".xr-section-item input + label {\n",
       "  color: var(--xr-disabled-color);\n",
       "}\n",
       "\n",
       ".xr-section-item input:enabled + label {\n",
       "  cursor: pointer;\n",
       "  color: var(--xr-font-color2);\n",
       "}\n",
       "\n",
       ".xr-section-item input:enabled + label:hover {\n",
       "  color: var(--xr-font-color0);\n",
       "}\n",
       "\n",
       ".xr-section-summary {\n",
       "  grid-column: 1;\n",
       "  color: var(--xr-font-color2);\n",
       "  font-weight: 500;\n",
       "}\n",
       "\n",
       ".xr-section-summary > span {\n",
       "  display: inline-block;\n",
       "  padding-left: 0.5em;\n",
       "}\n",
       "\n",
       ".xr-section-summary-in:disabled + label {\n",
       "  color: var(--xr-font-color2);\n",
       "}\n",
       "\n",
       ".xr-section-summary-in + label:before {\n",
       "  display: inline-block;\n",
       "  content: '►';\n",
       "  font-size: 11px;\n",
       "  width: 15px;\n",
       "  text-align: center;\n",
       "}\n",
       "\n",
       ".xr-section-summary-in:disabled + label:before {\n",
       "  color: var(--xr-disabled-color);\n",
       "}\n",
       "\n",
       ".xr-section-summary-in:checked + label:before {\n",
       "  content: '▼';\n",
       "}\n",
       "\n",
       ".xr-section-summary-in:checked + label > span {\n",
       "  display: none;\n",
       "}\n",
       "\n",
       ".xr-section-summary,\n",
       ".xr-section-inline-details {\n",
       "  padding-top: 4px;\n",
       "  padding-bottom: 4px;\n",
       "}\n",
       "\n",
       ".xr-section-inline-details {\n",
       "  grid-column: 2 / -1;\n",
       "}\n",
       "\n",
       ".xr-section-details {\n",
       "  display: none;\n",
       "  grid-column: 1 / -1;\n",
       "  margin-bottom: 5px;\n",
       "}\n",
       "\n",
       ".xr-section-summary-in:checked ~ .xr-section-details {\n",
       "  display: contents;\n",
       "}\n",
       "\n",
       ".xr-array-wrap {\n",
       "  grid-column: 1 / -1;\n",
       "  display: grid;\n",
       "  grid-template-columns: 20px auto;\n",
       "}\n",
       "\n",
       ".xr-array-wrap > label {\n",
       "  grid-column: 1;\n",
       "  vertical-align: top;\n",
       "}\n",
       "\n",
       ".xr-preview {\n",
       "  color: var(--xr-font-color3);\n",
       "}\n",
       "\n",
       ".xr-array-preview,\n",
       ".xr-array-data {\n",
       "  padding: 0 5px !important;\n",
       "  grid-column: 2;\n",
       "}\n",
       "\n",
       ".xr-array-data,\n",
       ".xr-array-in:checked ~ .xr-array-preview {\n",
       "  display: none;\n",
       "}\n",
       "\n",
       ".xr-array-in:checked ~ .xr-array-data,\n",
       ".xr-array-preview {\n",
       "  display: inline-block;\n",
       "}\n",
       "\n",
       ".xr-dim-list {\n",
       "  display: inline-block !important;\n",
       "  list-style: none;\n",
       "  padding: 0 !important;\n",
       "  margin: 0;\n",
       "}\n",
       "\n",
       ".xr-dim-list li {\n",
       "  display: inline-block;\n",
       "  padding: 0;\n",
       "  margin: 0;\n",
       "}\n",
       "\n",
       ".xr-dim-list:before {\n",
       "  content: '(';\n",
       "}\n",
       "\n",
       ".xr-dim-list:after {\n",
       "  content: ')';\n",
       "}\n",
       "\n",
       ".xr-dim-list li:not(:last-child):after {\n",
       "  content: ',';\n",
       "  padding-right: 5px;\n",
       "}\n",
       "\n",
       ".xr-has-index {\n",
       "  font-weight: bold;\n",
       "}\n",
       "\n",
       ".xr-var-list,\n",
       ".xr-var-item {\n",
       "  display: contents;\n",
       "}\n",
       "\n",
       ".xr-var-item > div,\n",
       ".xr-var-item label,\n",
       ".xr-var-item > .xr-var-name span {\n",
       "  background-color: var(--xr-background-color-row-even);\n",
       "  margin-bottom: 0;\n",
       "}\n",
       "\n",
       ".xr-var-item > .xr-var-name:hover span {\n",
       "  padding-right: 5px;\n",
       "}\n",
       "\n",
       ".xr-var-list > li:nth-child(odd) > div,\n",
       ".xr-var-list > li:nth-child(odd) > label,\n",
       ".xr-var-list > li:nth-child(odd) > .xr-var-name span {\n",
       "  background-color: var(--xr-background-color-row-odd);\n",
       "}\n",
       "\n",
       ".xr-var-name {\n",
       "  grid-column: 1;\n",
       "}\n",
       "\n",
       ".xr-var-dims {\n",
       "  grid-column: 2;\n",
       "}\n",
       "\n",
       ".xr-var-dtype {\n",
       "  grid-column: 3;\n",
       "  text-align: right;\n",
       "  color: var(--xr-font-color2);\n",
       "}\n",
       "\n",
       ".xr-var-preview {\n",
       "  grid-column: 4;\n",
       "}\n",
       "\n",
       ".xr-var-name,\n",
       ".xr-var-dims,\n",
       ".xr-var-dtype,\n",
       ".xr-preview,\n",
       ".xr-attrs dt {\n",
       "  white-space: nowrap;\n",
       "  overflow: hidden;\n",
       "  text-overflow: ellipsis;\n",
       "  padding-right: 10px;\n",
       "}\n",
       "\n",
       ".xr-var-name:hover,\n",
       ".xr-var-dims:hover,\n",
       ".xr-var-dtype:hover,\n",
       ".xr-attrs dt:hover {\n",
       "  overflow: visible;\n",
       "  width: auto;\n",
       "  z-index: 1;\n",
       "}\n",
       "\n",
       ".xr-var-attrs,\n",
       ".xr-var-data {\n",
       "  display: none;\n",
       "  background-color: var(--xr-background-color) !important;\n",
       "  padding-bottom: 5px !important;\n",
       "}\n",
       "\n",
       ".xr-var-attrs-in:checked ~ .xr-var-attrs,\n",
       ".xr-var-data-in:checked ~ .xr-var-data {\n",
       "  display: block;\n",
       "}\n",
       "\n",
       ".xr-var-data > table {\n",
       "  float: right;\n",
       "}\n",
       "\n",
       ".xr-var-name span,\n",
       ".xr-var-data,\n",
       ".xr-attrs {\n",
       "  padding-left: 25px !important;\n",
       "}\n",
       "\n",
       ".xr-attrs,\n",
       ".xr-var-attrs,\n",
       ".xr-var-data {\n",
       "  grid-column: 1 / -1;\n",
       "}\n",
       "\n",
       "dl.xr-attrs {\n",
       "  padding: 0;\n",
       "  margin: 0;\n",
       "  display: grid;\n",
       "  grid-template-columns: 125px auto;\n",
       "}\n",
       "\n",
       ".xr-attrs dt,\n",
       ".xr-attrs dd {\n",
       "  padding: 0;\n",
       "  margin: 0;\n",
       "  float: left;\n",
       "  padding-right: 10px;\n",
       "  width: auto;\n",
       "}\n",
       "\n",
       ".xr-attrs dt {\n",
       "  font-weight: normal;\n",
       "  grid-column: 1;\n",
       "}\n",
       "\n",
       ".xr-attrs dt:hover span {\n",
       "  display: inline-block;\n",
       "  background: var(--xr-background-color);\n",
       "  padding-right: 10px;\n",
       "}\n",
       "\n",
       ".xr-attrs dd {\n",
       "  grid-column: 2;\n",
       "  white-space: pre-wrap;\n",
       "  word-break: break-all;\n",
       "}\n",
       "\n",
       ".xr-icon-database,\n",
       ".xr-icon-file-text2 {\n",
       "  display: inline-block;\n",
       "  vertical-align: middle;\n",
       "  width: 1em;\n",
       "  height: 1.5em !important;\n",
       "  stroke-width: 0;\n",
       "  stroke: currentColor;\n",
       "  fill: currentColor;\n",
       "}\n",
       "</style><pre class='xr-text-repr-fallback'>&lt;xarray.Dataset&gt;\n",
       "Dimensions:           (p: 370, row: 144, col: 144)\n",
       "Coordinates:\n",
       "  * p                 (p) int32 0 1 2 3 4 5 6 7 ... 363 364 365 366 367 368 369\n",
       "  * row               (row) int32 0 1 2 3 4 5 6 ... 137 138 139 140 141 142 143\n",
       "  * col               (col) int32 0 1 2 3 4 5 6 ... 137 138 139 140 141 142 143\n",
       "Data variables: (12/26)\n",
       "    lon               (p, row, col) float32 ...\n",
       "    lat               (p, row, col) float32 ...\n",
       "    i                 (p, row, col) int32 ...\n",
       "    j                 (p, row, col) int32 ...\n",
       "    x                 (p, row, col) float32 ...\n",
       "    y                 (p, row, col) float32 ...\n",
       "    ...                ...\n",
       "    MLCAPE_prev       (p, row, col) float32 ...\n",
       "    USHR6_prev        (p, row, col) float32 ...\n",
       "    VSHR6_prev        (p, row, col) float32 ...\n",
       "    SBLCL_prev        (p, row, col) float32 ...\n",
       "    U_BUNK_prev       (p, row, col) float32 ...\n",
       "    V_BUNK_prev       (p, row, col) float32 ...\n",
       "Attributes: (12/36)\n",
       "    Conventions:             CF-1.6\n",
       "    title:                   NCARSTORM Storm Patches for run 20101024-0000 me...\n",
       "    object_variable:         REFL_COM\n",
       "    start_hour:              12\n",
       "    end_hour:                35\n",
       "    HRRR_alt_end_hour:       46\n",
       "    ...                      ...\n",
       "    single_step:             True\n",
       "    label_type:              gamma\n",
       "    model_map_file:          /glade/work/cbecker/hagelslag/mapfiles/ncar_stor...\n",
       "    mask_file:               None\n",
       "    run_date_format:         %Y%m%d-%H%M\n",
       "    json:                    False</pre><div class='xr-wrap' hidden><div class='xr-header'><div class='xr-obj-type'>xarray.Dataset</div></div><ul class='xr-sections'><li class='xr-section-item'><input id='section-b3591239-a1ef-45a2-b9aa-865b1e4912db' class='xr-section-summary-in' type='checkbox' disabled ><label for='section-b3591239-a1ef-45a2-b9aa-865b1e4912db' class='xr-section-summary'  title='Expand/collapse section'>Dimensions:</label><div class='xr-section-inline-details'><ul class='xr-dim-list'><li><span class='xr-has-index'>p</span>: 370</li><li><span class='xr-has-index'>row</span>: 144</li><li><span class='xr-has-index'>col</span>: 144</li></ul></div><div class='xr-section-details'></div></li><li class='xr-section-item'><input id='section-f342dd06-1f2f-41c1-b658-285aca335433' class='xr-section-summary-in' type='checkbox'  checked><label for='section-f342dd06-1f2f-41c1-b658-285aca335433' class='xr-section-summary' >Coordinates: <span>(3)</span></label><div class='xr-section-inline-details'></div><div class='xr-section-details'><ul class='xr-var-list'><li class='xr-var-item'><div class='xr-var-name'><span class='xr-has-index'>p</span></div><div class='xr-var-dims'>(p)</div><div class='xr-var-dtype'>int32</div><div class='xr-var-preview xr-preview'>0 1 2 3 4 5 ... 365 366 367 368 369</div><input id='attrs-360079e1-8fdd-4ed7-84f5-abd712befa0d' class='xr-var-attrs-in' type='checkbox' disabled><label for='attrs-360079e1-8fdd-4ed7-84f5-abd712befa0d' title='Show/Hide attributes'><svg class='icon xr-icon-file-text2'><use xlink:href='#icon-file-text2'></use></svg></label><input id='data-77da980f-a164-43a2-a7f1-1e8eb8b0d554' class='xr-var-data-in' type='checkbox'><label for='data-77da980f-a164-43a2-a7f1-1e8eb8b0d554' title='Show/Hide data repr'><svg class='icon xr-icon-database'><use xlink:href='#icon-database'></use></svg></label><div class='xr-var-attrs'><dl class='xr-attrs'></dl></div><div class='xr-var-data'><pre>array([  0,   1,   2, ..., 367, 368, 369], dtype=int32)</pre></div></li><li class='xr-var-item'><div class='xr-var-name'><span class='xr-has-index'>row</span></div><div class='xr-var-dims'>(row)</div><div class='xr-var-dtype'>int32</div><div class='xr-var-preview xr-preview'>0 1 2 3 4 5 ... 139 140 141 142 143</div><input id='attrs-a0189387-0e48-4e80-8be3-68384a4fba1f' class='xr-var-attrs-in' type='checkbox' disabled><label for='attrs-a0189387-0e48-4e80-8be3-68384a4fba1f' title='Show/Hide attributes'><svg class='icon xr-icon-file-text2'><use xlink:href='#icon-file-text2'></use></svg></label><input id='data-3fc64b62-0dc6-40a5-a7a9-b0c0a602f0af' class='xr-var-data-in' type='checkbox'><label for='data-3fc64b62-0dc6-40a5-a7a9-b0c0a602f0af' title='Show/Hide data repr'><svg class='icon xr-icon-database'><use xlink:href='#icon-database'></use></svg></label><div class='xr-var-attrs'><dl class='xr-attrs'></dl></div><div class='xr-var-data'><pre>array([  0,   1,   2,   3,   4,   5,   6,   7,   8,   9,  10,  11,  12,  13,\n",
       "        14,  15,  16,  17,  18,  19,  20,  21,  22,  23,  24,  25,  26,  27,\n",
       "        28,  29,  30,  31,  32,  33,  34,  35,  36,  37,  38,  39,  40,  41,\n",
       "        42,  43,  44,  45,  46,  47,  48,  49,  50,  51,  52,  53,  54,  55,\n",
       "        56,  57,  58,  59,  60,  61,  62,  63,  64,  65,  66,  67,  68,  69,\n",
       "        70,  71,  72,  73,  74,  75,  76,  77,  78,  79,  80,  81,  82,  83,\n",
       "        84,  85,  86,  87,  88,  89,  90,  91,  92,  93,  94,  95,  96,  97,\n",
       "        98,  99, 100, 101, 102, 103, 104, 105, 106, 107, 108, 109, 110, 111,\n",
       "       112, 113, 114, 115, 116, 117, 118, 119, 120, 121, 122, 123, 124, 125,\n",
       "       126, 127, 128, 129, 130, 131, 132, 133, 134, 135, 136, 137, 138, 139,\n",
       "       140, 141, 142, 143], dtype=int32)</pre></div></li><li class='xr-var-item'><div class='xr-var-name'><span class='xr-has-index'>col</span></div><div class='xr-var-dims'>(col)</div><div class='xr-var-dtype'>int32</div><div class='xr-var-preview xr-preview'>0 1 2 3 4 5 ... 139 140 141 142 143</div><input id='attrs-63cc9eb3-7ea3-403e-a05e-2c2da7afca74' class='xr-var-attrs-in' type='checkbox' disabled><label for='attrs-63cc9eb3-7ea3-403e-a05e-2c2da7afca74' title='Show/Hide attributes'><svg class='icon xr-icon-file-text2'><use xlink:href='#icon-file-text2'></use></svg></label><input id='data-4d595aa7-68b9-49b1-80af-c758197ec199' class='xr-var-data-in' type='checkbox'><label for='data-4d595aa7-68b9-49b1-80af-c758197ec199' title='Show/Hide data repr'><svg class='icon xr-icon-database'><use xlink:href='#icon-database'></use></svg></label><div class='xr-var-attrs'><dl class='xr-attrs'></dl></div><div class='xr-var-data'><pre>array([  0,   1,   2,   3,   4,   5,   6,   7,   8,   9,  10,  11,  12,  13,\n",
       "        14,  15,  16,  17,  18,  19,  20,  21,  22,  23,  24,  25,  26,  27,\n",
       "        28,  29,  30,  31,  32,  33,  34,  35,  36,  37,  38,  39,  40,  41,\n",
       "        42,  43,  44,  45,  46,  47,  48,  49,  50,  51,  52,  53,  54,  55,\n",
       "        56,  57,  58,  59,  60,  61,  62,  63,  64,  65,  66,  67,  68,  69,\n",
       "        70,  71,  72,  73,  74,  75,  76,  77,  78,  79,  80,  81,  82,  83,\n",
       "        84,  85,  86,  87,  88,  89,  90,  91,  92,  93,  94,  95,  96,  97,\n",
       "        98,  99, 100, 101, 102, 103, 104, 105, 106, 107, 108, 109, 110, 111,\n",
       "       112, 113, 114, 115, 116, 117, 118, 119, 120, 121, 122, 123, 124, 125,\n",
       "       126, 127, 128, 129, 130, 131, 132, 133, 134, 135, 136, 137, 138, 139,\n",
       "       140, 141, 142, 143], dtype=int32)</pre></div></li></ul></div></li><li class='xr-section-item'><input id='section-0a44a1cc-9e66-4a6c-b45a-5b61bb9b5efd' class='xr-section-summary-in' type='checkbox'  ><label for='section-0a44a1cc-9e66-4a6c-b45a-5b61bb9b5efd' class='xr-section-summary' >Data variables: <span>(26)</span></label><div class='xr-section-inline-details'></div><div class='xr-section-details'><ul class='xr-var-list'><li class='xr-var-item'><div class='xr-var-name'><span>lon</span></div><div class='xr-var-dims'>(p, row, col)</div><div class='xr-var-dtype'>float32</div><div class='xr-var-preview xr-preview'>...</div><input id='attrs-c9d4576a-e477-4162-9492-84d9a4a37259' class='xr-var-attrs-in' type='checkbox' ><label for='attrs-c9d4576a-e477-4162-9492-84d9a4a37259' title='Show/Hide attributes'><svg class='icon xr-icon-file-text2'><use xlink:href='#icon-file-text2'></use></svg></label><input id='data-02da7027-7986-48bd-8d5b-e1a1207872cd' class='xr-var-data-in' type='checkbox'><label for='data-02da7027-7986-48bd-8d5b-e1a1207872cd' title='Show/Hide data repr'><svg class='icon xr-icon-database'><use xlink:href='#icon-database'></use></svg></label><div class='xr-var-attrs'><dl class='xr-attrs'><dt><span>long_name :</span></dt><dd>lon</dd><dt><span>units :</span></dt><dd>degrees_east</dd></dl></div><div class='xr-var-data'><pre>[7672320 values with dtype=float32]</pre></div></li><li class='xr-var-item'><div class='xr-var-name'><span>lat</span></div><div class='xr-var-dims'>(p, row, col)</div><div class='xr-var-dtype'>float32</div><div class='xr-var-preview xr-preview'>...</div><input id='attrs-0409609c-6925-496b-97ba-cd2b2ad2defe' class='xr-var-attrs-in' type='checkbox' ><label for='attrs-0409609c-6925-496b-97ba-cd2b2ad2defe' title='Show/Hide attributes'><svg class='icon xr-icon-file-text2'><use xlink:href='#icon-file-text2'></use></svg></label><input id='data-0a35314c-3f25-4059-9f61-282db0366009' class='xr-var-data-in' type='checkbox'><label for='data-0a35314c-3f25-4059-9f61-282db0366009' title='Show/Hide data repr'><svg class='icon xr-icon-database'><use xlink:href='#icon-database'></use></svg></label><div class='xr-var-attrs'><dl class='xr-attrs'><dt><span>long_name :</span></dt><dd>lat</dd><dt><span>units :</span></dt><dd>degrees_north</dd></dl></div><div class='xr-var-data'><pre>[7672320 values with dtype=float32]</pre></div></li><li class='xr-var-item'><div class='xr-var-name'><span>i</span></div><div class='xr-var-dims'>(p, row, col)</div><div class='xr-var-dtype'>int32</div><div class='xr-var-preview xr-preview'>...</div><input id='attrs-d18780bc-eade-408f-82e6-35b052e93212' class='xr-var-attrs-in' type='checkbox' ><label for='attrs-d18780bc-eade-408f-82e6-35b052e93212' title='Show/Hide attributes'><svg class='icon xr-icon-file-text2'><use xlink:href='#icon-file-text2'></use></svg></label><input id='data-330d848e-2e96-42ef-a4b4-f30bc4c72291' class='xr-var-data-in' type='checkbox'><label for='data-330d848e-2e96-42ef-a4b4-f30bc4c72291' title='Show/Hide data repr'><svg class='icon xr-icon-database'><use xlink:href='#icon-database'></use></svg></label><div class='xr-var-attrs'><dl class='xr-attrs'><dt><span>long_name :</span></dt><dd>i</dd><dt><span>units :</span></dt><dd></dd></dl></div><div class='xr-var-data'><pre>[7672320 values with dtype=int32]</pre></div></li><li class='xr-var-item'><div class='xr-var-name'><span>j</span></div><div class='xr-var-dims'>(p, row, col)</div><div class='xr-var-dtype'>int32</div><div class='xr-var-preview xr-preview'>...</div><input id='attrs-80ae3862-dd0c-4262-af06-9c4c7905d0ce' class='xr-var-attrs-in' type='checkbox' ><label for='attrs-80ae3862-dd0c-4262-af06-9c4c7905d0ce' title='Show/Hide attributes'><svg class='icon xr-icon-file-text2'><use xlink:href='#icon-file-text2'></use></svg></label><input id='data-58aa3e6c-94bb-4732-b8c5-7df04725f6f7' class='xr-var-data-in' type='checkbox'><label for='data-58aa3e6c-94bb-4732-b8c5-7df04725f6f7' title='Show/Hide data repr'><svg class='icon xr-icon-database'><use xlink:href='#icon-database'></use></svg></label><div class='xr-var-attrs'><dl class='xr-attrs'><dt><span>long_name :</span></dt><dd>j</dd><dt><span>units :</span></dt><dd></dd></dl></div><div class='xr-var-data'><pre>[7672320 values with dtype=int32]</pre></div></li><li class='xr-var-item'><div class='xr-var-name'><span>x</span></div><div class='xr-var-dims'>(p, row, col)</div><div class='xr-var-dtype'>float32</div><div class='xr-var-preview xr-preview'>...</div><input id='attrs-9b9f0b17-3b96-422c-bd69-003b854e40b5' class='xr-var-attrs-in' type='checkbox' ><label for='attrs-9b9f0b17-3b96-422c-bd69-003b854e40b5' title='Show/Hide attributes'><svg class='icon xr-icon-file-text2'><use xlink:href='#icon-file-text2'></use></svg></label><input id='data-3d71be38-041d-4921-8d79-fd1908b44769' class='xr-var-data-in' type='checkbox'><label for='data-3d71be38-041d-4921-8d79-fd1908b44769' title='Show/Hide data repr'><svg class='icon xr-icon-database'><use xlink:href='#icon-database'></use></svg></label><div class='xr-var-attrs'><dl class='xr-attrs'><dt><span>long_name :</span></dt><dd>x</dd><dt><span>units :</span></dt><dd>m</dd></dl></div><div class='xr-var-data'><pre>[7672320 values with dtype=float32]</pre></div></li><li class='xr-var-item'><div class='xr-var-name'><span>y</span></div><div class='xr-var-dims'>(p, row, col)</div><div class='xr-var-dtype'>float32</div><div class='xr-var-preview xr-preview'>...</div><input id='attrs-a856881c-fc8f-41a1-bfbf-2aefd33bcee8' class='xr-var-attrs-in' type='checkbox' ><label for='attrs-a856881c-fc8f-41a1-bfbf-2aefd33bcee8' title='Show/Hide attributes'><svg class='icon xr-icon-file-text2'><use xlink:href='#icon-file-text2'></use></svg></label><input id='data-65ab7df4-859b-455a-891b-a9d93cbd425e' class='xr-var-data-in' type='checkbox'><label for='data-65ab7df4-859b-455a-891b-a9d93cbd425e' title='Show/Hide data repr'><svg class='icon xr-icon-database'><use xlink:href='#icon-database'></use></svg></label><div class='xr-var-attrs'><dl class='xr-attrs'><dt><span>long_name :</span></dt><dd>y</dd><dt><span>units :</span></dt><dd>m</dd></dl></div><div class='xr-var-data'><pre>[7672320 values with dtype=float32]</pre></div></li><li class='xr-var-item'><div class='xr-var-name'><span>masks</span></div><div class='xr-var-dims'>(p, row, col)</div><div class='xr-var-dtype'>int32</div><div class='xr-var-preview xr-preview'>...</div><input id='attrs-0b788668-8be5-4daf-9357-9a9e48debe7d' class='xr-var-attrs-in' type='checkbox' ><label for='attrs-0b788668-8be5-4daf-9357-9a9e48debe7d' title='Show/Hide attributes'><svg class='icon xr-icon-file-text2'><use xlink:href='#icon-file-text2'></use></svg></label><input id='data-dc835718-cbbe-406d-b4c4-640e090d4a59' class='xr-var-data-in' type='checkbox'><label for='data-dc835718-cbbe-406d-b4c4-640e090d4a59' title='Show/Hide data repr'><svg class='icon xr-icon-database'><use xlink:href='#icon-database'></use></svg></label><div class='xr-var-attrs'><dl class='xr-attrs'><dt><span>long_name :</span></dt><dd>masks</dd><dt><span>units :</span></dt><dd></dd></dl></div><div class='xr-var-data'><pre>[7672320 values with dtype=int32]</pre></div></li><li class='xr-var-item'><div class='xr-var-name'><span>time</span></div><div class='xr-var-dims'>(p)</div><div class='xr-var-dtype'>datetime64[ns]</div><div class='xr-var-preview xr-preview'>...</div><input id='attrs-5bf713e4-1128-4682-afcf-e0710d76d04e' class='xr-var-attrs-in' type='checkbox' ><label for='attrs-5bf713e4-1128-4682-afcf-e0710d76d04e' title='Show/Hide attributes'><svg class='icon xr-icon-file-text2'><use xlink:href='#icon-file-text2'></use></svg></label><input id='data-309ce40c-5259-42f1-8b37-a5ca0055adbc' class='xr-var-data-in' type='checkbox'><label for='data-309ce40c-5259-42f1-8b37-a5ca0055adbc' title='Show/Hide data repr'><svg class='icon xr-icon-database'><use xlink:href='#icon-database'></use></svg></label><div class='xr-var-attrs'><dl class='xr-attrs'><dt><span>long_name :</span></dt><dd>time</dd></dl></div><div class='xr-var-data'><pre>array([&#x27;2010-10-24T12:00:00.000000000&#x27;, &#x27;2010-10-24T13:00:00.000000000&#x27;,\n",
       "       &#x27;2010-10-24T12:00:00.000000000&#x27;, ..., &#x27;2010-10-25T11:00:00.000000000&#x27;,\n",
       "       &#x27;2010-10-25T11:00:00.000000000&#x27;, &#x27;2010-10-25T11:00:00.000000000&#x27;],\n",
       "      dtype=&#x27;datetime64[ns]&#x27;)</pre></div></li><li class='xr-var-item'><div class='xr-var-name'><span>centroid_lon</span></div><div class='xr-var-dims'>(p)</div><div class='xr-var-dtype'>float32</div><div class='xr-var-preview xr-preview'>...</div><input id='attrs-ba3aa71a-50fb-470c-ae9b-8d0a253cf4cf' class='xr-var-attrs-in' type='checkbox' ><label for='attrs-ba3aa71a-50fb-470c-ae9b-8d0a253cf4cf' title='Show/Hide attributes'><svg class='icon xr-icon-file-text2'><use xlink:href='#icon-file-text2'></use></svg></label><input id='data-9bb1ce80-4e64-470d-9610-70bddfaa5c43' class='xr-var-data-in' type='checkbox'><label for='data-9bb1ce80-4e64-470d-9610-70bddfaa5c43' title='Show/Hide data repr'><svg class='icon xr-icon-database'><use xlink:href='#icon-database'></use></svg></label><div class='xr-var-attrs'><dl class='xr-attrs'><dt><span>long_name :</span></dt><dd>centroid_lon</dd><dt><span>units :</span></dt><dd>degrees_east</dd></dl></div><div class='xr-var-data'><pre>array([-98.410194, -97.69198 , -95.15486 , ..., -88.18374 , -82.50549 ,\n",
       "       -81.38741 ], dtype=float32)</pre></div></li><li class='xr-var-item'><div class='xr-var-name'><span>centroid_lat</span></div><div class='xr-var-dims'>(p)</div><div class='xr-var-dtype'>float32</div><div class='xr-var-preview xr-preview'>...</div><input id='attrs-55022ac0-0002-45f1-a94d-509defa624aa' class='xr-var-attrs-in' type='checkbox' ><label for='attrs-55022ac0-0002-45f1-a94d-509defa624aa' title='Show/Hide attributes'><svg class='icon xr-icon-file-text2'><use xlink:href='#icon-file-text2'></use></svg></label><input id='data-de465c9c-3df1-42d9-860a-497d366788ac' class='xr-var-data-in' type='checkbox'><label for='data-de465c9c-3df1-42d9-860a-497d366788ac' title='Show/Hide data repr'><svg class='icon xr-icon-database'><use xlink:href='#icon-database'></use></svg></label><div class='xr-var-attrs'><dl class='xr-attrs'><dt><span>long_name :</span></dt><dd>centroid_lat</dd><dt><span>units :</span></dt><dd>degrees_north</dd></dl></div><div class='xr-var-data'><pre>array([42.940327, 43.090134, 44.222034, ..., 39.369667, 38.614746, 46.239307],\n",
       "      dtype=float32)</pre></div></li><li class='xr-var-item'><div class='xr-var-name'><span>centroid_i</span></div><div class='xr-var-dims'>(p)</div><div class='xr-var-dtype'>float32</div><div class='xr-var-preview xr-preview'>...</div><input id='attrs-343bff94-1faa-44cd-bede-3a9e92d3c7f7' class='xr-var-attrs-in' type='checkbox' ><label for='attrs-343bff94-1faa-44cd-bede-3a9e92d3c7f7' title='Show/Hide attributes'><svg class='icon xr-icon-file-text2'><use xlink:href='#icon-file-text2'></use></svg></label><input id='data-ddf3fbbd-810e-4219-afc4-312bdef47805' class='xr-var-data-in' type='checkbox'><label for='data-ddf3fbbd-810e-4219-afc4-312bdef47805' title='Show/Hide data repr'><svg class='icon xr-icon-database'><use xlink:href='#icon-database'></use></svg></label><div class='xr-var-attrs'><dl class='xr-attrs'><dt><span>long_name :</span></dt><dd>centroid_i</dd><dt><span>units :</span></dt><dd></dd></dl></div><div class='xr-var-data'><pre>array([661., 667., 712., ..., 554., 554., 836.], dtype=float32)</pre></div></li><li class='xr-var-item'><div class='xr-var-name'><span>centroid_j</span></div><div class='xr-var-dims'>(p)</div><div class='xr-var-dtype'>float32</div><div class='xr-var-preview xr-preview'>...</div><input id='attrs-b7c611c2-df27-4b49-b264-4b18cd9124bb' class='xr-var-attrs-in' type='checkbox' ><label for='attrs-b7c611c2-df27-4b49-b264-4b18cd9124bb' title='Show/Hide attributes'><svg class='icon xr-icon-file-text2'><use xlink:href='#icon-file-text2'></use></svg></label><input id='data-2f84a9dc-55ff-4bee-b1ab-e4fe5ad78dd1' class='xr-var-data-in' type='checkbox'><label for='data-2f84a9dc-55ff-4bee-b1ab-e4fe5ad78dd1' title='Show/Hide data repr'><svg class='icon xr-icon-database'><use xlink:href='#icon-database'></use></svg></label><div class='xr-var-attrs'><dl class='xr-attrs'><dt><span>long_name :</span></dt><dd>centroid_j</dd><dt><span>units :</span></dt><dd></dd></dl></div><div class='xr-var-data'><pre>array([ 759.,  779.,  844., ..., 1053., 1217., 1189.], dtype=float32)</pre></div></li><li class='xr-var-item'><div class='xr-var-name'><span>track_id</span></div><div class='xr-var-dims'>(p)</div><div class='xr-var-dtype'>int32</div><div class='xr-var-preview xr-preview'>...</div><input id='attrs-37f7e342-2a76-420c-993b-6466499e06b8' class='xr-var-attrs-in' type='checkbox' ><label for='attrs-37f7e342-2a76-420c-993b-6466499e06b8' title='Show/Hide attributes'><svg class='icon xr-icon-file-text2'><use xlink:href='#icon-file-text2'></use></svg></label><input id='data-338ab52e-c8cf-4377-8a7d-c19db4855d9f' class='xr-var-data-in' type='checkbox'><label for='data-338ab52e-c8cf-4377-8a7d-c19db4855d9f' title='Show/Hide data repr'><svg class='icon xr-icon-database'><use xlink:href='#icon-database'></use></svg></label><div class='xr-var-attrs'><dl class='xr-attrs'><dt><span>long_name :</span></dt><dd>track_id</dd><dt><span>units :</span></dt><dd></dd></dl></div><div class='xr-var-data'><pre>array([  0,   0,   1, ..., 240, 241, 242], dtype=int32)</pre></div></li><li class='xr-var-item'><div class='xr-var-name'><span>track_step</span></div><div class='xr-var-dims'>(p)</div><div class='xr-var-dtype'>int32</div><div class='xr-var-preview xr-preview'>...</div><input id='attrs-54f1df8b-8885-428a-b89e-c599efe1a8de' class='xr-var-attrs-in' type='checkbox' ><label for='attrs-54f1df8b-8885-428a-b89e-c599efe1a8de' title='Show/Hide attributes'><svg class='icon xr-icon-file-text2'><use xlink:href='#icon-file-text2'></use></svg></label><input id='data-55d66c87-5037-40c7-b9e5-325360f70b15' class='xr-var-data-in' type='checkbox'><label for='data-55d66c87-5037-40c7-b9e5-325360f70b15' title='Show/Hide data repr'><svg class='icon xr-icon-database'><use xlink:href='#icon-database'></use></svg></label><div class='xr-var-attrs'><dl class='xr-attrs'><dt><span>long_name :</span></dt><dd>track_step</dd><dt><span>units :</span></dt><dd></dd></dl></div><div class='xr-var-data'><pre>array([1, 2, 1, ..., 1, 1, 1], dtype=int32)</pre></div></li><li class='xr-var-item'><div class='xr-var-name'><span>REFL_COM_curr</span></div><div class='xr-var-dims'>(p, row, col)</div><div class='xr-var-dtype'>float32</div><div class='xr-var-preview xr-preview'>...</div><input id='attrs-b91735bf-e2ba-472b-b5d9-b983c00562ce' class='xr-var-attrs-in' type='checkbox' ><label for='attrs-b91735bf-e2ba-472b-b5d9-b983c00562ce' title='Show/Hide attributes'><svg class='icon xr-icon-file-text2'><use xlink:href='#icon-file-text2'></use></svg></label><input id='data-cfd9b578-5c07-4461-899f-be9a6e744d9b' class='xr-var-data-in' type='checkbox'><label for='data-cfd9b578-5c07-4461-899f-be9a6e744d9b' title='Show/Hide data repr'><svg class='icon xr-icon-database'><use xlink:href='#icon-database'></use></svg></label><div class='xr-var-attrs'><dl class='xr-attrs'><dt><span>long_name :</span></dt><dd>REFL_COM</dd><dt><span>units :</span></dt><dd></dd></dl></div><div class='xr-var-data'><pre>[7672320 values with dtype=float32]</pre></div></li><li class='xr-var-item'><div class='xr-var-name'><span>UP_HELI_MAX_curr</span></div><div class='xr-var-dims'>(p, row, col)</div><div class='xr-var-dtype'>float32</div><div class='xr-var-preview xr-preview'>...</div><input id='attrs-b773497b-c42b-4153-8ac3-0d67733e9542' class='xr-var-attrs-in' type='checkbox' ><label for='attrs-b773497b-c42b-4153-8ac3-0d67733e9542' title='Show/Hide attributes'><svg class='icon xr-icon-file-text2'><use xlink:href='#icon-file-text2'></use></svg></label><input id='data-d465bc4c-909e-4b67-ad64-d8ad2da81e58' class='xr-var-data-in' type='checkbox'><label for='data-d465bc4c-909e-4b67-ad64-d8ad2da81e58' title='Show/Hide data repr'><svg class='icon xr-icon-database'><use xlink:href='#icon-database'></use></svg></label><div class='xr-var-attrs'><dl class='xr-attrs'><dt><span>long_name :</span></dt><dd>UP_HELI_MAX</dd><dt><span>units :</span></dt><dd></dd></dl></div><div class='xr-var-data'><pre>[7672320 values with dtype=float32]</pre></div></li><li class='xr-var-item'><div class='xr-var-name'><span>U10_curr</span></div><div class='xr-var-dims'>(p, row, col)</div><div class='xr-var-dtype'>float32</div><div class='xr-var-preview xr-preview'>...</div><input id='attrs-aa8ed6fc-5ee2-4801-9900-c674db3d49b3' class='xr-var-attrs-in' type='checkbox' ><label for='attrs-aa8ed6fc-5ee2-4801-9900-c674db3d49b3' title='Show/Hide attributes'><svg class='icon xr-icon-file-text2'><use xlink:href='#icon-file-text2'></use></svg></label><input id='data-d2b3eb44-36d2-4988-b53f-3e16e06ca5d8' class='xr-var-data-in' type='checkbox'><label for='data-d2b3eb44-36d2-4988-b53f-3e16e06ca5d8' title='Show/Hide data repr'><svg class='icon xr-icon-database'><use xlink:href='#icon-database'></use></svg></label><div class='xr-var-attrs'><dl class='xr-attrs'><dt><span>long_name :</span></dt><dd>U10</dd><dt><span>units :</span></dt><dd></dd></dl></div><div class='xr-var-data'><pre>[7672320 values with dtype=float32]</pre></div></li><li class='xr-var-item'><div class='xr-var-name'><span>V10_curr</span></div><div class='xr-var-dims'>(p, row, col)</div><div class='xr-var-dtype'>float32</div><div class='xr-var-preview xr-preview'>...</div><input id='attrs-3ad4d877-eaaf-45ec-9c93-f7aa54b23e10' class='xr-var-attrs-in' type='checkbox' ><label for='attrs-3ad4d877-eaaf-45ec-9c93-f7aa54b23e10' title='Show/Hide attributes'><svg class='icon xr-icon-file-text2'><use xlink:href='#icon-file-text2'></use></svg></label><input id='data-0701763f-81e1-4a98-980c-9df0bb86f6b1' class='xr-var-data-in' type='checkbox'><label for='data-0701763f-81e1-4a98-980c-9df0bb86f6b1' title='Show/Hide data repr'><svg class='icon xr-icon-database'><use xlink:href='#icon-database'></use></svg></label><div class='xr-var-attrs'><dl class='xr-attrs'><dt><span>long_name :</span></dt><dd>V10</dd><dt><span>units :</span></dt><dd></dd></dl></div><div class='xr-var-data'><pre>[7672320 values with dtype=float32]</pre></div></li><li class='xr-var-item'><div class='xr-var-name'><span>GRPL_MAX_curr</span></div><div class='xr-var-dims'>(p, row, col)</div><div class='xr-var-dtype'>float32</div><div class='xr-var-preview xr-preview'>...</div><input id='attrs-a274bdba-2db4-4cf3-a879-f7ef612646be' class='xr-var-attrs-in' type='checkbox' ><label for='attrs-a274bdba-2db4-4cf3-a879-f7ef612646be' title='Show/Hide attributes'><svg class='icon xr-icon-file-text2'><use xlink:href='#icon-file-text2'></use></svg></label><input id='data-ee98b753-cea4-4938-a181-77f2c84aeaf0' class='xr-var-data-in' type='checkbox'><label for='data-ee98b753-cea4-4938-a181-77f2c84aeaf0' title='Show/Hide data repr'><svg class='icon xr-icon-database'><use xlink:href='#icon-database'></use></svg></label><div class='xr-var-attrs'><dl class='xr-attrs'><dt><span>long_name :</span></dt><dd>GRPL_MAX</dd><dt><span>units :</span></dt><dd></dd></dl></div><div class='xr-var-data'><pre>[7672320 values with dtype=float32]</pre></div></li><li class='xr-var-item'><div class='xr-var-name'><span>W_UP_MAX_curr</span></div><div class='xr-var-dims'>(p, row, col)</div><div class='xr-var-dtype'>float32</div><div class='xr-var-preview xr-preview'>...</div><input id='attrs-a94667a1-95c2-48c1-8e80-50ef665b241b' class='xr-var-attrs-in' type='checkbox' ><label for='attrs-a94667a1-95c2-48c1-8e80-50ef665b241b' title='Show/Hide attributes'><svg class='icon xr-icon-file-text2'><use xlink:href='#icon-file-text2'></use></svg></label><input id='data-1888b081-f2d1-4006-b962-e22a35e42201' class='xr-var-data-in' type='checkbox'><label for='data-1888b081-f2d1-4006-b962-e22a35e42201' title='Show/Hide data repr'><svg class='icon xr-icon-database'><use xlink:href='#icon-database'></use></svg></label><div class='xr-var-attrs'><dl class='xr-attrs'><dt><span>long_name :</span></dt><dd>W_UP_MAX</dd><dt><span>units :</span></dt><dd></dd></dl></div><div class='xr-var-data'><pre>[7672320 values with dtype=float32]</pre></div></li><li class='xr-var-item'><div class='xr-var-name'><span>MLCAPE_prev</span></div><div class='xr-var-dims'>(p, row, col)</div><div class='xr-var-dtype'>float32</div><div class='xr-var-preview xr-preview'>...</div><input id='attrs-c72d0c46-8e6e-4d41-9c82-7fb1951fb11e' class='xr-var-attrs-in' type='checkbox' ><label for='attrs-c72d0c46-8e6e-4d41-9c82-7fb1951fb11e' title='Show/Hide attributes'><svg class='icon xr-icon-file-text2'><use xlink:href='#icon-file-text2'></use></svg></label><input id='data-df96cadc-1490-493c-8287-76d59946f847' class='xr-var-data-in' type='checkbox'><label for='data-df96cadc-1490-493c-8287-76d59946f847' title='Show/Hide data repr'><svg class='icon xr-icon-database'><use xlink:href='#icon-database'></use></svg></label><div class='xr-var-attrs'><dl class='xr-attrs'><dt><span>long_name :</span></dt><dd>MLCAPE</dd><dt><span>units :</span></dt><dd></dd></dl></div><div class='xr-var-data'><pre>[7672320 values with dtype=float32]</pre></div></li><li class='xr-var-item'><div class='xr-var-name'><span>USHR6_prev</span></div><div class='xr-var-dims'>(p, row, col)</div><div class='xr-var-dtype'>float32</div><div class='xr-var-preview xr-preview'>...</div><input id='attrs-56a69a76-02d8-4224-8991-1fe62597b5c1' class='xr-var-attrs-in' type='checkbox' ><label for='attrs-56a69a76-02d8-4224-8991-1fe62597b5c1' title='Show/Hide attributes'><svg class='icon xr-icon-file-text2'><use xlink:href='#icon-file-text2'></use></svg></label><input id='data-5f77fe62-98df-4d45-a98b-faf44a988889' class='xr-var-data-in' type='checkbox'><label for='data-5f77fe62-98df-4d45-a98b-faf44a988889' title='Show/Hide data repr'><svg class='icon xr-icon-database'><use xlink:href='#icon-database'></use></svg></label><div class='xr-var-attrs'><dl class='xr-attrs'><dt><span>long_name :</span></dt><dd>USHR6</dd><dt><span>units :</span></dt><dd></dd></dl></div><div class='xr-var-data'><pre>[7672320 values with dtype=float32]</pre></div></li><li class='xr-var-item'><div class='xr-var-name'><span>VSHR6_prev</span></div><div class='xr-var-dims'>(p, row, col)</div><div class='xr-var-dtype'>float32</div><div class='xr-var-preview xr-preview'>...</div><input id='attrs-2d944883-7849-407a-8e3c-a4e5a24c75dc' class='xr-var-attrs-in' type='checkbox' ><label for='attrs-2d944883-7849-407a-8e3c-a4e5a24c75dc' title='Show/Hide attributes'><svg class='icon xr-icon-file-text2'><use xlink:href='#icon-file-text2'></use></svg></label><input id='data-1ab79d13-9415-4d27-b0e9-f0219d6e1982' class='xr-var-data-in' type='checkbox'><label for='data-1ab79d13-9415-4d27-b0e9-f0219d6e1982' title='Show/Hide data repr'><svg class='icon xr-icon-database'><use xlink:href='#icon-database'></use></svg></label><div class='xr-var-attrs'><dl class='xr-attrs'><dt><span>long_name :</span></dt><dd>VSHR6</dd><dt><span>units :</span></dt><dd></dd></dl></div><div class='xr-var-data'><pre>[7672320 values with dtype=float32]</pre></div></li><li class='xr-var-item'><div class='xr-var-name'><span>SBLCL_prev</span></div><div class='xr-var-dims'>(p, row, col)</div><div class='xr-var-dtype'>float32</div><div class='xr-var-preview xr-preview'>...</div><input id='attrs-5eba5a65-e3b9-42c7-9f4c-1fdcc9ca4e63' class='xr-var-attrs-in' type='checkbox' ><label for='attrs-5eba5a65-e3b9-42c7-9f4c-1fdcc9ca4e63' title='Show/Hide attributes'><svg class='icon xr-icon-file-text2'><use xlink:href='#icon-file-text2'></use></svg></label><input id='data-5e4ad0da-c925-4516-83a5-9858270bea54' class='xr-var-data-in' type='checkbox'><label for='data-5e4ad0da-c925-4516-83a5-9858270bea54' title='Show/Hide data repr'><svg class='icon xr-icon-database'><use xlink:href='#icon-database'></use></svg></label><div class='xr-var-attrs'><dl class='xr-attrs'><dt><span>long_name :</span></dt><dd>SBLCL</dd><dt><span>units :</span></dt><dd></dd></dl></div><div class='xr-var-data'><pre>[7672320 values with dtype=float32]</pre></div></li><li class='xr-var-item'><div class='xr-var-name'><span>U_BUNK_prev</span></div><div class='xr-var-dims'>(p, row, col)</div><div class='xr-var-dtype'>float32</div><div class='xr-var-preview xr-preview'>...</div><input id='attrs-a37b0409-2e38-4a22-af1f-97356c0a9511' class='xr-var-attrs-in' type='checkbox' ><label for='attrs-a37b0409-2e38-4a22-af1f-97356c0a9511' title='Show/Hide attributes'><svg class='icon xr-icon-file-text2'><use xlink:href='#icon-file-text2'></use></svg></label><input id='data-514e8517-e8e1-4af7-bda4-af84d2bf4114' class='xr-var-data-in' type='checkbox'><label for='data-514e8517-e8e1-4af7-bda4-af84d2bf4114' title='Show/Hide data repr'><svg class='icon xr-icon-database'><use xlink:href='#icon-database'></use></svg></label><div class='xr-var-attrs'><dl class='xr-attrs'><dt><span>long_name :</span></dt><dd>U_BUNK</dd><dt><span>units :</span></dt><dd></dd></dl></div><div class='xr-var-data'><pre>[7672320 values with dtype=float32]</pre></div></li><li class='xr-var-item'><div class='xr-var-name'><span>V_BUNK_prev</span></div><div class='xr-var-dims'>(p, row, col)</div><div class='xr-var-dtype'>float32</div><div class='xr-var-preview xr-preview'>...</div><input id='attrs-f12350e1-7671-4629-b3f6-7318f83e020e' class='xr-var-attrs-in' type='checkbox' ><label for='attrs-f12350e1-7671-4629-b3f6-7318f83e020e' title='Show/Hide attributes'><svg class='icon xr-icon-file-text2'><use xlink:href='#icon-file-text2'></use></svg></label><input id='data-27a19975-6b4e-4b02-947b-a233bd84ca0a' class='xr-var-data-in' type='checkbox'><label for='data-27a19975-6b4e-4b02-947b-a233bd84ca0a' title='Show/Hide data repr'><svg class='icon xr-icon-database'><use xlink:href='#icon-database'></use></svg></label><div class='xr-var-attrs'><dl class='xr-attrs'><dt><span>long_name :</span></dt><dd>V_BUNK</dd><dt><span>units :</span></dt><dd></dd></dl></div><div class='xr-var-data'><pre>[7672320 values with dtype=float32]</pre></div></li></ul></div></li><li class='xr-section-item'><input id='section-fb259711-76bf-4a96-8807-24dd85fa6474' class='xr-section-summary-in' type='checkbox'  ><label for='section-fb259711-76bf-4a96-8807-24dd85fa6474' class='xr-section-summary' >Attributes: <span>(36)</span></label><div class='xr-section-inline-details'></div><div class='xr-section-details'><dl class='xr-attrs'><dt><span>Conventions :</span></dt><dd>CF-1.6</dd><dt><span>title :</span></dt><dd>NCARSTORM Storm Patches for run 20101024-0000 member d01</dd><dt><span>object_variable :</span></dt><dd>REFL_COM</dd><dt><span>start_hour :</span></dt><dd>12</dd><dt><span>end_hour :</span></dt><dd>35</dd><dt><span>HRRR_alt_end_hour :</span></dt><dd>46</dd><dt><span>HRRR_alt_run_hours :</span></dt><dd>[0, 6, 12, 18]</dd><dt><span>watershed_variable :</span></dt><dd>REFL_COM</dd><dt><span>ensemble_name :</span></dt><dd>NCARSTORM</dd><dt><span>ensemble_members :</span></dt><dd>[&#x27;d01&#x27;]</dd><dt><span>model_path :</span></dt><dd>/glade/p/mmm/parc/sobash/NSC/3KM_WRF_POST_12sec_ts/</dd><dt><span>segmentation_approach :</span></dt><dd>hyst</dd><dt><span>model_watershed_params :</span></dt><dd>(35, 50)</dd><dt><span>size_filter :</span></dt><dd>12</dd><dt><span>gaussian_window :</span></dt><dd>1</dd><dt><span>mrms_path :</span></dt><dd>None</dd><dt><span>mrms_variable :</span></dt><dd>MESH_Max_60min_00.50</dd><dt><span>mrms_watershed_params :</span></dt><dd>(13, 1, 125, 100, 100)</dd><dt><span>object_matcher_params :</span></dt><dd>([&lt;function shifted_centroid_distance at 0x2af790d8d790&gt;], array([1.]), array([24000]))</dd><dt><span>track_matcher_params :</span></dt><dd>([&lt;function centroid_distance at 0x2af790d820d0&gt;, &lt;function time_distance at 0x2af790d8d700&gt;], array([80000,     2]))</dd><dt><span>shape_variables :</span></dt><dd>[&#x27;area&#x27;, &#x27;eccentricity&#x27;, &#x27;major_axis_length&#x27;, &#x27;minor_axis_length&#x27;, &#x27;orientation&#x27;]</dd><dt><span>variable_statistics :</span></dt><dd>[&#x27;mean&#x27;, &#x27;max&#x27;, &#x27;min&#x27;]</dd><dt><span>csv_path :</span></dt><dd>/glade/work/cbecker/WRF_all/track_data_hrrr_3km_csv_refl/</dd><dt><span>geojson_path :</span></dt><dd>/glade/work/cbecker/WRF_all/track_data_hrrr_3km_json_refl/</dd><dt><span>nc_path :</span></dt><dd>/glade/work/cbecker/WRF_all/track_data_hrrr_3km_nc_refl/</dd><dt><span>patch_radius :</span></dt><dd>72</dd><dt><span>unique_matches :</span></dt><dd>True</dd><dt><span>closest_matches :</span></dt><dd>True</dd><dt><span>match_steps :</span></dt><dd>True</dd><dt><span>train :</span></dt><dd>False</dd><dt><span>single_step :</span></dt><dd>True</dd><dt><span>label_type :</span></dt><dd>gamma</dd><dt><span>model_map_file :</span></dt><dd>/glade/work/cbecker/hagelslag/mapfiles/ncar_storm_map_3km.txt</dd><dt><span>mask_file :</span></dt><dd>None</dd><dt><span>run_date_format :</span></dt><dd>%Y%m%d-%H%M</dd><dt><span>json :</span></dt><dd>False</dd></dl></div></li></ul></div></div>"
      ],
      "text/plain": [
       "<xarray.Dataset>\n",
       "Dimensions:           (p: 370, row: 144, col: 144)\n",
       "Coordinates:\n",
       "  * p                 (p) int32 0 1 2 3 4 5 6 7 ... 363 364 365 366 367 368 369\n",
       "  * row               (row) int32 0 1 2 3 4 5 6 ... 137 138 139 140 141 142 143\n",
       "  * col               (col) int32 0 1 2 3 4 5 6 ... 137 138 139 140 141 142 143\n",
       "Data variables: (12/26)\n",
       "    lon               (p, row, col) float32 ...\n",
       "    lat               (p, row, col) float32 ...\n",
       "    i                 (p, row, col) int32 ...\n",
       "    j                 (p, row, col) int32 ...\n",
       "    x                 (p, row, col) float32 ...\n",
       "    y                 (p, row, col) float32 ...\n",
       "    ...                ...\n",
       "    MLCAPE_prev       (p, row, col) float32 ...\n",
       "    USHR6_prev        (p, row, col) float32 ...\n",
       "    VSHR6_prev        (p, row, col) float32 ...\n",
       "    SBLCL_prev        (p, row, col) float32 ...\n",
       "    U_BUNK_prev       (p, row, col) float32 ...\n",
       "    V_BUNK_prev       (p, row, col) float32 ...\n",
       "Attributes: (12/36)\n",
       "    Conventions:             CF-1.6\n",
       "    title:                   NCARSTORM Storm Patches for run 20101024-0000 me...\n",
       "    object_variable:         REFL_COM\n",
       "    start_hour:              12\n",
       "    end_hour:                35\n",
       "    HRRR_alt_end_hour:       46\n",
       "    ...                      ...\n",
       "    single_step:             True\n",
       "    label_type:              gamma\n",
       "    model_map_file:          /glade/work/cbecker/hagelslag/mapfiles/ncar_stor...\n",
       "    mask_file:               None\n",
       "    run_date_format:         %Y%m%d-%H%M\n",
       "    json:                    False"
      ]
     },
     "execution_count": 6,
     "metadata": {},
     "output_type": "execute_result"
    }
   ],
   "source": [
    "patch_ds"
   ]
  },
  {
   "cell_type": "code",
   "execution_count": 7,
   "id": "6d0f35ca-a2d6-4879-a4e9-f586b085c8a8",
   "metadata": {},
   "outputs": [
    {
     "data": {
      "text/html": [
       "<div>\n",
       "<style scoped>\n",
       "    .dataframe tbody tr th:only-of-type {\n",
       "        vertical-align: middle;\n",
       "    }\n",
       "\n",
       "    .dataframe tbody tr th {\n",
       "        vertical-align: top;\n",
       "    }\n",
       "\n",
       "    .dataframe thead th {\n",
       "        text-align: right;\n",
       "    }\n",
       "</style>\n",
       "<table border=\"1\" class=\"dataframe\">\n",
       "  <thead>\n",
       "    <tr style=\"text-align: right;\">\n",
       "      <th></th>\n",
       "      <th>Step_ID</th>\n",
       "      <th>Track_ID</th>\n",
       "      <th>Ensemble_Name</th>\n",
       "      <th>Ensemble_Member</th>\n",
       "      <th>Run_Date</th>\n",
       "      <th>Valid_Date</th>\n",
       "      <th>Forecast_Hour</th>\n",
       "      <th>Valid_Hour_UTC</th>\n",
       "      <th>Duration</th>\n",
       "      <th>Centroid_Lon</th>\n",
       "      <th>...</th>\n",
       "      <th>eccentricity</th>\n",
       "      <th>major_axis_length</th>\n",
       "      <th>minor_axis_length</th>\n",
       "      <th>orientation</th>\n",
       "      <th>Matched</th>\n",
       "      <th>Max_Hail_Size</th>\n",
       "      <th>Num_Matches</th>\n",
       "      <th>Shape</th>\n",
       "      <th>Location</th>\n",
       "      <th>Scale</th>\n",
       "    </tr>\n",
       "  </thead>\n",
       "  <tbody>\n",
       "    <tr>\n",
       "      <th>0</th>\n",
       "      <td>d01_REFL_COM_20101024-0000_12_13_000_00</td>\n",
       "      <td>d01_REFL_COM_20101024-0000_12_13_000</td>\n",
       "      <td>NCARSTORM</td>\n",
       "      <td>d01</td>\n",
       "      <td>2010-10-24 00:00:00+00:00</td>\n",
       "      <td>2010-10-24 12:00:00+00:00</td>\n",
       "      <td>12</td>\n",
       "      <td>12</td>\n",
       "      <td>1</td>\n",
       "      <td>-98.41019</td>\n",
       "      <td>...</td>\n",
       "      <td>0.90735</td>\n",
       "      <td>51.23550</td>\n",
       "      <td>21.53869</td>\n",
       "      <td>1.41172</td>\n",
       "      <td>0</td>\n",
       "      <td>0</td>\n",
       "      <td>0</td>\n",
       "      <td>0</td>\n",
       "      <td>0</td>\n",
       "      <td>0</td>\n",
       "    </tr>\n",
       "    <tr>\n",
       "      <th>1</th>\n",
       "      <td>d01_REFL_COM_20101024-0000_12_13_000_01</td>\n",
       "      <td>d01_REFL_COM_20101024-0000_12_13_000</td>\n",
       "      <td>NCARSTORM</td>\n",
       "      <td>d01</td>\n",
       "      <td>2010-10-24 00:00:00+00:00</td>\n",
       "      <td>2010-10-24 13:00:00+00:00</td>\n",
       "      <td>13</td>\n",
       "      <td>13</td>\n",
       "      <td>2</td>\n",
       "      <td>-97.69198</td>\n",
       "      <td>...</td>\n",
       "      <td>0.85356</td>\n",
       "      <td>26.92719</td>\n",
       "      <td>14.02906</td>\n",
       "      <td>1.13923</td>\n",
       "      <td>0</td>\n",
       "      <td>0</td>\n",
       "      <td>0</td>\n",
       "      <td>0</td>\n",
       "      <td>0</td>\n",
       "      <td>0</td>\n",
       "    </tr>\n",
       "    <tr>\n",
       "      <th>2</th>\n",
       "      <td>d01_REFL_COM_20101024-0000_12_12_001_00</td>\n",
       "      <td>d01_REFL_COM_20101024-0000_12_12_001</td>\n",
       "      <td>NCARSTORM</td>\n",
       "      <td>d01</td>\n",
       "      <td>2010-10-24 00:00:00+00:00</td>\n",
       "      <td>2010-10-24 12:00:00+00:00</td>\n",
       "      <td>12</td>\n",
       "      <td>12</td>\n",
       "      <td>1</td>\n",
       "      <td>-95.15486</td>\n",
       "      <td>...</td>\n",
       "      <td>0.71815</td>\n",
       "      <td>8.65894</td>\n",
       "      <td>6.02569</td>\n",
       "      <td>0.74301</td>\n",
       "      <td>0</td>\n",
       "      <td>0</td>\n",
       "      <td>0</td>\n",
       "      <td>0</td>\n",
       "      <td>0</td>\n",
       "      <td>0</td>\n",
       "    </tr>\n",
       "    <tr>\n",
       "      <th>3</th>\n",
       "      <td>d01_REFL_COM_20101024-0000_12_13_002_00</td>\n",
       "      <td>d01_REFL_COM_20101024-0000_12_13_002</td>\n",
       "      <td>NCARSTORM</td>\n",
       "      <td>d01</td>\n",
       "      <td>2010-10-24 00:00:00+00:00</td>\n",
       "      <td>2010-10-24 12:00:00+00:00</td>\n",
       "      <td>12</td>\n",
       "      <td>12</td>\n",
       "      <td>1</td>\n",
       "      <td>-94.39792</td>\n",
       "      <td>...</td>\n",
       "      <td>0.58687</td>\n",
       "      <td>7.89825</td>\n",
       "      <td>6.39509</td>\n",
       "      <td>-1.28875</td>\n",
       "      <td>0</td>\n",
       "      <td>0</td>\n",
       "      <td>0</td>\n",
       "      <td>0</td>\n",
       "      <td>0</td>\n",
       "      <td>0</td>\n",
       "    </tr>\n",
       "    <tr>\n",
       "      <th>4</th>\n",
       "      <td>d01_REFL_COM_20101024-0000_12_13_002_01</td>\n",
       "      <td>d01_REFL_COM_20101024-0000_12_13_002</td>\n",
       "      <td>NCARSTORM</td>\n",
       "      <td>d01</td>\n",
       "      <td>2010-10-24 00:00:00+00:00</td>\n",
       "      <td>2010-10-24 13:00:00+00:00</td>\n",
       "      <td>13</td>\n",
       "      <td>13</td>\n",
       "      <td>2</td>\n",
       "      <td>-94.21008</td>\n",
       "      <td>...</td>\n",
       "      <td>0.91899</td>\n",
       "      <td>27.65443</td>\n",
       "      <td>10.90375</td>\n",
       "      <td>0.32912</td>\n",
       "      <td>0</td>\n",
       "      <td>0</td>\n",
       "      <td>0</td>\n",
       "      <td>0</td>\n",
       "      <td>0</td>\n",
       "      <td>0</td>\n",
       "    </tr>\n",
       "    <tr>\n",
       "      <th>...</th>\n",
       "      <td>...</td>\n",
       "      <td>...</td>\n",
       "      <td>...</td>\n",
       "      <td>...</td>\n",
       "      <td>...</td>\n",
       "      <td>...</td>\n",
       "      <td>...</td>\n",
       "      <td>...</td>\n",
       "      <td>...</td>\n",
       "      <td>...</td>\n",
       "      <td>...</td>\n",
       "      <td>...</td>\n",
       "      <td>...</td>\n",
       "      <td>...</td>\n",
       "      <td>...</td>\n",
       "      <td>...</td>\n",
       "      <td>...</td>\n",
       "      <td>...</td>\n",
       "      <td>...</td>\n",
       "      <td>...</td>\n",
       "      <td>...</td>\n",
       "    </tr>\n",
       "    <tr>\n",
       "      <th>365</th>\n",
       "      <td>d01_REFL_COM_20101024-0000_35_35_238_00</td>\n",
       "      <td>d01_REFL_COM_20101024-0000_35_35_238</td>\n",
       "      <td>NCARSTORM</td>\n",
       "      <td>d01</td>\n",
       "      <td>2010-10-24 00:00:00+00:00</td>\n",
       "      <td>2010-10-25 11:00:00+00:00</td>\n",
       "      <td>35</td>\n",
       "      <td>11</td>\n",
       "      <td>1</td>\n",
       "      <td>-85.94177</td>\n",
       "      <td>...</td>\n",
       "      <td>0.44428</td>\n",
       "      <td>6.31100</td>\n",
       "      <td>5.65396</td>\n",
       "      <td>1.29480</td>\n",
       "      <td>0</td>\n",
       "      <td>0</td>\n",
       "      <td>0</td>\n",
       "      <td>0</td>\n",
       "      <td>0</td>\n",
       "      <td>0</td>\n",
       "    </tr>\n",
       "    <tr>\n",
       "      <th>366</th>\n",
       "      <td>d01_REFL_COM_20101024-0000_35_35_239_00</td>\n",
       "      <td>d01_REFL_COM_20101024-0000_35_35_239</td>\n",
       "      <td>NCARSTORM</td>\n",
       "      <td>d01</td>\n",
       "      <td>2010-10-24 00:00:00+00:00</td>\n",
       "      <td>2010-10-25 11:00:00+00:00</td>\n",
       "      <td>35</td>\n",
       "      <td>11</td>\n",
       "      <td>1</td>\n",
       "      <td>-85.16997</td>\n",
       "      <td>...</td>\n",
       "      <td>0.85947</td>\n",
       "      <td>79.05277</td>\n",
       "      <td>40.41106</td>\n",
       "      <td>0.12811</td>\n",
       "      <td>0</td>\n",
       "      <td>0</td>\n",
       "      <td>0</td>\n",
       "      <td>0</td>\n",
       "      <td>0</td>\n",
       "      <td>0</td>\n",
       "    </tr>\n",
       "    <tr>\n",
       "      <th>367</th>\n",
       "      <td>d01_REFL_COM_20101024-0000_35_35_240_00</td>\n",
       "      <td>d01_REFL_COM_20101024-0000_35_35_240</td>\n",
       "      <td>NCARSTORM</td>\n",
       "      <td>d01</td>\n",
       "      <td>2010-10-24 00:00:00+00:00</td>\n",
       "      <td>2010-10-25 11:00:00+00:00</td>\n",
       "      <td>35</td>\n",
       "      <td>11</td>\n",
       "      <td>1</td>\n",
       "      <td>-88.18374</td>\n",
       "      <td>...</td>\n",
       "      <td>0.92145</td>\n",
       "      <td>18.05184</td>\n",
       "      <td>7.01316</td>\n",
       "      <td>0.99009</td>\n",
       "      <td>0</td>\n",
       "      <td>0</td>\n",
       "      <td>0</td>\n",
       "      <td>0</td>\n",
       "      <td>0</td>\n",
       "      <td>0</td>\n",
       "    </tr>\n",
       "    <tr>\n",
       "      <th>368</th>\n",
       "      <td>d01_REFL_COM_20101024-0000_35_35_241_00</td>\n",
       "      <td>d01_REFL_COM_20101024-0000_35_35_241</td>\n",
       "      <td>NCARSTORM</td>\n",
       "      <td>d01</td>\n",
       "      <td>2010-10-24 00:00:00+00:00</td>\n",
       "      <td>2010-10-25 11:00:00+00:00</td>\n",
       "      <td>35</td>\n",
       "      <td>11</td>\n",
       "      <td>1</td>\n",
       "      <td>-82.50549</td>\n",
       "      <td>...</td>\n",
       "      <td>0.93744</td>\n",
       "      <td>14.44305</td>\n",
       "      <td>5.02817</td>\n",
       "      <td>-0.19595</td>\n",
       "      <td>0</td>\n",
       "      <td>0</td>\n",
       "      <td>0</td>\n",
       "      <td>0</td>\n",
       "      <td>0</td>\n",
       "      <td>0</td>\n",
       "    </tr>\n",
       "    <tr>\n",
       "      <th>369</th>\n",
       "      <td>d01_REFL_COM_20101024-0000_35_35_242_00</td>\n",
       "      <td>d01_REFL_COM_20101024-0000_35_35_242</td>\n",
       "      <td>NCARSTORM</td>\n",
       "      <td>d01</td>\n",
       "      <td>2010-10-24 00:00:00+00:00</td>\n",
       "      <td>2010-10-25 11:00:00+00:00</td>\n",
       "      <td>35</td>\n",
       "      <td>11</td>\n",
       "      <td>1</td>\n",
       "      <td>-81.38741</td>\n",
       "      <td>...</td>\n",
       "      <td>0.97875</td>\n",
       "      <td>56.91919</td>\n",
       "      <td>11.67269</td>\n",
       "      <td>1.49626</td>\n",
       "      <td>0</td>\n",
       "      <td>0</td>\n",
       "      <td>0</td>\n",
       "      <td>0</td>\n",
       "      <td>0</td>\n",
       "      <td>0</td>\n",
       "    </tr>\n",
       "  </tbody>\n",
       "</table>\n",
       "<p>370 rows × 62 columns</p>\n",
       "</div>"
      ],
      "text/plain": [
       "                                     Step_ID  \\\n",
       "0    d01_REFL_COM_20101024-0000_12_13_000_00   \n",
       "1    d01_REFL_COM_20101024-0000_12_13_000_01   \n",
       "2    d01_REFL_COM_20101024-0000_12_12_001_00   \n",
       "3    d01_REFL_COM_20101024-0000_12_13_002_00   \n",
       "4    d01_REFL_COM_20101024-0000_12_13_002_01   \n",
       "..                                       ...   \n",
       "365  d01_REFL_COM_20101024-0000_35_35_238_00   \n",
       "366  d01_REFL_COM_20101024-0000_35_35_239_00   \n",
       "367  d01_REFL_COM_20101024-0000_35_35_240_00   \n",
       "368  d01_REFL_COM_20101024-0000_35_35_241_00   \n",
       "369  d01_REFL_COM_20101024-0000_35_35_242_00   \n",
       "\n",
       "                                 Track_ID Ensemble_Name Ensemble_Member  \\\n",
       "0    d01_REFL_COM_20101024-0000_12_13_000     NCARSTORM             d01   \n",
       "1    d01_REFL_COM_20101024-0000_12_13_000     NCARSTORM             d01   \n",
       "2    d01_REFL_COM_20101024-0000_12_12_001     NCARSTORM             d01   \n",
       "3    d01_REFL_COM_20101024-0000_12_13_002     NCARSTORM             d01   \n",
       "4    d01_REFL_COM_20101024-0000_12_13_002     NCARSTORM             d01   \n",
       "..                                    ...           ...             ...   \n",
       "365  d01_REFL_COM_20101024-0000_35_35_238     NCARSTORM             d01   \n",
       "366  d01_REFL_COM_20101024-0000_35_35_239     NCARSTORM             d01   \n",
       "367  d01_REFL_COM_20101024-0000_35_35_240     NCARSTORM             d01   \n",
       "368  d01_REFL_COM_20101024-0000_35_35_241     NCARSTORM             d01   \n",
       "369  d01_REFL_COM_20101024-0000_35_35_242     NCARSTORM             d01   \n",
       "\n",
       "                      Run_Date                 Valid_Date  Forecast_Hour  \\\n",
       "0    2010-10-24 00:00:00+00:00  2010-10-24 12:00:00+00:00             12   \n",
       "1    2010-10-24 00:00:00+00:00  2010-10-24 13:00:00+00:00             13   \n",
       "2    2010-10-24 00:00:00+00:00  2010-10-24 12:00:00+00:00             12   \n",
       "3    2010-10-24 00:00:00+00:00  2010-10-24 12:00:00+00:00             12   \n",
       "4    2010-10-24 00:00:00+00:00  2010-10-24 13:00:00+00:00             13   \n",
       "..                         ...                        ...            ...   \n",
       "365  2010-10-24 00:00:00+00:00  2010-10-25 11:00:00+00:00             35   \n",
       "366  2010-10-24 00:00:00+00:00  2010-10-25 11:00:00+00:00             35   \n",
       "367  2010-10-24 00:00:00+00:00  2010-10-25 11:00:00+00:00             35   \n",
       "368  2010-10-24 00:00:00+00:00  2010-10-25 11:00:00+00:00             35   \n",
       "369  2010-10-24 00:00:00+00:00  2010-10-25 11:00:00+00:00             35   \n",
       "\n",
       "     Valid_Hour_UTC  Duration  Centroid_Lon  ...  eccentricity  \\\n",
       "0                12         1     -98.41019  ...       0.90735   \n",
       "1                13         2     -97.69198  ...       0.85356   \n",
       "2                12         1     -95.15486  ...       0.71815   \n",
       "3                12         1     -94.39792  ...       0.58687   \n",
       "4                13         2     -94.21008  ...       0.91899   \n",
       "..              ...       ...           ...  ...           ...   \n",
       "365              11         1     -85.94177  ...       0.44428   \n",
       "366              11         1     -85.16997  ...       0.85947   \n",
       "367              11         1     -88.18374  ...       0.92145   \n",
       "368              11         1     -82.50549  ...       0.93744   \n",
       "369              11         1     -81.38741  ...       0.97875   \n",
       "\n",
       "     major_axis_length  minor_axis_length  orientation  Matched  \\\n",
       "0             51.23550           21.53869      1.41172        0   \n",
       "1             26.92719           14.02906      1.13923        0   \n",
       "2              8.65894            6.02569      0.74301        0   \n",
       "3              7.89825            6.39509     -1.28875        0   \n",
       "4             27.65443           10.90375      0.32912        0   \n",
       "..                 ...                ...          ...      ...   \n",
       "365            6.31100            5.65396      1.29480        0   \n",
       "366           79.05277           40.41106      0.12811        0   \n",
       "367           18.05184            7.01316      0.99009        0   \n",
       "368           14.44305            5.02817     -0.19595        0   \n",
       "369           56.91919           11.67269      1.49626        0   \n",
       "\n",
       "     Max_Hail_Size  Num_Matches  Shape  Location  Scale  \n",
       "0                0            0      0         0      0  \n",
       "1                0            0      0         0      0  \n",
       "2                0            0      0         0      0  \n",
       "3                0            0      0         0      0  \n",
       "4                0            0      0         0      0  \n",
       "..             ...          ...    ...       ...    ...  \n",
       "365              0            0      0         0      0  \n",
       "366              0            0      0         0      0  \n",
       "367              0            0      0         0      0  \n",
       "368              0            0      0         0      0  \n",
       "369              0            0      0         0      0  \n",
       "\n",
       "[370 rows x 62 columns]"
      ]
     },
     "execution_count": 7,
     "metadata": {},
     "output_type": "execute_result"
    }
   ],
   "source": [
    "meta_ds"
   ]
  },
  {
   "cell_type": "code",
   "execution_count": 8,
   "id": "c79d60b9-85d9-478d-b771-53205df404ef",
   "metadata": {},
   "outputs": [
    {
     "name": "stdout",
     "output_type": "stream",
     "text": [
      "Train 0, /glade/scratch/lverhoef/WRF_all/track_data_hrrr_3km_nc_refl/NCARSTORM_20101024-0000_d01_model_patches.nc\n",
      "Train 10, /glade/scratch/lverhoef/WRF_all/track_data_hrrr_3km_nc_refl/NCARSTORM_20110201-0000_d01_model_patches.nc\n",
      "Train 20, /glade/scratch/lverhoef/WRF_all/track_data_hrrr_3km_nc_refl/NCARSTORM_20110326-0000_d01_model_patches.nc\n",
      "Train 30, /glade/scratch/lverhoef/WRF_all/track_data_hrrr_3km_nc_refl/NCARSTORM_20110414-0000_d01_model_patches.nc\n",
      "Train 40, /glade/scratch/lverhoef/WRF_all/track_data_hrrr_3km_nc_refl/NCARSTORM_20110425-0000_d01_model_patches.nc\n",
      "Train 50, /glade/scratch/lverhoef/WRF_all/track_data_hrrr_3km_nc_refl/NCARSTORM_20110522-0000_d01_model_patches.nc\n",
      "Train 60, /glade/scratch/lverhoef/WRF_all/track_data_hrrr_3km_nc_refl/NCARSTORM_20110605-0000_d01_model_patches.nc\n",
      "Train 70, /glade/scratch/lverhoef/WRF_all/track_data_hrrr_3km_nc_refl/NCARSTORM_20110615-0000_d01_model_patches.nc\n",
      "Train 80, /glade/scratch/lverhoef/WRF_all/track_data_hrrr_3km_nc_refl/NCARSTORM_20110625-0000_d01_model_patches.nc\n",
      "Train 90, /glade/scratch/lverhoef/WRF_all/track_data_hrrr_3km_nc_refl/NCARSTORM_20110712-0000_d01_model_patches.nc\n",
      "Train 100, /glade/scratch/lverhoef/WRF_all/track_data_hrrr_3km_nc_refl/NCARSTORM_20120218-0000_d01_model_patches.nc\n",
      "Validation 105, /glade/scratch/lverhoef/WRF_all/track_data_hrrr_3km_nc_refl/NCARSTORM_20120315-0000_d01_model_patches.nc\n",
      "Validation 115, /glade/scratch/lverhoef/WRF_all/track_data_hrrr_3km_nc_refl/NCARSTORM_20120401-0000_d01_model_patches.nc\n",
      "Test 120, /glade/scratch/lverhoef/WRF_all/track_data_hrrr_3km_nc_refl/NCARSTORM_20120409-0000_d01_model_patches.nc\n",
      "Test 130, /glade/scratch/lverhoef/WRF_all/track_data_hrrr_3km_nc_refl/NCARSTORM_20120503-0000_d01_model_patches.nc\n",
      "Test 140, /glade/scratch/lverhoef/WRF_all/track_data_hrrr_3km_nc_refl/NCARSTORM_20120529-0000_d01_model_patches.nc\n"
     ]
    }
   ],
   "source": [
    "# Pull selected variables from patch files and join into a single DataSet\n",
    "num_files = 150\n",
    "train_split = int(num_files*0.7)\n",
    "val_split = int(num_files*0.8)\n",
    "variables = [\"REFL_COM_curr\", \"masks\"]\n",
    "data_list = []\n",
    "for p, patch_file in enumerate(patch_files[0:train_split]):\n",
    "    if p % 10 == 0:\n",
    "        print(f'Train {p}, {patch_file}')\n",
    "    ds = xr.open_dataset(patch_file)\n",
    "    data_list.append(ds[variables].compute())\n",
    "    ds.close()\n",
    "input_train = xr.concat(data_list, dim=\"p\")[\"REFL_COM_curr\"].expand_dims(\"channel\", axis = -1)\n",
    "train_masks = xr.concat(data_list, dim=\"p\")[\"masks\"]\n",
    "data_list = []\n",
    "for p, patch_file in enumerate(patch_files[train_split:val_split]):\n",
    "    if p % 10 == 0:\n",
    "        print(f'Validation {train_split + p}, {patch_file}')\n",
    "    ds = xr.open_dataset(patch_file)\n",
    "    data_list.append(ds[variables].compute())\n",
    "    ds.close()\n",
    "input_val = xr.concat(data_list, dim=\"p\")[\"REFL_COM_curr\"].expand_dims(\"channel\", axis = -1)\n",
    "val_masks = xr.concat(data_list, dim=\"p\")[\"masks\"]\n",
    "data_list = []\n",
    "for p, patch_file in enumerate(patch_files[val_split:num_files]):\n",
    "    if p % 10 == 0:\n",
    "        print(f'Test {val_split + p}, {patch_file}')\n",
    "    ds = xr.open_dataset(patch_file)\n",
    "    data_list.append(ds[variables].compute())\n",
    "    ds.close()\n",
    "input_test = xr.concat(data_list, dim=\"p\")[\"REFL_COM_curr\"].expand_dims(\"channel\", axis = -1)\n",
    "test_masks = xr.concat(data_list, dim=\"p\")[\"masks\"]"
   ]
  },
  {
   "cell_type": "code",
   "execution_count": 9,
   "id": "aa2782d0-68d0-4968-a440-af88466dbf99",
   "metadata": {},
   "outputs": [
    {
     "name": "stdout",
     "output_type": "stream",
     "text": [
      "Train 0, /glade/scratch/lverhoef/WRF_all/track_data_hrrr_3km_csv_refl/track_step_NCARSTORM_d01_20101024-0000.csv\n",
      "Train 10, /glade/scratch/lverhoef/WRF_all/track_data_hrrr_3km_csv_refl/track_step_NCARSTORM_d01_20110201-0000.csv\n",
      "Train 20, /glade/scratch/lverhoef/WRF_all/track_data_hrrr_3km_csv_refl/track_step_NCARSTORM_d01_20110326-0000.csv\n",
      "Train 30, /glade/scratch/lverhoef/WRF_all/track_data_hrrr_3km_csv_refl/track_step_NCARSTORM_d01_20110414-0000.csv\n",
      "Train 40, /glade/scratch/lverhoef/WRF_all/track_data_hrrr_3km_csv_refl/track_step_NCARSTORM_d01_20110425-0000.csv\n",
      "Train 50, /glade/scratch/lverhoef/WRF_all/track_data_hrrr_3km_csv_refl/track_step_NCARSTORM_d01_20110522-0000.csv\n",
      "Train 60, /glade/scratch/lverhoef/WRF_all/track_data_hrrr_3km_csv_refl/track_step_NCARSTORM_d01_20110605-0000.csv\n",
      "Train 70, /glade/scratch/lverhoef/WRF_all/track_data_hrrr_3km_csv_refl/track_step_NCARSTORM_d01_20110615-0000.csv\n",
      "Train 80, /glade/scratch/lverhoef/WRF_all/track_data_hrrr_3km_csv_refl/track_step_NCARSTORM_d01_20110625-0000.csv\n",
      "Train 90, /glade/scratch/lverhoef/WRF_all/track_data_hrrr_3km_csv_refl/track_step_NCARSTORM_d01_20110712-0000.csv\n",
      "Train 100, /glade/scratch/lverhoef/WRF_all/track_data_hrrr_3km_csv_refl/track_step_NCARSTORM_d01_20120218-0000.csv\n",
      "Validation 105, /glade/scratch/lverhoef/WRF_all/track_data_hrrr_3km_csv_refl/track_step_NCARSTORM_d01_20120315-0000.csv\n",
      "Validation 115, /glade/scratch/lverhoef/WRF_all/track_data_hrrr_3km_csv_refl/track_step_NCARSTORM_d01_20120401-0000.csv\n",
      "Test 120, /glade/scratch/lverhoef/WRF_all/track_data_hrrr_3km_csv_refl/track_step_NCARSTORM_d01_20120409-0000.csv\n",
      "Test 130, /glade/scratch/lverhoef/WRF_all/track_data_hrrr_3km_csv_refl/track_step_NCARSTORM_d01_20120503-0000.csv\n",
      "Test 140, /glade/scratch/lverhoef/WRF_all/track_data_hrrr_3km_csv_refl/track_step_NCARSTORM_d01_20120529-0000.csv\n"
     ]
    }
   ],
   "source": [
    "# Pull variables from csv files and join into an array\n",
    "csv_variables = [\"major_axis_length\", \"minor_axis_length\"]\n",
    "csv_data_list = []\n",
    "for p, csv_file in enumerate(csv_files[0:train_split]):\n",
    "    if p % 10 == 0:\n",
    "        print(f'Train {p}, {csv_file}')\n",
    "    csv_ds = pd.read_csv(csv_file)\n",
    "    csv_data_list.append(csv_ds[csv_variables].to_xarray().rename({'index': 'p'}))\n",
    "output_train = xr.concat(csv_data_list, dim=\"p\").to_array().transpose()\n",
    "csv_data_list = []\n",
    "for p, csv_file in enumerate(csv_files[train_split:val_split]):\n",
    "    if p % 10 == 0:\n",
    "        print(f'Validation {train_split + p}, {csv_file}')\n",
    "    csv_ds = pd.read_csv(csv_file)\n",
    "    csv_data_list.append(csv_ds[csv_variables].to_xarray().rename({'index': 'p'}))\n",
    "output_val = xr.concat(csv_data_list, dim=\"p\").to_array().transpose()\n",
    "csv_data_list = []\n",
    "for p, csv_file in enumerate(csv_files[val_split:num_files]):\n",
    "    if p % 10 == 0:\n",
    "        print(f'Test {val_split + p}, {csv_file}')\n",
    "    csv_ds = pd.read_csv(csv_file)\n",
    "    csv_data_list.append(csv_ds[csv_variables].to_xarray().rename({'index': 'p'}))\n",
    "output_test = xr.concat(csv_data_list, dim=\"p\").to_array().transpose()"
   ]
  },
  {
   "cell_type": "code",
   "execution_count": 10,
   "id": "6ba59282-c914-467e-9556-f6e255de6dc5",
   "metadata": {},
   "outputs": [
    {
     "name": "stdout",
     "output_type": "stream",
     "text": [
      "(34061, 144, 144, 1)\n",
      "(4300, 144, 144, 1)\n",
      "(12985, 144, 144, 1)\n",
      "(34061, 2)\n",
      "(4300, 2)\n",
      "(12985, 2)\n"
     ]
    }
   ],
   "source": [
    "print(input_train.shape)\n",
    "print(input_val.shape)\n",
    "print(input_test.shape)\n",
    "print(output_train.shape)\n",
    "print(output_val.shape)\n",
    "print(output_test.shape)"
   ]
  },
  {
   "cell_type": "markdown",
   "id": "cfe28b71-ac47-4745-b79e-9f10fd1daf3e",
   "metadata": {
    "tags": []
   },
   "source": [
    "## Normalize data"
   ]
  },
  {
   "cell_type": "code",
   "execution_count": 10,
   "id": "4e9c6285-809f-4c27-bbc1-ce975bf8745d",
   "metadata": {
    "tags": []
   },
   "outputs": [],
   "source": [
    "# Normalize the input data\n",
    "scale_stats = pd.DataFrame(index=[0], columns=[\"mean\", \"sd\"])\n",
    "scale_stats.loc[0, \"mean\"] = input_train.mean()\n",
    "scale_stats.loc[0, \"sd\"] = input_train.std()\n",
    "input_train_norm = (input_train - scale_stats.loc[0, \"mean\"]) / scale_stats.loc[0, \"sd\"]\n",
    "input_val_norm = (input_val - scale_stats.loc[0, \"mean\"]) / scale_stats.loc[0, \"sd\"]\n",
    "input_test_norm = (input_test - scale_stats.loc[0, \"mean\"]) / scale_stats.loc[0, \"sd\"]"
   ]
  },
  {
   "cell_type": "code",
   "execution_count": 11,
   "id": "af34ff7e-5cc7-4c9b-b55b-3bfee0db43d9",
   "metadata": {},
   "outputs": [],
   "source": [
    "# Normalize the output data\n",
    "output_scale_stats = pd.DataFrame(index=range(output_train.shape[-1]), columns=[\"mean\", \"sd\"])\n",
    "output_scale_stats.loc[:, \"mean\"] = output_train.mean(dim=\"p\")\n",
    "output_scale_stats.loc[:, \"sd\"] = output_train.std(dim=\"p\")\n",
    "output_train_norm = xr.DataArray(coords=output_train.coords, dims=output_train.dims)\n",
    "output_val_norm = xr.DataArray(coords=output_val.coords, dims=output_val.dims)\n",
    "output_test_norm = xr.DataArray(coords=output_test.coords, dims=output_test.dims)\n",
    "for i in range(output_train.shape[-1]):\n",
    "    output_train_norm[:, i] = (output_train[:, i] - output_scale_stats.loc[i, \"mean\"]) / output_scale_stats.loc[i, \"sd\"]\n",
    "    output_val_norm[:, i] = (output_val[:, i] - output_scale_stats.loc[i, \"mean\"]) / output_scale_stats.loc[i, \"sd\"]\n",
    "    output_test_norm[:, i] = (output_test[:, i] - output_scale_stats.loc[i, \"mean\"]) / output_scale_stats.loc[i, \"sd\"]"
   ]
  },
  {
   "cell_type": "markdown",
   "id": "c5354bbd-333d-49b6-a61d-53dc199ea1d0",
   "metadata": {
    "tags": []
   },
   "source": [
    "## Train Models"
   ]
  },
  {
   "cell_type": "code",
   "execution_count": 13,
   "id": "3e11ef0a-3959-462a-a57f-d4870573d446",
   "metadata": {},
   "outputs": [
    {
     "name": "stderr",
     "output_type": "stream",
     "text": [
      "2022-08-21 12:27:13.548394: I tensorflow/core/platform/cpu_feature_guard.cc:193] This TensorFlow binary is optimized with oneAPI Deep Neural Network Library (oneDNN) to use the following CPU instructions in performance-critical operations:  AVX2 AVX512F AVX512_VNNI FMA\n",
      "To enable them in other operations, rebuild TensorFlow with the appropriate compiler flags.\n",
      "2022-08-21 12:27:14.147869: I tensorflow/core/common_runtime/gpu/gpu_device.cc:1532] Created device /job:localhost/replica:0/task:0/device:GPU:0 with 30987 MB memory:  -> device: 0, name: Tesla V100-SXM2-32GB, pci bus id: 0000:3e:00.0, compute capability: 7.0\n"
     ]
    }
   ],
   "source": [
    "ricnn_models = [models.Sequential() for i in range(6)]\n",
    "filters = [32, 64, 64, 128]\n",
    "for inv_layer in range(6):\n",
    "    ricnn_models[inv_layer].add(GDL_layers.RotEquivConv2D(filters[0], (3, 3), rot_axis=False, input_shape=(144, 144, 1)))\n",
    "    ricnn_models[inv_layer].add(GDL_layers.RotEquivPool2D((2, 2)))\n",
    "    for layer, filts in enumerate(filters):\n",
    "        if layer < inv_layer:\n",
    "            ricnn_models[inv_layer].add(GDL_layers.RotEquivConv2D(filters[layer], (3, 3)))\n",
    "            ricnn_models[inv_layer].add(GDL_layers.RotEquivPool2D((2, 2)))\n",
    "        else:\n",
    "            if layer == inv_layer:\n",
    "                ricnn_models[inv_layer].add(GDL_layers.RotInvPool())\n",
    "            ricnn_models[inv_layer].add(layers.Conv2D(filters[layer], (3, 3), activation='relu'))\n",
    "            ricnn_models[inv_layer].add(layers.MaxPooling2D((2, 2)))\n",
    "    ricnn_models[inv_layer].add(layers.Flatten())\n",
    "    ricnn_models[inv_layer].add(layers.Dense(32, activation='relu'))\n",
    "    ricnn_models[inv_layer].add(layers.Dense(2))\n",
    "    ricnn_models[inv_layer].compile(\n",
    "        optimizer='nadam',\n",
    "        loss='mse'\n",
    "    )"
   ]
  },
  {
   "cell_type": "code",
   "execution_count": 14,
   "id": "d3e5ef93-ca1c-456e-bdbd-6d253edd21cb",
   "metadata": {},
   "outputs": [
    {
     "name": "stdout",
     "output_type": "stream",
     "text": [
      "Model: \"sequential_5\"\n",
      "_________________________________________________________________\n",
      " Layer (type)                Output Shape              Param #   \n",
      "=================================================================\n",
      " rot_equiv_conv2d_15 (RotEqu  (None, 142, 142, 4, 32)  320       \n",
      " ivConv2D)                                                       \n",
      "                                                                 \n",
      " rot_equiv_pool2d_15 (RotEqu  (None, 71, 71, 4, 32)    0         \n",
      " ivPool2D)                                                       \n",
      "                                                                 \n",
      " rot_equiv_conv2d_16 (RotEqu  (None, 69, 69, 4, 32)    9248      \n",
      " ivConv2D)                                                       \n",
      "                                                                 \n",
      " rot_equiv_pool2d_16 (RotEqu  (None, 34, 34, 4, 32)    0         \n",
      " ivPool2D)                                                       \n",
      "                                                                 \n",
      " rot_equiv_conv2d_17 (RotEqu  (None, 32, 32, 4, 64)    18496     \n",
      " ivConv2D)                                                       \n",
      "                                                                 \n",
      " rot_equiv_pool2d_17 (RotEqu  (None, 16, 16, 4, 64)    0         \n",
      " ivPool2D)                                                       \n",
      "                                                                 \n",
      " rot_equiv_conv2d_18 (RotEqu  (None, 14, 14, 4, 64)    36928     \n",
      " ivConv2D)                                                       \n",
      "                                                                 \n",
      " rot_equiv_pool2d_18 (RotEqu  (None, 7, 7, 4, 64)      0         \n",
      " ivPool2D)                                                       \n",
      "                                                                 \n",
      " rot_equiv_conv2d_19 (RotEqu  (None, 5, 5, 4, 128)     73856     \n",
      " ivConv2D)                                                       \n",
      "                                                                 \n",
      " rot_equiv_pool2d_19 (RotEqu  (None, 2, 2, 4, 128)     0         \n",
      " ivPool2D)                                                       \n",
      "                                                                 \n",
      " flatten_5 (Flatten)         (None, 2048)              0         \n",
      "                                                                 \n",
      " dense_10 (Dense)            (None, 32)                65568     \n",
      "                                                                 \n",
      " dense_11 (Dense)            (None, 2)                 66        \n",
      "                                                                 \n",
      "=================================================================\n",
      "Total params: 204,482\n",
      "Trainable params: 204,482\n",
      "Non-trainable params: 0\n",
      "_________________________________________________________________\n"
     ]
    }
   ],
   "source": [
    "ricnn_models[5].summary()"
   ]
  },
  {
   "cell_type": "code",
   "execution_count": 15,
   "id": "9f0082d7-bb9a-434c-a9d5-fce4ec479b8b",
   "metadata": {},
   "outputs": [
    {
     "name": "stdout",
     "output_type": "stream",
     "text": [
      "WARNING:tensorflow:Keras is training/fitting/evaluating on array-like data. Keras may not be optimized for this format, so if your input data format is supported by TensorFlow I/O (https://github.com/tensorflow/io) we recommend using that to load a Dataset instead.\n",
      "Epoch 1/10\n"
     ]
    },
    {
     "name": "stderr",
     "output_type": "stream",
     "text": [
      "2022-08-21 12:27:21.968855: I tensorflow/stream_executor/cuda/cuda_dnn.cc:384] Loaded cuDNN version 8100\n"
     ]
    },
    {
     "name": "stdout",
     "output_type": "stream",
     "text": [
      "1065/1065 [==============================] - ETA: 0s - loss: 0.3885WARNING:tensorflow:Keras is training/fitting/evaluating on array-like data. Keras may not be optimized for this format, so if your input data format is supported by TensorFlow I/O (https://github.com/tensorflow/io) we recommend using that to load a Dataset instead.\n",
      "1065/1065 [==============================] - 70s 53ms/step - loss: 0.3885 - val_loss: 0.1466\n",
      "Epoch 2/10\n",
      "1065/1065 [==============================] - 55s 52ms/step - loss: 0.2143 - val_loss: 0.1287\n",
      "Epoch 3/10\n",
      "1065/1065 [==============================] - 55s 52ms/step - loss: 0.1704 - val_loss: 0.1256\n",
      "Epoch 4/10\n",
      "1065/1065 [==============================] - 55s 52ms/step - loss: 0.1407 - val_loss: 0.1807\n",
      "Epoch 5/10\n",
      "1065/1065 [==============================] - 56s 52ms/step - loss: 0.1181 - val_loss: 0.1168\n",
      "Epoch 6/10\n",
      "1065/1065 [==============================] - 56s 53ms/step - loss: 0.1031 - val_loss: 0.1096\n",
      "Epoch 7/10\n",
      "1065/1065 [==============================] - 56s 52ms/step - loss: 0.0982 - val_loss: 0.1075\n",
      "Epoch 8/10\n",
      "1065/1065 [==============================] - 55s 52ms/step - loss: 0.0850 - val_loss: 0.0847\n",
      "Epoch 9/10\n",
      "1065/1065 [==============================] - 55s 52ms/step - loss: 0.0799 - val_loss: 0.0800\n",
      "Epoch 10/10\n",
      "1065/1065 [==============================] - 55s 51ms/step - loss: 0.0743 - val_loss: 0.0861\n"
     ]
    },
    {
     "name": "stderr",
     "output_type": "stream",
     "text": [
      "WARNING:absl:Found untraced functions such as _jit_compiled_convolution_op, _jit_compiled_convolution_op, _jit_compiled_convolution_op, _jit_compiled_convolution_op while saving (showing 4 of 4). These functions will not be directly callable after loading.\n"
     ]
    },
    {
     "name": "stdout",
     "output_type": "stream",
     "text": [
      "INFO:tensorflow:Assets written to: saved_models/rot_inv_hyper/inv_layer_0/assets\n"
     ]
    },
    {
     "name": "stderr",
     "output_type": "stream",
     "text": [
      "INFO:tensorflow:Assets written to: saved_models/rot_inv_hyper/inv_layer_0/assets\n"
     ]
    },
    {
     "name": "stdout",
     "output_type": "stream",
     "text": [
      "WARNING:tensorflow:Keras is training/fitting/evaluating on array-like data. Keras may not be optimized for this format, so if your input data format is supported by TensorFlow I/O (https://github.com/tensorflow/io) we recommend using that to load a Dataset instead.\n"
     ]
    },
    {
     "name": "stderr",
     "output_type": "stream",
     "text": [
      "WARNING:tensorflow:Keras is training/fitting/evaluating on array-like data. Keras may not be optimized for this format, so if your input data format is supported by TensorFlow I/O (https://github.com/tensorflow/io) we recommend using that to load a Dataset instead.\n"
     ]
    },
    {
     "name": "stdout",
     "output_type": "stream",
     "text": [
      "Epoch 1/10\n",
      "1064/1065 [============================>.] - ETA: 0s - loss: 0.3373WARNING:tensorflow:Keras is training/fitting/evaluating on array-like data. Keras may not be optimized for this format, so if your input data format is supported by TensorFlow I/O (https://github.com/tensorflow/io) we recommend using that to load a Dataset instead.\n"
     ]
    },
    {
     "name": "stderr",
     "output_type": "stream",
     "text": [
      "WARNING:tensorflow:Keras is training/fitting/evaluating on array-like data. Keras may not be optimized for this format, so if your input data format is supported by TensorFlow I/O (https://github.com/tensorflow/io) we recommend using that to load a Dataset instead.\n"
     ]
    },
    {
     "name": "stdout",
     "output_type": "stream",
     "text": [
      "1065/1065 [==============================] - 73s 66ms/step - loss: 0.3373 - val_loss: 0.2502\n",
      "Epoch 2/10\n",
      "1065/1065 [==============================] - 70s 65ms/step - loss: 0.1917 - val_loss: 0.0848\n",
      "Epoch 3/10\n",
      "1065/1065 [==============================] - 69s 65ms/step - loss: 0.1313 - val_loss: 0.0763\n",
      "Epoch 4/10\n",
      "1065/1065 [==============================] - 69s 65ms/step - loss: 0.1092 - val_loss: 0.1197\n",
      "Epoch 5/10\n",
      "1065/1065 [==============================] - 69s 65ms/step - loss: 0.0916 - val_loss: 0.0679\n",
      "Epoch 6/10\n",
      "1065/1065 [==============================] - 70s 65ms/step - loss: 0.0844 - val_loss: 0.0659\n",
      "Epoch 7/10\n",
      "1065/1065 [==============================] - 70s 65ms/step - loss: 0.0780 - val_loss: 0.1006\n",
      "Epoch 8/10\n",
      "1065/1065 [==============================] - 69s 65ms/step - loss: 0.1002 - val_loss: 0.2363\n",
      "Epoch 9/10\n",
      "1065/1065 [==============================] - 69s 65ms/step - loss: 0.0815 - val_loss: 0.1478\n",
      "Epoch 10/10\n",
      "1065/1065 [==============================] - 68s 64ms/step - loss: 0.0588 - val_loss: 0.0608\n"
     ]
    },
    {
     "name": "stderr",
     "output_type": "stream",
     "text": [
      "WARNING:absl:Found untraced functions such as _jit_compiled_convolution_op, _jit_compiled_convolution_op, _jit_compiled_convolution_op while saving (showing 3 of 3). These functions will not be directly callable after loading.\n"
     ]
    },
    {
     "name": "stdout",
     "output_type": "stream",
     "text": [
      "INFO:tensorflow:Assets written to: saved_models/rot_inv_hyper/inv_layer_1/assets\n"
     ]
    },
    {
     "name": "stderr",
     "output_type": "stream",
     "text": [
      "INFO:tensorflow:Assets written to: saved_models/rot_inv_hyper/inv_layer_1/assets\n"
     ]
    },
    {
     "name": "stdout",
     "output_type": "stream",
     "text": [
      "WARNING:tensorflow:Keras is training/fitting/evaluating on array-like data. Keras may not be optimized for this format, so if your input data format is supported by TensorFlow I/O (https://github.com/tensorflow/io) we recommend using that to load a Dataset instead.\n"
     ]
    },
    {
     "name": "stderr",
     "output_type": "stream",
     "text": [
      "WARNING:tensorflow:Keras is training/fitting/evaluating on array-like data. Keras may not be optimized for this format, so if your input data format is supported by TensorFlow I/O (https://github.com/tensorflow/io) we recommend using that to load a Dataset instead.\n"
     ]
    },
    {
     "name": "stdout",
     "output_type": "stream",
     "text": [
      "Epoch 1/10\n",
      "1064/1065 [============================>.] - ETA: 0s - loss: 0.3322WARNING:tensorflow:Keras is training/fitting/evaluating on array-like data. Keras may not be optimized for this format, so if your input data format is supported by TensorFlow I/O (https://github.com/tensorflow/io) we recommend using that to load a Dataset instead.\n"
     ]
    },
    {
     "name": "stderr",
     "output_type": "stream",
     "text": [
      "WARNING:tensorflow:Keras is training/fitting/evaluating on array-like data. Keras may not be optimized for this format, so if your input data format is supported by TensorFlow I/O (https://github.com/tensorflow/io) we recommend using that to load a Dataset instead.\n"
     ]
    },
    {
     "name": "stdout",
     "output_type": "stream",
     "text": [
      "1065/1065 [==============================] - 77s 69ms/step - loss: 0.3321 - val_loss: 0.1297\n",
      "Epoch 2/10\n",
      "1065/1065 [==============================] - 74s 70ms/step - loss: 0.1882 - val_loss: 0.0960\n",
      "Epoch 3/10\n",
      "1065/1065 [==============================] - 74s 69ms/step - loss: 0.1165 - val_loss: 0.0732\n",
      "Epoch 4/10\n",
      "1065/1065 [==============================] - 73s 69ms/step - loss: 0.0920 - val_loss: 0.0605\n",
      "Epoch 5/10\n",
      "1065/1065 [==============================] - 73s 69ms/step - loss: 0.0755 - val_loss: 0.0597\n",
      "Epoch 6/10\n",
      "1065/1065 [==============================] - 74s 69ms/step - loss: 0.0663 - val_loss: 0.0589\n",
      "Epoch 7/10\n",
      "1065/1065 [==============================] - 74s 69ms/step - loss: 0.0551 - val_loss: 0.0558\n",
      "Epoch 8/10\n",
      "1065/1065 [==============================] - 73s 69ms/step - loss: 0.0521 - val_loss: 0.0556\n",
      "Epoch 9/10\n",
      "1065/1065 [==============================] - 73s 69ms/step - loss: 0.0442 - val_loss: 0.0482\n",
      "Epoch 10/10\n",
      "1065/1065 [==============================] - 73s 69ms/step - loss: 0.0438 - val_loss: 0.0534\n"
     ]
    },
    {
     "name": "stderr",
     "output_type": "stream",
     "text": [
      "WARNING:absl:Found untraced functions such as _jit_compiled_convolution_op, _jit_compiled_convolution_op while saving (showing 2 of 2). These functions will not be directly callable after loading.\n"
     ]
    },
    {
     "name": "stdout",
     "output_type": "stream",
     "text": [
      "INFO:tensorflow:Assets written to: saved_models/rot_inv_hyper/inv_layer_2/assets\n"
     ]
    },
    {
     "name": "stderr",
     "output_type": "stream",
     "text": [
      "INFO:tensorflow:Assets written to: saved_models/rot_inv_hyper/inv_layer_2/assets\n"
     ]
    },
    {
     "name": "stdout",
     "output_type": "stream",
     "text": [
      "WARNING:tensorflow:Keras is training/fitting/evaluating on array-like data. Keras may not be optimized for this format, so if your input data format is supported by TensorFlow I/O (https://github.com/tensorflow/io) we recommend using that to load a Dataset instead.\n"
     ]
    },
    {
     "name": "stderr",
     "output_type": "stream",
     "text": [
      "WARNING:tensorflow:Keras is training/fitting/evaluating on array-like data. Keras may not be optimized for this format, so if your input data format is supported by TensorFlow I/O (https://github.com/tensorflow/io) we recommend using that to load a Dataset instead.\n"
     ]
    },
    {
     "name": "stdout",
     "output_type": "stream",
     "text": [
      "Epoch 1/10\n",
      "1064/1065 [============================>.] - ETA: 0s - loss: 0.2852WARNING:tensorflow:Keras is training/fitting/evaluating on array-like data. Keras may not be optimized for this format, so if your input data format is supported by TensorFlow I/O (https://github.com/tensorflow/io) we recommend using that to load a Dataset instead.\n"
     ]
    },
    {
     "name": "stderr",
     "output_type": "stream",
     "text": [
      "WARNING:tensorflow:Keras is training/fitting/evaluating on array-like data. Keras may not be optimized for this format, so if your input data format is supported by TensorFlow I/O (https://github.com/tensorflow/io) we recommend using that to load a Dataset instead.\n"
     ]
    },
    {
     "name": "stdout",
     "output_type": "stream",
     "text": [
      "1065/1065 [==============================] - 82s 73ms/step - loss: 0.2851 - val_loss: 0.1036\n",
      "Epoch 2/10\n",
      "1065/1065 [==============================] - 77s 73ms/step - loss: 0.1357 - val_loss: 0.0728\n",
      "Epoch 3/10\n",
      "1065/1065 [==============================] - 77s 72ms/step - loss: 0.0959 - val_loss: 0.0650\n",
      "Epoch 4/10\n",
      "1065/1065 [==============================] - 77s 72ms/step - loss: 0.0724 - val_loss: 0.0673\n",
      "Epoch 5/10\n",
      "1065/1065 [==============================] - 77s 72ms/step - loss: 0.0603 - val_loss: 0.0783\n",
      "Epoch 6/10\n",
      "1065/1065 [==============================] - 77s 73ms/step - loss: 0.0492 - val_loss: 0.1613\n",
      "Epoch 7/10\n",
      "1065/1065 [==============================] - 77s 73ms/step - loss: 0.0421 - val_loss: 0.0816\n",
      "Epoch 8/10\n",
      "1065/1065 [==============================] - 77s 72ms/step - loss: 0.0386 - val_loss: 0.0563\n",
      "Epoch 9/10\n",
      "1065/1065 [==============================] - 77s 72ms/step - loss: 0.0348 - val_loss: 0.0594\n",
      "Epoch 10/10\n",
      "1065/1065 [==============================] - 77s 72ms/step - loss: 0.0322 - val_loss: 0.0469\n"
     ]
    },
    {
     "name": "stderr",
     "output_type": "stream",
     "text": [
      "WARNING:absl:Found untraced functions such as _jit_compiled_convolution_op while saving (showing 1 of 1). These functions will not be directly callable after loading.\n"
     ]
    },
    {
     "name": "stdout",
     "output_type": "stream",
     "text": [
      "INFO:tensorflow:Assets written to: saved_models/rot_inv_hyper/inv_layer_3/assets\n"
     ]
    },
    {
     "name": "stderr",
     "output_type": "stream",
     "text": [
      "INFO:tensorflow:Assets written to: saved_models/rot_inv_hyper/inv_layer_3/assets\n"
     ]
    },
    {
     "name": "stdout",
     "output_type": "stream",
     "text": [
      "WARNING:tensorflow:Keras is training/fitting/evaluating on array-like data. Keras may not be optimized for this format, so if your input data format is supported by TensorFlow I/O (https://github.com/tensorflow/io) we recommend using that to load a Dataset instead.\n"
     ]
    },
    {
     "name": "stderr",
     "output_type": "stream",
     "text": [
      "WARNING:tensorflow:Keras is training/fitting/evaluating on array-like data. Keras may not be optimized for this format, so if your input data format is supported by TensorFlow I/O (https://github.com/tensorflow/io) we recommend using that to load a Dataset instead.\n"
     ]
    },
    {
     "name": "stdout",
     "output_type": "stream",
     "text": [
      "Epoch 1/10\n",
      "1064/1065 [============================>.] - ETA: 0s - loss: 0.3774WARNING:tensorflow:Keras is training/fitting/evaluating on array-like data. Keras may not be optimized for this format, so if your input data format is supported by TensorFlow I/O (https://github.com/tensorflow/io) we recommend using that to load a Dataset instead.\n"
     ]
    },
    {
     "name": "stderr",
     "output_type": "stream",
     "text": [
      "WARNING:tensorflow:Keras is training/fitting/evaluating on array-like data. Keras may not be optimized for this format, so if your input data format is supported by TensorFlow I/O (https://github.com/tensorflow/io) we recommend using that to load a Dataset instead.\n"
     ]
    },
    {
     "name": "stdout",
     "output_type": "stream",
     "text": [
      "1065/1065 [==============================] - 85s 75ms/step - loss: 0.3773 - val_loss: 0.2091\n",
      "Epoch 2/10\n",
      "1065/1065 [==============================] - 79s 74ms/step - loss: 0.1739 - val_loss: 0.0823\n",
      "Epoch 3/10\n",
      "1065/1065 [==============================] - 79s 74ms/step - loss: 0.1140 - val_loss: 0.0706\n",
      "Epoch 4/10\n",
      "1065/1065 [==============================] - 78s 74ms/step - loss: 0.0898 - val_loss: 0.0666\n",
      "Epoch 5/10\n",
      "1065/1065 [==============================] - 78s 73ms/step - loss: 0.0671 - val_loss: 0.0657\n",
      "Epoch 6/10\n",
      "1065/1065 [==============================] - 78s 73ms/step - loss: 0.0575 - val_loss: 0.0488\n",
      "Epoch 7/10\n",
      "1065/1065 [==============================] - 78s 73ms/step - loss: 0.0512 - val_loss: 0.0478\n",
      "Epoch 8/10\n",
      "1065/1065 [==============================] - 78s 74ms/step - loss: 0.0416 - val_loss: 0.0957\n",
      "Epoch 9/10\n",
      "1065/1065 [==============================] - 78s 73ms/step - loss: 0.0377 - val_loss: 0.0504\n",
      "Epoch 10/10\n",
      "1065/1065 [==============================] - 79s 74ms/step - loss: 0.0332 - val_loss: 0.0510\n",
      "INFO:tensorflow:Assets written to: saved_models/rot_inv_hyper/inv_layer_4/assets\n"
     ]
    },
    {
     "name": "stderr",
     "output_type": "stream",
     "text": [
      "INFO:tensorflow:Assets written to: saved_models/rot_inv_hyper/inv_layer_4/assets\n"
     ]
    },
    {
     "name": "stdout",
     "output_type": "stream",
     "text": [
      "WARNING:tensorflow:Keras is training/fitting/evaluating on array-like data. Keras may not be optimized for this format, so if your input data format is supported by TensorFlow I/O (https://github.com/tensorflow/io) we recommend using that to load a Dataset instead.\n"
     ]
    },
    {
     "name": "stderr",
     "output_type": "stream",
     "text": [
      "WARNING:tensorflow:Keras is training/fitting/evaluating on array-like data. Keras may not be optimized for this format, so if your input data format is supported by TensorFlow I/O (https://github.com/tensorflow/io) we recommend using that to load a Dataset instead.\n"
     ]
    },
    {
     "name": "stdout",
     "output_type": "stream",
     "text": [
      "Epoch 1/10\n",
      "1064/1065 [============================>.] - ETA: 0s - loss: 0.3060WARNING:tensorflow:Keras is training/fitting/evaluating on array-like data. Keras may not be optimized for this format, so if your input data format is supported by TensorFlow I/O (https://github.com/tensorflow/io) we recommend using that to load a Dataset instead.\n"
     ]
    },
    {
     "name": "stderr",
     "output_type": "stream",
     "text": [
      "WARNING:tensorflow:Keras is training/fitting/evaluating on array-like data. Keras may not be optimized for this format, so if your input data format is supported by TensorFlow I/O (https://github.com/tensorflow/io) we recommend using that to load a Dataset instead.\n"
     ]
    },
    {
     "name": "stdout",
     "output_type": "stream",
     "text": [
      "1065/1065 [==============================] - 83s 73ms/step - loss: 0.3059 - val_loss: 0.2189\n",
      "Epoch 2/10\n",
      "1065/1065 [==============================] - 78s 73ms/step - loss: 0.1390 - val_loss: 0.0936\n",
      "Epoch 3/10\n",
      "1065/1065 [==============================] - 77s 72ms/step - loss: 0.0920 - val_loss: 0.0565\n",
      "Epoch 4/10\n",
      "1065/1065 [==============================] - 77s 73ms/step - loss: 0.0675 - val_loss: 0.0613\n",
      "Epoch 5/10\n",
      "1065/1065 [==============================] - 77s 72ms/step - loss: 0.0564 - val_loss: 0.0873\n",
      "Epoch 6/10\n",
      "1065/1065 [==============================] - 77s 72ms/step - loss: 0.0446 - val_loss: 0.0560\n",
      "Epoch 7/10\n",
      "1065/1065 [==============================] - 77s 73ms/step - loss: 0.0406 - val_loss: 0.0460\n",
      "Epoch 8/10\n",
      "1065/1065 [==============================] - 77s 72ms/step - loss: 0.0357 - val_loss: 0.0500\n",
      "Epoch 9/10\n",
      "1065/1065 [==============================] - 77s 72ms/step - loss: 0.0314 - val_loss: 0.0400\n",
      "Epoch 10/10\n",
      "1065/1065 [==============================] - 77s 72ms/step - loss: 0.0327 - val_loss: 0.0443\n",
      "INFO:tensorflow:Assets written to: saved_models/rot_inv_hyper/inv_layer_5/assets\n"
     ]
    },
    {
     "name": "stderr",
     "output_type": "stream",
     "text": [
      "INFO:tensorflow:Assets written to: saved_models/rot_inv_hyper/inv_layer_5/assets\n"
     ]
    }
   ],
   "source": [
    "ricnn_history = []\n",
    "for inv_layer, model in enumerate(ricnn_models):\n",
    "    ricnn_history.append(model.fit(x=input_train_norm, y=output_train_norm, epochs=10, validation_data=(input_val_norm, output_val_norm)))\n",
    "    model.save(f\"saved_models/rot_inv_hyper/inv_layer_{inv_layer}\")\n",
    "    K.clear_session()"
   ]
  },
  {
   "cell_type": "code",
   "execution_count": 19,
   "id": "75533ae6-39b2-46ab-8cf1-ec28c49b4005",
   "metadata": {},
   "outputs": [
    {
     "data": {
      "text/plain": [
       "(0.0, 0.40638466998934747)"
      ]
     },
     "execution_count": 19,
     "metadata": {},
     "output_type": "execute_result"
    },
    {
     "data": {
      "image/png": "[encoded data removed]",
      "text/plain": [
       "<Figure size 1080x720 with 1 Axes>"
      ]
     },
     "metadata": {
      "needs_background": "light"
     },
     "output_type": "display_data"
    }
   ],
   "source": [
    "F, ax = plt.subplots(1, 1, figsize=(15, 10))\n",
    "colors = ['orange', 'red', 'blue', 'green', 'gold', 'purple']\n",
    "for i in range(6):\n",
    "    ax.plot(ricnn_history[i].history['loss'], color=colors[i], label = f'Layer {i} inv train')\n",
    "    ax.plot(ricnn_history[i].history['val_loss'], color=colors[i], label = f'Layer {i} inv val', linestyle='dashed')\n",
    "plt.legend()\n",
    "ax.set_title(\"History\")\n",
    "ax.set_ylim(bottom=0)"
   ]
  },
  {
   "cell_type": "code",
   "execution_count": null,
   "id": "0ec36e69-7d2d-48e3-bd57-e51f57017eb1",
   "metadata": {},
   "outputs": [],
   "source": []
  }
 ],
 "metadata": {
  "kernelspec": {
   "display_name": "Python [conda env:.conda-storm-mode]",
   "language": "python",
   "name": "conda-env-.conda-storm-mode-py"
  },
  "language_info": {
   "codemirror_mode": {
    "name": "ipython",
    "version": 3
   },
   "file_extension": ".py",
   "mimetype": "text/x-python",
   "name": "python",
   "nbconvert_exporter": "python",
   "pygments_lexer": "ipython3",
   "version": "3.10.4"
  }
 },
 "nbformat": 4,
 "nbformat_minor": 5
}
