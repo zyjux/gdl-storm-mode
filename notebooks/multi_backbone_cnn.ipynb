{
 "cells": [
  {
   "cell_type": "code",
   "execution_count": 1,
   "id": "c382a586-0788-4082-ac32-8e0d5b57fc44",
   "metadata": {},
   "outputs": [],
   "source": [
    "import tensorflow as tf\n",
    "from glob import glob\n",
    "from os.path import join\n",
    "from tensorflow.keras import layers, models\n",
    "import xarray as xr\n",
    "import pandas as pd\n",
    "import numpy as np\n",
    "import matplotlib.pyplot as plt\n",
    "import imports.GDL_layers as GDL_layers"
   ]
  },
  {
   "cell_type": "code",
   "execution_count": 2,
   "id": "3215de71-47ec-42e4-9ee1-3d8f3d73edd7",
   "metadata": {},
   "outputs": [],
   "source": [
    "# Find a list of all the datafiles\n",
    "patch_path = \"/glade/scratch/lverhoef/WRF_all/track_data_hrrr_3km_nc_refl/\"\n",
    "patch_files = sorted(glob(join(patch_path, \"*.nc\")))\n",
    "patch_ds = xr.open_dataset(patch_files[0])\n",
    "csv_path = \"/glade/scratch/lverhoef/WRF_all/track_data_hrrr_3km_csv_refl/\"\n",
    "csv_files = sorted(glob(join(csv_path, \"track_step_*.csv\")))\n",
    "meta_ds = pd.read_csv(csv_files[0])"
   ]
  },
  {
   "cell_type": "code",
   "execution_count": 3,
   "id": "f10a4600-43c3-49f1-8d52-b64657768946",
   "metadata": {},
   "outputs": [
    {
     "name": "stdout",
     "output_type": "stream",
     "text": [
      "Train 0, /glade/scratch/lverhoef/WRF_all/track_data_hrrr_3km_nc_refl/NCARSTORM_20101024-0000_d01_model_patches.nc\n",
      "Train 10, /glade/scratch/lverhoef/WRF_all/track_data_hrrr_3km_nc_refl/NCARSTORM_20110201-0000_d01_model_patches.nc\n",
      "Train 20, /glade/scratch/lverhoef/WRF_all/track_data_hrrr_3km_nc_refl/NCARSTORM_20110326-0000_d01_model_patches.nc\n",
      "Train 30, /glade/scratch/lverhoef/WRF_all/track_data_hrrr_3km_nc_refl/NCARSTORM_20110414-0000_d01_model_patches.nc\n",
      "Train 40, /glade/scratch/lverhoef/WRF_all/track_data_hrrr_3km_nc_refl/NCARSTORM_20110425-0000_d01_model_patches.nc\n",
      "Train 50, /glade/scratch/lverhoef/WRF_all/track_data_hrrr_3km_nc_refl/NCARSTORM_20110522-0000_d01_model_patches.nc\n",
      "Train 60, /glade/scratch/lverhoef/WRF_all/track_data_hrrr_3km_nc_refl/NCARSTORM_20110605-0000_d01_model_patches.nc\n",
      "Train 70, /glade/scratch/lverhoef/WRF_all/track_data_hrrr_3km_nc_refl/NCARSTORM_20110615-0000_d01_model_patches.nc\n",
      "Train 80, /glade/scratch/lverhoef/WRF_all/track_data_hrrr_3km_nc_refl/NCARSTORM_20110625-0000_d01_model_patches.nc\n",
      "Train 90, /glade/scratch/lverhoef/WRF_all/track_data_hrrr_3km_nc_refl/NCARSTORM_20110712-0000_d01_model_patches.nc\n",
      "Train 100, /glade/scratch/lverhoef/WRF_all/track_data_hrrr_3km_nc_refl/NCARSTORM_20120218-0000_d01_model_patches.nc\n",
      "Validation 105, /glade/scratch/lverhoef/WRF_all/track_data_hrrr_3km_nc_refl/NCARSTORM_20120315-0000_d01_model_patches.nc\n",
      "Validation 115, /glade/scratch/lverhoef/WRF_all/track_data_hrrr_3km_nc_refl/NCARSTORM_20120401-0000_d01_model_patches.nc\n",
      "Test 120, /glade/scratch/lverhoef/WRF_all/track_data_hrrr_3km_nc_refl/NCARSTORM_20120409-0000_d01_model_patches.nc\n",
      "Test 130, /glade/scratch/lverhoef/WRF_all/track_data_hrrr_3km_nc_refl/NCARSTORM_20120503-0000_d01_model_patches.nc\n",
      "Test 140, /glade/scratch/lverhoef/WRF_all/track_data_hrrr_3km_nc_refl/NCARSTORM_20120529-0000_d01_model_patches.nc\n"
     ]
    }
   ],
   "source": [
    "# Pull selected variables from patch files and join into a single DataSet\n",
    "num_files = 150\n",
    "train_split = int(num_files*0.7)\n",
    "val_split = int(num_files*0.8)\n",
    "variables = [\"REFL_COM_curr\", \"masks\"]\n",
    "data_list = []\n",
    "for p, patch_file in enumerate(patch_files[0:train_split]):\n",
    "    if p % 10 == 0:\n",
    "        print(f'Train {p}, {patch_file}')\n",
    "    ds = xr.open_dataset(patch_file)\n",
    "    data_list.append(ds[variables].compute())\n",
    "    ds.close()\n",
    "input_train = xr.concat(data_list, dim=\"p\")[\"REFL_COM_curr\"].expand_dims(\"channel\", axis = -1)\n",
    "train_masks = xr.concat(data_list, dim=\"p\")[\"masks\"]\n",
    "data_list = []\n",
    "for p, patch_file in enumerate(patch_files[train_split:val_split]):\n",
    "    if p % 10 == 0:\n",
    "        print(f'Validation {train_split + p}, {patch_file}')\n",
    "    ds = xr.open_dataset(patch_file)\n",
    "    data_list.append(ds[variables].compute())\n",
    "    ds.close()\n",
    "input_val = xr.concat(data_list, dim=\"p\")[\"REFL_COM_curr\"].expand_dims(\"channel\", axis = -1)\n",
    "val_masks = xr.concat(data_list, dim=\"p\")[\"masks\"]\n",
    "data_list = []\n",
    "for p, patch_file in enumerate(patch_files[val_split:num_files]):\n",
    "    if p % 10 == 0:\n",
    "        print(f'Test {val_split + p}, {patch_file}')\n",
    "    ds = xr.open_dataset(patch_file)\n",
    "    data_list.append(ds[variables].compute())\n",
    "    ds.close()\n",
    "input_test = xr.concat(data_list, dim=\"p\")[\"REFL_COM_curr\"].expand_dims(\"channel\", axis = -1)\n",
    "test_masks = xr.concat(data_list, dim=\"p\")[\"masks\"]"
   ]
  },
  {
   "cell_type": "code",
   "execution_count": 4,
   "id": "8eef87aa-7f51-48ff-8c77-fca32f52313e",
   "metadata": {},
   "outputs": [
    {
     "name": "stdout",
     "output_type": "stream",
     "text": [
      "Train 0, /glade/scratch/lverhoef/WRF_all/track_data_hrrr_3km_csv_refl/track_step_NCARSTORM_d01_20101024-0000.csv\n",
      "Train 10, /glade/scratch/lverhoef/WRF_all/track_data_hrrr_3km_csv_refl/track_step_NCARSTORM_d01_20110201-0000.csv\n",
      "Train 20, /glade/scratch/lverhoef/WRF_all/track_data_hrrr_3km_csv_refl/track_step_NCARSTORM_d01_20110326-0000.csv\n",
      "Train 30, /glade/scratch/lverhoef/WRF_all/track_data_hrrr_3km_csv_refl/track_step_NCARSTORM_d01_20110414-0000.csv\n",
      "Train 40, /glade/scratch/lverhoef/WRF_all/track_data_hrrr_3km_csv_refl/track_step_NCARSTORM_d01_20110425-0000.csv\n",
      "Train 50, /glade/scratch/lverhoef/WRF_all/track_data_hrrr_3km_csv_refl/track_step_NCARSTORM_d01_20110522-0000.csv\n",
      "Train 60, /glade/scratch/lverhoef/WRF_all/track_data_hrrr_3km_csv_refl/track_step_NCARSTORM_d01_20110605-0000.csv\n",
      "Train 70, /glade/scratch/lverhoef/WRF_all/track_data_hrrr_3km_csv_refl/track_step_NCARSTORM_d01_20110615-0000.csv\n",
      "Train 80, /glade/scratch/lverhoef/WRF_all/track_data_hrrr_3km_csv_refl/track_step_NCARSTORM_d01_20110625-0000.csv\n",
      "Train 90, /glade/scratch/lverhoef/WRF_all/track_data_hrrr_3km_csv_refl/track_step_NCARSTORM_d01_20110712-0000.csv\n",
      "Train 100, /glade/scratch/lverhoef/WRF_all/track_data_hrrr_3km_csv_refl/track_step_NCARSTORM_d01_20120218-0000.csv\n",
      "Validation 105, /glade/scratch/lverhoef/WRF_all/track_data_hrrr_3km_csv_refl/track_step_NCARSTORM_d01_20120315-0000.csv\n",
      "Validation 115, /glade/scratch/lverhoef/WRF_all/track_data_hrrr_3km_csv_refl/track_step_NCARSTORM_d01_20120401-0000.csv\n",
      "Test 120, /glade/scratch/lverhoef/WRF_all/track_data_hrrr_3km_csv_refl/track_step_NCARSTORM_d01_20120409-0000.csv\n",
      "Test 130, /glade/scratch/lverhoef/WRF_all/track_data_hrrr_3km_csv_refl/track_step_NCARSTORM_d01_20120503-0000.csv\n",
      "Test 140, /glade/scratch/lverhoef/WRF_all/track_data_hrrr_3km_csv_refl/track_step_NCARSTORM_d01_20120529-0000.csv\n"
     ]
    }
   ],
   "source": [
    "# Pull variables from csv files and join into an array\n",
    "csv_variables = [\"major_axis_length\", \"minor_axis_length\"]\n",
    "csv_data_list = []\n",
    "for p, csv_file in enumerate(csv_files[0:train_split]):\n",
    "    if p % 10 == 0:\n",
    "        print(f'Train {p}, {csv_file}')\n",
    "    csv_ds = pd.read_csv(csv_file)\n",
    "    csv_data_list.append(csv_ds[csv_variables].to_xarray().rename({'index': 'p'}))\n",
    "output_train = xr.concat(csv_data_list, dim=\"p\").to_array().transpose()\n",
    "csv_data_list = []\n",
    "for p, csv_file in enumerate(csv_files[train_split:val_split]):\n",
    "    if p % 10 == 0:\n",
    "        print(f'Validation {train_split + p}, {csv_file}')\n",
    "    csv_ds = pd.read_csv(csv_file)\n",
    "    csv_data_list.append(csv_ds[csv_variables].to_xarray().rename({'index': 'p'}))\n",
    "output_val = xr.concat(csv_data_list, dim=\"p\").to_array().transpose()\n",
    "csv_data_list = []\n",
    "for p, csv_file in enumerate(csv_files[val_split:num_files]):\n",
    "    if p % 10 == 0:\n",
    "        print(f'Test {val_split + p}, {csv_file}')\n",
    "    csv_ds = pd.read_csv(csv_file)\n",
    "    csv_data_list.append(csv_ds[csv_variables].to_xarray().rename({'index': 'p'}))\n",
    "output_test = xr.concat(csv_data_list, dim=\"p\").to_array().transpose()"
   ]
  },
  {
   "cell_type": "code",
   "execution_count": 5,
   "id": "6a33c86c-774e-4742-b98b-5b45130ee9bf",
   "metadata": {},
   "outputs": [
    {
     "name": "stdout",
     "output_type": "stream",
     "text": [
      "(34061, 144, 144, 1)\n",
      "(4300, 144, 144, 1)\n",
      "(12985, 144, 144, 1)\n",
      "(34061, 2)\n",
      "(4300, 2)\n",
      "(12985, 2)\n"
     ]
    }
   ],
   "source": [
    "print(input_train.shape)\n",
    "print(input_val.shape)\n",
    "print(input_test.shape)\n",
    "print(output_train.shape)\n",
    "print(output_val.shape)\n",
    "print(output_test.shape)"
   ]
  },
  {
   "cell_type": "code",
   "execution_count": 6,
   "id": "f9ad7e74-ae51-4d6e-bdbf-b42fbf88ca7d",
   "metadata": {},
   "outputs": [],
   "source": [
    "# Normalize the training data\n",
    "scale_stats = pd.DataFrame(index=[0], columns=[\"mean\", \"sd\"])\n",
    "scale_stats.loc[0, \"mean\"] = input_train.mean()\n",
    "scale_stats.loc[0, \"sd\"] = input_train.std()\n",
    "input_train_norm = (input_train - scale_stats.loc[0, \"mean\"]) / scale_stats.loc[0, \"sd\"]\n",
    "input_val_norm = (input_val - scale_stats.loc[0, \"mean\"]) / scale_stats.loc[0, \"sd\"]\n",
    "input_test_norm = (input_test - scale_stats.loc[0, \"mean\"]) / scale_stats.loc[0, \"sd\"]"
   ]
  },
  {
   "cell_type": "code",
   "execution_count": 7,
   "id": "95788ec1-4803-4aff-aa8e-84c05ce30e6f",
   "metadata": {},
   "outputs": [],
   "source": [
    "# Normalize output data\n",
    "output_scale_stats = pd.DataFrame(index=[0], columns=[\"mean\", \"sd\"])\n",
    "output_scale_stats.loc[0, \"mean\"] = output_train.mean()\n",
    "output_scale_stats.loc[0, \"sd\"] = output_train.std()\n",
    "output_train_norm = (output_train - output_scale_stats.loc[0, \"mean\"]) / output_scale_stats.loc[0, \"sd\"]\n",
    "output_val_norm = (output_val - output_scale_stats.loc[0, \"mean\"]) / output_scale_stats.loc[0, \"sd\"]\n",
    "output_test_norm = (output_test - output_scale_stats.loc[0, \"mean\"]) / output_scale_stats.loc[0, \"sd\"]"
   ]
  },
  {
   "cell_type": "code",
   "execution_count": 8,
   "id": "4e7ebf37-b8d9-4e9c-963c-e7ccfc8a5cfd",
   "metadata": {},
   "outputs": [
    {
     "name": "stderr",
     "output_type": "stream",
     "text": [
      "2022-07-25 08:26:21.775249: I tensorflow/core/platform/cpu_feature_guard.cc:193] This TensorFlow binary is optimized with oneAPI Deep Neural Network Library (oneDNN) to use the following CPU instructions in performance-critical operations:  AVX2 AVX512F FMA\n",
      "To enable them in other operations, rebuild TensorFlow with the appropriate compiler flags.\n",
      "2022-07-25 08:26:28.244527: I tensorflow/core/common_runtime/gpu/gpu_device.cc:1532] Created device /job:localhost/replica:0/task:0/device:GPU:0 with 30988 MB memory:  -> device: 0, name: Tesla V100-SXM2-32GB, pci bus id: 0000:61:00.0, compute capability: 7.0\n"
     ]
    }
   ],
   "source": [
    "ricnn_backbone = models.Sequential()\n",
    "ricnn_backbone.add(GDL_layers.RotEquivConv2D(32, (3, 3), rot_axis=False, input_shape=(144, 144, 1)))\n",
    "ricnn_backbone.add(GDL_layers.RotEquivPool2D((2, 2)))\n",
    "ricnn_backbone.add(GDL_layers.RotEquivConv2D(32, (3, 3)))\n",
    "ricnn_backbone.add(GDL_layers.RotEquivPool2D((2, 2)))\n",
    "ricnn_backbone.add(GDL_layers.RotEquivConv2D(64, (3, 3)))\n",
    "ricnn_backbone.add(GDL_layers.RotEquivPool2D((2, 2)))\n",
    "ricnn_backbone.add(GDL_layers.RotEquivConv2D(64, (3, 3)))\n",
    "ricnn_backbone.add(GDL_layers.RotEquivPool2D((2, 2)))\n",
    "ricnn_backbone.add(GDL_layers.RotEquivConv2D(128, (3, 3)))\n",
    "ricnn_backbone.add(GDL_layers.RotInvPool())\n",
    "ricnn_backbone.add(layers.Flatten())"
   ]
  },
  {
   "cell_type": "code",
   "execution_count": 9,
   "id": "e544f6a4-9369-42c1-8286-bdb364ac7c5e",
   "metadata": {},
   "outputs": [
    {
     "name": "stdout",
     "output_type": "stream",
     "text": [
      "Model: \"sequential\"\n",
      "_________________________________________________________________\n",
      " Layer (type)                Output Shape              Param #   \n",
      "=================================================================\n",
      " rot_equiv_conv2d (RotEquivC  (None, 142, 142, 4, 32)  320       \n",
      " onv2D)                                                          \n",
      "                                                                 \n",
      " rot_equiv_pool2d (RotEquivP  (None, 71, 71, 4, 32)    0         \n",
      " ool2D)                                                          \n",
      "                                                                 \n",
      " rot_equiv_conv2d_1 (RotEqui  (None, 69, 69, 4, 32)    9248      \n",
      " vConv2D)                                                        \n",
      "                                                                 \n",
      " rot_equiv_pool2d_1 (RotEqui  (None, 34, 34, 4, 32)    0         \n",
      " vPool2D)                                                        \n",
      "                                                                 \n",
      " rot_equiv_conv2d_2 (RotEqui  (None, 32, 32, 4, 64)    18496     \n",
      " vConv2D)                                                        \n",
      "                                                                 \n",
      " rot_equiv_pool2d_2 (RotEqui  (None, 16, 16, 4, 64)    0         \n",
      " vPool2D)                                                        \n",
      "                                                                 \n",
      " rot_equiv_conv2d_3 (RotEqui  (None, 14, 14, 4, 64)    36928     \n",
      " vConv2D)                                                        \n",
      "                                                                 \n",
      " rot_equiv_pool2d_3 (RotEqui  (None, 7, 7, 4, 64)      0         \n",
      " vPool2D)                                                        \n",
      "                                                                 \n",
      " rot_equiv_conv2d_4 (RotEqui  (None, 5, 5, 4, 128)     73856     \n",
      " vConv2D)                                                        \n",
      "                                                                 \n",
      " rot_inv_pool (RotInvPool)   (None, 5, 5, 128)         0         \n",
      "                                                                 \n",
      " flatten (Flatten)           (None, 3200)              0         \n",
      "                                                                 \n",
      "=================================================================\n",
      "Total params: 138,848\n",
      "Trainable params: 138,848\n",
      "Non-trainable params: 0\n",
      "_________________________________________________________________\n"
     ]
    }
   ],
   "source": [
    "ricnn_backbone.summary()"
   ]
  },
  {
   "cell_type": "code",
   "execution_count": 10,
   "id": "6fa0fca9-7db0-435b-8310-257ef53097d1",
   "metadata": {},
   "outputs": [],
   "source": [
    "cnn_backbone = models.Sequential()\n",
    "cnn_backbone.add(layers.Conv2D(32, (3, 3), activation='relu', input_shape=(144, 144, 1)))\n",
    "cnn_backbone.add(layers.MaxPooling2D((2, 2)))\n",
    "cnn_backbone.add(layers.Conv2D(32, (3, 3), activation='relu'))\n",
    "cnn_backbone.add(layers.MaxPooling2D((2, 2)))\n",
    "cnn_backbone.add(layers.Conv2D(64, (3, 3), activation='relu'))\n",
    "cnn_backbone.add(layers.MaxPooling2D((2, 2)))\n",
    "cnn_backbone.add(layers.Conv2D(64, (3, 3), activation='relu'))\n",
    "cnn_backbone.add(layers.MaxPooling2D((2, 2)))\n",
    "cnn_backbone.add(layers.Conv2D(128, (3, 3), activation='relu'))\n",
    "cnn_backbone.add(layers.Flatten())"
   ]
  },
  {
   "cell_type": "code",
   "execution_count": 11,
   "id": "f3eea481-1265-4bac-a4a9-6c2001d03650",
   "metadata": {},
   "outputs": [
    {
     "name": "stdout",
     "output_type": "stream",
     "text": [
      "Model: \"sequential_1\"\n",
      "_________________________________________________________________\n",
      " Layer (type)                Output Shape              Param #   \n",
      "=================================================================\n",
      " conv2d (Conv2D)             (None, 142, 142, 32)      320       \n",
      "                                                                 \n",
      " max_pooling2d_4 (MaxPooling  (None, 71, 71, 32)       0         \n",
      " 2D)                                                             \n",
      "                                                                 \n",
      " conv2d_1 (Conv2D)           (None, 69, 69, 32)        9248      \n",
      "                                                                 \n",
      " max_pooling2d_5 (MaxPooling  (None, 34, 34, 32)       0         \n",
      " 2D)                                                             \n",
      "                                                                 \n",
      " conv2d_2 (Conv2D)           (None, 32, 32, 64)        18496     \n",
      "                                                                 \n",
      " max_pooling2d_6 (MaxPooling  (None, 16, 16, 64)       0         \n",
      " 2D)                                                             \n",
      "                                                                 \n",
      " conv2d_3 (Conv2D)           (None, 14, 14, 64)        36928     \n",
      "                                                                 \n",
      " max_pooling2d_7 (MaxPooling  (None, 7, 7, 64)         0         \n",
      " 2D)                                                             \n",
      "                                                                 \n",
      " conv2d_4 (Conv2D)           (None, 5, 5, 128)         73856     \n",
      "                                                                 \n",
      " flatten_1 (Flatten)         (None, 3200)              0         \n",
      "                                                                 \n",
      "=================================================================\n",
      "Total params: 138,848\n",
      "Trainable params: 138,848\n",
      "Non-trainable params: 0\n",
      "_________________________________________________________________\n"
     ]
    }
   ],
   "source": [
    "cnn_backbone.summary()"
   ]
  },
  {
   "cell_type": "code",
   "execution_count": 12,
   "id": "12d24ae7-8a1e-4b3f-8042-6c291f744eef",
   "metadata": {},
   "outputs": [],
   "source": [
    "head = models.Sequential()\n",
    "head.add(layers.Dense(32, input_shape=(3200,)))\n",
    "head.add(layers.LeakyReLU(alpha=0.05))\n",
    "head.add(layers.Dense(2))"
   ]
  },
  {
   "cell_type": "code",
   "execution_count": 13,
   "id": "5039296d-0018-4a03-89ee-48228e92df09",
   "metadata": {},
   "outputs": [
    {
     "name": "stdout",
     "output_type": "stream",
     "text": [
      "Model: \"sequential_2\"\n",
      "_________________________________________________________________\n",
      " Layer (type)                Output Shape              Param #   \n",
      "=================================================================\n",
      " dense (Dense)               (None, 32)                102432    \n",
      "                                                                 \n",
      " leaky_re_lu (LeakyReLU)     (None, 32)                0         \n",
      "                                                                 \n",
      " dense_1 (Dense)             (None, 2)                 66        \n",
      "                                                                 \n",
      "=================================================================\n",
      "Total params: 102,498\n",
      "Trainable params: 102,498\n",
      "Non-trainable params: 0\n",
      "_________________________________________________________________\n"
     ]
    }
   ],
   "source": [
    "head.summary()"
   ]
  },
  {
   "cell_type": "code",
   "execution_count": 14,
   "id": "11bcc61a-0f29-45ad-86cd-5aec8c87cd81",
   "metadata": {},
   "outputs": [],
   "source": [
    "cnn_model = models.Sequential()\n",
    "cnn_model.add(cnn_backbone)\n",
    "cnn_model.add(head)"
   ]
  },
  {
   "cell_type": "code",
   "execution_count": 15,
   "id": "e26dd17c-52d7-439e-ac03-ba838ca7271e",
   "metadata": {},
   "outputs": [
    {
     "name": "stdout",
     "output_type": "stream",
     "text": [
      "Model: \"sequential_3\"\n",
      "_________________________________________________________________\n",
      " Layer (type)                Output Shape              Param #   \n",
      "=================================================================\n",
      " sequential_1 (Sequential)   (None, 3200)              138848    \n",
      "                                                                 \n",
      " sequential_2 (Sequential)   (None, 2)                 102498    \n",
      "                                                                 \n",
      "=================================================================\n",
      "Total params: 241,346\n",
      "Trainable params: 241,346\n",
      "Non-trainable params: 0\n",
      "_________________________________________________________________\n"
     ]
    }
   ],
   "source": [
    "cnn_model.summary()"
   ]
  },
  {
   "cell_type": "code",
   "execution_count": 16,
   "id": "3c333dbb-cb5d-4d98-801b-0e41343ca6b0",
   "metadata": {},
   "outputs": [],
   "source": [
    "cnn_model.compile(\n",
    "    optimizer='adam',\n",
    "    loss='mse',\n",
    "    metrics=['mse']\n",
    ")"
   ]
  },
  {
   "cell_type": "code",
   "execution_count": 17,
   "id": "3c1633e5-64e9-43a9-9c62-bb56995db659",
   "metadata": {},
   "outputs": [
    {
     "name": "stdout",
     "output_type": "stream",
     "text": [
      "WARNING:tensorflow:Keras is training/fitting/evaluating on array-like data. Keras may not be optimized for this format, so if your input data format is supported by TensorFlow I/O (https://github.com/tensorflow/io) we recommend using that to load a Dataset instead.\n",
      "Epoch 1/10\n"
     ]
    },
    {
     "name": "stderr",
     "output_type": "stream",
     "text": [
      "2022-07-25 08:26:41.188995: I tensorflow/stream_executor/cuda/cuda_dnn.cc:384] Loaded cuDNN version 8100\n"
     ]
    },
    {
     "name": "stdout",
     "output_type": "stream",
     "text": [
      "1065/1065 [==============================] - ETA: 0s - loss: 0.2842 - mse: 0.2842WARNING:tensorflow:Keras is training/fitting/evaluating on array-like data. Keras may not be optimized for this format, so if your input data format is supported by TensorFlow I/O (https://github.com/tensorflow/io) we recommend using that to load a Dataset instead.\n",
      "1065/1065 [==============================] - 53s 16ms/step - loss: 0.2842 - mse: 0.2842 - val_loss: 0.1451 - val_mse: 0.1451\n",
      "Epoch 2/10\n",
      "1065/1065 [==============================] - 16s 15ms/step - loss: 0.1579 - mse: 0.1579 - val_loss: 0.0908 - val_mse: 0.0908\n",
      "Epoch 3/10\n",
      "1065/1065 [==============================] - 16s 15ms/step - loss: 0.1143 - mse: 0.1143 - val_loss: 0.0846 - val_mse: 0.0846\n",
      "Epoch 4/10\n",
      "1065/1065 [==============================] - 16s 15ms/step - loss: 0.0879 - mse: 0.0879 - val_loss: 0.1131 - val_mse: 0.1131\n",
      "Epoch 5/10\n",
      "1065/1065 [==============================] - 16s 15ms/step - loss: 0.0702 - mse: 0.0702 - val_loss: 0.0659 - val_mse: 0.0659\n",
      "Epoch 6/10\n",
      "1065/1065 [==============================] - 17s 16ms/step - loss: 0.0584 - mse: 0.0584 - val_loss: 0.0614 - val_mse: 0.0614\n",
      "Epoch 7/10\n",
      "1065/1065 [==============================] - 17s 16ms/step - loss: 0.0476 - mse: 0.0476 - val_loss: 0.0566 - val_mse: 0.0566\n",
      "Epoch 8/10\n",
      "1065/1065 [==============================] - 17s 16ms/step - loss: 0.0395 - mse: 0.0395 - val_loss: 0.0718 - val_mse: 0.0718\n",
      "Epoch 9/10\n",
      "1065/1065 [==============================] - 17s 16ms/step - loss: 0.0413 - mse: 0.0413 - val_loss: 0.0649 - val_mse: 0.0649\n",
      "Epoch 10/10\n",
      "1065/1065 [==============================] - 17s 16ms/step - loss: 0.0362 - mse: 0.0362 - val_loss: 0.0461 - val_mse: 0.0461\n"
     ]
    }
   ],
   "source": [
    "cnn_hist = cnn_model.fit(x=input_train_norm, y=output_train_norm, epochs=10, validation_data=(input_val_norm, output_val_norm))"
   ]
  },
  {
   "cell_type": "code",
   "execution_count": 18,
   "id": "f2c0d2d4-5efd-4564-bf4f-f0b1add0bc1c",
   "metadata": {},
   "outputs": [
    {
     "name": "stdout",
     "output_type": "stream",
     "text": [
      "WARNING:tensorflow:Keras is training/fitting/evaluating on array-like data. Keras may not be optimized for this format, so if your input data format is supported by TensorFlow I/O (https://github.com/tensorflow/io) we recommend using that to load a Dataset instead.\n",
      "1065/1065 [==============================] - 9s 8ms/step\n"
     ]
    }
   ],
   "source": [
    "cnn_latent_train = cnn_backbone.predict(input_train_norm)"
   ]
  },
  {
   "cell_type": "code",
   "execution_count": 19,
   "id": "e53367fd-571d-495f-a54e-9a6bc84b977e",
   "metadata": {},
   "outputs": [],
   "source": [
    "ricnn_backbone.compile(\n",
    "    optimizer='adam',\n",
    "    loss='mse',\n",
    "    metrics=['mse']\n",
    ")"
   ]
  },
  {
   "cell_type": "code",
   "execution_count": 20,
   "id": "8e842a53-c87b-49f5-8297-df9eb15d60d5",
   "metadata": {},
   "outputs": [
    {
     "name": "stdout",
     "output_type": "stream",
     "text": [
      "WARNING:tensorflow:Keras is training/fitting/evaluating on array-like data. Keras may not be optimized for this format, so if your input data format is supported by TensorFlow I/O (https://github.com/tensorflow/io) we recommend using that to load a Dataset instead.\n",
      "Epoch 1/10\n",
      "1065/1065 [==============================] - 81s 71ms/step - loss: 0.0084 - mse: 0.0084\n",
      "Epoch 2/10\n",
      "1065/1065 [==============================] - 76s 71ms/step - loss: 0.0061 - mse: 0.0061\n",
      "Epoch 3/10\n",
      "1065/1065 [==============================] - 76s 71ms/step - loss: 0.0055 - mse: 0.0055\n",
      "Epoch 4/10\n",
      "1065/1065 [==============================] - 74s 70ms/step - loss: 0.0051 - mse: 0.0051\n",
      "Epoch 5/10\n",
      "1065/1065 [==============================] - 74s 70ms/step - loss: 0.0049 - mse: 0.0049\n",
      "Epoch 6/10\n",
      "1065/1065 [==============================] - 76s 71ms/step - loss: 0.0047 - mse: 0.0047\n",
      "Epoch 7/10\n",
      "1065/1065 [==============================] - 74s 70ms/step - loss: 0.0046 - mse: 0.0046\n",
      "Epoch 8/10\n",
      "1065/1065 [==============================] - 76s 71ms/step - loss: 0.0045 - mse: 0.0045\n",
      "Epoch 9/10\n",
      "1065/1065 [==============================] - 75s 71ms/step - loss: 0.0044 - mse: 0.0044\n",
      "Epoch 10/10\n",
      "1065/1065 [==============================] - 76s 71ms/step - loss: 0.0043 - mse: 0.0043\n"
     ]
    }
   ],
   "source": [
    "latent_ricnn_cnn_hist = ricnn_backbone.fit(x=input_train_norm, y=cnn_latent_train, epochs=10)"
   ]
  },
  {
   "cell_type": "code",
   "execution_count": 21,
   "id": "b808ffc1-7c0a-41f0-8eb6-b369561a5ec3",
   "metadata": {},
   "outputs": [
    {
     "data": {
      "text/plain": [
       "[<matplotlib.lines.Line2D at 0x2b4526dfcbe0>]"
      ]
     },
     "execution_count": 21,
     "metadata": {},
     "output_type": "execute_result"
    },
    {
     "data": {
      "image/png": "[encoded data removed]",
      "text/plain": [
       "<Figure size 576x576 with 1 Axes>"
      ]
     },
     "metadata": {
      "needs_background": "light"
     },
     "output_type": "display_data"
    }
   ],
   "source": [
    "F, ax = plt.subplots(figsize=(8, 8))\n",
    "ax.plot(latent_ricnn_cnn_hist.history['mse'])"
   ]
  },
  {
   "cell_type": "code",
   "execution_count": 22,
   "id": "4d585a7f-0075-458b-95fb-4de7fc1599fc",
   "metadata": {},
   "outputs": [],
   "source": [
    "lricnn_model = models.Sequential()\n",
    "lricnn_model.add(ricnn_backbone)\n",
    "lricnn_model.add(head)"
   ]
  },
  {
   "cell_type": "code",
   "execution_count": 23,
   "id": "fb6db518-6841-4709-8606-426fd2683f6a",
   "metadata": {},
   "outputs": [],
   "source": [
    "lricnn_model.compile(\n",
    "    optimizer='adam',\n",
    "    loss='mse',\n",
    "    metrics=['mse']\n",
    ")"
   ]
  },
  {
   "cell_type": "code",
   "execution_count": 24,
   "id": "11d6df22-83ee-479b-8a6e-65b69cd433a5",
   "metadata": {},
   "outputs": [
    {
     "name": "stdout",
     "output_type": "stream",
     "text": [
      "Model: \"sequential_4\"\n",
      "_________________________________________________________________\n",
      " Layer (type)                Output Shape              Param #   \n",
      "=================================================================\n",
      " sequential (Sequential)     (None, 3200)              138848    \n",
      "                                                                 \n",
      " sequential_2 (Sequential)   (None, 2)                 102498    \n",
      "                                                                 \n",
      "=================================================================\n",
      "Total params: 241,346\n",
      "Trainable params: 241,346\n",
      "Non-trainable params: 0\n",
      "_________________________________________________________________\n"
     ]
    }
   ],
   "source": [
    "lricnn_model.summary()"
   ]
  },
  {
   "cell_type": "code",
   "execution_count": 25,
   "id": "4f56f0ad-bf3a-4c17-b80a-53320dd47717",
   "metadata": {},
   "outputs": [],
   "source": [
    "ricnn_model = models.Sequential()\n",
    "ricnn_model.add(GDL_layers.RotEquivConv2D(32, (3, 3), rot_axis=False, kernel_regularizer='L2', input_shape=(144, 144, 1)))\n",
    "ricnn_model.add(GDL_layers.RotEquivPool2D((2, 2)))\n",
    "ricnn_model.add(GDL_layers.RotEquivConv2D(32, (3, 3)))\n",
    "ricnn_model.add(GDL_layers.RotEquivPool2D((2, 2)))\n",
    "ricnn_model.add(GDL_layers.RotEquivConv2D(64, (3, 3)))\n",
    "ricnn_model.add(GDL_layers.RotEquivPool2D((2, 2)))\n",
    "ricnn_model.add(GDL_layers.RotEquivConv2D(64, (3, 3)))\n",
    "ricnn_model.add(GDL_layers.RotEquivPool2D((2, 2)))\n",
    "ricnn_model.add(GDL_layers.RotEquivConv2D(128, (3, 3)))\n",
    "ricnn_model.add(GDL_layers.RotInvPool())\n",
    "ricnn_model.add(layers.Flatten())\n",
    "ricnn_model.add(layers.Dense(32, activation='relu'))\n",
    "ricnn_model.add(layers.Dense(2))"
   ]
  },
  {
   "cell_type": "code",
   "execution_count": 26,
   "id": "5875404d-3a75-443f-b10b-ba5f1457232c",
   "metadata": {},
   "outputs": [
    {
     "name": "stdout",
     "output_type": "stream",
     "text": [
      "Model: \"sequential_5\"\n",
      "_________________________________________________________________\n",
      " Layer (type)                Output Shape              Param #   \n",
      "=================================================================\n",
      " rot_equiv_conv2d_5 (RotEqui  (None, 142, 142, 4, 32)  320       \n",
      " vConv2D)                                                        \n",
      "                                                                 \n",
      " rot_equiv_pool2d_4 (RotEqui  (None, 71, 71, 4, 32)    0         \n",
      " vPool2D)                                                        \n",
      "                                                                 \n",
      " rot_equiv_conv2d_6 (RotEqui  (None, 69, 69, 4, 32)    9248      \n",
      " vConv2D)                                                        \n",
      "                                                                 \n",
      " rot_equiv_pool2d_5 (RotEqui  (None, 34, 34, 4, 32)    0         \n",
      " vPool2D)                                                        \n",
      "                                                                 \n",
      " rot_equiv_conv2d_7 (RotEqui  (None, 32, 32, 4, 64)    18496     \n",
      " vConv2D)                                                        \n",
      "                                                                 \n",
      " rot_equiv_pool2d_6 (RotEqui  (None, 16, 16, 4, 64)    0         \n",
      " vPool2D)                                                        \n",
      "                                                                 \n",
      " rot_equiv_conv2d_8 (RotEqui  (None, 14, 14, 4, 64)    36928     \n",
      " vConv2D)                                                        \n",
      "                                                                 \n",
      " rot_equiv_pool2d_7 (RotEqui  (None, 7, 7, 4, 64)      0         \n",
      " vPool2D)                                                        \n",
      "                                                                 \n",
      " rot_equiv_conv2d_9 (RotEqui  (None, 5, 5, 4, 128)     73856     \n",
      " vConv2D)                                                        \n",
      "                                                                 \n",
      " rot_inv_pool_1 (RotInvPool)  (None, 5, 5, 128)        0         \n",
      "                                                                 \n",
      " flatten_2 (Flatten)         (None, 3200)              0         \n",
      "                                                                 \n",
      " dense_2 (Dense)             (None, 32)                102432    \n",
      "                                                                 \n",
      " dense_3 (Dense)             (None, 2)                 66        \n",
      "                                                                 \n",
      "=================================================================\n",
      "Total params: 241,346\n",
      "Trainable params: 241,346\n",
      "Non-trainable params: 0\n",
      "_________________________________________________________________\n"
     ]
    }
   ],
   "source": [
    "ricnn_model.summary()"
   ]
  },
  {
   "cell_type": "code",
   "execution_count": 27,
   "id": "420f69d0-02c6-4404-8491-bd131ba460a8",
   "metadata": {},
   "outputs": [],
   "source": [
    "ricnn_model.compile(\n",
    "    optimizer='nadam',\n",
    "    loss='mse',\n",
    "    metrics=['mse']\n",
    ")"
   ]
  },
  {
   "cell_type": "code",
   "execution_count": 28,
   "id": "22aa7a7a-4a8f-4a85-8f82-06e4e9319726",
   "metadata": {},
   "outputs": [
    {
     "name": "stdout",
     "output_type": "stream",
     "text": [
      "WARNING:tensorflow:Keras is training/fitting/evaluating on array-like data. Keras may not be optimized for this format, so if your input data format is supported by TensorFlow I/O (https://github.com/tensorflow/io) we recommend using that to load a Dataset instead.\n",
      "Epoch 1/10\n",
      "1064/1065 [============================>.] - ETA: 0s - loss: 0.3328 - mse: 0.3159WARNING:tensorflow:Keras is training/fitting/evaluating on array-like data. Keras may not be optimized for this format, so if your input data format is supported by TensorFlow I/O (https://github.com/tensorflow/io) we recommend using that to load a Dataset instead.\n",
      "1065/1065 [==============================] - 83s 73ms/step - loss: 0.3327 - mse: 0.3157 - val_loss: 0.1234 - val_mse: 0.1086\n",
      "Epoch 2/10\n",
      "1065/1065 [==============================] - 76s 72ms/step - loss: 0.1231 - mse: 0.1104 - val_loss: 0.0796 - val_mse: 0.0689\n",
      "Epoch 3/10\n",
      "1065/1065 [==============================] - 76s 71ms/step - loss: 0.0813 - mse: 0.0720 - val_loss: 0.0547 - val_mse: 0.0466\n",
      "Epoch 4/10\n",
      "1065/1065 [==============================] - 77s 72ms/step - loss: 0.0610 - mse: 0.0540 - val_loss: 0.0524 - val_mse: 0.0461\n",
      "Epoch 5/10\n",
      "1065/1065 [==============================] - 76s 71ms/step - loss: 0.0465 - mse: 0.0411 - val_loss: 0.0484 - val_mse: 0.0436\n",
      "Epoch 6/10\n",
      "1065/1065 [==============================] - 76s 71ms/step - loss: 0.0392 - mse: 0.0350 - val_loss: 0.0443 - val_mse: 0.0406\n",
      "Epoch 7/10\n",
      "1065/1065 [==============================] - 76s 72ms/step - loss: 0.0542 - mse: 0.0505 - val_loss: 0.0409 - val_mse: 0.0376\n",
      "Epoch 8/10\n",
      "1065/1065 [==============================] - 76s 71ms/step - loss: 0.0311 - mse: 0.0281 - val_loss: 0.0407 - val_mse: 0.0380\n",
      "Epoch 9/10\n",
      "1065/1065 [==============================] - 76s 71ms/step - loss: 0.0617 - mse: 0.0586 - val_loss: 0.0562 - val_mse: 0.0533\n",
      "Epoch 10/10\n",
      "1065/1065 [==============================] - 76s 71ms/step - loss: 0.0304 - mse: 0.0278 - val_loss: 0.0528 - val_mse: 0.0506\n"
     ]
    }
   ],
   "source": [
    "ricnn_history = ricnn_model.fit(x=input_train_norm, y=output_train_norm, epochs=10, validation_data=(input_val_norm, output_val_norm))"
   ]
  },
  {
   "cell_type": "code",
   "execution_count": 29,
   "id": "bafe0b6b-989d-4f90-894c-19c51553a8a1",
   "metadata": {},
   "outputs": [
    {
     "name": "stdout",
     "output_type": "stream",
     "text": [
      "WARNING:tensorflow:Keras is training/fitting/evaluating on array-like data. Keras may not be optimized for this format, so if your input data format is supported by TensorFlow I/O (https://github.com/tensorflow/io) we recommend using that to load a Dataset instead.\n",
      "406/406 [==============================] - 4s 10ms/step - loss: 0.0638 - mse: 0.0638\n",
      "WARNING:tensorflow:Keras is training/fitting/evaluating on array-like data. Keras may not be optimized for this format, so if your input data format is supported by TensorFlow I/O (https://github.com/tensorflow/io) we recommend using that to load a Dataset instead.\n",
      "406/406 [==============================] - 12s 27ms/step - loss: 0.1057 - mse: 0.1057\n",
      "WARNING:tensorflow:Keras is training/fitting/evaluating on array-like data. Keras may not be optimized for this format, so if your input data format is supported by TensorFlow I/O (https://github.com/tensorflow/io) we recommend using that to load a Dataset instead.\n",
      "406/406 [==============================] - 11s 27ms/step - loss: 0.0644 - mse: 0.0622\n"
     ]
    },
    {
     "data": {
      "text/plain": [
       "[0.06439657509326935, 0.06221342831850052]"
      ]
     },
     "execution_count": 29,
     "metadata": {},
     "output_type": "execute_result"
    }
   ],
   "source": [
    "cnn_model.evaluate(input_test_norm, output_test_norm)\n",
    "lricnn_model.evaluate(input_test_norm, output_test_norm)\n",
    "ricnn_model.evaluate(input_test_norm, output_test_norm)"
   ]
  },
  {
   "cell_type": "code",
   "execution_count": null,
   "id": "79680b28-b6e5-4166-90f3-72c17f637e7b",
   "metadata": {},
   "outputs": [],
   "source": []
  }
 ],
 "metadata": {
  "kernelspec": {
   "display_name": "Python [conda env:.conda-storm-mode]",
   "language": "python",
   "name": "conda-env-.conda-storm-mode-py"
  },
  "language_info": {
   "codemirror_mode": {
    "name": "ipython",
    "version": 3
   },
   "file_extension": ".py",
   "mimetype": "text/x-python",
   "name": "python",
   "nbconvert_exporter": "python",
   "pygments_lexer": "ipython3",
   "version": "3.10.4"
  }
 },
 "nbformat": 4,
 "nbformat_minor": 5
}
