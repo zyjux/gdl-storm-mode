{
 "cells": [
  {
   "cell_type": "code",
   "execution_count": 1,
   "id": "eeb1dcaf-6fcc-47d7-9eda-b959d28a461f",
   "metadata": {},
   "outputs": [],
   "source": [
    "import numpy as np\n",
    "import xarray as xr\n",
    "from matplotlib import pyplot as plt\n",
    "import scipy.ndimage as nd"
   ]
  },
  {
   "cell_type": "code",
   "execution_count": 2,
   "id": "3adc1103-403f-48c5-b0c6-c1fcc9c0470c",
   "metadata": {},
   "outputs": [],
   "source": [
    "# Set up random number generator and axes\n",
    "rng = np.random.default_rng()\n",
    "x = np.arange(0, 128)\n",
    "y = np.arange(0, 128)[:, None]"
   ]
  },
  {
   "cell_type": "code",
   "execution_count": 3,
   "id": "8bcf57c2-7155-4183-91db-433fcd8d8bff",
   "metadata": {},
   "outputs": [],
   "source": [
    "# Generate training data\n",
    "samples = []\n",
    "for i in range(10000):\n",
    "    maj_len = rng.uniform(10.0, 40.0)\n",
    "    min_len = rng.uniform(1.0, maj_len/1.5)\n",
    "    ang = rng.uniform(0, np.pi)\n",
    "    (x0, y0) = rng.uniform(20.0, 108, 2)\n",
    "    ellipse = (\n",
    "        (((x - x0)*np.cos(ang) + (y - y0)*np.sin(ang)) / (maj_len/2))**2\n",
    "        + (((x - x0)*np.sin(ang) - (y - y0)*np.cos(ang)) / (min_len/2))**2\n",
    "        <= 1\n",
    "    )\n",
    "    ellipse = xr.DataArray(\n",
    "        np.exp(-0.1*nd.distance_transform_edt(1 - ellipse)),\n",
    "        dims=(\"x\", \"y\"),\n",
    "        coords={\"x\": x, \"y\": x}\n",
    "    )\n",
    "    sample = xr.Dataset(\n",
    "        {\n",
    "            \"ellipse\": ellipse,\n",
    "            \"maj_len\": maj_len,\n",
    "            \"min_len\": min_len,\n",
    "            \"angle\": ang,\n",
    "            \"center_x\": x0,\n",
    "            \"center_y\": y0,\n",
    "        }\n",
    "    )\n",
    "    samples.append(sample)\n",
    "training_samples = xr.concat(samples, dim='p')\n",
    "training_samples.to_netcdf(\"/glade/scratch/lverhoef/gdl_toy_ds/train_data.nc\")\n",
    "del training_samples"
   ]
  },
  {
   "cell_type": "code",
   "execution_count": 4,
   "id": "45ef1c36-01c1-488f-b63a-4d7c544bedf0",
   "metadata": {},
   "outputs": [],
   "source": [
    "# Generate validation data\n",
    "samples = []\n",
    "for i in range(10000):\n",
    "    maj_len = rng.uniform(10.0, 40.0)\n",
    "    min_len = rng.uniform(1.0, maj_len/1.5)\n",
    "    ang = rng.uniform(0, np.pi)\n",
    "    (x0, y0) = rng.uniform(20.0, 80.0, 2)\n",
    "    ellipse = (\n",
    "        (((x - x0)*np.cos(ang) + (y - y0)*np.sin(ang)) / (maj_len/2))**2\n",
    "        + (((x - x0)*np.sin(ang) - (y - y0)*np.cos(ang)) / (min_len/2))**2\n",
    "        <= 1\n",
    "    )\n",
    "    ellipse = xr.DataArray(\n",
    "        np.exp(-0.1*nd.distance_transform_edt(1 - ellipse)),\n",
    "        dims=(\"x\", \"y\"),\n",
    "        coords={\"x\": x, \"y\": x}\n",
    "    )\n",
    "    sample = xr.Dataset(\n",
    "        {\n",
    "            \"ellipse\": ellipse,\n",
    "            \"maj_len\": maj_len,\n",
    "            \"min_len\": min_len,\n",
    "            \"angle\": ang,\n",
    "            \"center_x\": x0,\n",
    "            \"center_y\": y0,\n",
    "        }\n",
    "    )\n",
    "    samples.append(sample)\n",
    "validation_samples = xr.concat(samples, dim='p')\n",
    "validation_samples.to_netcdf(\"/glade/scratch/lverhoef/gdl_toy_ds/validation_data.nc\")\n",
    "del validation_samples"
   ]
  },
  {
   "cell_type": "code",
   "execution_count": null,
   "id": "b9421d57-08c7-41de-b24b-f2bedea01478",
   "metadata": {},
   "outputs": [],
   "source": [
    "# Generate test data\n",
    "samples = []\n",
    "for i in range(10000):\n",
    "    maj_len = rng.uniform(10.0, 40.0)\n",
    "    min_len = rng.uniform(1.0, maj_len/1.5)\n",
    "    ang = rng.uniform(0, np.pi)\n",
    "    (x0, y0) = rng.uniform(20.0, 80.0, 2)\n",
    "    ellipse = (\n",
    "        (((x - x0)*np.cos(ang) + (y - y0)*np.sin(ang)) / (maj_len/2))**2\n",
    "        + (((x - x0)*np.sin(ang) - (y - y0)*np.cos(ang)) / (min_len/2))**2\n",
    "        <= 1\n",
    "    )\n",
    "    ellipse = xr.DataArray(\n",
    "        np.exp(-0.1*nd.distance_transform_edt(1 - ellipse)),\n",
    "        dims=(\"x\", \"y\"),\n",
    "        coords={\"x\": x, \"y\": x}\n",
    "    )\n",
    "    sample = xr.Dataset(\n",
    "        {\n",
    "            \"ellipse\": ellipse,\n",
    "            \"maj_len\": maj_len,\n",
    "            \"min_len\": min_len,\n",
    "            \"angle\": ang,\n",
    "            \"center_x\": x0,\n",
    "            \"center_y\": y0,\n",
    "        }\n",
    "    )\n",
    "    samples.append(sample)\n",
    "test_samples = xr.concat(samples, dim='p')\n",
    "test_samples.to_netcdf(\"/glade/scratch/lverhoef/gdl_toy_ds/test_data.nc\")\n",
    "del test_samples"
   ]
  },
  {
   "cell_type": "code",
   "execution_count": null,
   "id": "c5dd7a94-bbdd-4d95-b64c-a2b41ee205f0",
   "metadata": {},
   "outputs": [],
   "source": []
  }
 ],
 "metadata": {
  "kernelspec": {
   "display_name": "Python [conda env:.conda-storm-mode]",
   "language": "python",
   "name": "conda-env-.conda-storm-mode-py"
  },
  "language_info": {
   "codemirror_mode": {
    "name": "ipython",
    "version": 3
   },
   "file_extension": ".py",
   "mimetype": "text/x-python",
   "name": "python",
   "nbconvert_exporter": "python",
   "pygments_lexer": "ipython3",
   "version": "3.10.4"
  }
 },
 "nbformat": 4,
 "nbformat_minor": 5
}
