{
 "cells": [
  {
   "cell_type": "code",
   "execution_count": 1,
   "id": "9141f6e8-8cf6-4451-8d45-6ab68793f22c",
   "metadata": {},
   "outputs": [
    {
     "name": "stderr",
     "output_type": "stream",
     "text": [
      "2022-06-02 15:46:57.798171: I tensorflow/core/util/util.cc:169] oneDNN custom operations are on. You may see slightly different numerical results due to floating-point round-off errors from different computation orders. To turn them off, set the environment variable `TF_ENABLE_ONEDNN_OPTS=0`.\n"
     ]
    }
   ],
   "source": [
    "import tensorflow as tf\n",
    "from tensorflow.keras import layers, models\n",
    "import xarray as xr"
   ]
  },
  {
   "cell_type": "code",
   "execution_count": 3,
   "id": "e0c864ad-3dd6-4f55-b7c6-1320941ddda3",
   "metadata": {},
   "outputs": [],
   "source": [
    "train_ds = xr.open_dataset(\"/glade/scratch/lverhoef/gdl_toy_ds/train_data.nc\")\n",
    "validation_ds = xr.open_dataset(\"/glade/scratch/lverhoef/gdl_toy_ds/validation_data.nc\")"
   ]
  },
  {
   "cell_type": "code",
   "execution_count": null,
   "id": "be124153-c9ca-4feb-b14a-b8332f95325e",
   "metadata": {},
   "outputs": [],
   "source": []
  }
 ],
 "metadata": {
  "kernelspec": {
   "display_name": "Python [conda env:.conda-storm-mode]",
   "language": "python",
   "name": "conda-env-.conda-storm-mode-py"
  },
  "language_info": {
   "codemirror_mode": {
    "name": "ipython",
    "version": 3
   },
   "file_extension": ".py",
   "mimetype": "text/x-python",
   "name": "python",
   "nbconvert_exporter": "python",
   "pygments_lexer": "ipython3",
   "version": "3.10.4"
  }
 },
 "nbformat": 4,
 "nbformat_minor": 5
}
