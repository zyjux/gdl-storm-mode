{
 "cells": [
  {
   "cell_type": "code",
   "execution_count": 1,
   "id": "9141f6e8-8cf6-4451-8d45-6ab68793f22c",
   "metadata": {},
   "outputs": [],
   "source": [
    "import tensorflow as tf\n",
    "from tensorflow.keras import layers, models\n",
    "import xarray as xr"
   ]
  },
  {
   "cell_type": "code",
   "execution_count": 2,
   "id": "e0c864ad-3dd6-4f55-b7c6-1320941ddda3",
   "metadata": {},
   "outputs": [],
   "source": [
    "# Load data\n",
    "train_ds = xr.open_dataset(\"/glade/scratch/lverhoef/gdl_toy_ds/train_data.nc\")\n",
    "validation_ds = xr.open_dataset(\"/glade/scratch/lverhoef/gdl_toy_ds/validation_data.nc\").isel(p=slice(0, 1000))"
   ]
  },
  {
   "cell_type": "code",
   "execution_count": 3,
   "id": "aa5e4d63-200c-488e-8926-b567490f6c79",
   "metadata": {},
   "outputs": [
    {
     "name": "stderr",
     "output_type": "stream",
     "text": [
      "2022-06-09 12:55:22.638136: I tensorflow/core/platform/cpu_feature_guard.cc:193] This TensorFlow binary is optimized with oneAPI Deep Neural Network Library (oneDNN) to use the following CPU instructions in performance-critical operations:  AVX2 AVX512F FMA\n",
      "To enable them in other operations, rebuild TensorFlow with the appropriate compiler flags.\n",
      "2022-06-09 12:55:23.229402: I tensorflow/core/common_runtime/gpu/gpu_device.cc:1532] Created device /job:localhost/replica:0/task:0/device:GPU:0 with 30988 MB memory:  -> device: 0, name: Tesla V100-SXM2-32GB, pci bus id: 0000:89:00.0, compute capability: 7.0\n"
     ]
    }
   ],
   "source": [
    "X_train = tf.expand_dims(tf.convert_to_tensor(train_ds['ellipse']), axis=-1)\n",
    "Y_train = tf.convert_to_tensor(train_ds[['maj_len', 'min_len']].to_array().transpose())"
   ]
  },
  {
   "cell_type": "code",
   "execution_count": 4,
   "id": "3754e013-2cc1-42fc-9b1a-11a10363e896",
   "metadata": {},
   "outputs": [],
   "source": [
    "X_val = tf.expand_dims(tf.convert_to_tensor(validation_ds['ellipse']), axis=-1)\n",
    "Y_val = tf.convert_to_tensor(validation_ds[['maj_len', 'min_len']].to_array().transpose())"
   ]
  },
  {
   "cell_type": "code",
   "execution_count": 5,
   "id": "be124153-c9ca-4feb-b14a-b8332f95325e",
   "metadata": {},
   "outputs": [],
   "source": [
    "model = models.Sequential()\n",
    "model.add(layers.Conv2D(32, (3, 3), activation='relu', input_shape=(128, 128, 1)))\n",
    "model.add(layers.MaxPooling2D((2, 2)))\n",
    "model.add(layers.Conv2D(32, (3, 3), activation='relu'))\n",
    "model.add(layers.MaxPooling2D((2, 2)))\n",
    "model.add(layers.Conv2D(64, (3, 3), activation='relu'))\n",
    "model.add(layers.MaxPooling2D((2, 2)))\n",
    "model.add(layers.Conv2D(64, (3, 3), activation='relu'))\n",
    "model.add(layers.MaxPooling2D((2, 2)))\n",
    "model.add(layers.Conv2D(128, (3, 3), activation='relu'))\n",
    "model.add(layers.Flatten())\n",
    "model.add(layers.Dense(32, activation='relu'))\n",
    "model.add(layers.Dense(2))"
   ]
  },
  {
   "cell_type": "code",
   "execution_count": 6,
   "id": "59f06582-57f0-4207-a5cc-0f1ead762c7e",
   "metadata": {},
   "outputs": [],
   "source": [
    "model.compile(\n",
    "    optimizer='adam',\n",
    "    loss='mse',\n",
    "    metrics=['mse']\n",
    ")"
   ]
  },
  {
   "cell_type": "code",
   "execution_count": 7,
   "id": "32544db1-7251-4956-8215-5b7990753669",
   "metadata": {},
   "outputs": [
    {
     "name": "stdout",
     "output_type": "stream",
     "text": [
      "Model: \"sequential\"\n",
      "_________________________________________________________________\n",
      " Layer (type)                Output Shape              Param #   \n",
      "=================================================================\n",
      " conv2d (Conv2D)             (None, 126, 126, 32)      320       \n",
      "                                                                 \n",
      " max_pooling2d (MaxPooling2D  (None, 63, 63, 32)       0         \n",
      " )                                                               \n",
      "                                                                 \n",
      " conv2d_1 (Conv2D)           (None, 61, 61, 32)        9248      \n",
      "                                                                 \n",
      " max_pooling2d_1 (MaxPooling  (None, 30, 30, 32)       0         \n",
      " 2D)                                                             \n",
      "                                                                 \n",
      " conv2d_2 (Conv2D)           (None, 28, 28, 64)        18496     \n",
      "                                                                 \n",
      " max_pooling2d_2 (MaxPooling  (None, 14, 14, 64)       0         \n",
      " 2D)                                                             \n",
      "                                                                 \n",
      " conv2d_3 (Conv2D)           (None, 12, 12, 64)        36928     \n",
      "                                                                 \n",
      " max_pooling2d_3 (MaxPooling  (None, 6, 6, 64)         0         \n",
      " 2D)                                                             \n",
      "                                                                 \n",
      " conv2d_4 (Conv2D)           (None, 4, 4, 128)         73856     \n",
      "                                                                 \n",
      " flatten (Flatten)           (None, 2048)              0         \n",
      "                                                                 \n",
      " dense (Dense)               (None, 32)                65568     \n",
      "                                                                 \n",
      " dense_1 (Dense)             (None, 2)                 66        \n",
      "                                                                 \n",
      "=================================================================\n",
      "Total params: 204,482\n",
      "Trainable params: 204,482\n",
      "Non-trainable params: 0\n",
      "_________________________________________________________________\n"
     ]
    }
   ],
   "source": [
    "model.summary()"
   ]
  },
  {
   "cell_type": "code",
   "execution_count": 8,
   "id": "306f808c-c5af-4899-b4dd-ed8b6f909393",
   "metadata": {},
   "outputs": [
    {
     "name": "stdout",
     "output_type": "stream",
     "text": [
      "Epoch 1/10\n"
     ]
    },
    {
     "name": "stderr",
     "output_type": "stream",
     "text": [
      "2022-06-09 12:56:01.845446: I tensorflow/stream_executor/cuda/cuda_dnn.cc:384] Loaded cuDNN version 8100\n"
     ]
    },
    {
     "name": "stdout",
     "output_type": "stream",
     "text": [
      "313/313 [==============================] - 6s 10ms/step - loss: 41.1478 - mse: 41.1478 - val_loss: 19.8717 - val_mse: 19.8717\n",
      "Epoch 2/10\n",
      "313/313 [==============================] - 3s 9ms/step - loss: 20.4932 - mse: 20.4932 - val_loss: 15.8649 - val_mse: 15.8649\n",
      "Epoch 3/10\n",
      "313/313 [==============================] - 3s 9ms/step - loss: 15.9344 - mse: 15.9344 - val_loss: 17.1673 - val_mse: 17.1673\n",
      "Epoch 4/10\n",
      "313/313 [==============================] - 3s 9ms/step - loss: 15.0823 - mse: 15.0823 - val_loss: 13.4524 - val_mse: 13.4524\n",
      "Epoch 5/10\n",
      "313/313 [==============================] - 3s 9ms/step - loss: 13.5303 - mse: 13.5303 - val_loss: 11.6856 - val_mse: 11.6856\n",
      "Epoch 6/10\n",
      "313/313 [==============================] - 3s 9ms/step - loss: 10.1014 - mse: 10.1014 - val_loss: 6.1743 - val_mse: 6.1743\n",
      "Epoch 7/10\n",
      "313/313 [==============================] - 3s 9ms/step - loss: 5.1048 - mse: 5.1048 - val_loss: 5.1294 - val_mse: 5.1294\n",
      "Epoch 8/10\n",
      "313/313 [==============================] - 3s 9ms/step - loss: 3.1062 - mse: 3.1062 - val_loss: 5.5113 - val_mse: 5.5113\n",
      "Epoch 9/10\n",
      "313/313 [==============================] - 3s 9ms/step - loss: 2.1063 - mse: 2.1063 - val_loss: 2.7570 - val_mse: 2.7570\n",
      "Epoch 10/10\n",
      "313/313 [==============================] - 3s 9ms/step - loss: 1.7220 - mse: 1.7220 - val_loss: 1.1824 - val_mse: 1.1824\n"
     ]
    }
   ],
   "source": [
    "history = model.fit(\n",
    "    x=X_train, y=Y_train,\n",
    "    epochs=10, validation_data=(X_val, Y_val),\n",
    "    shuffle=True\n",
    ")"
   ]
  },
  {
   "cell_type": "code",
   "execution_count": 9,
   "id": "2cd945a3-9190-4574-90d8-d73a6306f09c",
   "metadata": {},
   "outputs": [
    {
     "name": "stdout",
     "output_type": "stream",
     "text": [
      "1/1 [==============================] - 0s 148ms/step\n"
     ]
    },
    {
     "data": {
      "text/plain": [
       "array([[29.513882 , 16.94258  ],\n",
       "       [35.19102  , 17.176388 ],\n",
       "       [37.613842 ,  7.7946606],\n",
       "       [28.239143 , 13.750446 ],\n",
       "       [24.119587 ,  4.4526515],\n",
       "       [27.158287 ,  8.700836 ],\n",
       "       [11.865602 ,  3.6364121],\n",
       "       [26.792904 ,  3.041811 ],\n",
       "       [24.937141 ,  6.723087 ],\n",
       "       [36.347233 ,  0.9402595]], dtype=float32)"
      ]
     },
     "execution_count": 9,
     "metadata": {},
     "output_type": "execute_result"
    }
   ],
   "source": [
    "model.predict(X_val[0:10, :, :, :])"
   ]
  },
  {
   "cell_type": "code",
   "execution_count": null,
   "id": "54266c83-8837-4289-b535-7ff58d7c8650",
   "metadata": {},
   "outputs": [],
   "source": []
  }
 ],
 "metadata": {
  "kernelspec": {
   "display_name": "Python [conda env:.conda-storm-mode]",
   "language": "python",
   "name": "conda-env-.conda-storm-mode-py"
  },
  "language_info": {
   "codemirror_mode": {
    "name": "ipython",
    "version": 3
   },
   "file_extension": ".py",
   "mimetype": "text/x-python",
   "name": "python",
   "nbconvert_exporter": "python",
   "pygments_lexer": "ipython3",
   "version": "3.10.4"
  }
 },
 "nbformat": 4,
 "nbformat_minor": 5
}
