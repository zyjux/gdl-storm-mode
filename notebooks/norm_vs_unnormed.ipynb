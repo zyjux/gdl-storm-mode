{
 "cells": [
  {
   "cell_type": "markdown",
   "id": "d43c4074-9d40-4773-bb9e-5b82768901bb",
   "metadata": {
    "tags": []
   },
   "source": [
    "## Imports"
   ]
  },
  {
   "cell_type": "code",
   "execution_count": 1,
   "id": "0742df0e-83c8-48e9-aaf5-39566a8df26d",
   "metadata": {},
   "outputs": [
    {
     "name": "stderr",
     "output_type": "stream",
     "text": [
      "2022-08-08 16:47:05.239068: I tensorflow/core/util/util.cc:169] oneDNN custom operations are on. You may see slightly different numerical results due to floating-point round-off errors from different computation orders. To turn them off, set the environment variable `TF_ENABLE_ONEDNN_OPTS=0`.\n"
     ]
    }
   ],
   "source": [
    "import tensorflow as tf\n",
    "from glob import glob\n",
    "from os.path import join\n",
    "from tensorflow.keras import layers, models\n",
    "import xarray as xr\n",
    "import pandas as pd\n",
    "import numpy as np\n",
    "import matplotlib.pyplot as plt\n",
    "import imports.GDL_layers as GDL_layers"
   ]
  },
  {
   "cell_type": "markdown",
   "id": "13598ba8-c4a2-42c4-b264-ed58f86b7aa0",
   "metadata": {
    "tags": []
   },
   "source": [
    "## Load data"
   ]
  },
  {
   "cell_type": "code",
   "execution_count": 2,
   "id": "7afe3aee-14b2-40f7-9158-efd870d91ad2",
   "metadata": {},
   "outputs": [],
   "source": [
    "# Find a list of all the datafiles\n",
    "patch_path = \"/glade/scratch/lverhoef/WRF_all/track_data_hrrr_3km_nc_refl/\"\n",
    "patch_files = sorted(glob(join(patch_path, \"*.nc\")))\n",
    "patch_ds = xr.open_dataset(patch_files[0])\n",
    "csv_path = \"/glade/scratch/lverhoef/WRF_all/track_data_hrrr_3km_csv_refl/\"\n",
    "csv_files = sorted(glob(join(csv_path, \"track_step_*.csv\")))\n",
    "meta_ds = pd.read_csv(csv_files[0])"
   ]
  },
  {
   "cell_type": "code",
   "execution_count": 3,
   "id": "92f91904-785f-4e1e-8d82-ba1c2d54a973",
   "metadata": {},
   "outputs": [
    {
     "data": {
      "text/html": [
       "<div><svg style=\"position: absolute; width: 0; height: 0; overflow: hidden\">\n",
       "<defs>\n",
       "<symbol id=\"icon-database\" viewBox=\"0 0 32 32\">\n",
       "<path d=\"M16 0c-8.837 0-16 2.239-16 5v4c0 2.761 7.163 5 16 5s16-2.239 16-5v-4c0-2.761-7.163-5-16-5z\"></path>\n",
       "<path d=\"M16 17c-8.837 0-16-2.239-16-5v6c0 2.761 7.163 5 16 5s16-2.239 16-5v-6c0 2.761-7.163 5-16 5z\"></path>\n",
       "<path d=\"M16 26c-8.837 0-16-2.239-16-5v6c0 2.761 7.163 5 16 5s16-2.239 16-5v-6c0 2.761-7.163 5-16 5z\"></path>\n",
       "</symbol>\n",
       "<symbol id=\"icon-file-text2\" viewBox=\"0 0 32 32\">\n",
       "<path d=\"M28.681 7.159c-0.694-0.947-1.662-2.053-2.724-3.116s-2.169-2.030-3.116-2.724c-1.612-1.182-2.393-1.319-2.841-1.319h-15.5c-1.378 0-2.5 1.121-2.5 2.5v27c0 1.378 1.122 2.5 2.5 2.5h23c1.378 0 2.5-1.122 2.5-2.5v-19.5c0-0.448-0.137-1.23-1.319-2.841zM24.543 5.457c0.959 0.959 1.712 1.825 2.268 2.543h-4.811v-4.811c0.718 0.556 1.584 1.309 2.543 2.268zM28 29.5c0 0.271-0.229 0.5-0.5 0.5h-23c-0.271 0-0.5-0.229-0.5-0.5v-27c0-0.271 0.229-0.5 0.5-0.5 0 0 15.499-0 15.5 0v7c0 0.552 0.448 1 1 1h7v19.5z\"></path>\n",
       "<path d=\"M23 26h-14c-0.552 0-1-0.448-1-1s0.448-1 1-1h14c0.552 0 1 0.448 1 1s-0.448 1-1 1z\"></path>\n",
       "<path d=\"M23 22h-14c-0.552 0-1-0.448-1-1s0.448-1 1-1h14c0.552 0 1 0.448 1 1s-0.448 1-1 1z\"></path>\n",
       "<path d=\"M23 18h-14c-0.552 0-1-0.448-1-1s0.448-1 1-1h14c0.552 0 1 0.448 1 1s-0.448 1-1 1z\"></path>\n",
       "</symbol>\n",
       "</defs>\n",
       "</svg>\n",
       "<style>/* CSS stylesheet for displaying xarray objects in jupyterlab.\n",
       " *\n",
       " */\n",
       "\n",
       ":root {\n",
       "  --xr-font-color0: var(--jp-content-font-color0, rgba(0, 0, 0, 1));\n",
       "  --xr-font-color2: var(--jp-content-font-color2, rgba(0, 0, 0, 0.54));\n",
       "  --xr-font-color3: var(--jp-content-font-color3, rgba(0, 0, 0, 0.38));\n",
       "  --xr-border-color: var(--jp-border-color2, #e0e0e0);\n",
       "  --xr-disabled-color: var(--jp-layout-color3, #bdbdbd);\n",
       "  --xr-background-color: var(--jp-layout-color0, white);\n",
       "  --xr-background-color-row-even: var(--jp-layout-color1, white);\n",
       "  --xr-background-color-row-odd: var(--jp-layout-color2, #eeeeee);\n",
       "}\n",
       "\n",
       "html[theme=dark],\n",
       "body.vscode-dark {\n",
       "  --xr-font-color0: rgba(255, 255, 255, 1);\n",
       "  --xr-font-color2: rgba(255, 255, 255, 0.54);\n",
       "  --xr-font-color3: rgba(255, 255, 255, 0.38);\n",
       "  --xr-border-color: #1F1F1F;\n",
       "  --xr-disabled-color: #515151;\n",
       "  --xr-background-color: #111111;\n",
       "  --xr-background-color-row-even: #111111;\n",
       "  --xr-background-color-row-odd: #313131;\n",
       "}\n",
       "\n",
       ".xr-wrap {\n",
       "  display: block;\n",
       "  min-width: 300px;\n",
       "  max-width: 700px;\n",
       "}\n",
       "\n",
       ".xr-text-repr-fallback {\n",
       "  /* fallback to plain text repr when CSS is not injected (untrusted notebook) */\n",
       "  display: none;\n",
       "}\n",
       "\n",
       ".xr-header {\n",
       "  padding-top: 6px;\n",
       "  padding-bottom: 6px;\n",
       "  margin-bottom: 4px;\n",
       "  border-bottom: solid 1px var(--xr-border-color);\n",
       "}\n",
       "\n",
       ".xr-header > div,\n",
       ".xr-header > ul {\n",
       "  display: inline;\n",
       "  margin-top: 0;\n",
       "  margin-bottom: 0;\n",
       "}\n",
       "\n",
       ".xr-obj-type,\n",
       ".xr-array-name {\n",
       "  margin-left: 2px;\n",
       "  margin-right: 10px;\n",
       "}\n",
       "\n",
       ".xr-obj-type {\n",
       "  color: var(--xr-font-color2);\n",
       "}\n",
       "\n",
       ".xr-sections {\n",
       "  padding-left: 0 !important;\n",
       "  display: grid;\n",
       "  grid-template-columns: 150px auto auto 1fr 20px 20px;\n",
       "}\n",
       "\n",
       ".xr-section-item {\n",
       "  display: contents;\n",
       "}\n",
       "\n",
       ".xr-section-item input {\n",
       "  display: none;\n",
       "}\n",
       "\n",
       ".xr-section-item input + label {\n",
       "  color: var(--xr-disabled-color);\n",
       "}\n",
       "\n",
       ".xr-section-item input:enabled + label {\n",
       "  cursor: pointer;\n",
       "  color: var(--xr-font-color2);\n",
       "}\n",
       "\n",
       ".xr-section-item input:enabled + label:hover {\n",
       "  color: var(--xr-font-color0);\n",
       "}\n",
       "\n",
       ".xr-section-summary {\n",
       "  grid-column: 1;\n",
       "  color: var(--xr-font-color2);\n",
       "  font-weight: 500;\n",
       "}\n",
       "\n",
       ".xr-section-summary > span {\n",
       "  display: inline-block;\n",
       "  padding-left: 0.5em;\n",
       "}\n",
       "\n",
       ".xr-section-summary-in:disabled + label {\n",
       "  color: var(--xr-font-color2);\n",
       "}\n",
       "\n",
       ".xr-section-summary-in + label:before {\n",
       "  display: inline-block;\n",
       "  content: '►';\n",
       "  font-size: 11px;\n",
       "  width: 15px;\n",
       "  text-align: center;\n",
       "}\n",
       "\n",
       ".xr-section-summary-in:disabled + label:before {\n",
       "  color: var(--xr-disabled-color);\n",
       "}\n",
       "\n",
       ".xr-section-summary-in:checked + label:before {\n",
       "  content: '▼';\n",
       "}\n",
       "\n",
       ".xr-section-summary-in:checked + label > span {\n",
       "  display: none;\n",
       "}\n",
       "\n",
       ".xr-section-summary,\n",
       ".xr-section-inline-details {\n",
       "  padding-top: 4px;\n",
       "  padding-bottom: 4px;\n",
       "}\n",
       "\n",
       ".xr-section-inline-details {\n",
       "  grid-column: 2 / -1;\n",
       "}\n",
       "\n",
       ".xr-section-details {\n",
       "  display: none;\n",
       "  grid-column: 1 / -1;\n",
       "  margin-bottom: 5px;\n",
       "}\n",
       "\n",
       ".xr-section-summary-in:checked ~ .xr-section-details {\n",
       "  display: contents;\n",
       "}\n",
       "\n",
       ".xr-array-wrap {\n",
       "  grid-column: 1 / -1;\n",
       "  display: grid;\n",
       "  grid-template-columns: 20px auto;\n",
       "}\n",
       "\n",
       ".xr-array-wrap > label {\n",
       "  grid-column: 1;\n",
       "  vertical-align: top;\n",
       "}\n",
       "\n",
       ".xr-preview {\n",
       "  color: var(--xr-font-color3);\n",
       "}\n",
       "\n",
       ".xr-array-preview,\n",
       ".xr-array-data {\n",
       "  padding: 0 5px !important;\n",
       "  grid-column: 2;\n",
       "}\n",
       "\n",
       ".xr-array-data,\n",
       ".xr-array-in:checked ~ .xr-array-preview {\n",
       "  display: none;\n",
       "}\n",
       "\n",
       ".xr-array-in:checked ~ .xr-array-data,\n",
       ".xr-array-preview {\n",
       "  display: inline-block;\n",
       "}\n",
       "\n",
       ".xr-dim-list {\n",
       "  display: inline-block !important;\n",
       "  list-style: none;\n",
       "  padding: 0 !important;\n",
       "  margin: 0;\n",
       "}\n",
       "\n",
       ".xr-dim-list li {\n",
       "  display: inline-block;\n",
       "  padding: 0;\n",
       "  margin: 0;\n",
       "}\n",
       "\n",
       ".xr-dim-list:before {\n",
       "  content: '(';\n",
       "}\n",
       "\n",
       ".xr-dim-list:after {\n",
       "  content: ')';\n",
       "}\n",
       "\n",
       ".xr-dim-list li:not(:last-child):after {\n",
       "  content: ',';\n",
       "  padding-right: 5px;\n",
       "}\n",
       "\n",
       ".xr-has-index {\n",
       "  font-weight: bold;\n",
       "}\n",
       "\n",
       ".xr-var-list,\n",
       ".xr-var-item {\n",
       "  display: contents;\n",
       "}\n",
       "\n",
       ".xr-var-item > div,\n",
       ".xr-var-item label,\n",
       ".xr-var-item > .xr-var-name span {\n",
       "  background-color: var(--xr-background-color-row-even);\n",
       "  margin-bottom: 0;\n",
       "}\n",
       "\n",
       ".xr-var-item > .xr-var-name:hover span {\n",
       "  padding-right: 5px;\n",
       "}\n",
       "\n",
       ".xr-var-list > li:nth-child(odd) > div,\n",
       ".xr-var-list > li:nth-child(odd) > label,\n",
       ".xr-var-list > li:nth-child(odd) > .xr-var-name span {\n",
       "  background-color: var(--xr-background-color-row-odd);\n",
       "}\n",
       "\n",
       ".xr-var-name {\n",
       "  grid-column: 1;\n",
       "}\n",
       "\n",
       ".xr-var-dims {\n",
       "  grid-column: 2;\n",
       "}\n",
       "\n",
       ".xr-var-dtype {\n",
       "  grid-column: 3;\n",
       "  text-align: right;\n",
       "  color: var(--xr-font-color2);\n",
       "}\n",
       "\n",
       ".xr-var-preview {\n",
       "  grid-column: 4;\n",
       "}\n",
       "\n",
       ".xr-var-name,\n",
       ".xr-var-dims,\n",
       ".xr-var-dtype,\n",
       ".xr-preview,\n",
       ".xr-attrs dt {\n",
       "  white-space: nowrap;\n",
       "  overflow: hidden;\n",
       "  text-overflow: ellipsis;\n",
       "  padding-right: 10px;\n",
       "}\n",
       "\n",
       ".xr-var-name:hover,\n",
       ".xr-var-dims:hover,\n",
       ".xr-var-dtype:hover,\n",
       ".xr-attrs dt:hover {\n",
       "  overflow: visible;\n",
       "  width: auto;\n",
       "  z-index: 1;\n",
       "}\n",
       "\n",
       ".xr-var-attrs,\n",
       ".xr-var-data {\n",
       "  display: none;\n",
       "  background-color: var(--xr-background-color) !important;\n",
       "  padding-bottom: 5px !important;\n",
       "}\n",
       "\n",
       ".xr-var-attrs-in:checked ~ .xr-var-attrs,\n",
       ".xr-var-data-in:checked ~ .xr-var-data {\n",
       "  display: block;\n",
       "}\n",
       "\n",
       ".xr-var-data > table {\n",
       "  float: right;\n",
       "}\n",
       "\n",
       ".xr-var-name span,\n",
       ".xr-var-data,\n",
       ".xr-attrs {\n",
       "  padding-left: 25px !important;\n",
       "}\n",
       "\n",
       ".xr-attrs,\n",
       ".xr-var-attrs,\n",
       ".xr-var-data {\n",
       "  grid-column: 1 / -1;\n",
       "}\n",
       "\n",
       "dl.xr-attrs {\n",
       "  padding: 0;\n",
       "  margin: 0;\n",
       "  display: grid;\n",
       "  grid-template-columns: 125px auto;\n",
       "}\n",
       "\n",
       ".xr-attrs dt,\n",
       ".xr-attrs dd {\n",
       "  padding: 0;\n",
       "  margin: 0;\n",
       "  float: left;\n",
       "  padding-right: 10px;\n",
       "  width: auto;\n",
       "}\n",
       "\n",
       ".xr-attrs dt {\n",
       "  font-weight: normal;\n",
       "  grid-column: 1;\n",
       "}\n",
       "\n",
       ".xr-attrs dt:hover span {\n",
       "  display: inline-block;\n",
       "  background: var(--xr-background-color);\n",
       "  padding-right: 10px;\n",
       "}\n",
       "\n",
       ".xr-attrs dd {\n",
       "  grid-column: 2;\n",
       "  white-space: pre-wrap;\n",
       "  word-break: break-all;\n",
       "}\n",
       "\n",
       ".xr-icon-database,\n",
       ".xr-icon-file-text2 {\n",
       "  display: inline-block;\n",
       "  vertical-align: middle;\n",
       "  width: 1em;\n",
       "  height: 1.5em !important;\n",
       "  stroke-width: 0;\n",
       "  stroke: currentColor;\n",
       "  fill: currentColor;\n",
       "}\n",
       "</style><pre class='xr-text-repr-fallback'>&lt;xarray.Dataset&gt;\n",
       "Dimensions:           (p: 370, row: 144, col: 144)\n",
       "Coordinates:\n",
       "  * p                 (p) int32 0 1 2 3 4 5 6 7 ... 363 364 365 366 367 368 369\n",
       "  * row               (row) int32 0 1 2 3 4 5 6 ... 137 138 139 140 141 142 143\n",
       "  * col               (col) int32 0 1 2 3 4 5 6 ... 137 138 139 140 141 142 143\n",
       "Data variables: (12/26)\n",
       "    lon               (p, row, col) float32 ...\n",
       "    lat               (p, row, col) float32 ...\n",
       "    i                 (p, row, col) int32 ...\n",
       "    j                 (p, row, col) int32 ...\n",
       "    x                 (p, row, col) float32 ...\n",
       "    y                 (p, row, col) float32 ...\n",
       "    ...                ...\n",
       "    MLCAPE_prev       (p, row, col) float32 ...\n",
       "    USHR6_prev        (p, row, col) float32 ...\n",
       "    VSHR6_prev        (p, row, col) float32 ...\n",
       "    SBLCL_prev        (p, row, col) float32 ...\n",
       "    U_BUNK_prev       (p, row, col) float32 ...\n",
       "    V_BUNK_prev       (p, row, col) float32 ...\n",
       "Attributes: (12/36)\n",
       "    Conventions:             CF-1.6\n",
       "    title:                   NCARSTORM Storm Patches for run 20101024-0000 me...\n",
       "    object_variable:         REFL_COM\n",
       "    start_hour:              12\n",
       "    end_hour:                35\n",
       "    HRRR_alt_end_hour:       46\n",
       "    ...                      ...\n",
       "    single_step:             True\n",
       "    label_type:              gamma\n",
       "    model_map_file:          /glade/work/cbecker/hagelslag/mapfiles/ncar_stor...\n",
       "    mask_file:               None\n",
       "    run_date_format:         %Y%m%d-%H%M\n",
       "    json:                    False</pre><div class='xr-wrap' hidden><div class='xr-header'><div class='xr-obj-type'>xarray.Dataset</div></div><ul class='xr-sections'><li class='xr-section-item'><input id='section-ea264b29-a751-4134-abbb-43f264fa3a70' class='xr-section-summary-in' type='checkbox' disabled ><label for='section-ea264b29-a751-4134-abbb-43f264fa3a70' class='xr-section-summary'  title='Expand/collapse section'>Dimensions:</label><div class='xr-section-inline-details'><ul class='xr-dim-list'><li><span class='xr-has-index'>p</span>: 370</li><li><span class='xr-has-index'>row</span>: 144</li><li><span class='xr-has-index'>col</span>: 144</li></ul></div><div class='xr-section-details'></div></li><li class='xr-section-item'><input id='section-47e6b8a0-5e1f-4f7b-808c-4baa8ed8acc2' class='xr-section-summary-in' type='checkbox'  checked><label for='section-47e6b8a0-5e1f-4f7b-808c-4baa8ed8acc2' class='xr-section-summary' >Coordinates: <span>(3)</span></label><div class='xr-section-inline-details'></div><div class='xr-section-details'><ul class='xr-var-list'><li class='xr-var-item'><div class='xr-var-name'><span class='xr-has-index'>p</span></div><div class='xr-var-dims'>(p)</div><div class='xr-var-dtype'>int32</div><div class='xr-var-preview xr-preview'>0 1 2 3 4 5 ... 365 366 367 368 369</div><input id='attrs-495d18e8-b4a3-49fb-8162-fd33cb8d0329' class='xr-var-attrs-in' type='checkbox' disabled><label for='attrs-495d18e8-b4a3-49fb-8162-fd33cb8d0329' title='Show/Hide attributes'><svg class='icon xr-icon-file-text2'><use xlink:href='#icon-file-text2'></use></svg></label><input id='data-224abd1c-0153-4e49-acdd-f41acf3d95ff' class='xr-var-data-in' type='checkbox'><label for='data-224abd1c-0153-4e49-acdd-f41acf3d95ff' title='Show/Hide data repr'><svg class='icon xr-icon-database'><use xlink:href='#icon-database'></use></svg></label><div class='xr-var-attrs'><dl class='xr-attrs'></dl></div><div class='xr-var-data'><pre>array([  0,   1,   2, ..., 367, 368, 369], dtype=int32)</pre></div></li><li class='xr-var-item'><div class='xr-var-name'><span class='xr-has-index'>row</span></div><div class='xr-var-dims'>(row)</div><div class='xr-var-dtype'>int32</div><div class='xr-var-preview xr-preview'>0 1 2 3 4 5 ... 139 140 141 142 143</div><input id='attrs-ee290449-fe37-4579-a662-4d1eb88be957' class='xr-var-attrs-in' type='checkbox' disabled><label for='attrs-ee290449-fe37-4579-a662-4d1eb88be957' title='Show/Hide attributes'><svg class='icon xr-icon-file-text2'><use xlink:href='#icon-file-text2'></use></svg></label><input id='data-3a1cdbf1-b4be-4f29-a015-59594e5f33f8' class='xr-var-data-in' type='checkbox'><label for='data-3a1cdbf1-b4be-4f29-a015-59594e5f33f8' title='Show/Hide data repr'><svg class='icon xr-icon-database'><use xlink:href='#icon-database'></use></svg></label><div class='xr-var-attrs'><dl class='xr-attrs'></dl></div><div class='xr-var-data'><pre>array([  0,   1,   2,   3,   4,   5,   6,   7,   8,   9,  10,  11,  12,  13,\n",
       "        14,  15,  16,  17,  18,  19,  20,  21,  22,  23,  24,  25,  26,  27,\n",
       "        28,  29,  30,  31,  32,  33,  34,  35,  36,  37,  38,  39,  40,  41,\n",
       "        42,  43,  44,  45,  46,  47,  48,  49,  50,  51,  52,  53,  54,  55,\n",
       "        56,  57,  58,  59,  60,  61,  62,  63,  64,  65,  66,  67,  68,  69,\n",
       "        70,  71,  72,  73,  74,  75,  76,  77,  78,  79,  80,  81,  82,  83,\n",
       "        84,  85,  86,  87,  88,  89,  90,  91,  92,  93,  94,  95,  96,  97,\n",
       "        98,  99, 100, 101, 102, 103, 104, 105, 106, 107, 108, 109, 110, 111,\n",
       "       112, 113, 114, 115, 116, 117, 118, 119, 120, 121, 122, 123, 124, 125,\n",
       "       126, 127, 128, 129, 130, 131, 132, 133, 134, 135, 136, 137, 138, 139,\n",
       "       140, 141, 142, 143], dtype=int32)</pre></div></li><li class='xr-var-item'><div class='xr-var-name'><span class='xr-has-index'>col</span></div><div class='xr-var-dims'>(col)</div><div class='xr-var-dtype'>int32</div><div class='xr-var-preview xr-preview'>0 1 2 3 4 5 ... 139 140 141 142 143</div><input id='attrs-6163e102-d028-475f-a1d6-1eb1940bd495' class='xr-var-attrs-in' type='checkbox' disabled><label for='attrs-6163e102-d028-475f-a1d6-1eb1940bd495' title='Show/Hide attributes'><svg class='icon xr-icon-file-text2'><use xlink:href='#icon-file-text2'></use></svg></label><input id='data-6fe424ff-d5d1-4479-9f23-6a78611f5bd1' class='xr-var-data-in' type='checkbox'><label for='data-6fe424ff-d5d1-4479-9f23-6a78611f5bd1' title='Show/Hide data repr'><svg class='icon xr-icon-database'><use xlink:href='#icon-database'></use></svg></label><div class='xr-var-attrs'><dl class='xr-attrs'></dl></div><div class='xr-var-data'><pre>array([  0,   1,   2,   3,   4,   5,   6,   7,   8,   9,  10,  11,  12,  13,\n",
       "        14,  15,  16,  17,  18,  19,  20,  21,  22,  23,  24,  25,  26,  27,\n",
       "        28,  29,  30,  31,  32,  33,  34,  35,  36,  37,  38,  39,  40,  41,\n",
       "        42,  43,  44,  45,  46,  47,  48,  49,  50,  51,  52,  53,  54,  55,\n",
       "        56,  57,  58,  59,  60,  61,  62,  63,  64,  65,  66,  67,  68,  69,\n",
       "        70,  71,  72,  73,  74,  75,  76,  77,  78,  79,  80,  81,  82,  83,\n",
       "        84,  85,  86,  87,  88,  89,  90,  91,  92,  93,  94,  95,  96,  97,\n",
       "        98,  99, 100, 101, 102, 103, 104, 105, 106, 107, 108, 109, 110, 111,\n",
       "       112, 113, 114, 115, 116, 117, 118, 119, 120, 121, 122, 123, 124, 125,\n",
       "       126, 127, 128, 129, 130, 131, 132, 133, 134, 135, 136, 137, 138, 139,\n",
       "       140, 141, 142, 143], dtype=int32)</pre></div></li></ul></div></li><li class='xr-section-item'><input id='section-440e0e33-4caf-4fc1-8e5b-b203ed6f0470' class='xr-section-summary-in' type='checkbox'  ><label for='section-440e0e33-4caf-4fc1-8e5b-b203ed6f0470' class='xr-section-summary' >Data variables: <span>(26)</span></label><div class='xr-section-inline-details'></div><div class='xr-section-details'><ul class='xr-var-list'><li class='xr-var-item'><div class='xr-var-name'><span>lon</span></div><div class='xr-var-dims'>(p, row, col)</div><div class='xr-var-dtype'>float32</div><div class='xr-var-preview xr-preview'>...</div><input id='attrs-b165ee12-b75a-467e-a13c-093ce243cf6e' class='xr-var-attrs-in' type='checkbox' ><label for='attrs-b165ee12-b75a-467e-a13c-093ce243cf6e' title='Show/Hide attributes'><svg class='icon xr-icon-file-text2'><use xlink:href='#icon-file-text2'></use></svg></label><input id='data-3055ec95-3596-4377-910e-761f22d73227' class='xr-var-data-in' type='checkbox'><label for='data-3055ec95-3596-4377-910e-761f22d73227' title='Show/Hide data repr'><svg class='icon xr-icon-database'><use xlink:href='#icon-database'></use></svg></label><div class='xr-var-attrs'><dl class='xr-attrs'><dt><span>long_name :</span></dt><dd>lon</dd><dt><span>units :</span></dt><dd>degrees_east</dd></dl></div><div class='xr-var-data'><pre>[7672320 values with dtype=float32]</pre></div></li><li class='xr-var-item'><div class='xr-var-name'><span>lat</span></div><div class='xr-var-dims'>(p, row, col)</div><div class='xr-var-dtype'>float32</div><div class='xr-var-preview xr-preview'>...</div><input id='attrs-e64a6307-554e-44bc-8a9c-14d8d2a0313c' class='xr-var-attrs-in' type='checkbox' ><label for='attrs-e64a6307-554e-44bc-8a9c-14d8d2a0313c' title='Show/Hide attributes'><svg class='icon xr-icon-file-text2'><use xlink:href='#icon-file-text2'></use></svg></label><input id='data-4203a020-cfe2-471e-b290-0a0618564243' class='xr-var-data-in' type='checkbox'><label for='data-4203a020-cfe2-471e-b290-0a0618564243' title='Show/Hide data repr'><svg class='icon xr-icon-database'><use xlink:href='#icon-database'></use></svg></label><div class='xr-var-attrs'><dl class='xr-attrs'><dt><span>long_name :</span></dt><dd>lat</dd><dt><span>units :</span></dt><dd>degrees_north</dd></dl></div><div class='xr-var-data'><pre>[7672320 values with dtype=float32]</pre></div></li><li class='xr-var-item'><div class='xr-var-name'><span>i</span></div><div class='xr-var-dims'>(p, row, col)</div><div class='xr-var-dtype'>int32</div><div class='xr-var-preview xr-preview'>...</div><input id='attrs-ba2241d4-29a1-49fb-81ab-a23cc33facd7' class='xr-var-attrs-in' type='checkbox' ><label for='attrs-ba2241d4-29a1-49fb-81ab-a23cc33facd7' title='Show/Hide attributes'><svg class='icon xr-icon-file-text2'><use xlink:href='#icon-file-text2'></use></svg></label><input id='data-4dc7e021-939f-4999-a547-9cee7c9021a2' class='xr-var-data-in' type='checkbox'><label for='data-4dc7e021-939f-4999-a547-9cee7c9021a2' title='Show/Hide data repr'><svg class='icon xr-icon-database'><use xlink:href='#icon-database'></use></svg></label><div class='xr-var-attrs'><dl class='xr-attrs'><dt><span>long_name :</span></dt><dd>i</dd><dt><span>units :</span></dt><dd></dd></dl></div><div class='xr-var-data'><pre>[7672320 values with dtype=int32]</pre></div></li><li class='xr-var-item'><div class='xr-var-name'><span>j</span></div><div class='xr-var-dims'>(p, row, col)</div><div class='xr-var-dtype'>int32</div><div class='xr-var-preview xr-preview'>...</div><input id='attrs-b87a8d3a-9b63-4166-9e02-da90f4f4e297' class='xr-var-attrs-in' type='checkbox' ><label for='attrs-b87a8d3a-9b63-4166-9e02-da90f4f4e297' title='Show/Hide attributes'><svg class='icon xr-icon-file-text2'><use xlink:href='#icon-file-text2'></use></svg></label><input id='data-404919ef-c8cf-477c-a4d3-e5cd949378cf' class='xr-var-data-in' type='checkbox'><label for='data-404919ef-c8cf-477c-a4d3-e5cd949378cf' title='Show/Hide data repr'><svg class='icon xr-icon-database'><use xlink:href='#icon-database'></use></svg></label><div class='xr-var-attrs'><dl class='xr-attrs'><dt><span>long_name :</span></dt><dd>j</dd><dt><span>units :</span></dt><dd></dd></dl></div><div class='xr-var-data'><pre>[7672320 values with dtype=int32]</pre></div></li><li class='xr-var-item'><div class='xr-var-name'><span>x</span></div><div class='xr-var-dims'>(p, row, col)</div><div class='xr-var-dtype'>float32</div><div class='xr-var-preview xr-preview'>...</div><input id='attrs-11d0fdb1-60dd-4bb0-8dee-958462af55b8' class='xr-var-attrs-in' type='checkbox' ><label for='attrs-11d0fdb1-60dd-4bb0-8dee-958462af55b8' title='Show/Hide attributes'><svg class='icon xr-icon-file-text2'><use xlink:href='#icon-file-text2'></use></svg></label><input id='data-b1a14bf1-b6a6-4689-aec5-c5e70f33261b' class='xr-var-data-in' type='checkbox'><label for='data-b1a14bf1-b6a6-4689-aec5-c5e70f33261b' title='Show/Hide data repr'><svg class='icon xr-icon-database'><use xlink:href='#icon-database'></use></svg></label><div class='xr-var-attrs'><dl class='xr-attrs'><dt><span>long_name :</span></dt><dd>x</dd><dt><span>units :</span></dt><dd>m</dd></dl></div><div class='xr-var-data'><pre>[7672320 values with dtype=float32]</pre></div></li><li class='xr-var-item'><div class='xr-var-name'><span>y</span></div><div class='xr-var-dims'>(p, row, col)</div><div class='xr-var-dtype'>float32</div><div class='xr-var-preview xr-preview'>...</div><input id='attrs-263a86d5-4004-458d-9bbd-fd435ce3be5e' class='xr-var-attrs-in' type='checkbox' ><label for='attrs-263a86d5-4004-458d-9bbd-fd435ce3be5e' title='Show/Hide attributes'><svg class='icon xr-icon-file-text2'><use xlink:href='#icon-file-text2'></use></svg></label><input id='data-195703fd-feba-4ab9-959f-f29b18cd9e29' class='xr-var-data-in' type='checkbox'><label for='data-195703fd-feba-4ab9-959f-f29b18cd9e29' title='Show/Hide data repr'><svg class='icon xr-icon-database'><use xlink:href='#icon-database'></use></svg></label><div class='xr-var-attrs'><dl class='xr-attrs'><dt><span>long_name :</span></dt><dd>y</dd><dt><span>units :</span></dt><dd>m</dd></dl></div><div class='xr-var-data'><pre>[7672320 values with dtype=float32]</pre></div></li><li class='xr-var-item'><div class='xr-var-name'><span>masks</span></div><div class='xr-var-dims'>(p, row, col)</div><div class='xr-var-dtype'>int32</div><div class='xr-var-preview xr-preview'>...</div><input id='attrs-2496eb93-d2ba-411e-9dd7-6112a349e035' class='xr-var-attrs-in' type='checkbox' ><label for='attrs-2496eb93-d2ba-411e-9dd7-6112a349e035' title='Show/Hide attributes'><svg class='icon xr-icon-file-text2'><use xlink:href='#icon-file-text2'></use></svg></label><input id='data-1a46d8d1-7295-429b-a4ff-c79c645202b6' class='xr-var-data-in' type='checkbox'><label for='data-1a46d8d1-7295-429b-a4ff-c79c645202b6' title='Show/Hide data repr'><svg class='icon xr-icon-database'><use xlink:href='#icon-database'></use></svg></label><div class='xr-var-attrs'><dl class='xr-attrs'><dt><span>long_name :</span></dt><dd>masks</dd><dt><span>units :</span></dt><dd></dd></dl></div><div class='xr-var-data'><pre>[7672320 values with dtype=int32]</pre></div></li><li class='xr-var-item'><div class='xr-var-name'><span>time</span></div><div class='xr-var-dims'>(p)</div><div class='xr-var-dtype'>datetime64[ns]</div><div class='xr-var-preview xr-preview'>...</div><input id='attrs-9b09090b-fb9c-41ee-b90d-2de8e1408a45' class='xr-var-attrs-in' type='checkbox' ><label for='attrs-9b09090b-fb9c-41ee-b90d-2de8e1408a45' title='Show/Hide attributes'><svg class='icon xr-icon-file-text2'><use xlink:href='#icon-file-text2'></use></svg></label><input id='data-80e5474f-fa52-44a1-bd0f-9fa4feb42aef' class='xr-var-data-in' type='checkbox'><label for='data-80e5474f-fa52-44a1-bd0f-9fa4feb42aef' title='Show/Hide data repr'><svg class='icon xr-icon-database'><use xlink:href='#icon-database'></use></svg></label><div class='xr-var-attrs'><dl class='xr-attrs'><dt><span>long_name :</span></dt><dd>time</dd></dl></div><div class='xr-var-data'><pre>array([&#x27;2010-10-24T12:00:00.000000000&#x27;, &#x27;2010-10-24T13:00:00.000000000&#x27;,\n",
       "       &#x27;2010-10-24T12:00:00.000000000&#x27;, ..., &#x27;2010-10-25T11:00:00.000000000&#x27;,\n",
       "       &#x27;2010-10-25T11:00:00.000000000&#x27;, &#x27;2010-10-25T11:00:00.000000000&#x27;],\n",
       "      dtype=&#x27;datetime64[ns]&#x27;)</pre></div></li><li class='xr-var-item'><div class='xr-var-name'><span>centroid_lon</span></div><div class='xr-var-dims'>(p)</div><div class='xr-var-dtype'>float32</div><div class='xr-var-preview xr-preview'>...</div><input id='attrs-2f251f15-bed2-4fa5-b6b8-72aa60afd38e' class='xr-var-attrs-in' type='checkbox' ><label for='attrs-2f251f15-bed2-4fa5-b6b8-72aa60afd38e' title='Show/Hide attributes'><svg class='icon xr-icon-file-text2'><use xlink:href='#icon-file-text2'></use></svg></label><input id='data-b53601cc-a435-49f1-8a7f-2185fff039ca' class='xr-var-data-in' type='checkbox'><label for='data-b53601cc-a435-49f1-8a7f-2185fff039ca' title='Show/Hide data repr'><svg class='icon xr-icon-database'><use xlink:href='#icon-database'></use></svg></label><div class='xr-var-attrs'><dl class='xr-attrs'><dt><span>long_name :</span></dt><dd>centroid_lon</dd><dt><span>units :</span></dt><dd>degrees_east</dd></dl></div><div class='xr-var-data'><pre>array([-98.410194, -97.69198 , -95.15486 , ..., -88.18374 , -82.50549 ,\n",
       "       -81.38741 ], dtype=float32)</pre></div></li><li class='xr-var-item'><div class='xr-var-name'><span>centroid_lat</span></div><div class='xr-var-dims'>(p)</div><div class='xr-var-dtype'>float32</div><div class='xr-var-preview xr-preview'>...</div><input id='attrs-889d27a4-4a67-48d1-8ad3-b85f59b8bcf6' class='xr-var-attrs-in' type='checkbox' ><label for='attrs-889d27a4-4a67-48d1-8ad3-b85f59b8bcf6' title='Show/Hide attributes'><svg class='icon xr-icon-file-text2'><use xlink:href='#icon-file-text2'></use></svg></label><input id='data-23325642-1489-4255-ab4c-21b3c9a626ac' class='xr-var-data-in' type='checkbox'><label for='data-23325642-1489-4255-ab4c-21b3c9a626ac' title='Show/Hide data repr'><svg class='icon xr-icon-database'><use xlink:href='#icon-database'></use></svg></label><div class='xr-var-attrs'><dl class='xr-attrs'><dt><span>long_name :</span></dt><dd>centroid_lat</dd><dt><span>units :</span></dt><dd>degrees_north</dd></dl></div><div class='xr-var-data'><pre>array([42.940327, 43.090134, 44.222034, ..., 39.369667, 38.614746, 46.239307],\n",
       "      dtype=float32)</pre></div></li><li class='xr-var-item'><div class='xr-var-name'><span>centroid_i</span></div><div class='xr-var-dims'>(p)</div><div class='xr-var-dtype'>float32</div><div class='xr-var-preview xr-preview'>...</div><input id='attrs-56ac8d19-e0cb-44e3-a398-852f1402fac8' class='xr-var-attrs-in' type='checkbox' ><label for='attrs-56ac8d19-e0cb-44e3-a398-852f1402fac8' title='Show/Hide attributes'><svg class='icon xr-icon-file-text2'><use xlink:href='#icon-file-text2'></use></svg></label><input id='data-dfb68126-f980-4a7d-9420-b1a584892e2c' class='xr-var-data-in' type='checkbox'><label for='data-dfb68126-f980-4a7d-9420-b1a584892e2c' title='Show/Hide data repr'><svg class='icon xr-icon-database'><use xlink:href='#icon-database'></use></svg></label><div class='xr-var-attrs'><dl class='xr-attrs'><dt><span>long_name :</span></dt><dd>centroid_i</dd><dt><span>units :</span></dt><dd></dd></dl></div><div class='xr-var-data'><pre>array([661., 667., 712., ..., 554., 554., 836.], dtype=float32)</pre></div></li><li class='xr-var-item'><div class='xr-var-name'><span>centroid_j</span></div><div class='xr-var-dims'>(p)</div><div class='xr-var-dtype'>float32</div><div class='xr-var-preview xr-preview'>...</div><input id='attrs-5d785971-3959-4e4d-a7ad-1fbf94638176' class='xr-var-attrs-in' type='checkbox' ><label for='attrs-5d785971-3959-4e4d-a7ad-1fbf94638176' title='Show/Hide attributes'><svg class='icon xr-icon-file-text2'><use xlink:href='#icon-file-text2'></use></svg></label><input id='data-e54da112-04b6-487c-944f-c668e6c6593c' class='xr-var-data-in' type='checkbox'><label for='data-e54da112-04b6-487c-944f-c668e6c6593c' title='Show/Hide data repr'><svg class='icon xr-icon-database'><use xlink:href='#icon-database'></use></svg></label><div class='xr-var-attrs'><dl class='xr-attrs'><dt><span>long_name :</span></dt><dd>centroid_j</dd><dt><span>units :</span></dt><dd></dd></dl></div><div class='xr-var-data'><pre>array([ 759.,  779.,  844., ..., 1053., 1217., 1189.], dtype=float32)</pre></div></li><li class='xr-var-item'><div class='xr-var-name'><span>track_id</span></div><div class='xr-var-dims'>(p)</div><div class='xr-var-dtype'>int32</div><div class='xr-var-preview xr-preview'>...</div><input id='attrs-70572161-0b25-4f2f-9dfc-96199c5da4ca' class='xr-var-attrs-in' type='checkbox' ><label for='attrs-70572161-0b25-4f2f-9dfc-96199c5da4ca' title='Show/Hide attributes'><svg class='icon xr-icon-file-text2'><use xlink:href='#icon-file-text2'></use></svg></label><input id='data-179c3011-4b26-4f72-890f-628c6b6a1b6f' class='xr-var-data-in' type='checkbox'><label for='data-179c3011-4b26-4f72-890f-628c6b6a1b6f' title='Show/Hide data repr'><svg class='icon xr-icon-database'><use xlink:href='#icon-database'></use></svg></label><div class='xr-var-attrs'><dl class='xr-attrs'><dt><span>long_name :</span></dt><dd>track_id</dd><dt><span>units :</span></dt><dd></dd></dl></div><div class='xr-var-data'><pre>array([  0,   0,   1, ..., 240, 241, 242], dtype=int32)</pre></div></li><li class='xr-var-item'><div class='xr-var-name'><span>track_step</span></div><div class='xr-var-dims'>(p)</div><div class='xr-var-dtype'>int32</div><div class='xr-var-preview xr-preview'>...</div><input id='attrs-48e35af0-b120-40b2-8e76-e0452f78a588' class='xr-var-attrs-in' type='checkbox' ><label for='attrs-48e35af0-b120-40b2-8e76-e0452f78a588' title='Show/Hide attributes'><svg class='icon xr-icon-file-text2'><use xlink:href='#icon-file-text2'></use></svg></label><input id='data-0088d19e-0847-4408-a918-efbac8a3f203' class='xr-var-data-in' type='checkbox'><label for='data-0088d19e-0847-4408-a918-efbac8a3f203' title='Show/Hide data repr'><svg class='icon xr-icon-database'><use xlink:href='#icon-database'></use></svg></label><div class='xr-var-attrs'><dl class='xr-attrs'><dt><span>long_name :</span></dt><dd>track_step</dd><dt><span>units :</span></dt><dd></dd></dl></div><div class='xr-var-data'><pre>array([1, 2, 1, ..., 1, 1, 1], dtype=int32)</pre></div></li><li class='xr-var-item'><div class='xr-var-name'><span>REFL_COM_curr</span></div><div class='xr-var-dims'>(p, row, col)</div><div class='xr-var-dtype'>float32</div><div class='xr-var-preview xr-preview'>...</div><input id='attrs-2b3b0242-d55b-4a92-8a0c-13959c7ddef2' class='xr-var-attrs-in' type='checkbox' ><label for='attrs-2b3b0242-d55b-4a92-8a0c-13959c7ddef2' title='Show/Hide attributes'><svg class='icon xr-icon-file-text2'><use xlink:href='#icon-file-text2'></use></svg></label><input id='data-dfefa2ac-7b7f-442a-8be5-a8ab6a4e2066' class='xr-var-data-in' type='checkbox'><label for='data-dfefa2ac-7b7f-442a-8be5-a8ab6a4e2066' title='Show/Hide data repr'><svg class='icon xr-icon-database'><use xlink:href='#icon-database'></use></svg></label><div class='xr-var-attrs'><dl class='xr-attrs'><dt><span>long_name :</span></dt><dd>REFL_COM</dd><dt><span>units :</span></dt><dd></dd></dl></div><div class='xr-var-data'><pre>[7672320 values with dtype=float32]</pre></div></li><li class='xr-var-item'><div class='xr-var-name'><span>UP_HELI_MAX_curr</span></div><div class='xr-var-dims'>(p, row, col)</div><div class='xr-var-dtype'>float32</div><div class='xr-var-preview xr-preview'>...</div><input id='attrs-621f5493-17b3-4e90-b9a3-ea6dccf004bf' class='xr-var-attrs-in' type='checkbox' ><label for='attrs-621f5493-17b3-4e90-b9a3-ea6dccf004bf' title='Show/Hide attributes'><svg class='icon xr-icon-file-text2'><use xlink:href='#icon-file-text2'></use></svg></label><input id='data-1c394283-a9cb-4412-ab00-95711e5619e9' class='xr-var-data-in' type='checkbox'><label for='data-1c394283-a9cb-4412-ab00-95711e5619e9' title='Show/Hide data repr'><svg class='icon xr-icon-database'><use xlink:href='#icon-database'></use></svg></label><div class='xr-var-attrs'><dl class='xr-attrs'><dt><span>long_name :</span></dt><dd>UP_HELI_MAX</dd><dt><span>units :</span></dt><dd></dd></dl></div><div class='xr-var-data'><pre>[7672320 values with dtype=float32]</pre></div></li><li class='xr-var-item'><div class='xr-var-name'><span>U10_curr</span></div><div class='xr-var-dims'>(p, row, col)</div><div class='xr-var-dtype'>float32</div><div class='xr-var-preview xr-preview'>...</div><input id='attrs-2361949f-b52e-49ee-8c78-e65c5874027f' class='xr-var-attrs-in' type='checkbox' ><label for='attrs-2361949f-b52e-49ee-8c78-e65c5874027f' title='Show/Hide attributes'><svg class='icon xr-icon-file-text2'><use xlink:href='#icon-file-text2'></use></svg></label><input id='data-9300d20b-bad7-4f42-985b-e955bee4658b' class='xr-var-data-in' type='checkbox'><label for='data-9300d20b-bad7-4f42-985b-e955bee4658b' title='Show/Hide data repr'><svg class='icon xr-icon-database'><use xlink:href='#icon-database'></use></svg></label><div class='xr-var-attrs'><dl class='xr-attrs'><dt><span>long_name :</span></dt><dd>U10</dd><dt><span>units :</span></dt><dd></dd></dl></div><div class='xr-var-data'><pre>[7672320 values with dtype=float32]</pre></div></li><li class='xr-var-item'><div class='xr-var-name'><span>V10_curr</span></div><div class='xr-var-dims'>(p, row, col)</div><div class='xr-var-dtype'>float32</div><div class='xr-var-preview xr-preview'>...</div><input id='attrs-bc075ba7-27eb-40fe-b1c7-16dfce16c0c3' class='xr-var-attrs-in' type='checkbox' ><label for='attrs-bc075ba7-27eb-40fe-b1c7-16dfce16c0c3' title='Show/Hide attributes'><svg class='icon xr-icon-file-text2'><use xlink:href='#icon-file-text2'></use></svg></label><input id='data-3ab31cf9-a9df-4b12-92db-889adb27eb08' class='xr-var-data-in' type='checkbox'><label for='data-3ab31cf9-a9df-4b12-92db-889adb27eb08' title='Show/Hide data repr'><svg class='icon xr-icon-database'><use xlink:href='#icon-database'></use></svg></label><div class='xr-var-attrs'><dl class='xr-attrs'><dt><span>long_name :</span></dt><dd>V10</dd><dt><span>units :</span></dt><dd></dd></dl></div><div class='xr-var-data'><pre>[7672320 values with dtype=float32]</pre></div></li><li class='xr-var-item'><div class='xr-var-name'><span>GRPL_MAX_curr</span></div><div class='xr-var-dims'>(p, row, col)</div><div class='xr-var-dtype'>float32</div><div class='xr-var-preview xr-preview'>...</div><input id='attrs-a9a90f7d-2a9d-42c5-a51a-4b0bc6599d38' class='xr-var-attrs-in' type='checkbox' ><label for='attrs-a9a90f7d-2a9d-42c5-a51a-4b0bc6599d38' title='Show/Hide attributes'><svg class='icon xr-icon-file-text2'><use xlink:href='#icon-file-text2'></use></svg></label><input id='data-8b0bd19d-8d65-491c-8715-16313ba29a7c' class='xr-var-data-in' type='checkbox'><label for='data-8b0bd19d-8d65-491c-8715-16313ba29a7c' title='Show/Hide data repr'><svg class='icon xr-icon-database'><use xlink:href='#icon-database'></use></svg></label><div class='xr-var-attrs'><dl class='xr-attrs'><dt><span>long_name :</span></dt><dd>GRPL_MAX</dd><dt><span>units :</span></dt><dd></dd></dl></div><div class='xr-var-data'><pre>[7672320 values with dtype=float32]</pre></div></li><li class='xr-var-item'><div class='xr-var-name'><span>W_UP_MAX_curr</span></div><div class='xr-var-dims'>(p, row, col)</div><div class='xr-var-dtype'>float32</div><div class='xr-var-preview xr-preview'>...</div><input id='attrs-dfced4a8-c644-460f-8116-e9d9dc4959ab' class='xr-var-attrs-in' type='checkbox' ><label for='attrs-dfced4a8-c644-460f-8116-e9d9dc4959ab' title='Show/Hide attributes'><svg class='icon xr-icon-file-text2'><use xlink:href='#icon-file-text2'></use></svg></label><input id='data-f8400e29-efb8-4103-836d-98f0e0632f1d' class='xr-var-data-in' type='checkbox'><label for='data-f8400e29-efb8-4103-836d-98f0e0632f1d' title='Show/Hide data repr'><svg class='icon xr-icon-database'><use xlink:href='#icon-database'></use></svg></label><div class='xr-var-attrs'><dl class='xr-attrs'><dt><span>long_name :</span></dt><dd>W_UP_MAX</dd><dt><span>units :</span></dt><dd></dd></dl></div><div class='xr-var-data'><pre>[7672320 values with dtype=float32]</pre></div></li><li class='xr-var-item'><div class='xr-var-name'><span>MLCAPE_prev</span></div><div class='xr-var-dims'>(p, row, col)</div><div class='xr-var-dtype'>float32</div><div class='xr-var-preview xr-preview'>...</div><input id='attrs-fc9d0730-8d5a-4f63-9886-37c7c45a3cee' class='xr-var-attrs-in' type='checkbox' ><label for='attrs-fc9d0730-8d5a-4f63-9886-37c7c45a3cee' title='Show/Hide attributes'><svg class='icon xr-icon-file-text2'><use xlink:href='#icon-file-text2'></use></svg></label><input id='data-c1d29e4c-df75-4bce-9f47-6f9810b824ff' class='xr-var-data-in' type='checkbox'><label for='data-c1d29e4c-df75-4bce-9f47-6f9810b824ff' title='Show/Hide data repr'><svg class='icon xr-icon-database'><use xlink:href='#icon-database'></use></svg></label><div class='xr-var-attrs'><dl class='xr-attrs'><dt><span>long_name :</span></dt><dd>MLCAPE</dd><dt><span>units :</span></dt><dd></dd></dl></div><div class='xr-var-data'><pre>[7672320 values with dtype=float32]</pre></div></li><li class='xr-var-item'><div class='xr-var-name'><span>USHR6_prev</span></div><div class='xr-var-dims'>(p, row, col)</div><div class='xr-var-dtype'>float32</div><div class='xr-var-preview xr-preview'>...</div><input id='attrs-40cf9c14-3f55-4b71-84b9-0591b6afa1c4' class='xr-var-attrs-in' type='checkbox' ><label for='attrs-40cf9c14-3f55-4b71-84b9-0591b6afa1c4' title='Show/Hide attributes'><svg class='icon xr-icon-file-text2'><use xlink:href='#icon-file-text2'></use></svg></label><input id='data-b1bfee85-da6b-45d0-88fd-ebb5b52fb095' class='xr-var-data-in' type='checkbox'><label for='data-b1bfee85-da6b-45d0-88fd-ebb5b52fb095' title='Show/Hide data repr'><svg class='icon xr-icon-database'><use xlink:href='#icon-database'></use></svg></label><div class='xr-var-attrs'><dl class='xr-attrs'><dt><span>long_name :</span></dt><dd>USHR6</dd><dt><span>units :</span></dt><dd></dd></dl></div><div class='xr-var-data'><pre>[7672320 values with dtype=float32]</pre></div></li><li class='xr-var-item'><div class='xr-var-name'><span>VSHR6_prev</span></div><div class='xr-var-dims'>(p, row, col)</div><div class='xr-var-dtype'>float32</div><div class='xr-var-preview xr-preview'>...</div><input id='attrs-94f901b7-5aa8-4117-8d4b-b45e5cfafde0' class='xr-var-attrs-in' type='checkbox' ><label for='attrs-94f901b7-5aa8-4117-8d4b-b45e5cfafde0' title='Show/Hide attributes'><svg class='icon xr-icon-file-text2'><use xlink:href='#icon-file-text2'></use></svg></label><input id='data-8568a653-e2e0-43c2-a8d2-041c51e444b5' class='xr-var-data-in' type='checkbox'><label for='data-8568a653-e2e0-43c2-a8d2-041c51e444b5' title='Show/Hide data repr'><svg class='icon xr-icon-database'><use xlink:href='#icon-database'></use></svg></label><div class='xr-var-attrs'><dl class='xr-attrs'><dt><span>long_name :</span></dt><dd>VSHR6</dd><dt><span>units :</span></dt><dd></dd></dl></div><div class='xr-var-data'><pre>[7672320 values with dtype=float32]</pre></div></li><li class='xr-var-item'><div class='xr-var-name'><span>SBLCL_prev</span></div><div class='xr-var-dims'>(p, row, col)</div><div class='xr-var-dtype'>float32</div><div class='xr-var-preview xr-preview'>...</div><input id='attrs-71edddc4-1f03-49cd-96e8-41a087967df6' class='xr-var-attrs-in' type='checkbox' ><label for='attrs-71edddc4-1f03-49cd-96e8-41a087967df6' title='Show/Hide attributes'><svg class='icon xr-icon-file-text2'><use xlink:href='#icon-file-text2'></use></svg></label><input id='data-a1701d95-72a6-4c3b-ad8c-c35b4f7f6ced' class='xr-var-data-in' type='checkbox'><label for='data-a1701d95-72a6-4c3b-ad8c-c35b4f7f6ced' title='Show/Hide data repr'><svg class='icon xr-icon-database'><use xlink:href='#icon-database'></use></svg></label><div class='xr-var-attrs'><dl class='xr-attrs'><dt><span>long_name :</span></dt><dd>SBLCL</dd><dt><span>units :</span></dt><dd></dd></dl></div><div class='xr-var-data'><pre>[7672320 values with dtype=float32]</pre></div></li><li class='xr-var-item'><div class='xr-var-name'><span>U_BUNK_prev</span></div><div class='xr-var-dims'>(p, row, col)</div><div class='xr-var-dtype'>float32</div><div class='xr-var-preview xr-preview'>...</div><input id='attrs-7da81328-3d0a-4492-ba6b-c58ad58701c8' class='xr-var-attrs-in' type='checkbox' ><label for='attrs-7da81328-3d0a-4492-ba6b-c58ad58701c8' title='Show/Hide attributes'><svg class='icon xr-icon-file-text2'><use xlink:href='#icon-file-text2'></use></svg></label><input id='data-9f6daa81-0191-4adf-b825-b9d2514af247' class='xr-var-data-in' type='checkbox'><label for='data-9f6daa81-0191-4adf-b825-b9d2514af247' title='Show/Hide data repr'><svg class='icon xr-icon-database'><use xlink:href='#icon-database'></use></svg></label><div class='xr-var-attrs'><dl class='xr-attrs'><dt><span>long_name :</span></dt><dd>U_BUNK</dd><dt><span>units :</span></dt><dd></dd></dl></div><div class='xr-var-data'><pre>[7672320 values with dtype=float32]</pre></div></li><li class='xr-var-item'><div class='xr-var-name'><span>V_BUNK_prev</span></div><div class='xr-var-dims'>(p, row, col)</div><div class='xr-var-dtype'>float32</div><div class='xr-var-preview xr-preview'>...</div><input id='attrs-73afa169-0c15-49b2-8845-18c70ec0a300' class='xr-var-attrs-in' type='checkbox' ><label for='attrs-73afa169-0c15-49b2-8845-18c70ec0a300' title='Show/Hide attributes'><svg class='icon xr-icon-file-text2'><use xlink:href='#icon-file-text2'></use></svg></label><input id='data-c7020f36-f4ba-4a4e-bcf3-5c47f9f14f19' class='xr-var-data-in' type='checkbox'><label for='data-c7020f36-f4ba-4a4e-bcf3-5c47f9f14f19' title='Show/Hide data repr'><svg class='icon xr-icon-database'><use xlink:href='#icon-database'></use></svg></label><div class='xr-var-attrs'><dl class='xr-attrs'><dt><span>long_name :</span></dt><dd>V_BUNK</dd><dt><span>units :</span></dt><dd></dd></dl></div><div class='xr-var-data'><pre>[7672320 values with dtype=float32]</pre></div></li></ul></div></li><li class='xr-section-item'><input id='section-d0f9e375-a67f-465e-92e5-6457ccaa39ea' class='xr-section-summary-in' type='checkbox'  ><label for='section-d0f9e375-a67f-465e-92e5-6457ccaa39ea' class='xr-section-summary' >Attributes: <span>(36)</span></label><div class='xr-section-inline-details'></div><div class='xr-section-details'><dl class='xr-attrs'><dt><span>Conventions :</span></dt><dd>CF-1.6</dd><dt><span>title :</span></dt><dd>NCARSTORM Storm Patches for run 20101024-0000 member d01</dd><dt><span>object_variable :</span></dt><dd>REFL_COM</dd><dt><span>start_hour :</span></dt><dd>12</dd><dt><span>end_hour :</span></dt><dd>35</dd><dt><span>HRRR_alt_end_hour :</span></dt><dd>46</dd><dt><span>HRRR_alt_run_hours :</span></dt><dd>[0, 6, 12, 18]</dd><dt><span>watershed_variable :</span></dt><dd>REFL_COM</dd><dt><span>ensemble_name :</span></dt><dd>NCARSTORM</dd><dt><span>ensemble_members :</span></dt><dd>[&#x27;d01&#x27;]</dd><dt><span>model_path :</span></dt><dd>/glade/p/mmm/parc/sobash/NSC/3KM_WRF_POST_12sec_ts/</dd><dt><span>segmentation_approach :</span></dt><dd>hyst</dd><dt><span>model_watershed_params :</span></dt><dd>(35, 50)</dd><dt><span>size_filter :</span></dt><dd>12</dd><dt><span>gaussian_window :</span></dt><dd>1</dd><dt><span>mrms_path :</span></dt><dd>None</dd><dt><span>mrms_variable :</span></dt><dd>MESH_Max_60min_00.50</dd><dt><span>mrms_watershed_params :</span></dt><dd>(13, 1, 125, 100, 100)</dd><dt><span>object_matcher_params :</span></dt><dd>([&lt;function shifted_centroid_distance at 0x2af790d8d790&gt;], array([1.]), array([24000]))</dd><dt><span>track_matcher_params :</span></dt><dd>([&lt;function centroid_distance at 0x2af790d820d0&gt;, &lt;function time_distance at 0x2af790d8d700&gt;], array([80000,     2]))</dd><dt><span>shape_variables :</span></dt><dd>[&#x27;area&#x27;, &#x27;eccentricity&#x27;, &#x27;major_axis_length&#x27;, &#x27;minor_axis_length&#x27;, &#x27;orientation&#x27;]</dd><dt><span>variable_statistics :</span></dt><dd>[&#x27;mean&#x27;, &#x27;max&#x27;, &#x27;min&#x27;]</dd><dt><span>csv_path :</span></dt><dd>/glade/work/cbecker/WRF_all/track_data_hrrr_3km_csv_refl/</dd><dt><span>geojson_path :</span></dt><dd>/glade/work/cbecker/WRF_all/track_data_hrrr_3km_json_refl/</dd><dt><span>nc_path :</span></dt><dd>/glade/work/cbecker/WRF_all/track_data_hrrr_3km_nc_refl/</dd><dt><span>patch_radius :</span></dt><dd>72</dd><dt><span>unique_matches :</span></dt><dd>True</dd><dt><span>closest_matches :</span></dt><dd>True</dd><dt><span>match_steps :</span></dt><dd>True</dd><dt><span>train :</span></dt><dd>False</dd><dt><span>single_step :</span></dt><dd>True</dd><dt><span>label_type :</span></dt><dd>gamma</dd><dt><span>model_map_file :</span></dt><dd>/glade/work/cbecker/hagelslag/mapfiles/ncar_storm_map_3km.txt</dd><dt><span>mask_file :</span></dt><dd>None</dd><dt><span>run_date_format :</span></dt><dd>%Y%m%d-%H%M</dd><dt><span>json :</span></dt><dd>False</dd></dl></div></li></ul></div></div>"
      ],
      "text/plain": [
       "<xarray.Dataset>\n",
       "Dimensions:           (p: 370, row: 144, col: 144)\n",
       "Coordinates:\n",
       "  * p                 (p) int32 0 1 2 3 4 5 6 7 ... 363 364 365 366 367 368 369\n",
       "  * row               (row) int32 0 1 2 3 4 5 6 ... 137 138 139 140 141 142 143\n",
       "  * col               (col) int32 0 1 2 3 4 5 6 ... 137 138 139 140 141 142 143\n",
       "Data variables: (12/26)\n",
       "    lon               (p, row, col) float32 ...\n",
       "    lat               (p, row, col) float32 ...\n",
       "    i                 (p, row, col) int32 ...\n",
       "    j                 (p, row, col) int32 ...\n",
       "    x                 (p, row, col) float32 ...\n",
       "    y                 (p, row, col) float32 ...\n",
       "    ...                ...\n",
       "    MLCAPE_prev       (p, row, col) float32 ...\n",
       "    USHR6_prev        (p, row, col) float32 ...\n",
       "    VSHR6_prev        (p, row, col) float32 ...\n",
       "    SBLCL_prev        (p, row, col) float32 ...\n",
       "    U_BUNK_prev       (p, row, col) float32 ...\n",
       "    V_BUNK_prev       (p, row, col) float32 ...\n",
       "Attributes: (12/36)\n",
       "    Conventions:             CF-1.6\n",
       "    title:                   NCARSTORM Storm Patches for run 20101024-0000 me...\n",
       "    object_variable:         REFL_COM\n",
       "    start_hour:              12\n",
       "    end_hour:                35\n",
       "    HRRR_alt_end_hour:       46\n",
       "    ...                      ...\n",
       "    single_step:             True\n",
       "    label_type:              gamma\n",
       "    model_map_file:          /glade/work/cbecker/hagelslag/mapfiles/ncar_stor...\n",
       "    mask_file:               None\n",
       "    run_date_format:         %Y%m%d-%H%M\n",
       "    json:                    False"
      ]
     },
     "execution_count": 3,
     "metadata": {},
     "output_type": "execute_result"
    }
   ],
   "source": [
    "patch_ds"
   ]
  },
  {
   "cell_type": "code",
   "execution_count": 4,
   "id": "6d0f35ca-a2d6-4879-a4e9-f586b085c8a8",
   "metadata": {},
   "outputs": [
    {
     "data": {
      "text/html": [
       "<div>\n",
       "<style scoped>\n",
       "    .dataframe tbody tr th:only-of-type {\n",
       "        vertical-align: middle;\n",
       "    }\n",
       "\n",
       "    .dataframe tbody tr th {\n",
       "        vertical-align: top;\n",
       "    }\n",
       "\n",
       "    .dataframe thead th {\n",
       "        text-align: right;\n",
       "    }\n",
       "</style>\n",
       "<table border=\"1\" class=\"dataframe\">\n",
       "  <thead>\n",
       "    <tr style=\"text-align: right;\">\n",
       "      <th></th>\n",
       "      <th>Step_ID</th>\n",
       "      <th>Track_ID</th>\n",
       "      <th>Ensemble_Name</th>\n",
       "      <th>Ensemble_Member</th>\n",
       "      <th>Run_Date</th>\n",
       "      <th>Valid_Date</th>\n",
       "      <th>Forecast_Hour</th>\n",
       "      <th>Valid_Hour_UTC</th>\n",
       "      <th>Duration</th>\n",
       "      <th>Centroid_Lon</th>\n",
       "      <th>...</th>\n",
       "      <th>eccentricity</th>\n",
       "      <th>major_axis_length</th>\n",
       "      <th>minor_axis_length</th>\n",
       "      <th>orientation</th>\n",
       "      <th>Matched</th>\n",
       "      <th>Max_Hail_Size</th>\n",
       "      <th>Num_Matches</th>\n",
       "      <th>Shape</th>\n",
       "      <th>Location</th>\n",
       "      <th>Scale</th>\n",
       "    </tr>\n",
       "  </thead>\n",
       "  <tbody>\n",
       "    <tr>\n",
       "      <th>0</th>\n",
       "      <td>d01_REFL_COM_20101024-0000_12_13_000_00</td>\n",
       "      <td>d01_REFL_COM_20101024-0000_12_13_000</td>\n",
       "      <td>NCARSTORM</td>\n",
       "      <td>d01</td>\n",
       "      <td>2010-10-24 00:00:00+00:00</td>\n",
       "      <td>2010-10-24 12:00:00+00:00</td>\n",
       "      <td>12</td>\n",
       "      <td>12</td>\n",
       "      <td>1</td>\n",
       "      <td>-98.41019</td>\n",
       "      <td>...</td>\n",
       "      <td>0.90735</td>\n",
       "      <td>51.23550</td>\n",
       "      <td>21.53869</td>\n",
       "      <td>1.41172</td>\n",
       "      <td>0</td>\n",
       "      <td>0</td>\n",
       "      <td>0</td>\n",
       "      <td>0</td>\n",
       "      <td>0</td>\n",
       "      <td>0</td>\n",
       "    </tr>\n",
       "    <tr>\n",
       "      <th>1</th>\n",
       "      <td>d01_REFL_COM_20101024-0000_12_13_000_01</td>\n",
       "      <td>d01_REFL_COM_20101024-0000_12_13_000</td>\n",
       "      <td>NCARSTORM</td>\n",
       "      <td>d01</td>\n",
       "      <td>2010-10-24 00:00:00+00:00</td>\n",
       "      <td>2010-10-24 13:00:00+00:00</td>\n",
       "      <td>13</td>\n",
       "      <td>13</td>\n",
       "      <td>2</td>\n",
       "      <td>-97.69198</td>\n",
       "      <td>...</td>\n",
       "      <td>0.85356</td>\n",
       "      <td>26.92719</td>\n",
       "      <td>14.02906</td>\n",
       "      <td>1.13923</td>\n",
       "      <td>0</td>\n",
       "      <td>0</td>\n",
       "      <td>0</td>\n",
       "      <td>0</td>\n",
       "      <td>0</td>\n",
       "      <td>0</td>\n",
       "    </tr>\n",
       "    <tr>\n",
       "      <th>2</th>\n",
       "      <td>d01_REFL_COM_20101024-0000_12_12_001_00</td>\n",
       "      <td>d01_REFL_COM_20101024-0000_12_12_001</td>\n",
       "      <td>NCARSTORM</td>\n",
       "      <td>d01</td>\n",
       "      <td>2010-10-24 00:00:00+00:00</td>\n",
       "      <td>2010-10-24 12:00:00+00:00</td>\n",
       "      <td>12</td>\n",
       "      <td>12</td>\n",
       "      <td>1</td>\n",
       "      <td>-95.15486</td>\n",
       "      <td>...</td>\n",
       "      <td>0.71815</td>\n",
       "      <td>8.65894</td>\n",
       "      <td>6.02569</td>\n",
       "      <td>0.74301</td>\n",
       "      <td>0</td>\n",
       "      <td>0</td>\n",
       "      <td>0</td>\n",
       "      <td>0</td>\n",
       "      <td>0</td>\n",
       "      <td>0</td>\n",
       "    </tr>\n",
       "    <tr>\n",
       "      <th>3</th>\n",
       "      <td>d01_REFL_COM_20101024-0000_12_13_002_00</td>\n",
       "      <td>d01_REFL_COM_20101024-0000_12_13_002</td>\n",
       "      <td>NCARSTORM</td>\n",
       "      <td>d01</td>\n",
       "      <td>2010-10-24 00:00:00+00:00</td>\n",
       "      <td>2010-10-24 12:00:00+00:00</td>\n",
       "      <td>12</td>\n",
       "      <td>12</td>\n",
       "      <td>1</td>\n",
       "      <td>-94.39792</td>\n",
       "      <td>...</td>\n",
       "      <td>0.58687</td>\n",
       "      <td>7.89825</td>\n",
       "      <td>6.39509</td>\n",
       "      <td>-1.28875</td>\n",
       "      <td>0</td>\n",
       "      <td>0</td>\n",
       "      <td>0</td>\n",
       "      <td>0</td>\n",
       "      <td>0</td>\n",
       "      <td>0</td>\n",
       "    </tr>\n",
       "    <tr>\n",
       "      <th>4</th>\n",
       "      <td>d01_REFL_COM_20101024-0000_12_13_002_01</td>\n",
       "      <td>d01_REFL_COM_20101024-0000_12_13_002</td>\n",
       "      <td>NCARSTORM</td>\n",
       "      <td>d01</td>\n",
       "      <td>2010-10-24 00:00:00+00:00</td>\n",
       "      <td>2010-10-24 13:00:00+00:00</td>\n",
       "      <td>13</td>\n",
       "      <td>13</td>\n",
       "      <td>2</td>\n",
       "      <td>-94.21008</td>\n",
       "      <td>...</td>\n",
       "      <td>0.91899</td>\n",
       "      <td>27.65443</td>\n",
       "      <td>10.90375</td>\n",
       "      <td>0.32912</td>\n",
       "      <td>0</td>\n",
       "      <td>0</td>\n",
       "      <td>0</td>\n",
       "      <td>0</td>\n",
       "      <td>0</td>\n",
       "      <td>0</td>\n",
       "    </tr>\n",
       "    <tr>\n",
       "      <th>...</th>\n",
       "      <td>...</td>\n",
       "      <td>...</td>\n",
       "      <td>...</td>\n",
       "      <td>...</td>\n",
       "      <td>...</td>\n",
       "      <td>...</td>\n",
       "      <td>...</td>\n",
       "      <td>...</td>\n",
       "      <td>...</td>\n",
       "      <td>...</td>\n",
       "      <td>...</td>\n",
       "      <td>...</td>\n",
       "      <td>...</td>\n",
       "      <td>...</td>\n",
       "      <td>...</td>\n",
       "      <td>...</td>\n",
       "      <td>...</td>\n",
       "      <td>...</td>\n",
       "      <td>...</td>\n",
       "      <td>...</td>\n",
       "      <td>...</td>\n",
       "    </tr>\n",
       "    <tr>\n",
       "      <th>365</th>\n",
       "      <td>d01_REFL_COM_20101024-0000_35_35_238_00</td>\n",
       "      <td>d01_REFL_COM_20101024-0000_35_35_238</td>\n",
       "      <td>NCARSTORM</td>\n",
       "      <td>d01</td>\n",
       "      <td>2010-10-24 00:00:00+00:00</td>\n",
       "      <td>2010-10-25 11:00:00+00:00</td>\n",
       "      <td>35</td>\n",
       "      <td>11</td>\n",
       "      <td>1</td>\n",
       "      <td>-85.94177</td>\n",
       "      <td>...</td>\n",
       "      <td>0.44428</td>\n",
       "      <td>6.31100</td>\n",
       "      <td>5.65396</td>\n",
       "      <td>1.29480</td>\n",
       "      <td>0</td>\n",
       "      <td>0</td>\n",
       "      <td>0</td>\n",
       "      <td>0</td>\n",
       "      <td>0</td>\n",
       "      <td>0</td>\n",
       "    </tr>\n",
       "    <tr>\n",
       "      <th>366</th>\n",
       "      <td>d01_REFL_COM_20101024-0000_35_35_239_00</td>\n",
       "      <td>d01_REFL_COM_20101024-0000_35_35_239</td>\n",
       "      <td>NCARSTORM</td>\n",
       "      <td>d01</td>\n",
       "      <td>2010-10-24 00:00:00+00:00</td>\n",
       "      <td>2010-10-25 11:00:00+00:00</td>\n",
       "      <td>35</td>\n",
       "      <td>11</td>\n",
       "      <td>1</td>\n",
       "      <td>-85.16997</td>\n",
       "      <td>...</td>\n",
       "      <td>0.85947</td>\n",
       "      <td>79.05277</td>\n",
       "      <td>40.41106</td>\n",
       "      <td>0.12811</td>\n",
       "      <td>0</td>\n",
       "      <td>0</td>\n",
       "      <td>0</td>\n",
       "      <td>0</td>\n",
       "      <td>0</td>\n",
       "      <td>0</td>\n",
       "    </tr>\n",
       "    <tr>\n",
       "      <th>367</th>\n",
       "      <td>d01_REFL_COM_20101024-0000_35_35_240_00</td>\n",
       "      <td>d01_REFL_COM_20101024-0000_35_35_240</td>\n",
       "      <td>NCARSTORM</td>\n",
       "      <td>d01</td>\n",
       "      <td>2010-10-24 00:00:00+00:00</td>\n",
       "      <td>2010-10-25 11:00:00+00:00</td>\n",
       "      <td>35</td>\n",
       "      <td>11</td>\n",
       "      <td>1</td>\n",
       "      <td>-88.18374</td>\n",
       "      <td>...</td>\n",
       "      <td>0.92145</td>\n",
       "      <td>18.05184</td>\n",
       "      <td>7.01316</td>\n",
       "      <td>0.99009</td>\n",
       "      <td>0</td>\n",
       "      <td>0</td>\n",
       "      <td>0</td>\n",
       "      <td>0</td>\n",
       "      <td>0</td>\n",
       "      <td>0</td>\n",
       "    </tr>\n",
       "    <tr>\n",
       "      <th>368</th>\n",
       "      <td>d01_REFL_COM_20101024-0000_35_35_241_00</td>\n",
       "      <td>d01_REFL_COM_20101024-0000_35_35_241</td>\n",
       "      <td>NCARSTORM</td>\n",
       "      <td>d01</td>\n",
       "      <td>2010-10-24 00:00:00+00:00</td>\n",
       "      <td>2010-10-25 11:00:00+00:00</td>\n",
       "      <td>35</td>\n",
       "      <td>11</td>\n",
       "      <td>1</td>\n",
       "      <td>-82.50549</td>\n",
       "      <td>...</td>\n",
       "      <td>0.93744</td>\n",
       "      <td>14.44305</td>\n",
       "      <td>5.02817</td>\n",
       "      <td>-0.19595</td>\n",
       "      <td>0</td>\n",
       "      <td>0</td>\n",
       "      <td>0</td>\n",
       "      <td>0</td>\n",
       "      <td>0</td>\n",
       "      <td>0</td>\n",
       "    </tr>\n",
       "    <tr>\n",
       "      <th>369</th>\n",
       "      <td>d01_REFL_COM_20101024-0000_35_35_242_00</td>\n",
       "      <td>d01_REFL_COM_20101024-0000_35_35_242</td>\n",
       "      <td>NCARSTORM</td>\n",
       "      <td>d01</td>\n",
       "      <td>2010-10-24 00:00:00+00:00</td>\n",
       "      <td>2010-10-25 11:00:00+00:00</td>\n",
       "      <td>35</td>\n",
       "      <td>11</td>\n",
       "      <td>1</td>\n",
       "      <td>-81.38741</td>\n",
       "      <td>...</td>\n",
       "      <td>0.97875</td>\n",
       "      <td>56.91919</td>\n",
       "      <td>11.67269</td>\n",
       "      <td>1.49626</td>\n",
       "      <td>0</td>\n",
       "      <td>0</td>\n",
       "      <td>0</td>\n",
       "      <td>0</td>\n",
       "      <td>0</td>\n",
       "      <td>0</td>\n",
       "    </tr>\n",
       "  </tbody>\n",
       "</table>\n",
       "<p>370 rows × 62 columns</p>\n",
       "</div>"
      ],
      "text/plain": [
       "                                     Step_ID  \\\n",
       "0    d01_REFL_COM_20101024-0000_12_13_000_00   \n",
       "1    d01_REFL_COM_20101024-0000_12_13_000_01   \n",
       "2    d01_REFL_COM_20101024-0000_12_12_001_00   \n",
       "3    d01_REFL_COM_20101024-0000_12_13_002_00   \n",
       "4    d01_REFL_COM_20101024-0000_12_13_002_01   \n",
       "..                                       ...   \n",
       "365  d01_REFL_COM_20101024-0000_35_35_238_00   \n",
       "366  d01_REFL_COM_20101024-0000_35_35_239_00   \n",
       "367  d01_REFL_COM_20101024-0000_35_35_240_00   \n",
       "368  d01_REFL_COM_20101024-0000_35_35_241_00   \n",
       "369  d01_REFL_COM_20101024-0000_35_35_242_00   \n",
       "\n",
       "                                 Track_ID Ensemble_Name Ensemble_Member  \\\n",
       "0    d01_REFL_COM_20101024-0000_12_13_000     NCARSTORM             d01   \n",
       "1    d01_REFL_COM_20101024-0000_12_13_000     NCARSTORM             d01   \n",
       "2    d01_REFL_COM_20101024-0000_12_12_001     NCARSTORM             d01   \n",
       "3    d01_REFL_COM_20101024-0000_12_13_002     NCARSTORM             d01   \n",
       "4    d01_REFL_COM_20101024-0000_12_13_002     NCARSTORM             d01   \n",
       "..                                    ...           ...             ...   \n",
       "365  d01_REFL_COM_20101024-0000_35_35_238     NCARSTORM             d01   \n",
       "366  d01_REFL_COM_20101024-0000_35_35_239     NCARSTORM             d01   \n",
       "367  d01_REFL_COM_20101024-0000_35_35_240     NCARSTORM             d01   \n",
       "368  d01_REFL_COM_20101024-0000_35_35_241     NCARSTORM             d01   \n",
       "369  d01_REFL_COM_20101024-0000_35_35_242     NCARSTORM             d01   \n",
       "\n",
       "                      Run_Date                 Valid_Date  Forecast_Hour  \\\n",
       "0    2010-10-24 00:00:00+00:00  2010-10-24 12:00:00+00:00             12   \n",
       "1    2010-10-24 00:00:00+00:00  2010-10-24 13:00:00+00:00             13   \n",
       "2    2010-10-24 00:00:00+00:00  2010-10-24 12:00:00+00:00             12   \n",
       "3    2010-10-24 00:00:00+00:00  2010-10-24 12:00:00+00:00             12   \n",
       "4    2010-10-24 00:00:00+00:00  2010-10-24 13:00:00+00:00             13   \n",
       "..                         ...                        ...            ...   \n",
       "365  2010-10-24 00:00:00+00:00  2010-10-25 11:00:00+00:00             35   \n",
       "366  2010-10-24 00:00:00+00:00  2010-10-25 11:00:00+00:00             35   \n",
       "367  2010-10-24 00:00:00+00:00  2010-10-25 11:00:00+00:00             35   \n",
       "368  2010-10-24 00:00:00+00:00  2010-10-25 11:00:00+00:00             35   \n",
       "369  2010-10-24 00:00:00+00:00  2010-10-25 11:00:00+00:00             35   \n",
       "\n",
       "     Valid_Hour_UTC  Duration  Centroid_Lon  ...  eccentricity  \\\n",
       "0                12         1     -98.41019  ...       0.90735   \n",
       "1                13         2     -97.69198  ...       0.85356   \n",
       "2                12         1     -95.15486  ...       0.71815   \n",
       "3                12         1     -94.39792  ...       0.58687   \n",
       "4                13         2     -94.21008  ...       0.91899   \n",
       "..              ...       ...           ...  ...           ...   \n",
       "365              11         1     -85.94177  ...       0.44428   \n",
       "366              11         1     -85.16997  ...       0.85947   \n",
       "367              11         1     -88.18374  ...       0.92145   \n",
       "368              11         1     -82.50549  ...       0.93744   \n",
       "369              11         1     -81.38741  ...       0.97875   \n",
       "\n",
       "     major_axis_length  minor_axis_length  orientation  Matched  \\\n",
       "0             51.23550           21.53869      1.41172        0   \n",
       "1             26.92719           14.02906      1.13923        0   \n",
       "2              8.65894            6.02569      0.74301        0   \n",
       "3              7.89825            6.39509     -1.28875        0   \n",
       "4             27.65443           10.90375      0.32912        0   \n",
       "..                 ...                ...          ...      ...   \n",
       "365            6.31100            5.65396      1.29480        0   \n",
       "366           79.05277           40.41106      0.12811        0   \n",
       "367           18.05184            7.01316      0.99009        0   \n",
       "368           14.44305            5.02817     -0.19595        0   \n",
       "369           56.91919           11.67269      1.49626        0   \n",
       "\n",
       "     Max_Hail_Size  Num_Matches  Shape  Location  Scale  \n",
       "0                0            0      0         0      0  \n",
       "1                0            0      0         0      0  \n",
       "2                0            0      0         0      0  \n",
       "3                0            0      0         0      0  \n",
       "4                0            0      0         0      0  \n",
       "..             ...          ...    ...       ...    ...  \n",
       "365              0            0      0         0      0  \n",
       "366              0            0      0         0      0  \n",
       "367              0            0      0         0      0  \n",
       "368              0            0      0         0      0  \n",
       "369              0            0      0         0      0  \n",
       "\n",
       "[370 rows x 62 columns]"
      ]
     },
     "execution_count": 4,
     "metadata": {},
     "output_type": "execute_result"
    }
   ],
   "source": [
    "meta_ds"
   ]
  },
  {
   "cell_type": "code",
   "execution_count": 5,
   "id": "c79d60b9-85d9-478d-b771-53205df404ef",
   "metadata": {},
   "outputs": [
    {
     "name": "stdout",
     "output_type": "stream",
     "text": [
      "Train 0, /glade/scratch/lverhoef/WRF_all/track_data_hrrr_3km_nc_refl/NCARSTORM_20101024-0000_d01_model_patches.nc\n",
      "Train 10, /glade/scratch/lverhoef/WRF_all/track_data_hrrr_3km_nc_refl/NCARSTORM_20110201-0000_d01_model_patches.nc\n",
      "Train 20, /glade/scratch/lverhoef/WRF_all/track_data_hrrr_3km_nc_refl/NCARSTORM_20110326-0000_d01_model_patches.nc\n",
      "Train 30, /glade/scratch/lverhoef/WRF_all/track_data_hrrr_3km_nc_refl/NCARSTORM_20110414-0000_d01_model_patches.nc\n",
      "Train 40, /glade/scratch/lverhoef/WRF_all/track_data_hrrr_3km_nc_refl/NCARSTORM_20110425-0000_d01_model_patches.nc\n",
      "Train 50, /glade/scratch/lverhoef/WRF_all/track_data_hrrr_3km_nc_refl/NCARSTORM_20110522-0000_d01_model_patches.nc\n",
      "Train 60, /glade/scratch/lverhoef/WRF_all/track_data_hrrr_3km_nc_refl/NCARSTORM_20110605-0000_d01_model_patches.nc\n",
      "Train 70, /glade/scratch/lverhoef/WRF_all/track_data_hrrr_3km_nc_refl/NCARSTORM_20110615-0000_d01_model_patches.nc\n",
      "Train 80, /glade/scratch/lverhoef/WRF_all/track_data_hrrr_3km_nc_refl/NCARSTORM_20110625-0000_d01_model_patches.nc\n",
      "Train 90, /glade/scratch/lverhoef/WRF_all/track_data_hrrr_3km_nc_refl/NCARSTORM_20110712-0000_d01_model_patches.nc\n",
      "Train 100, /glade/scratch/lverhoef/WRF_all/track_data_hrrr_3km_nc_refl/NCARSTORM_20120218-0000_d01_model_patches.nc\n",
      "Validation 105, /glade/scratch/lverhoef/WRF_all/track_data_hrrr_3km_nc_refl/NCARSTORM_20120315-0000_d01_model_patches.nc\n",
      "Validation 115, /glade/scratch/lverhoef/WRF_all/track_data_hrrr_3km_nc_refl/NCARSTORM_20120401-0000_d01_model_patches.nc\n",
      "Test 120, /glade/scratch/lverhoef/WRF_all/track_data_hrrr_3km_nc_refl/NCARSTORM_20120409-0000_d01_model_patches.nc\n",
      "Test 130, /glade/scratch/lverhoef/WRF_all/track_data_hrrr_3km_nc_refl/NCARSTORM_20120503-0000_d01_model_patches.nc\n",
      "Test 140, /glade/scratch/lverhoef/WRF_all/track_data_hrrr_3km_nc_refl/NCARSTORM_20120529-0000_d01_model_patches.nc\n"
     ]
    }
   ],
   "source": [
    "# Pull selected variables from patch files and join into a single DataSet\n",
    "num_files = 150\n",
    "train_split = int(num_files*0.7)\n",
    "val_split = int(num_files*0.8)\n",
    "variables = [\"REFL_COM_curr\", \"masks\"]\n",
    "data_list = []\n",
    "for p, patch_file in enumerate(patch_files[0:train_split]):\n",
    "    if p % 10 == 0:\n",
    "        print(f'Train {p}, {patch_file}')\n",
    "    ds = xr.open_dataset(patch_file)\n",
    "    data_list.append(ds[variables].compute())\n",
    "    ds.close()\n",
    "input_train = xr.concat(data_list, dim=\"p\")[\"REFL_COM_curr\"].expand_dims(\"channel\", axis = -1)\n",
    "train_masks = xr.concat(data_list, dim=\"p\")[\"masks\"]\n",
    "data_list = []\n",
    "for p, patch_file in enumerate(patch_files[train_split:val_split]):\n",
    "    if p % 10 == 0:\n",
    "        print(f'Validation {train_split + p}, {patch_file}')\n",
    "    ds = xr.open_dataset(patch_file)\n",
    "    data_list.append(ds[variables].compute())\n",
    "    ds.close()\n",
    "input_val = xr.concat(data_list, dim=\"p\")[\"REFL_COM_curr\"].expand_dims(\"channel\", axis = -1)\n",
    "val_masks = xr.concat(data_list, dim=\"p\")[\"masks\"]\n",
    "data_list = []\n",
    "for p, patch_file in enumerate(patch_files[val_split:num_files]):\n",
    "    if p % 10 == 0:\n",
    "        print(f'Test {val_split + p}, {patch_file}')\n",
    "    ds = xr.open_dataset(patch_file)\n",
    "    data_list.append(ds[variables].compute())\n",
    "    ds.close()\n",
    "input_test = xr.concat(data_list, dim=\"p\")[\"REFL_COM_curr\"].expand_dims(\"channel\", axis = -1)\n",
    "test_masks = xr.concat(data_list, dim=\"p\")[\"masks\"]"
   ]
  },
  {
   "cell_type": "code",
   "execution_count": 6,
   "id": "aa2782d0-68d0-4968-a440-af88466dbf99",
   "metadata": {},
   "outputs": [
    {
     "name": "stdout",
     "output_type": "stream",
     "text": [
      "Train 0, /glade/scratch/lverhoef/WRF_all/track_data_hrrr_3km_csv_refl/track_step_NCARSTORM_d01_20101024-0000.csv\n",
      "Train 10, /glade/scratch/lverhoef/WRF_all/track_data_hrrr_3km_csv_refl/track_step_NCARSTORM_d01_20110201-0000.csv\n",
      "Train 20, /glade/scratch/lverhoef/WRF_all/track_data_hrrr_3km_csv_refl/track_step_NCARSTORM_d01_20110326-0000.csv\n",
      "Train 30, /glade/scratch/lverhoef/WRF_all/track_data_hrrr_3km_csv_refl/track_step_NCARSTORM_d01_20110414-0000.csv\n",
      "Train 40, /glade/scratch/lverhoef/WRF_all/track_data_hrrr_3km_csv_refl/track_step_NCARSTORM_d01_20110425-0000.csv\n",
      "Train 50, /glade/scratch/lverhoef/WRF_all/track_data_hrrr_3km_csv_refl/track_step_NCARSTORM_d01_20110522-0000.csv\n",
      "Train 60, /glade/scratch/lverhoef/WRF_all/track_data_hrrr_3km_csv_refl/track_step_NCARSTORM_d01_20110605-0000.csv\n",
      "Train 70, /glade/scratch/lverhoef/WRF_all/track_data_hrrr_3km_csv_refl/track_step_NCARSTORM_d01_20110615-0000.csv\n",
      "Train 80, /glade/scratch/lverhoef/WRF_all/track_data_hrrr_3km_csv_refl/track_step_NCARSTORM_d01_20110625-0000.csv\n",
      "Train 90, /glade/scratch/lverhoef/WRF_all/track_data_hrrr_3km_csv_refl/track_step_NCARSTORM_d01_20110712-0000.csv\n",
      "Train 100, /glade/scratch/lverhoef/WRF_all/track_data_hrrr_3km_csv_refl/track_step_NCARSTORM_d01_20120218-0000.csv\n",
      "Validation 105, /glade/scratch/lverhoef/WRF_all/track_data_hrrr_3km_csv_refl/track_step_NCARSTORM_d01_20120315-0000.csv\n",
      "Validation 115, /glade/scratch/lverhoef/WRF_all/track_data_hrrr_3km_csv_refl/track_step_NCARSTORM_d01_20120401-0000.csv\n",
      "Test 120, /glade/scratch/lverhoef/WRF_all/track_data_hrrr_3km_csv_refl/track_step_NCARSTORM_d01_20120409-0000.csv\n",
      "Test 130, /glade/scratch/lverhoef/WRF_all/track_data_hrrr_3km_csv_refl/track_step_NCARSTORM_d01_20120503-0000.csv\n",
      "Test 140, /glade/scratch/lverhoef/WRF_all/track_data_hrrr_3km_csv_refl/track_step_NCARSTORM_d01_20120529-0000.csv\n"
     ]
    }
   ],
   "source": [
    "# Pull variables from csv files and join into an array\n",
    "csv_variables = [\"major_axis_length\", \"minor_axis_length\"]\n",
    "csv_data_list = []\n",
    "for p, csv_file in enumerate(csv_files[0:train_split]):\n",
    "    if p % 10 == 0:\n",
    "        print(f'Train {p}, {csv_file}')\n",
    "    csv_ds = pd.read_csv(csv_file)\n",
    "    csv_data_list.append(csv_ds[csv_variables].to_xarray().rename({'index': 'p'}))\n",
    "output_train = xr.concat(csv_data_list, dim=\"p\").to_array().transpose()\n",
    "csv_data_list = []\n",
    "for p, csv_file in enumerate(csv_files[train_split:val_split]):\n",
    "    if p % 10 == 0:\n",
    "        print(f'Validation {train_split + p}, {csv_file}')\n",
    "    csv_ds = pd.read_csv(csv_file)\n",
    "    csv_data_list.append(csv_ds[csv_variables].to_xarray().rename({'index': 'p'}))\n",
    "output_val = xr.concat(csv_data_list, dim=\"p\").to_array().transpose()\n",
    "csv_data_list = []\n",
    "for p, csv_file in enumerate(csv_files[val_split:num_files]):\n",
    "    if p % 10 == 0:\n",
    "        print(f'Test {val_split + p}, {csv_file}')\n",
    "    csv_ds = pd.read_csv(csv_file)\n",
    "    csv_data_list.append(csv_ds[csv_variables].to_xarray().rename({'index': 'p'}))\n",
    "output_test = xr.concat(csv_data_list, dim=\"p\").to_array().transpose()"
   ]
  },
  {
   "cell_type": "code",
   "execution_count": 7,
   "id": "6ba59282-c914-467e-9556-f6e255de6dc5",
   "metadata": {},
   "outputs": [
    {
     "name": "stdout",
     "output_type": "stream",
     "text": [
      "(34061, 144, 144, 1)\n",
      "(4300, 144, 144, 1)\n",
      "(12985, 144, 144, 1)\n",
      "(34061, 2)\n",
      "(4300, 2)\n",
      "(12985, 2)\n"
     ]
    }
   ],
   "source": [
    "print(input_train.shape)\n",
    "print(input_val.shape)\n",
    "print(input_test.shape)\n",
    "print(output_train.shape)\n",
    "print(output_val.shape)\n",
    "print(output_test.shape)"
   ]
  },
  {
   "cell_type": "markdown",
   "id": "cfe28b71-ac47-4745-b79e-9f10fd1daf3e",
   "metadata": {
    "tags": []
   },
   "source": [
    "## Normalize data"
   ]
  },
  {
   "cell_type": "code",
   "execution_count": 8,
   "id": "4e9c6285-809f-4c27-bbc1-ce975bf8745d",
   "metadata": {
    "tags": []
   },
   "outputs": [],
   "source": [
    "# Normalize the training data\n",
    "scale_stats = pd.DataFrame(index=[0], columns=[\"mean\", \"sd\"])\n",
    "scale_stats.loc[0, \"mean\"] = input_train.mean()\n",
    "scale_stats.loc[0, \"sd\"] = input_train.std()\n",
    "input_train_norm = (input_train - scale_stats.loc[0, \"mean\"]) / scale_stats.loc[0, \"sd\"]\n",
    "input_val_norm = (input_val - scale_stats.loc[0, \"mean\"]) / scale_stats.loc[0, \"sd\"]\n",
    "input_test_norm = (input_test - scale_stats.loc[0, \"mean\"]) / scale_stats.loc[0, \"sd\"]"
   ]
  },
  {
   "cell_type": "code",
   "execution_count": 9,
   "id": "2c464134-2ccf-48b8-8fc4-1a26a1b36110",
   "metadata": {},
   "outputs": [],
   "source": [
    "# Normalize the output data\n",
    "output_scale_stats = pd.DataFrame(index=range(output_train.shape[-1]), columns=[\"mean\", \"sd\"])\n",
    "output_scale_stats.loc[:, \"mean\"] = output_train.mean(dim=\"p\")\n",
    "output_scale_stats.loc[:, \"sd\"] = output_train.std(dim=\"p\")\n",
    "output_train_norm = xr.DataArray(coords=output_train.coords, dims=output_train.dims)\n",
    "output_val_norm = xr.DataArray(coords=output_val.coords, dims=output_val.dims)\n",
    "output_test_norm = xr.DataArray(coords=output_test.coords, dims=output_test.dims)\n",
    "for i in range(output_train.shape[-1]):\n",
    "    output_train_norm[:, i] = (output_train[:, i] - output_scale_stats.loc[i, \"mean\"]) / output_scale_stats.loc[i, \"sd\"]\n",
    "    output_val_norm[:, i] = (output_val[:, i] - output_scale_stats.loc[i, \"mean\"]) / output_scale_stats.loc[i, \"sd\"]\n",
    "    output_test_norm[:, i] = (output_test[:, i] - output_scale_stats.loc[i, \"mean\"]) / output_scale_stats.loc[i, \"sd\"]"
   ]
  },
  {
   "cell_type": "markdown",
   "id": "c5354bbd-333d-49b6-a61d-53dc199ea1d0",
   "metadata": {
    "tags": []
   },
   "source": [
    "## RICNN"
   ]
  },
  {
   "cell_type": "code",
   "execution_count": 10,
   "id": "030d5d7a-e0ca-44ba-aad7-a3f778016d3f",
   "metadata": {},
   "outputs": [
    {
     "name": "stderr",
     "output_type": "stream",
     "text": [
      "2022-08-08 16:48:18.972494: I tensorflow/core/platform/cpu_feature_guard.cc:193] This TensorFlow binary is optimized with oneAPI Deep Neural Network Library (oneDNN) to use the following CPU instructions in performance-critical operations:  AVX2 AVX512F AVX512_VNNI FMA\n",
      "To enable them in other operations, rebuild TensorFlow with the appropriate compiler flags.\n",
      "2022-08-08 16:48:19.475736: I tensorflow/core/common_runtime/gpu/gpu_device.cc:1532] Created device /job:localhost/replica:0/task:0/device:GPU:0 with 30988 MB memory:  -> device: 0, name: Tesla V100-SXM2-32GB, pci bus id: 0000:89:00.0, compute capability: 7.0\n"
     ]
    }
   ],
   "source": [
    "ricnn_model = models.Sequential()\n",
    "ricnn_model.add(GDL_layers.RotEquivConv2D(32, (3, 3), rot_axis=False, input_shape=(144, 144, 1)))\n",
    "ricnn_model.add(GDL_layers.RotEquivPool2D((2, 2)))\n",
    "ricnn_model.add(GDL_layers.RotEquivConv2D(32, (3, 3)))\n",
    "ricnn_model.add(GDL_layers.RotEquivPool2D((2, 2)))\n",
    "ricnn_model.add(GDL_layers.RotEquivConv2D(64, (3, 3)))\n",
    "ricnn_model.add(GDL_layers.RotEquivPool2D((2, 2)))\n",
    "ricnn_model.add(GDL_layers.RotEquivConv2D(64, (3, 3)))\n",
    "ricnn_model.add(GDL_layers.RotEquivPool2D((2, 2)))\n",
    "ricnn_model.add(GDL_layers.RotEquivConv2D(128, (3, 3)))\n",
    "ricnn_model.add(GDL_layers.RotInvPool())\n",
    "ricnn_model.add(layers.Flatten())\n",
    "ricnn_model.add(layers.Dense(32, activation='relu'))\n",
    "ricnn_model.add(layers.Dense(2))"
   ]
  },
  {
   "cell_type": "code",
   "execution_count": 11,
   "id": "cd1c9f33-1e73-4549-af85-ed5d8378b810",
   "metadata": {},
   "outputs": [
    {
     "name": "stdout",
     "output_type": "stream",
     "text": [
      "Model: \"sequential\"\n",
      "_________________________________________________________________\n",
      " Layer (type)                Output Shape              Param #   \n",
      "=================================================================\n",
      " rot_equiv_conv2d (RotEquivC  (None, 142, 142, 4, 32)  320       \n",
      " onv2D)                                                          \n",
      "                                                                 \n",
      " rot_equiv_pool2d (RotEquivP  (None, 71, 71, 4, 32)    0         \n",
      " ool2D)                                                          \n",
      "                                                                 \n",
      " rot_equiv_conv2d_1 (RotEqui  (None, 69, 69, 4, 32)    9248      \n",
      " vConv2D)                                                        \n",
      "                                                                 \n",
      " rot_equiv_pool2d_1 (RotEqui  (None, 34, 34, 4, 32)    0         \n",
      " vPool2D)                                                        \n",
      "                                                                 \n",
      " rot_equiv_conv2d_2 (RotEqui  (None, 32, 32, 4, 64)    18496     \n",
      " vConv2D)                                                        \n",
      "                                                                 \n",
      " rot_equiv_pool2d_2 (RotEqui  (None, 16, 16, 4, 64)    0         \n",
      " vPool2D)                                                        \n",
      "                                                                 \n",
      " rot_equiv_conv2d_3 (RotEqui  (None, 14, 14, 4, 64)    36928     \n",
      " vConv2D)                                                        \n",
      "                                                                 \n",
      " rot_equiv_pool2d_3 (RotEqui  (None, 7, 7, 4, 64)      0         \n",
      " vPool2D)                                                        \n",
      "                                                                 \n",
      " rot_equiv_conv2d_4 (RotEqui  (None, 5, 5, 4, 128)     73856     \n",
      " vConv2D)                                                        \n",
      "                                                                 \n",
      " rot_inv_pool (RotInvPool)   (None, 5, 5, 128)         0         \n",
      "                                                                 \n",
      " flatten (Flatten)           (None, 3200)              0         \n",
      "                                                                 \n",
      " dense (Dense)               (None, 32)                102432    \n",
      "                                                                 \n",
      " dense_1 (Dense)             (None, 2)                 66        \n",
      "                                                                 \n",
      "=================================================================\n",
      "Total params: 241,346\n",
      "Trainable params: 241,346\n",
      "Non-trainable params: 0\n",
      "_________________________________________________________________\n"
     ]
    }
   ],
   "source": [
    "ricnn_model.summary()"
   ]
  },
  {
   "cell_type": "code",
   "execution_count": 12,
   "id": "c3501077-3694-4e54-bd75-05d058329b3b",
   "metadata": {},
   "outputs": [],
   "source": [
    "ricnn_model.compile(\n",
    "    optimizer='nadam',\n",
    "    loss='mse',\n",
    "    metrics=['mse']\n",
    ")"
   ]
  },
  {
   "cell_type": "code",
   "execution_count": 13,
   "id": "9f0082d7-bb9a-434c-a9d5-fce4ec479b8b",
   "metadata": {},
   "outputs": [
    {
     "name": "stdout",
     "output_type": "stream",
     "text": [
      "WARNING:tensorflow:Keras is training/fitting/evaluating on array-like data. Keras may not be optimized for this format, so if your input data format is supported by TensorFlow I/O (https://github.com/tensorflow/io) we recommend using that to load a Dataset instead.\n",
      "Epoch 1/10\n"
     ]
    },
    {
     "name": "stderr",
     "output_type": "stream",
     "text": [
      "2022-08-08 16:48:25.134743: I tensorflow/stream_executor/cuda/cuda_dnn.cc:384] Loaded cuDNN version 8100\n"
     ]
    },
    {
     "name": "stdout",
     "output_type": "stream",
     "text": [
      "1065/1065 [==============================] - ETA: 0s - loss: 236.5443 - mse: 236.5443WARNING:tensorflow:Keras is training/fitting/evaluating on array-like data. Keras may not be optimized for this format, so if your input data format is supported by TensorFlow I/O (https://github.com/tensorflow/io) we recommend using that to load a Dataset instead.\n",
      "1065/1065 [==============================] - 84s 73ms/step - loss: 236.5443 - mse: 236.5443 - val_loss: 398.4081 - val_mse: 398.4081\n",
      "Epoch 2/10\n",
      "1065/1065 [==============================] - 77s 73ms/step - loss: 110.2549 - mse: 110.2549 - val_loss: 55.9066 - val_mse: 55.9066\n",
      "Epoch 3/10\n",
      "1065/1065 [==============================] - 77s 72ms/step - loss: 66.0941 - mse: 66.0941 - val_loss: 40.9437 - val_mse: 40.9437\n",
      "Epoch 4/10\n",
      "1065/1065 [==============================] - 77s 73ms/step - loss: 44.5209 - mse: 44.5209 - val_loss: 36.8409 - val_mse: 36.8409\n",
      "Epoch 5/10\n",
      "1065/1065 [==============================] - 78s 73ms/step - loss: 33.8390 - mse: 33.8390 - val_loss: 42.3195 - val_mse: 42.3195\n",
      "Epoch 6/10\n",
      "1065/1065 [==============================] - 78s 73ms/step - loss: 25.9009 - mse: 25.9009 - val_loss: 28.7118 - val_mse: 28.7118\n",
      "Epoch 7/10\n",
      "1065/1065 [==============================] - 77s 73ms/step - loss: 21.1305 - mse: 21.1305 - val_loss: 22.5848 - val_mse: 22.5848\n",
      "Epoch 8/10\n",
      "1065/1065 [==============================] - 77s 73ms/step - loss: 18.7837 - mse: 18.7837 - val_loss: 31.1369 - val_mse: 31.1369\n",
      "Epoch 9/10\n",
      "1065/1065 [==============================] - 77s 72ms/step - loss: 16.5089 - mse: 16.5089 - val_loss: 23.3987 - val_mse: 23.3987\n",
      "Epoch 10/10\n",
      "1065/1065 [==============================] - 77s 72ms/step - loss: 14.4359 - mse: 14.4359 - val_loss: 22.7510 - val_mse: 22.7510\n"
     ]
    }
   ],
   "source": [
    "ricnn_history = ricnn_model.fit(x=input_train_norm, y=output_train, epochs=10, validation_data=(input_val_norm, output_val))"
   ]
  },
  {
   "cell_type": "markdown",
   "id": "393d7cdd-7569-4066-a4cd-e69917f78fc4",
   "metadata": {},
   "source": [
    "## Normalized output RICNN"
   ]
  },
  {
   "cell_type": "code",
   "execution_count": 14,
   "id": "f90f15cf-9e72-4785-b741-bd8a9b1933c2",
   "metadata": {},
   "outputs": [],
   "source": [
    "onorm_ricnn_model = models.Sequential()\n",
    "onorm_ricnn_model.add(GDL_layers.RotEquivConv2D(32, (3, 3), rot_axis=False, input_shape=(144, 144, 1)))\n",
    "onorm_ricnn_model.add(GDL_layers.RotEquivPool2D((2, 2)))\n",
    "onorm_ricnn_model.add(GDL_layers.RotEquivConv2D(32, (3, 3)))\n",
    "onorm_ricnn_model.add(GDL_layers.RotEquivPool2D((2, 2)))\n",
    "onorm_ricnn_model.add(GDL_layers.RotEquivConv2D(64, (3, 3)))\n",
    "onorm_ricnn_model.add(GDL_layers.RotEquivPool2D((2, 2)))\n",
    "onorm_ricnn_model.add(GDL_layers.RotEquivConv2D(64, (3, 3)))\n",
    "onorm_ricnn_model.add(GDL_layers.RotEquivPool2D((2, 2)))\n",
    "onorm_ricnn_model.add(GDL_layers.RotEquivConv2D(128, (3, 3)))\n",
    "onorm_ricnn_model.add(GDL_layers.RotInvPool())\n",
    "onorm_ricnn_model.add(layers.Flatten())\n",
    "onorm_ricnn_model.add(layers.Dense(32, activation='relu'))\n",
    "onorm_ricnn_model.add(layers.Dense(2))"
   ]
  },
  {
   "cell_type": "code",
   "execution_count": 15,
   "id": "e94bcfd8-92e5-4e22-85dc-18c4f542bb8f",
   "metadata": {},
   "outputs": [
    {
     "name": "stdout",
     "output_type": "stream",
     "text": [
      "Model: \"sequential_1\"\n",
      "_________________________________________________________________\n",
      " Layer (type)                Output Shape              Param #   \n",
      "=================================================================\n",
      " rot_equiv_conv2d_5 (RotEqui  (None, 142, 142, 4, 32)  320       \n",
      " vConv2D)                                                        \n",
      "                                                                 \n",
      " rot_equiv_pool2d_4 (RotEqui  (None, 71, 71, 4, 32)    0         \n",
      " vPool2D)                                                        \n",
      "                                                                 \n",
      " rot_equiv_conv2d_6 (RotEqui  (None, 69, 69, 4, 32)    9248      \n",
      " vConv2D)                                                        \n",
      "                                                                 \n",
      " rot_equiv_pool2d_5 (RotEqui  (None, 34, 34, 4, 32)    0         \n",
      " vPool2D)                                                        \n",
      "                                                                 \n",
      " rot_equiv_conv2d_7 (RotEqui  (None, 32, 32, 4, 64)    18496     \n",
      " vConv2D)                                                        \n",
      "                                                                 \n",
      " rot_equiv_pool2d_6 (RotEqui  (None, 16, 16, 4, 64)    0         \n",
      " vPool2D)                                                        \n",
      "                                                                 \n",
      " rot_equiv_conv2d_8 (RotEqui  (None, 14, 14, 4, 64)    36928     \n",
      " vConv2D)                                                        \n",
      "                                                                 \n",
      " rot_equiv_pool2d_7 (RotEqui  (None, 7, 7, 4, 64)      0         \n",
      " vPool2D)                                                        \n",
      "                                                                 \n",
      " rot_equiv_conv2d_9 (RotEqui  (None, 5, 5, 4, 128)     73856     \n",
      " vConv2D)                                                        \n",
      "                                                                 \n",
      " rot_inv_pool_1 (RotInvPool)  (None, 5, 5, 128)        0         \n",
      "                                                                 \n",
      " flatten_1 (Flatten)         (None, 3200)              0         \n",
      "                                                                 \n",
      " dense_2 (Dense)             (None, 32)                102432    \n",
      "                                                                 \n",
      " dense_3 (Dense)             (None, 2)                 66        \n",
      "                                                                 \n",
      "=================================================================\n",
      "Total params: 241,346\n",
      "Trainable params: 241,346\n",
      "Non-trainable params: 0\n",
      "_________________________________________________________________\n"
     ]
    }
   ],
   "source": [
    "onorm_ricnn_model.summary()"
   ]
  },
  {
   "cell_type": "code",
   "execution_count": 16,
   "id": "1ea0fa93-3fc2-4cb3-8fc5-f9bd66626aa2",
   "metadata": {},
   "outputs": [],
   "source": [
    "onorm_ricnn_model.compile(\n",
    "    optimizer='nadam',\n",
    "    loss='mse',\n",
    "    metrics=['mse']\n",
    ")"
   ]
  },
  {
   "cell_type": "code",
   "execution_count": 17,
   "id": "824c9d4c-a18c-45fc-9725-71d7f1f3f864",
   "metadata": {},
   "outputs": [
    {
     "name": "stdout",
     "output_type": "stream",
     "text": [
      "WARNING:tensorflow:Keras is training/fitting/evaluating on array-like data. Keras may not be optimized for this format, so if your input data format is supported by TensorFlow I/O (https://github.com/tensorflow/io) we recommend using that to load a Dataset instead.\n",
      "Epoch 1/10\n",
      "1064/1065 [============================>.] - ETA: 0s - loss: 0.2689 - mse: 0.2689WARNING:tensorflow:Keras is training/fitting/evaluating on array-like data. Keras may not be optimized for this format, so if your input data format is supported by TensorFlow I/O (https://github.com/tensorflow/io) we recommend using that to load a Dataset instead.\n",
      "1065/1065 [==============================] - 83s 74ms/step - loss: 0.2689 - mse: 0.2689 - val_loss: 0.0820 - val_mse: 0.0820\n",
      "Epoch 2/10\n",
      "1065/1065 [==============================] - 79s 74ms/step - loss: 0.1128 - mse: 0.1128 - val_loss: 0.0655 - val_mse: 0.0655\n",
      "Epoch 3/10\n",
      "1065/1065 [==============================] - 78s 74ms/step - loss: 0.0755 - mse: 0.0755 - val_loss: 0.0562 - val_mse: 0.0562\n",
      "Epoch 4/10\n",
      "1065/1065 [==============================] - 78s 74ms/step - loss: 0.0557 - mse: 0.0557 - val_loss: 0.0633 - val_mse: 0.0633\n",
      "Epoch 5/10\n",
      "1065/1065 [==============================] - 80s 75ms/step - loss: 0.0426 - mse: 0.0426 - val_loss: 0.0513 - val_mse: 0.0513\n",
      "Epoch 6/10\n",
      "1065/1065 [==============================] - 79s 74ms/step - loss: 0.0371 - mse: 0.0371 - val_loss: 0.0951 - val_mse: 0.0951\n",
      "Epoch 7/10\n",
      "1065/1065 [==============================] - 78s 73ms/step - loss: 0.0351 - mse: 0.0351 - val_loss: 0.0378 - val_mse: 0.0378\n",
      "Epoch 8/10\n",
      "1065/1065 [==============================] - 78s 74ms/step - loss: 0.0316 - mse: 0.0316 - val_loss: 0.0387 - val_mse: 0.0387\n",
      "Epoch 9/10\n",
      "1065/1065 [==============================] - 78s 74ms/step - loss: 0.0294 - mse: 0.0294 - val_loss: 0.0452 - val_mse: 0.0452\n",
      "Epoch 10/10\n",
      "1065/1065 [==============================] - 78s 73ms/step - loss: 0.0259 - mse: 0.0259 - val_loss: 0.0362 - val_mse: 0.0362\n"
     ]
    }
   ],
   "source": [
    "onorm_ricnn_history = onorm_ricnn_model.fit(x=input_train_norm, y=output_train_norm, epochs=10, validation_data=(input_val_norm, output_val_norm))"
   ]
  },
  {
   "cell_type": "markdown",
   "id": "575adea9-5913-4d78-b14b-39f9ac58d9e2",
   "metadata": {
    "tags": []
   },
   "source": [
    "## CNN"
   ]
  },
  {
   "cell_type": "code",
   "execution_count": 18,
   "id": "c23214ad-a70a-4609-93ab-de5484f01243",
   "metadata": {
    "tags": []
   },
   "outputs": [],
   "source": [
    "cnn_model = models.Sequential()\n",
    "cnn_model.add(layers.Conv2D(32, (3, 3), activation='relu', input_shape=(144, 144, 1)))\n",
    "cnn_model.add(layers.MaxPooling2D((2, 2)))\n",
    "cnn_model.add(layers.Conv2D(32, (3, 3), activation='relu'))\n",
    "cnn_model.add(layers.MaxPooling2D((2, 2)))\n",
    "cnn_model.add(layers.Conv2D(64, (3, 3), activation='relu'))\n",
    "cnn_model.add(layers.MaxPooling2D((2, 2)))\n",
    "cnn_model.add(layers.Conv2D(64, (3, 3), activation='relu'))\n",
    "cnn_model.add(layers.MaxPooling2D((2, 2)))\n",
    "cnn_model.add(layers.Conv2D(128, (3, 3), activation='relu'))\n",
    "cnn_model.add(layers.Flatten())\n",
    "cnn_model.add(layers.Dense(32, activation='relu'))\n",
    "cnn_model.add(layers.Dense(2))"
   ]
  },
  {
   "cell_type": "code",
   "execution_count": 19,
   "id": "65c2d141-3e14-4725-ab5d-2a1ca7dd17b9",
   "metadata": {},
   "outputs": [
    {
     "name": "stdout",
     "output_type": "stream",
     "text": [
      "Model: \"sequential_2\"\n",
      "_________________________________________________________________\n",
      " Layer (type)                Output Shape              Param #   \n",
      "=================================================================\n",
      " conv2d (Conv2D)             (None, 142, 142, 32)      320       \n",
      "                                                                 \n",
      " max_pooling2d_8 (MaxPooling  (None, 71, 71, 32)       0         \n",
      " 2D)                                                             \n",
      "                                                                 \n",
      " conv2d_1 (Conv2D)           (None, 69, 69, 32)        9248      \n",
      "                                                                 \n",
      " max_pooling2d_9 (MaxPooling  (None, 34, 34, 32)       0         \n",
      " 2D)                                                             \n",
      "                                                                 \n",
      " conv2d_2 (Conv2D)           (None, 32, 32, 64)        18496     \n",
      "                                                                 \n",
      " max_pooling2d_10 (MaxPoolin  (None, 16, 16, 64)       0         \n",
      " g2D)                                                            \n",
      "                                                                 \n",
      " conv2d_3 (Conv2D)           (None, 14, 14, 64)        36928     \n",
      "                                                                 \n",
      " max_pooling2d_11 (MaxPoolin  (None, 7, 7, 64)         0         \n",
      " g2D)                                                            \n",
      "                                                                 \n",
      " conv2d_4 (Conv2D)           (None, 5, 5, 128)         73856     \n",
      "                                                                 \n",
      " flatten_2 (Flatten)         (None, 3200)              0         \n",
      "                                                                 \n",
      " dense_4 (Dense)             (None, 32)                102432    \n",
      "                                                                 \n",
      " dense_5 (Dense)             (None, 2)                 66        \n",
      "                                                                 \n",
      "=================================================================\n",
      "Total params: 241,346\n",
      "Trainable params: 241,346\n",
      "Non-trainable params: 0\n",
      "_________________________________________________________________\n"
     ]
    }
   ],
   "source": [
    "cnn_model.summary()"
   ]
  },
  {
   "cell_type": "code",
   "execution_count": 20,
   "id": "858bd2cd-4066-455c-a7dd-7464a3735fe0",
   "metadata": {},
   "outputs": [],
   "source": [
    "cnn_model.compile(\n",
    "    optimizer='nadam',\n",
    "    loss='mse',\n",
    "    metrics=['mse']\n",
    ")"
   ]
  },
  {
   "cell_type": "code",
   "execution_count": 21,
   "id": "390f7113-42ec-4bfc-b024-80738a84ecfb",
   "metadata": {},
   "outputs": [
    {
     "name": "stdout",
     "output_type": "stream",
     "text": [
      "WARNING:tensorflow:Keras is training/fitting/evaluating on array-like data. Keras may not be optimized for this format, so if your input data format is supported by TensorFlow I/O (https://github.com/tensorflow/io) we recommend using that to load a Dataset instead.\n",
      "Epoch 1/10\n",
      "1062/1065 [============================>.] - ETA: 0s - loss: 242.7823 - mse: 242.7823WARNING:tensorflow:Keras is training/fitting/evaluating on array-like data. Keras may not be optimized for this format, so if your input data format is supported by TensorFlow I/O (https://github.com/tensorflow/io) we recommend using that to load a Dataset instead.\n",
      "1065/1065 [==============================] - 21s 19ms/step - loss: 242.6957 - mse: 242.6957 - val_loss: 134.9433 - val_mse: 134.9433\n",
      "Epoch 2/10\n",
      "1065/1065 [==============================] - 19s 18ms/step - loss: 150.7895 - mse: 150.7895 - val_loss: 71.1904 - val_mse: 71.1904\n",
      "Epoch 3/10\n",
      "1065/1065 [==============================] - 18s 17ms/step - loss: 110.6775 - mse: 110.6775 - val_loss: 59.7966 - val_mse: 59.7966\n",
      "Epoch 4/10\n",
      "1065/1065 [==============================] - 19s 18ms/step - loss: 83.1654 - mse: 83.1654 - val_loss: 77.6603 - val_mse: 77.6603\n",
      "Epoch 5/10\n",
      "1065/1065 [==============================] - 19s 17ms/step - loss: 66.2518 - mse: 66.2518 - val_loss: 98.0538 - val_mse: 98.0538\n",
      "Epoch 6/10\n",
      "1065/1065 [==============================] - 19s 17ms/step - loss: 53.1222 - mse: 53.1222 - val_loss: 40.6488 - val_mse: 40.6488\n",
      "Epoch 7/10\n",
      "1065/1065 [==============================] - 19s 18ms/step - loss: 44.7456 - mse: 44.7456 - val_loss: 44.4611 - val_mse: 44.4611\n",
      "Epoch 8/10\n",
      "1065/1065 [==============================] - 19s 18ms/step - loss: 39.0832 - mse: 39.0832 - val_loss: 35.3157 - val_mse: 35.3157\n",
      "Epoch 9/10\n",
      "1065/1065 [==============================] - 19s 18ms/step - loss: 32.3008 - mse: 32.3008 - val_loss: 64.4445 - val_mse: 64.4445\n",
      "Epoch 10/10\n",
      "1065/1065 [==============================] - 19s 18ms/step - loss: 28.1270 - mse: 28.1270 - val_loss: 34.1709 - val_mse: 34.1709\n"
     ]
    }
   ],
   "source": [
    "cnn_history = cnn_model.fit(x=input_train_norm, y=output_train, epochs=10, validation_data=(input_val_norm, output_val))"
   ]
  },
  {
   "cell_type": "markdown",
   "id": "4842e1cc-35ed-4268-8d08-88fe8989a779",
   "metadata": {
    "tags": []
   },
   "source": [
    "## Output Normalized CNN"
   ]
  },
  {
   "cell_type": "code",
   "execution_count": 22,
   "id": "c218aefd-0016-4d72-993e-a856b3508c27",
   "metadata": {
    "tags": []
   },
   "outputs": [],
   "source": [
    "onorm_cnn_model = models.Sequential()\n",
    "onorm_cnn_model.add(layers.Conv2D(32, (3, 3), activation='relu', input_shape=(144, 144, 1)))\n",
    "onorm_cnn_model.add(layers.MaxPooling2D((2, 2)))\n",
    "onorm_cnn_model.add(layers.Conv2D(32, (3, 3), activation='relu'))\n",
    "onorm_cnn_model.add(layers.MaxPooling2D((2, 2)))\n",
    "onorm_cnn_model.add(layers.Conv2D(64, (3, 3), activation='relu'))\n",
    "onorm_cnn_model.add(layers.MaxPooling2D((2, 2)))\n",
    "onorm_cnn_model.add(layers.Conv2D(64, (3, 3), activation='relu'))\n",
    "onorm_cnn_model.add(layers.MaxPooling2D((2, 2)))\n",
    "onorm_cnn_model.add(layers.Conv2D(128, (3, 3), activation='relu'))\n",
    "onorm_cnn_model.add(layers.Flatten())\n",
    "onorm_cnn_model.add(layers.Dense(32, activation='relu'))\n",
    "onorm_cnn_model.add(layers.Dense(2))"
   ]
  },
  {
   "cell_type": "code",
   "execution_count": 23,
   "id": "61f6693c-a045-444c-8e82-a0a64d7a2f33",
   "metadata": {},
   "outputs": [
    {
     "name": "stdout",
     "output_type": "stream",
     "text": [
      "Model: \"sequential_3\"\n",
      "_________________________________________________________________\n",
      " Layer (type)                Output Shape              Param #   \n",
      "=================================================================\n",
      " conv2d_5 (Conv2D)           (None, 142, 142, 32)      320       \n",
      "                                                                 \n",
      " max_pooling2d_12 (MaxPoolin  (None, 71, 71, 32)       0         \n",
      " g2D)                                                            \n",
      "                                                                 \n",
      " conv2d_6 (Conv2D)           (None, 69, 69, 32)        9248      \n",
      "                                                                 \n",
      " max_pooling2d_13 (MaxPoolin  (None, 34, 34, 32)       0         \n",
      " g2D)                                                            \n",
      "                                                                 \n",
      " conv2d_7 (Conv2D)           (None, 32, 32, 64)        18496     \n",
      "                                                                 \n",
      " max_pooling2d_14 (MaxPoolin  (None, 16, 16, 64)       0         \n",
      " g2D)                                                            \n",
      "                                                                 \n",
      " conv2d_8 (Conv2D)           (None, 14, 14, 64)        36928     \n",
      "                                                                 \n",
      " max_pooling2d_15 (MaxPoolin  (None, 7, 7, 64)         0         \n",
      " g2D)                                                            \n",
      "                                                                 \n",
      " conv2d_9 (Conv2D)           (None, 5, 5, 128)         73856     \n",
      "                                                                 \n",
      " flatten_3 (Flatten)         (None, 3200)              0         \n",
      "                                                                 \n",
      " dense_6 (Dense)             (None, 32)                102432    \n",
      "                                                                 \n",
      " dense_7 (Dense)             (None, 2)                 66        \n",
      "                                                                 \n",
      "=================================================================\n",
      "Total params: 241,346\n",
      "Trainable params: 241,346\n",
      "Non-trainable params: 0\n",
      "_________________________________________________________________\n"
     ]
    }
   ],
   "source": [
    "onorm_cnn_model.summary()"
   ]
  },
  {
   "cell_type": "code",
   "execution_count": 24,
   "id": "09f7f5fc-a150-4e3f-bb71-8308289b984e",
   "metadata": {},
   "outputs": [],
   "source": [
    "onorm_cnn_model.compile(\n",
    "    optimizer='nadam',\n",
    "    loss='mse',\n",
    "    metrics=['mse']\n",
    ")"
   ]
  },
  {
   "cell_type": "code",
   "execution_count": 25,
   "id": "524d734b-7968-4f16-96e2-653fee39b2be",
   "metadata": {},
   "outputs": [
    {
     "name": "stdout",
     "output_type": "stream",
     "text": [
      "WARNING:tensorflow:Keras is training/fitting/evaluating on array-like data. Keras may not be optimized for this format, so if your input data format is supported by TensorFlow I/O (https://github.com/tensorflow/io) we recommend using that to load a Dataset instead.\n",
      "Epoch 1/10\n",
      "1062/1065 [============================>.] - ETA: 0s - loss: 0.3118 - mse: 0.3118WARNING:tensorflow:Keras is training/fitting/evaluating on array-like data. Keras may not be optimized for this format, so if your input data format is supported by TensorFlow I/O (https://github.com/tensorflow/io) we recommend using that to load a Dataset instead.\n",
      "1065/1065 [==============================] - 20s 17ms/step - loss: 0.3115 - mse: 0.3115 - val_loss: 0.1667 - val_mse: 0.1667\n",
      "Epoch 2/10\n",
      "1065/1065 [==============================] - 17s 16ms/step - loss: 0.1803 - mse: 0.1803 - val_loss: 0.0931 - val_mse: 0.0931\n",
      "Epoch 3/10\n",
      "1065/1065 [==============================] - 17s 16ms/step - loss: 0.1236 - mse: 0.1236 - val_loss: 0.0826 - val_mse: 0.0826\n",
      "Epoch 4/10\n",
      "1065/1065 [==============================] - 18s 17ms/step - loss: 0.0885 - mse: 0.0885 - val_loss: 0.0608 - val_mse: 0.0608\n",
      "Epoch 5/10\n",
      "1065/1065 [==============================] - 17s 16ms/step - loss: 0.0719 - mse: 0.0719 - val_loss: 0.0559 - val_mse: 0.0559\n",
      "Epoch 6/10\n",
      "1065/1065 [==============================] - 18s 16ms/step - loss: 0.0533 - mse: 0.0533 - val_loss: 0.0634 - val_mse: 0.0634\n",
      "Epoch 7/10\n",
      "1065/1065 [==============================] - 18s 17ms/step - loss: 0.0447 - mse: 0.0447 - val_loss: 0.0963 - val_mse: 0.0963\n",
      "Epoch 8/10\n",
      "1065/1065 [==============================] - 18s 17ms/step - loss: 0.0408 - mse: 0.0408 - val_loss: 0.0513 - val_mse: 0.0513\n",
      "Epoch 9/10\n",
      "1065/1065 [==============================] - 18s 17ms/step - loss: 0.0337 - mse: 0.0337 - val_loss: 0.0472 - val_mse: 0.0472\n",
      "Epoch 10/10\n",
      "1065/1065 [==============================] - 18s 17ms/step - loss: 0.0294 - mse: 0.0294 - val_loss: 0.0491 - val_mse: 0.0491\n"
     ]
    }
   ],
   "source": [
    "onorm_cnn_history = onorm_cnn_model.fit(x=input_train_norm, y=output_train_norm, epochs=10, validation_data=(input_val_norm, output_val_norm))"
   ]
  },
  {
   "cell_type": "markdown",
   "id": "401c7c43-a0e2-4ea4-86c6-a242eeb3ef1c",
   "metadata": {
    "tags": []
   },
   "source": [
    "## History Plots"
   ]
  },
  {
   "cell_type": "code",
   "execution_count": 26,
   "id": "beecd093-f2fd-443f-9437-bb6252bec26c",
   "metadata": {},
   "outputs": [
    {
     "data": {
      "text/plain": [
       "(0.0, 417.60675559043887)"
      ]
     },
     "execution_count": 26,
     "metadata": {},
     "output_type": "execute_result"
    },
    {
     "data": {
      "image/png": "[encoded data removed]",
      "text/plain": [
       "<Figure size 720x576 with 1 Axes>"
      ]
     },
     "metadata": {
      "needs_background": "light"
     },
     "output_type": "display_data"
    }
   ],
   "source": [
    "F, ax = plt.subplots(figsize=(10, 8))\n",
    "ax = plt.gca()\n",
    "a = ax.plot(cnn_history.history['mse'], label='training', color='orange')\n",
    "b = ax.plot(cnn_history.history['val_mse'], label='validation', color='orange', linestyle='dashed')\n",
    "c = ax.plot(ricnn_history.history['mse'], label='training', color='blue')\n",
    "d = ax.plot(ricnn_history.history['val_mse'], label='validation', color='blue', linestyle='dashed')\n",
    "ax.legend()\n",
    "ax.set_title(\"Unnormalized MSE History\")\n",
    "ax.set_ylim(bottom=0)"
   ]
  },
  {
   "cell_type": "code",
   "execution_count": 27,
   "id": "edc852e0-9164-4a0c-a40b-5ba0732cd099",
   "metadata": {},
   "outputs": [
    {
     "data": {
      "text/plain": [
       "(0.0, 0.32575002806261183)"
      ]
     },
     "execution_count": 27,
     "metadata": {},
     "output_type": "execute_result"
    },
    {
     "data": {
      "image/png": "[encoded data removed]",
      "text/plain": [
       "<Figure size 720x576 with 1 Axes>"
      ]
     },
     "metadata": {
      "needs_background": "light"
     },
     "output_type": "display_data"
    }
   ],
   "source": [
    "F, ax = plt.subplots(figsize=(10, 8))\n",
    "ax = plt.gca()\n",
    "a = ax.plot(onorm_cnn_history.history['mse'], label='training', color='orange')\n",
    "b = ax.plot(onorm_cnn_history.history['val_mse'], label='validation', color='orange', linestyle='dashed')\n",
    "c = ax.plot(onorm_ricnn_history.history['mse'], label='training', color='blue')\n",
    "d = ax.plot(onorm_ricnn_history.history['val_mse'], label='validation', color='blue', linestyle='dashed')\n",
    "ax.legend()\n",
    "ax.set_title(\"Normalized MSE History\")\n",
    "ax.set_ylim(bottom=0)"
   ]
  },
  {
   "cell_type": "markdown",
   "id": "1bf46a03-b623-4516-96c7-775b4df752cf",
   "metadata": {
    "tags": []
   },
   "source": [
    "## Save and load models"
   ]
  },
  {
   "cell_type": "code",
   "execution_count": 28,
   "id": "c29e4b0c-feec-4909-ac3f-770f6fae959a",
   "metadata": {},
   "outputs": [
    {
     "name": "stdout",
     "output_type": "stream",
     "text": [
      "INFO:tensorflow:Assets written to: saved_models/initial_rot_inv_CNN/ricnn_model/assets\n"
     ]
    },
    {
     "name": "stderr",
     "output_type": "stream",
     "text": [
      "WARNING:absl:Found untraced functions such as _jit_compiled_convolution_op, _jit_compiled_convolution_op, _jit_compiled_convolution_op, _jit_compiled_convolution_op, _jit_compiled_convolution_op while saving (showing 5 of 5). These functions will not be directly callable after loading.\n"
     ]
    },
    {
     "name": "stdout",
     "output_type": "stream",
     "text": [
      "INFO:tensorflow:Assets written to: saved_models/initial_rot_inv_CNN/cnn_model/assets\n"
     ]
    },
    {
     "name": "stderr",
     "output_type": "stream",
     "text": [
      "INFO:tensorflow:Assets written to: saved_models/initial_rot_inv_CNN/cnn_model/assets\n"
     ]
    }
   ],
   "source": [
    "ricnn_model.save(\"saved_models/initial_rot_inv_CNN/ricnn_model\")\n",
    "cnn_model.save(\"saved_models/initial_rot_inv_CNN/cnn_model\")"
   ]
  },
  {
   "cell_type": "code",
   "execution_count": 29,
   "id": "9d3cb862-caed-4e10-a49e-f1cdc28518fd",
   "metadata": {},
   "outputs": [],
   "source": [
    "ricnn_model = tf.keras.models.load_model(\"saved_models/initial_rot_inv_CNN/ricnn_model\")\n",
    "cnn_model = tf.keras.models.load_model(\"saved_models/initial_rot_inv_CNN/cnn_model\")"
   ]
  },
  {
   "cell_type": "markdown",
   "id": "49026b70-ff51-40a7-9753-5d9f66de3d42",
   "metadata": {
    "tags": []
   },
   "source": [
    "## Evaluate models"
   ]
  },
  {
   "cell_type": "code",
   "execution_count": 30,
   "id": "65863f20-60d5-474e-96df-7c29eb2d38b8",
   "metadata": {},
   "outputs": [
    {
     "name": "stdout",
     "output_type": "stream",
     "text": [
      "WARNING:tensorflow:Keras is training/fitting/evaluating on array-like data. Keras may not be optimized for this format, so if your input data format is supported by TensorFlow I/O (https://github.com/tensorflow/io) we recommend using that to load a Dataset instead.\n"
     ]
    },
    {
     "name": "stderr",
     "output_type": "stream",
     "text": [
      "WARNING:tensorflow:Keras is training/fitting/evaluating on array-like data. Keras may not be optimized for this format, so if your input data format is supported by TensorFlow I/O (https://github.com/tensorflow/io) we recommend using that to load a Dataset instead.\n"
     ]
    },
    {
     "name": "stdout",
     "output_type": "stream",
     "text": [
      "406/406 [==============================] - 12s 28ms/step - loss: 835.6879 - mse: 835.6879\n"
     ]
    },
    {
     "data": {
      "text/plain": [
       "[835.6878662109375, 835.6878662109375]"
      ]
     },
     "execution_count": 30,
     "metadata": {},
     "output_type": "execute_result"
    }
   ],
   "source": [
    "ricnn_model.evaluate(input_test_norm, output_test_norm)"
   ]
  },
  {
   "cell_type": "code",
   "execution_count": 31,
   "id": "274b503a-a3c0-47df-a8b0-fa01d35a44d9",
   "metadata": {},
   "outputs": [
    {
     "name": "stdout",
     "output_type": "stream",
     "text": [
      "WARNING:tensorflow:Keras is training/fitting/evaluating on array-like data. Keras may not be optimized for this format, so if your input data format is supported by TensorFlow I/O (https://github.com/tensorflow/io) we recommend using that to load a Dataset instead.\n"
     ]
    },
    {
     "name": "stderr",
     "output_type": "stream",
     "text": [
      "WARNING:tensorflow:Keras is training/fitting/evaluating on array-like data. Keras may not be optimized for this format, so if your input data format is supported by TensorFlow I/O (https://github.com/tensorflow/io) we recommend using that to load a Dataset instead.\n"
     ]
    },
    {
     "name": "stdout",
     "output_type": "stream",
     "text": [
      "406/406 [==============================] - 5s 12ms/step - loss: 811.7746 - mse: 811.7746\n"
     ]
    },
    {
     "data": {
      "text/plain": [
       "[811.7745971679688, 811.7745971679688]"
      ]
     },
     "execution_count": 31,
     "metadata": {},
     "output_type": "execute_result"
    }
   ],
   "source": [
    "cnn_model.evaluate(input_test_norm, output_test_norm)"
   ]
  },
  {
   "cell_type": "code",
   "execution_count": 32,
   "id": "eca6c174-bd09-4526-b54b-9ae15dc402b5",
   "metadata": {},
   "outputs": [
    {
     "name": "stdout",
     "output_type": "stream",
     "text": [
      "WARNING:tensorflow:Keras is training/fitting/evaluating on array-like data. Keras may not be optimized for this format, so if your input data format is supported by TensorFlow I/O (https://github.com/tensorflow/io) we recommend using that to load a Dataset instead.\n"
     ]
    },
    {
     "name": "stderr",
     "output_type": "stream",
     "text": [
      "WARNING:tensorflow:Keras is training/fitting/evaluating on array-like data. Keras may not be optimized for this format, so if your input data format is supported by TensorFlow I/O (https://github.com/tensorflow/io) we recommend using that to load a Dataset instead.\n"
     ]
    },
    {
     "name": "stdout",
     "output_type": "stream",
     "text": [
      "406/406 [==============================] - 11s 28ms/step - loss: 0.0430 - mse: 0.0430\n"
     ]
    },
    {
     "data": {
      "text/plain": [
       "[0.0430118702352047, 0.0430118702352047]"
      ]
     },
     "execution_count": 32,
     "metadata": {},
     "output_type": "execute_result"
    }
   ],
   "source": [
    "onorm_ricnn_model.evaluate(input_test_norm, output_test_norm)"
   ]
  },
  {
   "cell_type": "code",
   "execution_count": 33,
   "id": "beace317-25b7-48a9-8e3f-ba0b77eaf8bd",
   "metadata": {},
   "outputs": [
    {
     "name": "stdout",
     "output_type": "stream",
     "text": [
      "WARNING:tensorflow:Keras is training/fitting/evaluating on array-like data. Keras may not be optimized for this format, so if your input data format is supported by TensorFlow I/O (https://github.com/tensorflow/io) we recommend using that to load a Dataset instead.\n"
     ]
    },
    {
     "name": "stderr",
     "output_type": "stream",
     "text": [
      "WARNING:tensorflow:Keras is training/fitting/evaluating on array-like data. Keras may not be optimized for this format, so if your input data format is supported by TensorFlow I/O (https://github.com/tensorflow/io) we recommend using that to load a Dataset instead.\n"
     ]
    },
    {
     "name": "stdout",
     "output_type": "stream",
     "text": [
      "406/406 [==============================] - 4s 11ms/step - loss: 0.0622 - mse: 0.0622\n"
     ]
    },
    {
     "data": {
      "text/plain": [
       "[0.06222842261195183, 0.06222842261195183]"
      ]
     },
     "execution_count": 33,
     "metadata": {},
     "output_type": "execute_result"
    }
   ],
   "source": [
    "onorm_cnn_model.evaluate(input_test_norm, output_test_norm)"
   ]
  },
  {
   "cell_type": "code",
   "execution_count": null,
   "id": "75533ae6-39b2-46ab-8cf1-ec28c49b4005",
   "metadata": {},
   "outputs": [],
   "source": []
  }
 ],
 "metadata": {
  "kernelspec": {
   "display_name": "Python [conda env:.conda-storm-mode]",
   "language": "python",
   "name": "conda-env-.conda-storm-mode-py"
  },
  "language_info": {
   "codemirror_mode": {
    "name": "ipython",
    "version": 3
   },
   "file_extension": ".py",
   "mimetype": "text/x-python",
   "name": "python",
   "nbconvert_exporter": "python",
   "pygments_lexer": "ipython3",
   "version": "3.10.4"
  }
 },
 "nbformat": 4,
 "nbformat_minor": 5
}
