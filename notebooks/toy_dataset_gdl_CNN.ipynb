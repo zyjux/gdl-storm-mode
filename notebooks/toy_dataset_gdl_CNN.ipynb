{
 "cells": [
  {
   "cell_type": "code",
   "execution_count": 2,
   "id": "db804398-de62-47f8-a25f-94b30aa74f5c",
   "metadata": {},
   "outputs": [
    {
     "name": "stderr",
     "output_type": "stream",
     "text": [
      "<frozen importlib._bootstrap>:241: RuntimeWarning: numpy.ndarray size changed, may indicate binary incompatibility. Expected 16 from C header, got 96 from PyObject\n"
     ]
    }
   ],
   "source": [
    "import tensorflow as tf\n",
    "from tensorflow.keras import layers, models\n",
    "import tensorflow.experimental.numpy as tfnp\n",
    "import xarray as xr\n",
    "import numpy as np"
   ]
  },
  {
   "cell_type": "code",
   "execution_count": 2,
   "id": "496ae890-6d88-458d-93a1-c6d234a1e129",
   "metadata": {},
   "outputs": [],
   "source": [
    "# Load data\n",
    "train_ds = xr.open_dataset(\"/glade/scratch/lverhoef/gdl_toy_ds/train_data.nc\")\n",
    "validation_ds = xr.open_dataset(\"/glade/scratch/lverhoef/gdl_toy_ds/validation_data.nc\")"
   ]
  },
  {
   "cell_type": "code",
   "execution_count": 13,
   "id": "29230aa5-2c3b-4f3e-96bb-a73948a33df7",
   "metadata": {},
   "outputs": [],
   "source": [
    "# Build a layer that implements 4 discrete rotational invariance\n",
    "class RotInvConv2D(tf.keras.layers.Layer):\n",
    "    def __init__(self, out_features, filt_shape, rot_axis=True, activation=tf.nn.relu, **kwargs):\n",
    "        super().__init__(**kwargs)\n",
    "        self.out_features = out_features\n",
    "        self.filt_shape = filt_shape\n",
    "        self.rot_axis = rot_axis\n",
    "        self.activation = activation\n",
    "\n",
    "    def build(self, input_shape):  # Create the layer when it is first called\n",
    "        self.in_features = input_shape[-1]\n",
    "        self.filt_shape = tf.concat([\n",
    "            self.filt_shape,  # Spatial dimensions\n",
    "            [self.in_features, self.out_features]\n",
    "        ], axis=0)\n",
    "        self.filt_base = tf.Variable(\n",
    "            tf.random.normal(self.filt_shape)  # Random initialization of filters\n",
    "        )\n",
    "\n",
    "    def call(self, inputs):  # Does the actual computation for each rotation\n",
    "        if self.rot_axis:  # If the rotation axis exists, concatenate along it\n",
    "            return self.activation(tf.stack([\n",
    "                tf.nn.convolution(tfnp.take(inputs, 0, axis=-2), self.filt_base),\n",
    "                tf.nn.convolution(tfnp.take(inputs, 1, axis=-2), tfnp.rot90(self.filt_base, k=1)),\n",
    "                tf.nn.convolution(tfnp.take(inputs, 2, axis=-2), tfnp.rot90(self.filt_base, k=2)),\n",
    "                tf.nn.convolution(tfnp.take(inputs, 3, axis=-2), tfnp.rot90(self.filt_base, k=3)),\n",
    "            ], axis=-2))\n",
    "        else:\n",
    "            return self.activation(tf.stack([  # Otherwise, create it then concatenate\n",
    "                tf.nn.convolution(inputs, self.filt_base),\n",
    "                tf.nn.convolution(inputs, tfnp.rot90(self.filt_base, k=1)),\n",
    "                tf.nn.convolution(inputs, tfnp.rot90(self.filt_base, k=2)),\n",
    "                tf.nn.convolution(inputs, tfnp.rot90(self.filt_base, k=3)),\n",
    "            ], axis=-2))"
   ]
  },
  {
   "cell_type": "code",
   "execution_count": 17,
   "id": "f9768433-51ab-42c9-8ff6-401690cb0c7b",
   "metadata": {},
   "outputs": [],
   "source": [
    "model = models.Sequential()\n",
    "model.add(RotInvConv2D(8, (3, 3), rot_axis=False, input_shape=(128, 128, 1)))\n",
    "model.add(RotInvConv2D(16, (3, 3)))\n",
    "model.add(RotInvConv2D(32, (3, 3)))"
   ]
  },
  {
   "cell_type": "code",
   "execution_count": 18,
   "id": "21f6eec7-4fea-4c4a-8504-632fe734f073",
   "metadata": {},
   "outputs": [
    {
     "name": "stdout",
     "output_type": "stream",
     "text": [
      "Model: \"sequential_5\"\n",
      "_________________________________________________________________\n",
      " Layer (type)                Output Shape              Param #   \n",
      "=================================================================\n",
      " rot_inv_conv2d_8 (RotInvCon  (None, 126, 126, 4, 8)   72        \n",
      " v2D)                                                            \n",
      "                                                                 \n",
      " rot_inv_conv2d_9 (RotInvCon  (None, 124, 124, 16, 16)  1152     \n",
      " v2D)                                                            \n",
      "                                                                 \n",
      " rot_inv_conv2d_10 (RotInvCo  (None, 122, 122, 64, 32)  4608     \n",
      " nv2D)                                                           \n",
      "                                                                 \n",
      "=================================================================\n",
      "Total params: 5,832\n",
      "Trainable params: 5,832\n",
      "Non-trainable params: 0\n",
      "_________________________________________________________________\n"
     ]
    }
   ],
   "source": [
    "model.summary()"
   ]
  },
  {
   "cell_type": "code",
   "execution_count": 16,
   "id": "a5ead09b-63f6-492a-bff3-220c870ab760",
   "metadata": {},
   "outputs": [
    {
     "data": {
      "text/plain": [
       "TensorShape([3, 4, 4, 2])"
      ]
     },
     "execution_count": 16,
     "metadata": {},
     "output_type": "execute_result"
    }
   ],
   "source": [
    "A.shape"
   ]
  },
  {
   "cell_type": "code",
   "execution_count": 14,
   "id": "4506e8aa-1881-420f-aa7a-89dc3b479de9",
   "metadata": {},
   "outputs": [],
   "source": [
    "init_layer = RotInvConv2D(8, (2, 2), False)\n",
    "B = init_layer(A)"
   ]
  },
  {
   "cell_type": "code",
   "execution_count": 15,
   "id": "3f09062c-297c-4213-8766-935555ba205c",
   "metadata": {},
   "outputs": [
    {
     "data": {
      "text/plain": [
       "TensorShape([3, 3, 3, 4, 8])"
      ]
     },
     "execution_count": 15,
     "metadata": {},
     "output_type": "execute_result"
    }
   ],
   "source": [
    "B.shape"
   ]
  },
  {
   "cell_type": "code",
   "execution_count": 17,
   "id": "fa0eb2d3-f428-4605-9fd6-39ccf92d422b",
   "metadata": {},
   "outputs": [],
   "source": [
    "next_layer = RotInvConv2D(16, (2, 2))\n",
    "C = next_layer(B)"
   ]
  },
  {
   "cell_type": "code",
   "execution_count": 19,
   "id": "14fa37ab-4170-455d-a05f-bf90f95c6899",
   "metadata": {},
   "outputs": [
    {
     "data": {
      "text/plain": [
       "TensorShape([3, 2, 2, 4, 16])"
      ]
     },
     "execution_count": 19,
     "metadata": {},
     "output_type": "execute_result"
    }
   ],
   "source": [
    "C.shape"
   ]
  },
  {
   "cell_type": "code",
   "execution_count": null,
   "id": "ea1597eb-b3fb-4293-8055-e556b812b3d9",
   "metadata": {},
   "outputs": [],
   "source": []
  }
 ],
 "metadata": {
  "kernelspec": {
   "display_name": "Python [conda env:.conda-storm-mode]",
   "language": "python",
   "name": "conda-env-.conda-storm-mode-py"
  },
  "language_info": {
   "codemirror_mode": {
    "name": "ipython",
    "version": 3
   },
   "file_extension": ".py",
   "mimetype": "text/x-python",
   "name": "python",
   "nbconvert_exporter": "python",
   "pygments_lexer": "ipython3",
   "version": "3.10.4"
  }
 },
 "nbformat": 4,
 "nbformat_minor": 5
}
