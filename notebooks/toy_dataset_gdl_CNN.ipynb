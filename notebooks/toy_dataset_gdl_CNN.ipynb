{
 "cells": [
  {
   "cell_type": "code",
   "execution_count": 2,
   "id": "db804398-de62-47f8-a25f-94b30aa74f5c",
   "metadata": {},
   "outputs": [
    {
     "name": "stderr",
     "output_type": "stream",
     "text": [
      "<frozen importlib._bootstrap>:241: RuntimeWarning: numpy.ndarray size changed, may indicate binary incompatibility. Expected 16 from C header, got 96 from PyObject\n"
     ]
    }
   ],
   "source": [
    "import tensorflow as tf\n",
    "from tensorflow.keras import layers, models\n",
    "import tensorflow.experimental.numpy as tfnp\n",
    "import xarray as xr\n",
    "import numpy as np"
   ]
  },
  {
   "cell_type": "code",
   "execution_count": 2,
   "id": "496ae890-6d88-458d-93a1-c6d234a1e129",
   "metadata": {},
   "outputs": [],
   "source": [
    "# Load data\n",
    "train_ds = xr.open_dataset(\"/glade/scratch/lverhoef/gdl_toy_ds/train_data.nc\")\n",
    "validation_ds = xr.open_dataset(\"/glade/scratch/lverhoef/gdl_toy_ds/validation_data.nc\")"
   ]
  },
  {
   "cell_type": "code",
   "execution_count": 13,
   "id": "29230aa5-2c3b-4f3e-96bb-a73948a33df7",
   "metadata": {},
   "outputs": [],
   "source": [
    "# Build a layer that implements 4 discrete rotational invariance\n",
    "class RotEquivConv2D(tf.keras.layers.Layer):\n",
    "    def __init__(self, out_features, filt_shape, rot_axis=True, activation=tf.nn.relu, **kwargs):\n",
    "        super().__init__(**kwargs)\n",
    "        self.out_features = out_features\n",
    "        self.filt_shape = filt_shape\n",
    "        self.rot_axis = rot_axis\n",
    "        self.activation = activation\n",
    "\n",
    "    def build(self, input_shape):  # Create the layer when it is first called\n",
    "        self.in_features = input_shape[-1]\n",
    "        self.filt_shape = tf.concat([\n",
    "            self.filt_shape,  # Spatial dimensions\n",
    "            [self.in_features, self.out_features]\n",
    "        ], axis=0)\n",
    "        self.filt_base = tf.Variable(\n",
    "            tf.random.normal(self.filt_shape)  # Random initialization of filters\n",
    "        )\n",
    "\n",
    "    def call(self, inputs):  # Does the actual computation for each rotation\n",
    "        if self.rot_axis:  # If the rotation axis exists, concatenate along it\n",
    "            return self.activation(tf.stack([\n",
    "                    tf.nn.convolution(\n",
    "                        tfnp.take(inputs, i, axis=-2),\n",
    "                        tfnp.rot90(self.filt_base, k=i))\n",
    "                    for i in range(inputs.shape[-2])],\n",
    "                axis=-2\n",
    "            ))\n",
    "        else:\n",
    "            return self.activation(tf.stack([  # Otherwise, create it then concatenate\n",
    "                tf.nn.convolution(inputs, self.filt_base),\n",
    "                tf.nn.convolution(inputs, tfnp.rot90(self.filt_base, k=1)),\n",
    "                tf.nn.convolution(inputs, tfnp.rot90(self.filt_base, k=2)),\n",
    "                tf.nn.convolution(inputs, tfnp.rot90(self.filt_base, k=3)),\n",
    "            ], axis=-2))"
   ]
  },
  {
   "cell_type": "code",
   "execution_count": 34,
   "id": "d86246b3-d1e4-4e15-9860-6e340e01ee39",
   "metadata": {},
   "outputs": [],
   "source": [
    "# Build a 2D pooling layer that pools within each rotational dimension\n",
    "class RotEquivPool2D(tf.keras.layers.Layer):\n",
    "    def __init__(self, pool_size, pool_method=tf.keras.layers.MaxPool2D, **kwargs):\n",
    "        super().__init__(**kwargs)\n",
    "        self.pool_size = pool_size\n",
    "        self.pool_method = pool_method\n",
    "        self.pool = self.pool_method(pool_size=self.pool_size)\n",
    "\n",
    "    def call(self, inputs):\n",
    "        return tf.stack(\n",
    "            [self.pool(tfnp.take(inputs, k, axis=-2)) for k in range(inputs.shape[-2])],\n",
    "            axis=-2\n",
    "        )"
   ]
  },
  {
   "cell_type": "code",
   "execution_count": 41,
   "id": "f9768433-51ab-42c9-8ff6-401690cb0c7b",
   "metadata": {},
   "outputs": [
    {
     "ename": "NameError",
     "evalue": "name 'RotEquivConv2D' is not defined",
     "output_type": "error",
     "traceback": [
      "\u001b[0;31m---------------------------------------------------------------------------\u001b[0m",
      "\u001b[0;31mNameError\u001b[0m                                 Traceback (most recent call last)",
      "Input \u001b[0;32mIn [41]\u001b[0m, in \u001b[0;36m<cell line: 2>\u001b[0;34m()\u001b[0m\n\u001b[1;32m      1\u001b[0m model \u001b[38;5;241m=\u001b[39m models\u001b[38;5;241m.\u001b[39mSequential()\n\u001b[0;32m----> 2\u001b[0m model\u001b[38;5;241m.\u001b[39madd(\u001b[43mRotEquivConv2D\u001b[49m(\u001b[38;5;241m8\u001b[39m, (\u001b[38;5;241m3\u001b[39m, \u001b[38;5;241m3\u001b[39m), rot_axis\u001b[38;5;241m=\u001b[39m\u001b[38;5;28;01mFalse\u001b[39;00m, input_shape\u001b[38;5;241m=\u001b[39m(\u001b[38;5;241m128\u001b[39m, \u001b[38;5;241m128\u001b[39m, \u001b[38;5;241m1\u001b[39m)))\n\u001b[1;32m      3\u001b[0m model\u001b[38;5;241m.\u001b[39madd(RotEquivPool2D((\u001b[38;5;241m2\u001b[39m, \u001b[38;5;241m2\u001b[39m)))\n\u001b[1;32m      4\u001b[0m model\u001b[38;5;241m.\u001b[39madd(RotEquivConv2D(\u001b[38;5;241m16\u001b[39m, (\u001b[38;5;241m3\u001b[39m, \u001b[38;5;241m3\u001b[39m)))\n",
      "\u001b[0;31mNameError\u001b[0m: name 'RotEquivConv2D' is not defined"
     ]
    }
   ],
   "source": [
    "model = models.Sequential()\n",
    "model.add(RotEquivConv2D(8, (3, 3), rot_axis=False, input_shape=(128, 128, 1)))\n",
    "model.add(RotEquivPool2D((2, 2)))\n",
    "model.add(RotEquivConv2D(16, (3, 3)))\n",
    "model.add(RotEquivPool2D((2, 2)))\n",
    "model.add(RotEquivConv2D(32, (3, 3)))\n",
    "model.add(RotEquivPool2D((2, 2)))"
   ]
  },
  {
   "cell_type": "code",
   "execution_count": 21,
   "id": "21f6eec7-4fea-4c4a-8504-632fe734f073",
   "metadata": {},
   "outputs": [
    {
     "name": "stdout",
     "output_type": "stream",
     "text": [
      "Model: \"sequential\"\n",
      "_________________________________________________________________\n",
      " Layer (type)                Output Shape              Param #   \n",
      "=================================================================\n",
      " rot_inv_conv2d_4 (RotInvCon  (None, 126, 126, 4, 8)   72        \n",
      " v2D)                                                            \n",
      "                                                                 \n",
      " rot_inv_conv2d_5 (RotInvCon  (None, 124, 124, 4, 16)  1152      \n",
      " v2D)                                                            \n",
      "                                                                 \n",
      " rot_inv_conv2d_6 (RotInvCon  (None, 122, 122, 4, 32)  4608      \n",
      " v2D)                                                            \n",
      "                                                                 \n",
      "=================================================================\n",
      "Total params: 5,832\n",
      "Trainable params: 5,832\n",
      "Non-trainable params: 0\n",
      "_________________________________________________________________\n"
     ]
    }
   ],
   "source": [
    "model.summary()"
   ]
  },
  {
   "cell_type": "code",
   "execution_count": 37,
   "id": "a65ac5e1-8b98-4714-b085-425d621db43b",
   "metadata": {},
   "outputs": [
    {
     "data": {
      "text/plain": [
       "<tf.Tensor: shape=(3, 3, 3, 4), dtype=float32, numpy=\n",
       "array([[[[0.        , 0.        , 0.43772304, 0.        ],\n",
       "         [1.3640386 , 0.        , 1.7690954 , 0.        ],\n",
       "         [0.        , 2.5217226 , 0.        , 1.5063541 ]],\n",
       "\n",
       "        [[1.4709724 , 0.        , 2.8582454 , 0.        ],\n",
       "         [0.        , 0.        , 0.        , 1.1099697 ],\n",
       "         [0.        , 1.4837714 , 0.13736852, 2.8603058 ]],\n",
       "\n",
       "        [[0.        , 5.5206537 , 0.        , 4.1514945 ],\n",
       "         [1.1968007 , 0.        , 3.8705645 , 0.        ],\n",
       "         [0.66617167, 1.6762189 , 3.0199127 , 2.7503014 ]]],\n",
       "\n",
       "\n",
       "       [[[2.2047439 , 0.5287634 , 2.4941406 , 1.5711395 ],\n",
       "         [0.        , 3.7656643 , 0.        , 1.0882193 ],\n",
       "         [0.        , 0.        , 0.39570844, 1.140449  ]],\n",
       "\n",
       "        [[0.        , 0.        , 0.        , 2.1528885 ],\n",
       "         [0.        , 1.002754  , 0.        , 0.5949199 ],\n",
       "         [0.        , 0.6840533 , 1.1966977 , 1.9588431 ]],\n",
       "\n",
       "        [[0.        , 0.        , 4.601345  , 0.        ],\n",
       "         [0.        , 2.1278765 , 0.6511489 , 1.0381601 ],\n",
       "         [2.1942542 , 0.        , 3.4858563 , 0.        ]]],\n",
       "\n",
       "\n",
       "       [[[0.        , 1.3524477 , 0.        , 0.        ],\n",
       "         [0.        , 0.        , 1.3281293 , 0.        ],\n",
       "         [4.753121  , 0.        , 2.984871  , 0.        ]],\n",
       "\n",
       "        [[0.631684  , 0.58903754, 0.12777297, 0.        ],\n",
       "         [0.34843442, 0.        , 0.10688572, 0.        ],\n",
       "         [0.        , 0.53400505, 0.        , 0.32439283]],\n",
       "\n",
       "        [[0.62685144, 0.13743472, 0.10149253, 0.        ],\n",
       "         [0.        , 0.        , 0.        , 0.        ],\n",
       "         [0.        , 0.6934365 , 0.        , 1.3313307 ]]]],\n",
       "      dtype=float32)>"
      ]
     },
     "execution_count": 37,
     "metadata": {},
     "output_type": "execute_result"
    }
   ],
   "source": [
    "tfnp.take(B, 0, axis=-1)"
   ]
  },
  {
   "cell_type": "code",
   "execution_count": 40,
   "id": "839acc93-69a1-45e4-9237-a988ef8497d5",
   "metadata": {},
   "outputs": [
    {
     "data": {
      "text/plain": [
       "<tf.Tensor: shape=(3, 1, 1, 4), dtype=float32, numpy=\n",
       "array([[[[1.4709724, 0.       , 2.8582454, 1.1099697]]],\n",
       "\n",
       "\n",
       "       [[[2.2047439, 3.7656643, 2.4941406, 2.1528885]]],\n",
       "\n",
       "\n",
       "       [[[0.631684 , 1.3524477, 1.3281293, 0.       ]]]], dtype=float32)>"
      ]
     },
     "execution_count": 40,
     "metadata": {},
     "output_type": "execute_result"
    }
   ],
   "source": [
    "pool = RotEquivPool2D((2, 2))\n",
    "tfnp.take(pool(B), 0, -1)"
   ]
  },
  {
   "cell_type": "code",
   "execution_count": null,
   "id": "22c12bef-80ce-4f24-b01c-d06af55be737",
   "metadata": {},
   "outputs": [],
   "source": []
  }
 ],
 "metadata": {
  "kernelspec": {
   "display_name": "Python [conda env:.conda-storm-mode]",
   "language": "python",
   "name": "conda-env-.conda-storm-mode-py"
  },
  "language_info": {
   "codemirror_mode": {
    "name": "ipython",
    "version": 3
   },
   "file_extension": ".py",
   "mimetype": "text/x-python",
   "name": "python",
   "nbconvert_exporter": "python",
   "pygments_lexer": "ipython3",
   "version": "3.10.4"
  }
 },
 "nbformat": 4,
 "nbformat_minor": 5
}
