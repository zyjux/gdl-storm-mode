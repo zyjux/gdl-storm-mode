{
 "cells": [
  {
   "cell_type": "code",
   "execution_count": 1,
   "id": "db804398-de62-47f8-a25f-94b30aa74f5c",
   "metadata": {},
   "outputs": [
    {
     "name": "stderr",
     "output_type": "stream",
     "text": [
      "2022-06-07 15:28:21.336637: I tensorflow/core/util/util.cc:169] oneDNN custom operations are on. You may see slightly different numerical results due to floating-point round-off errors from different computation orders. To turn them off, set the environment variable `TF_ENABLE_ONEDNN_OPTS=0`.\n"
     ]
    }
   ],
   "source": [
    "import tensorflow as tf\n",
    "from tensorflow.keras import layers, models\n",
    "import xarray as xr\n",
    "import numpy as np"
   ]
  },
  {
   "cell_type": "code",
   "execution_count": 2,
   "id": "496ae890-6d88-458d-93a1-c6d234a1e129",
   "metadata": {},
   "outputs": [],
   "source": [
    "# Load data\n",
    "train_ds = xr.open_dataset(\"/glade/scratch/lverhoef/gdl_toy_ds/train_data.nc\")\n",
    "validation_ds = xr.open_dataset(\"/glade/scratch/lverhoef/gdl_toy_ds/validation_data.nc\")"
   ]
  },
  {
   "cell_type": "code",
   "execution_count": 12,
   "id": "29230aa5-2c3b-4f3e-96bb-a73948a33df7",
   "metadata": {},
   "outputs": [],
   "source": [
    "# Build a layer that implements 4 discrete rotational invariance\n",
    "class RotInvConv2D(tf.keras.layers.Layer):\n",
    "    def __init__(self, out_features, filt_shape, rot_axis=True, activation=tf.nn.relu, **kwargs):\n",
    "        super().__init__(**kwargs)\n",
    "        self.out_features = out_features\n",
    "        self.filt_shape = filt_shape\n",
    "        self.rot_axis = rot_axis\n",
    "        self.activation = activation\n",
    "\n",
    "    def build(self, input_shape):  # Create the layer when it is first called\n",
    "        self.in_channels = input_shape[-1]\n",
    "        if self.rot_axis:\n",
    "            self.filt_shape_append = [1, self.in_channels, self.out_features]  # Rotation dimension, then number of channels in, number of base channels out\n",
    "        else:\n",
    "            self.filt_shape_append = [self.in_channels, self.out_features]  # Omitting rotation dimension if it has not yet been created\n",
    "        self.filt_shape = tf.concat([\n",
    "            self.filt_shape,  # Spatial dimensions\n",
    "            self.filt_shape_append\n",
    "        ], axis=0)\n",
    "        self.filt_base = tf.Variable(\n",
    "            tf.random.normal(self.filt_shape)  # Random initialization of filters\n",
    "        )\n",
    "\n",
    "    def call(self, inputs):  # Does the actual computation for each rotation\n",
    "        self.rot90 = tf.experimental.numpy.rot90  # Use TF implementation of numpy's rot90\n",
    "        if self.rot_axis:  # If the rotation axis exists, concatenate along it\n",
    "            return self.activation(tf.concat([\n",
    "                tf.nn.convolution(inputs, self.filt_base),\n",
    "                tf.nn.convolution(inputs, self.rot90(self.filt_base, k=1)),\n",
    "                tf.nn.convolution(inputs, self.rot90(self.filt_base, k=2)),\n",
    "                tf.nn.convolution(inputs, self.rot90(self.filt_base, k=3)),\n",
    "            ], axis=-2))\n",
    "        else:\n",
    "            return self.activation(tf.stack([  # Otherwise, create it then concatenate\n",
    "                tf.nn.convolution(inputs, self.filt_base),\n",
    "                tf.nn.convolution(inputs, self.rot90(self.filt_base, k=1)),\n",
    "                tf.nn.convolution(inputs, self.rot90(self.filt_base, k=2)),\n",
    "                tf.nn.convolution(inputs, self.rot90(self.filt_base, k=3)),\n",
    "            ], axis=-2))"
   ]
  },
  {
   "cell_type": "code",
   "execution_count": 9,
   "id": "f9768433-51ab-42c9-8ff6-401690cb0c7b",
   "metadata": {},
   "outputs": [],
   "source": [
    "model = models.Sequential()\n",
    "model.add(RotInvConv2D(8, (3, 3), rot_axis=False, input_shape=(128, 128, 1)))\n",
    "model.add(RotInvConv2D(8, (3, 3)))"
   ]
  },
  {
   "cell_type": "code",
   "execution_count": 11,
   "id": "21f6eec7-4fea-4c4a-8504-632fe734f073",
   "metadata": {},
   "outputs": [
    {
     "name": "stdout",
     "output_type": "stream",
     "text": [
      "Model: \"sequential_3\"\n",
      "_________________________________________________________________\n",
      " Layer (type)                Output Shape              Param #   \n",
      "=================================================================\n",
      " rot_inv_conv2d_3 (RotInvCon  (None, 126, 126, 4, 8)   72        \n",
      " v2D)                                                            \n",
      "                                                                 \n",
      " rot_inv_conv2d_4 (RotInvCon  (None, 124, 124, 16, 8)  576       \n",
      " v2D)                                                            \n",
      "                                                                 \n",
      "=================================================================\n",
      "Total params: 648\n",
      "Trainable params: 648\n",
      "Non-trainable params: 0\n",
      "_________________________________________________________________\n"
     ]
    }
   ],
   "source": [
    "model.summary()"
   ]
  },
  {
   "cell_type": "code",
   "execution_count": null,
   "id": "dc670518-9d01-4c1f-a32f-28200d407b7b",
   "metadata": {},
   "outputs": [],
   "source": []
  }
 ],
 "metadata": {
  "kernelspec": {
   "display_name": "Python [conda env:.conda-storm-mode]",
   "language": "python",
   "name": "conda-env-.conda-storm-mode-py"
  },
  "language_info": {
   "codemirror_mode": {
    "name": "ipython",
    "version": 3
   },
   "file_extension": ".py",
   "mimetype": "text/x-python",
   "name": "python",
   "nbconvert_exporter": "python",
   "pygments_lexer": "ipython3",
   "version": "3.10.4"
  }
 },
 "nbformat": 4,
 "nbformat_minor": 5
}
