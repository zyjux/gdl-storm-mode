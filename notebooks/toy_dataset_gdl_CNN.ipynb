{
 "cells": [
  {
   "cell_type": "code",
   "execution_count": 2,
   "id": "db804398-de62-47f8-a25f-94b30aa74f5c",
   "metadata": {},
   "outputs": [
    {
     "name": "stderr",
     "output_type": "stream",
     "text": [
      "<frozen importlib._bootstrap>:241: RuntimeWarning: numpy.ndarray size changed, may indicate binary incompatibility. Expected 16 from C header, got 96 from PyObject\n"
     ]
    }
   ],
   "source": [
    "import tensorflow as tf\n",
    "from tensorflow.keras import layers, models\n",
    "import tensorflow.experimental.numpy as tfnp\n",
    "import xarray as xr\n",
    "import numpy as np"
   ]
  },
  {
   "cell_type": "code",
   "execution_count": 2,
   "id": "496ae890-6d88-458d-93a1-c6d234a1e129",
   "metadata": {},
   "outputs": [],
   "source": [
    "# Load data\n",
    "train_ds = xr.open_dataset(\"/glade/scratch/lverhoef/gdl_toy_ds/train_data.nc\")\n",
    "validation_ds = xr.open_dataset(\"/glade/scratch/lverhoef/gdl_toy_ds/validation_data.nc\")"
   ]
  },
  {
   "cell_type": "code",
   "execution_count": 47,
   "id": "29230aa5-2c3b-4f3e-96bb-a73948a33df7",
   "metadata": {},
   "outputs": [],
   "source": [
    "# Layer that implements 4 discrete rotational equivariance\n",
    "# Note that this uses group convolution on Z^2 x C_4, where rotation is about the center of the domain.\n",
    "class RotEquivConv2D(tf.keras.layers.Layer):\n",
    "    def __init__(self, out_features, filt_shape, rot_axis=True, activation=tf.nn.relu, **kwargs):\n",
    "        super().__init__(**kwargs)\n",
    "        self.out_features = out_features\n",
    "        self.filt_shape = filt_shape\n",
    "        self.rot_axis = rot_axis\n",
    "        self.activation = activation\n",
    "\n",
    "    def build(self, input_shape):  # Create the layer when it is first called\n",
    "        self.in_features = input_shape[-1]\n",
    "        self.filt_shape = tf.concat([\n",
    "            self.filt_shape,  # Spatial dimensions\n",
    "            [self.in_features, self.out_features]\n",
    "        ], axis=0)\n",
    "        self.filt_base = tf.Variable(\n",
    "            tf.random.normal(self.filt_shape)  # Random initialization of filters\n",
    "        )\n",
    "\n",
    "    def call(self, inputs):  # Does the actual computation for each rotation\n",
    "        if self.rot_axis:  # If we're already in Z^2 x C_4, convolve along each rotational layer\n",
    "            return self.activation(tf.stack([\n",
    "                    tf.nn.convolution(\n",
    "                        tfnp.take(inputs, i, axis=-2),\n",
    "                        self.filt_base, k=i)\n",
    "                    for i in range(inputs.shape[-2])],\n",
    "                axis=-2\n",
    "            ))\n",
    "        else:  # If we're not yet in the group domain, move to it.\n",
    "            return self.activation(tf.stack([\n",
    "                tf.nn.convolution(inputs, self.filt_base),\n",
    "                tfnp.rot90(tf.nn.convolution(inputs, tfnp.rot90(self.filt_base, k=1)), k=4-1),\n",
    "                tfnp.rot90(tf.nn.convolution(inputs, tfnp.rot90(self.filt_base, k=2)), k=4-2),\n",
    "                tfnp.rot90(tf.nn.convolution(inputs, tfnp.rot90(self.filt_base, k=3)), k=4-3),\n",
    "            ], axis=-2))"
   ]
  },
  {
   "cell_type": "code",
   "execution_count": 48,
   "id": "d86246b3-d1e4-4e15-9860-6e340e01ee39",
   "metadata": {},
   "outputs": [],
   "source": [
    "# 2D pooling layer that pools within each rotational dimension\n",
    "class RotEquivPool2D(tf.keras.layers.Layer):\n",
    "    def __init__(self, pool_size, pool_method=tf.keras.layers.MaxPool2D, **kwargs):\n",
    "        super().__init__(**kwargs)\n",
    "        self.pool_size = pool_size\n",
    "        self.pool_method = pool_method\n",
    "        self.pool = self.pool_method(pool_size=self.pool_size)\n",
    "\n",
    "    def call(self, inputs):\n",
    "        return tf.stack(\n",
    "            [self.pool(tfnp.take(inputs, k, axis=-2)) for k in range(inputs.shape[-2])],\n",
    "            axis=-2\n",
    "        )"
   ]
  },
  {
   "cell_type": "code",
   "execution_count": null,
   "id": "dba5fd46-6168-4e23-a251-d560f96d814c",
   "metadata": {},
   "outputs": [],
   "source": [
    "# Rotational invariant pooling that pools across the rotational dimensions\n",
    "class RotInvPool(tf.keras.layers.Layer):\n",
    "    def __init__(self, pool_method='Max', **kwargs):\n",
    "        super().__init__(**kwargs)\n",
    "        self.pool_method = pool_method\n",
    "\n",
    "    def call(self, inputs):\n",
    "        "
   ]
  },
  {
   "cell_type": "code",
   "execution_count": 44,
   "id": "f9768433-51ab-42c9-8ff6-401690cb0c7b",
   "metadata": {},
   "outputs": [],
   "source": [
    "model = models.Sequential()\n",
    "model.add(RotEquivConv2D(8, (3, 3), rot_axis=False, input_shape=(128, 128, 1)))\n",
    "model.add(RotEquivPool2D((2, 2)))\n",
    "model.add(RotEquivConv2D(16, (3, 3)))\n",
    "model.add(RotEquivPool2D((2, 2)))\n",
    "model.add(RotEquivConv2D(32, (3, 3)))\n",
    "model.add(RotEquivPool2D((2, 2)))"
   ]
  },
  {
   "cell_type": "code",
   "execution_count": 45,
   "id": "21f6eec7-4fea-4c4a-8504-632fe734f073",
   "metadata": {},
   "outputs": [
    {
     "name": "stdout",
     "output_type": "stream",
     "text": [
      "Model: \"sequential_2\"\n",
      "_________________________________________________________________\n",
      " Layer (type)                Output Shape              Param #   \n",
      "=================================================================\n",
      " rot_equiv_conv2d (RotEquivC  (None, 126, 126, 4, 8)   72        \n",
      " onv2D)                                                          \n",
      "                                                                 \n",
      " rot_equiv_pool2d_6 (RotEqui  (None, 63, 63, 4, 8)     0         \n",
      " vPool2D)                                                        \n",
      "                                                                 \n",
      " rot_equiv_conv2d_1 (RotEqui  (None, 61, 61, 4, 16)    1152      \n",
      " vConv2D)                                                        \n",
      "                                                                 \n",
      " rot_equiv_pool2d_7 (RotEqui  (None, 30, 30, 4, 16)    0         \n",
      " vPool2D)                                                        \n",
      "                                                                 \n",
      " rot_equiv_conv2d_2 (RotEqui  (None, 28, 28, 4, 32)    4608      \n",
      " vConv2D)                                                        \n",
      "                                                                 \n",
      " rot_equiv_pool2d_8 (RotEqui  (None, 14, 14, 4, 32)    0         \n",
      " vPool2D)                                                        \n",
      "                                                                 \n",
      "=================================================================\n",
      "Total params: 5,832\n",
      "Trainable params: 5,832\n",
      "Non-trainable params: 0\n",
      "_________________________________________________________________\n"
     ]
    }
   ],
   "source": [
    "model.summary()"
   ]
  },
  {
   "cell_type": "code",
   "execution_count": null,
   "id": "22c12bef-80ce-4f24-b01c-d06af55be737",
   "metadata": {},
   "outputs": [],
   "source": []
  }
 ],
 "metadata": {
  "kernelspec": {
   "display_name": "Python [conda env:.conda-storm-mode]",
   "language": "python",
   "name": "conda-env-.conda-storm-mode-py"
  },
  "language_info": {
   "codemirror_mode": {
    "name": "ipython",
    "version": 3
   },
   "file_extension": ".py",
   "mimetype": "text/x-python",
   "name": "python",
   "nbconvert_exporter": "python",
   "pygments_lexer": "ipython3",
   "version": "3.10.4"
  }
 },
 "nbformat": 4,
 "nbformat_minor": 5
}
