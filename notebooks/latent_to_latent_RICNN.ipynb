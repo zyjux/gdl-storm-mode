{
 "cells": [
  {
   "cell_type": "code",
   "execution_count": 21,
   "id": "0742df0e-83c8-48e9-aaf5-39566a8df26d",
   "metadata": {},
   "outputs": [],
   "source": [
    "import tensorflow as tf\n",
    "from glob import glob\n",
    "from os.path import join\n",
    "from tensorflow.keras import layers, models\n",
    "import xarray as xr\n",
    "import pandas as pd\n",
    "import numpy as np\n",
    "import matplotlib.pyplot as plt\n",
    "import imports.GDL_layers as GDL_layers\n",
    "from sklearn.linear_model import LinearRegression"
   ]
  },
  {
   "cell_type": "code",
   "execution_count": 11,
   "id": "7afe3aee-14b2-40f7-9158-efd870d91ad2",
   "metadata": {},
   "outputs": [],
   "source": [
    "# Find a list of all the datafiles\n",
    "patch_path = \"/glade/scratch/lverhoef/WRF_all/track_data_hrrr_3km_nc_refl/\"\n",
    "patch_files = sorted(glob(join(patch_path, \"*.nc\")))\n",
    "csv_path = \"/glade/scratch/lverhoef/WRF_all/track_data_hrrr_3km_csv_refl/\"\n",
    "csv_files = sorted(glob(join(csv_path, \"track_step_*.csv\")))"
   ]
  },
  {
   "cell_type": "code",
   "execution_count": 12,
   "id": "c79d60b9-85d9-478d-b771-53205df404ef",
   "metadata": {},
   "outputs": [
    {
     "name": "stdout",
     "output_type": "stream",
     "text": [
      "Train 0, /glade/scratch/lverhoef/WRF_all/track_data_hrrr_3km_nc_refl/NCARSTORM_20101024-0000_d01_model_patches.nc\n",
      "Train 10, /glade/scratch/lverhoef/WRF_all/track_data_hrrr_3km_nc_refl/NCARSTORM_20110201-0000_d01_model_patches.nc\n",
      "Train 20, /glade/scratch/lverhoef/WRF_all/track_data_hrrr_3km_nc_refl/NCARSTORM_20110326-0000_d01_model_patches.nc\n",
      "Train 30, /glade/scratch/lverhoef/WRF_all/track_data_hrrr_3km_nc_refl/NCARSTORM_20110414-0000_d01_model_patches.nc\n",
      "Train 40, /glade/scratch/lverhoef/WRF_all/track_data_hrrr_3km_nc_refl/NCARSTORM_20110425-0000_d01_model_patches.nc\n",
      "Train 50, /glade/scratch/lverhoef/WRF_all/track_data_hrrr_3km_nc_refl/NCARSTORM_20110522-0000_d01_model_patches.nc\n",
      "Train 60, /glade/scratch/lverhoef/WRF_all/track_data_hrrr_3km_nc_refl/NCARSTORM_20110605-0000_d01_model_patches.nc\n",
      "Train 70, /glade/scratch/lverhoef/WRF_all/track_data_hrrr_3km_nc_refl/NCARSTORM_20110615-0000_d01_model_patches.nc\n",
      "Train 80, /glade/scratch/lverhoef/WRF_all/track_data_hrrr_3km_nc_refl/NCARSTORM_20110625-0000_d01_model_patches.nc\n",
      "Train 90, /glade/scratch/lverhoef/WRF_all/track_data_hrrr_3km_nc_refl/NCARSTORM_20110712-0000_d01_model_patches.nc\n",
      "Train 100, /glade/scratch/lverhoef/WRF_all/track_data_hrrr_3km_nc_refl/NCARSTORM_20120218-0000_d01_model_patches.nc\n",
      "Validation 105, /glade/scratch/lverhoef/WRF_all/track_data_hrrr_3km_nc_refl/NCARSTORM_20120315-0000_d01_model_patches.nc\n",
      "Validation 115, /glade/scratch/lverhoef/WRF_all/track_data_hrrr_3km_nc_refl/NCARSTORM_20120401-0000_d01_model_patches.nc\n",
      "Test 120, /glade/scratch/lverhoef/WRF_all/track_data_hrrr_3km_nc_refl/NCARSTORM_20120409-0000_d01_model_patches.nc\n",
      "Test 130, /glade/scratch/lverhoef/WRF_all/track_data_hrrr_3km_nc_refl/NCARSTORM_20120503-0000_d01_model_patches.nc\n",
      "Test 140, /glade/scratch/lverhoef/WRF_all/track_data_hrrr_3km_nc_refl/NCARSTORM_20120529-0000_d01_model_patches.nc\n"
     ]
    }
   ],
   "source": [
    "# Pull selected variables from patch files and join into a single DataSet\n",
    "num_files = 150\n",
    "train_split = int(num_files*0.7)\n",
    "val_split = int(num_files*0.8)\n",
    "variables = [\"REFL_COM_curr\"]\n",
    "data_list = []\n",
    "for p, patch_file in enumerate(patch_files[0:train_split]):\n",
    "    if p % 10 == 0:\n",
    "        print(f'Train {p}, {patch_file}')\n",
    "    ds = xr.open_dataset(patch_file)\n",
    "    data_list.append(ds[variables].compute())\n",
    "    ds.close()\n",
    "input_train = xr.concat(data_list, dim=\"p\")[\"REFL_COM_curr\"].expand_dims(\"channel\", axis = -1)\n",
    "data_list = []\n",
    "for p, patch_file in enumerate(patch_files[train_split:val_split]):\n",
    "    if p % 10 == 0:\n",
    "        print(f'Validation {train_split + p}, {patch_file}')\n",
    "    ds = xr.open_dataset(patch_file)\n",
    "    data_list.append(ds[variables].compute())\n",
    "    ds.close()\n",
    "input_val = xr.concat(data_list, dim=\"p\")[\"REFL_COM_curr\"].expand_dims(\"channel\", axis = -1)\n",
    "data_list = []\n",
    "for p, patch_file in enumerate(patch_files[val_split:num_files]):\n",
    "    if p % 10 == 0:\n",
    "        print(f'Test {val_split + p}, {patch_file}')\n",
    "    ds = xr.open_dataset(patch_file)\n",
    "    data_list.append(ds[variables].compute())\n",
    "    ds.close()\n",
    "input_test = xr.concat(data_list, dim=\"p\")[\"REFL_COM_curr\"].expand_dims(\"channel\", axis = -1)"
   ]
  },
  {
   "cell_type": "code",
   "execution_count": 13,
   "id": "aa2782d0-68d0-4968-a440-af88466dbf99",
   "metadata": {},
   "outputs": [
    {
     "name": "stdout",
     "output_type": "stream",
     "text": [
      "Train 0, /glade/scratch/lverhoef/WRF_all/track_data_hrrr_3km_csv_refl/track_step_NCARSTORM_d01_20101024-0000.csv\n",
      "Train 10, /glade/scratch/lverhoef/WRF_all/track_data_hrrr_3km_csv_refl/track_step_NCARSTORM_d01_20110201-0000.csv\n",
      "Train 20, /glade/scratch/lverhoef/WRF_all/track_data_hrrr_3km_csv_refl/track_step_NCARSTORM_d01_20110326-0000.csv\n",
      "Train 30, /glade/scratch/lverhoef/WRF_all/track_data_hrrr_3km_csv_refl/track_step_NCARSTORM_d01_20110414-0000.csv\n",
      "Train 40, /glade/scratch/lverhoef/WRF_all/track_data_hrrr_3km_csv_refl/track_step_NCARSTORM_d01_20110425-0000.csv\n",
      "Train 50, /glade/scratch/lverhoef/WRF_all/track_data_hrrr_3km_csv_refl/track_step_NCARSTORM_d01_20110522-0000.csv\n",
      "Train 60, /glade/scratch/lverhoef/WRF_all/track_data_hrrr_3km_csv_refl/track_step_NCARSTORM_d01_20110605-0000.csv\n",
      "Train 70, /glade/scratch/lverhoef/WRF_all/track_data_hrrr_3km_csv_refl/track_step_NCARSTORM_d01_20110615-0000.csv\n",
      "Train 80, /glade/scratch/lverhoef/WRF_all/track_data_hrrr_3km_csv_refl/track_step_NCARSTORM_d01_20110625-0000.csv\n",
      "Train 90, /glade/scratch/lverhoef/WRF_all/track_data_hrrr_3km_csv_refl/track_step_NCARSTORM_d01_20110712-0000.csv\n",
      "Train 100, /glade/scratch/lverhoef/WRF_all/track_data_hrrr_3km_csv_refl/track_step_NCARSTORM_d01_20120218-0000.csv\n",
      "Validation 105, /glade/scratch/lverhoef/WRF_all/track_data_hrrr_3km_csv_refl/track_step_NCARSTORM_d01_20120315-0000.csv\n",
      "Validation 115, /glade/scratch/lverhoef/WRF_all/track_data_hrrr_3km_csv_refl/track_step_NCARSTORM_d01_20120401-0000.csv\n",
      "Test 120, /glade/scratch/lverhoef/WRF_all/track_data_hrrr_3km_csv_refl/track_step_NCARSTORM_d01_20120409-0000.csv\n",
      "Test 130, /glade/scratch/lverhoef/WRF_all/track_data_hrrr_3km_csv_refl/track_step_NCARSTORM_d01_20120503-0000.csv\n",
      "Test 140, /glade/scratch/lverhoef/WRF_all/track_data_hrrr_3km_csv_refl/track_step_NCARSTORM_d01_20120529-0000.csv\n"
     ]
    }
   ],
   "source": [
    "# Pull variables from csv files and join into an array\n",
    "csv_variables = [\"major_axis_length\", \"minor_axis_length\"]\n",
    "csv_data_list = []\n",
    "for p, csv_file in enumerate(csv_files[0:train_split]):\n",
    "    if p % 10 == 0:\n",
    "        print(f'Train {p}, {csv_file}')\n",
    "    csv_ds = pd.read_csv(csv_file)\n",
    "    csv_data_list.append(csv_ds[csv_variables].to_xarray().rename({'index': 'p'}))\n",
    "output_train = xr.concat(csv_data_list, dim=\"p\").to_array().transpose()\n",
    "csv_data_list = []\n",
    "for p, csv_file in enumerate(csv_files[train_split:val_split]):\n",
    "    if p % 10 == 0:\n",
    "        print(f'Validation {train_split + p}, {csv_file}')\n",
    "    csv_ds = pd.read_csv(csv_file)\n",
    "    csv_data_list.append(csv_ds[csv_variables].to_xarray().rename({'index': 'p'}))\n",
    "output_val = xr.concat(csv_data_list, dim=\"p\").to_array().transpose()\n",
    "csv_data_list = []\n",
    "for p, csv_file in enumerate(csv_files[val_split:num_files]):\n",
    "    if p % 10 == 0:\n",
    "        print(f'Test {val_split + p}, {csv_file}')\n",
    "    csv_ds = pd.read_csv(csv_file)\n",
    "    csv_data_list.append(csv_ds[csv_variables].to_xarray().rename({'index': 'p'}))\n",
    "output_test = xr.concat(csv_data_list, dim=\"p\").to_array().transpose()"
   ]
  },
  {
   "cell_type": "code",
   "execution_count": 6,
   "id": "6ba59282-c914-467e-9556-f6e255de6dc5",
   "metadata": {},
   "outputs": [
    {
     "name": "stdout",
     "output_type": "stream",
     "text": [
      "(34061, 144, 144, 1)\n",
      "(4300, 144, 144, 1)\n",
      "(12985, 144, 144, 1)\n",
      "(34061, 2)\n",
      "(4300, 2)\n",
      "(12985, 2)\n"
     ]
    }
   ],
   "source": [
    "print(input_train.shape)\n",
    "print(input_val.shape)\n",
    "print(input_test.shape)\n",
    "print(output_train.shape)\n",
    "print(output_val.shape)\n",
    "print(output_test.shape)"
   ]
  },
  {
   "cell_type": "code",
   "execution_count": 14,
   "id": "4e9c6285-809f-4c27-bbc1-ce975bf8745d",
   "metadata": {},
   "outputs": [],
   "source": [
    "# Normalize the training data\n",
    "scale_stats = pd.DataFrame(index=[0], columns=[\"mean\", \"sd\"])\n",
    "scale_stats.loc[0, \"mean\"] = input_train.mean()\n",
    "scale_stats.loc[0, \"sd\"] = input_train.std()\n",
    "input_train_norm = (input_train - scale_stats.loc[0, \"mean\"]) / scale_stats.loc[0, \"sd\"]\n",
    "input_val_norm = (input_val - scale_stats.loc[0, \"mean\"]) / scale_stats.loc[0, \"sd\"]\n",
    "input_test_norm = (input_test - scale_stats.loc[0, \"mean\"]) / scale_stats.loc[0, \"sd\"]"
   ]
  },
  {
   "cell_type": "code",
   "execution_count": 15,
   "id": "2c464134-2ccf-48b8-8fc4-1a26a1b36110",
   "metadata": {},
   "outputs": [],
   "source": [
    "# Normalize output data\n",
    "output_scale_stats = pd.DataFrame(index=[0], columns=[\"mean\", \"sd\"])\n",
    "output_scale_stats.loc[0, \"mean\"] = output_train.mean()\n",
    "output_scale_stats.loc[0, \"sd\"] = output_train.std()\n",
    "output_train_norm = (output_train - output_scale_stats.loc[0, \"mean\"]) / output_scale_stats.loc[0, \"sd\"]\n",
    "output_val_norm = (output_val - output_scale_stats.loc[0, \"mean\"]) / output_scale_stats.loc[0, \"sd\"]\n",
    "output_test_norm = (output_test - output_scale_stats.loc[0, \"mean\"]) / output_scale_stats.loc[0, \"sd\"]"
   ]
  },
  {
   "cell_type": "code",
   "execution_count": 9,
   "id": "030d5d7a-e0ca-44ba-aad7-a3f778016d3f",
   "metadata": {},
   "outputs": [
    {
     "name": "stderr",
     "output_type": "stream",
     "text": [
      "2022-07-13 13:48:57.178219: I tensorflow/core/platform/cpu_feature_guard.cc:193] This TensorFlow binary is optimized with oneAPI Deep Neural Network Library (oneDNN) to use the following CPU instructions in performance-critical operations:  AVX2 AVX512F FMA\n",
      "To enable them in other operations, rebuild TensorFlow with the appropriate compiler flags.\n",
      "2022-07-13 13:48:57.706502: I tensorflow/core/common_runtime/gpu/gpu_device.cc:1532] Created device /job:localhost/replica:0/task:0/device:GPU:0 with 30988 MB memory:  -> device: 0, name: Tesla V100-SXM2-32GB, pci bus id: 0000:62:00.0, compute capability: 7.0\n"
     ]
    }
   ],
   "source": [
    "ricnn_model_1 = models.Sequential()\n",
    "ricnn_model_1.add(GDL_layers.RotEquivConv2D(32, (3, 3), rot_axis=False, input_shape=(144, 144, 1)))\n",
    "ricnn_model_1.add(GDL_layers.RotEquivPool2D((2, 2)))\n",
    "ricnn_model_1.add(GDL_layers.RotEquivConv2D(32, (3, 3)))\n",
    "ricnn_model_1.add(GDL_layers.RotEquivPool2D((2, 2)))\n",
    "ricnn_model_1.add(GDL_layers.RotEquivConv2D(64, (3, 3)))\n",
    "ricnn_model_1.add(GDL_layers.RotEquivPool2D((2, 2)))\n",
    "ricnn_model_1.add(GDL_layers.RotEquivConv2D(64, (3, 3)))\n",
    "ricnn_model_1.add(GDL_layers.RotEquivPool2D((2, 2)))\n",
    "ricnn_model_1.add(GDL_layers.RotEquivConv2D(128, (3, 3)))\n",
    "ricnn_model_1.add(GDL_layers.RotInvPool())\n",
    "ricnn_model_1.add(layers.Flatten())\n",
    "ricnn_model_1.add(layers.Dense(32, activation='relu'))\n",
    "ricnn_model_1.add(layers.Dense(2))"
   ]
  },
  {
   "cell_type": "code",
   "execution_count": 10,
   "id": "cd1c9f33-1e73-4549-af85-ed5d8378b810",
   "metadata": {},
   "outputs": [
    {
     "name": "stdout",
     "output_type": "stream",
     "text": [
      "Model: \"sequential\"\n",
      "_________________________________________________________________\n",
      " Layer (type)                Output Shape              Param #   \n",
      "=================================================================\n",
      " rot_equiv_conv2d (RotEquivC  (None, 142, 142, 4, 32)  320       \n",
      " onv2D)                                                          \n",
      "                                                                 \n",
      " rot_equiv_pool2d (RotEquivP  (None, 71, 71, 4, 32)    0         \n",
      " ool2D)                                                          \n",
      "                                                                 \n",
      " rot_equiv_conv2d_1 (RotEqui  (None, 69, 69, 4, 32)    9248      \n",
      " vConv2D)                                                        \n",
      "                                                                 \n",
      " rot_equiv_pool2d_1 (RotEqui  (None, 34, 34, 4, 32)    0         \n",
      " vPool2D)                                                        \n",
      "                                                                 \n",
      " rot_equiv_conv2d_2 (RotEqui  (None, 32, 32, 4, 64)    18496     \n",
      " vConv2D)                                                        \n",
      "                                                                 \n",
      " rot_equiv_pool2d_2 (RotEqui  (None, 16, 16, 4, 64)    0         \n",
      " vPool2D)                                                        \n",
      "                                                                 \n",
      " rot_equiv_conv2d_3 (RotEqui  (None, 14, 14, 4, 64)    36928     \n",
      " vConv2D)                                                        \n",
      "                                                                 \n",
      " rot_equiv_pool2d_3 (RotEqui  (None, 7, 7, 4, 64)      0         \n",
      " vPool2D)                                                        \n",
      "                                                                 \n",
      " rot_equiv_conv2d_4 (RotEqui  (None, 5, 5, 4, 128)     73856     \n",
      " vConv2D)                                                        \n",
      "                                                                 \n",
      " rot_inv_pool (RotInvPool)   (None, 5, 5, 128)         0         \n",
      "                                                                 \n",
      " flatten (Flatten)           (None, 3200)              0         \n",
      "                                                                 \n",
      " dense (Dense)               (None, 32)                102432    \n",
      "                                                                 \n",
      " dense_1 (Dense)             (None, 2)                 66        \n",
      "                                                                 \n",
      "=================================================================\n",
      "Total params: 241,346\n",
      "Trainable params: 241,346\n",
      "Non-trainable params: 0\n",
      "_________________________________________________________________\n"
     ]
    }
   ],
   "source": [
    "ricnn_model_1.summary()"
   ]
  },
  {
   "cell_type": "code",
   "execution_count": 11,
   "id": "c3501077-3694-4e54-bd75-05d058329b3b",
   "metadata": {},
   "outputs": [],
   "source": [
    "ricnn_model_1.compile(\n",
    "    optimizer='nadam',\n",
    "    loss='mse',\n",
    "    metrics=['mse']\n",
    ")"
   ]
  },
  {
   "cell_type": "code",
   "execution_count": 12,
   "id": "9f0082d7-bb9a-434c-a9d5-fce4ec479b8b",
   "metadata": {},
   "outputs": [
    {
     "name": "stdout",
     "output_type": "stream",
     "text": [
      "WARNING:tensorflow:Keras is training/fitting/evaluating on array-like data. Keras may not be optimized for this format, so if your input data format is supported by TensorFlow I/O (https://github.com/tensorflow/io) we recommend using that to load a Dataset instead.\n",
      "Epoch 1/10\n"
     ]
    },
    {
     "name": "stderr",
     "output_type": "stream",
     "text": [
      "2022-07-13 13:49:13.475709: I tensorflow/stream_executor/cuda/cuda_dnn.cc:384] Loaded cuDNN version 8100\n"
     ]
    },
    {
     "name": "stdout",
     "output_type": "stream",
     "text": [
      "1065/1065 [==============================] - ETA: 0s - loss: 216.4437 - mse: 216.4437WARNING:tensorflow:Keras is training/fitting/evaluating on array-like data. Keras may not be optimized for this format, so if your input data format is supported by TensorFlow I/O (https://github.com/tensorflow/io) we recommend using that to load a Dataset instead.\n",
      "1065/1065 [==============================] - 75s 65ms/step - loss: 216.4437 - mse: 216.4437 - val_loss: 100.6611 - val_mse: 100.6611\n",
      "Epoch 2/10\n",
      "1065/1065 [==============================] - 68s 64ms/step - loss: 97.1865 - mse: 97.1865 - val_loss: 56.6782 - val_mse: 56.6782\n",
      "Epoch 3/10\n",
      "1065/1065 [==============================] - 68s 64ms/step - loss: 65.4712 - mse: 65.4712 - val_loss: 43.0192 - val_mse: 43.0192\n",
      "Epoch 4/10\n",
      "1065/1065 [==============================] - 69s 64ms/step - loss: 46.8387 - mse: 46.8387 - val_loss: 43.0780 - val_mse: 43.0780\n",
      "Epoch 5/10\n",
      "1065/1065 [==============================] - 68s 64ms/step - loss: 35.2926 - mse: 35.2926 - val_loss: 44.7166 - val_mse: 44.7166\n",
      "Epoch 6/10\n",
      "1065/1065 [==============================] - 68s 64ms/step - loss: 26.8481 - mse: 26.8481 - val_loss: 33.0154 - val_mse: 33.0154\n",
      "Epoch 7/10\n",
      "1065/1065 [==============================] - 68s 64ms/step - loss: 21.5170 - mse: 21.5170 - val_loss: 26.0684 - val_mse: 26.0684\n",
      "Epoch 8/10\n",
      "1065/1065 [==============================] - 68s 64ms/step - loss: 17.8004 - mse: 17.8004 - val_loss: 28.4854 - val_mse: 28.4854\n",
      "Epoch 9/10\n",
      "1065/1065 [==============================] - 68s 64ms/step - loss: 17.0191 - mse: 17.0191 - val_loss: 22.5493 - val_mse: 22.5493\n",
      "Epoch 10/10\n",
      "1065/1065 [==============================] - 68s 64ms/step - loss: 15.2672 - mse: 15.2672 - val_loss: 23.7269 - val_mse: 23.7269\n"
     ]
    }
   ],
   "source": [
    "ricnn_history_1 = ricnn_model_1.fit(x=input_train_norm, y=output_train, epochs=10, validation_data=(input_val_norm, output_val))"
   ]
  },
  {
   "cell_type": "code",
   "execution_count": 13,
   "id": "5d8ca1ea-c934-4a5e-9bc4-94ad737130c3",
   "metadata": {},
   "outputs": [],
   "source": [
    "ricnn_model_2 = models.Sequential()\n",
    "ricnn_model_2.add(GDL_layers.RotEquivConv2D(32, (3, 3), rot_axis=False, input_shape=(144, 144, 1)))\n",
    "ricnn_model_2.add(GDL_layers.RotEquivPool2D((2, 2)))\n",
    "ricnn_model_2.add(GDL_layers.RotEquivConv2D(32, (3, 3)))\n",
    "ricnn_model_2.add(GDL_layers.RotEquivPool2D((2, 2)))\n",
    "ricnn_model_2.add(GDL_layers.RotEquivConv2D(64, (3, 3)))\n",
    "ricnn_model_2.add(GDL_layers.RotEquivPool2D((2, 2)))\n",
    "ricnn_model_2.add(GDL_layers.RotEquivConv2D(64, (3, 3)))\n",
    "ricnn_model_2.add(GDL_layers.RotEquivPool2D((2, 2)))\n",
    "ricnn_model_2.add(GDL_layers.RotEquivConv2D(128, (3, 3)))\n",
    "ricnn_model_2.add(GDL_layers.RotInvPool())\n",
    "ricnn_model_2.add(layers.Flatten())\n",
    "ricnn_model_2.add(layers.Dense(32, activation='relu'))\n",
    "ricnn_model_2.add(layers.Dense(2))"
   ]
  },
  {
   "cell_type": "code",
   "execution_count": 14,
   "id": "f9816030-877c-4acf-8e49-c8afd422de19",
   "metadata": {},
   "outputs": [
    {
     "name": "stdout",
     "output_type": "stream",
     "text": [
      "Model: \"sequential_1\"\n",
      "_________________________________________________________________\n",
      " Layer (type)                Output Shape              Param #   \n",
      "=================================================================\n",
      " rot_equiv_conv2d_5 (RotEqui  (None, 142, 142, 4, 32)  320       \n",
      " vConv2D)                                                        \n",
      "                                                                 \n",
      " rot_equiv_pool2d_4 (RotEqui  (None, 71, 71, 4, 32)    0         \n",
      " vPool2D)                                                        \n",
      "                                                                 \n",
      " rot_equiv_conv2d_6 (RotEqui  (None, 69, 69, 4, 32)    9248      \n",
      " vConv2D)                                                        \n",
      "                                                                 \n",
      " rot_equiv_pool2d_5 (RotEqui  (None, 34, 34, 4, 32)    0         \n",
      " vPool2D)                                                        \n",
      "                                                                 \n",
      " rot_equiv_conv2d_7 (RotEqui  (None, 32, 32, 4, 64)    18496     \n",
      " vConv2D)                                                        \n",
      "                                                                 \n",
      " rot_equiv_pool2d_6 (RotEqui  (None, 16, 16, 4, 64)    0         \n",
      " vPool2D)                                                        \n",
      "                                                                 \n",
      " rot_equiv_conv2d_8 (RotEqui  (None, 14, 14, 4, 64)    36928     \n",
      " vConv2D)                                                        \n",
      "                                                                 \n",
      " rot_equiv_pool2d_7 (RotEqui  (None, 7, 7, 4, 64)      0         \n",
      " vPool2D)                                                        \n",
      "                                                                 \n",
      " rot_equiv_conv2d_9 (RotEqui  (None, 5, 5, 4, 128)     73856     \n",
      " vConv2D)                                                        \n",
      "                                                                 \n",
      " rot_inv_pool_1 (RotInvPool)  (None, 5, 5, 128)        0         \n",
      "                                                                 \n",
      " flatten_1 (Flatten)         (None, 3200)              0         \n",
      "                                                                 \n",
      " dense_2 (Dense)             (None, 32)                102432    \n",
      "                                                                 \n",
      " dense_3 (Dense)             (None, 2)                 66        \n",
      "                                                                 \n",
      "=================================================================\n",
      "Total params: 241,346\n",
      "Trainable params: 241,346\n",
      "Non-trainable params: 0\n",
      "_________________________________________________________________\n"
     ]
    }
   ],
   "source": [
    "ricnn_model_2.summary()"
   ]
  },
  {
   "cell_type": "code",
   "execution_count": 15,
   "id": "6aa1c1bb-8f6d-42fa-ad92-7354ba534a7f",
   "metadata": {},
   "outputs": [],
   "source": [
    "ricnn_model_2.compile(\n",
    "    optimizer='nadam',\n",
    "    loss='mse',\n",
    "    metrics=['mse']\n",
    ")"
   ]
  },
  {
   "cell_type": "code",
   "execution_count": 16,
   "id": "3bfc4084-2c65-4674-9a38-b36be7d52667",
   "metadata": {},
   "outputs": [
    {
     "name": "stdout",
     "output_type": "stream",
     "text": [
      "WARNING:tensorflow:Keras is training/fitting/evaluating on array-like data. Keras may not be optimized for this format, so if your input data format is supported by TensorFlow I/O (https://github.com/tensorflow/io) we recommend using that to load a Dataset instead.\n",
      "Epoch 1/10\n",
      "1064/1065 [============================>.] - ETA: 0s - loss: 235.3962 - mse: 235.3962WARNING:tensorflow:Keras is training/fitting/evaluating on array-like data. Keras may not be optimized for this format, so if your input data format is supported by TensorFlow I/O (https://github.com/tensorflow/io) we recommend using that to load a Dataset instead.\n",
      "1065/1065 [==============================] - 72s 64ms/step - loss: 235.3665 - mse: 235.3665 - val_loss: 196.4325 - val_mse: 196.4325\n",
      "Epoch 2/10\n",
      "1065/1065 [==============================] - 68s 64ms/step - loss: 113.9516 - mse: 113.9516 - val_loss: 81.8448 - val_mse: 81.8448\n",
      "Epoch 3/10\n",
      "1065/1065 [==============================] - 68s 64ms/step - loss: 66.4122 - mse: 66.4122 - val_loss: 42.3027 - val_mse: 42.3027\n",
      "Epoch 4/10\n",
      "1065/1065 [==============================] - 68s 64ms/step - loss: 47.2623 - mse: 47.2623 - val_loss: 34.8940 - val_mse: 34.8940\n",
      "Epoch 5/10\n",
      "1065/1065 [==============================] - 68s 64ms/step - loss: 36.0155 - mse: 36.0155 - val_loss: 32.7146 - val_mse: 32.7146\n",
      "Epoch 6/10\n",
      "1065/1065 [==============================] - 68s 64ms/step - loss: 28.9452 - mse: 28.9452 - val_loss: 32.7780 - val_mse: 32.7780\n",
      "Epoch 7/10\n",
      "1065/1065 [==============================] - 68s 64ms/step - loss: 22.2211 - mse: 22.2211 - val_loss: 26.5365 - val_mse: 26.5365\n",
      "Epoch 8/10\n",
      "1065/1065 [==============================] - 68s 64ms/step - loss: 19.8244 - mse: 19.8244 - val_loss: 24.1272 - val_mse: 24.1272\n",
      "Epoch 9/10\n",
      "1065/1065 [==============================] - 68s 64ms/step - loss: 17.9359 - mse: 17.9359 - val_loss: 25.6702 - val_mse: 25.6702\n",
      "Epoch 10/10\n",
      "1065/1065 [==============================] - 68s 64ms/step - loss: 15.3766 - mse: 15.3766 - val_loss: 32.4822 - val_mse: 32.4822\n"
     ]
    }
   ],
   "source": [
    "ricnn_history_2 = ricnn_model_2.fit(x=input_train_norm, y=output_train, epochs=10, validation_data=(input_val_norm, output_val))"
   ]
  },
  {
   "cell_type": "code",
   "execution_count": 17,
   "id": "c23214ad-a70a-4609-93ab-de5484f01243",
   "metadata": {},
   "outputs": [],
   "source": [
    "cnn_model = models.Sequential()\n",
    "cnn_model.add(layers.Conv2D(32, (3, 3), activation='relu', input_shape=(144, 144, 1)))\n",
    "cnn_model.add(layers.MaxPooling2D((2, 2)))\n",
    "cnn_model.add(layers.Conv2D(32, (3, 3), activation='relu'))\n",
    "cnn_model.add(layers.MaxPooling2D((2, 2)))\n",
    "cnn_model.add(layers.Conv2D(64, (3, 3), activation='relu'))\n",
    "cnn_model.add(layers.MaxPooling2D((2, 2)))\n",
    "cnn_model.add(layers.Conv2D(64, (3, 3), activation='relu'))\n",
    "cnn_model.add(layers.MaxPooling2D((2, 2)))\n",
    "cnn_model.add(layers.Conv2D(128, (3, 3), activation='relu'))\n",
    "cnn_model.add(layers.Flatten())\n",
    "cnn_model.add(layers.Dense(32, activation='relu'))\n",
    "cnn_model.add(layers.Dense(2))"
   ]
  },
  {
   "cell_type": "code",
   "execution_count": 18,
   "id": "65c2d141-3e14-4725-ab5d-2a1ca7dd17b9",
   "metadata": {},
   "outputs": [
    {
     "name": "stdout",
     "output_type": "stream",
     "text": [
      "Model: \"sequential_2\"\n",
      "_________________________________________________________________\n",
      " Layer (type)                Output Shape              Param #   \n",
      "=================================================================\n",
      " conv2d (Conv2D)             (None, 142, 142, 32)      320       \n",
      "                                                                 \n",
      " max_pooling2d_8 (MaxPooling  (None, 71, 71, 32)       0         \n",
      " 2D)                                                             \n",
      "                                                                 \n",
      " conv2d_1 (Conv2D)           (None, 69, 69, 32)        9248      \n",
      "                                                                 \n",
      " max_pooling2d_9 (MaxPooling  (None, 34, 34, 32)       0         \n",
      " 2D)                                                             \n",
      "                                                                 \n",
      " conv2d_2 (Conv2D)           (None, 32, 32, 64)        18496     \n",
      "                                                                 \n",
      " max_pooling2d_10 (MaxPoolin  (None, 16, 16, 64)       0         \n",
      " g2D)                                                            \n",
      "                                                                 \n",
      " conv2d_3 (Conv2D)           (None, 14, 14, 64)        36928     \n",
      "                                                                 \n",
      " max_pooling2d_11 (MaxPoolin  (None, 7, 7, 64)         0         \n",
      " g2D)                                                            \n",
      "                                                                 \n",
      " conv2d_4 (Conv2D)           (None, 5, 5, 128)         73856     \n",
      "                                                                 \n",
      " flatten_2 (Flatten)         (None, 3200)              0         \n",
      "                                                                 \n",
      " dense_4 (Dense)             (None, 32)                102432    \n",
      "                                                                 \n",
      " dense_5 (Dense)             (None, 2)                 66        \n",
      "                                                                 \n",
      "=================================================================\n",
      "Total params: 241,346\n",
      "Trainable params: 241,346\n",
      "Non-trainable params: 0\n",
      "_________________________________________________________________\n"
     ]
    }
   ],
   "source": [
    "cnn_model.summary()"
   ]
  },
  {
   "cell_type": "code",
   "execution_count": 19,
   "id": "858bd2cd-4066-455c-a7dd-7464a3735fe0",
   "metadata": {},
   "outputs": [],
   "source": [
    "cnn_model.compile(\n",
    "    optimizer='nadam',\n",
    "    loss='mse',\n",
    "    metrics=['mse']\n",
    ")"
   ]
  },
  {
   "cell_type": "code",
   "execution_count": 20,
   "id": "390f7113-42ec-4bfc-b024-80738a84ecfb",
   "metadata": {},
   "outputs": [
    {
     "name": "stdout",
     "output_type": "stream",
     "text": [
      "WARNING:tensorflow:Keras is training/fitting/evaluating on array-like data. Keras may not be optimized for this format, so if your input data format is supported by TensorFlow I/O (https://github.com/tensorflow/io) we recommend using that to load a Dataset instead.\n",
      "Epoch 1/10\n",
      "1061/1065 [============================>.] - ETA: 0s - loss: 229.6085 - mse: 229.6085WARNING:tensorflow:Keras is training/fitting/evaluating on array-like data. Keras may not be optimized for this format, so if your input data format is supported by TensorFlow I/O (https://github.com/tensorflow/io) we recommend using that to load a Dataset instead.\n",
      "1065/1065 [==============================] - 13s 12ms/step - loss: 230.0032 - mse: 230.0032 - val_loss: 133.0617 - val_mse: 133.0617\n",
      "Epoch 2/10\n",
      "1065/1065 [==============================] - 12s 12ms/step - loss: 129.6154 - mse: 129.6154 - val_loss: 129.0811 - val_mse: 129.0811\n",
      "Epoch 3/10\n",
      "1065/1065 [==============================] - 12s 12ms/step - loss: 91.2862 - mse: 91.2862 - val_loss: 55.1352 - val_mse: 55.1352\n",
      "Epoch 4/10\n",
      "1065/1065 [==============================] - 12s 12ms/step - loss: 66.9679 - mse: 66.9679 - val_loss: 59.2203 - val_mse: 59.2203\n",
      "Epoch 5/10\n",
      "1065/1065 [==============================] - 12s 12ms/step - loss: 50.8492 - mse: 50.8492 - val_loss: 52.7152 - val_mse: 52.7152\n",
      "Epoch 6/10\n",
      "1065/1065 [==============================] - 12s 12ms/step - loss: 40.1688 - mse: 40.1688 - val_loss: 104.2335 - val_mse: 104.2335\n",
      "Epoch 7/10\n",
      "1065/1065 [==============================] - 12s 12ms/step - loss: 32.1359 - mse: 32.1359 - val_loss: 38.8912 - val_mse: 38.8912\n",
      "Epoch 8/10\n",
      "1065/1065 [==============================] - 12s 11ms/step - loss: 27.8652 - mse: 27.8652 - val_loss: 38.9929 - val_mse: 38.9929\n",
      "Epoch 9/10\n",
      "1065/1065 [==============================] - 12s 11ms/step - loss: 24.8412 - mse: 24.8412 - val_loss: 38.0766 - val_mse: 38.0766\n",
      "Epoch 10/10\n",
      "1065/1065 [==============================] - 12s 11ms/step - loss: 20.2324 - mse: 20.2324 - val_loss: 34.6954 - val_mse: 34.6954\n"
     ]
    }
   ],
   "source": [
    "cnn_history = cnn_model.fit(x=input_train_norm, y=output_train, epochs=10, validation_data=(input_val_norm, output_val))"
   ]
  },
  {
   "cell_type": "code",
   "execution_count": 21,
   "id": "beecd093-f2fd-443f-9437-bb6252bec26c",
   "metadata": {},
   "outputs": [
    {
     "data": {
      "text/plain": [
       "(0.0, 246.37146706581115)"
      ]
     },
     "execution_count": 21,
     "metadata": {},
     "output_type": "execute_result"
    },
    {
     "data": {
      "image/png": "[encoded data removed]",
      "text/plain": [
       "<Figure size 720x576 with 1 Axes>"
      ]
     },
     "metadata": {
      "needs_background": "light"
     },
     "output_type": "display_data"
    }
   ],
   "source": [
    "F, ax = plt.subplots(figsize=(10, 8))\n",
    "ax = plt.gca()\n",
    "a = ax.plot(cnn_history.history['mse'], label='training', color='orange')\n",
    "b = ax.plot(cnn_history.history['val_mse'], label='validation', color='orange', linestyle='dashed')\n",
    "c = ax.plot(ricnn_history_1.history['mse'], label='training', color='blue')\n",
    "d = ax.plot(ricnn_history_1.history['val_mse'], label='validation', color='blue', linestyle='dashed')\n",
    "c = ax.plot(ricnn_history_2.history['mse'], label='training', color='deepskyblue')\n",
    "d = ax.plot(ricnn_history_2.history['val_mse'], label='validation', color='deepskyblue', linestyle='dashed')\n",
    "ax.legend()\n",
    "ax.set_title(\"MSE History\")\n",
    "ax.set_ylim(bottom=0)"
   ]
  },
  {
   "cell_type": "code",
   "execution_count": 22,
   "id": "65863f20-60d5-474e-96df-7c29eb2d38b8",
   "metadata": {},
   "outputs": [
    {
     "name": "stdout",
     "output_type": "stream",
     "text": [
      "WARNING:tensorflow:Keras is training/fitting/evaluating on array-like data. Keras may not be optimized for this format, so if your input data format is supported by TensorFlow I/O (https://github.com/tensorflow/io) we recommend using that to load a Dataset instead.\n",
      "406/406 [==============================] - 9s 22ms/step - loss: 32.6190 - mse: 32.6190\n"
     ]
    },
    {
     "data": {
      "text/plain": [
       "[32.6190071105957, 32.6190071105957]"
      ]
     },
     "execution_count": 22,
     "metadata": {},
     "output_type": "execute_result"
    }
   ],
   "source": [
    "ricnn_model_1.evaluate(input_test_norm, output_test)"
   ]
  },
  {
   "cell_type": "code",
   "execution_count": 23,
   "id": "85756903-16cf-4ca8-98b6-1e73c303501f",
   "metadata": {},
   "outputs": [
    {
     "name": "stdout",
     "output_type": "stream",
     "text": [
      "WARNING:tensorflow:Keras is training/fitting/evaluating on array-like data. Keras may not be optimized for this format, so if your input data format is supported by TensorFlow I/O (https://github.com/tensorflow/io) we recommend using that to load a Dataset instead.\n",
      "406/406 [==============================] - 9s 22ms/step - loss: 37.6601 - mse: 37.6601\n"
     ]
    },
    {
     "data": {
      "text/plain": [
       "[37.66010665893555, 37.66010665893555]"
      ]
     },
     "execution_count": 23,
     "metadata": {},
     "output_type": "execute_result"
    }
   ],
   "source": [
    "ricnn_model_2.evaluate(input_test_norm, output_test)"
   ]
  },
  {
   "cell_type": "code",
   "execution_count": 24,
   "id": "274b503a-a3c0-47df-a8b0-fa01d35a44d9",
   "metadata": {},
   "outputs": [
    {
     "name": "stdout",
     "output_type": "stream",
     "text": [
      "WARNING:tensorflow:Keras is training/fitting/evaluating on array-like data. Keras may not be optimized for this format, so if your input data format is supported by TensorFlow I/O (https://github.com/tensorflow/io) we recommend using that to load a Dataset instead.\n",
      "406/406 [==============================] - 3s 6ms/step - loss: 42.0649 - mse: 42.0649\n"
     ]
    },
    {
     "data": {
      "text/plain": [
       "[42.06492233276367, 42.06492233276367]"
      ]
     },
     "execution_count": 24,
     "metadata": {},
     "output_type": "execute_result"
    }
   ],
   "source": [
    "cnn_model.evaluate(input_test_norm, output_test)"
   ]
  },
  {
   "cell_type": "code",
   "execution_count": 32,
   "id": "f0cb154c-39bd-4fc3-b0bf-052db0ffff1f",
   "metadata": {},
   "outputs": [
    {
     "name": "stdout",
     "output_type": "stream",
     "text": [
      "INFO:tensorflow:Assets written to: saved_models/latent_to_latent_RICNN/ricnn_model_1/assets\n",
      "INFO:tensorflow:Assets written to: saved_models/latent_to_latent_RICNN/ricnn_model_2/assets\n"
     ]
    },
    {
     "name": "stderr",
     "output_type": "stream",
     "text": [
      "WARNING:absl:Found untraced functions such as _jit_compiled_convolution_op, _jit_compiled_convolution_op, _jit_compiled_convolution_op, _jit_compiled_convolution_op, _jit_compiled_convolution_op while saving (showing 5 of 5). These functions will not be directly callable after loading.\n"
     ]
    },
    {
     "name": "stdout",
     "output_type": "stream",
     "text": [
      "INFO:tensorflow:Assets written to: saved_models/latent_to_latent_RICNN/cnn_model/assets\n"
     ]
    },
    {
     "name": "stderr",
     "output_type": "stream",
     "text": [
      "INFO:tensorflow:Assets written to: saved_models/latent_to_latent_RICNN/cnn_model/assets\n"
     ]
    }
   ],
   "source": [
    "ricnn_model_1.save(\"saved_models/latent_to_latent_RICNN/ricnn_model_1\")\n",
    "ricnn_model_2.save(\"saved_models/latent_to_latent_RICNN/ricnn_model_2\")\n",
    "cnn_model.save(\"saved_models/latent_to_latent_RICNN/cnn_model\")"
   ]
  },
  {
   "cell_type": "code",
   "execution_count": 7,
   "id": "370c3714-a002-4c41-9796-a1f757cf7ed3",
   "metadata": {
    "tags": []
   },
   "outputs": [],
   "source": [
    "ricnn_model_1 = tf.keras.models.load_model(\"saved_models/latent_to_latent_RICNN/ricnn_model_1\")\n",
    "ricnn_model_2 = tf.keras.models.load_model(\"saved_models/latent_to_latent_RICNN/ricnn_model_2\")\n",
    "cnn_model = tf.keras.models.load_model(\"saved_models/latent_to_latent_RICNN/cnn_model\")"
   ]
  },
  {
   "cell_type": "code",
   "execution_count": 16,
   "id": "4643bdae-483c-45e4-bf49-765c37992ab0",
   "metadata": {},
   "outputs": [],
   "source": [
    "ricnn_latent_model_1 = tf.keras.Model(ricnn_model_1.inputs, ricnn_model_1.layers[-2].output)\n",
    "ricnn_latent_model_2 = tf.keras.Model(ricnn_model_2.inputs, ricnn_model_2.layers[-2].output)\n",
    "cnn_latent_model = tf.keras.Model(cnn_model.inputs, cnn_model.layers[-2].output)"
   ]
  },
  {
   "cell_type": "code",
   "execution_count": 17,
   "id": "bcb2550f-a4eb-407a-bb73-cea6d0b78737",
   "metadata": {},
   "outputs": [
    {
     "name": "stdout",
     "output_type": "stream",
     "text": [
      "WARNING:tensorflow:Keras is training/fitting/evaluating on array-like data. Keras may not be optimized for this format, so if your input data format is supported by TensorFlow I/O (https://github.com/tensorflow/io) we recommend using that to load a Dataset instead.\n"
     ]
    },
    {
     "name": "stderr",
     "output_type": "stream",
     "text": [
      "2022-07-14 09:59:01.212039: I tensorflow/stream_executor/cuda/cuda_dnn.cc:384] Loaded cuDNN version 8100\n"
     ]
    },
    {
     "name": "stdout",
     "output_type": "stream",
     "text": [
      "406/406 [==============================] - 25s 22ms/step\n",
      "WARNING:tensorflow:Keras is training/fitting/evaluating on array-like data. Keras may not be optimized for this format, so if your input data format is supported by TensorFlow I/O (https://github.com/tensorflow/io) we recommend using that to load a Dataset instead.\n",
      "406/406 [==============================] - 9s 22ms/step\n",
      "WARNING:tensorflow:Keras is training/fitting/evaluating on array-like data. Keras may not be optimized for this format, so if your input data format is supported by TensorFlow I/O (https://github.com/tensorflow/io) we recommend using that to load a Dataset instead.\n",
      "406/406 [==============================] - 2s 6ms/step\n"
     ]
    }
   ],
   "source": [
    "ricnn_latent_test_preds_1 = ricnn_latent_model_1.predict(input_test_norm)\n",
    "ricnn_latent_test_preds_2 = ricnn_latent_model_2.predict(input_test_norm)\n",
    "cnn_latent_test_preds = cnn_latent_model.predict(input_test_norm)"
   ]
  },
  {
   "cell_type": "code",
   "execution_count": 27,
   "id": "9e7d2b2b-ad6b-44fb-963e-6393e998a8af",
   "metadata": {},
   "outputs": [
    {
     "data": {
      "text/plain": [
       "(12985, 32)"
      ]
     },
     "execution_count": 27,
     "metadata": {},
     "output_type": "execute_result"
    }
   ],
   "source": [
    "ricnn_latent_test_preds_1.shape"
   ]
  },
  {
   "cell_type": "code",
   "execution_count": 25,
   "id": "394ab8e2-cb9a-4f03-9b61-08584aabc413",
   "metadata": {},
   "outputs": [
    {
     "data": {
      "text/plain": [
       "0.9346551215757468"
      ]
     },
     "execution_count": 25,
     "metadata": {},
     "output_type": "execute_result"
    }
   ],
   "source": [
    "ricnn_to_ricnn = LinearRegression()\n",
    "ricnn_to_ricnn.fit(ricnn_latent_test_preds_1, ricnn_latent_test_preds_2)\n",
    "ricnn_to_ricnn.score(ricnn_latent_test_preds_1, ricnn_latent_test_preds_2)"
   ]
  },
  {
   "cell_type": "code",
   "execution_count": 26,
   "id": "b21e5a3a-f691-4b08-9eec-9fcb21eb9b7d",
   "metadata": {},
   "outputs": [
    {
     "data": {
      "text/plain": [
       "0.8875039649714462"
      ]
     },
     "execution_count": 26,
     "metadata": {},
     "output_type": "execute_result"
    }
   ],
   "source": [
    "cnn_to_ricnn = LinearRegression()\n",
    "cnn_to_ricnn.fit(cnn_latent_test_preds, ricnn_latent_test_preds_1)\n",
    "cnn_to_ricnn.score(cnn_latent_test_preds, ricnn_latent_test_preds_1)"
   ]
  },
  {
   "cell_type": "code",
   "execution_count": null,
   "id": "214886f9-0183-4e42-b0d8-a919c85f71b7",
   "metadata": {},
   "outputs": [],
   "source": []
  }
 ],
 "metadata": {
  "kernelspec": {
   "display_name": "Python [conda env:.conda-storm-mode]",
   "language": "python",
   "name": "conda-env-.conda-storm-mode-py"
  },
  "language_info": {
   "codemirror_mode": {
    "name": "ipython",
    "version": 3
   },
   "file_extension": ".py",
   "mimetype": "text/x-python",
   "name": "python",
   "nbconvert_exporter": "python",
   "pygments_lexer": "ipython3",
   "version": "3.10.4"
  }
 },
 "nbformat": 4,
 "nbformat_minor": 5
}
