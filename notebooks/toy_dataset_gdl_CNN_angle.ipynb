{
 "cells": [
  {
   "cell_type": "code",
   "execution_count": 1,
   "id": "db804398-de62-47f8-a25f-94b30aa74f5c",
   "metadata": {},
   "outputs": [],
   "source": [
    "import tensorflow as tf\n",
    "from tensorflow.keras import layers, models\n",
    "import tensorflow.experimental.numpy as tfnp\n",
    "import xarray as xr\n",
    "import numpy as np\n",
    "import matplotlib.pyplot as plt"
   ]
  },
  {
   "cell_type": "code",
   "execution_count": 3,
   "id": "205f17d2-7aa6-4fb1-b86d-7cfcbc896034",
   "metadata": {},
   "outputs": [],
   "source": [
    "# Load data\n",
    "train_ds = xr.open_dataset(\"/glade/scratch/lverhoef/gdl_toy_ds/train_data.nc\")\n",
    "validation_ds = xr.open_dataset(\"/glade/scratch/lverhoef/gdl_toy_ds/validation_data.nc\")"
   ]
  },
  {
   "cell_type": "code",
   "execution_count": 5,
   "id": "a4b818d6-0b7f-421b-950b-32fda046dffe",
   "metadata": {},
   "outputs": [],
   "source": [
    "X_train = tf.expand_dims(tf.convert_to_tensor(train_ds['ellipse']), axis=-1)\n",
    "Y_train = tf.convert_to_tensor(train_ds['angle'])"
   ]
  },
  {
   "cell_type": "code",
   "execution_count": 7,
   "id": "610356f8-9120-4e5d-93fa-fbf140377184",
   "metadata": {},
   "outputs": [],
   "source": [
    "X_val = tf.expand_dims(tf.convert_to_tensor(validation_ds['ellipse']), axis=-1)\n",
    "Y_val = tf.convert_to_tensor(validation_ds['angle'])"
   ]
  },
  {
   "cell_type": "code",
   "execution_count": 8,
   "id": "29230aa5-2c3b-4f3e-96bb-a73948a33df7",
   "metadata": {},
   "outputs": [],
   "source": [
    "# Layer that implements 4 discrete rotational equivariance\n",
    "# Note that this uses group convolution on Z^2 x C_4, where rotation is about the center of the domain.\n",
    "class RotEquivConv2D(tf.keras.layers.Layer):\n",
    "    def __init__(\n",
    "            self,\n",
    "            out_features,\n",
    "            filt_shape, \n",
    "            rot_axis=True,\n",
    "            activation=tf.nn.relu,\n",
    "            use_bias=True,\n",
    "            kernel_initializer=tf.keras.initializers.glorot_uniform,\n",
    "            bias_initializer=tf.keras.initializers.zeros,\n",
    "            **kwargs):\n",
    "        super().__init__(**kwargs)\n",
    "        self.out_features = out_features\n",
    "        self.filt_shape = filt_shape\n",
    "        self.rot_axis = rot_axis\n",
    "        self.activation = activation\n",
    "        self.use_bias = use_bias\n",
    "        self.kernel_initializer = kernel_initializer()\n",
    "        if use_bias:\n",
    "            self.bias_initializer = bias_initializer()\n",
    "\n",
    "    def build(self, input_shape):  # Create the layer when it is first called\n",
    "        self.in_features = input_shape[-1]\n",
    "        self.filt_shape = tf.concat([\n",
    "            self.filt_shape,  # Spatial dimensions\n",
    "            [self.in_features, self.out_features]\n",
    "        ], axis=0)\n",
    "        self.filt_base = tf.Variable(\n",
    "            self.kernel_initializer(self.filt_shape),  # Random initialization of filters\n",
    "            name='kernel'\n",
    "        )\n",
    "        if self.use_bias:\n",
    "            self.bias = tf.Variable(self.bias_initializer((self.out_features,)), name='bias')\n",
    "\n",
    "    def call(self, inputs):  # Does the actual computation for each rotation\n",
    "        if self.rot_axis:  # If we're already in Z^2 x C_4, convolve along each rotational layer\n",
    "            outputs = self.activation(tf.stack([\n",
    "                    tf.nn.convolution(\n",
    "                        tfnp.take(inputs, i, axis=-2),\n",
    "                        self.filt_base)\n",
    "                    for i in range(inputs.shape[-2])],\n",
    "                axis=-2\n",
    "            ))\n",
    "        else:  # If we're not yet in the group domain, move to it.\n",
    "            outputs = self.activation(tf.stack([\n",
    "                tf.nn.convolution(inputs, self.filt_base),\n",
    "                tfnp.rot90(tf.nn.convolution(inputs, tfnp.rot90(self.filt_base, k=1)), k=4-1, axes=(1, 2)),\n",
    "                tfnp.rot90(tf.nn.convolution(inputs, tfnp.rot90(self.filt_base, k=2)), k=4-2, axes=(1, 2)),\n",
    "                tfnp.rot90(tf.nn.convolution(inputs, tfnp.rot90(self.filt_base, k=3)), k=4-3, axes=(1, 2)),\n",
    "            ], axis=-2))\n",
    "        if self.use_bias:\n",
    "            outputs = tf.nn.bias_add(outputs, self.bias)\n",
    "        return outputs"
   ]
  },
  {
   "cell_type": "code",
   "execution_count": 9,
   "id": "d86246b3-d1e4-4e15-9860-6e340e01ee39",
   "metadata": {},
   "outputs": [],
   "source": [
    "# 2D pooling layer that pools within each rotational dimension\n",
    "class RotEquivPool2D(tf.keras.layers.Layer):\n",
    "    def __init__(self, pool_size, pool_method=tf.keras.layers.MaxPool2D, **kwargs):\n",
    "        super().__init__(**kwargs)\n",
    "        self.pool_size = pool_size\n",
    "        self.pool_method = pool_method\n",
    "        self.pool = self.pool_method(pool_size=self.pool_size)\n",
    "\n",
    "    def call(self, inputs):\n",
    "        return tf.stack(\n",
    "            [self.pool(tfnp.take(inputs, k, axis=-2)) for k in range(inputs.shape[-2])],\n",
    "            axis=-2\n",
    "        )"
   ]
  },
  {
   "cell_type": "code",
   "execution_count": 10,
   "id": "dba5fd46-6168-4e23-a251-d560f96d814c",
   "metadata": {},
   "outputs": [],
   "source": [
    "# Rotational invariant pooling that pools across the rotational dimensions\n",
    "class RotInvPool(tf.keras.layers.Layer):\n",
    "    def __init__(self, pool_method='max', **kwargs):\n",
    "        valid_methods = {'max', 'mean'}\n",
    "        if pool_method not in valid_methods:\n",
    "            raise ValueError(f'pool_method must be one of {valid_methods}')\n",
    "\n",
    "        super().__init__(**kwargs)\n",
    "        if pool_method == \"max\":\n",
    "            self.pool_method = tf.math.reduce_max\n",
    "        else:\n",
    "            self.pool_method = tf.math.reduce_mean\n",
    "\n",
    "    def call(self, inputs):\n",
    "        return self.pool_method(inputs, axis=-2)"
   ]
  },
  {
   "cell_type": "code",
   "execution_count": 45,
   "id": "f9768433-51ab-42c9-8ff6-401690cb0c7b",
   "metadata": {},
   "outputs": [],
   "source": [
    "model = models.Sequential()\n",
    "model.add(RotEquivConv2D(32, (3, 3), rot_axis=False, input_shape=(128, 128, 1)))\n",
    "model.add(RotEquivPool2D((2, 2)))\n",
    "model.add(RotEquivConv2D(32, (3, 3)))\n",
    "model.add(RotEquivPool2D((2, 2)))\n",
    "model.add(RotEquivConv2D(64, (3, 3)))\n",
    "model.add(RotEquivPool2D((2, 2)))\n",
    "model.add(RotEquivConv2D(64, (3, 3)))\n",
    "model.add(RotEquivPool2D((2, 2)))\n",
    "model.add(RotEquivConv2D(53, (3, 3)))\n",
    "# model.add(RotInvPool())  # Removed to get an equivariant model rather than an invariant one.\n",
    "model.add(layers.Flatten())\n",
    "model.add(layers.Dense(32))\n",
    "model.add(layers.Dense(1))"
   ]
  },
  {
   "cell_type": "code",
   "execution_count": 46,
   "id": "7c2d9783-b18d-444e-8811-2d33830b837c",
   "metadata": {},
   "outputs": [],
   "source": [
    "model.compile(\n",
    "    optimizer='adam',\n",
    "    loss='mse',\n",
    "    metrics=['mse']\n",
    ")"
   ]
  },
  {
   "cell_type": "code",
   "execution_count": 47,
   "id": "21f6eec7-4fea-4c4a-8504-632fe734f073",
   "metadata": {
    "tags": []
   },
   "outputs": [
    {
     "name": "stdout",
     "output_type": "stream",
     "text": [
      "Model: \"sequential_8\"\n",
      "_________________________________________________________________\n",
      " Layer (type)                Output Shape              Param #   \n",
      "=================================================================\n",
      " rot_equiv_conv2d_35 (RotEqu  (None, 126, 126, 4, 32)  320       \n",
      " ivConv2D)                                                       \n",
      "                                                                 \n",
      " rot_equiv_pool2d_28 (RotEqu  (None, 63, 63, 4, 32)    0         \n",
      " ivPool2D)                                                       \n",
      "                                                                 \n",
      " rot_equiv_conv2d_36 (RotEqu  (None, 61, 61, 4, 32)    9248      \n",
      " ivConv2D)                                                       \n",
      "                                                                 \n",
      " rot_equiv_pool2d_29 (RotEqu  (None, 30, 30, 4, 32)    0         \n",
      " ivPool2D)                                                       \n",
      "                                                                 \n",
      " rot_equiv_conv2d_37 (RotEqu  (None, 28, 28, 4, 64)    18496     \n",
      " ivConv2D)                                                       \n",
      "                                                                 \n",
      " rot_equiv_pool2d_30 (RotEqu  (None, 14, 14, 4, 64)    0         \n",
      " ivPool2D)                                                       \n",
      "                                                                 \n",
      " rot_equiv_conv2d_38 (RotEqu  (None, 12, 12, 4, 64)    36928     \n",
      " ivConv2D)                                                       \n",
      "                                                                 \n",
      " rot_equiv_pool2d_31 (RotEqu  (None, 6, 6, 4, 64)      0         \n",
      " ivPool2D)                                                       \n",
      "                                                                 \n",
      " rot_equiv_conv2d_39 (RotEqu  (None, 4, 4, 4, 53)      30581     \n",
      " ivConv2D)                                                       \n",
      "                                                                 \n",
      " flatten_8 (Flatten)         (None, 3392)              0         \n",
      "                                                                 \n",
      " dense_16 (Dense)            (None, 32)                108576    \n",
      "                                                                 \n",
      " dense_17 (Dense)            (None, 1)                 33        \n",
      "                                                                 \n",
      "=================================================================\n",
      "Total params: 204,182\n",
      "Trainable params: 204,182\n",
      "Non-trainable params: 0\n",
      "_________________________________________________________________\n"
     ]
    }
   ],
   "source": [
    "model.summary()"
   ]
  },
  {
   "cell_type": "code",
   "execution_count": 48,
   "id": "f5ee1d58-39f3-49e4-a1f0-2819cf7587ab",
   "metadata": {},
   "outputs": [
    {
     "name": "stdout",
     "output_type": "stream",
     "text": [
      "Epoch 1/10\n",
      "313/313 [==============================] - 22s 57ms/step - loss: 0.6167 - mse: 0.6167 - val_loss: 0.4246 - val_mse: 0.4246\n",
      "Epoch 2/10\n",
      "313/313 [==============================] - 18s 56ms/step - loss: 0.3251 - mse: 0.3251 - val_loss: 0.1776 - val_mse: 0.1776\n",
      "Epoch 3/10\n",
      "313/313 [==============================] - 17s 55ms/step - loss: 0.1797 - mse: 0.1797 - val_loss: 0.1159 - val_mse: 0.1159\n",
      "Epoch 4/10\n",
      "313/313 [==============================] - 17s 55ms/step - loss: 0.1354 - mse: 0.1354 - val_loss: 0.0812 - val_mse: 0.0812\n",
      "Epoch 5/10\n",
      "313/313 [==============================] - 17s 55ms/step - loss: 0.1117 - mse: 0.1117 - val_loss: 0.1031 - val_mse: 0.1031\n",
      "Epoch 6/10\n",
      "313/313 [==============================] - 18s 56ms/step - loss: 0.0994 - mse: 0.0994 - val_loss: 0.1216 - val_mse: 0.1216\n",
      "Epoch 7/10\n",
      "313/313 [==============================] - 17s 55ms/step - loss: 0.0816 - mse: 0.0816 - val_loss: 0.0717 - val_mse: 0.0717\n",
      "Epoch 8/10\n",
      "313/313 [==============================] - 17s 55ms/step - loss: 0.0791 - mse: 0.0791 - val_loss: 0.0661 - val_mse: 0.0661\n",
      "Epoch 9/10\n",
      "313/313 [==============================] - 18s 56ms/step - loss: 0.0696 - mse: 0.0696 - val_loss: 0.0535 - val_mse: 0.0535\n",
      "Epoch 10/10\n",
      "313/313 [==============================] - 17s 55ms/step - loss: 0.0708 - mse: 0.0708 - val_loss: 0.1064 - val_mse: 0.1064\n"
     ]
    }
   ],
   "source": [
    "history = model.fit(\n",
    "    x=X_train, y=Y_train,\n",
    "    epochs=10, validation_data=(X_val, Y_val),\n",
    "    shuffle=True\n",
    ")"
   ]
  },
  {
   "cell_type": "code",
   "execution_count": 15,
   "id": "3b68bbe6-d94e-4301-b469-0c6ff2d6571f",
   "metadata": {},
   "outputs": [],
   "source": [
    "CNN_model = models.Sequential()\n",
    "CNN_model.add(layers.Conv2D(32, (3, 3), activation='relu', input_shape=(128, 128, 1)))\n",
    "CNN_model.add(layers.MaxPooling2D((2, 2)))\n",
    "CNN_model.add(layers.Conv2D(32, (3, 3), activation='relu'))\n",
    "CNN_model.add(layers.MaxPooling2D((2, 2)))\n",
    "CNN_model.add(layers.Conv2D(64, (3, 3), activation='relu'))\n",
    "CNN_model.add(layers.MaxPooling2D((2, 2)))\n",
    "CNN_model.add(layers.Conv2D(64, (3, 3), activation='relu'))\n",
    "CNN_model.add(layers.MaxPooling2D((2, 2)))\n",
    "CNN_model.add(layers.Conv2D(128, (3, 3), activation='relu'))\n",
    "CNN_model.add(layers.Flatten())\n",
    "CNN_model.add(layers.Dense(32, activation='relu'))\n",
    "CNN_model.add(layers.Dense(1))"
   ]
  },
  {
   "cell_type": "code",
   "execution_count": 16,
   "id": "7c77f241-d82e-4ff0-ba89-9282b415ab46",
   "metadata": {},
   "outputs": [],
   "source": [
    "CNN_model.compile(\n",
    "    optimizer='adam',\n",
    "    loss='mse',\n",
    "    metrics=['mse']\n",
    ")"
   ]
  },
  {
   "cell_type": "code",
   "execution_count": 29,
   "id": "88899798-54e6-4008-9745-cce3a0541fc9",
   "metadata": {},
   "outputs": [
    {
     "name": "stdout",
     "output_type": "stream",
     "text": [
      "Model: \"sequential_1\"\n",
      "_________________________________________________________________\n",
      " Layer (type)                Output Shape              Param #   \n",
      "=================================================================\n",
      " conv2d (Conv2D)             (None, 126, 126, 32)      320       \n",
      "                                                                 \n",
      " max_pooling2d_4 (MaxPooling  (None, 63, 63, 32)       0         \n",
      " 2D)                                                             \n",
      "                                                                 \n",
      " conv2d_1 (Conv2D)           (None, 61, 61, 32)        9248      \n",
      "                                                                 \n",
      " max_pooling2d_5 (MaxPooling  (None, 30, 30, 32)       0         \n",
      " 2D)                                                             \n",
      "                                                                 \n",
      " conv2d_2 (Conv2D)           (None, 28, 28, 64)        18496     \n",
      "                                                                 \n",
      " max_pooling2d_6 (MaxPooling  (None, 14, 14, 64)       0         \n",
      " 2D)                                                             \n",
      "                                                                 \n",
      " conv2d_3 (Conv2D)           (None, 12, 12, 64)        36928     \n",
      "                                                                 \n",
      " max_pooling2d_7 (MaxPooling  (None, 6, 6, 64)         0         \n",
      " 2D)                                                             \n",
      "                                                                 \n",
      " conv2d_4 (Conv2D)           (None, 4, 4, 128)         73856     \n",
      "                                                                 \n",
      " flatten_1 (Flatten)         (None, 2048)              0         \n",
      "                                                                 \n",
      " dense_2 (Dense)             (None, 32)                65568     \n",
      "                                                                 \n",
      " dense_3 (Dense)             (None, 1)                 33        \n",
      "                                                                 \n",
      "=================================================================\n",
      "Total params: 204,449\n",
      "Trainable params: 204,449\n",
      "Non-trainable params: 0\n",
      "_________________________________________________________________\n"
     ]
    }
   ],
   "source": [
    "CNN_model.summary()"
   ]
  },
  {
   "cell_type": "code",
   "execution_count": 17,
   "id": "cbb937e1-e256-4c86-8ecb-fac852642873",
   "metadata": {},
   "outputs": [
    {
     "name": "stdout",
     "output_type": "stream",
     "text": [
      "Epoch 1/10\n",
      "313/313 [==============================] - 4s 10ms/step - loss: 0.7105 - mse: 0.7105 - val_loss: 0.3760 - val_mse: 0.3760\n",
      "Epoch 2/10\n",
      "313/313 [==============================] - 3s 10ms/step - loss: 0.4118 - mse: 0.4118 - val_loss: 0.2640 - val_mse: 0.2640\n",
      "Epoch 3/10\n",
      "313/313 [==============================] - 3s 10ms/step - loss: 0.2653 - mse: 0.2653 - val_loss: 0.3090 - val_mse: 0.3090\n",
      "Epoch 4/10\n",
      "313/313 [==============================] - 3s 10ms/step - loss: 0.2046 - mse: 0.2046 - val_loss: 0.1096 - val_mse: 0.1096\n",
      "Epoch 5/10\n",
      "313/313 [==============================] - 3s 10ms/step - loss: 0.1432 - mse: 0.1432 - val_loss: 0.1192 - val_mse: 0.1192\n",
      "Epoch 6/10\n",
      "313/313 [==============================] - 3s 10ms/step - loss: 0.1369 - mse: 0.1369 - val_loss: 0.1736 - val_mse: 0.1736\n",
      "Epoch 7/10\n",
      "313/313 [==============================] - 4s 12ms/step - loss: 0.1164 - mse: 0.1164 - val_loss: 0.0652 - val_mse: 0.0652\n",
      "Epoch 8/10\n",
      "313/313 [==============================] - 3s 10ms/step - loss: 0.1179 - mse: 0.1179 - val_loss: 0.0699 - val_mse: 0.0699\n",
      "Epoch 9/10\n",
      "313/313 [==============================] - 3s 10ms/step - loss: 0.1055 - mse: 0.1055 - val_loss: 0.0772 - val_mse: 0.0772\n",
      "Epoch 10/10\n",
      "313/313 [==============================] - 3s 10ms/step - loss: 0.0863 - mse: 0.0863 - val_loss: 0.0718 - val_mse: 0.0718\n"
     ]
    }
   ],
   "source": [
    "CNN_history = CNN_model.fit(\n",
    "    x=X_train, y=Y_train,\n",
    "    epochs=10, validation_data=(X_val, Y_val),\n",
    "    shuffle=True\n",
    ")"
   ]
  },
  {
   "cell_type": "code",
   "execution_count": 49,
   "id": "1f6dab1c-7b71-4ad4-909a-a688dfefafa0",
   "metadata": {},
   "outputs": [
    {
     "data": {
      "text/plain": [
       "<matplotlib.legend.Legend at 0x2b054295b0d0>"
      ]
     },
     "execution_count": 49,
     "metadata": {},
     "output_type": "execute_result"
    },
    {
     "data": {
      "image/png": "[encoded data removed]",
      "text/plain": [
       "<Figure size 432x288 with 1 Axes>"
      ]
     },
     "metadata": {
      "needs_background": "light"
     },
     "output_type": "display_data"
    }
   ],
   "source": [
    "a = plt.plot(history.history['val_mse'], label='GDL')\n",
    "b = plt.plot(CNN_history.history['val_mse'], label='CNN')\n",
    "plt.legend()"
   ]
  },
  {
   "cell_type": "code",
   "execution_count": 50,
   "id": "8ea4cfc3-1167-43fe-af29-e553ecd385f1",
   "metadata": {},
   "outputs": [],
   "source": [
    "test_ds = xr.open_dataset(\"/glade/scratch/lverhoef/gdl_toy_ds/test_data.nc\")\n",
    "X_test = tf.expand_dims(tf.convert_to_tensor(test_ds[\"ellipse\"]), axis=-1)\n",
    "Y_test = tf.convert_to_tensor(test_ds['angle'])"
   ]
  },
  {
   "cell_type": "code",
   "execution_count": 51,
   "id": "a8130c60-f174-4b38-9a67-517b32625d80",
   "metadata": {},
   "outputs": [
    {
     "name": "stdout",
     "output_type": "stream",
     "text": [
      "32/32 [==============================] - 1s 20ms/step - loss: 0.1064 - mse: 0.1064\n",
      "32/32 [==============================] - 1s 20ms/step - loss: 0.1222 - mse: 0.1222\n"
     ]
    },
    {
     "data": {
      "text/plain": [
       "[0.12220527231693268, 0.12220527231693268]"
      ]
     },
     "execution_count": 51,
     "metadata": {},
     "output_type": "execute_result"
    }
   ],
   "source": [
    "model.evaluate(X_val, Y_val)\n",
    "model.evaluate(X_test, Y_test)"
   ]
  },
  {
   "cell_type": "code",
   "execution_count": 52,
   "id": "cdecba36-b3fc-4872-9fc0-a67e4ff0a2f4",
   "metadata": {},
   "outputs": [
    {
     "name": "stdout",
     "output_type": "stream",
     "text": [
      "32/32 [==============================] - 0s 6ms/step - loss: 0.0718 - mse: 0.0718\n",
      "32/32 [==============================] - 0s 6ms/step - loss: 0.0998 - mse: 0.0998\n"
     ]
    },
    {
     "data": {
      "text/plain": [
       "[0.09984864294528961, 0.09984864294528961]"
      ]
     },
     "execution_count": 52,
     "metadata": {},
     "output_type": "execute_result"
    }
   ],
   "source": [
    "CNN_model.evaluate(X_val, Y_val)\n",
    "CNN_model.evaluate(X_test, Y_test)"
   ]
  },
  {
   "cell_type": "code",
   "execution_count": null,
   "id": "3c25f132-2435-4599-9070-82f231763209",
   "metadata": {},
   "outputs": [],
   "source": []
  }
 ],
 "metadata": {
  "kernelspec": {
   "display_name": "Python [conda env:.conda-storm-mode]",
   "language": "python",
   "name": "conda-env-.conda-storm-mode-py"
  },
  "language_info": {
   "codemirror_mode": {
    "name": "ipython",
    "version": 3
   },
   "file_extension": ".py",
   "mimetype": "text/x-python",
   "name": "python",
   "nbconvert_exporter": "python",
   "pygments_lexer": "ipython3",
   "version": "3.10.4"
  }
 },
 "nbformat": 4,
 "nbformat_minor": 5
}
