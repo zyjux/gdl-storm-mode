{
 "cells": [
  {
   "cell_type": "markdown",
   "id": "d43c4074-9d40-4773-bb9e-5b82768901bb",
   "metadata": {
    "tags": []
   },
   "source": [
    "## Imports"
   ]
  },
  {
   "cell_type": "code",
   "execution_count": 1,
   "id": "0742df0e-83c8-48e9-aaf5-39566a8df26d",
   "metadata": {},
   "outputs": [
    {
     "name": "stderr",
     "output_type": "stream",
     "text": [
      "2022-08-28 15:04:16.708792: I tensorflow/core/util/util.cc:169] oneDNN custom operations are on. You may see slightly different numerical results due to floating-point round-off errors from different computation orders. To turn them off, set the environment variable `TF_ENABLE_ONEDNN_OPTS=0`.\n"
     ]
    }
   ],
   "source": [
    "import tensorflow as tf\n",
    "from glob import glob\n",
    "from os.path import join\n",
    "from tensorflow.keras import layers, models\n",
    "import xarray as xr\n",
    "import pandas as pd\n",
    "import numpy as np\n",
    "import matplotlib.pyplot as plt\n",
    "import imports.GDL_layers as GDL_layers"
   ]
  },
  {
   "cell_type": "markdown",
   "id": "13598ba8-c4a2-42c4-b264-ed58f86b7aa0",
   "metadata": {
    "tags": []
   },
   "source": [
    "## Load data"
   ]
  },
  {
   "cell_type": "code",
   "execution_count": 2,
   "id": "7afe3aee-14b2-40f7-9158-efd870d91ad2",
   "metadata": {},
   "outputs": [],
   "source": [
    "# Find a list of all the datafiles\n",
    "patch_path = \"/glade/scratch/lverhoef/WRF_all/track_data_hrrr_3km_nc_refl/\"\n",
    "patch_files = sorted(glob(join(patch_path, \"*.nc\")))\n",
    "patch_ds = xr.open_dataset(patch_files[0])\n",
    "csv_path = \"/glade/scratch/lverhoef/WRF_all/track_data_hrrr_3km_csv_refl/\"\n",
    "csv_files = sorted(glob(join(csv_path, \"track_step_*.csv\")))\n",
    "meta_ds = pd.read_csv(csv_files[0])"
   ]
  },
  {
   "cell_type": "code",
   "execution_count": 3,
   "id": "a4c15a40-c6b6-4398-b61e-9456d06bf15f",
   "metadata": {},
   "outputs": [
    {
     "data": {
      "text/plain": [
       "'/glade/scratch/lverhoef/WRF_all/track_data_hrrr_3km_nc_refl/NCARSTORM_20101024-0000_d01_model_patches.nc'"
      ]
     },
     "execution_count": 3,
     "metadata": {},
     "output_type": "execute_result"
    }
   ],
   "source": [
    "patch_files[0]"
   ]
  },
  {
   "cell_type": "code",
   "execution_count": 4,
   "id": "254f696a-fded-491d-937c-930d37e11e6a",
   "metadata": {},
   "outputs": [
    {
     "data": {
      "text/plain": [
       "120"
      ]
     },
     "execution_count": 4,
     "metadata": {},
     "output_type": "execute_result"
    }
   ],
   "source": [
    "int(150*.8)"
   ]
  },
  {
   "cell_type": "code",
   "execution_count": 5,
   "id": "6fa13fdf-8537-4dbe-b401-a1b4bc439088",
   "metadata": {},
   "outputs": [
    {
     "data": {
      "text/plain": [
       "'/glade/scratch/lverhoef/WRF_all/track_data_hrrr_3km_nc_refl/NCARSTORM_20120614-0000_d01_model_patches.nc'"
      ]
     },
     "execution_count": 5,
     "metadata": {},
     "output_type": "execute_result"
    }
   ],
   "source": [
    "patch_files[149]"
   ]
  },
  {
   "cell_type": "code",
   "execution_count": 6,
   "id": "92f91904-785f-4e1e-8d82-ba1c2d54a973",
   "metadata": {},
   "outputs": [
    {
     "data": {
      "text/html": [
       "<div><svg style=\"position: absolute; width: 0; height: 0; overflow: hidden\">\n",
       "<defs>\n",
       "<symbol id=\"icon-database\" viewBox=\"0 0 32 32\">\n",
       "<path d=\"M16 0c-8.837 0-16 2.239-16 5v4c0 2.761 7.163 5 16 5s16-2.239 16-5v-4c0-2.761-7.163-5-16-5z\"></path>\n",
       "<path d=\"M16 17c-8.837 0-16-2.239-16-5v6c0 2.761 7.163 5 16 5s16-2.239 16-5v-6c0 2.761-7.163 5-16 5z\"></path>\n",
       "<path d=\"M16 26c-8.837 0-16-2.239-16-5v6c0 2.761 7.163 5 16 5s16-2.239 16-5v-6c0 2.761-7.163 5-16 5z\"></path>\n",
       "</symbol>\n",
       "<symbol id=\"icon-file-text2\" viewBox=\"0 0 32 32\">\n",
       "<path d=\"M28.681 7.159c-0.694-0.947-1.662-2.053-2.724-3.116s-2.169-2.030-3.116-2.724c-1.612-1.182-2.393-1.319-2.841-1.319h-15.5c-1.378 0-2.5 1.121-2.5 2.5v27c0 1.378 1.122 2.5 2.5 2.5h23c1.378 0 2.5-1.122 2.5-2.5v-19.5c0-0.448-0.137-1.23-1.319-2.841zM24.543 5.457c0.959 0.959 1.712 1.825 2.268 2.543h-4.811v-4.811c0.718 0.556 1.584 1.309 2.543 2.268zM28 29.5c0 0.271-0.229 0.5-0.5 0.5h-23c-0.271 0-0.5-0.229-0.5-0.5v-27c0-0.271 0.229-0.5 0.5-0.5 0 0 15.499-0 15.5 0v7c0 0.552 0.448 1 1 1h7v19.5z\"></path>\n",
       "<path d=\"M23 26h-14c-0.552 0-1-0.448-1-1s0.448-1 1-1h14c0.552 0 1 0.448 1 1s-0.448 1-1 1z\"></path>\n",
       "<path d=\"M23 22h-14c-0.552 0-1-0.448-1-1s0.448-1 1-1h14c0.552 0 1 0.448 1 1s-0.448 1-1 1z\"></path>\n",
       "<path d=\"M23 18h-14c-0.552 0-1-0.448-1-1s0.448-1 1-1h14c0.552 0 1 0.448 1 1s-0.448 1-1 1z\"></path>\n",
       "</symbol>\n",
       "</defs>\n",
       "</svg>\n",
       "<style>/* CSS stylesheet for displaying xarray objects in jupyterlab.\n",
       " *\n",
       " */\n",
       "\n",
       ":root {\n",
       "  --xr-font-color0: var(--jp-content-font-color0, rgba(0, 0, 0, 1));\n",
       "  --xr-font-color2: var(--jp-content-font-color2, rgba(0, 0, 0, 0.54));\n",
       "  --xr-font-color3: var(--jp-content-font-color3, rgba(0, 0, 0, 0.38));\n",
       "  --xr-border-color: var(--jp-border-color2, #e0e0e0);\n",
       "  --xr-disabled-color: var(--jp-layout-color3, #bdbdbd);\n",
       "  --xr-background-color: var(--jp-layout-color0, white);\n",
       "  --xr-background-color-row-even: var(--jp-layout-color1, white);\n",
       "  --xr-background-color-row-odd: var(--jp-layout-color2, #eeeeee);\n",
       "}\n",
       "\n",
       "html[theme=dark],\n",
       "body.vscode-dark {\n",
       "  --xr-font-color0: rgba(255, 255, 255, 1);\n",
       "  --xr-font-color2: rgba(255, 255, 255, 0.54);\n",
       "  --xr-font-color3: rgba(255, 255, 255, 0.38);\n",
       "  --xr-border-color: #1F1F1F;\n",
       "  --xr-disabled-color: #515151;\n",
       "  --xr-background-color: #111111;\n",
       "  --xr-background-color-row-even: #111111;\n",
       "  --xr-background-color-row-odd: #313131;\n",
       "}\n",
       "\n",
       ".xr-wrap {\n",
       "  display: block;\n",
       "  min-width: 300px;\n",
       "  max-width: 700px;\n",
       "}\n",
       "\n",
       ".xr-text-repr-fallback {\n",
       "  /* fallback to plain text repr when CSS is not injected (untrusted notebook) */\n",
       "  display: none;\n",
       "}\n",
       "\n",
       ".xr-header {\n",
       "  padding-top: 6px;\n",
       "  padding-bottom: 6px;\n",
       "  margin-bottom: 4px;\n",
       "  border-bottom: solid 1px var(--xr-border-color);\n",
       "}\n",
       "\n",
       ".xr-header > div,\n",
       ".xr-header > ul {\n",
       "  display: inline;\n",
       "  margin-top: 0;\n",
       "  margin-bottom: 0;\n",
       "}\n",
       "\n",
       ".xr-obj-type,\n",
       ".xr-array-name {\n",
       "  margin-left: 2px;\n",
       "  margin-right: 10px;\n",
       "}\n",
       "\n",
       ".xr-obj-type {\n",
       "  color: var(--xr-font-color2);\n",
       "}\n",
       "\n",
       ".xr-sections {\n",
       "  padding-left: 0 !important;\n",
       "  display: grid;\n",
       "  grid-template-columns: 150px auto auto 1fr 20px 20px;\n",
       "}\n",
       "\n",
       ".xr-section-item {\n",
       "  display: contents;\n",
       "}\n",
       "\n",
       ".xr-section-item input {\n",
       "  display: none;\n",
       "}\n",
       "\n",
       ".xr-section-item input + label {\n",
       "  color: var(--xr-disabled-color);\n",
       "}\n",
       "\n",
       ".xr-section-item input:enabled + label {\n",
       "  cursor: pointer;\n",
       "  color: var(--xr-font-color2);\n",
       "}\n",
       "\n",
       ".xr-section-item input:enabled + label:hover {\n",
       "  color: var(--xr-font-color0);\n",
       "}\n",
       "\n",
       ".xr-section-summary {\n",
       "  grid-column: 1;\n",
       "  color: var(--xr-font-color2);\n",
       "  font-weight: 500;\n",
       "}\n",
       "\n",
       ".xr-section-summary > span {\n",
       "  display: inline-block;\n",
       "  padding-left: 0.5em;\n",
       "}\n",
       "\n",
       ".xr-section-summary-in:disabled + label {\n",
       "  color: var(--xr-font-color2);\n",
       "}\n",
       "\n",
       ".xr-section-summary-in + label:before {\n",
       "  display: inline-block;\n",
       "  content: '►';\n",
       "  font-size: 11px;\n",
       "  width: 15px;\n",
       "  text-align: center;\n",
       "}\n",
       "\n",
       ".xr-section-summary-in:disabled + label:before {\n",
       "  color: var(--xr-disabled-color);\n",
       "}\n",
       "\n",
       ".xr-section-summary-in:checked + label:before {\n",
       "  content: '▼';\n",
       "}\n",
       "\n",
       ".xr-section-summary-in:checked + label > span {\n",
       "  display: none;\n",
       "}\n",
       "\n",
       ".xr-section-summary,\n",
       ".xr-section-inline-details {\n",
       "  padding-top: 4px;\n",
       "  padding-bottom: 4px;\n",
       "}\n",
       "\n",
       ".xr-section-inline-details {\n",
       "  grid-column: 2 / -1;\n",
       "}\n",
       "\n",
       ".xr-section-details {\n",
       "  display: none;\n",
       "  grid-column: 1 / -1;\n",
       "  margin-bottom: 5px;\n",
       "}\n",
       "\n",
       ".xr-section-summary-in:checked ~ .xr-section-details {\n",
       "  display: contents;\n",
       "}\n",
       "\n",
       ".xr-array-wrap {\n",
       "  grid-column: 1 / -1;\n",
       "  display: grid;\n",
       "  grid-template-columns: 20px auto;\n",
       "}\n",
       "\n",
       ".xr-array-wrap > label {\n",
       "  grid-column: 1;\n",
       "  vertical-align: top;\n",
       "}\n",
       "\n",
       ".xr-preview {\n",
       "  color: var(--xr-font-color3);\n",
       "}\n",
       "\n",
       ".xr-array-preview,\n",
       ".xr-array-data {\n",
       "  padding: 0 5px !important;\n",
       "  grid-column: 2;\n",
       "}\n",
       "\n",
       ".xr-array-data,\n",
       ".xr-array-in:checked ~ .xr-array-preview {\n",
       "  display: none;\n",
       "}\n",
       "\n",
       ".xr-array-in:checked ~ .xr-array-data,\n",
       ".xr-array-preview {\n",
       "  display: inline-block;\n",
       "}\n",
       "\n",
       ".xr-dim-list {\n",
       "  display: inline-block !important;\n",
       "  list-style: none;\n",
       "  padding: 0 !important;\n",
       "  margin: 0;\n",
       "}\n",
       "\n",
       ".xr-dim-list li {\n",
       "  display: inline-block;\n",
       "  padding: 0;\n",
       "  margin: 0;\n",
       "}\n",
       "\n",
       ".xr-dim-list:before {\n",
       "  content: '(';\n",
       "}\n",
       "\n",
       ".xr-dim-list:after {\n",
       "  content: ')';\n",
       "}\n",
       "\n",
       ".xr-dim-list li:not(:last-child):after {\n",
       "  content: ',';\n",
       "  padding-right: 5px;\n",
       "}\n",
       "\n",
       ".xr-has-index {\n",
       "  font-weight: bold;\n",
       "}\n",
       "\n",
       ".xr-var-list,\n",
       ".xr-var-item {\n",
       "  display: contents;\n",
       "}\n",
       "\n",
       ".xr-var-item > div,\n",
       ".xr-var-item label,\n",
       ".xr-var-item > .xr-var-name span {\n",
       "  background-color: var(--xr-background-color-row-even);\n",
       "  margin-bottom: 0;\n",
       "}\n",
       "\n",
       ".xr-var-item > .xr-var-name:hover span {\n",
       "  padding-right: 5px;\n",
       "}\n",
       "\n",
       ".xr-var-list > li:nth-child(odd) > div,\n",
       ".xr-var-list > li:nth-child(odd) > label,\n",
       ".xr-var-list > li:nth-child(odd) > .xr-var-name span {\n",
       "  background-color: var(--xr-background-color-row-odd);\n",
       "}\n",
       "\n",
       ".xr-var-name {\n",
       "  grid-column: 1;\n",
       "}\n",
       "\n",
       ".xr-var-dims {\n",
       "  grid-column: 2;\n",
       "}\n",
       "\n",
       ".xr-var-dtype {\n",
       "  grid-column: 3;\n",
       "  text-align: right;\n",
       "  color: var(--xr-font-color2);\n",
       "}\n",
       "\n",
       ".xr-var-preview {\n",
       "  grid-column: 4;\n",
       "}\n",
       "\n",
       ".xr-var-name,\n",
       ".xr-var-dims,\n",
       ".xr-var-dtype,\n",
       ".xr-preview,\n",
       ".xr-attrs dt {\n",
       "  white-space: nowrap;\n",
       "  overflow: hidden;\n",
       "  text-overflow: ellipsis;\n",
       "  padding-right: 10px;\n",
       "}\n",
       "\n",
       ".xr-var-name:hover,\n",
       ".xr-var-dims:hover,\n",
       ".xr-var-dtype:hover,\n",
       ".xr-attrs dt:hover {\n",
       "  overflow: visible;\n",
       "  width: auto;\n",
       "  z-index: 1;\n",
       "}\n",
       "\n",
       ".xr-var-attrs,\n",
       ".xr-var-data {\n",
       "  display: none;\n",
       "  background-color: var(--xr-background-color) !important;\n",
       "  padding-bottom: 5px !important;\n",
       "}\n",
       "\n",
       ".xr-var-attrs-in:checked ~ .xr-var-attrs,\n",
       ".xr-var-data-in:checked ~ .xr-var-data {\n",
       "  display: block;\n",
       "}\n",
       "\n",
       ".xr-var-data > table {\n",
       "  float: right;\n",
       "}\n",
       "\n",
       ".xr-var-name span,\n",
       ".xr-var-data,\n",
       ".xr-attrs {\n",
       "  padding-left: 25px !important;\n",
       "}\n",
       "\n",
       ".xr-attrs,\n",
       ".xr-var-attrs,\n",
       ".xr-var-data {\n",
       "  grid-column: 1 / -1;\n",
       "}\n",
       "\n",
       "dl.xr-attrs {\n",
       "  padding: 0;\n",
       "  margin: 0;\n",
       "  display: grid;\n",
       "  grid-template-columns: 125px auto;\n",
       "}\n",
       "\n",
       ".xr-attrs dt,\n",
       ".xr-attrs dd {\n",
       "  padding: 0;\n",
       "  margin: 0;\n",
       "  float: left;\n",
       "  padding-right: 10px;\n",
       "  width: auto;\n",
       "}\n",
       "\n",
       ".xr-attrs dt {\n",
       "  font-weight: normal;\n",
       "  grid-column: 1;\n",
       "}\n",
       "\n",
       ".xr-attrs dt:hover span {\n",
       "  display: inline-block;\n",
       "  background: var(--xr-background-color);\n",
       "  padding-right: 10px;\n",
       "}\n",
       "\n",
       ".xr-attrs dd {\n",
       "  grid-column: 2;\n",
       "  white-space: pre-wrap;\n",
       "  word-break: break-all;\n",
       "}\n",
       "\n",
       ".xr-icon-database,\n",
       ".xr-icon-file-text2 {\n",
       "  display: inline-block;\n",
       "  vertical-align: middle;\n",
       "  width: 1em;\n",
       "  height: 1.5em !important;\n",
       "  stroke-width: 0;\n",
       "  stroke: currentColor;\n",
       "  fill: currentColor;\n",
       "}\n",
       "</style><pre class='xr-text-repr-fallback'>&lt;xarray.Dataset&gt;\n",
       "Dimensions:           (p: 370, row: 144, col: 144)\n",
       "Coordinates:\n",
       "  * p                 (p) int32 0 1 2 3 4 5 6 7 ... 363 364 365 366 367 368 369\n",
       "  * row               (row) int32 0 1 2 3 4 5 6 ... 137 138 139 140 141 142 143\n",
       "  * col               (col) int32 0 1 2 3 4 5 6 ... 137 138 139 140 141 142 143\n",
       "Data variables: (12/26)\n",
       "    lon               (p, row, col) float32 ...\n",
       "    lat               (p, row, col) float32 ...\n",
       "    i                 (p, row, col) int32 ...\n",
       "    j                 (p, row, col) int32 ...\n",
       "    x                 (p, row, col) float32 ...\n",
       "    y                 (p, row, col) float32 ...\n",
       "    ...                ...\n",
       "    MLCAPE_prev       (p, row, col) float32 ...\n",
       "    USHR6_prev        (p, row, col) float32 ...\n",
       "    VSHR6_prev        (p, row, col) float32 ...\n",
       "    SBLCL_prev        (p, row, col) float32 ...\n",
       "    U_BUNK_prev       (p, row, col) float32 ...\n",
       "    V_BUNK_prev       (p, row, col) float32 ...\n",
       "Attributes: (12/36)\n",
       "    Conventions:             CF-1.6\n",
       "    title:                   NCARSTORM Storm Patches for run 20101024-0000 me...\n",
       "    object_variable:         REFL_COM\n",
       "    start_hour:              12\n",
       "    end_hour:                35\n",
       "    HRRR_alt_end_hour:       46\n",
       "    ...                      ...\n",
       "    single_step:             True\n",
       "    label_type:              gamma\n",
       "    model_map_file:          /glade/work/cbecker/hagelslag/mapfiles/ncar_stor...\n",
       "    mask_file:               None\n",
       "    run_date_format:         %Y%m%d-%H%M\n",
       "    json:                    False</pre><div class='xr-wrap' hidden><div class='xr-header'><div class='xr-obj-type'>xarray.Dataset</div></div><ul class='xr-sections'><li class='xr-section-item'><input id='section-af4229b6-5a8c-4eea-a91d-782e33b2ca1b' class='xr-section-summary-in' type='checkbox' disabled ><label for='section-af4229b6-5a8c-4eea-a91d-782e33b2ca1b' class='xr-section-summary'  title='Expand/collapse section'>Dimensions:</label><div class='xr-section-inline-details'><ul class='xr-dim-list'><li><span class='xr-has-index'>p</span>: 370</li><li><span class='xr-has-index'>row</span>: 144</li><li><span class='xr-has-index'>col</span>: 144</li></ul></div><div class='xr-section-details'></div></li><li class='xr-section-item'><input id='section-f6e3eb16-cd08-467d-869b-5891aed7aa47' class='xr-section-summary-in' type='checkbox'  checked><label for='section-f6e3eb16-cd08-467d-869b-5891aed7aa47' class='xr-section-summary' >Coordinates: <span>(3)</span></label><div class='xr-section-inline-details'></div><div class='xr-section-details'><ul class='xr-var-list'><li class='xr-var-item'><div class='xr-var-name'><span class='xr-has-index'>p</span></div><div class='xr-var-dims'>(p)</div><div class='xr-var-dtype'>int32</div><div class='xr-var-preview xr-preview'>0 1 2 3 4 5 ... 365 366 367 368 369</div><input id='attrs-22c7024c-148a-49b5-8e56-46f4e7b96b97' class='xr-var-attrs-in' type='checkbox' disabled><label for='attrs-22c7024c-148a-49b5-8e56-46f4e7b96b97' title='Show/Hide attributes'><svg class='icon xr-icon-file-text2'><use xlink:href='#icon-file-text2'></use></svg></label><input id='data-7546c8c7-e3a7-48ef-8286-fd2c411cfaa7' class='xr-var-data-in' type='checkbox'><label for='data-7546c8c7-e3a7-48ef-8286-fd2c411cfaa7' title='Show/Hide data repr'><svg class='icon xr-icon-database'><use xlink:href='#icon-database'></use></svg></label><div class='xr-var-attrs'><dl class='xr-attrs'></dl></div><div class='xr-var-data'><pre>array([  0,   1,   2, ..., 367, 368, 369], dtype=int32)</pre></div></li><li class='xr-var-item'><div class='xr-var-name'><span class='xr-has-index'>row</span></div><div class='xr-var-dims'>(row)</div><div class='xr-var-dtype'>int32</div><div class='xr-var-preview xr-preview'>0 1 2 3 4 5 ... 139 140 141 142 143</div><input id='attrs-a1d9bbf4-ae34-4eee-a3ef-d042fe565436' class='xr-var-attrs-in' type='checkbox' disabled><label for='attrs-a1d9bbf4-ae34-4eee-a3ef-d042fe565436' title='Show/Hide attributes'><svg class='icon xr-icon-file-text2'><use xlink:href='#icon-file-text2'></use></svg></label><input id='data-6ddd4f0d-6351-4bc6-b317-e9b319c46c81' class='xr-var-data-in' type='checkbox'><label for='data-6ddd4f0d-6351-4bc6-b317-e9b319c46c81' title='Show/Hide data repr'><svg class='icon xr-icon-database'><use xlink:href='#icon-database'></use></svg></label><div class='xr-var-attrs'><dl class='xr-attrs'></dl></div><div class='xr-var-data'><pre>array([  0,   1,   2,   3,   4,   5,   6,   7,   8,   9,  10,  11,  12,  13,\n",
       "        14,  15,  16,  17,  18,  19,  20,  21,  22,  23,  24,  25,  26,  27,\n",
       "        28,  29,  30,  31,  32,  33,  34,  35,  36,  37,  38,  39,  40,  41,\n",
       "        42,  43,  44,  45,  46,  47,  48,  49,  50,  51,  52,  53,  54,  55,\n",
       "        56,  57,  58,  59,  60,  61,  62,  63,  64,  65,  66,  67,  68,  69,\n",
       "        70,  71,  72,  73,  74,  75,  76,  77,  78,  79,  80,  81,  82,  83,\n",
       "        84,  85,  86,  87,  88,  89,  90,  91,  92,  93,  94,  95,  96,  97,\n",
       "        98,  99, 100, 101, 102, 103, 104, 105, 106, 107, 108, 109, 110, 111,\n",
       "       112, 113, 114, 115, 116, 117, 118, 119, 120, 121, 122, 123, 124, 125,\n",
       "       126, 127, 128, 129, 130, 131, 132, 133, 134, 135, 136, 137, 138, 139,\n",
       "       140, 141, 142, 143], dtype=int32)</pre></div></li><li class='xr-var-item'><div class='xr-var-name'><span class='xr-has-index'>col</span></div><div class='xr-var-dims'>(col)</div><div class='xr-var-dtype'>int32</div><div class='xr-var-preview xr-preview'>0 1 2 3 4 5 ... 139 140 141 142 143</div><input id='attrs-a3d5866d-7dd3-4ea0-b2d5-dbb57b4c602a' class='xr-var-attrs-in' type='checkbox' disabled><label for='attrs-a3d5866d-7dd3-4ea0-b2d5-dbb57b4c602a' title='Show/Hide attributes'><svg class='icon xr-icon-file-text2'><use xlink:href='#icon-file-text2'></use></svg></label><input id='data-3bb617eb-2886-4450-beb7-a091d4071259' class='xr-var-data-in' type='checkbox'><label for='data-3bb617eb-2886-4450-beb7-a091d4071259' title='Show/Hide data repr'><svg class='icon xr-icon-database'><use xlink:href='#icon-database'></use></svg></label><div class='xr-var-attrs'><dl class='xr-attrs'></dl></div><div class='xr-var-data'><pre>array([  0,   1,   2,   3,   4,   5,   6,   7,   8,   9,  10,  11,  12,  13,\n",
       "        14,  15,  16,  17,  18,  19,  20,  21,  22,  23,  24,  25,  26,  27,\n",
       "        28,  29,  30,  31,  32,  33,  34,  35,  36,  37,  38,  39,  40,  41,\n",
       "        42,  43,  44,  45,  46,  47,  48,  49,  50,  51,  52,  53,  54,  55,\n",
       "        56,  57,  58,  59,  60,  61,  62,  63,  64,  65,  66,  67,  68,  69,\n",
       "        70,  71,  72,  73,  74,  75,  76,  77,  78,  79,  80,  81,  82,  83,\n",
       "        84,  85,  86,  87,  88,  89,  90,  91,  92,  93,  94,  95,  96,  97,\n",
       "        98,  99, 100, 101, 102, 103, 104, 105, 106, 107, 108, 109, 110, 111,\n",
       "       112, 113, 114, 115, 116, 117, 118, 119, 120, 121, 122, 123, 124, 125,\n",
       "       126, 127, 128, 129, 130, 131, 132, 133, 134, 135, 136, 137, 138, 139,\n",
       "       140, 141, 142, 143], dtype=int32)</pre></div></li></ul></div></li><li class='xr-section-item'><input id='section-cc21b837-e0a0-481c-b89f-e81ba06ca82d' class='xr-section-summary-in' type='checkbox'  ><label for='section-cc21b837-e0a0-481c-b89f-e81ba06ca82d' class='xr-section-summary' >Data variables: <span>(26)</span></label><div class='xr-section-inline-details'></div><div class='xr-section-details'><ul class='xr-var-list'><li class='xr-var-item'><div class='xr-var-name'><span>lon</span></div><div class='xr-var-dims'>(p, row, col)</div><div class='xr-var-dtype'>float32</div><div class='xr-var-preview xr-preview'>...</div><input id='attrs-c0bb69a1-6a20-4d4c-b038-a427e400e529' class='xr-var-attrs-in' type='checkbox' ><label for='attrs-c0bb69a1-6a20-4d4c-b038-a427e400e529' title='Show/Hide attributes'><svg class='icon xr-icon-file-text2'><use xlink:href='#icon-file-text2'></use></svg></label><input id='data-8a6ad96a-23c9-4f7c-9cf6-c175cc289f36' class='xr-var-data-in' type='checkbox'><label for='data-8a6ad96a-23c9-4f7c-9cf6-c175cc289f36' title='Show/Hide data repr'><svg class='icon xr-icon-database'><use xlink:href='#icon-database'></use></svg></label><div class='xr-var-attrs'><dl class='xr-attrs'><dt><span>long_name :</span></dt><dd>lon</dd><dt><span>units :</span></dt><dd>degrees_east</dd></dl></div><div class='xr-var-data'><pre>[7672320 values with dtype=float32]</pre></div></li><li class='xr-var-item'><div class='xr-var-name'><span>lat</span></div><div class='xr-var-dims'>(p, row, col)</div><div class='xr-var-dtype'>float32</div><div class='xr-var-preview xr-preview'>...</div><input id='attrs-42637c3f-ddee-4adb-9712-cc990c8be71a' class='xr-var-attrs-in' type='checkbox' ><label for='attrs-42637c3f-ddee-4adb-9712-cc990c8be71a' title='Show/Hide attributes'><svg class='icon xr-icon-file-text2'><use xlink:href='#icon-file-text2'></use></svg></label><input id='data-9a031796-fed4-40b0-8a08-399b90fa95ee' class='xr-var-data-in' type='checkbox'><label for='data-9a031796-fed4-40b0-8a08-399b90fa95ee' title='Show/Hide data repr'><svg class='icon xr-icon-database'><use xlink:href='#icon-database'></use></svg></label><div class='xr-var-attrs'><dl class='xr-attrs'><dt><span>long_name :</span></dt><dd>lat</dd><dt><span>units :</span></dt><dd>degrees_north</dd></dl></div><div class='xr-var-data'><pre>[7672320 values with dtype=float32]</pre></div></li><li class='xr-var-item'><div class='xr-var-name'><span>i</span></div><div class='xr-var-dims'>(p, row, col)</div><div class='xr-var-dtype'>int32</div><div class='xr-var-preview xr-preview'>...</div><input id='attrs-7d35d184-f37c-4f9a-9b2c-c14cdc53a8a3' class='xr-var-attrs-in' type='checkbox' ><label for='attrs-7d35d184-f37c-4f9a-9b2c-c14cdc53a8a3' title='Show/Hide attributes'><svg class='icon xr-icon-file-text2'><use xlink:href='#icon-file-text2'></use></svg></label><input id='data-47c5e5eb-e355-4c33-b860-959fb86aead2' class='xr-var-data-in' type='checkbox'><label for='data-47c5e5eb-e355-4c33-b860-959fb86aead2' title='Show/Hide data repr'><svg class='icon xr-icon-database'><use xlink:href='#icon-database'></use></svg></label><div class='xr-var-attrs'><dl class='xr-attrs'><dt><span>long_name :</span></dt><dd>i</dd><dt><span>units :</span></dt><dd></dd></dl></div><div class='xr-var-data'><pre>[7672320 values with dtype=int32]</pre></div></li><li class='xr-var-item'><div class='xr-var-name'><span>j</span></div><div class='xr-var-dims'>(p, row, col)</div><div class='xr-var-dtype'>int32</div><div class='xr-var-preview xr-preview'>...</div><input id='attrs-22770640-67bb-4855-b4cc-2ccaefd33506' class='xr-var-attrs-in' type='checkbox' ><label for='attrs-22770640-67bb-4855-b4cc-2ccaefd33506' title='Show/Hide attributes'><svg class='icon xr-icon-file-text2'><use xlink:href='#icon-file-text2'></use></svg></label><input id='data-a1133ed3-6d5b-4dcf-b3de-0945b5b8cbd5' class='xr-var-data-in' type='checkbox'><label for='data-a1133ed3-6d5b-4dcf-b3de-0945b5b8cbd5' title='Show/Hide data repr'><svg class='icon xr-icon-database'><use xlink:href='#icon-database'></use></svg></label><div class='xr-var-attrs'><dl class='xr-attrs'><dt><span>long_name :</span></dt><dd>j</dd><dt><span>units :</span></dt><dd></dd></dl></div><div class='xr-var-data'><pre>[7672320 values with dtype=int32]</pre></div></li><li class='xr-var-item'><div class='xr-var-name'><span>x</span></div><div class='xr-var-dims'>(p, row, col)</div><div class='xr-var-dtype'>float32</div><div class='xr-var-preview xr-preview'>...</div><input id='attrs-a97f019c-6b90-48ac-b298-906f95111287' class='xr-var-attrs-in' type='checkbox' ><label for='attrs-a97f019c-6b90-48ac-b298-906f95111287' title='Show/Hide attributes'><svg class='icon xr-icon-file-text2'><use xlink:href='#icon-file-text2'></use></svg></label><input id='data-12367e69-bf14-4753-ad6a-70b35b71f029' class='xr-var-data-in' type='checkbox'><label for='data-12367e69-bf14-4753-ad6a-70b35b71f029' title='Show/Hide data repr'><svg class='icon xr-icon-database'><use xlink:href='#icon-database'></use></svg></label><div class='xr-var-attrs'><dl class='xr-attrs'><dt><span>long_name :</span></dt><dd>x</dd><dt><span>units :</span></dt><dd>m</dd></dl></div><div class='xr-var-data'><pre>[7672320 values with dtype=float32]</pre></div></li><li class='xr-var-item'><div class='xr-var-name'><span>y</span></div><div class='xr-var-dims'>(p, row, col)</div><div class='xr-var-dtype'>float32</div><div class='xr-var-preview xr-preview'>...</div><input id='attrs-e05f8b47-9a5b-4b7e-9ab4-95ac6a8c9eee' class='xr-var-attrs-in' type='checkbox' ><label for='attrs-e05f8b47-9a5b-4b7e-9ab4-95ac6a8c9eee' title='Show/Hide attributes'><svg class='icon xr-icon-file-text2'><use xlink:href='#icon-file-text2'></use></svg></label><input id='data-8ad22cfc-b422-446e-80ae-bfa6a88a7a47' class='xr-var-data-in' type='checkbox'><label for='data-8ad22cfc-b422-446e-80ae-bfa6a88a7a47' title='Show/Hide data repr'><svg class='icon xr-icon-database'><use xlink:href='#icon-database'></use></svg></label><div class='xr-var-attrs'><dl class='xr-attrs'><dt><span>long_name :</span></dt><dd>y</dd><dt><span>units :</span></dt><dd>m</dd></dl></div><div class='xr-var-data'><pre>[7672320 values with dtype=float32]</pre></div></li><li class='xr-var-item'><div class='xr-var-name'><span>masks</span></div><div class='xr-var-dims'>(p, row, col)</div><div class='xr-var-dtype'>int32</div><div class='xr-var-preview xr-preview'>...</div><input id='attrs-982f6b9c-2388-498b-933a-c9136a98e61b' class='xr-var-attrs-in' type='checkbox' ><label for='attrs-982f6b9c-2388-498b-933a-c9136a98e61b' title='Show/Hide attributes'><svg class='icon xr-icon-file-text2'><use xlink:href='#icon-file-text2'></use></svg></label><input id='data-bedb690c-3266-4ec4-829d-423a01a151e9' class='xr-var-data-in' type='checkbox'><label for='data-bedb690c-3266-4ec4-829d-423a01a151e9' title='Show/Hide data repr'><svg class='icon xr-icon-database'><use xlink:href='#icon-database'></use></svg></label><div class='xr-var-attrs'><dl class='xr-attrs'><dt><span>long_name :</span></dt><dd>masks</dd><dt><span>units :</span></dt><dd></dd></dl></div><div class='xr-var-data'><pre>[7672320 values with dtype=int32]</pre></div></li><li class='xr-var-item'><div class='xr-var-name'><span>time</span></div><div class='xr-var-dims'>(p)</div><div class='xr-var-dtype'>datetime64[ns]</div><div class='xr-var-preview xr-preview'>...</div><input id='attrs-c79f2e69-d459-4ce0-a9b1-7c4464d5a060' class='xr-var-attrs-in' type='checkbox' ><label for='attrs-c79f2e69-d459-4ce0-a9b1-7c4464d5a060' title='Show/Hide attributes'><svg class='icon xr-icon-file-text2'><use xlink:href='#icon-file-text2'></use></svg></label><input id='data-3d8a60ff-d565-4770-a87b-04b6b9e80f98' class='xr-var-data-in' type='checkbox'><label for='data-3d8a60ff-d565-4770-a87b-04b6b9e80f98' title='Show/Hide data repr'><svg class='icon xr-icon-database'><use xlink:href='#icon-database'></use></svg></label><div class='xr-var-attrs'><dl class='xr-attrs'><dt><span>long_name :</span></dt><dd>time</dd></dl></div><div class='xr-var-data'><pre>array([&#x27;2010-10-24T12:00:00.000000000&#x27;, &#x27;2010-10-24T13:00:00.000000000&#x27;,\n",
       "       &#x27;2010-10-24T12:00:00.000000000&#x27;, ..., &#x27;2010-10-25T11:00:00.000000000&#x27;,\n",
       "       &#x27;2010-10-25T11:00:00.000000000&#x27;, &#x27;2010-10-25T11:00:00.000000000&#x27;],\n",
       "      dtype=&#x27;datetime64[ns]&#x27;)</pre></div></li><li class='xr-var-item'><div class='xr-var-name'><span>centroid_lon</span></div><div class='xr-var-dims'>(p)</div><div class='xr-var-dtype'>float32</div><div class='xr-var-preview xr-preview'>...</div><input id='attrs-8494c9a4-351c-418e-b8cf-cbf5c907b831' class='xr-var-attrs-in' type='checkbox' ><label for='attrs-8494c9a4-351c-418e-b8cf-cbf5c907b831' title='Show/Hide attributes'><svg class='icon xr-icon-file-text2'><use xlink:href='#icon-file-text2'></use></svg></label><input id='data-9539428d-e71c-4f36-a31e-c53b7c5f39d7' class='xr-var-data-in' type='checkbox'><label for='data-9539428d-e71c-4f36-a31e-c53b7c5f39d7' title='Show/Hide data repr'><svg class='icon xr-icon-database'><use xlink:href='#icon-database'></use></svg></label><div class='xr-var-attrs'><dl class='xr-attrs'><dt><span>long_name :</span></dt><dd>centroid_lon</dd><dt><span>units :</span></dt><dd>degrees_east</dd></dl></div><div class='xr-var-data'><pre>array([-98.410194, -97.69198 , -95.15486 , ..., -88.18374 , -82.50549 ,\n",
       "       -81.38741 ], dtype=float32)</pre></div></li><li class='xr-var-item'><div class='xr-var-name'><span>centroid_lat</span></div><div class='xr-var-dims'>(p)</div><div class='xr-var-dtype'>float32</div><div class='xr-var-preview xr-preview'>...</div><input id='attrs-665a3730-7178-43bd-ab2b-7cbe0a20ccb7' class='xr-var-attrs-in' type='checkbox' ><label for='attrs-665a3730-7178-43bd-ab2b-7cbe0a20ccb7' title='Show/Hide attributes'><svg class='icon xr-icon-file-text2'><use xlink:href='#icon-file-text2'></use></svg></label><input id='data-c16fe23c-ac12-4dfe-88a2-6e2c05d1279e' class='xr-var-data-in' type='checkbox'><label for='data-c16fe23c-ac12-4dfe-88a2-6e2c05d1279e' title='Show/Hide data repr'><svg class='icon xr-icon-database'><use xlink:href='#icon-database'></use></svg></label><div class='xr-var-attrs'><dl class='xr-attrs'><dt><span>long_name :</span></dt><dd>centroid_lat</dd><dt><span>units :</span></dt><dd>degrees_north</dd></dl></div><div class='xr-var-data'><pre>array([42.940327, 43.090134, 44.222034, ..., 39.369667, 38.614746, 46.239307],\n",
       "      dtype=float32)</pre></div></li><li class='xr-var-item'><div class='xr-var-name'><span>centroid_i</span></div><div class='xr-var-dims'>(p)</div><div class='xr-var-dtype'>float32</div><div class='xr-var-preview xr-preview'>...</div><input id='attrs-95b298d5-b392-4f3f-93ff-68fdd814bad7' class='xr-var-attrs-in' type='checkbox' ><label for='attrs-95b298d5-b392-4f3f-93ff-68fdd814bad7' title='Show/Hide attributes'><svg class='icon xr-icon-file-text2'><use xlink:href='#icon-file-text2'></use></svg></label><input id='data-b1261a2d-bbb5-4f51-b45e-ae2c87fdc954' class='xr-var-data-in' type='checkbox'><label for='data-b1261a2d-bbb5-4f51-b45e-ae2c87fdc954' title='Show/Hide data repr'><svg class='icon xr-icon-database'><use xlink:href='#icon-database'></use></svg></label><div class='xr-var-attrs'><dl class='xr-attrs'><dt><span>long_name :</span></dt><dd>centroid_i</dd><dt><span>units :</span></dt><dd></dd></dl></div><div class='xr-var-data'><pre>array([661., 667., 712., ..., 554., 554., 836.], dtype=float32)</pre></div></li><li class='xr-var-item'><div class='xr-var-name'><span>centroid_j</span></div><div class='xr-var-dims'>(p)</div><div class='xr-var-dtype'>float32</div><div class='xr-var-preview xr-preview'>...</div><input id='attrs-040605dc-9122-450e-aebf-06abd60dbf05' class='xr-var-attrs-in' type='checkbox' ><label for='attrs-040605dc-9122-450e-aebf-06abd60dbf05' title='Show/Hide attributes'><svg class='icon xr-icon-file-text2'><use xlink:href='#icon-file-text2'></use></svg></label><input id='data-d637e733-2c9b-4a5d-8ef2-c777bfb3170f' class='xr-var-data-in' type='checkbox'><label for='data-d637e733-2c9b-4a5d-8ef2-c777bfb3170f' title='Show/Hide data repr'><svg class='icon xr-icon-database'><use xlink:href='#icon-database'></use></svg></label><div class='xr-var-attrs'><dl class='xr-attrs'><dt><span>long_name :</span></dt><dd>centroid_j</dd><dt><span>units :</span></dt><dd></dd></dl></div><div class='xr-var-data'><pre>array([ 759.,  779.,  844., ..., 1053., 1217., 1189.], dtype=float32)</pre></div></li><li class='xr-var-item'><div class='xr-var-name'><span>track_id</span></div><div class='xr-var-dims'>(p)</div><div class='xr-var-dtype'>int32</div><div class='xr-var-preview xr-preview'>...</div><input id='attrs-3ac0e255-f1f3-438c-a166-8ba828f1db21' class='xr-var-attrs-in' type='checkbox' ><label for='attrs-3ac0e255-f1f3-438c-a166-8ba828f1db21' title='Show/Hide attributes'><svg class='icon xr-icon-file-text2'><use xlink:href='#icon-file-text2'></use></svg></label><input id='data-f0e40532-3b11-4072-82e0-b7bdbd9efb36' class='xr-var-data-in' type='checkbox'><label for='data-f0e40532-3b11-4072-82e0-b7bdbd9efb36' title='Show/Hide data repr'><svg class='icon xr-icon-database'><use xlink:href='#icon-database'></use></svg></label><div class='xr-var-attrs'><dl class='xr-attrs'><dt><span>long_name :</span></dt><dd>track_id</dd><dt><span>units :</span></dt><dd></dd></dl></div><div class='xr-var-data'><pre>array([  0,   0,   1, ..., 240, 241, 242], dtype=int32)</pre></div></li><li class='xr-var-item'><div class='xr-var-name'><span>track_step</span></div><div class='xr-var-dims'>(p)</div><div class='xr-var-dtype'>int32</div><div class='xr-var-preview xr-preview'>...</div><input id='attrs-fa9cb969-0fe7-48c6-9446-3935f08e9c17' class='xr-var-attrs-in' type='checkbox' ><label for='attrs-fa9cb969-0fe7-48c6-9446-3935f08e9c17' title='Show/Hide attributes'><svg class='icon xr-icon-file-text2'><use xlink:href='#icon-file-text2'></use></svg></label><input id='data-dea56d72-96d9-478c-a5c0-479315e94fe6' class='xr-var-data-in' type='checkbox'><label for='data-dea56d72-96d9-478c-a5c0-479315e94fe6' title='Show/Hide data repr'><svg class='icon xr-icon-database'><use xlink:href='#icon-database'></use></svg></label><div class='xr-var-attrs'><dl class='xr-attrs'><dt><span>long_name :</span></dt><dd>track_step</dd><dt><span>units :</span></dt><dd></dd></dl></div><div class='xr-var-data'><pre>array([1, 2, 1, ..., 1, 1, 1], dtype=int32)</pre></div></li><li class='xr-var-item'><div class='xr-var-name'><span>REFL_COM_curr</span></div><div class='xr-var-dims'>(p, row, col)</div><div class='xr-var-dtype'>float32</div><div class='xr-var-preview xr-preview'>...</div><input id='attrs-bb504cb7-7acb-4dcc-b8af-681fdb190844' class='xr-var-attrs-in' type='checkbox' ><label for='attrs-bb504cb7-7acb-4dcc-b8af-681fdb190844' title='Show/Hide attributes'><svg class='icon xr-icon-file-text2'><use xlink:href='#icon-file-text2'></use></svg></label><input id='data-695185fd-815e-448d-a3c1-7d99650754c7' class='xr-var-data-in' type='checkbox'><label for='data-695185fd-815e-448d-a3c1-7d99650754c7' title='Show/Hide data repr'><svg class='icon xr-icon-database'><use xlink:href='#icon-database'></use></svg></label><div class='xr-var-attrs'><dl class='xr-attrs'><dt><span>long_name :</span></dt><dd>REFL_COM</dd><dt><span>units :</span></dt><dd></dd></dl></div><div class='xr-var-data'><pre>[7672320 values with dtype=float32]</pre></div></li><li class='xr-var-item'><div class='xr-var-name'><span>UP_HELI_MAX_curr</span></div><div class='xr-var-dims'>(p, row, col)</div><div class='xr-var-dtype'>float32</div><div class='xr-var-preview xr-preview'>...</div><input id='attrs-29f3c01b-4fe1-4a5f-a576-888f92dd3468' class='xr-var-attrs-in' type='checkbox' ><label for='attrs-29f3c01b-4fe1-4a5f-a576-888f92dd3468' title='Show/Hide attributes'><svg class='icon xr-icon-file-text2'><use xlink:href='#icon-file-text2'></use></svg></label><input id='data-1d931f3e-a63d-4e69-9613-1e01d741f304' class='xr-var-data-in' type='checkbox'><label for='data-1d931f3e-a63d-4e69-9613-1e01d741f304' title='Show/Hide data repr'><svg class='icon xr-icon-database'><use xlink:href='#icon-database'></use></svg></label><div class='xr-var-attrs'><dl class='xr-attrs'><dt><span>long_name :</span></dt><dd>UP_HELI_MAX</dd><dt><span>units :</span></dt><dd></dd></dl></div><div class='xr-var-data'><pre>[7672320 values with dtype=float32]</pre></div></li><li class='xr-var-item'><div class='xr-var-name'><span>U10_curr</span></div><div class='xr-var-dims'>(p, row, col)</div><div class='xr-var-dtype'>float32</div><div class='xr-var-preview xr-preview'>...</div><input id='attrs-d009527c-7cd9-45e8-b6e7-f60965688622' class='xr-var-attrs-in' type='checkbox' ><label for='attrs-d009527c-7cd9-45e8-b6e7-f60965688622' title='Show/Hide attributes'><svg class='icon xr-icon-file-text2'><use xlink:href='#icon-file-text2'></use></svg></label><input id='data-d1ba4afb-be5b-46e7-928c-5b5c3ddaa909' class='xr-var-data-in' type='checkbox'><label for='data-d1ba4afb-be5b-46e7-928c-5b5c3ddaa909' title='Show/Hide data repr'><svg class='icon xr-icon-database'><use xlink:href='#icon-database'></use></svg></label><div class='xr-var-attrs'><dl class='xr-attrs'><dt><span>long_name :</span></dt><dd>U10</dd><dt><span>units :</span></dt><dd></dd></dl></div><div class='xr-var-data'><pre>[7672320 values with dtype=float32]</pre></div></li><li class='xr-var-item'><div class='xr-var-name'><span>V10_curr</span></div><div class='xr-var-dims'>(p, row, col)</div><div class='xr-var-dtype'>float32</div><div class='xr-var-preview xr-preview'>...</div><input id='attrs-ef8e9764-4f71-46c0-a223-153d4573316f' class='xr-var-attrs-in' type='checkbox' ><label for='attrs-ef8e9764-4f71-46c0-a223-153d4573316f' title='Show/Hide attributes'><svg class='icon xr-icon-file-text2'><use xlink:href='#icon-file-text2'></use></svg></label><input id='data-1df09a01-207f-4284-b7f9-c4bb23943da5' class='xr-var-data-in' type='checkbox'><label for='data-1df09a01-207f-4284-b7f9-c4bb23943da5' title='Show/Hide data repr'><svg class='icon xr-icon-database'><use xlink:href='#icon-database'></use></svg></label><div class='xr-var-attrs'><dl class='xr-attrs'><dt><span>long_name :</span></dt><dd>V10</dd><dt><span>units :</span></dt><dd></dd></dl></div><div class='xr-var-data'><pre>[7672320 values with dtype=float32]</pre></div></li><li class='xr-var-item'><div class='xr-var-name'><span>GRPL_MAX_curr</span></div><div class='xr-var-dims'>(p, row, col)</div><div class='xr-var-dtype'>float32</div><div class='xr-var-preview xr-preview'>...</div><input id='attrs-489d814d-938f-4296-8e08-26bd007a3401' class='xr-var-attrs-in' type='checkbox' ><label for='attrs-489d814d-938f-4296-8e08-26bd007a3401' title='Show/Hide attributes'><svg class='icon xr-icon-file-text2'><use xlink:href='#icon-file-text2'></use></svg></label><input id='data-ee739290-e029-4954-a344-bbd5ed88f108' class='xr-var-data-in' type='checkbox'><label for='data-ee739290-e029-4954-a344-bbd5ed88f108' title='Show/Hide data repr'><svg class='icon xr-icon-database'><use xlink:href='#icon-database'></use></svg></label><div class='xr-var-attrs'><dl class='xr-attrs'><dt><span>long_name :</span></dt><dd>GRPL_MAX</dd><dt><span>units :</span></dt><dd></dd></dl></div><div class='xr-var-data'><pre>[7672320 values with dtype=float32]</pre></div></li><li class='xr-var-item'><div class='xr-var-name'><span>W_UP_MAX_curr</span></div><div class='xr-var-dims'>(p, row, col)</div><div class='xr-var-dtype'>float32</div><div class='xr-var-preview xr-preview'>...</div><input id='attrs-86753cae-ba6f-4eb5-92d9-350006a5bb46' class='xr-var-attrs-in' type='checkbox' ><label for='attrs-86753cae-ba6f-4eb5-92d9-350006a5bb46' title='Show/Hide attributes'><svg class='icon xr-icon-file-text2'><use xlink:href='#icon-file-text2'></use></svg></label><input id='data-2de4f34d-341b-45b7-9ac6-99ff2e5f21ba' class='xr-var-data-in' type='checkbox'><label for='data-2de4f34d-341b-45b7-9ac6-99ff2e5f21ba' title='Show/Hide data repr'><svg class='icon xr-icon-database'><use xlink:href='#icon-database'></use></svg></label><div class='xr-var-attrs'><dl class='xr-attrs'><dt><span>long_name :</span></dt><dd>W_UP_MAX</dd><dt><span>units :</span></dt><dd></dd></dl></div><div class='xr-var-data'><pre>[7672320 values with dtype=float32]</pre></div></li><li class='xr-var-item'><div class='xr-var-name'><span>MLCAPE_prev</span></div><div class='xr-var-dims'>(p, row, col)</div><div class='xr-var-dtype'>float32</div><div class='xr-var-preview xr-preview'>...</div><input id='attrs-f80ede5c-cce2-47d4-be32-d4999bfae0a1' class='xr-var-attrs-in' type='checkbox' ><label for='attrs-f80ede5c-cce2-47d4-be32-d4999bfae0a1' title='Show/Hide attributes'><svg class='icon xr-icon-file-text2'><use xlink:href='#icon-file-text2'></use></svg></label><input id='data-db3c5cb0-97d0-4152-bdf7-643294508ec9' class='xr-var-data-in' type='checkbox'><label for='data-db3c5cb0-97d0-4152-bdf7-643294508ec9' title='Show/Hide data repr'><svg class='icon xr-icon-database'><use xlink:href='#icon-database'></use></svg></label><div class='xr-var-attrs'><dl class='xr-attrs'><dt><span>long_name :</span></dt><dd>MLCAPE</dd><dt><span>units :</span></dt><dd></dd></dl></div><div class='xr-var-data'><pre>[7672320 values with dtype=float32]</pre></div></li><li class='xr-var-item'><div class='xr-var-name'><span>USHR6_prev</span></div><div class='xr-var-dims'>(p, row, col)</div><div class='xr-var-dtype'>float32</div><div class='xr-var-preview xr-preview'>...</div><input id='attrs-475fc363-df87-4585-ba6a-b3c1a7433b4b' class='xr-var-attrs-in' type='checkbox' ><label for='attrs-475fc363-df87-4585-ba6a-b3c1a7433b4b' title='Show/Hide attributes'><svg class='icon xr-icon-file-text2'><use xlink:href='#icon-file-text2'></use></svg></label><input id='data-253494cc-463b-40c1-aff7-3980ea0c09dd' class='xr-var-data-in' type='checkbox'><label for='data-253494cc-463b-40c1-aff7-3980ea0c09dd' title='Show/Hide data repr'><svg class='icon xr-icon-database'><use xlink:href='#icon-database'></use></svg></label><div class='xr-var-attrs'><dl class='xr-attrs'><dt><span>long_name :</span></dt><dd>USHR6</dd><dt><span>units :</span></dt><dd></dd></dl></div><div class='xr-var-data'><pre>[7672320 values with dtype=float32]</pre></div></li><li class='xr-var-item'><div class='xr-var-name'><span>VSHR6_prev</span></div><div class='xr-var-dims'>(p, row, col)</div><div class='xr-var-dtype'>float32</div><div class='xr-var-preview xr-preview'>...</div><input id='attrs-411c3b5b-486d-45cc-98e0-5c4849f8da80' class='xr-var-attrs-in' type='checkbox' ><label for='attrs-411c3b5b-486d-45cc-98e0-5c4849f8da80' title='Show/Hide attributes'><svg class='icon xr-icon-file-text2'><use xlink:href='#icon-file-text2'></use></svg></label><input id='data-722b06a6-292c-41ad-aa68-a2d1cde6087a' class='xr-var-data-in' type='checkbox'><label for='data-722b06a6-292c-41ad-aa68-a2d1cde6087a' title='Show/Hide data repr'><svg class='icon xr-icon-database'><use xlink:href='#icon-database'></use></svg></label><div class='xr-var-attrs'><dl class='xr-attrs'><dt><span>long_name :</span></dt><dd>VSHR6</dd><dt><span>units :</span></dt><dd></dd></dl></div><div class='xr-var-data'><pre>[7672320 values with dtype=float32]</pre></div></li><li class='xr-var-item'><div class='xr-var-name'><span>SBLCL_prev</span></div><div class='xr-var-dims'>(p, row, col)</div><div class='xr-var-dtype'>float32</div><div class='xr-var-preview xr-preview'>...</div><input id='attrs-75a322be-395b-4166-925a-b64596726aba' class='xr-var-attrs-in' type='checkbox' ><label for='attrs-75a322be-395b-4166-925a-b64596726aba' title='Show/Hide attributes'><svg class='icon xr-icon-file-text2'><use xlink:href='#icon-file-text2'></use></svg></label><input id='data-20467d6f-d193-4da9-9158-355a0047c764' class='xr-var-data-in' type='checkbox'><label for='data-20467d6f-d193-4da9-9158-355a0047c764' title='Show/Hide data repr'><svg class='icon xr-icon-database'><use xlink:href='#icon-database'></use></svg></label><div class='xr-var-attrs'><dl class='xr-attrs'><dt><span>long_name :</span></dt><dd>SBLCL</dd><dt><span>units :</span></dt><dd></dd></dl></div><div class='xr-var-data'><pre>[7672320 values with dtype=float32]</pre></div></li><li class='xr-var-item'><div class='xr-var-name'><span>U_BUNK_prev</span></div><div class='xr-var-dims'>(p, row, col)</div><div class='xr-var-dtype'>float32</div><div class='xr-var-preview xr-preview'>...</div><input id='attrs-f9f76018-23bd-4144-8cce-2aa264d77d20' class='xr-var-attrs-in' type='checkbox' ><label for='attrs-f9f76018-23bd-4144-8cce-2aa264d77d20' title='Show/Hide attributes'><svg class='icon xr-icon-file-text2'><use xlink:href='#icon-file-text2'></use></svg></label><input id='data-bea40256-88ba-4f7f-8268-5f964ad0fdb4' class='xr-var-data-in' type='checkbox'><label for='data-bea40256-88ba-4f7f-8268-5f964ad0fdb4' title='Show/Hide data repr'><svg class='icon xr-icon-database'><use xlink:href='#icon-database'></use></svg></label><div class='xr-var-attrs'><dl class='xr-attrs'><dt><span>long_name :</span></dt><dd>U_BUNK</dd><dt><span>units :</span></dt><dd></dd></dl></div><div class='xr-var-data'><pre>[7672320 values with dtype=float32]</pre></div></li><li class='xr-var-item'><div class='xr-var-name'><span>V_BUNK_prev</span></div><div class='xr-var-dims'>(p, row, col)</div><div class='xr-var-dtype'>float32</div><div class='xr-var-preview xr-preview'>...</div><input id='attrs-bf570003-ab4d-451c-8071-4209bd3e8854' class='xr-var-attrs-in' type='checkbox' ><label for='attrs-bf570003-ab4d-451c-8071-4209bd3e8854' title='Show/Hide attributes'><svg class='icon xr-icon-file-text2'><use xlink:href='#icon-file-text2'></use></svg></label><input id='data-805cf4ac-ceff-48bb-88bf-fe65c3cb8b64' class='xr-var-data-in' type='checkbox'><label for='data-805cf4ac-ceff-48bb-88bf-fe65c3cb8b64' title='Show/Hide data repr'><svg class='icon xr-icon-database'><use xlink:href='#icon-database'></use></svg></label><div class='xr-var-attrs'><dl class='xr-attrs'><dt><span>long_name :</span></dt><dd>V_BUNK</dd><dt><span>units :</span></dt><dd></dd></dl></div><div class='xr-var-data'><pre>[7672320 values with dtype=float32]</pre></div></li></ul></div></li><li class='xr-section-item'><input id='section-ce5ef2eb-35b2-4fcd-9250-5f93f0e0307e' class='xr-section-summary-in' type='checkbox'  ><label for='section-ce5ef2eb-35b2-4fcd-9250-5f93f0e0307e' class='xr-section-summary' >Attributes: <span>(36)</span></label><div class='xr-section-inline-details'></div><div class='xr-section-details'><dl class='xr-attrs'><dt><span>Conventions :</span></dt><dd>CF-1.6</dd><dt><span>title :</span></dt><dd>NCARSTORM Storm Patches for run 20101024-0000 member d01</dd><dt><span>object_variable :</span></dt><dd>REFL_COM</dd><dt><span>start_hour :</span></dt><dd>12</dd><dt><span>end_hour :</span></dt><dd>35</dd><dt><span>HRRR_alt_end_hour :</span></dt><dd>46</dd><dt><span>HRRR_alt_run_hours :</span></dt><dd>[0, 6, 12, 18]</dd><dt><span>watershed_variable :</span></dt><dd>REFL_COM</dd><dt><span>ensemble_name :</span></dt><dd>NCARSTORM</dd><dt><span>ensemble_members :</span></dt><dd>[&#x27;d01&#x27;]</dd><dt><span>model_path :</span></dt><dd>/glade/p/mmm/parc/sobash/NSC/3KM_WRF_POST_12sec_ts/</dd><dt><span>segmentation_approach :</span></dt><dd>hyst</dd><dt><span>model_watershed_params :</span></dt><dd>(35, 50)</dd><dt><span>size_filter :</span></dt><dd>12</dd><dt><span>gaussian_window :</span></dt><dd>1</dd><dt><span>mrms_path :</span></dt><dd>None</dd><dt><span>mrms_variable :</span></dt><dd>MESH_Max_60min_00.50</dd><dt><span>mrms_watershed_params :</span></dt><dd>(13, 1, 125, 100, 100)</dd><dt><span>object_matcher_params :</span></dt><dd>([&lt;function shifted_centroid_distance at 0x2af790d8d790&gt;], array([1.]), array([24000]))</dd><dt><span>track_matcher_params :</span></dt><dd>([&lt;function centroid_distance at 0x2af790d820d0&gt;, &lt;function time_distance at 0x2af790d8d700&gt;], array([80000,     2]))</dd><dt><span>shape_variables :</span></dt><dd>[&#x27;area&#x27;, &#x27;eccentricity&#x27;, &#x27;major_axis_length&#x27;, &#x27;minor_axis_length&#x27;, &#x27;orientation&#x27;]</dd><dt><span>variable_statistics :</span></dt><dd>[&#x27;mean&#x27;, &#x27;max&#x27;, &#x27;min&#x27;]</dd><dt><span>csv_path :</span></dt><dd>/glade/work/cbecker/WRF_all/track_data_hrrr_3km_csv_refl/</dd><dt><span>geojson_path :</span></dt><dd>/glade/work/cbecker/WRF_all/track_data_hrrr_3km_json_refl/</dd><dt><span>nc_path :</span></dt><dd>/glade/work/cbecker/WRF_all/track_data_hrrr_3km_nc_refl/</dd><dt><span>patch_radius :</span></dt><dd>72</dd><dt><span>unique_matches :</span></dt><dd>True</dd><dt><span>closest_matches :</span></dt><dd>True</dd><dt><span>match_steps :</span></dt><dd>True</dd><dt><span>train :</span></dt><dd>False</dd><dt><span>single_step :</span></dt><dd>True</dd><dt><span>label_type :</span></dt><dd>gamma</dd><dt><span>model_map_file :</span></dt><dd>/glade/work/cbecker/hagelslag/mapfiles/ncar_storm_map_3km.txt</dd><dt><span>mask_file :</span></dt><dd>None</dd><dt><span>run_date_format :</span></dt><dd>%Y%m%d-%H%M</dd><dt><span>json :</span></dt><dd>False</dd></dl></div></li></ul></div></div>"
      ],
      "text/plain": [
       "<xarray.Dataset>\n",
       "Dimensions:           (p: 370, row: 144, col: 144)\n",
       "Coordinates:\n",
       "  * p                 (p) int32 0 1 2 3 4 5 6 7 ... 363 364 365 366 367 368 369\n",
       "  * row               (row) int32 0 1 2 3 4 5 6 ... 137 138 139 140 141 142 143\n",
       "  * col               (col) int32 0 1 2 3 4 5 6 ... 137 138 139 140 141 142 143\n",
       "Data variables: (12/26)\n",
       "    lon               (p, row, col) float32 ...\n",
       "    lat               (p, row, col) float32 ...\n",
       "    i                 (p, row, col) int32 ...\n",
       "    j                 (p, row, col) int32 ...\n",
       "    x                 (p, row, col) float32 ...\n",
       "    y                 (p, row, col) float32 ...\n",
       "    ...                ...\n",
       "    MLCAPE_prev       (p, row, col) float32 ...\n",
       "    USHR6_prev        (p, row, col) float32 ...\n",
       "    VSHR6_prev        (p, row, col) float32 ...\n",
       "    SBLCL_prev        (p, row, col) float32 ...\n",
       "    U_BUNK_prev       (p, row, col) float32 ...\n",
       "    V_BUNK_prev       (p, row, col) float32 ...\n",
       "Attributes: (12/36)\n",
       "    Conventions:             CF-1.6\n",
       "    title:                   NCARSTORM Storm Patches for run 20101024-0000 me...\n",
       "    object_variable:         REFL_COM\n",
       "    start_hour:              12\n",
       "    end_hour:                35\n",
       "    HRRR_alt_end_hour:       46\n",
       "    ...                      ...\n",
       "    single_step:             True\n",
       "    label_type:              gamma\n",
       "    model_map_file:          /glade/work/cbecker/hagelslag/mapfiles/ncar_stor...\n",
       "    mask_file:               None\n",
       "    run_date_format:         %Y%m%d-%H%M\n",
       "    json:                    False"
      ]
     },
     "execution_count": 6,
     "metadata": {},
     "output_type": "execute_result"
    }
   ],
   "source": [
    "patch_ds"
   ]
  },
  {
   "cell_type": "code",
   "execution_count": 7,
   "id": "6d0f35ca-a2d6-4879-a4e9-f586b085c8a8",
   "metadata": {},
   "outputs": [
    {
     "data": {
      "text/html": [
       "<div>\n",
       "<style scoped>\n",
       "    .dataframe tbody tr th:only-of-type {\n",
       "        vertical-align: middle;\n",
       "    }\n",
       "\n",
       "    .dataframe tbody tr th {\n",
       "        vertical-align: top;\n",
       "    }\n",
       "\n",
       "    .dataframe thead th {\n",
       "        text-align: right;\n",
       "    }\n",
       "</style>\n",
       "<table border=\"1\" class=\"dataframe\">\n",
       "  <thead>\n",
       "    <tr style=\"text-align: right;\">\n",
       "      <th></th>\n",
       "      <th>Step_ID</th>\n",
       "      <th>Track_ID</th>\n",
       "      <th>Ensemble_Name</th>\n",
       "      <th>Ensemble_Member</th>\n",
       "      <th>Run_Date</th>\n",
       "      <th>Valid_Date</th>\n",
       "      <th>Forecast_Hour</th>\n",
       "      <th>Valid_Hour_UTC</th>\n",
       "      <th>Duration</th>\n",
       "      <th>Centroid_Lon</th>\n",
       "      <th>...</th>\n",
       "      <th>eccentricity</th>\n",
       "      <th>major_axis_length</th>\n",
       "      <th>minor_axis_length</th>\n",
       "      <th>orientation</th>\n",
       "      <th>Matched</th>\n",
       "      <th>Max_Hail_Size</th>\n",
       "      <th>Num_Matches</th>\n",
       "      <th>Shape</th>\n",
       "      <th>Location</th>\n",
       "      <th>Scale</th>\n",
       "    </tr>\n",
       "  </thead>\n",
       "  <tbody>\n",
       "    <tr>\n",
       "      <th>0</th>\n",
       "      <td>d01_REFL_COM_20101024-0000_12_13_000_00</td>\n",
       "      <td>d01_REFL_COM_20101024-0000_12_13_000</td>\n",
       "      <td>NCARSTORM</td>\n",
       "      <td>d01</td>\n",
       "      <td>2010-10-24 00:00:00+00:00</td>\n",
       "      <td>2010-10-24 12:00:00+00:00</td>\n",
       "      <td>12</td>\n",
       "      <td>12</td>\n",
       "      <td>1</td>\n",
       "      <td>-98.41019</td>\n",
       "      <td>...</td>\n",
       "      <td>0.90735</td>\n",
       "      <td>51.23550</td>\n",
       "      <td>21.53869</td>\n",
       "      <td>1.41172</td>\n",
       "      <td>0</td>\n",
       "      <td>0</td>\n",
       "      <td>0</td>\n",
       "      <td>0</td>\n",
       "      <td>0</td>\n",
       "      <td>0</td>\n",
       "    </tr>\n",
       "    <tr>\n",
       "      <th>1</th>\n",
       "      <td>d01_REFL_COM_20101024-0000_12_13_000_01</td>\n",
       "      <td>d01_REFL_COM_20101024-0000_12_13_000</td>\n",
       "      <td>NCARSTORM</td>\n",
       "      <td>d01</td>\n",
       "      <td>2010-10-24 00:00:00+00:00</td>\n",
       "      <td>2010-10-24 13:00:00+00:00</td>\n",
       "      <td>13</td>\n",
       "      <td>13</td>\n",
       "      <td>2</td>\n",
       "      <td>-97.69198</td>\n",
       "      <td>...</td>\n",
       "      <td>0.85356</td>\n",
       "      <td>26.92719</td>\n",
       "      <td>14.02906</td>\n",
       "      <td>1.13923</td>\n",
       "      <td>0</td>\n",
       "      <td>0</td>\n",
       "      <td>0</td>\n",
       "      <td>0</td>\n",
       "      <td>0</td>\n",
       "      <td>0</td>\n",
       "    </tr>\n",
       "    <tr>\n",
       "      <th>2</th>\n",
       "      <td>d01_REFL_COM_20101024-0000_12_12_001_00</td>\n",
       "      <td>d01_REFL_COM_20101024-0000_12_12_001</td>\n",
       "      <td>NCARSTORM</td>\n",
       "      <td>d01</td>\n",
       "      <td>2010-10-24 00:00:00+00:00</td>\n",
       "      <td>2010-10-24 12:00:00+00:00</td>\n",
       "      <td>12</td>\n",
       "      <td>12</td>\n",
       "      <td>1</td>\n",
       "      <td>-95.15486</td>\n",
       "      <td>...</td>\n",
       "      <td>0.71815</td>\n",
       "      <td>8.65894</td>\n",
       "      <td>6.02569</td>\n",
       "      <td>0.74301</td>\n",
       "      <td>0</td>\n",
       "      <td>0</td>\n",
       "      <td>0</td>\n",
       "      <td>0</td>\n",
       "      <td>0</td>\n",
       "      <td>0</td>\n",
       "    </tr>\n",
       "    <tr>\n",
       "      <th>3</th>\n",
       "      <td>d01_REFL_COM_20101024-0000_12_13_002_00</td>\n",
       "      <td>d01_REFL_COM_20101024-0000_12_13_002</td>\n",
       "      <td>NCARSTORM</td>\n",
       "      <td>d01</td>\n",
       "      <td>2010-10-24 00:00:00+00:00</td>\n",
       "      <td>2010-10-24 12:00:00+00:00</td>\n",
       "      <td>12</td>\n",
       "      <td>12</td>\n",
       "      <td>1</td>\n",
       "      <td>-94.39792</td>\n",
       "      <td>...</td>\n",
       "      <td>0.58687</td>\n",
       "      <td>7.89825</td>\n",
       "      <td>6.39509</td>\n",
       "      <td>-1.28875</td>\n",
       "      <td>0</td>\n",
       "      <td>0</td>\n",
       "      <td>0</td>\n",
       "      <td>0</td>\n",
       "      <td>0</td>\n",
       "      <td>0</td>\n",
       "    </tr>\n",
       "    <tr>\n",
       "      <th>4</th>\n",
       "      <td>d01_REFL_COM_20101024-0000_12_13_002_01</td>\n",
       "      <td>d01_REFL_COM_20101024-0000_12_13_002</td>\n",
       "      <td>NCARSTORM</td>\n",
       "      <td>d01</td>\n",
       "      <td>2010-10-24 00:00:00+00:00</td>\n",
       "      <td>2010-10-24 13:00:00+00:00</td>\n",
       "      <td>13</td>\n",
       "      <td>13</td>\n",
       "      <td>2</td>\n",
       "      <td>-94.21008</td>\n",
       "      <td>...</td>\n",
       "      <td>0.91899</td>\n",
       "      <td>27.65443</td>\n",
       "      <td>10.90375</td>\n",
       "      <td>0.32912</td>\n",
       "      <td>0</td>\n",
       "      <td>0</td>\n",
       "      <td>0</td>\n",
       "      <td>0</td>\n",
       "      <td>0</td>\n",
       "      <td>0</td>\n",
       "    </tr>\n",
       "    <tr>\n",
       "      <th>...</th>\n",
       "      <td>...</td>\n",
       "      <td>...</td>\n",
       "      <td>...</td>\n",
       "      <td>...</td>\n",
       "      <td>...</td>\n",
       "      <td>...</td>\n",
       "      <td>...</td>\n",
       "      <td>...</td>\n",
       "      <td>...</td>\n",
       "      <td>...</td>\n",
       "      <td>...</td>\n",
       "      <td>...</td>\n",
       "      <td>...</td>\n",
       "      <td>...</td>\n",
       "      <td>...</td>\n",
       "      <td>...</td>\n",
       "      <td>...</td>\n",
       "      <td>...</td>\n",
       "      <td>...</td>\n",
       "      <td>...</td>\n",
       "      <td>...</td>\n",
       "    </tr>\n",
       "    <tr>\n",
       "      <th>365</th>\n",
       "      <td>d01_REFL_COM_20101024-0000_35_35_238_00</td>\n",
       "      <td>d01_REFL_COM_20101024-0000_35_35_238</td>\n",
       "      <td>NCARSTORM</td>\n",
       "      <td>d01</td>\n",
       "      <td>2010-10-24 00:00:00+00:00</td>\n",
       "      <td>2010-10-25 11:00:00+00:00</td>\n",
       "      <td>35</td>\n",
       "      <td>11</td>\n",
       "      <td>1</td>\n",
       "      <td>-85.94177</td>\n",
       "      <td>...</td>\n",
       "      <td>0.44428</td>\n",
       "      <td>6.31100</td>\n",
       "      <td>5.65396</td>\n",
       "      <td>1.29480</td>\n",
       "      <td>0</td>\n",
       "      <td>0</td>\n",
       "      <td>0</td>\n",
       "      <td>0</td>\n",
       "      <td>0</td>\n",
       "      <td>0</td>\n",
       "    </tr>\n",
       "    <tr>\n",
       "      <th>366</th>\n",
       "      <td>d01_REFL_COM_20101024-0000_35_35_239_00</td>\n",
       "      <td>d01_REFL_COM_20101024-0000_35_35_239</td>\n",
       "      <td>NCARSTORM</td>\n",
       "      <td>d01</td>\n",
       "      <td>2010-10-24 00:00:00+00:00</td>\n",
       "      <td>2010-10-25 11:00:00+00:00</td>\n",
       "      <td>35</td>\n",
       "      <td>11</td>\n",
       "      <td>1</td>\n",
       "      <td>-85.16997</td>\n",
       "      <td>...</td>\n",
       "      <td>0.85947</td>\n",
       "      <td>79.05277</td>\n",
       "      <td>40.41106</td>\n",
       "      <td>0.12811</td>\n",
       "      <td>0</td>\n",
       "      <td>0</td>\n",
       "      <td>0</td>\n",
       "      <td>0</td>\n",
       "      <td>0</td>\n",
       "      <td>0</td>\n",
       "    </tr>\n",
       "    <tr>\n",
       "      <th>367</th>\n",
       "      <td>d01_REFL_COM_20101024-0000_35_35_240_00</td>\n",
       "      <td>d01_REFL_COM_20101024-0000_35_35_240</td>\n",
       "      <td>NCARSTORM</td>\n",
       "      <td>d01</td>\n",
       "      <td>2010-10-24 00:00:00+00:00</td>\n",
       "      <td>2010-10-25 11:00:00+00:00</td>\n",
       "      <td>35</td>\n",
       "      <td>11</td>\n",
       "      <td>1</td>\n",
       "      <td>-88.18374</td>\n",
       "      <td>...</td>\n",
       "      <td>0.92145</td>\n",
       "      <td>18.05184</td>\n",
       "      <td>7.01316</td>\n",
       "      <td>0.99009</td>\n",
       "      <td>0</td>\n",
       "      <td>0</td>\n",
       "      <td>0</td>\n",
       "      <td>0</td>\n",
       "      <td>0</td>\n",
       "      <td>0</td>\n",
       "    </tr>\n",
       "    <tr>\n",
       "      <th>368</th>\n",
       "      <td>d01_REFL_COM_20101024-0000_35_35_241_00</td>\n",
       "      <td>d01_REFL_COM_20101024-0000_35_35_241</td>\n",
       "      <td>NCARSTORM</td>\n",
       "      <td>d01</td>\n",
       "      <td>2010-10-24 00:00:00+00:00</td>\n",
       "      <td>2010-10-25 11:00:00+00:00</td>\n",
       "      <td>35</td>\n",
       "      <td>11</td>\n",
       "      <td>1</td>\n",
       "      <td>-82.50549</td>\n",
       "      <td>...</td>\n",
       "      <td>0.93744</td>\n",
       "      <td>14.44305</td>\n",
       "      <td>5.02817</td>\n",
       "      <td>-0.19595</td>\n",
       "      <td>0</td>\n",
       "      <td>0</td>\n",
       "      <td>0</td>\n",
       "      <td>0</td>\n",
       "      <td>0</td>\n",
       "      <td>0</td>\n",
       "    </tr>\n",
       "    <tr>\n",
       "      <th>369</th>\n",
       "      <td>d01_REFL_COM_20101024-0000_35_35_242_00</td>\n",
       "      <td>d01_REFL_COM_20101024-0000_35_35_242</td>\n",
       "      <td>NCARSTORM</td>\n",
       "      <td>d01</td>\n",
       "      <td>2010-10-24 00:00:00+00:00</td>\n",
       "      <td>2010-10-25 11:00:00+00:00</td>\n",
       "      <td>35</td>\n",
       "      <td>11</td>\n",
       "      <td>1</td>\n",
       "      <td>-81.38741</td>\n",
       "      <td>...</td>\n",
       "      <td>0.97875</td>\n",
       "      <td>56.91919</td>\n",
       "      <td>11.67269</td>\n",
       "      <td>1.49626</td>\n",
       "      <td>0</td>\n",
       "      <td>0</td>\n",
       "      <td>0</td>\n",
       "      <td>0</td>\n",
       "      <td>0</td>\n",
       "      <td>0</td>\n",
       "    </tr>\n",
       "  </tbody>\n",
       "</table>\n",
       "<p>370 rows × 62 columns</p>\n",
       "</div>"
      ],
      "text/plain": [
       "                                     Step_ID  \\\n",
       "0    d01_REFL_COM_20101024-0000_12_13_000_00   \n",
       "1    d01_REFL_COM_20101024-0000_12_13_000_01   \n",
       "2    d01_REFL_COM_20101024-0000_12_12_001_00   \n",
       "3    d01_REFL_COM_20101024-0000_12_13_002_00   \n",
       "4    d01_REFL_COM_20101024-0000_12_13_002_01   \n",
       "..                                       ...   \n",
       "365  d01_REFL_COM_20101024-0000_35_35_238_00   \n",
       "366  d01_REFL_COM_20101024-0000_35_35_239_00   \n",
       "367  d01_REFL_COM_20101024-0000_35_35_240_00   \n",
       "368  d01_REFL_COM_20101024-0000_35_35_241_00   \n",
       "369  d01_REFL_COM_20101024-0000_35_35_242_00   \n",
       "\n",
       "                                 Track_ID Ensemble_Name Ensemble_Member  \\\n",
       "0    d01_REFL_COM_20101024-0000_12_13_000     NCARSTORM             d01   \n",
       "1    d01_REFL_COM_20101024-0000_12_13_000     NCARSTORM             d01   \n",
       "2    d01_REFL_COM_20101024-0000_12_12_001     NCARSTORM             d01   \n",
       "3    d01_REFL_COM_20101024-0000_12_13_002     NCARSTORM             d01   \n",
       "4    d01_REFL_COM_20101024-0000_12_13_002     NCARSTORM             d01   \n",
       "..                                    ...           ...             ...   \n",
       "365  d01_REFL_COM_20101024-0000_35_35_238     NCARSTORM             d01   \n",
       "366  d01_REFL_COM_20101024-0000_35_35_239     NCARSTORM             d01   \n",
       "367  d01_REFL_COM_20101024-0000_35_35_240     NCARSTORM             d01   \n",
       "368  d01_REFL_COM_20101024-0000_35_35_241     NCARSTORM             d01   \n",
       "369  d01_REFL_COM_20101024-0000_35_35_242     NCARSTORM             d01   \n",
       "\n",
       "                      Run_Date                 Valid_Date  Forecast_Hour  \\\n",
       "0    2010-10-24 00:00:00+00:00  2010-10-24 12:00:00+00:00             12   \n",
       "1    2010-10-24 00:00:00+00:00  2010-10-24 13:00:00+00:00             13   \n",
       "2    2010-10-24 00:00:00+00:00  2010-10-24 12:00:00+00:00             12   \n",
       "3    2010-10-24 00:00:00+00:00  2010-10-24 12:00:00+00:00             12   \n",
       "4    2010-10-24 00:00:00+00:00  2010-10-24 13:00:00+00:00             13   \n",
       "..                         ...                        ...            ...   \n",
       "365  2010-10-24 00:00:00+00:00  2010-10-25 11:00:00+00:00             35   \n",
       "366  2010-10-24 00:00:00+00:00  2010-10-25 11:00:00+00:00             35   \n",
       "367  2010-10-24 00:00:00+00:00  2010-10-25 11:00:00+00:00             35   \n",
       "368  2010-10-24 00:00:00+00:00  2010-10-25 11:00:00+00:00             35   \n",
       "369  2010-10-24 00:00:00+00:00  2010-10-25 11:00:00+00:00             35   \n",
       "\n",
       "     Valid_Hour_UTC  Duration  Centroid_Lon  ...  eccentricity  \\\n",
       "0                12         1     -98.41019  ...       0.90735   \n",
       "1                13         2     -97.69198  ...       0.85356   \n",
       "2                12         1     -95.15486  ...       0.71815   \n",
       "3                12         1     -94.39792  ...       0.58687   \n",
       "4                13         2     -94.21008  ...       0.91899   \n",
       "..              ...       ...           ...  ...           ...   \n",
       "365              11         1     -85.94177  ...       0.44428   \n",
       "366              11         1     -85.16997  ...       0.85947   \n",
       "367              11         1     -88.18374  ...       0.92145   \n",
       "368              11         1     -82.50549  ...       0.93744   \n",
       "369              11         1     -81.38741  ...       0.97875   \n",
       "\n",
       "     major_axis_length  minor_axis_length  orientation  Matched  \\\n",
       "0             51.23550           21.53869      1.41172        0   \n",
       "1             26.92719           14.02906      1.13923        0   \n",
       "2              8.65894            6.02569      0.74301        0   \n",
       "3              7.89825            6.39509     -1.28875        0   \n",
       "4             27.65443           10.90375      0.32912        0   \n",
       "..                 ...                ...          ...      ...   \n",
       "365            6.31100            5.65396      1.29480        0   \n",
       "366           79.05277           40.41106      0.12811        0   \n",
       "367           18.05184            7.01316      0.99009        0   \n",
       "368           14.44305            5.02817     -0.19595        0   \n",
       "369           56.91919           11.67269      1.49626        0   \n",
       "\n",
       "     Max_Hail_Size  Num_Matches  Shape  Location  Scale  \n",
       "0                0            0      0         0      0  \n",
       "1                0            0      0         0      0  \n",
       "2                0            0      0         0      0  \n",
       "3                0            0      0         0      0  \n",
       "4                0            0      0         0      0  \n",
       "..             ...          ...    ...       ...    ...  \n",
       "365              0            0      0         0      0  \n",
       "366              0            0      0         0      0  \n",
       "367              0            0      0         0      0  \n",
       "368              0            0      0         0      0  \n",
       "369              0            0      0         0      0  \n",
       "\n",
       "[370 rows x 62 columns]"
      ]
     },
     "execution_count": 7,
     "metadata": {},
     "output_type": "execute_result"
    }
   ],
   "source": [
    "meta_ds"
   ]
  },
  {
   "cell_type": "code",
   "execution_count": null,
   "id": "cae0ea21-6ae2-439d-9090-9b99d0f011fc",
   "metadata": {},
   "outputs": [],
   "source": [
    "### Pull selected variables from patch files and join into a single DataSet\n",
    "num_files = 150\n",
    "train_split = int(num_files*0.7)\n",
    "val_split = int(num_files*0.8)\n",
    "variables = [\"REFL_COM_curr\", \"masks\"]\n",
    "data_list = []\n",
    "for p, patch_file in enumerate(patch_files[0:train_split]):\n",
    "    if p % 10 == 0:\n",
    "        print(f'Train {p}, {patch_file}')\n",
    "    ds = xr.open_dataset(patch_file)\n",
    "    data_list.append(ds[variables].compute())\n",
    "    ds.close()\n",
    "input_train = xr.concat(data_list, dim=\"p\")[\"REFL_COM_curr\"].expand_dims(\"channel\", axis = -1)\n",
    "train_masks = xr.concat(data_list, dim=\"p\")[\"masks\"]\n",
    "data_list = []\n",
    "for p, patch_file in enumerate(patch_files[train_split:val_split]):\n",
    "    if p % 10 == 0:\n",
    "        print(f'Validation {train_split + p}, {patch_file}')\n",
    "    ds = xr.open_dataset(patch_file)\n",
    "    data_list.append(ds[variables].compute())\n",
    "    ds.close()\n",
    "input_val = xr.concat(data_list, dim=\"p\")[\"REFL_COM_curr\"].expand_dims(\"channel\", axis = -1)\n",
    "val_masks = xr.concat(data_list, dim=\"p\")[\"masks\"]\n",
    "data_list = []\n",
    "for p, patch_file in enumerate(patch_files[val_split:num_files]):\n",
    "    if p % 10 == 0:\n",
    "        print(f'Test {val_split + p}, {patch_file}')\n",
    "    ds = xr.open_dataset(patch_file)\n",
    "    data_list.append(ds[variables].compute())\n",
    "    ds.close()\n",
    "input_test = xr.concat(data_list, dim=\"p\")[\"REFL_COM_curr\"].expand_dims(\"channel\", axis = -1)\n",
    "test_masks = xr.concat(data_list, dim=\"p\")[\"masks\"]"
   ]
  },
  {
   "cell_type": "code",
   "execution_count": 9,
   "id": "aa2782d0-68d0-4968-a440-af88466dbf99",
   "metadata": {},
   "outputs": [
    {
     "name": "stdout",
     "output_type": "stream",
     "text": [
      "Train 0, /glade/scratch/lverhoef/WRF_all/track_data_hrrr_3km_csv_refl/track_step_NCARSTORM_d01_20101024-0000.csv\n",
      "Train 10, /glade/scratch/lverhoef/WRF_all/track_data_hrrr_3km_csv_refl/track_step_NCARSTORM_d01_20110201-0000.csv\n",
      "Train 20, /glade/scratch/lverhoef/WRF_all/track_data_hrrr_3km_csv_refl/track_step_NCARSTORM_d01_20110326-0000.csv\n",
      "Train 30, /glade/scratch/lverhoef/WRF_all/track_data_hrrr_3km_csv_refl/track_step_NCARSTORM_d01_20110414-0000.csv\n",
      "Train 40, /glade/scratch/lverhoef/WRF_all/track_data_hrrr_3km_csv_refl/track_step_NCARSTORM_d01_20110425-0000.csv\n",
      "Train 50, /glade/scratch/lverhoef/WRF_all/track_data_hrrr_3km_csv_refl/track_step_NCARSTORM_d01_20110522-0000.csv\n",
      "Train 60, /glade/scratch/lverhoef/WRF_all/track_data_hrrr_3km_csv_refl/track_step_NCARSTORM_d01_20110605-0000.csv\n",
      "Train 70, /glade/scratch/lverhoef/WRF_all/track_data_hrrr_3km_csv_refl/track_step_NCARSTORM_d01_20110615-0000.csv\n",
      "Train 80, /glade/scratch/lverhoef/WRF_all/track_data_hrrr_3km_csv_refl/track_step_NCARSTORM_d01_20110625-0000.csv\n",
      "Train 90, /glade/scratch/lverhoef/WRF_all/track_data_hrrr_3km_csv_refl/track_step_NCARSTORM_d01_20110712-0000.csv\n",
      "Train 100, /glade/scratch/lverhoef/WRF_all/track_data_hrrr_3km_csv_refl/track_step_NCARSTORM_d01_20120218-0000.csv\n",
      "Validation 105, /glade/scratch/lverhoef/WRF_all/track_data_hrrr_3km_csv_refl/track_step_NCARSTORM_d01_20120315-0000.csv\n",
      "Validation 115, /glade/scratch/lverhoef/WRF_all/track_data_hrrr_3km_csv_refl/track_step_NCARSTORM_d01_20120401-0000.csv\n",
      "Test 120, /glade/scratch/lverhoef/WRF_all/track_data_hrrr_3km_csv_refl/track_step_NCARSTORM_d01_20120409-0000.csv\n",
      "Test 130, /glade/scratch/lverhoef/WRF_all/track_data_hrrr_3km_csv_refl/track_step_NCARSTORM_d01_20120503-0000.csv\n",
      "Test 140, /glade/scratch/lverhoef/WRF_all/track_data_hrrr_3km_csv_refl/track_step_NCARSTORM_d01_20120529-0000.csv\n"
     ]
    }
   ],
   "source": [
    "# Pull variables from csv files and join into an array\n",
    "csv_variables = [\"major_axis_length\", \"minor_axis_length\"]\n",
    "csv_data_list = []\n",
    "for p, csv_file in enumerate(csv_files[0:train_split]):\n",
    "    if p % 10 == 0:\n",
    "        print(f'Train {p}, {csv_file}')\n",
    "    csv_ds = pd.read_csv(csv_file)\n",
    "    csv_data_list.append(csv_ds[csv_variables].to_xarray().rename({'index': 'p'}))\n",
    "output_train = xr.concat(csv_data_list, dim=\"p\").to_array().transpose()\n",
    "csv_data_list = []\n",
    "for p, csv_file in enumerate(csv_files[train_split:val_split]):\n",
    "    if p % 10 == 0:\n",
    "        print(f'Validation {train_split + p}, {csv_file}')\n",
    "    csv_ds = pd.read_csv(csv_file)\n",
    "    csv_data_list.append(csv_ds[csv_variables].to_xarray().rename({'index': 'p'}))\n",
    "output_val = xr.concat(csv_data_list, dim=\"p\").to_array().transpose()\n",
    "csv_data_list = []\n",
    "for p, csv_file in enumerate(csv_files[val_split:num_files]):\n",
    "    if p % 10 == 0:\n",
    "        print(f'Test {val_split + p}, {csv_file}')\n",
    "    csv_ds = pd.read_csv(csv_file)\n",
    "    csv_data_list.append(csv_ds[csv_variables].to_xarray().rename({'index': 'p'}))\n",
    "output_test = xr.concat(csv_data_list, dim=\"p\").to_array().transpose()"
   ]
  },
  {
   "cell_type": "code",
   "execution_count": 10,
   "id": "6ba59282-c914-467e-9556-f6e255de6dc5",
   "metadata": {},
   "outputs": [
    {
     "name": "stdout",
     "output_type": "stream",
     "text": [
      "(34061, 144, 144, 1)\n",
      "(4300, 144, 144, 1)\n",
      "(12985, 144, 144, 1)\n",
      "(34061, 2)\n",
      "(4300, 2)\n",
      "(12985, 2)\n"
     ]
    }
   ],
   "source": [
    "print(input_train.shape)\n",
    "print(input_val.shape)\n",
    "print(input_test.shape)\n",
    "print(output_train.shape)\n",
    "print(output_val.shape)\n",
    "print(output_test.shape)"
   ]
  },
  {
   "cell_type": "markdown",
   "id": "cfe28b71-ac47-4745-b79e-9f10fd1daf3e",
   "metadata": {
    "tags": []
   },
   "source": [
    "## Normalize data"
   ]
  },
  {
   "cell_type": "code",
   "execution_count": 11,
   "id": "4e9c6285-809f-4c27-bbc1-ce975bf8745d",
   "metadata": {
    "tags": []
   },
   "outputs": [],
   "source": [
    "# Normalize the input data\n",
    "scale_stats = pd.DataFrame(index=[0], columns=[\"mean\", \"sd\"])\n",
    "scale_stats.loc[0, \"mean\"] = input_train.mean()\n",
    "scale_stats.loc[0, \"sd\"] = input_train.std()\n",
    "input_train_norm = (input_train - scale_stats.loc[0, \"mean\"]) / scale_stats.loc[0, \"sd\"]\n",
    "input_val_norm = (input_val - scale_stats.loc[0, \"mean\"]) / scale_stats.loc[0, \"sd\"]\n",
    "input_test_norm = (input_test - scale_stats.loc[0, \"mean\"]) / scale_stats.loc[0, \"sd\"]"
   ]
  },
  {
   "cell_type": "code",
   "execution_count": 12,
   "id": "af34ff7e-5cc7-4c9b-b55b-3bfee0db43d9",
   "metadata": {},
   "outputs": [],
   "source": [
    "# Normalize the output data\n",
    "output_scale_stats = pd.DataFrame(index=range(output_train.shape[-1]), columns=[\"mean\", \"sd\"])\n",
    "output_scale_stats.loc[:, \"mean\"] = output_train.mean(dim=\"p\")\n",
    "output_scale_stats.loc[:, \"sd\"] = output_train.std(dim=\"p\")\n",
    "output_train_norm = xr.DataArray(coords=output_train.coords, dims=output_train.dims)\n",
    "output_val_norm = xr.DataArray(coords=output_val.coords, dims=output_val.dims)\n",
    "output_test_norm = xr.DataArray(coords=output_test.coords, dims=output_test.dims)\n",
    "for i in range(output_train.shape[-1]):\n",
    "    output_train_norm[:, i] = (output_train[:, i] - output_scale_stats.loc[i, \"mean\"]) / output_scale_stats.loc[i, \"sd\"]\n",
    "    output_val_norm[:, i] = (output_val[:, i] - output_scale_stats.loc[i, \"mean\"]) / output_scale_stats.loc[i, \"sd\"]\n",
    "    output_test_norm[:, i] = (output_test[:, i] - output_scale_stats.loc[i, \"mean\"]) / output_scale_stats.loc[i, \"sd\"]"
   ]
  },
  {
   "cell_type": "markdown",
   "id": "aeb318c0-143a-4c45-b7b6-c556fcb44296",
   "metadata": {},
   "source": [
    "## Augment data"
   ]
  },
  {
   "cell_type": "code",
   "execution_count": 13,
   "id": "7314a36c-bc7c-4505-89c9-4bf227c8810e",
   "metadata": {},
   "outputs": [],
   "source": [
    "def aug_da(da, concat_dim='p', rot=True):\n",
    "    length = da[concat_dim].shape[0]\n",
    "    aug_da = xr.concat([da]*4, dim=concat_dim)\n",
    "    if rot:\n",
    "        for k in range(4):\n",
    "            aug_da.values[k*length:(k+1)*length] = np.rot90(aug_da.values[k*length:(k+1)*length], axes=(1, 2), k=k)\n",
    "    aug_da[concat_dim] = np.arange(aug_da[concat_dim].shape[0])\n",
    "    return aug_da"
   ]
  },
  {
   "cell_type": "code",
   "execution_count": 14,
   "id": "5e8b362a-3ab9-4b0c-943a-051af1cda44b",
   "metadata": {},
   "outputs": [],
   "source": [
    "aug_input_train_norm = aug_da(input_train_norm)\n",
    "aug_output_train_norm = aug_da(output_train_norm, rot=False)"
   ]
  },
  {
   "cell_type": "markdown",
   "id": "c5354bbd-333d-49b6-a61d-53dc199ea1d0",
   "metadata": {
    "tags": []
   },
   "source": [
    "## RICNN"
   ]
  },
  {
   "cell_type": "code",
   "execution_count": 15,
   "id": "030d5d7a-e0ca-44ba-aad7-a3f778016d3f",
   "metadata": {},
   "outputs": [
    {
     "name": "stderr",
     "output_type": "stream",
     "text": [
      "2022-08-28 15:05:52.554453: I tensorflow/core/platform/cpu_feature_guard.cc:193] This TensorFlow binary is optimized with oneAPI Deep Neural Network Library (oneDNN) to use the following CPU instructions in performance-critical operations:  AVX2 AVX512F AVX512_VNNI FMA\n",
      "To enable them in other operations, rebuild TensorFlow with the appropriate compiler flags.\n",
      "2022-08-28 15:05:55.341035: I tensorflow/core/common_runtime/gpu/gpu_device.cc:1532] Created device /job:localhost/replica:0/task:0/device:GPU:0 with 30987 MB memory:  -> device: 0, name: Tesla V100-SXM2-32GB, pci bus id: 0000:1b:00.0, compute capability: 7.0\n"
     ]
    }
   ],
   "source": [
    "ricnn_model = models.Sequential()\n",
    "ricnn_model.add(GDL_layers.RotEquivConv2D(32, (3, 3), rot_axis=False, input_shape=(144, 144, 1)))\n",
    "ricnn_model.add(GDL_layers.RotEquivPool2D((2, 2)))\n",
    "ricnn_model.add(GDL_layers.RotEquivConv2D(32, (3, 3)))\n",
    "ricnn_model.add(GDL_layers.RotEquivPool2D((2, 2)))\n",
    "ricnn_model.add(GDL_layers.RotEquivConv2D(64, (3, 3)))\n",
    "ricnn_model.add(GDL_layers.RotEquivPool2D((2, 2)))\n",
    "ricnn_model.add(GDL_layers.RotEquivConv2D(64, (3, 3)))\n",
    "ricnn_model.add(GDL_layers.RotEquivPool2D((2, 2)))\n",
    "ricnn_model.add(GDL_layers.RotEquivConv2D(128, (3, 3)))\n",
    "ricnn_model.add(GDL_layers.RotInvPool())\n",
    "ricnn_model.add(layers.Flatten())\n",
    "ricnn_model.add(layers.Dense(32, activation='relu'))\n",
    "ricnn_model.add(layers.Dense(2))"
   ]
  },
  {
   "cell_type": "code",
   "execution_count": 16,
   "id": "cd1c9f33-1e73-4549-af85-ed5d8378b810",
   "metadata": {},
   "outputs": [
    {
     "name": "stdout",
     "output_type": "stream",
     "text": [
      "Model: \"sequential\"\n",
      "_________________________________________________________________\n",
      " Layer (type)                Output Shape              Param #   \n",
      "=================================================================\n",
      " rot_equiv_conv2d (RotEquivC  (None, 142, 142, 4, 32)  320       \n",
      " onv2D)                                                          \n",
      "                                                                 \n",
      " rot_equiv_pool2d (RotEquivP  (None, 71, 71, 4, 32)    0         \n",
      " ool2D)                                                          \n",
      "                                                                 \n",
      " rot_equiv_conv2d_1 (RotEqui  (None, 69, 69, 4, 32)    9248      \n",
      " vConv2D)                                                        \n",
      "                                                                 \n",
      " rot_equiv_pool2d_1 (RotEqui  (None, 34, 34, 4, 32)    0         \n",
      " vPool2D)                                                        \n",
      "                                                                 \n",
      " rot_equiv_conv2d_2 (RotEqui  (None, 32, 32, 4, 64)    18496     \n",
      " vConv2D)                                                        \n",
      "                                                                 \n",
      " rot_equiv_pool2d_2 (RotEqui  (None, 16, 16, 4, 64)    0         \n",
      " vPool2D)                                                        \n",
      "                                                                 \n",
      " rot_equiv_conv2d_3 (RotEqui  (None, 14, 14, 4, 64)    36928     \n",
      " vConv2D)                                                        \n",
      "                                                                 \n",
      " rot_equiv_pool2d_3 (RotEqui  (None, 7, 7, 4, 64)      0         \n",
      " vPool2D)                                                        \n",
      "                                                                 \n",
      " rot_equiv_conv2d_4 (RotEqui  (None, 5, 5, 4, 128)     73856     \n",
      " vConv2D)                                                        \n",
      "                                                                 \n",
      " rot_inv_pool (RotInvPool)   (None, 5, 5, 128)         0         \n",
      "                                                                 \n",
      " flatten (Flatten)           (None, 3200)              0         \n",
      "                                                                 \n",
      " dense (Dense)               (None, 32)                102432    \n",
      "                                                                 \n",
      " dense_1 (Dense)             (None, 2)                 66        \n",
      "                                                                 \n",
      "=================================================================\n",
      "Total params: 241,346\n",
      "Trainable params: 241,346\n",
      "Non-trainable params: 0\n",
      "_________________________________________________________________\n"
     ]
    }
   ],
   "source": [
    "ricnn_model.summary()"
   ]
  },
  {
   "cell_type": "code",
   "execution_count": 17,
   "id": "c3501077-3694-4e54-bd75-05d058329b3b",
   "metadata": {},
   "outputs": [],
   "source": [
    "ricnn_model.compile(\n",
    "    optimizer='nadam',\n",
    "    loss='mse',\n",
    "    metrics=['mse']\n",
    ")"
   ]
  },
  {
   "cell_type": "code",
   "execution_count": 18,
   "id": "9f0082d7-bb9a-434c-a9d5-fce4ec479b8b",
   "metadata": {},
   "outputs": [
    {
     "name": "stdout",
     "output_type": "stream",
     "text": [
      "WARNING:tensorflow:Keras is training/fitting/evaluating on array-like data. Keras may not be optimized for this format, so if your input data format is supported by TensorFlow I/O (https://github.com/tensorflow/io) we recommend using that to load a Dataset instead.\n",
      "Epoch 1/10\n"
     ]
    },
    {
     "name": "stderr",
     "output_type": "stream",
     "text": [
      "2022-08-28 15:06:03.434670: I tensorflow/stream_executor/cuda/cuda_dnn.cc:384] Loaded cuDNN version 8100\n"
     ]
    },
    {
     "name": "stdout",
     "output_type": "stream",
     "text": [
      "1065/1065 [==============================] - ETA: 0s - loss: 0.2599 - mse: 0.2599WARNING:tensorflow:Keras is training/fitting/evaluating on array-like data. Keras may not be optimized for this format, so if your input data format is supported by TensorFlow I/O (https://github.com/tensorflow/io) we recommend using that to load a Dataset instead.\n",
      "1065/1065 [==============================] - 86s 73ms/step - loss: 0.2599 - mse: 0.2599 - val_loss: 0.0817 - val_mse: 0.0817\n",
      "Epoch 2/10\n",
      "1065/1065 [==============================] - 77s 72ms/step - loss: 0.1034 - mse: 0.1034 - val_loss: 0.0603 - val_mse: 0.0603\n",
      "Epoch 3/10\n",
      "1065/1065 [==============================] - 77s 72ms/step - loss: 0.0742 - mse: 0.0742 - val_loss: 0.0662 - val_mse: 0.0662\n",
      "Epoch 4/10\n",
      "1065/1065 [==============================] - 78s 73ms/step - loss: 0.0703 - mse: 0.0703 - val_loss: 0.0636 - val_mse: 0.0636\n",
      "Epoch 5/10\n",
      "1065/1065 [==============================] - 77s 72ms/step - loss: 0.0430 - mse: 0.0430 - val_loss: 0.0415 - val_mse: 0.0415\n",
      "Epoch 6/10\n",
      "1065/1065 [==============================] - 77s 72ms/step - loss: 0.0409 - mse: 0.0409 - val_loss: 0.1077 - val_mse: 0.1077\n",
      "Epoch 7/10\n",
      "1065/1065 [==============================] - 77s 72ms/step - loss: 0.0377 - mse: 0.0377 - val_loss: 0.0368 - val_mse: 0.0368\n",
      "Epoch 8/10\n",
      "1065/1065 [==============================] - 77s 73ms/step - loss: 0.0310 - mse: 0.0310 - val_loss: 0.0402 - val_mse: 0.0402\n",
      "Epoch 9/10\n",
      "1065/1065 [==============================] - 78s 73ms/step - loss: 0.0281 - mse: 0.0281 - val_loss: 0.0370 - val_mse: 0.0370\n",
      "Epoch 10/10\n",
      "1065/1065 [==============================] - 77s 72ms/step - loss: 0.0363 - mse: 0.0363 - val_loss: 0.0409 - val_mse: 0.0409\n"
     ]
    }
   ],
   "source": [
    "ricnn_history = ricnn_model.fit(x=input_train_norm, y=output_train_norm, epochs=10, validation_data=(input_val_norm, output_val_norm))"
   ]
  },
  {
   "cell_type": "markdown",
   "id": "575adea9-5913-4d78-b14b-39f9ac58d9e2",
   "metadata": {
    "tags": []
   },
   "source": [
    "## CNN"
   ]
  },
  {
   "cell_type": "code",
   "execution_count": 19,
   "id": "c23214ad-a70a-4609-93ab-de5484f01243",
   "metadata": {},
   "outputs": [],
   "source": [
    "cnn_model = models.Sequential()\n",
    "cnn_model.add(layers.Conv2D(32, (3, 3), activation='relu', input_shape=(144, 144, 1)))\n",
    "cnn_model.add(layers.MaxPooling2D((2, 2)))\n",
    "cnn_model.add(layers.Conv2D(32, (3, 3), activation='relu'))\n",
    "cnn_model.add(layers.MaxPooling2D((2, 2)))\n",
    "cnn_model.add(layers.Conv2D(64, (3, 3), activation='relu'))\n",
    "cnn_model.add(layers.MaxPooling2D((2, 2)))\n",
    "cnn_model.add(layers.Conv2D(64, (3, 3), activation='relu'))\n",
    "cnn_model.add(layers.MaxPooling2D((2, 2)))\n",
    "cnn_model.add(layers.Conv2D(128, (3, 3), activation='relu'))\n",
    "cnn_model.add(layers.Flatten())\n",
    "cnn_model.add(layers.Dense(32, activation='relu'))\n",
    "cnn_model.add(layers.Dense(2))"
   ]
  },
  {
   "cell_type": "code",
   "execution_count": 20,
   "id": "65c2d141-3e14-4725-ab5d-2a1ca7dd17b9",
   "metadata": {},
   "outputs": [
    {
     "name": "stdout",
     "output_type": "stream",
     "text": [
      "Model: \"sequential_1\"\n",
      "_________________________________________________________________\n",
      " Layer (type)                Output Shape              Param #   \n",
      "=================================================================\n",
      " conv2d (Conv2D)             (None, 142, 142, 32)      320       \n",
      "                                                                 \n",
      " max_pooling2d_4 (MaxPooling  (None, 71, 71, 32)       0         \n",
      " 2D)                                                             \n",
      "                                                                 \n",
      " conv2d_1 (Conv2D)           (None, 69, 69, 32)        9248      \n",
      "                                                                 \n",
      " max_pooling2d_5 (MaxPooling  (None, 34, 34, 32)       0         \n",
      " 2D)                                                             \n",
      "                                                                 \n",
      " conv2d_2 (Conv2D)           (None, 32, 32, 64)        18496     \n",
      "                                                                 \n",
      " max_pooling2d_6 (MaxPooling  (None, 16, 16, 64)       0         \n",
      " 2D)                                                             \n",
      "                                                                 \n",
      " conv2d_3 (Conv2D)           (None, 14, 14, 64)        36928     \n",
      "                                                                 \n",
      " max_pooling2d_7 (MaxPooling  (None, 7, 7, 64)         0         \n",
      " 2D)                                                             \n",
      "                                                                 \n",
      " conv2d_4 (Conv2D)           (None, 5, 5, 128)         73856     \n",
      "                                                                 \n",
      " flatten_1 (Flatten)         (None, 3200)              0         \n",
      "                                                                 \n",
      " dense_2 (Dense)             (None, 32)                102432    \n",
      "                                                                 \n",
      " dense_3 (Dense)             (None, 2)                 66        \n",
      "                                                                 \n",
      "=================================================================\n",
      "Total params: 241,346\n",
      "Trainable params: 241,346\n",
      "Non-trainable params: 0\n",
      "_________________________________________________________________\n"
     ]
    }
   ],
   "source": [
    "cnn_model.summary()"
   ]
  },
  {
   "cell_type": "code",
   "execution_count": 21,
   "id": "858bd2cd-4066-455c-a7dd-7464a3735fe0",
   "metadata": {},
   "outputs": [],
   "source": [
    "cnn_model.compile(\n",
    "    optimizer='nadam',\n",
    "    loss='mse',\n",
    "    metrics=['mse']\n",
    ")"
   ]
  },
  {
   "cell_type": "code",
   "execution_count": 22,
   "id": "390f7113-42ec-4bfc-b024-80738a84ecfb",
   "metadata": {},
   "outputs": [
    {
     "name": "stdout",
     "output_type": "stream",
     "text": [
      "WARNING:tensorflow:Keras is training/fitting/evaluating on array-like data. Keras may not be optimized for this format, so if your input data format is supported by TensorFlow I/O (https://github.com/tensorflow/io) we recommend using that to load a Dataset instead.\n",
      "Epoch 1/10\n",
      "1065/1065 [==============================] - ETA: 0s - loss: 0.3345 - mse: 0.3345WARNING:tensorflow:Keras is training/fitting/evaluating on array-like data. Keras may not be optimized for this format, so if your input data format is supported by TensorFlow I/O (https://github.com/tensorflow/io) we recommend using that to load a Dataset instead.\n",
      "1065/1065 [==============================] - 20s 18ms/step - loss: 0.3345 - mse: 0.3345 - val_loss: 0.1400 - val_mse: 0.1400\n",
      "Epoch 2/10\n",
      "1065/1065 [==============================] - 19s 17ms/step - loss: 0.1804 - mse: 0.1804 - val_loss: 0.0969 - val_mse: 0.0969\n",
      "Epoch 3/10\n",
      "1065/1065 [==============================] - 19s 18ms/step - loss: 0.1308 - mse: 0.1308 - val_loss: 0.0766 - val_mse: 0.0766\n",
      "Epoch 4/10\n",
      "1065/1065 [==============================] - 19s 17ms/step - loss: 0.1030 - mse: 0.1030 - val_loss: 0.1454 - val_mse: 0.1454\n",
      "Epoch 5/10\n",
      "1065/1065 [==============================] - 19s 17ms/step - loss: 0.0820 - mse: 0.0820 - val_loss: 0.0759 - val_mse: 0.0759\n",
      "Epoch 6/10\n",
      "1065/1065 [==============================] - 19s 18ms/step - loss: 0.0649 - mse: 0.0649 - val_loss: 0.1102 - val_mse: 0.1102\n",
      "Epoch 7/10\n",
      "1065/1065 [==============================] - 19s 18ms/step - loss: 0.0535 - mse: 0.0535 - val_loss: 0.0527 - val_mse: 0.0527\n",
      "Epoch 8/10\n",
      "1065/1065 [==============================] - 19s 17ms/step - loss: 0.0462 - mse: 0.0462 - val_loss: 0.0666 - val_mse: 0.0666\n",
      "Epoch 9/10\n",
      "1065/1065 [==============================] - 19s 17ms/step - loss: 0.0425 - mse: 0.0425 - val_loss: 0.0472 - val_mse: 0.0472\n",
      "Epoch 10/10\n",
      "1065/1065 [==============================] - 19s 18ms/step - loss: 0.0365 - mse: 0.0365 - val_loss: 0.0608 - val_mse: 0.0608\n"
     ]
    }
   ],
   "source": [
    "cnn_history = cnn_model.fit(x=input_train_norm, y=output_train_norm, epochs=10, validation_data=(input_val_norm, output_val_norm))"
   ]
  },
  {
   "cell_type": "markdown",
   "id": "f53e0759-0858-45f7-9ac1-35b5887d597c",
   "metadata": {
    "tags": []
   },
   "source": [
    "## Augmented CNN"
   ]
  },
  {
   "cell_type": "code",
   "execution_count": 23,
   "id": "411718fb-abb5-41e9-ba6c-7523bf0392cd",
   "metadata": {},
   "outputs": [],
   "source": [
    "aug_cnn_model = models.Sequential()\n",
    "aug_cnn_model.add(layers.Conv2D(32, (3, 3), activation='relu', input_shape=(144, 144, 1)))\n",
    "aug_cnn_model.add(layers.MaxPooling2D((2, 2)))\n",
    "aug_cnn_model.add(layers.Conv2D(32, (3, 3), activation='relu'))\n",
    "aug_cnn_model.add(layers.MaxPooling2D((2, 2)))\n",
    "aug_cnn_model.add(layers.Conv2D(64, (3, 3), activation='relu'))\n",
    "aug_cnn_model.add(layers.MaxPooling2D((2, 2)))\n",
    "aug_cnn_model.add(layers.Conv2D(64, (3, 3), activation='relu'))\n",
    "aug_cnn_model.add(layers.MaxPooling2D((2, 2)))\n",
    "aug_cnn_model.add(layers.Conv2D(128, (3, 3), activation='relu'))\n",
    "aug_cnn_model.add(layers.Flatten())\n",
    "aug_cnn_model.add(layers.Dense(32, activation='relu'))\n",
    "aug_cnn_model.add(layers.Dense(2))"
   ]
  },
  {
   "cell_type": "code",
   "execution_count": 24,
   "id": "89d4af5d-c459-4860-b9cb-1b11ec98c1c2",
   "metadata": {},
   "outputs": [
    {
     "name": "stdout",
     "output_type": "stream",
     "text": [
      "Model: \"sequential_2\"\n",
      "_________________________________________________________________\n",
      " Layer (type)                Output Shape              Param #   \n",
      "=================================================================\n",
      " conv2d_5 (Conv2D)           (None, 142, 142, 32)      320       \n",
      "                                                                 \n",
      " max_pooling2d_8 (MaxPooling  (None, 71, 71, 32)       0         \n",
      " 2D)                                                             \n",
      "                                                                 \n",
      " conv2d_6 (Conv2D)           (None, 69, 69, 32)        9248      \n",
      "                                                                 \n",
      " max_pooling2d_9 (MaxPooling  (None, 34, 34, 32)       0         \n",
      " 2D)                                                             \n",
      "                                                                 \n",
      " conv2d_7 (Conv2D)           (None, 32, 32, 64)        18496     \n",
      "                                                                 \n",
      " max_pooling2d_10 (MaxPoolin  (None, 16, 16, 64)       0         \n",
      " g2D)                                                            \n",
      "                                                                 \n",
      " conv2d_8 (Conv2D)           (None, 14, 14, 64)        36928     \n",
      "                                                                 \n",
      " max_pooling2d_11 (MaxPoolin  (None, 7, 7, 64)         0         \n",
      " g2D)                                                            \n",
      "                                                                 \n",
      " conv2d_9 (Conv2D)           (None, 5, 5, 128)         73856     \n",
      "                                                                 \n",
      " flatten_2 (Flatten)         (None, 3200)              0         \n",
      "                                                                 \n",
      " dense_4 (Dense)             (None, 32)                102432    \n",
      "                                                                 \n",
      " dense_5 (Dense)             (None, 2)                 66        \n",
      "                                                                 \n",
      "=================================================================\n",
      "Total params: 241,346\n",
      "Trainable params: 241,346\n",
      "Non-trainable params: 0\n",
      "_________________________________________________________________\n"
     ]
    }
   ],
   "source": [
    "aug_cnn_model.summary()"
   ]
  },
  {
   "cell_type": "code",
   "execution_count": 25,
   "id": "7c80d622-a6a9-4075-8532-73e811ec729d",
   "metadata": {},
   "outputs": [],
   "source": [
    "aug_cnn_model.compile(\n",
    "    optimizer='nadam',\n",
    "    loss='mse',\n",
    "    metrics=['mse']\n",
    ")"
   ]
  },
  {
   "cell_type": "code",
   "execution_count": 26,
   "id": "ff6dd6a8-3d3f-4271-9c9a-75008a2514fb",
   "metadata": {},
   "outputs": [
    {
     "name": "stdout",
     "output_type": "stream",
     "text": [
      "WARNING:tensorflow:Keras is training/fitting/evaluating on array-like data. Keras may not be optimized for this format, so if your input data format is supported by TensorFlow I/O (https://github.com/tensorflow/io) we recommend using that to load a Dataset instead.\n",
      "Epoch 1/10\n",
      "4258/4258 [==============================] - ETA: 0s - loss: 0.1915 - mse: 0.1915WARNING:tensorflow:Keras is training/fitting/evaluating on array-like data. Keras may not be optimized for this format, so if your input data format is supported by TensorFlow I/O (https://github.com/tensorflow/io) we recommend using that to load a Dataset instead.\n",
      "4258/4258 [==============================] - 73s 17ms/step - loss: 0.1915 - mse: 0.1915 - val_loss: 0.0828 - val_mse: 0.0828\n",
      "Epoch 2/10\n",
      "4258/4258 [==============================] - 71s 17ms/step - loss: 0.0881 - mse: 0.0881 - val_loss: 0.0576 - val_mse: 0.0576\n",
      "Epoch 3/10\n",
      "4258/4258 [==============================] - 71s 17ms/step - loss: 0.0618 - mse: 0.0618 - val_loss: 0.0576 - val_mse: 0.0576\n",
      "Epoch 4/10\n",
      "4258/4258 [==============================] - 71s 17ms/step - loss: 0.0493 - mse: 0.0493 - val_loss: 0.0412 - val_mse: 0.0412\n",
      "Epoch 5/10\n",
      "4258/4258 [==============================] - 71s 17ms/step - loss: 0.0456 - mse: 0.0456 - val_loss: 0.0448 - val_mse: 0.0448\n",
      "Epoch 6/10\n",
      "4258/4258 [==============================] - 71s 17ms/step - loss: 0.0391 - mse: 0.0391 - val_loss: 0.0358 - val_mse: 0.0358\n",
      "Epoch 7/10\n",
      "4258/4258 [==============================] - 72s 17ms/step - loss: 0.0336 - mse: 0.0336 - val_loss: 0.0336 - val_mse: 0.0336\n",
      "Epoch 8/10\n",
      "4258/4258 [==============================] - 71s 17ms/step - loss: 0.0312 - mse: 0.0312 - val_loss: 0.0334 - val_mse: 0.0334\n",
      "Epoch 9/10\n",
      "4258/4258 [==============================] - 71s 17ms/step - loss: 0.0289 - mse: 0.0289 - val_loss: 0.0310 - val_mse: 0.0310\n",
      "Epoch 10/10\n",
      "4258/4258 [==============================] - 71s 17ms/step - loss: 0.0256 - mse: 0.0256 - val_loss: 0.0278 - val_mse: 0.0278\n"
     ]
    }
   ],
   "source": [
    "aug_cnn_history = aug_cnn_model.fit(x=aug_input_train_norm, y=aug_output_train_norm, epochs=10, validation_data=(input_val_norm, output_val_norm))"
   ]
  },
  {
   "cell_type": "markdown",
   "id": "401c7c43-a0e2-4ea4-86c6-a242eeb3ef1c",
   "metadata": {
    "tags": []
   },
   "source": [
    "## History Plots"
   ]
  },
  {
   "cell_type": "code",
   "execution_count": 27,
   "id": "beecd093-f2fd-443f-9437-bb6252bec26c",
   "metadata": {},
   "outputs": [
    {
     "data": {
      "text/plain": [
       "(0.0, 0.3499607638455927)"
      ]
     },
     "execution_count": 27,
     "metadata": {},
     "output_type": "execute_result"
    },
    {
     "data": {
      "image/png": "[encoded data removed]",
      "text/plain": [
       "<Figure size 720x504 with 1 Axes>"
      ]
     },
     "metadata": {
      "needs_background": "light"
     },
     "output_type": "display_data"
    }
   ],
   "source": [
    "F, ax = plt.subplots(1, 1, figsize=(10, 7))\n",
    "ax = plt.gca()\n",
    "a = ax.plot(cnn_history.history['mse'], label='CNN train', color='orange')\n",
    "b = ax.plot(cnn_history.history['val_mse'], label='CNN val', color='orange', linestyle='dashed')\n",
    "c = ax.plot(ricnn_history.history['mse'], label='RICNN train', color='blue')\n",
    "d = ax.plot(ricnn_history.history['val_mse'], label='RICNN val', color='blue', linestyle='dashed')\n",
    "e = ax.plot(aug_cnn_history.history['mse'], label='Aug CNN train', color='red')\n",
    "f = ax.plot(aug_cnn_history.history['val_mse'], label='Aug CNN val', color='red', linestyle='dashed')\n",
    "ax.legend()\n",
    "ax.set_title(\"Major/Minor Axis Training History\")\n",
    "ax.set_xlabel(\"Epoch\")\n",
    "ax.set_ylabel(\"MSE\")\n",
    "ax.set_ylim(bottom=0)"
   ]
  },
  {
   "cell_type": "markdown",
   "id": "1bf46a03-b623-4516-96c7-775b4df752cf",
   "metadata": {
    "tags": []
   },
   "source": [
    "## Save and load models"
   ]
  },
  {
   "cell_type": "code",
   "execution_count": 28,
   "id": "c29e4b0c-feec-4909-ac3f-770f6fae959a",
   "metadata": {},
   "outputs": [
    {
     "name": "stdout",
     "output_type": "stream",
     "text": [
      "INFO:tensorflow:Assets written to: saved_models/aug_ricnn/ricnn_model/assets\n"
     ]
    },
    {
     "name": "stderr",
     "output_type": "stream",
     "text": [
      "WARNING:absl:Found untraced functions such as _jit_compiled_convolution_op, _jit_compiled_convolution_op, _jit_compiled_convolution_op, _jit_compiled_convolution_op, _jit_compiled_convolution_op while saving (showing 5 of 5). These functions will not be directly callable after loading.\n"
     ]
    },
    {
     "name": "stdout",
     "output_type": "stream",
     "text": [
      "INFO:tensorflow:Assets written to: saved_models/aug_ricnn/cnn_model/assets\n"
     ]
    },
    {
     "name": "stderr",
     "output_type": "stream",
     "text": [
      "INFO:tensorflow:Assets written to: saved_models/aug_ricnn/cnn_model/assets\n",
      "WARNING:absl:Found untraced functions such as _jit_compiled_convolution_op, _jit_compiled_convolution_op, _jit_compiled_convolution_op, _jit_compiled_convolution_op, _jit_compiled_convolution_op while saving (showing 5 of 5). These functions will not be directly callable after loading.\n"
     ]
    },
    {
     "name": "stdout",
     "output_type": "stream",
     "text": [
      "INFO:tensorflow:Assets written to: saved_models/aug_ricnn/aug_cnn_model/assets\n"
     ]
    },
    {
     "name": "stderr",
     "output_type": "stream",
     "text": [
      "INFO:tensorflow:Assets written to: saved_models/aug_ricnn/aug_cnn_model/assets\n"
     ]
    }
   ],
   "source": [
    "ricnn_model.save(\"saved_models/aug_ricnn/ricnn_model\")\n",
    "cnn_model.save(\"saved_models/aug_ricnn/cnn_model\")\n",
    "aug_cnn_model.save(\"saved_models/aug_ricnn/aug_cnn_model\")"
   ]
  },
  {
   "cell_type": "code",
   "execution_count": 29,
   "id": "9d3cb862-caed-4e10-a49e-f1cdc28518fd",
   "metadata": {},
   "outputs": [],
   "source": [
    "ricnn_model = tf.keras.models.load_model(\"saved_models/aug_ricnn/ricnn_model\")\n",
    "cnn_model = tf.keras.models.load_model(\"saved_models/aug_ricnn/cnn_model\")\n",
    "aug_cnn_model = tf.keras.models.load_model(\"saved_models/aug_ricnn/aug_cnn_model\")"
   ]
  },
  {
   "cell_type": "markdown",
   "id": "49026b70-ff51-40a7-9753-5d9f66de3d42",
   "metadata": {
    "tags": []
   },
   "source": [
    "## Evaluate models"
   ]
  },
  {
   "cell_type": "code",
   "execution_count": 30,
   "id": "65863f20-60d5-474e-96df-7c29eb2d38b8",
   "metadata": {},
   "outputs": [
    {
     "name": "stdout",
     "output_type": "stream",
     "text": [
      "WARNING:tensorflow:Keras is training/fitting/evaluating on array-like data. Keras may not be optimized for this format, so if your input data format is supported by TensorFlow I/O (https://github.com/tensorflow/io) we recommend using that to load a Dataset instead.\n"
     ]
    },
    {
     "name": "stderr",
     "output_type": "stream",
     "text": [
      "WARNING:tensorflow:Keras is training/fitting/evaluating on array-like data. Keras may not be optimized for this format, so if your input data format is supported by TensorFlow I/O (https://github.com/tensorflow/io) we recommend using that to load a Dataset instead.\n"
     ]
    },
    {
     "name": "stdout",
     "output_type": "stream",
     "text": [
      "406/406 [==============================] - 11s 27ms/step - loss: 0.0483 - mse: 0.0483\n"
     ]
    },
    {
     "data": {
      "text/plain": [
       "[0.04834102839231491, 0.04834102839231491]"
      ]
     },
     "execution_count": 30,
     "metadata": {},
     "output_type": "execute_result"
    }
   ],
   "source": [
    "ricnn_model.evaluate(input_test_norm, output_test_norm)"
   ]
  },
  {
   "cell_type": "code",
   "execution_count": 31,
   "id": "274b503a-a3c0-47df-a8b0-fa01d35a44d9",
   "metadata": {},
   "outputs": [
    {
     "name": "stdout",
     "output_type": "stream",
     "text": [
      "WARNING:tensorflow:Keras is training/fitting/evaluating on array-like data. Keras may not be optimized for this format, so if your input data format is supported by TensorFlow I/O (https://github.com/tensorflow/io) we recommend using that to load a Dataset instead.\n"
     ]
    },
    {
     "name": "stderr",
     "output_type": "stream",
     "text": [
      "WARNING:tensorflow:Keras is training/fitting/evaluating on array-like data. Keras may not be optimized for this format, so if your input data format is supported by TensorFlow I/O (https://github.com/tensorflow/io) we recommend using that to load a Dataset instead.\n"
     ]
    },
    {
     "name": "stdout",
     "output_type": "stream",
     "text": [
      "406/406 [==============================] - 4s 11ms/step - loss: 0.0705 - mse: 0.0705\n"
     ]
    },
    {
     "data": {
      "text/plain": [
       "[0.07047997415065765, 0.07047997415065765]"
      ]
     },
     "execution_count": 31,
     "metadata": {},
     "output_type": "execute_result"
    }
   ],
   "source": [
    "cnn_model.evaluate(input_test_norm, output_test_norm)"
   ]
  },
  {
   "cell_type": "code",
   "execution_count": 32,
   "id": "75533ae6-39b2-46ab-8cf1-ec28c49b4005",
   "metadata": {},
   "outputs": [
    {
     "name": "stdout",
     "output_type": "stream",
     "text": [
      "WARNING:tensorflow:Keras is training/fitting/evaluating on array-like data. Keras may not be optimized for this format, so if your input data format is supported by TensorFlow I/O (https://github.com/tensorflow/io) we recommend using that to load a Dataset instead.\n"
     ]
    },
    {
     "name": "stderr",
     "output_type": "stream",
     "text": [
      "WARNING:tensorflow:Keras is training/fitting/evaluating on array-like data. Keras may not be optimized for this format, so if your input data format is supported by TensorFlow I/O (https://github.com/tensorflow/io) we recommend using that to load a Dataset instead.\n"
     ]
    },
    {
     "name": "stdout",
     "output_type": "stream",
     "text": [
      "406/406 [==============================] - 4s 11ms/step - loss: 0.0364 - mse: 0.0364\n"
     ]
    },
    {
     "data": {
      "text/plain": [
       "[0.036350179463624954, 0.036350179463624954]"
      ]
     },
     "execution_count": 32,
     "metadata": {},
     "output_type": "execute_result"
    }
   ],
   "source": [
    "aug_cnn_model.evaluate(input_test_norm, output_test_norm)"
   ]
  }
 ],
 "metadata": {
  "kernelspec": {
   "display_name": "Python [conda env:.conda-storm-mode]",
   "language": "python",
   "name": "conda-env-.conda-storm-mode-py"
  },
  "language_info": {
   "codemirror_mode": {
    "name": "ipython",
    "version": 3
   },
   "file_extension": ".py",
   "mimetype": "text/x-python",
   "name": "python",
   "nbconvert_exporter": "python",
   "pygments_lexer": "ipython3",
   "version": "3.10.4"
  }
 },
 "nbformat": 4,
 "nbformat_minor": 5
}
