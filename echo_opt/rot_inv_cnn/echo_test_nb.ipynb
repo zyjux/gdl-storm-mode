{
 "cells": [
  {
   "cell_type": "code",
   "execution_count": 1,
   "id": "8cf9dc86-3bfa-48ba-a80c-3af321acefdd",
   "metadata": {},
   "outputs": [],
   "source": [
    "from imports.GDL_model import gdl_model\n",
    "from objective import Objective\n",
    "import yaml"
   ]
  },
  {
   "cell_type": "code",
   "execution_count": 2,
   "id": "09f27fa7-5381-4508-a4d4-6dbf05d7fa30",
   "metadata": {},
   "outputs": [],
   "source": [
    "with open('conf.yaml') as f:\n",
    "    conf = yaml.load(f, Loader=yaml.FullLoader)"
   ]
  },
  {
   "cell_type": "code",
   "execution_count": 3,
   "id": "49f4f687-957c-4d6c-afb5-15dc1f9e0dfd",
   "metadata": {},
   "outputs": [
    {
     "data": {
      "text/plain": [
       "{'filters': [32, 32, 64, 64],\n",
       " 'kernel_sizes': [3, 3, 3, 3],\n",
       " 'pool_sizes': [2, 2, 2, 1],\n",
       " 'metrics': ['mse'],\n",
       " 'verbose': 1}"
      ]
     },
     "execution_count": 3,
     "metadata": {},
     "output_type": "execute_result"
    }
   ],
   "source": [
    "conf['model']"
   ]
  },
  {
   "cell_type": "code",
   "execution_count": 4,
   "id": "db74efe0-9c06-4ef2-a9d6-78108f001e7f",
   "metadata": {},
   "outputs": [
    {
     "name": "stdout",
     "output_type": "stream",
     "text": [
      "hello\n"
     ]
    }
   ],
   "source": [
    "obj = Objective(None)"
   ]
  },
  {
   "cell_type": "code",
   "execution_count": 5,
   "id": "b452d4f2-f33e-4ab7-bcfc-961abeca6ec1",
   "metadata": {},
   "outputs": [
    {
     "name": "stderr",
     "output_type": "stream",
     "text": [
      "2022-06-22 09:40:44.789545: I tensorflow/core/platform/cpu_feature_guard.cc:193] This TensorFlow binary is optimized with oneAPI Deep Neural Network Library (oneDNN) to use the following CPU instructions in performance-critical operations:  AVX2 AVX512F FMA\n",
      "To enable them in other operations, rebuild TensorFlow with the appropriate compiler flags.\n",
      "2022-06-22 09:40:45.417769: I tensorflow/core/common_runtime/gpu/gpu_device.cc:1532] Created device /job:localhost/replica:0/task:0/device:GPU:0 with 30987 MB memory:  -> device: 0, name: Tesla V100-SXM2-32GB, pci bus id: 0000:3d:00.0, compute capability: 7.0\n"
     ]
    },
    {
     "name": "stdout",
     "output_type": "stream",
     "text": [
      "WARNING:tensorflow:Keras is training/fitting/evaluating on array-like data. Keras may not be optimized for this format, so if your input data format is supported by TensorFlow I/O (https://github.com/tensorflow/io) we recommend using that to load a Dataset instead.\n",
      "Epoch 1/10\n"
     ]
    },
    {
     "name": "stderr",
     "output_type": "stream",
     "text": [
      "2022-06-22 09:40:51.912314: I tensorflow/stream_executor/cuda/cuda_dnn.cc:384] Loaded cuDNN version 8100\n"
     ]
    },
    {
     "name": "stdout",
     "output_type": "stream",
     "text": [
      "731/731 [==============================] - ETA: 0s - loss: 314.3659 - mse: 314.3659WARNING:tensorflow:Keras is training/fitting/evaluating on array-like data. Keras may not be optimized for this format, so if your input data format is supported by TensorFlow I/O (https://github.com/tensorflow/io) we recommend using that to load a Dataset instead.\n",
      "731/731 [==============================] - 58s 71ms/step - loss: 314.3659 - mse: 314.3659 - val_loss: 95.8323 - val_mse: 95.8323\n",
      "Epoch 2/10\n",
      "731/731 [==============================] - 51s 70ms/step - loss: 184.1880 - mse: 184.1880 - val_loss: 65.0925 - val_mse: 65.0925\n",
      "Epoch 3/10\n",
      "731/731 [==============================] - 51s 70ms/step - loss: 127.4354 - mse: 127.4354 - val_loss: 52.4998 - val_mse: 52.4998\n",
      "Epoch 4/10\n",
      "731/731 [==============================] - 51s 70ms/step - loss: 103.5522 - mse: 103.5522 - val_loss: 44.2532 - val_mse: 44.2532\n",
      "Epoch 5/10\n",
      "731/731 [==============================] - 52s 70ms/step - loss: 85.3546 - mse: 85.3546 - val_loss: 47.4419 - val_mse: 47.4419\n",
      "Epoch 6/10\n",
      "731/731 [==============================] - 51s 70ms/step - loss: 79.0830 - mse: 79.0830 - val_loss: 50.9687 - val_mse: 50.9687\n",
      "Epoch 7/10\n",
      "731/731 [==============================] - 51s 70ms/step - loss: 67.6255 - mse: 67.6255 - val_loss: 42.2777 - val_mse: 42.2777\n",
      "Epoch 8/10\n",
      "731/731 [==============================] - 51s 70ms/step - loss: 58.9155 - mse: 58.9155 - val_loss: 43.7416 - val_mse: 43.7416\n",
      "Epoch 9/10\n",
      "731/731 [==============================] - 51s 70ms/step - loss: 51.3693 - mse: 51.3693 - val_loss: 40.0416 - val_mse: 40.0416\n",
      "Epoch 10/10\n",
      "731/731 [==============================] - 51s 70ms/step - loss: 45.7571 - mse: 45.7571 - val_loss: 37.4943 - val_mse: 37.4943\n"
     ]
    }
   ],
   "source": [
    "results = obj.train(None, conf)"
   ]
  },
  {
   "cell_type": "code",
   "execution_count": 6,
   "id": "7ed64925-1467-4075-9f39-3c3d20c73d12",
   "metadata": {},
   "outputs": [
    {
     "data": {
      "text/plain": [
       "{'train_loss': [314.3659362792969,\n",
       "  184.18800354003906,\n",
       "  127.43540954589844,\n",
       "  103.55216979980469,\n",
       "  85.35462951660156,\n",
       "  79.08301544189453,\n",
       "  67.62553405761719,\n",
       "  58.91550827026367,\n",
       "  51.36933898925781,\n",
       "  45.75712203979492],\n",
       " 'val_loss': [95.83226776123047,\n",
       "  65.09248352050781,\n",
       "  52.499839782714844,\n",
       "  44.25318908691406,\n",
       "  47.441856384277344,\n",
       "  50.96870422363281,\n",
       "  42.27772903442383,\n",
       "  43.741580963134766,\n",
       "  40.04157638549805,\n",
       "  37.49433135986328],\n",
       " 'train_mse': [314.3659362792969,\n",
       "  184.18800354003906,\n",
       "  127.43540954589844,\n",
       "  103.55216979980469,\n",
       "  85.35462951660156,\n",
       "  79.08301544189453,\n",
       "  67.62553405761719,\n",
       "  58.91550827026367,\n",
       "  51.36933898925781,\n",
       "  45.75712203979492],\n",
       " 'val_mse': [95.83226776123047,\n",
       "  65.09248352050781,\n",
       "  52.499839782714844,\n",
       "  44.25318908691406,\n",
       "  47.441856384277344,\n",
       "  50.96870422363281,\n",
       "  42.27772903442383,\n",
       "  43.741580963134766,\n",
       "  40.04157638549805,\n",
       "  37.49433135986328]}"
      ]
     },
     "execution_count": 6,
     "metadata": {},
     "output_type": "execute_result"
    }
   ],
   "source": [
    "results"
   ]
  },
  {
   "cell_type": "code",
   "execution_count": null,
   "id": "8c254eb8-4157-4243-9ed7-5aebb15fb7fa",
   "metadata": {},
   "outputs": [],
   "source": []
  }
 ],
 "metadata": {
  "kernelspec": {
   "display_name": "Python [conda env:.conda-storm-mode]",
   "language": "python",
   "name": "conda-env-.conda-storm-mode-py"
  },
  "language_info": {
   "codemirror_mode": {
    "name": "ipython",
    "version": 3
   },
   "file_extension": ".py",
   "mimetype": "text/x-python",
   "name": "python",
   "nbconvert_exporter": "python",
   "pygments_lexer": "ipython3",
   "version": "3.10.4"
  }
 },
 "nbformat": 4,
 "nbformat_minor": 5
}
