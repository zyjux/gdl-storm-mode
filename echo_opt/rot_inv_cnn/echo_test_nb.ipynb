{
 "cells": [
  {
   "cell_type": "code",
   "execution_count": 1,
   "id": "8cf9dc86-3bfa-48ba-a80c-3af321acefdd",
   "metadata": {},
   "outputs": [
    {
     "name": "stderr",
     "output_type": "stream",
     "text": [
      "2022-10-11 12:11:00.011123: I tensorflow/core/util/util.cc:169] oneDNN custom operations are on. You may see slightly different numerical results due to floating-point round-off errors from different computation orders. To turn them off, set the environment variable `TF_ENABLE_ONEDNN_OPTS=0`.\n",
      "/glade/u/home/lverhoef/.conda/envs/storm-mode/lib/python3.10/site-packages/tqdm/auto.py:22: TqdmWarning: IProgress not found. Please update jupyter and ipywidgets. See https://ipywidgets.readthedocs.io/en/stable/user_install.html\n",
      "  from .autonotebook import tqdm as notebook_tqdm\n"
     ]
    }
   ],
   "source": [
    "from imports.GDL_model import gdl_model\n",
    "from objective import Objective\n",
    "import yaml"
   ]
  },
  {
   "cell_type": "code",
   "execution_count": 2,
   "id": "09f27fa7-5381-4508-a4d4-6dbf05d7fa30",
   "metadata": {},
   "outputs": [],
   "source": [
    "with open('conf.yaml') as f:\n",
    "    conf = yaml.load(f, Loader=yaml.FullLoader)"
   ]
  },
  {
   "cell_type": "code",
   "execution_count": 3,
   "id": "49f4f687-957c-4d6c-afb5-15dc1f9e0dfd",
   "metadata": {},
   "outputs": [
    {
     "data": {
      "text/plain": [
       "{'filters': [32, 32, 64, 64, 128],\n",
       " 'kernel_sizes': [3, 3, 3, 3, 3],\n",
       " 'conv_2d_activation': 'relu',\n",
       " 'pool_sizes': [2, 2, 2, 2, 1],\n",
       " 'dense_activation': 'relu',\n",
       " 'rot_inv': 5,\n",
       " 'lr': 0.001,\n",
       " 'optimizer': 'nadam',\n",
       " 'metrics': [],\n",
       " 'batch_size': 32,\n",
       " 'epochs': 10,\n",
       " 'verbose': 1}"
      ]
     },
     "execution_count": 3,
     "metadata": {},
     "output_type": "execute_result"
    }
   ],
   "source": [
    "conf['model']"
   ]
  },
  {
   "cell_type": "code",
   "execution_count": 4,
   "id": "db74efe0-9c06-4ef2-a9d6-78108f001e7f",
   "metadata": {},
   "outputs": [],
   "source": [
    "obj = Objective(None)"
   ]
  },
  {
   "cell_type": "code",
   "execution_count": 5,
   "id": "b452d4f2-f33e-4ab7-bcfc-961abeca6ec1",
   "metadata": {},
   "outputs": [
    {
     "name": "stdout",
     "output_type": "stream",
     "text": [
      "Train 0, /glade/scratch/lverhoef/WRF_all/track_data_hrrr_3km_nc_refl/NCARSTORM_20101024-0000_d01_model_patches.nc\n",
      "Train 10, /glade/scratch/lverhoef/WRF_all/track_data_hrrr_3km_nc_refl/NCARSTORM_20110201-0000_d01_model_patches.nc\n",
      "Train 20, /glade/scratch/lverhoef/WRF_all/track_data_hrrr_3km_nc_refl/NCARSTORM_20110326-0000_d01_model_patches.nc\n",
      "Train 30, /glade/scratch/lverhoef/WRF_all/track_data_hrrr_3km_nc_refl/NCARSTORM_20110414-0000_d01_model_patches.nc\n",
      "Train 40, /glade/scratch/lverhoef/WRF_all/track_data_hrrr_3km_nc_refl/NCARSTORM_20110425-0000_d01_model_patches.nc\n",
      "Train 50, /glade/scratch/lverhoef/WRF_all/track_data_hrrr_3km_nc_refl/NCARSTORM_20110522-0000_d01_model_patches.nc\n",
      "Train 60, /glade/scratch/lverhoef/WRF_all/track_data_hrrr_3km_nc_refl/NCARSTORM_20110605-0000_d01_model_patches.nc\n",
      "Train 70, /glade/scratch/lverhoef/WRF_all/track_data_hrrr_3km_nc_refl/NCARSTORM_20110615-0000_d01_model_patches.nc\n",
      "Train 80, /glade/scratch/lverhoef/WRF_all/track_data_hrrr_3km_nc_refl/NCARSTORM_20110625-0000_d01_model_patches.nc\n",
      "Train 90, /glade/scratch/lverhoef/WRF_all/track_data_hrrr_3km_nc_refl/NCARSTORM_20110712-0000_d01_model_patches.nc\n",
      "Train 100, /glade/scratch/lverhoef/WRF_all/track_data_hrrr_3km_nc_refl/NCARSTORM_20120218-0000_d01_model_patches.nc\n",
      "Validation 105, /glade/scratch/lverhoef/WRF_all/track_data_hrrr_3km_nc_refl/NCARSTORM_20120315-0000_d01_model_patches.nc\n",
      "Validation 115, /glade/scratch/lverhoef/WRF_all/track_data_hrrr_3km_nc_refl/NCARSTORM_20120401-0000_d01_model_patches.nc\n",
      "Test 120, /glade/scratch/lverhoef/WRF_all/track_data_hrrr_3km_nc_refl/NCARSTORM_20120409-0000_d01_model_patches.nc\n",
      "Test 130, /glade/scratch/lverhoef/WRF_all/track_data_hrrr_3km_nc_refl/NCARSTORM_20120503-0000_d01_model_patches.nc\n",
      "Test 140, /glade/scratch/lverhoef/WRF_all/track_data_hrrr_3km_nc_refl/NCARSTORM_20120529-0000_d01_model_patches.nc\n",
      "Train 0, /glade/scratch/lverhoef/WRF_all/track_data_hrrr_3km_csv_refl/track_step_NCARSTORM_d01_20101024-0000.csv\n",
      "Train 10, /glade/scratch/lverhoef/WRF_all/track_data_hrrr_3km_csv_refl/track_step_NCARSTORM_d01_20110201-0000.csv\n",
      "Train 20, /glade/scratch/lverhoef/WRF_all/track_data_hrrr_3km_csv_refl/track_step_NCARSTORM_d01_20110326-0000.csv\n",
      "Train 30, /glade/scratch/lverhoef/WRF_all/track_data_hrrr_3km_csv_refl/track_step_NCARSTORM_d01_20110414-0000.csv\n",
      "Train 40, /glade/scratch/lverhoef/WRF_all/track_data_hrrr_3km_csv_refl/track_step_NCARSTORM_d01_20110425-0000.csv\n",
      "Train 50, /glade/scratch/lverhoef/WRF_all/track_data_hrrr_3km_csv_refl/track_step_NCARSTORM_d01_20110522-0000.csv\n",
      "Train 60, /glade/scratch/lverhoef/WRF_all/track_data_hrrr_3km_csv_refl/track_step_NCARSTORM_d01_20110605-0000.csv\n",
      "Train 70, /glade/scratch/lverhoef/WRF_all/track_data_hrrr_3km_csv_refl/track_step_NCARSTORM_d01_20110615-0000.csv\n",
      "Train 80, /glade/scratch/lverhoef/WRF_all/track_data_hrrr_3km_csv_refl/track_step_NCARSTORM_d01_20110625-0000.csv\n",
      "Train 90, /glade/scratch/lverhoef/WRF_all/track_data_hrrr_3km_csv_refl/track_step_NCARSTORM_d01_20110712-0000.csv\n",
      "Train 100, /glade/scratch/lverhoef/WRF_all/track_data_hrrr_3km_csv_refl/track_step_NCARSTORM_d01_20120218-0000.csv\n",
      "Validation 105, /glade/scratch/lverhoef/WRF_all/track_data_hrrr_3km_csv_refl/track_step_NCARSTORM_d01_20120315-0000.csv\n",
      "Validation 115, /glade/scratch/lverhoef/WRF_all/track_data_hrrr_3km_csv_refl/track_step_NCARSTORM_d01_20120401-0000.csv\n",
      "Test 120, /glade/scratch/lverhoef/WRF_all/track_data_hrrr_3km_csv_refl/track_step_NCARSTORM_d01_20120409-0000.csv\n",
      "Test 130, /glade/scratch/lverhoef/WRF_all/track_data_hrrr_3km_csv_refl/track_step_NCARSTORM_d01_20120503-0000.csv\n",
      "Test 140, /glade/scratch/lverhoef/WRF_all/track_data_hrrr_3km_csv_refl/track_step_NCARSTORM_d01_20120529-0000.csv\n"
     ]
    },
    {
     "name": "stderr",
     "output_type": "stream",
     "text": [
      "2022-10-11 12:12:03.407211: I tensorflow/core/platform/cpu_feature_guard.cc:193] This TensorFlow binary is optimized with oneAPI Deep Neural Network Library (oneDNN) to use the following CPU instructions in performance-critical operations:  AVX2 AVX512F AVX512_VNNI FMA\n",
      "To enable them in other operations, rebuild TensorFlow with the appropriate compiler flags.\n",
      "2022-10-11 12:12:03.903583: I tensorflow/core/common_runtime/gpu/gpu_device.cc:1532] Created device /job:localhost/replica:0/task:0/device:GPU:0 with 30988 MB memory:  -> device: 0, name: Tesla V100-SXM2-32GB, pci bus id: 0000:8a:00.0, compute capability: 7.0\n"
     ]
    },
    {
     "name": "stdout",
     "output_type": "stream",
     "text": [
      "WARNING:tensorflow:Keras is training/fitting/evaluating on array-like data. Keras may not be optimized for this format, so if your input data format is supported by TensorFlow I/O (https://github.com/tensorflow/io) we recommend using that to load a Dataset instead.\n",
      "Epoch 1/10\n"
     ]
    },
    {
     "name": "stderr",
     "output_type": "stream",
     "text": [
      "2022-10-11 12:12:09.275160: I tensorflow/stream_executor/cuda/cuda_dnn.cc:384] Loaded cuDNN version 8100\n"
     ]
    },
    {
     "name": "stdout",
     "output_type": "stream",
     "text": [
      "1065/1065 [==============================] - ETA: 0s - loss: 0.3133WARNING:tensorflow:Keras is training/fitting/evaluating on array-like data. Keras may not be optimized for this format, so if your input data format is supported by TensorFlow I/O (https://github.com/tensorflow/io) we recommend using that to load a Dataset instead.\n",
      "1065/1065 [==============================] - 81s 70ms/step - loss: 0.3133 - val_loss: 0.1479\n",
      "Epoch 2/10\n",
      "1065/1065 [==============================] - 75s 70ms/step - loss: 0.1315 - val_loss: 0.0687\n",
      "Epoch 3/10\n",
      "1065/1065 [==============================] - 75s 70ms/step - loss: 0.0901 - val_loss: 0.1456\n",
      "Epoch 4/10\n",
      "1065/1065 [==============================] - 74s 70ms/step - loss: 0.0702 - val_loss: 0.3265\n",
      "Epoch 5/10\n",
      "1065/1065 [==============================] - 74s 70ms/step - loss: 0.0551 - val_loss: 0.2744\n",
      "Epoch 6/10\n",
      "1065/1065 [==============================] - 74s 70ms/step - loss: 0.0452 - val_loss: 0.0732\n",
      "Epoch 7/10\n",
      "1065/1065 [==============================] - 74s 70ms/step - loss: 0.0391 - val_loss: 0.0454\n",
      "Epoch 8/10\n",
      "1065/1065 [==============================] - 74s 70ms/step - loss: 0.0333 - val_loss: 0.0448\n",
      "Epoch 9/10\n",
      "1065/1065 [==============================] - 74s 70ms/step - loss: 0.0307 - val_loss: 0.0504\n",
      "Epoch 10/10\n",
      "1065/1065 [==============================] - 75s 70ms/step - loss: 0.0263 - val_loss: 0.0445\n"
     ]
    }
   ],
   "source": [
    "results = obj.train(None, conf)"
   ]
  },
  {
   "cell_type": "code",
   "execution_count": 6,
   "id": "7ed64925-1467-4075-9f39-3c3d20c73d12",
   "metadata": {},
   "outputs": [
    {
     "data": {
      "text/plain": [
       "{'train_loss': [0.31334012746810913,\n",
       "  0.13149206340312958,\n",
       "  0.09012341499328613,\n",
       "  0.07022498548030853,\n",
       "  0.05513041839003563,\n",
       "  0.0452326200902462,\n",
       "  0.039117977023124695,\n",
       "  0.033296894282102585,\n",
       "  0.03067406825721264,\n",
       "  0.026333706453442574],\n",
       " 'val_loss': [0.14792758226394653,\n",
       "  0.06866226345300674,\n",
       "  0.14564582705497742,\n",
       "  0.32646283507347107,\n",
       "  0.27439603209495544,\n",
       "  0.07316446304321289,\n",
       "  0.04537786543369293,\n",
       "  0.04476849362254143,\n",
       "  0.050448134541511536,\n",
       "  0.04448574408888817],\n",
       " 'val_loss_best': 0.04448574408888817,\n",
       " 'tot_time': 751.9400686956942}"
      ]
     },
     "execution_count": 6,
     "metadata": {},
     "output_type": "execute_result"
    }
   ],
   "source": [
    "results"
   ]
  },
  {
   "cell_type": "code",
   "execution_count": null,
   "id": "8c254eb8-4157-4243-9ed7-5aebb15fb7fa",
   "metadata": {},
   "outputs": [],
   "source": [
    "751 // 60"
   ]
  }
 ],
 "metadata": {
  "kernelspec": {
   "display_name": "Python [conda env:.conda-storm-mode]",
   "language": "python",
   "name": "conda-env-.conda-storm-mode-py"
  },
  "language_info": {
   "codemirror_mode": {
    "name": "ipython",
    "version": 3
   },
   "file_extension": ".py",
   "mimetype": "text/x-python",
   "name": "python",
   "nbconvert_exporter": "python",
   "pygments_lexer": "ipython3",
   "version": "3.10.4"
  }
 },
 "nbformat": 4,
 "nbformat_minor": 5
}
